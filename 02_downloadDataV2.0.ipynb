{
 "cells": [
  {
   "cell_type": "markdown",
   "metadata": {
    "id": "KOdhx8z5YURF"
   },
   "source": [
    "## Descarga y formatting del CSV de los datos"
   ]
  },
  {
   "cell_type": "code",
   "execution_count": 7,
   "metadata": {},
   "outputs": [
    {
     "name": "stdout",
     "output_type": "stream",
     "text": [
      "Requirement already satisfied: pip in /Library/Frameworks/Python.framework/Versions/3.12/lib/python3.12/site-packages (24.3.1)\n",
      "Note: you may need to restart the kernel to use updated packages.\n",
      "Collecting opencv-python\n",
      "  Using cached opencv_python-4.11.0.86-cp37-abi3-macosx_13_0_arm64.whl.metadata (20 kB)\n",
      "Requirement already satisfied: numpy in /Library/Frameworks/Python.framework/Versions/3.12/lib/python3.12/site-packages (2.0.2)\n",
      "Requirement already satisfied: pandas in /Library/Frameworks/Python.framework/Versions/3.12/lib/python3.12/site-packages (2.2.3)\n",
      "Collecting imageio\n",
      "  Using cached imageio-2.37.0-py3-none-any.whl.metadata (5.2 kB)\n",
      "Requirement already satisfied: tqdm in /Library/Frameworks/Python.framework/Versions/3.12/lib/python3.12/site-packages (4.67.0)\n",
      "Requirement already satisfied: python-dateutil>=2.8.2 in /Library/Frameworks/Python.framework/Versions/3.12/lib/python3.12/site-packages (from pandas) (2.9.0.post0)\n",
      "Requirement already satisfied: pytz>=2020.1 in /Library/Frameworks/Python.framework/Versions/3.12/lib/python3.12/site-packages (from pandas) (2024.2)\n",
      "Requirement already satisfied: tzdata>=2022.7 in /Library/Frameworks/Python.framework/Versions/3.12/lib/python3.12/site-packages (from pandas) (2024.2)\n",
      "Requirement already satisfied: pillow>=8.3.2 in /Library/Frameworks/Python.framework/Versions/3.12/lib/python3.12/site-packages (from imageio) (10.4.0)\n",
      "Requirement already satisfied: six>=1.5 in /Library/Frameworks/Python.framework/Versions/3.12/lib/python3.12/site-packages (from python-dateutil>=2.8.2->pandas) (1.16.0)\n",
      "Using cached opencv_python-4.11.0.86-cp37-abi3-macosx_13_0_arm64.whl (37.3 MB)\n",
      "Using cached imageio-2.37.0-py3-none-any.whl (315 kB)\n",
      "Installing collected packages: opencv-python, imageio\n",
      "Successfully installed imageio-2.37.0 opencv-python-4.11.0.86\n",
      "Note: you may need to restart the kernel to use updated packages.\n"
     ]
    }
   ],
   "source": [
    "%pip install --upgrade pip\n",
    "%pip install opencv-python numpy pandas imageio tqdm\n"
   ]
  },
  {
   "cell_type": "code",
   "execution_count": 13,
   "metadata": {
    "id": "9WYBx-YiYuRF"
   },
   "outputs": [],
   "source": [
    "import cv2\n",
    "import numpy\n",
    "import pandas\n",
    "import imageio.v3 as io\n",
    "import pandas as pd\n",
    "from tqdm import tqdm\n",
    "from typing import Optional, Union"
   ]
  },
  {
   "cell_type": "code",
   "execution_count": 10,
   "metadata": {
    "colab": {
     "base_uri": "https://localhost:8080/",
     "height": 1000
    },
    "id": "jkd5AKJ0Y3vl",
    "outputId": "c6b1fb97-63ba-4210-f19d-0e04d67f236a"
   },
   "outputs": [
    {
     "data": {
      "text/html": [
       "<div>\n",
       "<style scoped>\n",
       "    .dataframe tbody tr th:only-of-type {\n",
       "        vertical-align: middle;\n",
       "    }\n",
       "\n",
       "    .dataframe tbody tr th {\n",
       "        vertical-align: top;\n",
       "    }\n",
       "\n",
       "    .dataframe thead th {\n",
       "        text-align: right;\n",
       "    }\n",
       "</style>\n",
       "<table border=\"1\" class=\"dataframe\">\n",
       "  <thead>\n",
       "    <tr style=\"text-align: right;\">\n",
       "      <th></th>\n",
       "      <th>id</th>\n",
       "      <th>listing_url</th>\n",
       "      <th>scrape_id</th>\n",
       "      <th>last_scraped</th>\n",
       "      <th>source</th>\n",
       "      <th>picture_url</th>\n",
       "      <th>host_id</th>\n",
       "      <th>host_url</th>\n",
       "      <th>host_name</th>\n",
       "      <th>host_since</th>\n",
       "      <th>...</th>\n",
       "      <th>review_scores_communication</th>\n",
       "      <th>review_scores_location</th>\n",
       "      <th>review_scores_value</th>\n",
       "      <th>license</th>\n",
       "      <th>instant_bookable</th>\n",
       "      <th>calculated_host_listings_count</th>\n",
       "      <th>calculated_host_listings_count_entire_homes</th>\n",
       "      <th>calculated_host_listings_count_private_rooms</th>\n",
       "      <th>calculated_host_listings_count_shared_rooms</th>\n",
       "      <th>reviews_per_month</th>\n",
       "    </tr>\n",
       "  </thead>\n",
       "  <tbody>\n",
       "    <tr>\n",
       "      <th>0</th>\n",
       "      <td>3781</td>\n",
       "      <td>https://www.airbnb.com/rooms/3781</td>\n",
       "      <td>20231218233145</td>\n",
       "      <td>2023-12-19</td>\n",
       "      <td>city scrape</td>\n",
       "      <td>https://a0.muscache.com/pictures/24670/b2de044...</td>\n",
       "      <td>4804</td>\n",
       "      <td>https://www.airbnb.com/users/show/4804</td>\n",
       "      <td>Frank</td>\n",
       "      <td>2008-12-03</td>\n",
       "      <td>...</td>\n",
       "      <td>4.96</td>\n",
       "      <td>4.88</td>\n",
       "      <td>4.92</td>\n",
       "      <td>NaN</td>\n",
       "      <td>f</td>\n",
       "      <td>1</td>\n",
       "      <td>1</td>\n",
       "      <td>0</td>\n",
       "      <td>0</td>\n",
       "      <td>0.23</td>\n",
       "    </tr>\n",
       "    <tr>\n",
       "      <th>1</th>\n",
       "      <td>5506</td>\n",
       "      <td>https://www.airbnb.com/rooms/5506</td>\n",
       "      <td>20231218233145</td>\n",
       "      <td>2023-12-19</td>\n",
       "      <td>city scrape</td>\n",
       "      <td>https://a0.muscache.com/pictures/miso/Hosting-...</td>\n",
       "      <td>8229</td>\n",
       "      <td>https://www.airbnb.com/users/show/8229</td>\n",
       "      <td>Terry</td>\n",
       "      <td>2009-02-19</td>\n",
       "      <td>...</td>\n",
       "      <td>4.89</td>\n",
       "      <td>4.55</td>\n",
       "      <td>4.75</td>\n",
       "      <td>STR-490093</td>\n",
       "      <td>f</td>\n",
       "      <td>10</td>\n",
       "      <td>10</td>\n",
       "      <td>0</td>\n",
       "      <td>0</td>\n",
       "      <td>0.68</td>\n",
       "    </tr>\n",
       "    <tr>\n",
       "      <th>2</th>\n",
       "      <td>6695</td>\n",
       "      <td>https://www.airbnb.com/rooms/6695</td>\n",
       "      <td>20231218233145</td>\n",
       "      <td>2023-12-19</td>\n",
       "      <td>city scrape</td>\n",
       "      <td>https://a0.muscache.com/pictures/38ac4797-e7a4...</td>\n",
       "      <td>8229</td>\n",
       "      <td>https://www.airbnb.com/users/show/8229</td>\n",
       "      <td>Terry</td>\n",
       "      <td>2009-02-19</td>\n",
       "      <td>...</td>\n",
       "      <td>4.95</td>\n",
       "      <td>4.51</td>\n",
       "      <td>4.71</td>\n",
       "      <td>STR-491702</td>\n",
       "      <td>f</td>\n",
       "      <td>10</td>\n",
       "      <td>10</td>\n",
       "      <td>0</td>\n",
       "      <td>0</td>\n",
       "      <td>0.73</td>\n",
       "    </tr>\n",
       "    <tr>\n",
       "      <th>3</th>\n",
       "      <td>8789</td>\n",
       "      <td>https://www.airbnb.com/rooms/8789</td>\n",
       "      <td>20231218233145</td>\n",
       "      <td>2023-12-19</td>\n",
       "      <td>city scrape</td>\n",
       "      <td>https://a0.muscache.com/pictures/miso/Hosting-...</td>\n",
       "      <td>26988</td>\n",
       "      <td>https://www.airbnb.com/users/show/26988</td>\n",
       "      <td>Anne</td>\n",
       "      <td>2009-07-22</td>\n",
       "      <td>...</td>\n",
       "      <td>4.96</td>\n",
       "      <td>4.96</td>\n",
       "      <td>4.56</td>\n",
       "      <td>NaN</td>\n",
       "      <td>f</td>\n",
       "      <td>9</td>\n",
       "      <td>9</td>\n",
       "      <td>0</td>\n",
       "      <td>0</td>\n",
       "      <td>0.24</td>\n",
       "    </tr>\n",
       "    <tr>\n",
       "      <th>4</th>\n",
       "      <td>10813</td>\n",
       "      <td>https://www.airbnb.com/rooms/10813</td>\n",
       "      <td>20231218233145</td>\n",
       "      <td>2023-12-19</td>\n",
       "      <td>city scrape</td>\n",
       "      <td>https://a0.muscache.com/pictures/20b5b9c9-e1f4...</td>\n",
       "      <td>38997</td>\n",
       "      <td>https://www.airbnb.com/users/show/38997</td>\n",
       "      <td>Michelle</td>\n",
       "      <td>2009-09-16</td>\n",
       "      <td>...</td>\n",
       "      <td>5.00</td>\n",
       "      <td>5.00</td>\n",
       "      <td>4.80</td>\n",
       "      <td>NaN</td>\n",
       "      <td>f</td>\n",
       "      <td>11</td>\n",
       "      <td>11</td>\n",
       "      <td>0</td>\n",
       "      <td>0</td>\n",
       "      <td>0.09</td>\n",
       "    </tr>\n",
       "    <tr>\n",
       "      <th>...</th>\n",
       "      <td>...</td>\n",
       "      <td>...</td>\n",
       "      <td>...</td>\n",
       "      <td>...</td>\n",
       "      <td>...</td>\n",
       "      <td>...</td>\n",
       "      <td>...</td>\n",
       "      <td>...</td>\n",
       "      <td>...</td>\n",
       "      <td>...</td>\n",
       "      <td>...</td>\n",
       "      <td>...</td>\n",
       "      <td>...</td>\n",
       "      <td>...</td>\n",
       "      <td>...</td>\n",
       "      <td>...</td>\n",
       "      <td>...</td>\n",
       "      <td>...</td>\n",
       "      <td>...</td>\n",
       "      <td>...</td>\n",
       "      <td>...</td>\n",
       "    </tr>\n",
       "    <tr>\n",
       "      <th>7194</th>\n",
       "      <td>1046563598019556549</td>\n",
       "      <td>https://www.airbnb.com/rooms/1046563598019556549</td>\n",
       "      <td>20231218233145</td>\n",
       "      <td>2023-12-19</td>\n",
       "      <td>city scrape</td>\n",
       "      <td>https://a0.muscache.com/pictures/prohost-api/H...</td>\n",
       "      <td>212359760</td>\n",
       "      <td>https://www.airbnb.com/users/show/212359760</td>\n",
       "      <td>Evonify</td>\n",
       "      <td>2018-08-29</td>\n",
       "      <td>...</td>\n",
       "      <td>5.00</td>\n",
       "      <td>5.00</td>\n",
       "      <td>5.00</td>\n",
       "      <td>Exempt: This listing is a unit that has contra...</td>\n",
       "      <td>f</td>\n",
       "      <td>77</td>\n",
       "      <td>77</td>\n",
       "      <td>0</td>\n",
       "      <td>0</td>\n",
       "      <td>1.00</td>\n",
       "    </tr>\n",
       "    <tr>\n",
       "      <th>7195</th>\n",
       "      <td>1046568292864752336</td>\n",
       "      <td>https://www.airbnb.com/rooms/1046568292864752336</td>\n",
       "      <td>20231218233145</td>\n",
       "      <td>2023-12-19</td>\n",
       "      <td>city scrape</td>\n",
       "      <td>https://a0.muscache.com/pictures/prohost-api/H...</td>\n",
       "      <td>212359760</td>\n",
       "      <td>https://www.airbnb.com/users/show/212359760</td>\n",
       "      <td>Evonify</td>\n",
       "      <td>2018-08-29</td>\n",
       "      <td>...</td>\n",
       "      <td>NaN</td>\n",
       "      <td>NaN</td>\n",
       "      <td>NaN</td>\n",
       "      <td>Exempt: This listing is a unit that has contra...</td>\n",
       "      <td>f</td>\n",
       "      <td>77</td>\n",
       "      <td>77</td>\n",
       "      <td>0</td>\n",
       "      <td>0</td>\n",
       "      <td>NaN</td>\n",
       "    </tr>\n",
       "    <tr>\n",
       "      <th>7196</th>\n",
       "      <td>1047166785349446101</td>\n",
       "      <td>https://www.airbnb.com/rooms/1047166785349446101</td>\n",
       "      <td>20231218233145</td>\n",
       "      <td>2023-12-19</td>\n",
       "      <td>city scrape</td>\n",
       "      <td>https://a0.muscache.com/pictures/miso/Hosting-...</td>\n",
       "      <td>233908696</td>\n",
       "      <td>https://www.airbnb.com/users/show/233908696</td>\n",
       "      <td>Together We</td>\n",
       "      <td>2019-01-02</td>\n",
       "      <td>...</td>\n",
       "      <td>NaN</td>\n",
       "      <td>NaN</td>\n",
       "      <td>NaN</td>\n",
       "      <td>STR-531165</td>\n",
       "      <td>t</td>\n",
       "      <td>2</td>\n",
       "      <td>2</td>\n",
       "      <td>0</td>\n",
       "      <td>0</td>\n",
       "      <td>NaN</td>\n",
       "    </tr>\n",
       "    <tr>\n",
       "      <th>7197</th>\n",
       "      <td>1047226383263246733</td>\n",
       "      <td>https://www.airbnb.com/rooms/1047226383263246733</td>\n",
       "      <td>20231218233145</td>\n",
       "      <td>2023-12-19</td>\n",
       "      <td>city scrape</td>\n",
       "      <td>https://a0.muscache.com/pictures/prohost-api/H...</td>\n",
       "      <td>212359760</td>\n",
       "      <td>https://www.airbnb.com/users/show/212359760</td>\n",
       "      <td>Evonify</td>\n",
       "      <td>2018-08-29</td>\n",
       "      <td>...</td>\n",
       "      <td>NaN</td>\n",
       "      <td>NaN</td>\n",
       "      <td>NaN</td>\n",
       "      <td>Exempt: This listing is a unit that has contra...</td>\n",
       "      <td>f</td>\n",
       "      <td>77</td>\n",
       "      <td>77</td>\n",
       "      <td>0</td>\n",
       "      <td>0</td>\n",
       "      <td>NaN</td>\n",
       "    </tr>\n",
       "    <tr>\n",
       "      <th>7198</th>\n",
       "      <td>1048051750111422883</td>\n",
       "      <td>https://www.airbnb.com/rooms/1048051750111422883</td>\n",
       "      <td>20231218233145</td>\n",
       "      <td>2023-12-19</td>\n",
       "      <td>city scrape</td>\n",
       "      <td>https://a0.muscache.com/pictures/e53f88a5-f860...</td>\n",
       "      <td>108724738</td>\n",
       "      <td>https://www.airbnb.com/users/show/108724738</td>\n",
       "      <td>Diogo</td>\n",
       "      <td>2016-12-27</td>\n",
       "      <td>...</td>\n",
       "      <td>NaN</td>\n",
       "      <td>NaN</td>\n",
       "      <td>NaN</td>\n",
       "      <td>STR-546808</td>\n",
       "      <td>f</td>\n",
       "      <td>6</td>\n",
       "      <td>6</td>\n",
       "      <td>0</td>\n",
       "      <td>0</td>\n",
       "      <td>NaN</td>\n",
       "    </tr>\n",
       "  </tbody>\n",
       "</table>\n",
       "<p>7199 rows × 72 columns</p>\n",
       "</div>"
      ],
      "text/plain": [
       "                       id                                       listing_url  \\\n",
       "0                    3781                 https://www.airbnb.com/rooms/3781   \n",
       "1                    5506                 https://www.airbnb.com/rooms/5506   \n",
       "2                    6695                 https://www.airbnb.com/rooms/6695   \n",
       "3                    8789                 https://www.airbnb.com/rooms/8789   \n",
       "4                   10813                https://www.airbnb.com/rooms/10813   \n",
       "...                   ...                                               ...   \n",
       "7194  1046563598019556549  https://www.airbnb.com/rooms/1046563598019556549   \n",
       "7195  1046568292864752336  https://www.airbnb.com/rooms/1046568292864752336   \n",
       "7196  1047166785349446101  https://www.airbnb.com/rooms/1047166785349446101   \n",
       "7197  1047226383263246733  https://www.airbnb.com/rooms/1047226383263246733   \n",
       "7198  1048051750111422883  https://www.airbnb.com/rooms/1048051750111422883   \n",
       "\n",
       "           scrape_id last_scraped       source  \\\n",
       "0     20231218233145   2023-12-19  city scrape   \n",
       "1     20231218233145   2023-12-19  city scrape   \n",
       "2     20231218233145   2023-12-19  city scrape   \n",
       "3     20231218233145   2023-12-19  city scrape   \n",
       "4     20231218233145   2023-12-19  city scrape   \n",
       "...              ...          ...          ...   \n",
       "7194  20231218233145   2023-12-19  city scrape   \n",
       "7195  20231218233145   2023-12-19  city scrape   \n",
       "7196  20231218233145   2023-12-19  city scrape   \n",
       "7197  20231218233145   2023-12-19  city scrape   \n",
       "7198  20231218233145   2023-12-19  city scrape   \n",
       "\n",
       "                                            picture_url    host_id  \\\n",
       "0     https://a0.muscache.com/pictures/24670/b2de044...       4804   \n",
       "1     https://a0.muscache.com/pictures/miso/Hosting-...       8229   \n",
       "2     https://a0.muscache.com/pictures/38ac4797-e7a4...       8229   \n",
       "3     https://a0.muscache.com/pictures/miso/Hosting-...      26988   \n",
       "4     https://a0.muscache.com/pictures/20b5b9c9-e1f4...      38997   \n",
       "...                                                 ...        ...   \n",
       "7194  https://a0.muscache.com/pictures/prohost-api/H...  212359760   \n",
       "7195  https://a0.muscache.com/pictures/prohost-api/H...  212359760   \n",
       "7196  https://a0.muscache.com/pictures/miso/Hosting-...  233908696   \n",
       "7197  https://a0.muscache.com/pictures/prohost-api/H...  212359760   \n",
       "7198  https://a0.muscache.com/pictures/e53f88a5-f860...  108724738   \n",
       "\n",
       "                                         host_url    host_name  host_since  \\\n",
       "0          https://www.airbnb.com/users/show/4804        Frank  2008-12-03   \n",
       "1          https://www.airbnb.com/users/show/8229        Terry  2009-02-19   \n",
       "2          https://www.airbnb.com/users/show/8229        Terry  2009-02-19   \n",
       "3         https://www.airbnb.com/users/show/26988         Anne  2009-07-22   \n",
       "4         https://www.airbnb.com/users/show/38997     Michelle  2009-09-16   \n",
       "...                                           ...          ...         ...   \n",
       "7194  https://www.airbnb.com/users/show/212359760      Evonify  2018-08-29   \n",
       "7195  https://www.airbnb.com/users/show/212359760      Evonify  2018-08-29   \n",
       "7196  https://www.airbnb.com/users/show/233908696  Together We  2019-01-02   \n",
       "7197  https://www.airbnb.com/users/show/212359760      Evonify  2018-08-29   \n",
       "7198  https://www.airbnb.com/users/show/108724738        Diogo  2016-12-27   \n",
       "\n",
       "      ... review_scores_communication review_scores_location  \\\n",
       "0     ...                        4.96                   4.88   \n",
       "1     ...                        4.89                   4.55   \n",
       "2     ...                        4.95                   4.51   \n",
       "3     ...                        4.96                   4.96   \n",
       "4     ...                        5.00                   5.00   \n",
       "...   ...                         ...                    ...   \n",
       "7194  ...                        5.00                   5.00   \n",
       "7195  ...                         NaN                    NaN   \n",
       "7196  ...                         NaN                    NaN   \n",
       "7197  ...                         NaN                    NaN   \n",
       "7198  ...                         NaN                    NaN   \n",
       "\n",
       "     review_scores_value                                            license  \\\n",
       "0                   4.92                                                NaN   \n",
       "1                   4.75                                         STR-490093   \n",
       "2                   4.71                                         STR-491702   \n",
       "3                   4.56                                                NaN   \n",
       "4                   4.80                                                NaN   \n",
       "...                  ...                                                ...   \n",
       "7194                5.00  Exempt: This listing is a unit that has contra...   \n",
       "7195                 NaN  Exempt: This listing is a unit that has contra...   \n",
       "7196                 NaN                                         STR-531165   \n",
       "7197                 NaN  Exempt: This listing is a unit that has contra...   \n",
       "7198                 NaN                                         STR-546808   \n",
       "\n",
       "     instant_bookable calculated_host_listings_count  \\\n",
       "0                   f                              1   \n",
       "1                   f                             10   \n",
       "2                   f                             10   \n",
       "3                   f                              9   \n",
       "4                   f                             11   \n",
       "...               ...                            ...   \n",
       "7194                f                             77   \n",
       "7195                f                             77   \n",
       "7196                t                              2   \n",
       "7197                f                             77   \n",
       "7198                f                              6   \n",
       "\n",
       "     calculated_host_listings_count_entire_homes  \\\n",
       "0                                              1   \n",
       "1                                             10   \n",
       "2                                             10   \n",
       "3                                              9   \n",
       "4                                             11   \n",
       "...                                          ...   \n",
       "7194                                          77   \n",
       "7195                                          77   \n",
       "7196                                           2   \n",
       "7197                                          77   \n",
       "7198                                           6   \n",
       "\n",
       "     calculated_host_listings_count_private_rooms  \\\n",
       "0                                               0   \n",
       "1                                               0   \n",
       "2                                               0   \n",
       "3                                               0   \n",
       "4                                               0   \n",
       "...                                           ...   \n",
       "7194                                            0   \n",
       "7195                                            0   \n",
       "7196                                            0   \n",
       "7197                                            0   \n",
       "7198                                            0   \n",
       "\n",
       "     calculated_host_listings_count_shared_rooms  reviews_per_month  \n",
       "0                                              0               0.23  \n",
       "1                                              0               0.68  \n",
       "2                                              0               0.73  \n",
       "3                                              0               0.24  \n",
       "4                                              0               0.09  \n",
       "...                                          ...                ...  \n",
       "7194                                           0               1.00  \n",
       "7195                                           0                NaN  \n",
       "7196                                           0                NaN  \n",
       "7197                                           0                NaN  \n",
       "7198                                           0                NaN  \n",
       "\n",
       "[7199 rows x 72 columns]"
      ]
     },
     "execution_count": 10,
     "metadata": {},
     "output_type": "execute_result"
    }
   ],
   "source": [
    "data = pandas.read_csv(\"dataset.csv\", sep = ';')\n",
    "data"
   ]
  },
  {
   "cell_type": "code",
   "execution_count": 12,
   "metadata": {
    "colab": {
     "base_uri": "https://localhost:8080/"
    },
    "id": "GiywEJeHZDQf",
    "outputId": "4110018a-f6a5-414b-f2b3-e0bb7020402d"
   },
   "outputs": [
    {
     "data": {
      "text/plain": [
       "Index(['id', 'listing_url', 'scrape_id', 'last_scraped', 'source',\n",
       "       'picture_url', 'host_id', 'host_url', 'host_name', 'host_since',\n",
       "       'host_location', 'host_about', 'host_response_time',\n",
       "       'host_response_rate', 'host_acceptance_rate', 'host_is_superhost',\n",
       "       'host_thumbnail_url', 'host_picture_url', 'host_neighbourhood',\n",
       "       'host_listings_count', 'host_total_listings_count',\n",
       "       'host_verifications', 'host_has_profile_pic', 'host_identity_verified',\n",
       "       'neighbourhood', 'neighbourhood_cleansed',\n",
       "       'neighbourhood_group_cleansed', 'latitude', 'longitude',\n",
       "       'property_type', 'room_type', 'accommodates', 'bathrooms',\n",
       "       'bathrooms_text', 'bedrooms', 'beds', 'amenities', 'price',\n",
       "       'minimum_nights', 'maximum_nights', 'minimum_minimum_nights',\n",
       "       'maximum_minimum_nights', 'minimum_maximum_nights',\n",
       "       'maximum_maximum_nights', 'minimum_nights_avg_ntm',\n",
       "       'maximum_nights_avg_ntm', 'calendar_updated', 'has_availability',\n",
       "       'availability_30', 'availability_60', 'availability_90',\n",
       "       'availability_365', 'calendar_last_scraped', 'number_of_reviews',\n",
       "       'number_of_reviews_ltm', 'number_of_reviews_l30d', 'first_review',\n",
       "       'last_review', 'review_scores_rating', 'review_scores_accuracy',\n",
       "       'review_scores_cleanliness', 'review_scores_checkin',\n",
       "       'review_scores_communication', 'review_scores_location',\n",
       "       'review_scores_value', 'license', 'instant_bookable',\n",
       "       'calculated_host_listings_count',\n",
       "       'calculated_host_listings_count_entire_homes',\n",
       "       'calculated_host_listings_count_private_rooms',\n",
       "       'calculated_host_listings_count_shared_rooms', 'reviews_per_month'],\n",
       "      dtype='object')"
      ]
     },
     "execution_count": 12,
     "metadata": {},
     "output_type": "execute_result"
    }
   ],
   "source": [
    "# ¿De qué variables disponemos?\n",
    "data.columns"
   ]
  },
  {
   "cell_type": "markdown",
   "metadata": {
    "id": "wLV1Sqm-ZUO3"
   },
   "source": [
    "## Descarga de imágenes"
   ]
  },
  {
   "cell_type": "code",
   "execution_count": 15,
   "metadata": {
    "id": "PYU6JbCqZWJV"
   },
   "outputs": [
    {
     "name": "stderr",
     "output_type": "stream",
     "text": [
      "  0%|          | 15/7199 [00:07<1:01:59,  1.93it/s]"
     ]
    },
    {
     "name": "stdout",
     "output_type": "stream",
     "text": [
      "Error en el registro: 77691, URL: https://a0.muscache.com/pictures/18698089/0b22a030_original.jpg\n"
     ]
    },
    {
     "name": "stderr",
     "output_type": "stream",
     "text": [
      "  0%|          | 23/7199 [00:10<46:43,  2.56it/s]  "
     ]
    },
    {
     "name": "stdout",
     "output_type": "stream",
     "text": [
      "Error en el registro: 220676, URL: https://a0.muscache.com/pictures/2143912/1608e26a_original.jpg\n"
     ]
    },
    {
     "name": "stderr",
     "output_type": "stream",
     "text": [
      "  1%|          | 50/7199 [00:22<1:12:49,  1.64it/s]"
     ]
    },
    {
     "name": "stdout",
     "output_type": "stream",
     "text": [
      "Error en el registro: 1130279, URL: https://a0.muscache.com/pictures/miso/Hosting-1130279/original/1ff92114-4883-42f1-90c2-a51fa75140ad.jpeg\n"
     ]
    },
    {
     "name": "stderr",
     "output_type": "stream",
     "text": [
      "  1%|          | 58/7199 [00:25<45:42,  2.60it/s]  "
     ]
    },
    {
     "name": "stdout",
     "output_type": "stream",
     "text": [
      "Error en el registro: 1445064, URL: https://a0.muscache.com/pictures/22175517/62b99022_original.jpg\n"
     ]
    },
    {
     "name": "stderr",
     "output_type": "stream",
     "text": [
      "  1%|          | 83/7199 [00:33<30:32,  3.88it/s]"
     ]
    },
    {
     "name": "stdout",
     "output_type": "stream",
     "text": [
      "Error en el registro: 2381143, URL: https://a0.muscache.com/pictures/miso/Hosting-2381143/original/fe2a01b1-7652-476f-b552-032879da8f04.png\n"
     ]
    },
    {
     "name": "stderr",
     "output_type": "stream",
     "text": [
      "  2%|▏         | 108/7199 [00:47<1:42:57,  1.15it/s]"
     ]
    },
    {
     "name": "stdout",
     "output_type": "stream",
     "text": [
      "Error en el registro: 4000384, URL: https://a0.muscache.com/pictures/c168962e-1a48-461d-a568-3ec4bf9a6c65.jpg\n"
     ]
    },
    {
     "name": "stderr",
     "output_type": "stream",
     "text": [
      "  2%|▏         | 110/7199 [00:48<1:04:36,  1.83it/s]"
     ]
    },
    {
     "name": "stdout",
     "output_type": "stream",
     "text": [
      "Error en el registro: 4090224, URL: https://a0.muscache.com/pictures/miso/Hosting-4090224/original/ab9132a7-8b00-407f-a67a-9100b3c8707f.jpeg\n"
     ]
    },
    {
     "name": "stderr",
     "output_type": "stream",
     "text": [
      "  2%|▏         | 123/7199 [00:56<45:17,  2.60it/s]  "
     ]
    },
    {
     "name": "stdout",
     "output_type": "stream",
     "text": [
      "Error en el registro: 4461846, URL: https://a0.muscache.com/pictures/prohost-api/Hosting-4461846/original/fc197865-7e72-4359-963f-ca4c1ce97bb5.jpeg\n"
     ]
    },
    {
     "name": "stderr",
     "output_type": "stream",
     "text": [
      "  2%|▏         | 135/7199 [01:04<1:12:49,  1.62it/s]"
     ]
    },
    {
     "name": "stdout",
     "output_type": "stream",
     "text": [
      "Error en el registro: 4623114, URL: https://a0.muscache.com/pictures/prohost-api/Hosting-4623114/original/7c8d41af-cbd1-4666-8705-937098a17bf2.jpeg\n"
     ]
    },
    {
     "name": "stderr",
     "output_type": "stream",
     "text": [
      "  2%|▏         | 139/7199 [01:06<48:02,  2.45it/s]  "
     ]
    },
    {
     "name": "stdout",
     "output_type": "stream",
     "text": [
      "Error en el registro: 4662379, URL: https://a0.muscache.com/pictures/90646201/a9cbf501_original.jpg\n",
      "Error en el registro: 4699828, URL: https://a0.muscache.com/pictures/72880628/d3e48f2c_original.jpg\n"
     ]
    },
    {
     "name": "stderr",
     "output_type": "stream",
     "text": [
      "  2%|▏         | 164/7199 [01:20<55:28,  2.11it/s]  "
     ]
    },
    {
     "name": "stdout",
     "output_type": "stream",
     "text": [
      "Error en el registro: 5768819, URL: https://a0.muscache.com/pictures/fc3371ed-197d-4484-bd24-5d2281c9f356.jpg\n"
     ]
    },
    {
     "name": "stderr",
     "output_type": "stream",
     "text": [
      "  3%|▎         | 188/7199 [01:36<57:55,  2.02it/s]  "
     ]
    },
    {
     "name": "stdout",
     "output_type": "stream",
     "text": [
      "Error en el registro: 6646604, URL: https://a0.muscache.com/pictures/miso/Hosting-6646604/original/0f04720b-b742-4aba-b252-2be9080145e9.jpeg\n"
     ]
    },
    {
     "name": "stderr",
     "output_type": "stream",
     "text": [
      "  3%|▎         | 230/7199 [01:58<52:12,  2.22it/s]  "
     ]
    },
    {
     "name": "stdout",
     "output_type": "stream",
     "text": [
      "Error en el registro: 7531700, URL: https://a0.muscache.com/pictures/prohost-api/Hosting-7531700/original/67306117-5e1a-46b6-b1a9-8694dc769b9c.jpeg\n"
     ]
    },
    {
     "name": "stderr",
     "output_type": "stream",
     "text": [
      "  3%|▎         | 239/7199 [02:02<43:09,  2.69it/s]  "
     ]
    },
    {
     "name": "stdout",
     "output_type": "stream",
     "text": [
      "Error en el registro: 7837202, URL: https://a0.muscache.com/pictures/prohost-api/Hosting-7837202/original/37ec70e7-1b6c-415e-8ecf-7f8087aaca6d.jpeg\n"
     ]
    },
    {
     "name": "stderr",
     "output_type": "stream",
     "text": [
      "  4%|▍         | 273/7199 [02:22<1:05:26,  1.76it/s]"
     ]
    },
    {
     "name": "stdout",
     "output_type": "stream",
     "text": [
      "Error en el registro: 8923817, URL: https://a0.muscache.com/pictures/cb235ed0-66b6-4e23-8b32-9ef6bf35e9fb.jpg\n"
     ]
    },
    {
     "name": "stderr",
     "output_type": "stream",
     "text": [
      "  5%|▍         | 343/7199 [02:59<48:58,  2.33it/s]  "
     ]
    },
    {
     "name": "stdout",
     "output_type": "stream",
     "text": [
      "Error en el registro: 12949309, URL: https://a0.muscache.com/pictures/e3f457c4-5f1a-4151-a3c8-e53f161d57fb.jpg\n"
     ]
    },
    {
     "name": "stderr",
     "output_type": "stream",
     "text": [
      "  5%|▍         | 347/7199 [03:01<55:35,  2.05it/s]  "
     ]
    },
    {
     "name": "stdout",
     "output_type": "stream",
     "text": [
      "Error en el registro: 13063952, URL: https://a0.muscache.com/pictures/10f6f3b2-e035-4e51-b533-08531934f3b9.jpg\n"
     ]
    },
    {
     "name": "stderr",
     "output_type": "stream",
     "text": [
      "  5%|▌         | 367/7199 [03:16<1:16:55,  1.48it/s]"
     ]
    },
    {
     "name": "stdout",
     "output_type": "stream",
     "text": [
      "Error en el registro: 13613229, URL: https://a0.muscache.com/pictures/7fef86ac-75ff-44a3-ae8a-60639f1548eb.jpg\n"
     ]
    },
    {
     "name": "stderr",
     "output_type": "stream",
     "text": [
      "  5%|▌         | 369/7199 [03:17<55:19,  2.06it/s]  "
     ]
    },
    {
     "name": "stdout",
     "output_type": "stream",
     "text": [
      "Error en el registro: 13650313, URL: https://a0.muscache.com/pictures/prohost-api/Hosting-13650313/original/1713739f-5d53-45db-aa2e-611c2098615d.jpeg\n"
     ]
    },
    {
     "name": "stderr",
     "output_type": "stream",
     "text": [
      "  5%|▌         | 388/7199 [03:27<48:27,  2.34it/s]  "
     ]
    },
    {
     "name": "stdout",
     "output_type": "stream",
     "text": [
      "Error en el registro: 14229841, URL: https://a0.muscache.com/pictures/prohost-api/Hosting-14229841/original/c611eaeb-4983-4a3c-9525-fcabb3b0fbf5.jpeg\n"
     ]
    },
    {
     "name": "stderr",
     "output_type": "stream",
     "text": [
      "  6%|▌         | 415/7199 [03:42<48:59,  2.31it/s]  "
     ]
    },
    {
     "name": "stdout",
     "output_type": "stream",
     "text": [
      "Error en el registro: 14976039, URL: https://a0.muscache.com/pictures/prohost-api/Hosting-14976039/original/30b560e4-51f7-4f35-9b4d-343aa5074bc2.jpeg\n"
     ]
    },
    {
     "name": "stderr",
     "output_type": "stream",
     "text": [
      "  6%|▌         | 427/7199 [03:48<47:48,  2.36it/s]  "
     ]
    },
    {
     "name": "stdout",
     "output_type": "stream",
     "text": [
      "Error en el registro: 15342021, URL: https://a0.muscache.com/pictures/f805da52-3971-4361-9881-f11775636c63.jpg\n"
     ]
    },
    {
     "name": "stderr",
     "output_type": "stream",
     "text": [
      "  6%|▌         | 434/7199 [03:56<2:00:30,  1.07s/it]"
     ]
    },
    {
     "name": "stdout",
     "output_type": "stream",
     "text": [
      "Error en el registro: 15819226, URL: https://a0.muscache.com/pictures/0d0adcee-76b9-48bc-9dd7-aeca958a23a2.jpg\n"
     ]
    },
    {
     "name": "stderr",
     "output_type": "stream",
     "text": [
      "  6%|▌         | 444/7199 [04:01<47:41,  2.36it/s]  "
     ]
    },
    {
     "name": "stdout",
     "output_type": "stream",
     "text": [
      "Error en el registro: 16148182, URL: https://a0.muscache.com/pictures/22ff0a41-874e-4723-b465-22d234d672e5.jpg\n"
     ]
    },
    {
     "name": "stderr",
     "output_type": "stream",
     "text": [
      "  6%|▋         | 464/7199 [04:14<1:31:41,  1.22it/s]"
     ]
    },
    {
     "name": "stdout",
     "output_type": "stream",
     "text": [
      "Error en el registro: 17023481, URL: https://a0.muscache.com/pictures/prohost-api/Hosting-17023481/original/c66d1dcf-8cae-4a0f-b34d-e8a9da3882ab.jpeg\n"
     ]
    },
    {
     "name": "stderr",
     "output_type": "stream",
     "text": [
      "  6%|▋         | 465/7199 [04:14<1:17:53,  1.44it/s]"
     ]
    },
    {
     "name": "stdout",
     "output_type": "stream",
     "text": [
      "Error en el registro: 17042710, URL: https://a0.muscache.com/pictures/prohost-api/Hosting-17042710/original/0a2e4db0-4940-4a4b-b948-11bef8ec0ed5.jpeg\n"
     ]
    },
    {
     "name": "stderr",
     "output_type": "stream",
     "text": [
      "  7%|▋         | 483/7199 [04:25<1:00:25,  1.85it/s]"
     ]
    },
    {
     "name": "stdout",
     "output_type": "stream",
     "text": [
      "Error en el registro: 17617918, URL: https://a0.muscache.com/pictures/prohost-api/Hosting-17617918/original/aa7f3f57-a69b-439a-941d-5367cf50ef7c.jpeg\n"
     ]
    },
    {
     "name": "stderr",
     "output_type": "stream",
     "text": [
      "  7%|▋         | 494/7199 [04:31<52:20,  2.13it/s]  "
     ]
    },
    {
     "name": "stdout",
     "output_type": "stream",
     "text": [
      "Error en el registro: 17942707, URL: https://a0.muscache.com/pictures/e604dcf8-6900-4b02-9087-91eb98c1691a.jpg\n"
     ]
    },
    {
     "name": "stderr",
     "output_type": "stream",
     "text": [
      "  7%|▋         | 500/7199 [04:34<49:08,  2.27it/s]  "
     ]
    },
    {
     "name": "stdout",
     "output_type": "stream",
     "text": [
      "Error en el registro: 18032982, URL: https://a0.muscache.com/pictures/prohost-api/Hosting-18032982/original/2c71e21b-33cd-4f6a-ae22-287cdeaedfc0.jpeg\n"
     ]
    },
    {
     "name": "stderr",
     "output_type": "stream",
     "text": [
      "  7%|▋         | 503/7199 [04:35<52:09,  2.14it/s]"
     ]
    },
    {
     "name": "stdout",
     "output_type": "stream",
     "text": [
      "Error en el registro: 18170647, URL: https://a0.muscache.com/pictures/miso/Hosting-18170647/original/d7c346d7-a904-4e8c-8356-4de5eb79c60f.jpeg\n"
     ]
    },
    {
     "name": "stderr",
     "output_type": "stream",
     "text": [
      "  8%|▊         | 551/7199 [05:08<58:01,  1.91it/s]  "
     ]
    },
    {
     "name": "stdout",
     "output_type": "stream",
     "text": [
      "Error en el registro: 19969497, URL: https://a0.muscache.com/pictures/miso/Hosting-19969497/original/2a822aed-e88f-4676-b990-1a719a44c0b4.jpeg\n"
     ]
    },
    {
     "name": "stderr",
     "output_type": "stream",
     "text": [
      "  8%|▊         | 603/7199 [05:48<43:36,  2.52it/s]  "
     ]
    },
    {
     "name": "stdout",
     "output_type": "stream",
     "text": [
      "Error en el registro: 21596829, URL: https://a0.muscache.com/pictures/4ab44899-6a80-4b45-8671-d42196ed8350.jpg\n"
     ]
    },
    {
     "name": "stderr",
     "output_type": "stream",
     "text": [
      "  9%|▉         | 652/7199 [06:21<54:21,  2.01it/s]  "
     ]
    },
    {
     "name": "stdout",
     "output_type": "stream",
     "text": [
      "Error en el registro: 23289684, URL: https://a0.muscache.com/pictures/aeda0be5-b9b8-48b9-ab3d-dd9053e65734.jpg\n"
     ]
    },
    {
     "name": "stderr",
     "output_type": "stream",
     "text": [
      "  9%|▉         | 674/7199 [06:35<1:07:52,  1.60it/s]"
     ]
    },
    {
     "name": "stdout",
     "output_type": "stream",
     "text": [
      "Error en el registro: 23841523, URL: https://a0.muscache.com/pictures/9ba55672-3899-4b0e-b3a2-c6c5be9c463c.jpg\n"
     ]
    },
    {
     "name": "stderr",
     "output_type": "stream",
     "text": [
      "  9%|▉         | 677/7199 [06:36<56:07,  1.94it/s]  "
     ]
    },
    {
     "name": "stdout",
     "output_type": "stream",
     "text": [
      "Error en el registro: 23912131, URL: https://a0.muscache.com/pictures/eb441f94-0f0b-4436-943d-f3f2bf5aa164.jpg\n"
     ]
    },
    {
     "name": "stderr",
     "output_type": "stream",
     "text": [
      " 10%|▉         | 692/7199 [06:45<53:24,  2.03it/s]  "
     ]
    },
    {
     "name": "stdout",
     "output_type": "stream",
     "text": [
      "Error en el registro: 24347267, URL: https://a0.muscache.com/pictures/03944a33-597d-4f7c-9e69-271a62f221a6.jpg\n"
     ]
    },
    {
     "name": "stderr",
     "output_type": "stream",
     "text": [
      " 10%|▉         | 696/7199 [06:48<1:03:36,  1.70it/s]"
     ]
    },
    {
     "name": "stdout",
     "output_type": "stream",
     "text": [
      "Error en el registro: 24563107, URL: https://a0.muscache.com/pictures/43b67d11-54b2-4a2b-803e-ce693e25696e.jpg\n"
     ]
    },
    {
     "name": "stderr",
     "output_type": "stream",
     "text": [
      " 10%|▉         | 708/7199 [06:56<56:01,  1.93it/s]  "
     ]
    },
    {
     "name": "stdout",
     "output_type": "stream",
     "text": [
      "Error en el registro: 24944930, URL: https://a0.muscache.com/pictures/75319c2e-294f-48dd-a5e8-76c5a2164d89.jpg\n"
     ]
    },
    {
     "name": "stderr",
     "output_type": "stream",
     "text": [
      " 10%|█         | 736/7199 [07:14<47:14,  2.28it/s]  "
     ]
    },
    {
     "name": "stdout",
     "output_type": "stream",
     "text": [
      "Error en el registro: 26160905, URL: https://a0.muscache.com/pictures/971baba7-a4a1-42c5-b690-b5bb8180cde2.jpg\n"
     ]
    },
    {
     "name": "stderr",
     "output_type": "stream",
     "text": [
      " 11%|█         | 774/7199 [07:38<41:24,  2.59it/s]  "
     ]
    },
    {
     "name": "stdout",
     "output_type": "stream",
     "text": [
      "Error en el registro: 28360335, URL: https://a0.muscache.com/pictures/prohost-api/Hosting-28360335/original/c8d8cd53-ed9e-4831-ba48-a838f2ac2bcf.jpeg\n"
     ]
    },
    {
     "name": "stderr",
     "output_type": "stream",
     "text": [
      " 11%|█▏        | 810/7199 [07:58<43:50,  2.43it/s]  "
     ]
    },
    {
     "name": "stdout",
     "output_type": "stream",
     "text": [
      "Error en el registro: 29682500, URL: https://a0.muscache.com/pictures/pro_photo_tool/Hosting-29682500-unapproved/original/9b8998d9-840b-46b1-a25e-4789ff346f20.JPEG\n"
     ]
    },
    {
     "name": "stderr",
     "output_type": "stream",
     "text": [
      " 11%|█▏        | 811/7199 [07:58<38:43,  2.75it/s]"
     ]
    },
    {
     "name": "stdout",
     "output_type": "stream",
     "text": [
      "Error en el registro: 29702825, URL: https://a0.muscache.com/pictures/prohost-api/Hosting-29702825/original/32a037b0-43f1-4954-946b-9d1364829d04.jpeg\n"
     ]
    },
    {
     "name": "stderr",
     "output_type": "stream",
     "text": [
      " 11%|█▏        | 826/7199 [08:08<51:32,  2.06it/s]  "
     ]
    },
    {
     "name": "stdout",
     "output_type": "stream",
     "text": [
      "Error en el registro: 30180140, URL: https://a0.muscache.com/pictures/48c10d62-5750-4364-9e3a-54439983cb6b.jpg\n"
     ]
    },
    {
     "name": "stderr",
     "output_type": "stream",
     "text": [
      " 12%|█▏        | 828/7199 [08:09<46:15,  2.30it/s]"
     ]
    },
    {
     "name": "stdout",
     "output_type": "stream",
     "text": [
      "Error en el registro: 30268517, URL: https://a0.muscache.com/pictures/9a56c86d-d5f3-4737-a658-1fd9885e8d61.jpg\n"
     ]
    },
    {
     "name": "stderr",
     "output_type": "stream",
     "text": [
      " 12%|█▏        | 832/7199 [08:12<1:04:07,  1.65it/s]"
     ]
    },
    {
     "name": "stdout",
     "output_type": "stream",
     "text": [
      "Error en el registro: 30390378, URL: https://a0.muscache.com/pictures/prohost-api/Hosting-30390378/original/244ec1dc-2c48-4e5e-84cf-fb57110e4bc7.jpeg\n"
     ]
    },
    {
     "name": "stderr",
     "output_type": "stream",
     "text": [
      " 12%|█▏        | 833/7199 [08:13<52:47,  2.01it/s]  "
     ]
    },
    {
     "name": "stdout",
     "output_type": "stream",
     "text": [
      "Error en el registro: 30397078, URL: https://a0.muscache.com/pictures/prohost-api/Hosting-30397078/original/337887d6-4c7c-4550-9f1f-5e4ee671b8f6.jpeg\n"
     ]
    },
    {
     "name": "stderr",
     "output_type": "stream",
     "text": [
      " 12%|█▏        | 836/7199 [08:14<43:28,  2.44it/s]"
     ]
    },
    {
     "name": "stdout",
     "output_type": "stream",
     "text": [
      "Error en el registro: 30516467, URL: https://a0.muscache.com/pictures/prohost-api/Hosting-30516467/original/57a80027-7bdb-4fac-a4dd-5656631425d0.jpeg\n"
     ]
    },
    {
     "name": "stderr",
     "output_type": "stream",
     "text": [
      " 12%|█▏        | 847/7199 [08:20<49:11,  2.15it/s]  "
     ]
    },
    {
     "name": "stdout",
     "output_type": "stream",
     "text": [
      "Error en el registro: 31185088, URL: https://a0.muscache.com/pictures/2ce1fe90-fb8f-4136-afcd-6ecb91a3a624.jpg\n"
     ]
    },
    {
     "name": "stderr",
     "output_type": "stream",
     "text": [
      " 12%|█▏        | 864/7199 [08:30<39:28,  2.67it/s]  "
     ]
    },
    {
     "name": "stdout",
     "output_type": "stream",
     "text": [
      "Error en el registro: 32330465, URL: https://a0.muscache.com/pictures/miso/Hosting-32330465/original/7e2aa39c-61d9-41d8-97aa-393ee35fade9.png\n",
      "Error en el registro: 32330630, URL: https://a0.muscache.com/pictures/b848723a-0ed9-4b49-8c84-9d7eb14ce088.jpg\n"
     ]
    },
    {
     "name": "stderr",
     "output_type": "stream",
     "text": [
      " 12%|█▏        | 883/7199 [08:39<38:59,  2.70it/s]  "
     ]
    },
    {
     "name": "stdout",
     "output_type": "stream",
     "text": [
      "Error en el registro: 33196944, URL: https://a0.muscache.com/pictures/prohost-api/Hosting-33196944/original/bb6a5cd0-7ee6-4465-824d-cd4cb0c5d652.jpeg\n"
     ]
    },
    {
     "name": "stderr",
     "output_type": "stream",
     "text": [
      " 12%|█▏        | 893/7199 [08:44<40:23,  2.60it/s]"
     ]
    },
    {
     "name": "stdout",
     "output_type": "stream",
     "text": [
      "Error en el registro: 33439464, URL: https://a0.muscache.com/pictures/prohost-api/Hosting-33439464/original/97081848-d2c3-47e1-8647-ac8af1c3f6dc.jpeg\n"
     ]
    },
    {
     "name": "stderr",
     "output_type": "stream",
     "text": [
      " 12%|█▏        | 894/7199 [08:44<36:35,  2.87it/s]"
     ]
    },
    {
     "name": "stdout",
     "output_type": "stream",
     "text": [
      "Error en el registro: 33440102, URL: https://a0.muscache.com/pictures/prohost-api/Hosting-33440102/original/9c6d9fa6-c962-4f7c-b69f-898bdd560ea4.jpeg\n"
     ]
    },
    {
     "name": "stderr",
     "output_type": "stream",
     "text": [
      " 12%|█▏        | 897/7199 [08:45<44:24,  2.37it/s]"
     ]
    },
    {
     "name": "stdout",
     "output_type": "stream",
     "text": [
      "Error en el registro: 33530646, URL: https://a0.muscache.com/pictures/a8cdc116-e934-4b9f-b8f2-91b8d69343b9.jpg\n"
     ]
    },
    {
     "name": "stderr",
     "output_type": "stream",
     "text": [
      " 13%|█▎        | 908/7199 [08:52<45:05,  2.33it/s]  "
     ]
    },
    {
     "name": "stdout",
     "output_type": "stream",
     "text": [
      "Error en el registro: 34133759, URL: https://a0.muscache.com/pictures/prohost-api/Hosting-34133759/original/1dc53195-b06f-4fed-a860-92e1718bdccb.jpeg\n"
     ]
    },
    {
     "name": "stderr",
     "output_type": "stream",
     "text": [
      " 13%|█▎        | 919/7199 [08:58<52:52,  1.98it/s]  "
     ]
    },
    {
     "name": "stdout",
     "output_type": "stream",
     "text": [
      "Error en el registro: 34974052, URL: https://a0.muscache.com/pictures/prohost-api/Hosting-34974052/original/80db035e-1445-4ce8-8314-e9175130884b.jpeg\n"
     ]
    },
    {
     "name": "stderr",
     "output_type": "stream",
     "text": [
      " 13%|█▎        | 933/7199 [09:07<55:05,  1.90it/s]  "
     ]
    },
    {
     "name": "stdout",
     "output_type": "stream",
     "text": [
      "Error en el registro: 35481543, URL: https://a0.muscache.com/pictures/prohost-api/Hosting-35481543/original/38658947-e448-49ca-b0b2-607429f1b5b0.jpeg\n"
     ]
    },
    {
     "name": "stderr",
     "output_type": "stream",
     "text": [
      " 14%|█▎        | 979/7199 [09:36<58:27,  1.77it/s]  "
     ]
    },
    {
     "name": "stdout",
     "output_type": "stream",
     "text": [
      "Error en el registro: 37068313, URL: https://a0.muscache.com/pictures/prohost-api/Hosting-37068313/original/c51bac91-f35e-4e1e-bb88-07934499bfdd.jpeg\n"
     ]
    },
    {
     "name": "stderr",
     "output_type": "stream",
     "text": [
      " 14%|█▎        | 987/7199 [09:43<1:20:01,  1.29it/s]"
     ]
    },
    {
     "name": "stdout",
     "output_type": "stream",
     "text": [
      "Error en el registro: 37709158, URL: https://a0.muscache.com/pictures/prohost-api/Hosting-37709158/original/09489cb1-f4c7-436f-a7e8-018a7079c658.jpeg\n"
     ]
    },
    {
     "name": "stderr",
     "output_type": "stream",
     "text": [
      " 14%|█▍        | 1005/7199 [09:56<56:23,  1.83it/s]  "
     ]
    },
    {
     "name": "stdout",
     "output_type": "stream",
     "text": [
      "Error en el registro: 38178173, URL: https://a0.muscache.com/pictures/prohost-api/Hosting-38178173/original/e1b494b8-9fc3-466a-8789-9d3afa032807.jpeg\n"
     ]
    },
    {
     "name": "stderr",
     "output_type": "stream",
     "text": [
      " 14%|█▍        | 1006/7199 [09:56<46:09,  2.24it/s]"
     ]
    },
    {
     "name": "stdout",
     "output_type": "stream",
     "text": [
      "Error en el registro: 38274887, URL: https://a0.muscache.com/pictures/prohost-api/Hosting-38274887/original/ee5fb630-9250-4f85-b0e7-794619ceedf6.jpeg\n"
     ]
    },
    {
     "name": "stderr",
     "output_type": "stream",
     "text": [
      " 14%|█▍        | 1015/7199 [10:01<44:42,  2.31it/s]  "
     ]
    },
    {
     "name": "stdout",
     "output_type": "stream",
     "text": [
      "Error en el registro: 38513768, URL: https://a0.muscache.com/pictures/prohost-api/Hosting-38513768/original/43b5f7ad-a3a1-4019-993f-c5ebe3168d59.jpeg\n"
     ]
    },
    {
     "name": "stderr",
     "output_type": "stream",
     "text": [
      " 14%|█▍        | 1038/7199 [10:14<42:56,  2.39it/s]  "
     ]
    },
    {
     "name": "stdout",
     "output_type": "stream",
     "text": [
      "Error en el registro: 39536784, URL: https://a0.muscache.com/pictures/miso/Hosting-39536784/original/d1c26658-a946-468a-9a39-c6a3dfb23691.jpeg\n"
     ]
    },
    {
     "name": "stderr",
     "output_type": "stream",
     "text": [
      " 15%|█▍        | 1050/7199 [10:20<42:14,  2.43it/s]  "
     ]
    },
    {
     "name": "stdout",
     "output_type": "stream",
     "text": [
      "Error en el registro: 39908091, URL: https://a0.muscache.com/pictures/prohost-api/Hosting-39908091/original/17a09417-8eab-48b1-a21b-904f1837e84f.jpeg\n"
     ]
    },
    {
     "name": "stderr",
     "output_type": "stream",
     "text": [
      " 15%|█▍        | 1064/7199 [10:27<36:32,  2.80it/s]  "
     ]
    },
    {
     "name": "stdout",
     "output_type": "stream",
     "text": [
      "Error en el registro: 40423797, URL: https://a0.muscache.com/pictures/prohost-api/Hosting-40423797/original/374a8e77-d840-480b-ba94-51b8d7337e0c.jpeg\n"
     ]
    },
    {
     "name": "stderr",
     "output_type": "stream",
     "text": [
      " 15%|█▍        | 1076/7199 [10:33<41:02,  2.49it/s]  "
     ]
    },
    {
     "name": "stdout",
     "output_type": "stream",
     "text": [
      "Error en el registro: 40617998, URL: https://a0.muscache.com/pictures/miso/Hosting-40617998/original/6c9424ed-eaca-433f-9099-a9c9782dea58.jpeg\n"
     ]
    },
    {
     "name": "stderr",
     "output_type": "stream",
     "text": [
      " 15%|█▌        | 1092/7199 [10:45<49:34,  2.05it/s]  "
     ]
    },
    {
     "name": "stdout",
     "output_type": "stream",
     "text": [
      "Error en el registro: 41102403, URL: https://a0.muscache.com/pictures/prohost-api/Hosting-41102403/original/da9a9606-9604-4c01-b3ea-c1a3670b78e5.jpeg\n"
     ]
    },
    {
     "name": "stderr",
     "output_type": "stream",
     "text": [
      " 15%|█▌        | 1093/7199 [10:45<42:11,  2.41it/s]"
     ]
    },
    {
     "name": "stdout",
     "output_type": "stream",
     "text": [
      "Error en el registro: 41102476, URL: https://a0.muscache.com/pictures/prohost-api/Hosting-41102476/original/04617580-6650-48c9-8e4c-c00f54156a8c.jpeg\n"
     ]
    },
    {
     "name": "stderr",
     "output_type": "stream",
     "text": [
      " 15%|█▌        | 1103/7199 [10:51<57:37,  1.76it/s]  "
     ]
    },
    {
     "name": "stdout",
     "output_type": "stream",
     "text": [
      "Error en el registro: 41614184, URL: https://a0.muscache.com/pictures/2d4d9af2-32eb-4fdd-8ce7-f2b5bdc94853.jpg\n"
     ]
    },
    {
     "name": "stderr",
     "output_type": "stream",
     "text": [
      " 15%|█▌        | 1107/7199 [10:53<44:06,  2.30it/s]  "
     ]
    },
    {
     "name": "stdout",
     "output_type": "stream",
     "text": [
      "Error en el registro: 41765021, URL: https://a0.muscache.com/pictures/ee7985b8-9db3-4c5c-9143-b1ff052dd862.jpg\n",
      "Error en el registro: 41785374, URL: https://a0.muscache.com/pictures/prohost-api/Hosting-41785374/original/61a91ae7-d44c-4914-8abd-db076afedf4f.jpeg\n"
     ]
    },
    {
     "name": "stderr",
     "output_type": "stream",
     "text": [
      " 15%|█▌        | 1108/7199 [10:53<37:53,  2.68it/s]"
     ]
    },
    {
     "name": "stdout",
     "output_type": "stream",
     "text": [
      "Error en el registro: 41785889, URL: https://a0.muscache.com/pictures/prohost-api/Hosting-41785889/original/8f975c1d-488b-432e-81ee-cdb79c1c02aa.jpeg\n"
     ]
    },
    {
     "name": "stderr",
     "output_type": "stream",
     "text": [
      " 15%|█▌        | 1110/7199 [10:54<32:58,  3.08it/s]"
     ]
    },
    {
     "name": "stdout",
     "output_type": "stream",
     "text": [
      "Error en el registro: 41903226, URL: https://a0.muscache.com/pictures/prohost-api/Hosting-41903226/original/7a269ac9-2f1b-4602-8bdf-4ff24a9a6777.jpeg\n"
     ]
    },
    {
     "name": "stderr",
     "output_type": "stream",
     "text": [
      " 15%|█▌        | 1112/7199 [10:54<29:48,  3.40it/s]"
     ]
    },
    {
     "name": "stdout",
     "output_type": "stream",
     "text": [
      "Error en el registro: 41925155, URL: https://a0.muscache.com/pictures/prohost-api/Hosting-41925155/original/2ea402f5-82d2-4893-99cf-0d6ceca7f403.jpeg\n"
     ]
    },
    {
     "name": "stderr",
     "output_type": "stream",
     "text": [
      " 15%|█▌        | 1115/7199 [10:55<30:50,  3.29it/s]"
     ]
    },
    {
     "name": "stdout",
     "output_type": "stream",
     "text": [
      "Error en el registro: 41953347, URL: https://a0.muscache.com/pictures/prohost-api/Hosting-41953347/original/920668ea-3248-402a-a2f4-e85a90c92ca1.jpeg\n"
     ]
    },
    {
     "name": "stderr",
     "output_type": "stream",
     "text": [
      " 16%|█▌        | 1116/7199 [10:56<29:36,  3.42it/s]"
     ]
    },
    {
     "name": "stdout",
     "output_type": "stream",
     "text": [
      "Error en el registro: 41953381, URL: https://a0.muscache.com/pictures/prohost-api/Hosting-41953381/original/1dfc0495-f723-4331-8a89-4ac4d88edd0c.jpeg\n"
     ]
    },
    {
     "name": "stderr",
     "output_type": "stream",
     "text": [
      " 16%|█▌        | 1121/7199 [10:59<44:00,  2.30it/s]  "
     ]
    },
    {
     "name": "stdout",
     "output_type": "stream",
     "text": [
      "Error en el registro: 42080174, URL: https://a0.muscache.com/pictures/prohost-api/Hosting-42080174/original/70a61753-d83a-4323-b5be-66365f32d0af.jpeg\n"
     ]
    },
    {
     "name": "stderr",
     "output_type": "stream",
     "text": [
      " 16%|█▌        | 1122/7199 [10:59<57:46,  1.75it/s]"
     ]
    },
    {
     "name": "stdout",
     "output_type": "stream",
     "text": [
      "Error en el registro: 42080205, URL: https://a0.muscache.com/pictures/prohost-api/Hosting-42080205/original/180c0cef-eb46-4641-a6be-71872fc644ee.jpeg\n"
     ]
    },
    {
     "name": "stderr",
     "output_type": "stream",
     "text": [
      " 16%|█▌        | 1123/7199 [11:00<46:48,  2.16it/s]"
     ]
    },
    {
     "name": "stdout",
     "output_type": "stream",
     "text": [
      "Error en el registro: 42195053, URL: https://a0.muscache.com/pictures/prohost-api/Hosting-42195053/original/66a57514-4d25-4268-815b-68465adc5717.jpeg\n"
     ]
    },
    {
     "name": "stderr",
     "output_type": "stream",
     "text": [
      " 16%|█▌        | 1134/7199 [11:06<54:50,  1.84it/s]  "
     ]
    },
    {
     "name": "stdout",
     "output_type": "stream",
     "text": [
      "Error en el registro: 42708089, URL: https://a0.muscache.com/pictures/prohost-api/Hosting-42708089/original/63e58680-832d-47de-b782-380659efda4c.jpeg\n"
     ]
    },
    {
     "name": "stderr",
     "output_type": "stream",
     "text": [
      " 16%|█▌        | 1135/7199 [11:11<3:14:55,  1.93s/it]"
     ]
    },
    {
     "name": "stdout",
     "output_type": "stream",
     "text": [
      "Error en el registro: 42708127, URL: https://a0.muscache.com/pictures/prohost-api/Hosting-42708127/original/91eae4b5-4a53-444e-bbe9-db37ae477471.jpeg\n"
     ]
    },
    {
     "name": "stderr",
     "output_type": "stream",
     "text": [
      " 16%|█▌        | 1136/7199 [11:12<2:32:48,  1.51s/it]"
     ]
    },
    {
     "name": "stdout",
     "output_type": "stream",
     "text": [
      "Error en el registro: 42708174, URL: https://a0.muscache.com/pictures/prohost-api/Hosting-42708174/original/250bd918-a4d8-46d0-8bc9-e9a46413ec41.jpeg\n"
     ]
    },
    {
     "name": "stderr",
     "output_type": "stream",
     "text": [
      " 16%|█▌        | 1140/7199 [11:13<1:04:10,  1.57it/s]"
     ]
    },
    {
     "name": "stdout",
     "output_type": "stream",
     "text": [
      "Error en el registro: 42774598, URL: https://a0.muscache.com/pictures/miso/Hosting-42774598/original/73da70dc-380f-4d53-b7b3-755c0f255305.png\n"
     ]
    },
    {
     "name": "stderr",
     "output_type": "stream",
     "text": [
      " 16%|█▌        | 1157/7199 [11:21<37:53,  2.66it/s]  "
     ]
    },
    {
     "name": "stdout",
     "output_type": "stream",
     "text": [
      "Error en el registro: 43032465, URL: https://a0.muscache.com/pictures/prohost-api/Hosting-43032465/original/28381099-f671-4471-8727-9e8084e47d4f.jpeg\n"
     ]
    },
    {
     "name": "stderr",
     "output_type": "stream",
     "text": [
      " 16%|█▌        | 1158/7199 [11:22<33:05,  3.04it/s]"
     ]
    },
    {
     "name": "stdout",
     "output_type": "stream",
     "text": [
      "Error en el registro: 43032495, URL: https://a0.muscache.com/pictures/prohost-api/Hosting-43032495/original/58abc83b-2b8c-4176-9d7c-5bf91b42c49f.jpeg\n"
     ]
    },
    {
     "name": "stderr",
     "output_type": "stream",
     "text": [
      " 16%|█▌        | 1164/7199 [11:24<43:42,  2.30it/s]"
     ]
    },
    {
     "name": "stdout",
     "output_type": "stream",
     "text": [
      "Error en el registro: 43121210, URL: https://a0.muscache.com/pictures/prohost-api/Hosting-43121210/original/5f99a7da-d07c-43a4-8e67-92a31abe9695.jpeg\n"
     ]
    },
    {
     "name": "stderr",
     "output_type": "stream",
     "text": [
      " 16%|█▋        | 1171/7199 [11:28<50:03,  2.01it/s]  "
     ]
    },
    {
     "name": "stdout",
     "output_type": "stream",
     "text": [
      "Error en el registro: 43301136, URL: https://a0.muscache.com/pictures/prohost-api/Hosting-43301136/original/373cca92-f25a-4d44-a5cb-c2e3c253e2d3.jpeg\n"
     ]
    },
    {
     "name": "stderr",
     "output_type": "stream",
     "text": [
      " 16%|█▋        | 1186/7199 [11:34<38:21,  2.61it/s]"
     ]
    },
    {
     "name": "stdout",
     "output_type": "stream",
     "text": [
      "Error en el registro: 43921666, URL: https://a0.muscache.com/pictures/prohost-api/Hosting-43921666/original/ff08f5f6-d1dd-435e-af2e-c7917dfcdc7d.jpeg\n"
     ]
    },
    {
     "name": "stderr",
     "output_type": "stream",
     "text": [
      " 17%|█▋        | 1190/7199 [11:36<34:45,  2.88it/s]"
     ]
    },
    {
     "name": "stdout",
     "output_type": "stream",
     "text": [
      "Error en el registro: 44053258, URL: https://a0.muscache.com/pictures/prohost-api/Hosting-44053258/original/48655a82-a536-465e-925a-b901943762e2.jpeg\n"
     ]
    },
    {
     "name": "stderr",
     "output_type": "stream",
     "text": [
      " 17%|█▋        | 1195/7199 [11:38<38:24,  2.61it/s]"
     ]
    },
    {
     "name": "stdout",
     "output_type": "stream",
     "text": [
      "Error en el registro: 44242670, URL: https://a0.muscache.com/pictures/prohost-api/Hosting-44242670/original/4b69e1a9-8664-4b90-a9f9-cd0a966df453.jpeg\n"
     ]
    },
    {
     "name": "stderr",
     "output_type": "stream",
     "text": [
      " 17%|█▋        | 1202/7199 [11:42<43:40,  2.29it/s]  "
     ]
    },
    {
     "name": "stdout",
     "output_type": "stream",
     "text": [
      "Error en el registro: 44776954, URL: https://a0.muscache.com/pictures/prohost-api/Hosting-44776954/original/e20fbcfe-fd7e-48a4-9237-71d69f4d207f.jpeg\n"
     ]
    },
    {
     "name": "stderr",
     "output_type": "stream",
     "text": [
      " 17%|█▋        | 1203/7199 [11:42<40:27,  2.47it/s]"
     ]
    },
    {
     "name": "stdout",
     "output_type": "stream",
     "text": [
      "Error en el registro: 44776967, URL: https://a0.muscache.com/pictures/prohost-api/Hosting-44776967/original/22009d99-ee7d-44ee-b6a5-e3d47e1dbf8a.jpeg\n"
     ]
    },
    {
     "name": "stderr",
     "output_type": "stream",
     "text": [
      " 17%|█▋        | 1207/7199 [11:44<38:42,  2.58it/s]"
     ]
    },
    {
     "name": "stdout",
     "output_type": "stream",
     "text": [
      "Error en el registro: 45031773, URL: https://a0.muscache.com/pictures/miso/Hosting-45031773/original/786af0d4-0eb3-4608-a4a3-895bc73c8fc7.jpeg\n"
     ]
    },
    {
     "name": "stderr",
     "output_type": "stream",
     "text": [
      " 17%|█▋        | 1208/7199 [11:45<42:13,  2.36it/s]"
     ]
    },
    {
     "name": "stdout",
     "output_type": "stream",
     "text": [
      "Error en el registro: 45067711, URL: https://a0.muscache.com/pictures/miso/Hosting-45067711/original/54d23f39-6e1c-4118-8d0f-fcb82c101863.jpeg\n"
     ]
    },
    {
     "name": "stderr",
     "output_type": "stream",
     "text": [
      " 17%|█▋        | 1210/7199 [11:46<48:35,  2.05it/s]  "
     ]
    },
    {
     "name": "stdout",
     "output_type": "stream",
     "text": [
      "Error en el registro: 45095953, URL: https://a0.muscache.com/pictures/prohost-api/Hosting-45095953/original/e530a1ff-ca52-4a5e-a210-2536b4d4678a.jpeg\n",
      "Error en el registro: 45096003, URL: https://a0.muscache.com/pictures/prohost-api/Hosting-45096003/original/0c468432-5000-4423-97b2-5afda54e34f8.jpeg\n"
     ]
    },
    {
     "name": "stderr",
     "output_type": "stream",
     "text": [
      " 17%|█▋        | 1213/7199 [11:46<28:28,  3.50it/s]"
     ]
    },
    {
     "name": "stdout",
     "output_type": "stream",
     "text": [
      "Error en el registro: 45096017, URL: https://a0.muscache.com/pictures/prohost-api/Hosting-45096017/original/552d794b-b07e-4a21-a7b4-4e513fc2e6b9.jpeg\n",
      "Error en el registro: 45112213, URL: https://a0.muscache.com/pictures/miso/Hosting-45112213/original/23220062-1037-4561-b0ff-fa9806e04863.jpeg\n"
     ]
    },
    {
     "name": "stderr",
     "output_type": "stream",
     "text": [
      " 17%|█▋        | 1215/7199 [11:48<1:06:08,  1.51it/s]"
     ]
    },
    {
     "name": "stdout",
     "output_type": "stream",
     "text": [
      "Error en el registro: 45136082, URL: https://a0.muscache.com/pictures/miso/Hosting-45136082/original/9d67ada5-de07-480a-a9fa-ceb0bac7f088.jpeg\n"
     ]
    },
    {
     "name": "stderr",
     "output_type": "stream",
     "text": [
      " 17%|█▋        | 1228/7199 [11:54<36:23,  2.73it/s]  "
     ]
    },
    {
     "name": "stdout",
     "output_type": "stream",
     "text": [
      "Error en el registro: 45440353, URL: https://a0.muscache.com/pictures/246931ce-1d84-484a-bde7-4ee607f5d48e.jpg\n",
      "Error en el registro: 45443503, URL: https://a0.muscache.com/pictures/prohost-api/Hosting-45443503/original/72ca2b6e-9420-4c81-856d-f3c4ec4cb6f8.jpeg\n"
     ]
    },
    {
     "name": "stderr",
     "output_type": "stream",
     "text": [
      " 17%|█▋        | 1232/7199 [11:57<44:29,  2.24it/s]"
     ]
    },
    {
     "name": "stdout",
     "output_type": "stream",
     "text": [
      "Error en el registro: 45494260, URL: https://a0.muscache.com/pictures/prohost-api/Hosting-45494260/original/245b92de-7b7d-4225-ae48-1b2321a8a501.jpeg\n"
     ]
    },
    {
     "name": "stderr",
     "output_type": "stream",
     "text": [
      " 17%|█▋        | 1233/7199 [11:57<38:27,  2.59it/s]"
     ]
    },
    {
     "name": "stdout",
     "output_type": "stream",
     "text": [
      "Error en el registro: 45501019, URL: https://a0.muscache.com/pictures/miso/Hosting-45501019/original/de13720d-7458-4897-b812-10c014117d01.png\n"
     ]
    },
    {
     "name": "stderr",
     "output_type": "stream",
     "text": [
      " 17%|█▋        | 1239/7199 [12:00<52:44,  1.88it/s]  "
     ]
    },
    {
     "name": "stdout",
     "output_type": "stream",
     "text": [
      "Error en el registro: 45539765, URL: https://a0.muscache.com/pictures/prohost-api/Hosting-45539765/original/6ae8c686-fc70-4705-afc5-ef9177681289.jpeg\n"
     ]
    },
    {
     "name": "stderr",
     "output_type": "stream",
     "text": [
      " 17%|█▋        | 1248/7199 [12:06<52:27,  1.89it/s]  "
     ]
    },
    {
     "name": "stdout",
     "output_type": "stream",
     "text": [
      "Error en el registro: 45679998, URL: https://a0.muscache.com/pictures/prohost-api/Hosting-45679998/original/2189dde9-1660-43fd-9f83-6b3b5cd0eec3.jpeg\n"
     ]
    },
    {
     "name": "stderr",
     "output_type": "stream",
     "text": [
      " 17%|█▋        | 1249/7199 [12:06<44:39,  2.22it/s]"
     ]
    },
    {
     "name": "stdout",
     "output_type": "stream",
     "text": [
      "Error en el registro: 45680010, URL: https://a0.muscache.com/pictures/prohost-api/Hosting-45680010/original/c72ecce3-1fb0-4918-b50f-06df412d1f31.jpeg\n"
     ]
    },
    {
     "name": "stderr",
     "output_type": "stream",
     "text": [
      " 17%|█▋        | 1250/7199 [12:06<37:43,  2.63it/s]"
     ]
    },
    {
     "name": "stdout",
     "output_type": "stream",
     "text": [
      "Error en el registro: 45680018, URL: https://a0.muscache.com/pictures/prohost-api/Hosting-45680018/original/a60994d1-69e5-4aa8-adfb-e5a05ffeec5c.jpeg\n"
     ]
    },
    {
     "name": "stderr",
     "output_type": "stream",
     "text": [
      " 17%|█▋        | 1252/7199 [12:07<29:25,  3.37it/s]"
     ]
    },
    {
     "name": "stdout",
     "output_type": "stream",
     "text": [
      "Error en el registro: 45680039, URL: https://a0.muscache.com/pictures/prohost-api/Hosting-45680039/original/ddeaafff-825d-41b2-ae9e-f6f620020533.jpeg\n",
      "Error en el registro: 45689038, URL: https://a0.muscache.com/pictures/prohost-api/Hosting-45689038/original/c43dfacc-5def-4e24-a109-ad5de07a2f87.jpeg\n"
     ]
    },
    {
     "name": "stderr",
     "output_type": "stream",
     "text": [
      " 17%|█▋        | 1254/7199 [12:07<23:42,  4.18it/s]"
     ]
    },
    {
     "name": "stdout",
     "output_type": "stream",
     "text": [
      "Error en el registro: 45689053, URL: https://a0.muscache.com/pictures/prohost-api/Hosting-45689053/original/5e267cf5-62f5-48ce-9f0d-aa460713e441.jpeg\n",
      "Error en el registro: 45689060, URL: https://a0.muscache.com/pictures/prohost-api/Hosting-45689060/original/51ab7ef4-cd4b-4133-96a9-88a0f4f6b238.jpeg\n"
     ]
    },
    {
     "name": "stderr",
     "output_type": "stream",
     "text": [
      " 17%|█▋        | 1255/7199 [12:07<21:54,  4.52it/s]"
     ]
    },
    {
     "name": "stdout",
     "output_type": "stream",
     "text": [
      "Error en el registro: 45689110, URL: https://a0.muscache.com/pictures/prohost-api/Hosting-45689110/original/cf17e677-1be1-4046-9336-3d2e0d465310.jpeg\n"
     ]
    },
    {
     "name": "stderr",
     "output_type": "stream",
     "text": [
      " 17%|█▋        | 1256/7199 [12:08<22:40,  4.37it/s]"
     ]
    },
    {
     "name": "stdout",
     "output_type": "stream",
     "text": [
      "Error en el registro: 45689125, URL: https://a0.muscache.com/pictures/prohost-api/Hosting-45689125/original/bf18064a-e844-46f9-8c3d-641e4c86950d.jpeg\n"
     ]
    },
    {
     "name": "stderr",
     "output_type": "stream",
     "text": [
      " 18%|█▊        | 1261/7199 [12:10<43:26,  2.28it/s]"
     ]
    },
    {
     "name": "stdout",
     "output_type": "stream",
     "text": [
      "Error en el registro: 45844741, URL: https://a0.muscache.com/pictures/miso/Hosting-45844741/original/2ebd7146-447a-43ad-a296-3a28eeb59c0e.jpeg\n"
     ]
    },
    {
     "name": "stderr",
     "output_type": "stream",
     "text": [
      " 18%|█▊        | 1266/7199 [12:12<29:48,  3.32it/s]"
     ]
    },
    {
     "name": "stdout",
     "output_type": "stream",
     "text": [
      "Error en el registro: 45999950, URL: https://a0.muscache.com/pictures/prohost-api/Hosting-45999950/original/ea2aeb8d-fbb5-4e6a-9dd2-4e1dac7ef52f.jpeg\n",
      "Error en el registro: 46000223, URL: https://a0.muscache.com/pictures/prohost-api/Hosting-46000223/original/27fd39ae-6eab-4143-bd24-d81504173816.jpeg\n"
     ]
    },
    {
     "name": "stderr",
     "output_type": "stream",
     "text": [
      " 18%|█▊        | 1268/7199 [12:12<24:45,  3.99it/s]"
     ]
    },
    {
     "name": "stdout",
     "output_type": "stream",
     "text": [
      "Error en el registro: 46051711, URL: https://a0.muscache.com/pictures/miso/Hosting-46051711/original/b072612e-50cd-49d1-9a8d-87ed25838c08.jpeg\n",
      "Error en el registro: 46074220, URL: https://a0.muscache.com/pictures/prohost-api/Hosting-46074220/original/8d519bd3-3811-48ab-81e8-eff68799db92.jpeg\n"
     ]
    },
    {
     "name": "stderr",
     "output_type": "stream",
     "text": [
      " 18%|█▊        | 1270/7199 [12:13<21:27,  4.60it/s]"
     ]
    },
    {
     "name": "stdout",
     "output_type": "stream",
     "text": [
      "Error en el registro: 46074729, URL: https://a0.muscache.com/pictures/prohost-api/Hosting-46074729/original/3ef2e84a-aafe-4f1e-b346-99ecf6f1f5f2.jpeg\n",
      "Error en el registro: 46074742, URL: https://a0.muscache.com/pictures/prohost-api/Hosting-46074742/original/5748e678-10d5-401b-af05-df788934f705.jpeg\n"
     ]
    },
    {
     "name": "stderr",
     "output_type": "stream",
     "text": [
      " 18%|█▊        | 1272/7199 [12:13<20:38,  4.78it/s]"
     ]
    },
    {
     "name": "stdout",
     "output_type": "stream",
     "text": [
      "Error en el registro: 46085675, URL: https://a0.muscache.com/pictures/prohost-api/Hosting-46085675/original/1d4604ad-47a4-4c9c-b844-40acd434fb3f.jpeg\n"
     ]
    },
    {
     "name": "stderr",
     "output_type": "stream",
     "text": [
      " 18%|█▊        | 1276/7199 [12:16<49:54,  1.98it/s]  "
     ]
    },
    {
     "name": "stdout",
     "output_type": "stream",
     "text": [
      "Error en el registro: 46326668, URL: https://a0.muscache.com/pictures/56a7aa37-27a0-4247-ae7e-221ee644f389.jpg\n"
     ]
    },
    {
     "name": "stderr",
     "output_type": "stream",
     "text": [
      " 18%|█▊        | 1277/7199 [12:16<42:05,  2.34it/s]"
     ]
    },
    {
     "name": "stdout",
     "output_type": "stream",
     "text": [
      "Error en el registro: 46330627, URL: https://a0.muscache.com/pictures/miso/Hosting-46330627/original/a575814a-418e-4fd4-a783-b4eca2817921.jpeg\n"
     ]
    },
    {
     "name": "stderr",
     "output_type": "stream",
     "text": [
      " 18%|█▊        | 1283/7199 [12:18<26:28,  3.72it/s]"
     ]
    },
    {
     "name": "stdout",
     "output_type": "stream",
     "text": [
      "Error en el registro: 46445272, URL: https://a0.muscache.com/pictures/prohost-api/Hosting-46445272/original/bdf6198d-01b9-4988-a99a-231d4e53782d.jpeg\n"
     ]
    },
    {
     "name": "stderr",
     "output_type": "stream",
     "text": [
      " 18%|█▊        | 1289/7199 [12:21<35:13,  2.80it/s]"
     ]
    },
    {
     "name": "stdout",
     "output_type": "stream",
     "text": [
      "Error en el registro: 46576175, URL: https://a0.muscache.com/pictures/prohost-api/Hosting-46576175/original/653c8eb1-d0fd-4d68-8e88-5b4898d32d98.jpeg\n"
     ]
    },
    {
     "name": "stderr",
     "output_type": "stream",
     "text": [
      " 18%|█▊        | 1290/7199 [12:21<31:03,  3.17it/s]"
     ]
    },
    {
     "name": "stdout",
     "output_type": "stream",
     "text": [
      "Error en el registro: 46576290, URL: https://a0.muscache.com/pictures/0826a430-939b-4a43-aa90-5e682f215465.jpg\n"
     ]
    },
    {
     "name": "stderr",
     "output_type": "stream",
     "text": [
      " 18%|█▊        | 1293/7199 [12:22<27:47,  3.54it/s]"
     ]
    },
    {
     "name": "stdout",
     "output_type": "stream",
     "text": [
      "Error en el registro: 46602042, URL: https://a0.muscache.com/pictures/prohost-api/Hosting-46602042/original/8a77cfa9-d271-4e7d-a98f-03d1c8abbd8b.jpeg\n",
      "Error en el registro: 46696466, URL: https://a0.muscache.com/pictures/miso/Hosting-46696466/original/0ea7e189-c6df-4717-b1e4-2a5d32d01fa1.jpeg\n"
     ]
    },
    {
     "name": "stderr",
     "output_type": "stream",
     "text": [
      " 18%|█▊        | 1294/7199 [12:22<24:42,  3.98it/s]"
     ]
    },
    {
     "name": "stdout",
     "output_type": "stream",
     "text": [
      "Error en el registro: 46697368, URL: https://a0.muscache.com/pictures/miso/Hosting-46697368/original/7c297348-caf3-4d1e-8d70-41b1ad9b86e7.jpeg\n"
     ]
    },
    {
     "name": "stderr",
     "output_type": "stream",
     "text": [
      " 18%|█▊        | 1295/7199 [12:22<23:27,  4.19it/s]"
     ]
    },
    {
     "name": "stdout",
     "output_type": "stream",
     "text": [
      "Error en el registro: 46730228, URL: https://a0.muscache.com/pictures/prohost-api/Hosting-46730228/original/b49d9f80-2bbc-42ad-aef8-dcc9d4ad8c6d.jpeg\n"
     ]
    },
    {
     "name": "stderr",
     "output_type": "stream",
     "text": [
      " 18%|█▊        | 1296/7199 [12:22<25:25,  3.87it/s]"
     ]
    },
    {
     "name": "stdout",
     "output_type": "stream",
     "text": [
      "Error en el registro: 46791068, URL: https://a0.muscache.com/pictures/prohost-api/Hosting-46791068/original/85efb204-1093-4e95-983c-00f405dd6f4c.jpeg\n"
     ]
    },
    {
     "name": "stderr",
     "output_type": "stream",
     "text": [
      " 18%|█▊        | 1297/7199 [12:23<26:18,  3.74it/s]"
     ]
    },
    {
     "name": "stdout",
     "output_type": "stream",
     "text": [
      "Error en el registro: 46791156, URL: https://a0.muscache.com/pictures/28f70459-7ac9-43bf-b2ca-740d5cbc70db.jpg\n"
     ]
    },
    {
     "name": "stderr",
     "output_type": "stream",
     "text": [
      " 18%|█▊        | 1307/7199 [12:29<46:45,  2.10it/s]  "
     ]
    },
    {
     "name": "stdout",
     "output_type": "stream",
     "text": [
      "Error en el registro: 46983650, URL: https://a0.muscache.com/pictures/93d160f5-78fc-4044-ac33-fdda1feb841f.jpg\n"
     ]
    },
    {
     "name": "stderr",
     "output_type": "stream",
     "text": [
      " 18%|█▊        | 1329/7199 [12:44<1:01:48,  1.58it/s]"
     ]
    },
    {
     "name": "stdout",
     "output_type": "stream",
     "text": [
      "Error en el registro: 47408663, URL: https://a0.muscache.com/pictures/2010306b-5a95-4545-a825-c38a878b46b3.jpg\n"
     ]
    },
    {
     "name": "stderr",
     "output_type": "stream",
     "text": [
      " 19%|█▊        | 1338/7199 [12:48<45:38,  2.14it/s]  "
     ]
    },
    {
     "name": "stdout",
     "output_type": "stream",
     "text": [
      "Error en el registro: 47576607, URL: https://a0.muscache.com/pictures/prohost-api/Hosting-47576607/original/2a8842a4-c900-4cd9-97de-2617a41b028a.jpeg\n"
     ]
    },
    {
     "name": "stderr",
     "output_type": "stream",
     "text": [
      " 19%|█▊        | 1342/7199 [12:50<44:37,  2.19it/s]"
     ]
    },
    {
     "name": "stdout",
     "output_type": "stream",
     "text": [
      "Error en el registro: 47873448, URL: https://a0.muscache.com/pictures/miso/Hosting-47873448/original/16fc99cc-292d-4383-b8a0-def7f17c1e64.jpeg\n"
     ]
    },
    {
     "name": "stderr",
     "output_type": "stream",
     "text": [
      " 19%|█▉        | 1360/7199 [13:05<45:24,  2.14it/s]  "
     ]
    },
    {
     "name": "stdout",
     "output_type": "stream",
     "text": [
      "Error en el registro: 48103622, URL: https://a0.muscache.com/pictures/prohost-api/Hosting-48103622/original/6ccbbd9d-4601-45ea-b07f-b16358373780.jpeg\n"
     ]
    },
    {
     "name": "stderr",
     "output_type": "stream",
     "text": [
      " 19%|█▉        | 1362/7199 [13:05<31:03,  3.13it/s]"
     ]
    },
    {
     "name": "stdout",
     "output_type": "stream",
     "text": [
      "Error en el registro: 48103833, URL: https://a0.muscache.com/pictures/prohost-api/Hosting-48103833/original/313c9151-af54-4716-bffe-4d8a243bfd7d.jpeg\n",
      "Error en el registro: 48107926, URL: https://a0.muscache.com/pictures/prohost-api/Hosting-48107926/original/d9749ddd-ea24-451e-97c7-8eea156138f3.jpeg\n"
     ]
    },
    {
     "name": "stderr",
     "output_type": "stream",
     "text": [
      " 19%|█▉        | 1363/7199 [13:06<28:51,  3.37it/s]"
     ]
    },
    {
     "name": "stdout",
     "output_type": "stream",
     "text": [
      "Error en el registro: 48107968, URL: https://a0.muscache.com/pictures/prohost-api/Hosting-48107968/original/956795d8-27ef-4f54-8cca-ebfea3a6a425.jpeg\n"
     ]
    },
    {
     "name": "stderr",
     "output_type": "stream",
     "text": [
      " 19%|█▉        | 1370/7199 [13:14<1:01:33,  1.58it/s]"
     ]
    },
    {
     "name": "stdout",
     "output_type": "stream",
     "text": [
      "Error en el registro: 48231177, URL: https://a0.muscache.com/pictures/153d5cfa-95d5-4eb4-b45a-1809ff9f1c71.jpg\n"
     ]
    },
    {
     "name": "stderr",
     "output_type": "stream",
     "text": [
      " 19%|█▉        | 1375/7199 [13:17<52:57,  1.83it/s]  "
     ]
    },
    {
     "name": "stdout",
     "output_type": "stream",
     "text": [
      "Error en el registro: 48248044, URL: https://a0.muscache.com/pictures/a5239f12-41bd-4ff2-81bb-4100667e064c.jpg\n"
     ]
    },
    {
     "name": "stderr",
     "output_type": "stream",
     "text": [
      " 19%|█▉        | 1384/7199 [13:21<45:56,  2.11it/s]"
     ]
    },
    {
     "name": "stdout",
     "output_type": "stream",
     "text": [
      "Error en el registro: 48454886, URL: https://a0.muscache.com/pictures/prohost-api/Hosting-48454886/original/17df10d9-f416-40a3-9d77-48eba91ff839.jpeg\n"
     ]
    },
    {
     "name": "stderr",
     "output_type": "stream",
     "text": [
      " 19%|█▉        | 1390/7199 [13:23<32:36,  2.97it/s]"
     ]
    },
    {
     "name": "stdout",
     "output_type": "stream",
     "text": [
      "Error en el registro: 48597887, URL: https://a0.muscache.com/pictures/prohost-api/Hosting-48597887/original/0df41515-85cb-40ca-9102-2c905c77914d.jpeg\n",
      "Error en el registro: 48597894, URL: https://a0.muscache.com/pictures/prohost-api/Hosting-48597894/original/9f1c5a32-2af5-4f0b-a247-413ff0972236.jpeg\n"
     ]
    },
    {
     "name": "stderr",
     "output_type": "stream",
     "text": [
      " 19%|█▉        | 1391/7199 [13:24<27:27,  3.52it/s]"
     ]
    },
    {
     "name": "stdout",
     "output_type": "stream",
     "text": [
      "Error en el registro: 48597943, URL: https://a0.muscache.com/pictures/prohost-api/Hosting-48597943/original/894b0ae3-272d-46c7-836d-c1ffa371739f.jpeg\n"
     ]
    },
    {
     "name": "stderr",
     "output_type": "stream",
     "text": [
      " 19%|█▉        | 1393/7199 [13:24<22:34,  4.29it/s]"
     ]
    },
    {
     "name": "stdout",
     "output_type": "stream",
     "text": [
      "Error en el registro: 48597948, URL: https://a0.muscache.com/pictures/prohost-api/Hosting-48597948/original/1447b820-5387-49bf-b1ae-f5eba0cced49.jpeg\n",
      "Error en el registro: 48597957, URL: https://a0.muscache.com/pictures/prohost-api/Hosting-48597957/original/43aa468b-dd06-456f-9e76-6e83810753b0.jpeg\n"
     ]
    },
    {
     "name": "stderr",
     "output_type": "stream",
     "text": [
      " 19%|█▉        | 1396/7199 [13:25<30:15,  3.20it/s]"
     ]
    },
    {
     "name": "stdout",
     "output_type": "stream",
     "text": [
      "Error en el registro: 48601985, URL: https://a0.muscache.com/pictures/prohost-api/Hosting-48601985/original/622c6996-32be-4f2c-a2a4-478f8a1c6a1b.jpeg\n"
     ]
    },
    {
     "name": "stderr",
     "output_type": "stream",
     "text": [
      " 20%|█▉        | 1418/7199 [13:36<41:05,  2.34it/s]  "
     ]
    },
    {
     "name": "stdout",
     "output_type": "stream",
     "text": [
      "Error en el registro: 48881055, URL: https://a0.muscache.com/pictures/prohost-api/Hosting-48881055/original/f34c9c5f-4f9e-45a8-a30e-d0e054c8a4fa.jpeg\n"
     ]
    },
    {
     "name": "stderr",
     "output_type": "stream",
     "text": [
      " 20%|█▉        | 1423/7199 [13:39<47:42,  2.02it/s]  "
     ]
    },
    {
     "name": "stdout",
     "output_type": "stream",
     "text": [
      "Error en el registro: 48926365, URL: https://a0.muscache.com/pictures/prohost-api/Hosting-48926365/original/a6b00f63-f34c-4149-a419-168c4987fa0a.jpeg\n",
      "Error en el registro: 48926392, URL: https://a0.muscache.com/pictures/prohost-api/Hosting-48926392/original/8654b984-8f04-45ab-ae71-591a3f5f5c2b.jpeg\n"
     ]
    },
    {
     "name": "stderr",
     "output_type": "stream",
     "text": [
      " 20%|█▉        | 1424/7199 [13:40<44:06,  2.18it/s]"
     ]
    },
    {
     "name": "stdout",
     "output_type": "stream",
     "text": [
      "Error en el registro: 48926432, URL: https://a0.muscache.com/pictures/prohost-api/Hosting-48926432/original/a61e4238-cac8-4486-b0cb-4d5dbf1f79e1.jpeg\n"
     ]
    },
    {
     "name": "stderr",
     "output_type": "stream",
     "text": [
      " 20%|██        | 1440/7199 [13:50<42:49,  2.24it/s]  "
     ]
    },
    {
     "name": "stdout",
     "output_type": "stream",
     "text": [
      "Error en el registro: 49075129, URL: https://a0.muscache.com/pictures/74933c31-f5dc-4200-a2a0-a261e53f3038.jpg\n"
     ]
    },
    {
     "name": "stderr",
     "output_type": "stream",
     "text": [
      " 20%|██        | 1448/7199 [13:54<37:49,  2.53it/s]"
     ]
    },
    {
     "name": "stdout",
     "output_type": "stream",
     "text": [
      "Error en el registro: 49188782, URL: https://a0.muscache.com/pictures/prohost-api/Hosting-49188782/original/99f5948f-8279-420c-bf20-2dec587a0545.jpeg\n",
      "Error en el registro: 49188871, URL: https://a0.muscache.com/pictures/prohost-api/Hosting-49188871/original/72a83436-de2e-4952-a029-47af95fe4509.jpeg\n"
     ]
    },
    {
     "name": "stderr",
     "output_type": "stream",
     "text": [
      " 20%|██        | 1451/7199 [13:54<24:04,  3.98it/s]"
     ]
    },
    {
     "name": "stdout",
     "output_type": "stream",
     "text": [
      "Error en el registro: 49188886, URL: https://a0.muscache.com/pictures/prohost-api/Hosting-49188886/original/e2be830b-675b-410d-9880-1a6c94df52bf.jpeg\n",
      "Error en el registro: 49188948, URL: https://a0.muscache.com/pictures/prohost-api/Hosting-49188948/original/9b76d76e-afdc-42ff-be88-58d40a4b170b.jpeg\n"
     ]
    },
    {
     "name": "stderr",
     "output_type": "stream",
     "text": [
      " 20%|██        | 1453/7199 [13:55<22:59,  4.17it/s]"
     ]
    },
    {
     "name": "stdout",
     "output_type": "stream",
     "text": [
      "Error en el registro: 49201633, URL: https://a0.muscache.com/pictures/prohost-api/Hosting-49201633/original/1c4c3312-2fe4-449a-bef7-80739db2cd29.jpeg\n"
     ]
    },
    {
     "name": "stderr",
     "output_type": "stream",
     "text": [
      " 20%|██        | 1457/7199 [13:56<31:54,  3.00it/s]"
     ]
    },
    {
     "name": "stdout",
     "output_type": "stream",
     "text": [
      "Error en el registro: 49341416, URL: https://a0.muscache.com/pictures/prohost-api/Hosting-49341416/original/daf693f1-9f0b-4cc3-8cff-9e743424db9a.jpeg\n"
     ]
    },
    {
     "name": "stderr",
     "output_type": "stream",
     "text": [
      " 20%|██        | 1461/7199 [13:58<40:16,  2.37it/s]"
     ]
    },
    {
     "name": "stdout",
     "output_type": "stream",
     "text": [
      "Error en el registro: 49459007, URL: https://a0.muscache.com/pictures/prohost-api/Hosting-49459007/original/0558fbae-15ab-4c6b-b91d-266fa8918ce6.jpeg\n"
     ]
    },
    {
     "name": "stderr",
     "output_type": "stream",
     "text": [
      " 20%|██        | 1473/7199 [14:03<37:13,  2.56it/s]"
     ]
    },
    {
     "name": "stdout",
     "output_type": "stream",
     "text": [
      "Error en el registro: 49610522, URL: https://a0.muscache.com/pictures/prohost-api/Hosting-49610522/original/1bf4855c-6543-48ae-bf14-e26f160dbf01.jpeg\n"
     ]
    },
    {
     "name": "stderr",
     "output_type": "stream",
     "text": [
      " 20%|██        | 1474/7199 [14:04<33:05,  2.88it/s]"
     ]
    },
    {
     "name": "stdout",
     "output_type": "stream",
     "text": [
      "Error en el registro: 49610778, URL: https://a0.muscache.com/pictures/prohost-api/Hosting-49610778/original/d9163a9b-d195-4bd3-ab08-a40e8351411e.jpeg\n"
     ]
    },
    {
     "name": "stderr",
     "output_type": "stream",
     "text": [
      " 21%|██        | 1482/7199 [14:07<40:49,  2.33it/s]"
     ]
    },
    {
     "name": "stdout",
     "output_type": "stream",
     "text": [
      "Error en el registro: 49752414, URL: https://a0.muscache.com/pictures/prohost-api/Hosting-49752414/original/f81334c9-8612-4c66-b08b-577430dc07c6.jpeg\n"
     ]
    },
    {
     "name": "stderr",
     "output_type": "stream",
     "text": [
      " 21%|██        | 1483/7199 [14:08<34:52,  2.73it/s]"
     ]
    },
    {
     "name": "stdout",
     "output_type": "stream",
     "text": [
      "Error en el registro: 49800523, URL: https://a0.muscache.com/pictures/prohost-api/Hosting-49800523/original/63fe1365-f4ee-4295-8cf2-e16f225955eb.jpeg\n"
     ]
    },
    {
     "name": "stderr",
     "output_type": "stream",
     "text": [
      " 21%|██        | 1488/7199 [14:10<33:49,  2.81it/s]"
     ]
    },
    {
     "name": "stdout",
     "output_type": "stream",
     "text": [
      "Error en el registro: 49916971, URL: https://a0.muscache.com/pictures/prohost-api/Hosting-49916971/original/f468740d-273a-4f68-ab34-abf7ae2125f1.jpeg\n",
      "Error en el registro: 49916983, URL: https://a0.muscache.com/pictures/prohost-api/Hosting-49916983/original/d990404d-9367-42d8-9fce-f5ee52ec0310.jpeg\n"
     ]
    },
    {
     "name": "stderr",
     "output_type": "stream",
     "text": [
      " 21%|██        | 1489/7199 [14:10<30:27,  3.13it/s]"
     ]
    },
    {
     "name": "stdout",
     "output_type": "stream",
     "text": [
      "Error en el registro: 49918081, URL: https://a0.muscache.com/pictures/prohost-api/Hosting-49918081/original/d09c0701-338b-4fad-ab86-3843a6aa77e1.jpeg\n"
     ]
    },
    {
     "name": "stderr",
     "output_type": "stream",
     "text": [
      " 21%|██        | 1498/7199 [14:13<22:39,  4.19it/s]"
     ]
    },
    {
     "name": "stdout",
     "output_type": "stream",
     "text": [
      "Error en el registro: 50017083, URL: https://a0.muscache.com/pictures/prohost-api/Hosting-50017083/original/0220a02b-87a1-4434-9134-67970feb377c.jpeg\n"
     ]
    },
    {
     "name": "stderr",
     "output_type": "stream",
     "text": [
      " 21%|██        | 1499/7199 [14:13<22:30,  4.22it/s]"
     ]
    },
    {
     "name": "stdout",
     "output_type": "stream",
     "text": [
      "Error en el registro: 50017182, URL: https://a0.muscache.com/pictures/prohost-api/Hosting-50017182/original/945f194f-f893-4935-aa5c-08281a189922.jpeg\n"
     ]
    },
    {
     "name": "stderr",
     "output_type": "stream",
     "text": [
      " 21%|██        | 1502/7199 [14:14<28:50,  3.29it/s]"
     ]
    },
    {
     "name": "stdout",
     "output_type": "stream",
     "text": [
      "Error en el registro: 50042062, URL: https://a0.muscache.com/pictures/prohost-api/Hosting-50042062/original/5695dab1-486a-49c6-869c-f122a569cb66.jpeg\n"
     ]
    },
    {
     "name": "stderr",
     "output_type": "stream",
     "text": [
      " 21%|██        | 1505/7199 [14:15<28:28,  3.33it/s]"
     ]
    },
    {
     "name": "stdout",
     "output_type": "stream",
     "text": [
      "Error en el registro: 50079025, URL: https://a0.muscache.com/pictures/prohost-api/Hosting-50079025/original/09e0771a-9089-4b04-98f4-c694881868e0.jpeg\n"
     ]
    },
    {
     "name": "stderr",
     "output_type": "stream",
     "text": [
      " 21%|██        | 1508/7199 [14:16<25:33,  3.71it/s]"
     ]
    },
    {
     "name": "stdout",
     "output_type": "stream",
     "text": [
      "Error en el registro: 50084542, URL: https://a0.muscache.com/pictures/prohost-api/Hosting-50084542/original/c5e7b728-d2db-4021-8367-c12770be703f.jpeg\n"
     ]
    },
    {
     "name": "stderr",
     "output_type": "stream",
     "text": [
      " 21%|██        | 1515/7199 [14:19<40:34,  2.33it/s]  "
     ]
    },
    {
     "name": "stdout",
     "output_type": "stream",
     "text": [
      "Error en el registro: 50206794, URL: https://a0.muscache.com/pictures/prohost-api/Hosting-50206794/original/cc4830dd-0e33-439b-938c-6f6dad9dec33.jpeg\n"
     ]
    },
    {
     "name": "stderr",
     "output_type": "stream",
     "text": [
      " 21%|██        | 1524/7199 [14:23<33:16,  2.84it/s]"
     ]
    },
    {
     "name": "stdout",
     "output_type": "stream",
     "text": [
      "Error en el registro: 50386523, URL: https://a0.muscache.com/pictures/prohost-api/Hosting-50386523/original/9445af86-b60f-4298-8a3c-ad67d8e211de.jpeg\n"
     ]
    },
    {
     "name": "stderr",
     "output_type": "stream",
     "text": [
      " 21%|██        | 1525/7199 [14:23<30:34,  3.09it/s]"
     ]
    },
    {
     "name": "stdout",
     "output_type": "stream",
     "text": [
      "Error en el registro: 50386543, URL: https://a0.muscache.com/pictures/prohost-api/Hosting-50386543/original/1cff2a6d-7883-48a9-ac73-c9919818e888.jpeg\n"
     ]
    },
    {
     "name": "stderr",
     "output_type": "stream",
     "text": [
      " 21%|██▏       | 1534/7199 [14:26<25:55,  3.64it/s]"
     ]
    },
    {
     "name": "stdout",
     "output_type": "stream",
     "text": [
      "Error en el registro: 50562977, URL: https://a0.muscache.com/pictures/prohost-api/Hosting-50562977/original/af9f1ab1-ee6b-4773-ad8e-1d1a8a854f0b.jpeg\n",
      "Error en el registro: 50563099, URL: https://a0.muscache.com/pictures/prohost-api/Hosting-50563099/original/6a3bcfe3-357e-49f1-8e5e-61c95e5fe335.jpeg\n"
     ]
    },
    {
     "name": "stderr",
     "output_type": "stream",
     "text": [
      " 21%|██▏       | 1535/7199 [14:27<24:38,  3.83it/s]"
     ]
    },
    {
     "name": "stdout",
     "output_type": "stream",
     "text": [
      "Error en el registro: 50563127, URL: https://a0.muscache.com/pictures/prohost-api/Hosting-50563127/original/07348b62-4fb4-4a0e-a588-ebb46bcf2195.jpeg\n"
     ]
    },
    {
     "name": "stderr",
     "output_type": "stream",
     "text": [
      " 21%|██▏       | 1538/7199 [14:27<21:18,  4.43it/s]"
     ]
    },
    {
     "name": "stdout",
     "output_type": "stream",
     "text": [
      "Error en el registro: 50608389, URL: https://a0.muscache.com/pictures/prohost-api/Hosting-50608389/original/ccda248e-99a6-4960-9344-085550adf82c.jpeg\n",
      "Error en el registro: 50608396, URL: https://a0.muscache.com/pictures/prohost-api/Hosting-50608396/original/9d78b34a-cbb6-449a-b4d8-240dcb9d05b0.jpeg\n"
     ]
    },
    {
     "name": "stderr",
     "output_type": "stream",
     "text": [
      " 22%|██▏       | 1568/7199 [14:46<1:10:14,  1.34it/s]"
     ]
    },
    {
     "name": "stdout",
     "output_type": "stream",
     "text": [
      "Error en el registro: 51274775, URL: https://a0.muscache.com/pictures/prohost-api/Hosting-51274775/original/599d0e88-2319-4fd1-a2c8-f57589e00ce8.jpeg\n"
     ]
    },
    {
     "name": "stderr",
     "output_type": "stream",
     "text": [
      " 22%|██▏       | 1569/7199 [14:46<55:00,  1.71it/s]  "
     ]
    },
    {
     "name": "stdout",
     "output_type": "stream",
     "text": [
      "Error en el registro: 51274818, URL: https://a0.muscache.com/pictures/prohost-api/Hosting-51274818/original/b362c342-f952-4104-ae93-178c82eec2b0.jpeg\n"
     ]
    },
    {
     "name": "stderr",
     "output_type": "stream",
     "text": [
      " 22%|██▏       | 1572/7199 [14:47<41:34,  2.26it/s]"
     ]
    },
    {
     "name": "stdout",
     "output_type": "stream",
     "text": [
      "Error en el registro: 51300156, URL: https://a0.muscache.com/pictures/prohost-api/Hosting-51300156/original/5c19dc35-5cc9-46c2-a33c-0b468a5f204f.jpeg\n"
     ]
    },
    {
     "name": "stderr",
     "output_type": "stream",
     "text": [
      " 22%|██▏       | 1582/7199 [14:53<56:13,  1.67it/s]  "
     ]
    },
    {
     "name": "stdout",
     "output_type": "stream",
     "text": [
      "Error en el registro: 51402086, URL: https://a0.muscache.com/pictures/miso/Hosting-51402086/original/8a9e0597-ef2f-4450-b29b-a60871ca0aa3.jpeg\n"
     ]
    },
    {
     "name": "stderr",
     "output_type": "stream",
     "text": [
      " 22%|██▏       | 1591/7199 [14:59<1:04:17,  1.45it/s]"
     ]
    },
    {
     "name": "stdout",
     "output_type": "stream",
     "text": [
      "Error en el registro: 51572681, URL: https://a0.muscache.com/pictures/prohost-api/Hosting-51572681/original/f07bf279-db7c-4160-8d84-88fe466096b9.jpeg\n"
     ]
    },
    {
     "name": "stderr",
     "output_type": "stream",
     "text": [
      " 22%|██▏       | 1592/7199 [15:00<53:36,  1.74it/s]  "
     ]
    },
    {
     "name": "stdout",
     "output_type": "stream",
     "text": [
      "Error en el registro: 51572775, URL: https://a0.muscache.com/pictures/prohost-api/Hosting-51572775/original/eeb5b893-08c2-4f88-8153-308efa95c258.jpeg\n"
     ]
    },
    {
     "name": "stderr",
     "output_type": "stream",
     "text": [
      " 22%|██▏       | 1593/7199 [15:00<48:34,  1.92it/s]"
     ]
    },
    {
     "name": "stdout",
     "output_type": "stream",
     "text": [
      "Error en el registro: 51572785, URL: https://a0.muscache.com/pictures/prohost-api/Hosting-51572785/original/15ccce9c-36b1-47d4-bb41-7bd1445943d5.jpeg\n"
     ]
    },
    {
     "name": "stderr",
     "output_type": "stream",
     "text": [
      " 22%|██▏       | 1594/7199 [15:01<45:30,  2.05it/s]"
     ]
    },
    {
     "name": "stdout",
     "output_type": "stream",
     "text": [
      "Error en el registro: 51572791, URL: https://a0.muscache.com/pictures/prohost-api/Hosting-51572791/original/69db5550-a4db-4ce5-96b6-f9350277a516.jpeg\n"
     ]
    },
    {
     "name": "stderr",
     "output_type": "stream",
     "text": [
      " 22%|██▏       | 1595/7199 [15:01<39:25,  2.37it/s]"
     ]
    },
    {
     "name": "stdout",
     "output_type": "stream",
     "text": [
      "Error en el registro: 51573185, URL: https://a0.muscache.com/pictures/prohost-api/Hosting-51573185/original/1f184ccb-4077-4f7f-b74c-76a49a60860d.jpeg\n"
     ]
    },
    {
     "name": "stderr",
     "output_type": "stream",
     "text": [
      " 22%|██▏       | 1598/7199 [15:02<39:58,  2.33it/s]"
     ]
    },
    {
     "name": "stdout",
     "output_type": "stream",
     "text": [
      "Error en el registro: 51626666, URL: https://a0.muscache.com/pictures/miso/Hosting-51626666/original/0a3d7139-082e-4c22-a21c-519cefbdd9f2.jpeg\n"
     ]
    },
    {
     "name": "stderr",
     "output_type": "stream",
     "text": [
      " 22%|██▏       | 1599/7199 [15:02<34:50,  2.68it/s]"
     ]
    },
    {
     "name": "stdout",
     "output_type": "stream",
     "text": [
      "Error en el registro: 51639653, URL: https://a0.muscache.com/pictures/miso/Hosting-51639653/original/7b511a90-694e-44d5-a188-9566a3ceb375.jpeg\n"
     ]
    },
    {
     "name": "stderr",
     "output_type": "stream",
     "text": [
      " 22%|██▏       | 1605/7199 [15:08<1:12:02,  1.29it/s]"
     ]
    },
    {
     "name": "stdout",
     "output_type": "stream",
     "text": [
      "Error en el registro: 51711675, URL: https://a0.muscache.com/pictures/miso/Hosting-51711675/original/2d3a66cc-81df-43ca-a855-275991c8fa05.jpeg\n"
     ]
    },
    {
     "name": "stderr",
     "output_type": "stream",
     "text": [
      " 22%|██▏       | 1606/7199 [15:08<1:04:44,  1.44it/s]"
     ]
    },
    {
     "name": "stdout",
     "output_type": "stream",
     "text": [
      "Error en el registro: 51721946, URL: https://a0.muscache.com/pictures/prohost-api/Hosting-51721946/original/94235a1f-8224-4aca-abaa-ae80e5976ae1.jpeg\n"
     ]
    },
    {
     "name": "stderr",
     "output_type": "stream",
     "text": [
      " 22%|██▏       | 1607/7199 [15:08<53:12,  1.75it/s]  "
     ]
    },
    {
     "name": "stdout",
     "output_type": "stream",
     "text": [
      "Error en el registro: 51722040, URL: https://a0.muscache.com/pictures/prohost-api/Hosting-51722040/original/50fdf6b2-723f-4073-b395-41dc78e17cef.jpeg\n"
     ]
    },
    {
     "name": "stderr",
     "output_type": "stream",
     "text": [
      " 22%|██▏       | 1614/7199 [15:12<42:38,  2.18it/s]  "
     ]
    },
    {
     "name": "stdout",
     "output_type": "stream",
     "text": [
      "Error en el registro: 51810948, URL: https://a0.muscache.com/pictures/prohost-api/Hosting-51810948/original/75535867-2424-4b40-b65f-4f77111bd3c1.jpeg\n"
     ]
    },
    {
     "name": "stderr",
     "output_type": "stream",
     "text": [
      " 22%|██▏       | 1615/7199 [15:13<36:11,  2.57it/s]"
     ]
    },
    {
     "name": "stdout",
     "output_type": "stream",
     "text": [
      "Error en el registro: 51812329, URL: https://a0.muscache.com/pictures/prohost-api/Hosting-51812329/original/483ba6af-a53f-489f-aab1-2a665512ec03.jpeg\n"
     ]
    },
    {
     "name": "stderr",
     "output_type": "stream",
     "text": [
      " 22%|██▏       | 1619/7199 [15:14<30:22,  3.06it/s]"
     ]
    },
    {
     "name": "stdout",
     "output_type": "stream",
     "text": [
      "Error en el registro: 51838132, URL: https://a0.muscache.com/pictures/prohost-api/Hosting-51838132/original/ed885fd6-cf96-406a-8ec9-ba48e511ec91.jpeg\n"
     ]
    },
    {
     "name": "stderr",
     "output_type": "stream",
     "text": [
      " 23%|██▎       | 1622/7199 [15:15<30:33,  3.04it/s]"
     ]
    },
    {
     "name": "stdout",
     "output_type": "stream",
     "text": [
      "Error en el registro: 51872976, URL: https://a0.muscache.com/pictures/prohost-api/Hosting-51872976/original/f4d017b0-bed3-4eca-a4b4-f5bb74938378.jpeg\n"
     ]
    },
    {
     "name": "stderr",
     "output_type": "stream",
     "text": [
      " 23%|██▎       | 1626/7199 [15:17<45:32,  2.04it/s]"
     ]
    },
    {
     "name": "stdout",
     "output_type": "stream",
     "text": [
      "Error en el registro: 52046024, URL: https://a0.muscache.com/pictures/prohost-api/Hosting-52046024/original/bd9db217-1a37-473c-9d04-c22554b514fe.jpeg\n"
     ]
    },
    {
     "name": "stderr",
     "output_type": "stream",
     "text": [
      " 23%|██▎       | 1635/7199 [15:23<59:14,  1.57it/s]  "
     ]
    },
    {
     "name": "stdout",
     "output_type": "stream",
     "text": [
      "Error en el registro: 52124041, URL: https://a0.muscache.com/pictures/prohost-api/Hosting-52124041/original/6807a140-6ca6-463a-8329-94c9c0d44551.jpeg\n"
     ]
    },
    {
     "name": "stderr",
     "output_type": "stream",
     "text": [
      " 23%|██▎       | 1638/7199 [15:25<47:34,  1.95it/s]"
     ]
    },
    {
     "name": "stdout",
     "output_type": "stream",
     "text": [
      "Error en el registro: 52249525, URL: https://a0.muscache.com/pictures/prohost-api/Hosting-52249525/original/3a448371-fca1-436c-9cc9-f81c833761c7.jpeg\n"
     ]
    },
    {
     "name": "stderr",
     "output_type": "stream",
     "text": [
      " 23%|██▎       | 1642/7199 [15:27<37:57,  2.44it/s]"
     ]
    },
    {
     "name": "stdout",
     "output_type": "stream",
     "text": [
      "Error en el registro: 52312207, URL: https://a0.muscache.com/pictures/prohost-api/Hosting-52312207/original/d0d8cfa3-d106-4980-9715-3569462eb2ab.jpeg\n",
      "Error en el registro: 52358493, URL: https://a0.muscache.com/pictures/prohost-api/Hosting-52358493/original/7bce9df4-aacf-497e-af49-13106d0e6432.jpeg\n"
     ]
    },
    {
     "name": "stderr",
     "output_type": "stream",
     "text": [
      " 23%|██▎       | 1644/7199 [15:27<27:18,  3.39it/s]"
     ]
    },
    {
     "name": "stdout",
     "output_type": "stream",
     "text": [
      "Error en el registro: 52358553, URL: https://a0.muscache.com/pictures/prohost-api/Hosting-52358553/original/f9592681-544c-419b-8dbf-305c284f5d18.jpeg\n",
      "Error en el registro: 52360274, URL: https://a0.muscache.com/pictures/prohost-api/Hosting-52360274/original/511853f7-19d1-462b-998b-e25771b2b21c.jpeg\n"
     ]
    },
    {
     "name": "stderr",
     "output_type": "stream",
     "text": [
      " 23%|██▎       | 1647/7199 [15:28<31:56,  2.90it/s]"
     ]
    },
    {
     "name": "stdout",
     "output_type": "stream",
     "text": [
      "Error en el registro: 52376819, URL: https://a0.muscache.com/pictures/prohost-api/Hosting-52376819/original/880d41b6-c749-44d7-a169-87ccd55b50eb.jpeg\n"
     ]
    },
    {
     "name": "stderr",
     "output_type": "stream",
     "text": [
      " 23%|██▎       | 1666/7199 [15:41<1:01:52,  1.49it/s]"
     ]
    },
    {
     "name": "stdout",
     "output_type": "stream",
     "text": [
      "Error en el registro: 52630071, URL: https://a0.muscache.com/pictures/prohost-api/Hosting-52630071/original/18d18a46-3286-4197-be11-60ac7b5baba4.jpeg\n"
     ]
    },
    {
     "name": "stderr",
     "output_type": "stream",
     "text": [
      " 23%|██▎       | 1670/7199 [15:44<54:56,  1.68it/s]  "
     ]
    },
    {
     "name": "stdout",
     "output_type": "stream",
     "text": [
      "Error en el registro: 52637370, URL: https://a0.muscache.com/pictures/miso/Hosting-52637370/original/c527cd51-bb86-46de-b9a8-580359028a55.jpeg\n"
     ]
    },
    {
     "name": "stderr",
     "output_type": "stream",
     "text": [
      " 23%|██▎       | 1675/7199 [15:45<32:26,  2.84it/s]"
     ]
    },
    {
     "name": "stdout",
     "output_type": "stream",
     "text": [
      "Error en el registro: 52680602, URL: https://a0.muscache.com/pictures/prohost-api/Hosting-52680602/original/1d79caaf-8a57-48b2-8d3e-dabbd5b1d75d.jpeg\n",
      "Error en el registro: 52680751, URL: https://a0.muscache.com/pictures/prohost-api/Hosting-52680751/original/6348b0ed-c12a-4c0f-bdbe-fa44b8f9897d.jpeg\n"
     ]
    },
    {
     "name": "stderr",
     "output_type": "stream",
     "text": [
      " 23%|██▎       | 1678/7199 [15:46<25:36,  3.59it/s]"
     ]
    },
    {
     "name": "stdout",
     "output_type": "stream",
     "text": [
      "Error en el registro: 52681618, URL: https://a0.muscache.com/pictures/prohost-api/Hosting-52681618/original/321ebf00-4c2c-4471-8a59-6c11e001d6a9.jpeg\n",
      "Error en el registro: 52682307, URL: https://a0.muscache.com/pictures/prohost-api/Hosting-52682307/original/da6a3fe1-6dd1-4e9e-9e3f-2a1a0ee88b12.jpeg\n"
     ]
    },
    {
     "name": "stderr",
     "output_type": "stream",
     "text": [
      " 23%|██▎       | 1680/7199 [15:47<25:24,  3.62it/s]"
     ]
    },
    {
     "name": "stdout",
     "output_type": "stream",
     "text": [
      "Error en el registro: 52747167, URL: https://a0.muscache.com/pictures/prohost-api/Hosting-52747167/original/981d3c46-4544-4edf-80c3-01e17abb0942.jpeg\n"
     ]
    },
    {
     "name": "stderr",
     "output_type": "stream",
     "text": [
      " 23%|██▎       | 1689/7199 [15:52<36:23,  2.52it/s]"
     ]
    },
    {
     "name": "stdout",
     "output_type": "stream",
     "text": [
      "Error en el registro: 52891675, URL: https://a0.muscache.com/pictures/prohost-api/Hosting-52891675/original/d3f6e9e8-421f-4589-b06e-f6be60c8fc10.jpeg\n",
      "Error en el registro: 52891687, URL: https://a0.muscache.com/pictures/prohost-api/Hosting-52891687/original/48fee597-262d-410c-b972-58665f70f713.jpeg\n"
     ]
    },
    {
     "name": "stderr",
     "output_type": "stream",
     "text": [
      " 24%|██▎       | 1694/7199 [15:54<35:13,  2.60it/s]"
     ]
    },
    {
     "name": "stdout",
     "output_type": "stream",
     "text": [
      "Error en el registro: 52922842, URL: https://a0.muscache.com/pictures/prohost-api/Hosting-52922842/original/8d76fa38-ee2d-4b41-a9f1-16d45c88fb98.jpeg\n",
      "Error en el registro: 52928607, URL: https://a0.muscache.com/pictures/prohost-api/Hosting-52928607/original/8a9071c4-1c9e-4d78-8ebc-cee19cb71212.jpeg\n"
     ]
    },
    {
     "name": "stderr",
     "output_type": "stream",
     "text": [
      " 24%|██▎       | 1698/7199 [15:55<29:06,  3.15it/s]"
     ]
    },
    {
     "name": "stdout",
     "output_type": "stream",
     "text": [
      "Error en el registro: 53026499, URL: https://a0.muscache.com/pictures/prohost-api/Hosting-53026499/original/fe966eed-eb34-46eb-925c-56eac2b6583d.jpeg\n",
      "Error en el registro: 53026691, URL: https://a0.muscache.com/pictures/prohost-api/Hosting-53026691/original/3a060fb9-690a-4753-b88d-dd813b359c65.jpeg\n"
     ]
    },
    {
     "name": "stderr",
     "output_type": "stream",
     "text": [
      " 24%|██▎       | 1699/7199 [15:56<24:58,  3.67it/s]"
     ]
    },
    {
     "name": "stdout",
     "output_type": "stream",
     "text": [
      "Error en el registro: 53026920, URL: https://a0.muscache.com/pictures/prohost-api/Hosting-53026920/original/2da62353-bc6b-470e-8a9a-66e90a75acaf.jpeg\n",
      "Error en el registro: 53027109, URL: https://a0.muscache.com/pictures/prohost-api/Hosting-53027109/original/d5272567-0970-4654-9850-67dcf4ceb4e7.jpeg\n"
     ]
    },
    {
     "name": "stderr",
     "output_type": "stream",
     "text": [
      " 24%|██▎       | 1702/7199 [15:56<19:52,  4.61it/s]"
     ]
    },
    {
     "name": "stdout",
     "output_type": "stream",
     "text": [
      "Error en el registro: 53027280, URL: https://a0.muscache.com/pictures/prohost-api/Hosting-53027280/original/978d5cf7-184a-4cc3-8825-c8ad4808f916.jpeg\n",
      "Error en el registro: 53027387, URL: https://a0.muscache.com/pictures/prohost-api/Hosting-53027387/original/175d1bfa-b960-4dc0-897c-da50c7e87af8.jpeg\n"
     ]
    },
    {
     "name": "stderr",
     "output_type": "stream",
     "text": [
      " 24%|██▎       | 1703/7199 [15:56<22:41,  4.04it/s]"
     ]
    },
    {
     "name": "stdout",
     "output_type": "stream",
     "text": [
      "Error en el registro: 53030044, URL: https://a0.muscache.com/pictures/prohost-api/Hosting-53030044/original/bc548525-e3d7-4ec3-9d25-2a856b21d70c.jpeg\n"
     ]
    },
    {
     "name": "stderr",
     "output_type": "stream",
     "text": [
      " 24%|██▎       | 1704/7199 [15:57<22:30,  4.07it/s]"
     ]
    },
    {
     "name": "stdout",
     "output_type": "stream",
     "text": [
      "Error en el registro: 53056956, URL: https://a0.muscache.com/pictures/prohost-api/Hosting-53056956/original/cac4b366-899a-4716-82ce-7d7f5f44a48e.jpeg\n"
     ]
    },
    {
     "name": "stderr",
     "output_type": "stream",
     "text": [
      " 24%|██▎       | 1708/7199 [15:58<32:44,  2.80it/s]"
     ]
    },
    {
     "name": "stdout",
     "output_type": "stream",
     "text": [
      "Error en el registro: 53105012, URL: https://a0.muscache.com/pictures/prohost-api/Hosting-53105012/original/d00bed5c-ee7b-472d-a1e2-f799ce22f565.jpeg\n"
     ]
    },
    {
     "name": "stderr",
     "output_type": "stream",
     "text": [
      " 24%|██▍       | 1718/7199 [16:05<46:02,  1.98it/s]  "
     ]
    },
    {
     "name": "stdout",
     "output_type": "stream",
     "text": [
      "Error en el registro: 53179806, URL: https://a0.muscache.com/pictures/prohost-api/Hosting-53179806/original/29613086-755a-4778-9467-67d8cb915c89.jpeg\n"
     ]
    },
    {
     "name": "stderr",
     "output_type": "stream",
     "text": [
      " 24%|██▍       | 1720/7199 [16:06<37:23,  2.44it/s]"
     ]
    },
    {
     "name": "stdout",
     "output_type": "stream",
     "text": [
      "Error en el registro: 53185790, URL: https://a0.muscache.com/pictures/9fb3b90f-d3e3-447f-96d6-a73d1cc6503b.jpg\n"
     ]
    },
    {
     "name": "stderr",
     "output_type": "stream",
     "text": [
      " 24%|██▍       | 1732/7199 [16:12<48:41,  1.87it/s]"
     ]
    },
    {
     "name": "stdout",
     "output_type": "stream",
     "text": [
      "Error en el registro: 53307896, URL: https://a0.muscache.com/pictures/prohost-api/Hosting-53307896/original/bdfcb0d8-ae48-425d-84de-f68417c99b15.jpeg\n"
     ]
    },
    {
     "name": "stderr",
     "output_type": "stream",
     "text": [
      " 24%|██▍       | 1733/7199 [16:13<40:18,  2.26it/s]"
     ]
    },
    {
     "name": "stdout",
     "output_type": "stream",
     "text": [
      "Error en el registro: 53307955, URL: https://a0.muscache.com/pictures/prohost-api/Hosting-53307955/original/3d10cd62-2f28-4aa2-81aa-f9d19696a03d.jpeg\n"
     ]
    },
    {
     "name": "stderr",
     "output_type": "stream",
     "text": [
      " 24%|██▍       | 1734/7199 [16:13<34:08,  2.67it/s]"
     ]
    },
    {
     "name": "stdout",
     "output_type": "stream",
     "text": [
      "Error en el registro: 53321922, URL: https://a0.muscache.com/pictures/cc9e1538-7ac2-47c5-8322-32db49b813d4.jpg\n"
     ]
    },
    {
     "name": "stderr",
     "output_type": "stream",
     "text": [
      " 24%|██▍       | 1739/7199 [16:16<43:09,  2.11it/s]  "
     ]
    },
    {
     "name": "stdout",
     "output_type": "stream",
     "text": [
      "Error en el registro: 53378837, URL: https://a0.muscache.com/pictures/9b24444b-a3f2-4be7-a13c-07df8d94a5f4.jpg\n"
     ]
    },
    {
     "name": "stderr",
     "output_type": "stream",
     "text": [
      " 24%|██▍       | 1742/7199 [16:18<43:49,  2.08it/s]  "
     ]
    },
    {
     "name": "stdout",
     "output_type": "stream",
     "text": [
      "Error en el registro: 53428804, URL: https://a0.muscache.com/pictures/prohost-api/Hosting-53428804/original/be2eaed8-9b31-480d-98f8-101ab09463ab.jpeg\n",
      "Error en el registro: 53462366, URL: https://a0.muscache.com/pictures/prohost-api/Hosting-53462366/original/a68d8ef5-de1b-4d65-ab7e-d75ab3e67424.png\n"
     ]
    },
    {
     "name": "stderr",
     "output_type": "stream",
     "text": [
      " 24%|██▍       | 1744/7199 [16:19<34:56,  2.60it/s]"
     ]
    },
    {
     "name": "stdout",
     "output_type": "stream",
     "text": [
      "Error en el registro: 53471426, URL: https://a0.muscache.com/pictures/prohost-api/Hosting-53471426/original/8750208e-5400-4932-884d-2eb7dfa8f9c6.jpeg\n"
     ]
    },
    {
     "name": "stderr",
     "output_type": "stream",
     "text": [
      " 24%|██▍       | 1751/7199 [16:22<39:37,  2.29it/s]  "
     ]
    },
    {
     "name": "stdout",
     "output_type": "stream",
     "text": [
      "Error en el registro: 53541620, URL: https://a0.muscache.com/pictures/prohost-api/Hosting-53541620/original/c6b2db9a-1876-4696-a6cf-c7834a870d8c.jpeg\n"
     ]
    },
    {
     "name": "stderr",
     "output_type": "stream",
     "text": [
      " 24%|██▍       | 1758/7199 [16:27<44:35,  2.03it/s]  "
     ]
    },
    {
     "name": "stdout",
     "output_type": "stream",
     "text": [
      "Error en el registro: 53631121, URL: https://a0.muscache.com/pictures/miso/Hosting-53631121/original/4fe32bfc-0048-442e-8823-3bf637738101.jpeg\n"
     ]
    },
    {
     "name": "stderr",
     "output_type": "stream",
     "text": [
      " 24%|██▍       | 1759/7199 [16:27<37:17,  2.43it/s]"
     ]
    },
    {
     "name": "stdout",
     "output_type": "stream",
     "text": [
      "Error en el registro: 53631431, URL: https://a0.muscache.com/pictures/miso/Hosting-53631431/original/a72b033f-5b23-42fd-9e39-ead73c0642e4.jpeg\n"
     ]
    },
    {
     "name": "stderr",
     "output_type": "stream",
     "text": [
      " 24%|██▍       | 1760/7199 [16:27<31:55,  2.84it/s]"
     ]
    },
    {
     "name": "stdout",
     "output_type": "stream",
     "text": [
      "Error en el registro: 53631585, URL: https://a0.muscache.com/pictures/miso/Hosting-53631585/original/2638283e-f499-4ae1-8d95-07951e1e693a.jpeg\n"
     ]
    },
    {
     "name": "stderr",
     "output_type": "stream",
     "text": [
      " 24%|██▍       | 1763/7199 [16:28<31:14,  2.90it/s]"
     ]
    },
    {
     "name": "stdout",
     "output_type": "stream",
     "text": [
      "Error en el registro: 53699018, URL: https://a0.muscache.com/pictures/prohost-api/Hosting-53699018/original/076e7f99-177e-493c-ae50-a794a4982e11.jpeg\n"
     ]
    },
    {
     "name": "stderr",
     "output_type": "stream",
     "text": [
      " 25%|██▍       | 1766/7199 [16:29<24:19,  3.72it/s]"
     ]
    },
    {
     "name": "stdout",
     "output_type": "stream",
     "text": [
      "Error en el registro: 53733454, URL: https://a0.muscache.com/pictures/prohost-api/Hosting-53733454/original/53c3e939-e6e9-4de7-914d-beeda824a1fb.jpeg\n",
      "Error en el registro: 53733834, URL: https://a0.muscache.com/pictures/prohost-api/Hosting-53733834/original/9d1d0196-1355-4f35-83b7-199ff53c0ad5.jpeg\n"
     ]
    },
    {
     "name": "stderr",
     "output_type": "stream",
     "text": [
      " 25%|██▍       | 1778/7199 [16:34<37:39,  2.40it/s]"
     ]
    },
    {
     "name": "stdout",
     "output_type": "stream",
     "text": [
      "Error en el registro: 53873611, URL: https://a0.muscache.com/pictures/prohost-api/Hosting-53873611/original/998d36d4-f555-4788-9462-2192ace76dd0.jpeg\n"
     ]
    },
    {
     "name": "stderr",
     "output_type": "stream",
     "text": [
      " 25%|██▍       | 1782/7199 [16:36<39:17,  2.30it/s]"
     ]
    },
    {
     "name": "stdout",
     "output_type": "stream",
     "text": [
      "Error en el registro: 53914758, URL: https://a0.muscache.com/pictures/prohost-api/Hosting-53914758/original/af469d69-e8a1-4057-965f-a4d116169619.jpeg\n"
     ]
    },
    {
     "name": "stderr",
     "output_type": "stream",
     "text": [
      " 25%|██▍       | 1784/7199 [16:37<28:31,  3.16it/s]"
     ]
    },
    {
     "name": "stdout",
     "output_type": "stream",
     "text": [
      "Error en el registro: 53932819, URL: https://a0.muscache.com/pictures/prohost-api/Hosting-53932819/original/a7cca99b-89c4-4878-93a4-1f5c99a3d05e.jpeg\n",
      "Error en el registro: 53964554, URL: https://a0.muscache.com/pictures/prohost-api/Hosting-53964554/original/751cf211-2da2-4cc2-9716-1527e6da595f.jpeg\n"
     ]
    },
    {
     "name": "stderr",
     "output_type": "stream",
     "text": [
      " 25%|██▍       | 1786/7199 [16:37<29:33,  3.05it/s]"
     ]
    },
    {
     "name": "stdout",
     "output_type": "stream",
     "text": [
      "Error en el registro: 53992722, URL: https://a0.muscache.com/pictures/miso/Hosting-53992722/original/91988b70-62b7-4c95-8c83-6c144d6a6d48.jpeg\n"
     ]
    },
    {
     "name": "stderr",
     "output_type": "stream",
     "text": [
      " 25%|██▍       | 1788/7199 [16:38<25:15,  3.57it/s]"
     ]
    },
    {
     "name": "stdout",
     "output_type": "stream",
     "text": [
      "Error en el registro: 54047272, URL: https://a0.muscache.com/pictures/prohost-api/Hosting-54047272/original/f4eb3cfa-21c1-4a69-ab4e-4d2d4d592621.jpeg\n"
     ]
    },
    {
     "name": "stderr",
     "output_type": "stream",
     "text": [
      " 25%|██▍       | 1791/7199 [16:39<37:02,  2.43it/s]"
     ]
    },
    {
     "name": "stdout",
     "output_type": "stream",
     "text": [
      "Error en el registro: 54159081, URL: https://a0.muscache.com/pictures/prohost-api/Hosting-54159081/original/921d1884-5d26-422d-b5ad-175589408d8d.jpeg\n"
     ]
    },
    {
     "name": "stderr",
     "output_type": "stream",
     "text": [
      " 25%|██▍       | 1792/7199 [16:40<38:46,  2.32it/s]"
     ]
    },
    {
     "name": "stdout",
     "output_type": "stream",
     "text": [
      "Error en el registro: 54159310, URL: https://a0.muscache.com/pictures/prohost-api/Hosting-54159310/original/779d8c2e-401f-4316-9921-215e22c36edc.jpeg\n"
     ]
    },
    {
     "name": "stderr",
     "output_type": "stream",
     "text": [
      " 25%|██▌       | 1806/7199 [16:45<30:03,  2.99it/s]"
     ]
    },
    {
     "name": "stdout",
     "output_type": "stream",
     "text": [
      "Error en el registro: 54384571, URL: https://a0.muscache.com/pictures/miso/Hosting-54384571/original/a14887f0-6ec8-4aeb-b095-cdbbf814df8c.jpeg\n"
     ]
    },
    {
     "name": "stderr",
     "output_type": "stream",
     "text": [
      " 25%|██▌       | 1808/7199 [16:46<29:08,  3.08it/s]"
     ]
    },
    {
     "name": "stdout",
     "output_type": "stream",
     "text": [
      "Error en el registro: 54399424, URL: https://a0.muscache.com/pictures/prohost-api/Hosting-54399424/original/417a2fd3-e7c4-441a-af3a-644c12a813cb.jpeg\n"
     ]
    },
    {
     "name": "stderr",
     "output_type": "stream",
     "text": [
      " 25%|██▌       | 1814/7199 [16:48<34:05,  2.63it/s]"
     ]
    },
    {
     "name": "stdout",
     "output_type": "stream",
     "text": [
      "Error en el registro: 542466980559114057, URL: https://a0.muscache.com/pictures/prohost-api/Hosting-542466980559114057/original/f63c7a91-1d1b-4785-80dc-73df231518d9.jpeg\n"
     ]
    },
    {
     "name": "stderr",
     "output_type": "stream",
     "text": [
      " 25%|██▌       | 1816/7199 [16:49<28:59,  3.09it/s]"
     ]
    },
    {
     "name": "stdout",
     "output_type": "stream",
     "text": [
      "Error en el registro: 543436362799833668, URL: https://a0.muscache.com/pictures/prohost-api/Hosting-543436362799833668/original/73dc4fed-1ceb-4076-97a7-a38fa0b5b98f.jpeg\n"
     ]
    },
    {
     "name": "stderr",
     "output_type": "stream",
     "text": [
      " 25%|██▌       | 1817/7199 [16:49<26:34,  3.37it/s]"
     ]
    },
    {
     "name": "stdout",
     "output_type": "stream",
     "text": [
      "Error en el registro: 544684082770820787, URL: https://a0.muscache.com/pictures/prohost-api/Hosting-544684082770820787/original/ade61381-22d6-49d3-b706-e142ba879680.jpeg\n"
     ]
    },
    {
     "name": "stderr",
     "output_type": "stream",
     "text": [
      " 25%|██▌       | 1818/7199 [16:49<27:16,  3.29it/s]"
     ]
    },
    {
     "name": "stdout",
     "output_type": "stream",
     "text": [
      "Error en el registro: 544686606795535057, URL: https://a0.muscache.com/pictures/prohost-api/Hosting-544686606795535057/original/3a436f2a-4093-4dee-8b13-a6ed9ea64e1a.jpeg\n"
     ]
    },
    {
     "name": "stderr",
     "output_type": "stream",
     "text": [
      " 25%|██▌       | 1824/7199 [16:53<45:19,  1.98it/s]"
     ]
    },
    {
     "name": "stdout",
     "output_type": "stream",
     "text": [
      "Error en el registro: 548393136882554658, URL: https://a0.muscache.com/pictures/miso/Hosting-548393136882554658/original/92f40793-ed9a-4a7e-906b-8c6a7f34664e.jpeg\n"
     ]
    },
    {
     "name": "stderr",
     "output_type": "stream",
     "text": [
      " 25%|██▌       | 1825/7199 [16:53<38:26,  2.33it/s]"
     ]
    },
    {
     "name": "stdout",
     "output_type": "stream",
     "text": [
      "Error en el registro: 548409183091048221, URL: https://a0.muscache.com/pictures/miso/Hosting-548409183091048221/original/d01945ae-728a-4781-9a3d-37b94327d2ab.jpeg\n"
     ]
    },
    {
     "name": "stderr",
     "output_type": "stream",
     "text": [
      " 25%|██▌       | 1827/7199 [16:54<28:02,  3.19it/s]"
     ]
    },
    {
     "name": "stdout",
     "output_type": "stream",
     "text": [
      "Error en el registro: 548424627632198069, URL: https://a0.muscache.com/pictures/miso/Hosting-548424627632198069/original/06686dc0-470f-4a33-a0c2-f61ca9e80c91.jpeg\n",
      "Error en el registro: 548433540428028477, URL: https://a0.muscache.com/pictures/miso/Hosting-548433540428028477/original/6a34ad68-7a45-47e4-9144-2da30363a5f5.jpeg\n"
     ]
    },
    {
     "name": "stderr",
     "output_type": "stream",
     "text": [
      " 25%|██▌       | 1828/7199 [16:54<27:30,  3.25it/s]"
     ]
    },
    {
     "name": "stdout",
     "output_type": "stream",
     "text": [
      "Error en el registro: 549048342007595380, URL: https://a0.muscache.com/pictures/prohost-api/Hosting-549048342007595380/original/236ff7f9-c853-47ad-93ba-4fc9b2c4994b.jpeg\n"
     ]
    },
    {
     "name": "stderr",
     "output_type": "stream",
     "text": [
      " 25%|██▌       | 1829/7199 [16:54<24:59,  3.58it/s]"
     ]
    },
    {
     "name": "stdout",
     "output_type": "stream",
     "text": [
      "Error en el registro: 549055903062655337, URL: https://a0.muscache.com/pictures/prohost-api/Hosting-549055903062655337/original/0f70b22e-4a22-4e2a-a7b7-e7d478866f40.jpeg\n"
     ]
    },
    {
     "name": "stderr",
     "output_type": "stream",
     "text": [
      " 25%|██▌       | 1830/7199 [16:55<25:49,  3.46it/s]"
     ]
    },
    {
     "name": "stdout",
     "output_type": "stream",
     "text": [
      "Error en el registro: 549058407111290129, URL: https://a0.muscache.com/pictures/prohost-api/Hosting-549058407111290129/original/5179f9aa-f925-41b9-8397-4b35ae9c6ca3.jpeg\n"
     ]
    },
    {
     "name": "stderr",
     "output_type": "stream",
     "text": [
      " 25%|██▌       | 1835/7199 [16:57<34:43,  2.57it/s]"
     ]
    },
    {
     "name": "stdout",
     "output_type": "stream",
     "text": [
      "Error en el registro: 553449835647049763, URL: https://a0.muscache.com/pictures/prohost-api/Hosting-553449835647049763/original/be8b6826-9ebe-4a1e-8414-3258e830ce73.jpeg\n"
     ]
    },
    {
     "name": "stderr",
     "output_type": "stream",
     "text": [
      " 26%|██▌       | 1836/7199 [16:57<30:22,  2.94it/s]"
     ]
    },
    {
     "name": "stdout",
     "output_type": "stream",
     "text": [
      "Error en el registro: 553450125818531583, URL: https://a0.muscache.com/pictures/prohost-api/Hosting-553450125818531583/original/4b84b104-856c-4180-9344-1df6afc63ee6.jpeg\n"
     ]
    },
    {
     "name": "stderr",
     "output_type": "stream",
     "text": [
      " 26%|██▌       | 1849/7199 [17:05<40:34,  2.20it/s]"
     ]
    },
    {
     "name": "stdout",
     "output_type": "stream",
     "text": [
      "Error en el registro: 557094168867486125, URL: https://a0.muscache.com/pictures/prohost-api/Hosting-557094168867486125/original/b3d82f92-608f-4da1-b06b-dc6949852f8f.jpeg\n"
     ]
    },
    {
     "name": "stderr",
     "output_type": "stream",
     "text": [
      " 26%|██▌       | 1850/7199 [17:05<34:12,  2.61it/s]"
     ]
    },
    {
     "name": "stdout",
     "output_type": "stream",
     "text": [
      "Error en el registro: 557094454595424536, URL: https://a0.muscache.com/pictures/prohost-api/Hosting-557094454595424536/original/295861bf-5054-4abd-b752-ad6949ac387b.jpeg\n"
     ]
    },
    {
     "name": "stderr",
     "output_type": "stream",
     "text": [
      " 26%|██▌       | 1851/7199 [17:05<30:54,  2.88it/s]"
     ]
    },
    {
     "name": "stdout",
     "output_type": "stream",
     "text": [
      "Error en el registro: 557861915611213552, URL: https://a0.muscache.com/pictures/prohost-api/Hosting-557861915611213552/original/49369359-68c9-42fd-8ee8-c69b2920c2d1.jpeg\n"
     ]
    },
    {
     "name": "stderr",
     "output_type": "stream",
     "text": [
      " 26%|██▌       | 1852/7199 [17:10<2:40:03,  1.80s/it]"
     ]
    },
    {
     "name": "stdout",
     "output_type": "stream",
     "text": [
      "Error en el registro: 557862346669301479, URL: https://a0.muscache.com/pictures/prohost-api/Hosting-557862346669301479/original/b489cbb8-4ade-4edd-9b52-a5a6f5d27344.jpeg\n"
     ]
    },
    {
     "name": "stderr",
     "output_type": "stream",
     "text": [
      " 26%|██▌       | 1857/7199 [17:13<55:45,  1.60it/s]  "
     ]
    },
    {
     "name": "stdout",
     "output_type": "stream",
     "text": [
      "Error en el registro: 558737352827141257, URL: https://a0.muscache.com/pictures/miso/Hosting-558737352827141257/original/79baa66c-e138-4cf3-a179-e809ed53f868.jpeg\n"
     ]
    },
    {
     "name": "stderr",
     "output_type": "stream",
     "text": [
      " 26%|██▌       | 1860/7199 [17:14<37:39,  2.36it/s]"
     ]
    },
    {
     "name": "stdout",
     "output_type": "stream",
     "text": [
      "Error en el registro: 562909674759088729, URL: https://a0.muscache.com/pictures/prohost-api/Hosting-562909674759088729/original/1bc9d504-3972-4b52-9ae7-5363a05b6d13.jpeg\n"
     ]
    },
    {
     "name": "stderr",
     "output_type": "stream",
     "text": [
      " 26%|██▌       | 1865/7199 [17:16<44:48,  1.98it/s]"
     ]
    },
    {
     "name": "stdout",
     "output_type": "stream",
     "text": [
      "Error en el registro: 566450430168033283, URL: https://a0.muscache.com/pictures/57c74e3b-4199-48e7-be0e-fa8b25672c2a.jpg\n"
     ]
    },
    {
     "name": "stderr",
     "output_type": "stream",
     "text": [
      " 26%|██▌       | 1866/7199 [17:17<42:57,  2.07it/s]"
     ]
    },
    {
     "name": "stdout",
     "output_type": "stream",
     "text": [
      "Error en el registro: 567263377944351900, URL: https://a0.muscache.com/pictures/prohost-api/Hosting-567263377944351900/original/84e7bbe3-615f-474b-a4e4-33a68b0346c1.jpeg\n"
     ]
    },
    {
     "name": "stderr",
     "output_type": "stream",
     "text": [
      " 26%|██▌       | 1868/7199 [17:17<30:29,  2.91it/s]"
     ]
    },
    {
     "name": "stdout",
     "output_type": "stream",
     "text": [
      "Error en el registro: 568692279938660404, URL: https://a0.muscache.com/pictures/prohost-api/Hosting-568692279938660404/original/14e8826d-5df9-4084-ae4c-5e1db70706aa.jpeg\n",
      "Error en el registro: 568694788908431933, URL: https://a0.muscache.com/pictures/prohost-api/Hosting-568694788908431933/original/a82a3209-09fa-462a-ad8c-b9d984e82ac3.jpeg\n"
     ]
    },
    {
     "name": "stderr",
     "output_type": "stream",
     "text": [
      " 26%|██▌       | 1870/7199 [17:18<28:26,  3.12it/s]"
     ]
    },
    {
     "name": "stdout",
     "output_type": "stream",
     "text": [
      "Error en el registro: 569407505309687319, URL: https://a0.muscache.com/pictures/prohost-api/Hosting-569407505309687319/original/233707bb-ef6a-4ea7-a44a-deace00a3418.jpeg\n"
     ]
    },
    {
     "name": "stderr",
     "output_type": "stream",
     "text": [
      " 26%|██▌       | 1876/7199 [17:21<33:57,  2.61it/s]"
     ]
    },
    {
     "name": "stdout",
     "output_type": "stream",
     "text": [
      "Error en el registro: 573072034648033150, URL: https://a0.muscache.com/pictures/prohost-api/Hosting-573072034648033150/original/27e6a227-5af6-40ed-ba4d-f24fadf97f0f.jpeg\n"
     ]
    },
    {
     "name": "stderr",
     "output_type": "stream",
     "text": [
      " 26%|██▌       | 1879/7199 [17:22<32:59,  2.69it/s]"
     ]
    },
    {
     "name": "stdout",
     "output_type": "stream",
     "text": [
      "Error en el registro: 574763198852585805, URL: https://a0.muscache.com/pictures/miso/Hosting-574763198852585805/original/af75010b-d8ec-4072-9353-9f06cfcc3921.jpeg\n"
     ]
    },
    {
     "name": "stderr",
     "output_type": "stream",
     "text": [
      " 26%|██▋       | 1892/7199 [17:29<31:05,  2.84it/s]"
     ]
    },
    {
     "name": "stdout",
     "output_type": "stream",
     "text": [
      "Error en el registro: 578114881460921853, URL: https://a0.muscache.com/pictures/prohost-api/Hosting-578114881460921853/original/8bf3248c-bff6-452a-93a5-52490d002909.jpeg\n",
      "Error en el registro: 578117391619038483, URL: https://a0.muscache.com/pictures/prohost-api/Hosting-578117391619038483/original/e7cf9e88-f212-4cb5-b0b4-6773c8bd5c91.jpeg\n"
     ]
    },
    {
     "name": "stderr",
     "output_type": "stream",
     "text": [
      " 26%|██▋       | 1895/7199 [17:30<31:45,  2.78it/s]"
     ]
    },
    {
     "name": "stdout",
     "output_type": "stream",
     "text": [
      "Error en el registro: 578829581723459472, URL: https://a0.muscache.com/pictures/prohost-api/Hosting-578829581723459472/original/155e748b-66a5-43f2-a469-174a1e38b3ea.jpeg\n"
     ]
    },
    {
     "name": "stderr",
     "output_type": "stream",
     "text": [
      " 26%|██▋       | 1904/7199 [17:35<46:49,  1.88it/s]"
     ]
    },
    {
     "name": "stdout",
     "output_type": "stream",
     "text": [
      "Error en el registro: 579562467128239369, URL: https://a0.muscache.com/pictures/miso/Hosting-579562467128239369/original/63b6a232-7682-4846-91bf-93d1ea32843f.jpeg\n"
     ]
    },
    {
     "name": "stderr",
     "output_type": "stream",
     "text": [
      " 26%|██▋       | 1905/7199 [17:35<38:38,  2.28it/s]"
     ]
    },
    {
     "name": "stdout",
     "output_type": "stream",
     "text": [
      "Error en el registro: 580336513335041407, URL: https://a0.muscache.com/pictures/prohost-api/Hosting-580336513335041407/original/7f3d580f-714a-42aa-825c-acd981deb23d.jpeg\n"
     ]
    },
    {
     "name": "stderr",
     "output_type": "stream",
     "text": [
      " 26%|██▋       | 1906/7199 [17:35<33:03,  2.67it/s]"
     ]
    },
    {
     "name": "stdout",
     "output_type": "stream",
     "text": [
      "Error en el registro: 580339548657084895, URL: https://a0.muscache.com/pictures/prohost-api/Hosting-580339548657084895/original/ed78c4a6-4e31-4c8e-afcd-8b8182c50ff9.jpeg\n"
     ]
    },
    {
     "name": "stderr",
     "output_type": "stream",
     "text": [
      " 27%|██▋       | 1908/7199 [17:36<31:14,  2.82it/s]"
     ]
    },
    {
     "name": "stdout",
     "output_type": "stream",
     "text": [
      "Error en el registro: 580340188480812217, URL: https://a0.muscache.com/pictures/prohost-api/Hosting-580340188480812217/original/1197adce-808f-47f0-bb65-6da038ac04d5.jpeg\n",
      "Error en el registro: 580342069798808551, URL: https://a0.muscache.com/pictures/prohost-api/Hosting-580342069798808551/original/0386eaae-0b67-4c96-b2cc-ebadd9e96fb8.jpeg\n"
     ]
    },
    {
     "name": "stderr",
     "output_type": "stream",
     "text": [
      " 27%|██▋       | 1909/7199 [17:36<27:57,  3.15it/s]"
     ]
    },
    {
     "name": "stdout",
     "output_type": "stream",
     "text": [
      "Error en el registro: 580442259470637184, URL: https://a0.muscache.com/pictures/prohost-api/Hosting-580442259470637184/original/642c2f0a-d10e-402b-95b1-0de7bf419fa8.png\n"
     ]
    },
    {
     "name": "stderr",
     "output_type": "stream",
     "text": [
      " 27%|██▋       | 1910/7199 [17:37<26:31,  3.32it/s]"
     ]
    },
    {
     "name": "stdout",
     "output_type": "stream",
     "text": [
      "Error en el registro: 580524519215857438, URL: https://a0.muscache.com/pictures/miso/Hosting-580524519215857438/original/6e6c5925-10dd-4ea2-9208-b36ab63af73d.jpeg\n"
     ]
    },
    {
     "name": "stderr",
     "output_type": "stream",
     "text": [
      " 27%|██▋       | 1924/7199 [17:43<37:49,  2.32it/s]"
     ]
    },
    {
     "name": "stdout",
     "output_type": "stream",
     "text": [
      "Error en el registro: 584818002913089374, URL: https://a0.muscache.com/pictures/miso/Hosting-584818002913089374/original/72c64e24-afb7-4e9b-a83f-bf62039debe4.jpeg\n"
     ]
    },
    {
     "name": "stderr",
     "output_type": "stream",
     "text": [
      " 27%|██▋       | 1927/7199 [17:45<35:14,  2.49it/s]"
     ]
    },
    {
     "name": "stdout",
     "output_type": "stream",
     "text": [
      "Error en el registro: 585228758807996843, URL: https://a0.muscache.com/pictures/prohost-api/Hosting-585228758807996843/original/09539fa6-9ab4-4732-bcd0-0c40e12d9d8a.jpeg\n"
     ]
    },
    {
     "name": "stderr",
     "output_type": "stream",
     "text": [
      " 27%|██▋       | 1934/7199 [17:49<52:52,  1.66it/s]"
     ]
    },
    {
     "name": "stdout",
     "output_type": "stream",
     "text": [
      "Error en el registro: 592635565577244428, URL: https://a0.muscache.com/pictures/prohost-api/Hosting-592635565577244428/original/579ac205-ac53-4470-b279-5a9008a77a5b.jpeg\n"
     ]
    },
    {
     "name": "stderr",
     "output_type": "stream",
     "text": [
      " 27%|██▋       | 1936/7199 [17:50<49:04,  1.79it/s]  "
     ]
    },
    {
     "name": "stdout",
     "output_type": "stream",
     "text": [
      "Error en el registro: 594797282646385297, URL: https://a0.muscache.com/pictures/prohost-api/Hosting-594797282646385297/original/22cb397b-e85f-43b2-81e7-37a84578bf3e.jpeg\n"
     ]
    },
    {
     "name": "stderr",
     "output_type": "stream",
     "text": [
      " 27%|██▋       | 1945/7199 [17:57<50:37,  1.73it/s]  "
     ]
    },
    {
     "name": "stdout",
     "output_type": "stream",
     "text": [
      "Error en el registro: 598404279154016952, URL: https://a0.muscache.com/pictures/prohost-api/Hosting-598404279154016952/original/34b62598-91cc-40d5-80ee-6bc805c9f2b5.jpeg\n"
     ]
    },
    {
     "name": "stderr",
     "output_type": "stream",
     "text": [
      " 27%|██▋       | 1954/7199 [18:02<46:29,  1.88it/s]  "
     ]
    },
    {
     "name": "stdout",
     "output_type": "stream",
     "text": [
      "Error en el registro: 604223920210757772, URL: https://a0.muscache.com/pictures/prohost-api/Hosting-604223920210757772/original/b73033c1-cd42-4e00-b0ed-a09b5f498c14.jpeg\n"
     ]
    },
    {
     "name": "stderr",
     "output_type": "stream",
     "text": [
      " 27%|██▋       | 1956/7199 [18:03<33:36,  2.60it/s]"
     ]
    },
    {
     "name": "stdout",
     "output_type": "stream",
     "text": [
      "Error en el registro: 604231971121077035, URL: https://a0.muscache.com/pictures/prohost-api/Hosting-604231971121077035/original/8a842a04-da7b-4a52-8559-4c90a446bd1c.jpeg\n",
      "Error en el registro: 604232269991905294, URL: https://a0.muscache.com/pictures/prohost-api/Hosting-604232269991905294/original/a22778dc-61b7-4e16-a3c8-9792503504ff.jpeg\n"
     ]
    },
    {
     "name": "stderr",
     "output_type": "stream",
     "text": [
      " 27%|██▋       | 1958/7199 [18:03<30:04,  2.90it/s]"
     ]
    },
    {
     "name": "stdout",
     "output_type": "stream",
     "text": [
      "Error en el registro: 604234472085817955, URL: https://a0.muscache.com/pictures/prohost-api/Hosting-604234472085817955/original/761a51e0-aba1-4fc4-a11a-d457b5375822.jpeg\n"
     ]
    },
    {
     "name": "stderr",
     "output_type": "stream",
     "text": [
      " 27%|██▋       | 1960/7199 [18:04<28:36,  3.05it/s]"
     ]
    },
    {
     "name": "stdout",
     "output_type": "stream",
     "text": [
      "Error en el registro: 604951714437257587, URL: https://a0.muscache.com/pictures/prohost-api/Hosting-604951714437257587/original/767f84ef-275a-4d26-a3d9-65ab3b258c27.jpeg\n"
     ]
    },
    {
     "name": "stderr",
     "output_type": "stream",
     "text": [
      " 27%|██▋       | 1963/7199 [18:05<33:16,  2.62it/s]"
     ]
    },
    {
     "name": "stdout",
     "output_type": "stream",
     "text": [
      "Error en el registro: 608359192793639653, URL: https://a0.muscache.com/pictures/prohost-api/Hosting-608359192793639653/original/c3e76481-b618-4948-af0b-4b71727b1201.jpeg\n"
     ]
    },
    {
     "name": "stderr",
     "output_type": "stream",
     "text": [
      " 27%|██▋       | 1964/7199 [18:06<37:11,  2.35it/s]"
     ]
    },
    {
     "name": "stdout",
     "output_type": "stream",
     "text": [
      "Error en el registro: 608359496810075683, URL: https://a0.muscache.com/pictures/prohost-api/Hosting-608359496810075683/original/eadf3fdf-0d24-4922-b7c3-3fa533b1a24a.jpeg\n"
     ]
    },
    {
     "name": "stderr",
     "output_type": "stream",
     "text": [
      " 27%|██▋       | 1965/7199 [18:06<35:05,  2.49it/s]"
     ]
    },
    {
     "name": "stdout",
     "output_type": "stream",
     "text": [
      "Error en el registro: 608658771570500261, URL: https://a0.muscache.com/pictures/miso/Hosting-608658771570500261/original/4f9287ef-9726-49bd-afd7-1261614c2e23.jpeg\n"
     ]
    },
    {
     "name": "stderr",
     "output_type": "stream",
     "text": [
      " 27%|██▋       | 1976/7199 [18:14<42:50,  2.03it/s]  "
     ]
    },
    {
     "name": "stdout",
     "output_type": "stream",
     "text": [
      "Error en el registro: 612908141225302683, URL: https://a0.muscache.com/pictures/prohost-api/Hosting-612908141225302683/original/8e783dfe-af26-4041-aba6-343259802678.jpeg\n"
     ]
    },
    {
     "name": "stderr",
     "output_type": "stream",
     "text": [
      " 28%|██▊       | 1995/7199 [18:26<44:45,  1.94it/s]  "
     ]
    },
    {
     "name": "stdout",
     "output_type": "stream",
     "text": [
      "Error en el registro: 619253446291935967, URL: https://a0.muscache.com/pictures/prohost-api/Hosting-619253446291935967/original/6c8e77a8-3db8-4644-a736-8d137bf3d00a.jpeg\n"
     ]
    },
    {
     "name": "stderr",
     "output_type": "stream",
     "text": [
      " 28%|██▊       | 2000/7199 [18:29<42:51,  2.02it/s]"
     ]
    },
    {
     "name": "stdout",
     "output_type": "stream",
     "text": [
      "Error en el registro: 620726386166322193, URL: https://a0.muscache.com/pictures/prohost-api/Hosting-620726386166322193/original/4ef78345-dfe4-4e20-bc50-f5f846db8dbe.jpeg\n"
     ]
    },
    {
     "name": "stderr",
     "output_type": "stream",
     "text": [
      " 28%|██▊       | 2006/7199 [18:32<36:09,  2.39it/s]"
     ]
    },
    {
     "name": "stdout",
     "output_type": "stream",
     "text": [
      "Error en el registro: 622413306658128240, URL: https://a0.muscache.com/pictures/miso/Hosting-622413306658128240/original/0a864c78-21a8-412e-b679-c11b68b3eda6.jpeg\n"
     ]
    },
    {
     "name": "stderr",
     "output_type": "stream",
     "text": [
      " 28%|██▊       | 2009/7199 [18:33<36:35,  2.36it/s]"
     ]
    },
    {
     "name": "stdout",
     "output_type": "stream",
     "text": [
      "Error en el registro: 623029409486034434, URL: https://a0.muscache.com/pictures/prohost-api/Hosting-623029409486034434/original/c291ac87-a95e-4baa-9831-8b80607ea8fa.jpeg\n"
     ]
    },
    {
     "name": "stderr",
     "output_type": "stream",
     "text": [
      " 28%|██▊       | 2012/7199 [18:35<38:12,  2.26it/s]"
     ]
    },
    {
     "name": "stdout",
     "output_type": "stream",
     "text": [
      "Error en el registro: 623174295658849560, URL: https://a0.muscache.com/pictures/prohost-api/Hosting-623174295658849560/original/dc77fe0f-5d72-4075-887f-2ab98da928a7.jpeg\n"
     ]
    },
    {
     "name": "stderr",
     "output_type": "stream",
     "text": [
      " 28%|██▊       | 2013/7199 [18:35<32:39,  2.65it/s]"
     ]
    },
    {
     "name": "stdout",
     "output_type": "stream",
     "text": [
      "Error en el registro: 623619726219332946, URL: https://a0.muscache.com/pictures/prohost-api/Hosting-623619726219332946/original/14609c8d-a85d-4929-b395-b1f673d19062.jpeg\n"
     ]
    },
    {
     "name": "stderr",
     "output_type": "stream",
     "text": [
      " 28%|██▊       | 2027/7199 [18:42<29:38,  2.91it/s]"
     ]
    },
    {
     "name": "stdout",
     "output_type": "stream",
     "text": [
      "Error en el registro: 633058908634454665, URL: https://a0.muscache.com/pictures/prohost-api/Hosting-633058908634454665/original/d584f0b2-3d14-4263-b200-b4a159ee0bb4.jpeg\n"
     ]
    },
    {
     "name": "stderr",
     "output_type": "stream",
     "text": [
      " 28%|██▊       | 2028/7199 [18:42<26:17,  3.28it/s]"
     ]
    },
    {
     "name": "stdout",
     "output_type": "stream",
     "text": [
      "Error en el registro: 633240905689427322, URL: https://a0.muscache.com/pictures/84794d3e-d997-480c-b9c7-4fe8ab39f676.jpg\n"
     ]
    },
    {
     "name": "stderr",
     "output_type": "stream",
     "text": [
      " 28%|██▊       | 2033/7199 [18:45<34:29,  2.50it/s]"
     ]
    },
    {
     "name": "stdout",
     "output_type": "stream",
     "text": [
      "Error en el registro: 634543701606720546, URL: https://a0.muscache.com/pictures/prohost-api/Hosting-634543701606720546/original/6b2b925e-f7ec-400e-8ae5-f9d1696971af.jpeg\n"
     ]
    },
    {
     "name": "stderr",
     "output_type": "stream",
     "text": [
      " 28%|██▊       | 2043/7199 [18:51<44:23,  1.94it/s]  "
     ]
    },
    {
     "name": "stdout",
     "output_type": "stream",
     "text": [
      "Error en el registro: 636288932942854774, URL: https://a0.muscache.com/pictures/miso/Hosting-636288932942854774/original/53176ca0-ac54-4306-80b9-440cf02b21a1.jpeg\n",
      "Error en el registro: 638235027182813304, URL: https://a0.muscache.com/pictures/prohost-api/Hosting-638235027182813304/original/e8025544-cf54-4bd1-9f8a-ffb9e9869afe.jpeg\n"
     ]
    },
    {
     "name": "stderr",
     "output_type": "stream",
     "text": [
      " 28%|██▊       | 2045/7199 [18:51<35:10,  2.44it/s]"
     ]
    },
    {
     "name": "stdout",
     "output_type": "stream",
     "text": [
      "Error en el registro: 638473569363708335, URL: https://a0.muscache.com/pictures/miso/Hosting-638473569363708335/original/e8cc0175-519b-459b-a140-b88976d6daeb.jpeg\n"
     ]
    },
    {
     "name": "stderr",
     "output_type": "stream",
     "text": [
      " 29%|██▉       | 2074/7199 [19:03<27:02,  3.16it/s]"
     ]
    },
    {
     "name": "stdout",
     "output_type": "stream",
     "text": [
      "Error en el registro: 649227798792183262, URL: https://a0.muscache.com/pictures/miso/Hosting-649227798792183262/original/94a68d76-70d0-44aa-9e8b-fd241143d7f0.jpeg\n"
     ]
    },
    {
     "name": "stderr",
     "output_type": "stream",
     "text": [
      " 29%|██▉       | 2076/7199 [19:04<25:35,  3.34it/s]"
     ]
    },
    {
     "name": "stdout",
     "output_type": "stream",
     "text": [
      "Error en el registro: 650670596271554040, URL: https://a0.muscache.com/pictures/b5f824b9-f2b3-4dae-9d35-5fec22d94a3a.jpg\n"
     ]
    },
    {
     "name": "stderr",
     "output_type": "stream",
     "text": [
      " 29%|██▉       | 2082/7199 [19:07<35:11,  2.42it/s]"
     ]
    },
    {
     "name": "stdout",
     "output_type": "stream",
     "text": [
      "Error en el registro: 655514870814006563, URL: https://a0.muscache.com/pictures/prohost-api/Hosting-655514870814006563/original/724771b1-5a01-4fdd-909c-e7d727a7bd81.jpeg\n"
     ]
    },
    {
     "name": "stderr",
     "output_type": "stream",
     "text": [
      " 29%|██▉       | 2083/7199 [19:07<30:02,  2.84it/s]"
     ]
    },
    {
     "name": "stdout",
     "output_type": "stream",
     "text": [
      "Error en el registro: 655515158683197472, URL: https://a0.muscache.com/pictures/prohost-api/Hosting-655515158683197472/original/4b649a39-4db9-4bb2-bff6-5a4bdc248087.jpeg\n"
     ]
    },
    {
     "name": "stderr",
     "output_type": "stream",
     "text": [
      " 29%|██▉       | 2084/7199 [19:07<26:29,  3.22it/s]"
     ]
    },
    {
     "name": "stdout",
     "output_type": "stream",
     "text": [
      "Error en el registro: 655515533603303924, URL: https://a0.muscache.com/pictures/prohost-api/Hosting-655515533603303924/original/81017bdd-993a-47c5-9221-58cd085f4a6c.jpeg\n"
     ]
    },
    {
     "name": "stderr",
     "output_type": "stream",
     "text": [
      " 29%|██▉       | 2090/7199 [19:09<22:47,  3.73it/s]"
     ]
    },
    {
     "name": "stdout",
     "output_type": "stream",
     "text": [
      "Error en el registro: 658616819945465934, URL: https://a0.muscache.com/pictures/prohost-api/Hosting-658616819945465934/original/23ab522e-1c82-401f-b979-95f7f667f284.jpeg\n",
      "Error en el registro: 658713146354442625, URL: https://a0.muscache.com/pictures/miso/Hosting-658713146354442625/original/43d951e7-f273-4e91-970d-d02965c399e3.jpeg\n"
     ]
    },
    {
     "name": "stderr",
     "output_type": "stream",
     "text": [
      " 29%|██▉       | 2092/7199 [19:10<30:43,  2.77it/s]"
     ]
    },
    {
     "name": "stdout",
     "output_type": "stream",
     "text": [
      "Error en el registro: 658765857439531363, URL: https://a0.muscache.com/pictures/miso/Hosting-658765857439531363/original/616fe3ad-23bb-49cc-bf8b-66453e0dd7ff.jpeg\n"
     ]
    },
    {
     "name": "stderr",
     "output_type": "stream",
     "text": [
      " 29%|██▉       | 2094/7199 [19:11<33:38,  2.53it/s]"
     ]
    },
    {
     "name": "stdout",
     "output_type": "stream",
     "text": [
      "Error en el registro: 659156386290642679, URL: https://a0.muscache.com/pictures/prohost-api/Hosting-659156386290642679/original/a5625cb5-579d-496f-9ccb-25b8f722b917.jpeg\n"
     ]
    },
    {
     "name": "stderr",
     "output_type": "stream",
     "text": [
      " 29%|██▉       | 2096/7199 [19:12<26:54,  3.16it/s]"
     ]
    },
    {
     "name": "stdout",
     "output_type": "stream",
     "text": [
      "Error en el registro: 659511501225097577, URL: https://a0.muscache.com/pictures/miso/Hosting-659511501225097577/original/3bee1537-70e2-421a-9886-7da374880177.jpeg\n"
     ]
    },
    {
     "name": "stderr",
     "output_type": "stream",
     "text": [
      " 29%|██▉       | 2110/7199 [19:19<33:39,  2.52it/s]"
     ]
    },
    {
     "name": "stdout",
     "output_type": "stream",
     "text": [
      "Error en el registro: 666383993088270320, URL: https://a0.muscache.com/pictures/prohost-api/Hosting-666383993088270320/original/143267b2-34a1-4129-91e7-cfbf5ffd99f2.jpeg\n"
     ]
    },
    {
     "name": "stderr",
     "output_type": "stream",
     "text": [
      " 29%|██▉       | 2115/7199 [19:22<36:41,  2.31it/s]"
     ]
    },
    {
     "name": "stdout",
     "output_type": "stream",
     "text": [
      "Error en el registro: 668818916257742515, URL: https://a0.muscache.com/pictures/miso/Hosting-668818916257742515/original/d356e43b-10f2-4007-af4c-5984cddf69d2.png\n"
     ]
    },
    {
     "name": "stderr",
     "output_type": "stream",
     "text": [
      " 29%|██▉       | 2120/7199 [19:24<31:47,  2.66it/s]"
     ]
    },
    {
     "name": "stdout",
     "output_type": "stream",
     "text": [
      "Error en el registro: 670105594005404482, URL: https://a0.muscache.com/pictures/prohost-api/Hosting-670105594005404482/original/c1ffef6e-0359-4048-bbe6-229ca2fb8cd4.jpeg\n"
     ]
    },
    {
     "name": "stderr",
     "output_type": "stream",
     "text": [
      " 30%|██▉       | 2136/7199 [19:32<50:05,  1.68it/s]  "
     ]
    },
    {
     "name": "stdout",
     "output_type": "stream",
     "text": [
      "Error en el registro: 674344475189896557, URL: https://a0.muscache.com/pictures/prohost-api/Hosting-674344475189896557/original/0f94223f-171b-4a36-a250-df3e83b79b73.jpeg\n"
     ]
    },
    {
     "name": "stderr",
     "output_type": "stream",
     "text": [
      " 30%|██▉       | 2141/7199 [19:35<35:06,  2.40it/s]"
     ]
    },
    {
     "name": "stdout",
     "output_type": "stream",
     "text": [
      "Error en el registro: 676483872976026157, URL: https://a0.muscache.com/pictures/prohost-api/Hosting-676483872976026157/original/95466906-23db-48dc-9947-d752a219a166.jpeg\n"
     ]
    },
    {
     "name": "stderr",
     "output_type": "stream",
     "text": [
      " 30%|██▉       | 2145/7199 [19:37<38:46,  2.17it/s]"
     ]
    },
    {
     "name": "stdout",
     "output_type": "stream",
     "text": [
      "Error en el registro: 676898605599494749, URL: https://a0.muscache.com/pictures/miso/Hosting-676898605599494749/original/b1d7b7be-c4e1-44a8-8c57-3d1d3060f4d1.jpeg\n"
     ]
    },
    {
     "name": "stderr",
     "output_type": "stream",
     "text": [
      " 30%|██▉       | 2156/7199 [19:41<33:31,  2.51it/s]"
     ]
    },
    {
     "name": "stdout",
     "output_type": "stream",
     "text": [
      "Error en el registro: 683768558849092912, URL: https://a0.muscache.com/pictures/prohost-api/Hosting-683768558849092912/original/ecfe8989-8d18-4c1b-8c30-cb601c156236.jpeg\n"
     ]
    },
    {
     "name": "stderr",
     "output_type": "stream",
     "text": [
      " 30%|███       | 2161/7199 [19:44<33:34,  2.50it/s]"
     ]
    },
    {
     "name": "stdout",
     "output_type": "stream",
     "text": [
      "Error en el registro: 684685835346260348, URL: https://a0.muscache.com/pictures/miso/Hosting-684685835346260348/original/78cbf802-27a4-4152-b2f6-82720971e554.jpeg\n"
     ]
    },
    {
     "name": "stderr",
     "output_type": "stream",
     "text": [
      " 30%|███       | 2169/7199 [19:47<30:19,  2.76it/s]"
     ]
    },
    {
     "name": "stdout",
     "output_type": "stream",
     "text": [
      "Error en el registro: 686659102449877793, URL: https://a0.muscache.com/pictures/prohost-api/Hosting-686659102449877793/original/3480e3f2-af15-463e-a8ed-403fe2efbbf1.jpeg\n"
     ]
    },
    {
     "name": "stderr",
     "output_type": "stream",
     "text": [
      " 30%|███       | 2177/7199 [19:50<31:25,  2.66it/s]"
     ]
    },
    {
     "name": "stdout",
     "output_type": "stream",
     "text": [
      "Error en el registro: 688910480628831655, URL: https://a0.muscache.com/pictures/prohost-api/Hosting-688910480628831655/original/7eb3e919-d4d4-4fea-85c6-299d855bb99c.jpeg\n"
     ]
    },
    {
     "name": "stderr",
     "output_type": "stream",
     "text": [
      " 30%|███       | 2179/7199 [19:51<30:02,  2.78it/s]"
     ]
    },
    {
     "name": "stdout",
     "output_type": "stream",
     "text": [
      "Error en el registro: 689607534898158572, URL: https://a0.muscache.com/pictures/prohost-api/Hosting-689607534898158572/original/860e07b2-0022-4a83-a3cb-c651897ae6fd.jpeg\n"
     ]
    },
    {
     "name": "stderr",
     "output_type": "stream",
     "text": [
      " 30%|███       | 2186/7199 [19:55<49:42,  1.68it/s]  "
     ]
    },
    {
     "name": "stdout",
     "output_type": "stream",
     "text": [
      "Error en el registro: 690400586934454556, URL: https://a0.muscache.com/pictures/prohost-api/Hosting-690400586934454556/original/eca7926b-53b1-47b7-9e3e-d9f75a03f565.jpeg\n"
     ]
    },
    {
     "name": "stderr",
     "output_type": "stream",
     "text": [
      " 30%|███       | 2187/7199 [19:55<42:15,  1.98it/s]"
     ]
    },
    {
     "name": "stdout",
     "output_type": "stream",
     "text": [
      "Error en el registro: 690400874919227004, URL: https://a0.muscache.com/pictures/prohost-api/Hosting-690400874919227004/original/3604456d-ecc0-429a-84f4-d200db16a3a2.jpeg\n"
     ]
    },
    {
     "name": "stderr",
     "output_type": "stream",
     "text": [
      " 31%|███       | 2199/7199 [20:00<25:53,  3.22it/s]"
     ]
    },
    {
     "name": "stdout",
     "output_type": "stream",
     "text": [
      "Error en el registro: 695542274861997846, URL: https://a0.muscache.com/pictures/60f99764-d820-4727-9a0f-5a374cf33550.jpg\n"
     ]
    },
    {
     "name": "stderr",
     "output_type": "stream",
     "text": [
      " 31%|███       | 2202/7199 [20:02<39:23,  2.11it/s]"
     ]
    },
    {
     "name": "stdout",
     "output_type": "stream",
     "text": [
      "Error en el registro: 695868903061431283, URL: https://a0.muscache.com/pictures/miso/Hosting-695868903061431283/original/82ee9450-7b8b-4446-953a-c4d6ba9a5a39.jpeg\n"
     ]
    },
    {
     "name": "stderr",
     "output_type": "stream",
     "text": [
      " 31%|███       | 2215/7199 [20:09<38:25,  2.16it/s]"
     ]
    },
    {
     "name": "stdout",
     "output_type": "stream",
     "text": [
      "Error en el registro: 700542874333492403, URL: https://a0.muscache.com/pictures/prohost-api/Hosting-700542874333492403/original/462f7165-0c4f-4625-a4fb-70285cf183ce.jpeg\n"
     ]
    },
    {
     "name": "stderr",
     "output_type": "stream",
     "text": [
      " 31%|███       | 2219/7199 [20:10<27:44,  2.99it/s]"
     ]
    },
    {
     "name": "stdout",
     "output_type": "stream",
     "text": [
      "Error en el registro: 701903542880060170, URL: https://a0.muscache.com/pictures/prohost-api/Hosting-701903542880060170/original/72a22598-6367-4d7a-adb4-e65276b03521.jpeg\n",
      "Error en el registro: 701903839431825131, URL: https://a0.muscache.com/pictures/prohost-api/Hosting-701903839431825131/original/c7900b9a-b922-4727-9ae4-97b7efadb52b.jpeg\n"
     ]
    },
    {
     "name": "stderr",
     "output_type": "stream",
     "text": [
      " 31%|███       | 2220/7199 [20:10<30:33,  2.72it/s]"
     ]
    },
    {
     "name": "stdout",
     "output_type": "stream",
     "text": [
      "Error en el registro: 702072857749096679, URL: https://a0.muscache.com/pictures/miso/Hosting-702072857749096679/original/3abdc597-8b18-42d9-bba0-5279e2d0afb4.jpeg\n"
     ]
    },
    {
     "name": "stderr",
     "output_type": "stream",
     "text": [
      " 31%|███       | 2224/7199 [20:12<31:13,  2.66it/s]"
     ]
    },
    {
     "name": "stdout",
     "output_type": "stream",
     "text": [
      "Error en el registro: 702196791016760152, URL: https://a0.muscache.com/pictures/prohost-api/Hosting-702196791016760152/original/d0974756-6243-4cc3-a3a6-c4fd2ae11096.jpeg\n"
     ]
    },
    {
     "name": "stderr",
     "output_type": "stream",
     "text": [
      " 31%|███       | 2228/7199 [20:14<34:16,  2.42it/s]"
     ]
    },
    {
     "name": "stdout",
     "output_type": "stream",
     "text": [
      "Error en el registro: 704785038887176281, URL: https://a0.muscache.com/pictures/prohost-api/Hosting-704785038887176281/original/8944038f-882a-4838-8fb2-8eb90483b2f7.jpeg\n"
     ]
    },
    {
     "name": "stderr",
     "output_type": "stream",
     "text": [
      " 31%|███       | 2235/7199 [20:18<40:17,  2.05it/s]"
     ]
    },
    {
     "name": "stdout",
     "output_type": "stream",
     "text": [
      "Error en el registro: 706391605702679581, URL: https://a0.muscache.com/pictures/miso/Hosting-706391605702679581/original/beb334ca-0ad1-485b-8624-d8520c609a93.jpeg\n"
     ]
    },
    {
     "name": "stderr",
     "output_type": "stream",
     "text": [
      " 31%|███▏      | 2263/7199 [20:35<35:37,  2.31it/s]  "
     ]
    },
    {
     "name": "stdout",
     "output_type": "stream",
     "text": [
      "Error en el registro: 713140450013616661, URL: https://a0.muscache.com/pictures/miso/Hosting-713140450013616661/original/28881ace-22f5-41c9-9fe8-066782997460.jpeg\n"
     ]
    },
    {
     "name": "stderr",
     "output_type": "stream",
     "text": [
      " 31%|███▏      | 2267/7199 [20:37<36:56,  2.23it/s]"
     ]
    },
    {
     "name": "stdout",
     "output_type": "stream",
     "text": [
      "Error en el registro: 714656100145703498, URL: https://a0.muscache.com/pictures/prohost-api/Hosting-714656100145703498/original/06ce250c-d54d-400f-9758-181d559981c1.jpeg\n"
     ]
    },
    {
     "name": "stderr",
     "output_type": "stream",
     "text": [
      " 32%|███▏      | 2270/7199 [20:39<37:20,  2.20it/s]"
     ]
    },
    {
     "name": "stdout",
     "output_type": "stream",
     "text": [
      "Error en el registro: 715658190467254169, URL: https://a0.muscache.com/pictures/prohost-api/Hosting-715658190467254169/original/499eb09f-69a0-454d-9c04-45201932224d.jpeg\n"
     ]
    },
    {
     "name": "stderr",
     "output_type": "stream",
     "text": [
      " 32%|███▏      | 2280/7199 [20:47<47:42,  1.72it/s]  "
     ]
    },
    {
     "name": "stdout",
     "output_type": "stream",
     "text": [
      "Error en el registro: 719467171987235663, URL: https://a0.muscache.com/pictures/miso/Hosting-719467171987235663/original/cbee6a61-c29c-4b42-a699-4d3f631a68e4.jpeg\n"
     ]
    },
    {
     "name": "stderr",
     "output_type": "stream",
     "text": [
      " 32%|███▏      | 2284/7199 [20:49<38:45,  2.11it/s]"
     ]
    },
    {
     "name": "stdout",
     "output_type": "stream",
     "text": [
      "Error en el registro: 719990238559489665, URL: https://a0.muscache.com/pictures/prohost-api/Hosting-719990238559489665/original/f7f84f22-7cb1-4c16-bb2e-2f9512d4a457.jpeg\n"
     ]
    },
    {
     "name": "stderr",
     "output_type": "stream",
     "text": [
      " 32%|███▏      | 2295/7199 [20:56<42:00,  1.95it/s]  "
     ]
    },
    {
     "name": "stdout",
     "output_type": "stream",
     "text": [
      "Error en el registro: 726396583833243890, URL: https://a0.muscache.com/pictures/prohost-api/Hosting-726396583833243890/original/0a2f3fc3-ed29-4b75-8512-542f230e5e38.jpeg\n"
     ]
    },
    {
     "name": "stderr",
     "output_type": "stream",
     "text": [
      " 32%|███▏      | 2296/7199 [20:56<37:24,  2.18it/s]"
     ]
    },
    {
     "name": "stdout",
     "output_type": "stream",
     "text": [
      "Error en el registro: 727368563191104397, URL: https://a0.muscache.com/pictures/prohost-api/Hosting-727368563191104397/original/190319a4-3aa3-4c7e-835e-8178968d8c05.jpeg\n"
     ]
    },
    {
     "name": "stderr",
     "output_type": "stream",
     "text": [
      " 32%|███▏      | 2307/7199 [21:03<44:31,  1.83it/s]"
     ]
    },
    {
     "name": "stdout",
     "output_type": "stream",
     "text": [
      "Error en el registro: 731581616930727750, URL: https://a0.muscache.com/pictures/prohost-api/Hosting-731581616930727750/original/1a164d45-a9a7-41b0-a8e1-207901dc987a.jpeg\n"
     ]
    },
    {
     "name": "stderr",
     "output_type": "stream",
     "text": [
      " 32%|███▏      | 2323/7199 [21:12<43:01,  1.89it/s]  "
     ]
    },
    {
     "name": "stdout",
     "output_type": "stream",
     "text": [
      "Error en el registro: 740400290363696561, URL: https://a0.muscache.com/pictures/6679d540-9cda-484e-abbf-35d067470774.jpg\n"
     ]
    },
    {
     "name": "stderr",
     "output_type": "stream",
     "text": [
      " 32%|███▏      | 2325/7199 [21:13<31:44,  2.56it/s]"
     ]
    },
    {
     "name": "stdout",
     "output_type": "stream",
     "text": [
      "Error en el registro: 741745368954817653, URL: https://a0.muscache.com/pictures/prohost-api/Hosting-741745368954817653/original/0114337a-c460-4155-8091-f2eae2a7de2a.jpeg\n"
     ]
    },
    {
     "name": "stderr",
     "output_type": "stream",
     "text": [
      " 32%|███▏      | 2334/7199 [21:19<40:48,  1.99it/s]  "
     ]
    },
    {
     "name": "stdout",
     "output_type": "stream",
     "text": [
      "Error en el registro: 748360987335266464, URL: https://a0.muscache.com/pictures/5e2e1372-1b44-4c16-8f1d-d516492cb076.jpg\n"
     ]
    },
    {
     "name": "stderr",
     "output_type": "stream",
     "text": [
      " 33%|███▎      | 2340/7199 [21:22<41:32,  1.95it/s]"
     ]
    },
    {
     "name": "stdout",
     "output_type": "stream",
     "text": [
      "Error en el registro: 751255733039018358, URL: https://a0.muscache.com/pictures/prohost-api/Hosting-751255733039018358/original/da152004-1dcb-4b85-8dc6-650a3e722ab2.jpeg\n"
     ]
    },
    {
     "name": "stderr",
     "output_type": "stream",
     "text": [
      " 33%|███▎      | 2341/7199 [21:23<34:20,  2.36it/s]"
     ]
    },
    {
     "name": "stdout",
     "output_type": "stream",
     "text": [
      "Error en el registro: 751256340541168925, URL: https://a0.muscache.com/pictures/prohost-api/Hosting-751256340541168925/original/6c5be02b-7131-43a8-93cb-54dd9f014882.jpeg\n"
     ]
    },
    {
     "name": "stderr",
     "output_type": "stream",
     "text": [
      " 33%|███▎      | 2358/7199 [21:31<28:59,  2.78it/s]"
     ]
    },
    {
     "name": "stdout",
     "output_type": "stream",
     "text": [
      "Error en el registro: 754921465460632358, URL: https://a0.muscache.com/pictures/prohost-api/Hosting-754921465460632358/original/70bf2190-e417-4dd4-bb6e-67e50c6f6731.jpeg\n"
     ]
    },
    {
     "name": "stderr",
     "output_type": "stream",
     "text": [
      " 33%|███▎      | 2361/7199 [21:32<24:16,  3.32it/s]"
     ]
    },
    {
     "name": "stdout",
     "output_type": "stream",
     "text": [
      "Error en el registro: 755533469713682355, URL: https://a0.muscache.com/pictures/miso/Hosting-755533469713682355/original/3b07598d-63c7-4649-bdf6-ad7b81f28ba8.png\n",
      "Error en el registro: 755549554190811005, URL: https://a0.muscache.com/pictures/prohost-api/Hosting-755549554190811005/original/b4e9be91-0d2f-4600-8b05-c8aab038524c.jpeg\n"
     ]
    },
    {
     "name": "stderr",
     "output_type": "stream",
     "text": [
      " 33%|███▎      | 2362/7199 [21:32<22:16,  3.62it/s]"
     ]
    },
    {
     "name": "stdout",
     "output_type": "stream",
     "text": [
      "Error en el registro: 755550110633481973, URL: https://a0.muscache.com/pictures/prohost-api/Hosting-755550110633481973/original/56a84cb4-52f3-45f9-b369-510f7b97304d.jpeg\n"
     ]
    },
    {
     "name": "stderr",
     "output_type": "stream",
     "text": [
      " 33%|███▎      | 2367/7199 [21:34<21:52,  3.68it/s]"
     ]
    },
    {
     "name": "stdout",
     "output_type": "stream",
     "text": [
      "Error en el registro: 757021735358934310, URL: https://a0.muscache.com/pictures/prohost-api/Hosting-757021735358934310/original/0e052465-e5d6-43e6-b365-aebd543bb1d6.jpeg\n",
      "Error en el registro: 757022023725678837, URL: https://a0.muscache.com/pictures/prohost-api/Hosting-757022023725678837/original/2dd6f3d9-d2f8-4675-89d1-04dfc65e7ee5.jpeg\n"
     ]
    },
    {
     "name": "stderr",
     "output_type": "stream",
     "text": [
      " 33%|███▎      | 2374/7199 [21:37<30:29,  2.64it/s]"
     ]
    },
    {
     "name": "stdout",
     "output_type": "stream",
     "text": [
      "Error en el registro: 759892648386172163, URL: https://a0.muscache.com/pictures/prohost-api/Hosting-759892648386172163/original/00d7d2e1-4d70-45a0-b5b5-70aa5a97df41.jpeg\n",
      "Error en el registro: 759893468198280917, URL: https://a0.muscache.com/pictures/prohost-api/Hosting-759893468198280917/original/99beda76-af94-433a-a44e-fc64ec42a1e7.jpeg\n"
     ]
    },
    {
     "name": "stderr",
     "output_type": "stream",
     "text": [
      " 33%|███▎      | 2375/7199 [21:38<25:48,  3.12it/s]"
     ]
    },
    {
     "name": "stdout",
     "output_type": "stream",
     "text": [
      "Error en el registro: 759894024434692037, URL: https://a0.muscache.com/pictures/prohost-api/Hosting-759894024434692037/original/e799d2ec-ac47-4c18-aac6-9f7365d68684.jpeg\n"
     ]
    },
    {
     "name": "stderr",
     "output_type": "stream",
     "text": [
      " 33%|███▎      | 2378/7199 [21:39<26:22,  3.05it/s]"
     ]
    },
    {
     "name": "stdout",
     "output_type": "stream",
     "text": [
      "Error en el registro: 760402775627338023, URL: https://a0.muscache.com/pictures/miso/Hosting-760402775627338023/original/502b0062-d227-4c70-b9ed-73b47489b8d6.jpeg\n"
     ]
    },
    {
     "name": "stderr",
     "output_type": "stream",
     "text": [
      " 33%|███▎      | 2380/7199 [21:39<22:13,  3.61it/s]"
     ]
    },
    {
     "name": "stdout",
     "output_type": "stream",
     "text": [
      "Error en el registro: 761353275730186662, URL: https://a0.muscache.com/pictures/prohost-api/Hosting-761353275730186662/original/9e415f37-14ad-4903-bea0-7b333bc54158.jpeg\n"
     ]
    },
    {
     "name": "stderr",
     "output_type": "stream",
     "text": [
      " 33%|███▎      | 2382/7199 [21:40<22:26,  3.58it/s]"
     ]
    },
    {
     "name": "stdout",
     "output_type": "stream",
     "text": [
      "Error en el registro: 762164629747217079, URL: https://a0.muscache.com/pictures/prohost-api/Hosting-762164629747217079/original/bf8c5cf6-82fa-47ca-aa41-fba594e4a465.jpeg\n"
     ]
    },
    {
     "name": "stderr",
     "output_type": "stream",
     "text": [
      " 33%|███▎      | 2386/7199 [21:42<30:50,  2.60it/s]"
     ]
    },
    {
     "name": "stdout",
     "output_type": "stream",
     "text": [
      "Error en el registro: 762779193061469131, URL: https://a0.muscache.com/pictures/prohost-api/Hosting-762779193061469131/original/b3aa3c1a-b4d7-48c2-b53a-85fc5246eea4.jpeg\n"
     ]
    },
    {
     "name": "stderr",
     "output_type": "stream",
     "text": [
      " 33%|███▎      | 2388/7199 [21:42<27:00,  2.97it/s]"
     ]
    },
    {
     "name": "stdout",
     "output_type": "stream",
     "text": [
      "Error en el registro: 763110046866087334, URL: https://a0.muscache.com/pictures/miso/Hosting-763110046866087334/original/9217ce0f-6cf4-4c1a-bdc8-9996344b0bd8.jpeg\n"
     ]
    },
    {
     "name": "stderr",
     "output_type": "stream",
     "text": [
      " 33%|███▎      | 2392/7199 [21:44<27:37,  2.90it/s]"
     ]
    },
    {
     "name": "stdout",
     "output_type": "stream",
     "text": [
      "Error en el registro: 765006355721890182, URL: https://a0.muscache.com/pictures/prohost-api/Hosting-765006355721890182/original/889b9b8d-3793-4303-ab6a-096318081547.jpeg\n",
      "Error en el registro: 765006895101554698, URL: https://a0.muscache.com/pictures/prohost-api/Hosting-765006895101554698/original/2f892b1f-4c4e-47fc-87ae-d5ea90b0d644.jpeg\n"
     ]
    },
    {
     "name": "stderr",
     "output_type": "stream",
     "text": [
      " 33%|███▎      | 2398/7199 [21:49<1:09:29,  1.15it/s]"
     ]
    },
    {
     "name": "stdout",
     "output_type": "stream",
     "text": [
      "Error en el registro: 765841349139671626, URL: https://a0.muscache.com/pictures/prohost-api/Hosting-765841349139671626/original/8b60663a-fa99-40b9-bc36-fba58ddc9897.jpeg\n"
     ]
    },
    {
     "name": "stderr",
     "output_type": "stream",
     "text": [
      " 33%|███▎      | 2399/7199 [21:49<53:42,  1.49it/s]  "
     ]
    },
    {
     "name": "stdout",
     "output_type": "stream",
     "text": [
      "Error en el registro: 765841775181131141, URL: https://a0.muscache.com/pictures/prohost-api/Hosting-765841775181131141/original/61b43651-164b-4a56-932c-19be2a5c6672.jpeg\n",
      "Error en el registro: 765842269075124283, URL: https://a0.muscache.com/pictures/prohost-api/Hosting-765842269075124283/original/625f8935-88e7-4f22-b0c4-340d86354392.jpeg\n"
     ]
    },
    {
     "name": "stderr",
     "output_type": "stream",
     "text": [
      " 33%|███▎      | 2401/7199 [21:50<34:14,  2.34it/s]"
     ]
    },
    {
     "name": "stdout",
     "output_type": "stream",
     "text": [
      "Error en el registro: 766443317316185027, URL: https://a0.muscache.com/pictures/prohost-api/Hosting-766443317316185027/original/b19f62cc-1722-4eca-8471-4e0de00d811b.jpeg\n"
     ]
    },
    {
     "name": "stderr",
     "output_type": "stream",
     "text": [
      " 33%|███▎      | 2403/7199 [21:50<27:23,  2.92it/s]"
     ]
    },
    {
     "name": "stdout",
     "output_type": "stream",
     "text": [
      "Error en el registro: 767351808354008385, URL: https://a0.muscache.com/pictures/prohost-api/Hosting-767351808354008385/original/f10e3840-8f80-4971-966d-b0498c8edb38.jpeg\n",
      "Error en el registro: 767352123386196599, URL: https://a0.muscache.com/pictures/prohost-api/Hosting-767352123386196599/original/58d45c8b-b091-4b48-b9f7-beae0ffbf300.jpeg\n"
     ]
    },
    {
     "name": "stderr",
     "output_type": "stream",
     "text": [
      " 34%|███▎      | 2412/7199 [22:01<59:30,  1.34it/s]  "
     ]
    },
    {
     "name": "stdout",
     "output_type": "stream",
     "text": [
      "Error en el registro: 771690696993014228, URL: https://a0.muscache.com/pictures/prohost-api/Hosting-771690696993014228/original/d415bb47-034b-4fdd-b47b-0241c4d7fbcc.jpeg\n"
     ]
    },
    {
     "name": "stderr",
     "output_type": "stream",
     "text": [
      " 34%|███▎      | 2424/7199 [22:07<31:04,  2.56it/s]  "
     ]
    },
    {
     "name": "stdout",
     "output_type": "stream",
     "text": [
      "Error en el registro: 775261963711450110, URL: https://a0.muscache.com/pictures/prohost-api/Hosting-775261963711450110/original/9411b324-9455-4f85-8522-3d4722f49e8a.jpeg\n"
     ]
    },
    {
     "name": "stderr",
     "output_type": "stream",
     "text": [
      " 34%|███▍      | 2430/7199 [22:11<43:40,  1.82it/s]  "
     ]
    },
    {
     "name": "stdout",
     "output_type": "stream",
     "text": [
      "Error en el registro: 776610853880546976, URL: https://a0.muscache.com/pictures/prohost-api/Hosting-776610853880546976/original/d160751f-bf07-4189-9744-2549b6434e0f.jpeg\n"
     ]
    },
    {
     "name": "stderr",
     "output_type": "stream",
     "text": [
      " 34%|███▍      | 2447/7199 [22:22<33:13,  2.38it/s]  "
     ]
    },
    {
     "name": "stdout",
     "output_type": "stream",
     "text": [
      "Error en el registro: 781001738751122967, URL: https://a0.muscache.com/pictures/prohost-api/Hosting-781001738751122967/original/9762344a-bfb9-49d6-89bc-37581a6eb986.jpeg\n"
     ]
    },
    {
     "name": "stderr",
     "output_type": "stream",
     "text": [
      " 34%|███▍      | 2453/7199 [22:25<30:22,  2.60it/s]"
     ]
    },
    {
     "name": "stdout",
     "output_type": "stream",
     "text": [
      "Error en el registro: 786807008620011176, URL: https://a0.muscache.com/pictures/prohost-api/Hosting-786807008620011176/original/111baacf-cf4f-480a-b934-b0dd982356df.jpeg\n",
      "Error en el registro: 787547697386254974, URL: https://a0.muscache.com/pictures/prohost-api/Hosting-787547697386254974/original/c2a3c7b3-2ebd-422b-a8b1-651935ef7714.jpeg\n"
     ]
    },
    {
     "name": "stderr",
     "output_type": "stream",
     "text": [
      " 34%|███▍      | 2467/7199 [22:33<31:21,  2.51it/s]  "
     ]
    },
    {
     "name": "stdout",
     "output_type": "stream",
     "text": [
      "Error en el registro: 796990908736037328, URL: https://a0.muscache.com/pictures/prohost-api/Hosting-796990908736037328/original/703a2531-bebf-44e2-92ea-bb4e4914c8a3.jpeg\n",
      "Error en el registro: 797634392623375373, URL: https://a0.muscache.com/pictures/prohost-api/Hosting-797634392623375373/original/f3795ac6-2cab-4776-9e1b-8bd62eb563b0.jpeg\n"
     ]
    },
    {
     "name": "stderr",
     "output_type": "stream",
     "text": [
      " 34%|███▍      | 2468/7199 [22:34<26:53,  2.93it/s]"
     ]
    },
    {
     "name": "stdout",
     "output_type": "stream",
     "text": [
      "Error en el registro: 797634833378646656, URL: https://a0.muscache.com/pictures/prohost-api/Hosting-797634833378646656/original/8424416c-c551-48fd-ab2d-89d3307f9e8e.jpeg\n"
     ]
    },
    {
     "name": "stderr",
     "output_type": "stream",
     "text": [
      " 34%|███▍      | 2469/7199 [22:34<23:49,  3.31it/s]"
     ]
    },
    {
     "name": "stdout",
     "output_type": "stream",
     "text": [
      "Error en el registro: 797635200084843258, URL: https://a0.muscache.com/pictures/prohost-api/Hosting-797635200084843258/original/5a215a5f-70d6-47e7-84d2-5631f2c1e11f.jpeg\n"
     ]
    },
    {
     "name": "stderr",
     "output_type": "stream",
     "text": [
      " 34%|███▍      | 2474/7199 [22:38<1:02:39,  1.26it/s]"
     ]
    },
    {
     "name": "stdout",
     "output_type": "stream",
     "text": [
      "Error en el registro: 798524113485453463, URL: https://a0.muscache.com/pictures/miso/Hosting-798524113485453463/original/d3b5e0a2-bc8e-4d2a-b6d7-8b3e16cb716e.jpeg\n"
     ]
    },
    {
     "name": "stderr",
     "output_type": "stream",
     "text": [
      " 34%|███▍      | 2476/7199 [22:39<51:21,  1.53it/s]  "
     ]
    },
    {
     "name": "stdout",
     "output_type": "stream",
     "text": [
      "Error en el registro: 800678625525343383, URL: https://a0.muscache.com/pictures/miso/Hosting-800678625525343383/original/7c057ffb-a088-4168-9a98-2a2a1cb649d2.jpeg\n"
     ]
    },
    {
     "name": "stderr",
     "output_type": "stream",
     "text": [
      " 34%|███▍      | 2477/7199 [22:39<44:19,  1.78it/s]"
     ]
    },
    {
     "name": "stdout",
     "output_type": "stream",
     "text": [
      "Error en el registro: 801228312332129657, URL: https://a0.muscache.com/pictures/prohost-api/Hosting-801228312332129657/original/7eb80afa-4e49-41bd-ac94-d40f5e58dd4c.jpeg\n"
     ]
    },
    {
     "name": "stderr",
     "output_type": "stream",
     "text": [
      " 35%|███▍      | 2490/7199 [22:44<26:09,  3.00it/s]"
     ]
    },
    {
     "name": "stdout",
     "output_type": "stream",
     "text": [
      "Error en el registro: 802781307558619461, URL: https://a0.muscache.com/pictures/prohost-api/Hosting-802781307558619461/original/48e185c7-1d49-4119-bd27-d84aa825db6f.jpeg\n"
     ]
    },
    {
     "name": "stderr",
     "output_type": "stream",
     "text": [
      " 35%|███▍      | 2517/7199 [23:02<39:10,  1.99it/s]  "
     ]
    },
    {
     "name": "stdout",
     "output_type": "stream",
     "text": [
      "Error en el registro: 810755335955230893, URL: https://a0.muscache.com/pictures/prohost-api/Hosting-810755335955230893/original/9a8f92c7-9910-4faa-9de3-d982d41082cf.jpeg\n"
     ]
    },
    {
     "name": "stderr",
     "output_type": "stream",
     "text": [
      " 36%|███▌      | 2557/7199 [23:25<27:38,  2.80it/s]  "
     ]
    },
    {
     "name": "stdout",
     "output_type": "stream",
     "text": [
      "Error en el registro: 821501113985650809, URL: https://a0.muscache.com/pictures/prohost-api/Hosting-821501113985650809/original/8681efda-5f4c-4b0c-8f7c-e97bd9cee294.jpeg\n"
     ]
    },
    {
     "name": "stderr",
     "output_type": "stream",
     "text": [
      " 36%|███▌      | 2570/7199 [23:31<31:03,  2.48it/s]"
     ]
    },
    {
     "name": "stdout",
     "output_type": "stream",
     "text": [
      "Error en el registro: 825847770808405248, URL: https://a0.muscache.com/pictures/prohost-api/Hosting-825847770808405248/original/92be7552-7d96-4790-8103-c26894761c7c.jpeg\n"
     ]
    },
    {
     "name": "stderr",
     "output_type": "stream",
     "text": [
      " 36%|███▌      | 2573/7199 [23:33<36:12,  2.13it/s]"
     ]
    },
    {
     "name": "stdout",
     "output_type": "stream",
     "text": [
      "Error en el registro: 826562966046818110, URL: https://a0.muscache.com/pictures/prohost-api/Hosting-826562966046818110/original/a15df900-7671-4279-bed9-141dfa83a04c.jpeg\n"
     ]
    },
    {
     "name": "stderr",
     "output_type": "stream",
     "text": [
      " 36%|███▌      | 2583/7199 [23:38<27:59,  2.75it/s]"
     ]
    },
    {
     "name": "stdout",
     "output_type": "stream",
     "text": [
      "Error en el registro: 828014040320230036, URL: https://a0.muscache.com/pictures/prohost-api/Hosting-828014040320230036/original/154db478-c931-40ad-863e-a2e0bb214580.jpeg\n"
     ]
    },
    {
     "name": "stderr",
     "output_type": "stream",
     "text": [
      " 36%|███▌      | 2584/7199 [23:38<24:29,  3.14it/s]"
     ]
    },
    {
     "name": "stdout",
     "output_type": "stream",
     "text": [
      "Error en el registro: 828194448965037333, URL: https://a0.muscache.com/pictures/prohost-api/Hosting-828194448965037333/original/3075b2e5-4c56-4b5a-83f5-c15c8c9a9af3.jpeg\n"
     ]
    },
    {
     "name": "stderr",
     "output_type": "stream",
     "text": [
      " 36%|███▌      | 2588/7199 [23:39<24:47,  3.10it/s]"
     ]
    },
    {
     "name": "stdout",
     "output_type": "stream",
     "text": [
      "Error en el registro: 828416110846192220, URL: https://a0.muscache.com/pictures/miso/Hosting-828416110846192220/original/ad3210cd-bad9-4be0-908f-88131e56a128.jpeg\n"
     ]
    },
    {
     "name": "stderr",
     "output_type": "stream",
     "text": [
      " 36%|███▌      | 2600/7199 [23:46<35:52,  2.14it/s]"
     ]
    },
    {
     "name": "stdout",
     "output_type": "stream",
     "text": [
      "Error en el registro: 831735030713466807, URL: https://a0.muscache.com/pictures/prohost-api/Hosting-831735030713466807/original/2089092b-7f4d-48c4-b58d-85c364518d9d.jpeg\n"
     ]
    },
    {
     "name": "stderr",
     "output_type": "stream",
     "text": [
      " 36%|███▌      | 2605/7199 [23:51<53:31,  1.43it/s]  "
     ]
    },
    {
     "name": "stdout",
     "output_type": "stream",
     "text": [
      "Error en el registro: 831961056951139768, URL: https://a0.muscache.com/pictures/miso/Hosting-831961056951139768/original/b733330c-1d81-44bd-8abc-7625d0b593e0.jpeg\n"
     ]
    },
    {
     "name": "stderr",
     "output_type": "stream",
     "text": [
      " 36%|███▋      | 2627/7199 [24:02<25:37,  2.97it/s]"
     ]
    },
    {
     "name": "stdout",
     "output_type": "stream",
     "text": [
      "Error en el registro: 836153649468461318, URL: https://a0.muscache.com/pictures/miso/Hosting-836153649468461318/original/8c7faf7e-5d0d-4397-9887-cb26e444e6b4.jpeg\n"
     ]
    },
    {
     "name": "stderr",
     "output_type": "stream",
     "text": [
      " 37%|███▋      | 2628/7199 [24:02<23:07,  3.29it/s]"
     ]
    },
    {
     "name": "stdout",
     "output_type": "stream",
     "text": [
      "Error en el registro: 837439628788914345, URL: https://a0.muscache.com/pictures/prohost-api/Hosting-837439628788914345/original/98df5bc2-f2b9-4e45-8889-0840694e2a65.jpeg\n"
     ]
    },
    {
     "name": "stderr",
     "output_type": "stream",
     "text": [
      " 37%|███▋      | 2630/7199 [24:03<19:33,  3.90it/s]"
     ]
    },
    {
     "name": "stdout",
     "output_type": "stream",
     "text": [
      "Error en el registro: 837439944560637250, URL: https://a0.muscache.com/pictures/prohost-api/Hosting-837439944560637250/original/a2ab5dd1-b06b-4bef-9450-059f7fb348dd.jpeg\n",
      "Error en el registro: 837538755134178518, URL: https://a0.muscache.com/pictures/prohost-api/Hosting-837538755134178518/original/f43f192b-ec84-4ba8-ac5a-e6e2ea086a22.jpeg\n"
     ]
    },
    {
     "name": "stderr",
     "output_type": "stream",
     "text": [
      " 37%|███▋      | 2651/7199 [24:12<24:53,  3.04it/s]"
     ]
    },
    {
     "name": "stdout",
     "output_type": "stream",
     "text": [
      "Error en el registro: 841340391794964228, URL: https://a0.muscache.com/pictures/93e612ae-9c1e-4f14-9b1c-4fc1d10a29ac.jpg\n"
     ]
    },
    {
     "name": "stderr",
     "output_type": "stream",
     "text": [
      " 37%|███▋      | 2664/7199 [24:17<23:24,  3.23it/s]"
     ]
    },
    {
     "name": "stdout",
     "output_type": "stream",
     "text": [
      "Error en el registro: 846872271807146973, URL: https://a0.muscache.com/pictures/prohost-api/Hosting-846872271807146973/original/37a65bbf-bcbf-4962-a9d9-77ec4d18f89b.jpeg\n",
      "Error en el registro: 846872983266331248, URL: https://a0.muscache.com/pictures/prohost-api/Hosting-846872983266331248/original/91cd35d5-7731-4c46-af04-b74b2402b6b9.jpeg\n"
     ]
    },
    {
     "name": "stderr",
     "output_type": "stream",
     "text": [
      " 37%|███▋      | 2678/7199 [24:24<28:56,  2.60it/s]"
     ]
    },
    {
     "name": "stdout",
     "output_type": "stream",
     "text": [
      "Error en el registro: 852166516716286801, URL: https://a0.muscache.com/pictures/miso/Hosting-852166516716286801/original/ec756235-fbc3-43a6-b18f-0c82eb62dcb0.jpeg\n"
     ]
    },
    {
     "name": "stderr",
     "output_type": "stream",
     "text": [
      " 37%|███▋      | 2690/7199 [24:30<34:02,  2.21it/s]"
     ]
    },
    {
     "name": "stdout",
     "output_type": "stream",
     "text": [
      "Error en el registro: 853391813264548119, URL: https://a0.muscache.com/pictures/prohost-api/Hosting-853391813264548119/original/f64e818d-e441-4018-a7bf-1e650c91770d.jpeg\n"
     ]
    },
    {
     "name": "stderr",
     "output_type": "stream",
     "text": [
      " 38%|███▊      | 2706/7199 [24:38<43:34,  1.72it/s]"
     ]
    },
    {
     "name": "stdout",
     "output_type": "stream",
     "text": [
      "Error en el registro: 861331609777147421, URL: https://a0.muscache.com/pictures/prohost-api/Hosting-861331609777147421/original/8c2cf983-4dab-4ee6-9664-6f3b8c106aac.jpeg\n"
     ]
    },
    {
     "name": "stderr",
     "output_type": "stream",
     "text": [
      " 38%|███▊      | 2713/7199 [24:42<30:26,  2.46it/s]"
     ]
    },
    {
     "name": "stdout",
     "output_type": "stream",
     "text": [
      "Error en el registro: 863764018590884065, URL: https://a0.muscache.com/pictures/miso/Hosting-863764018590884065/original/290081c3-1745-4140-b111-f250e4c95d7a.jpeg\n",
      "Error en el registro: 863764173555125254, URL: https://a0.muscache.com/pictures/miso/Hosting-863764173555125254/original/3948a636-ceb9-44a1-951d-d05e58a64dcd.jpeg\n"
     ]
    },
    {
     "name": "stderr",
     "output_type": "stream",
     "text": [
      " 38%|███▊      | 2714/7199 [24:42<25:52,  2.89it/s]"
     ]
    },
    {
     "name": "stdout",
     "output_type": "stream",
     "text": [
      "Error en el registro: 863764278641845127, URL: https://a0.muscache.com/pictures/miso/Hosting-863764278641845127/original/67420547-505e-4f64-a3d0-d2196a948460.jpeg\n"
     ]
    },
    {
     "name": "stderr",
     "output_type": "stream",
     "text": [
      " 38%|███▊      | 2722/7199 [24:46<31:38,  2.36it/s]"
     ]
    },
    {
     "name": "stdout",
     "output_type": "stream",
     "text": [
      "Error en el registro: 865491574396499608, URL: https://a0.muscache.com/pictures/miso/Hosting-865491574396499608/original/1c6e5ec0-13f3-4682-9b38-5d0c89cdc565.jpeg\n"
     ]
    },
    {
     "name": "stderr",
     "output_type": "stream",
     "text": [
      " 38%|███▊      | 2742/7199 [24:57<27:25,  2.71it/s]"
     ]
    },
    {
     "name": "stdout",
     "output_type": "stream",
     "text": [
      "Error en el registro: 873108519560457453, URL: https://a0.muscache.com/pictures/miso/Hosting-873108519560457453/original/2ffd99f1-3884-4512-a6f6-3630050e06ba.jpeg\n"
     ]
    },
    {
     "name": "stderr",
     "output_type": "stream",
     "text": [
      " 38%|███▊      | 2746/7199 [24:58<23:28,  3.16it/s]"
     ]
    },
    {
     "name": "stdout",
     "output_type": "stream",
     "text": [
      "Error en el registro: 873655282217473344, URL: https://a0.muscache.com/pictures/prohost-api/Hosting-873655282217473344/original/2ac2684b-614b-4870-8ce5-b89121a28a6e.jpeg\n",
      "Error en el registro: 873658297449445896, URL: https://a0.muscache.com/pictures/prohost-api/Hosting-873658297449445896/original/2bb66c10-888b-437d-b47d-fa78d2b04dc2.jpeg\n"
     ]
    },
    {
     "name": "stderr",
     "output_type": "stream",
     "text": [
      " 38%|███▊      | 2767/7199 [25:09<24:07,  3.06it/s]"
     ]
    },
    {
     "name": "stdout",
     "output_type": "stream",
     "text": [
      "Error en el registro: 882571653898142753, URL: https://a0.muscache.com/pictures/miso/Hosting-882571653898142753/original/c47817bf-fdc3-4818-954b-0942f032faeb.jpeg\n"
     ]
    },
    {
     "name": "stderr",
     "output_type": "stream",
     "text": [
      " 39%|███▊      | 2774/7199 [25:12<28:30,  2.59it/s]"
     ]
    },
    {
     "name": "stdout",
     "output_type": "stream",
     "text": [
      "Error en el registro: 883863319226431674, URL: https://a0.muscache.com/pictures/ba781070-0a6c-49f1-9a57-bed6e5ec04c1.jpg\n"
     ]
    },
    {
     "name": "stderr",
     "output_type": "stream",
     "text": [
      " 39%|███▊      | 2782/7199 [25:15<29:42,  2.48it/s]"
     ]
    },
    {
     "name": "stdout",
     "output_type": "stream",
     "text": [
      "Error en el registro: 886762078865571429, URL: https://a0.muscache.com/pictures/prohost-api/Hosting-886762078865571429/original/1648a07a-d7d6-47e7-862b-72a2f0b88bad.jpeg\n"
     ]
    },
    {
     "name": "stderr",
     "output_type": "stream",
     "text": [
      " 39%|███▊      | 2789/7199 [25:17<20:37,  3.56it/s]"
     ]
    },
    {
     "name": "stdout",
     "output_type": "stream",
     "text": [
      "Error en el registro: 889981292721825976, URL: https://a0.muscache.com/pictures/miso/Hosting-889981292721825976/original/ac1af51e-e157-4338-b221-74c5e68f40eb.jpeg\n"
     ]
    },
    {
     "name": "stderr",
     "output_type": "stream",
     "text": [
      " 39%|███▉      | 2819/7199 [25:31<31:26,  2.32it/s]"
     ]
    },
    {
     "name": "stdout",
     "output_type": "stream",
     "text": [
      "Error en el registro: 899769339425439911, URL: https://a0.muscache.com/pictures/prohost-api/Hosting-899769339425439911/original/9f930af1-d3ab-4110-b350-614c42a5a572.jpeg\n"
     ]
    },
    {
     "name": "stderr",
     "output_type": "stream",
     "text": [
      " 39%|███▉      | 2831/7199 [25:38<34:42,  2.10it/s]"
     ]
    },
    {
     "name": "stdout",
     "output_type": "stream",
     "text": [
      "Error en el registro: 904194014030747377, URL: https://a0.muscache.com/pictures/prohost-api/Hosting-904194014030747377/original/ef61d82e-f20a-446a-9938-d04c678ac447.jpeg\n"
     ]
    },
    {
     "name": "stderr",
     "output_type": "stream",
     "text": [
      " 39%|███▉      | 2838/7199 [25:42<34:23,  2.11it/s]"
     ]
    },
    {
     "name": "stdout",
     "output_type": "stream",
     "text": [
      "Error en el registro: 907906545606121142, URL: https://a0.muscache.com/pictures/miso/Hosting-907906545606121142/original/404e1bcd-e262-4ed0-805d-4ad4724b4344.jpeg\n"
     ]
    },
    {
     "name": "stderr",
     "output_type": "stream",
     "text": [
      " 40%|███▉      | 2852/7199 [25:51<1:05:49,  1.10it/s]"
     ]
    },
    {
     "name": "stdout",
     "output_type": "stream",
     "text": [
      "Error en el registro: 913916379699820077, URL: https://a0.muscache.com/pictures/miso/Hosting-913916379699820077/original/449a92eb-8199-4c01-a3ed-a70d7a8e0119.jpeg\n"
     ]
    },
    {
     "name": "stderr",
     "output_type": "stream",
     "text": [
      " 40%|███▉      | 2853/7199 [25:51<50:49,  1.42it/s]  "
     ]
    },
    {
     "name": "stdout",
     "output_type": "stream",
     "text": [
      "Error en el registro: 913916382033140518, URL: https://a0.muscache.com/pictures/miso/Hosting-913916382033140518/original/a56651c0-71fe-445c-b9ff-0771f0c38032.jpeg\n"
     ]
    },
    {
     "name": "stderr",
     "output_type": "stream",
     "text": [
      " 40%|███▉      | 2858/7199 [25:53<30:19,  2.39it/s]"
     ]
    },
    {
     "name": "stdout",
     "output_type": "stream",
     "text": [
      "Error en el registro: 914937299546374137, URL: https://a0.muscache.com/pictures/prohost-api/Hosting-914937299546374137/original/e0b571a8-fce7-4b3f-920f-11f9c6a0eeb0.jpeg\n"
     ]
    },
    {
     "name": "stderr",
     "output_type": "stream",
     "text": [
      " 40%|███▉      | 2859/7199 [25:54<33:32,  2.16it/s]"
     ]
    },
    {
     "name": "stdout",
     "output_type": "stream",
     "text": [
      "Error en el registro: 914937604671048989, URL: https://a0.muscache.com/pictures/prohost-api/Hosting-914937604671048989/original/4b19638e-7744-4eea-94ac-713b96b968e9.jpeg\n"
     ]
    },
    {
     "name": "stderr",
     "output_type": "stream",
     "text": [
      " 40%|███▉      | 2879/7199 [26:07<33:29,  2.15it/s]"
     ]
    },
    {
     "name": "stdout",
     "output_type": "stream",
     "text": [
      "Error en el registro: 920192802910045769, URL: https://a0.muscache.com/pictures/miso/Hosting-920192802910045769/original/b9091ffb-4f71-4605-928f-414bd6d08c05.jpeg\n"
     ]
    },
    {
     "name": "stderr",
     "output_type": "stream",
     "text": [
      " 40%|████      | 2881/7199 [26:08<27:26,  2.62it/s]"
     ]
    },
    {
     "name": "stdout",
     "output_type": "stream",
     "text": [
      "Error en el registro: 920305249278095220, URL: https://a0.muscache.com/pictures/miso/Hosting-920305249278095220/original/82ec111c-d2ba-4580-882c-5685576cbcad.jpeg\n"
     ]
    },
    {
     "name": "stderr",
     "output_type": "stream",
     "text": [
      " 40%|████      | 2885/7199 [26:09<26:07,  2.75it/s]"
     ]
    },
    {
     "name": "stdout",
     "output_type": "stream",
     "text": [
      "Error en el registro: 920595366557120290, URL: https://a0.muscache.com/pictures/prohost-api/Hosting-920595366557120290/original/ccf0e4cf-4ea8-489e-a91e-c452548f599e.jpeg\n"
     ]
    },
    {
     "name": "stderr",
     "output_type": "stream",
     "text": [
      " 40%|████      | 2899/7199 [26:17<29:52,  2.40it/s]"
     ]
    },
    {
     "name": "stdout",
     "output_type": "stream",
     "text": [
      "Error en el registro: 926909705378933833, URL: https://a0.muscache.com/pictures/prohost-api/Hosting-926909705378933833/original/c16207c3-527e-4796-b06a-afe376a0b714.jpeg\n"
     ]
    },
    {
     "name": "stderr",
     "output_type": "stream",
     "text": [
      " 40%|████      | 2908/7199 [26:22<40:14,  1.78it/s]"
     ]
    },
    {
     "name": "stdout",
     "output_type": "stream",
     "text": [
      "Error en el registro: 929285770816969080, URL: https://a0.muscache.com/pictures/miso/Hosting-929285770816969080/original/4e7e66b1-d451-4bbe-aba0-e1604a605c4f.jpeg\n"
     ]
    },
    {
     "name": "stderr",
     "output_type": "stream",
     "text": [
      " 41%|████      | 2920/7199 [26:29<35:57,  1.98it/s]  "
     ]
    },
    {
     "name": "stdout",
     "output_type": "stream",
     "text": [
      "Error en el registro: 929770452264597730, URL: https://a0.muscache.com/pictures/prohost-api/Hosting-929770452264597730/original/7ce83896-a27d-4db0-8384-368d509695cc.jpeg\n"
     ]
    },
    {
     "name": "stderr",
     "output_type": "stream",
     "text": [
      " 41%|████      | 2922/7199 [26:30<28:45,  2.48it/s]"
     ]
    },
    {
     "name": "stdout",
     "output_type": "stream",
     "text": [
      "Error en el registro: 929784691737307760, URL: https://a0.muscache.com/pictures/miso/Hosting-929784691737307760/original/4af27405-eda7-440b-9708-208461793aea.jpeg\n"
     ]
    },
    {
     "name": "stderr",
     "output_type": "stream",
     "text": [
      " 41%|████      | 2924/7199 [26:30<25:42,  2.77it/s]"
     ]
    },
    {
     "name": "stdout",
     "output_type": "stream",
     "text": [
      "Error en el registro: 929790777252631206, URL: https://a0.muscache.com/pictures/43cfe8ce-6c16-4db4-ad1e-02fd04b3eaa8.jpg\n"
     ]
    },
    {
     "name": "stderr",
     "output_type": "stream",
     "text": [
      " 41%|████      | 2927/7199 [26:31<21:21,  3.33it/s]"
     ]
    },
    {
     "name": "stdout",
     "output_type": "stream",
     "text": [
      "Error en el registro: 933238026788932430, URL: https://a0.muscache.com/pictures/prohost-api/Hosting-933238026788932430/original/e5389ab7-ba26-44ef-969a-2fe8a1892eb8.jpeg\n",
      "Error en el registro: 933341527778815745, URL: https://a0.muscache.com/pictures/miso/Hosting-933341527778815745/original/540b9069-5430-43b8-8f33-d79c1dc2a6ac.jpeg\n"
     ]
    },
    {
     "name": "stderr",
     "output_type": "stream",
     "text": [
      " 41%|████      | 2947/7199 [26:41<28:11,  2.51it/s]"
     ]
    },
    {
     "name": "stdout",
     "output_type": "stream",
     "text": [
      "Error en el registro: 934549104804900845, URL: https://a0.muscache.com/pictures/prohost-api/Hosting-934549104804900845/original/1a3beb56-aebc-4f4b-bb81-c23fbf17d5bf.jpeg\n"
     ]
    },
    {
     "name": "stderr",
     "output_type": "stream",
     "text": [
      " 41%|████      | 2951/7199 [26:43<28:50,  2.46it/s]"
     ]
    },
    {
     "name": "stdout",
     "output_type": "stream",
     "text": [
      "Error en el registro: 934846903887237232, URL: https://a0.muscache.com/pictures/miso/Hosting-934846903887237232/original/56045c56-d57a-4abc-ad08-750db085be2e.jpeg\n"
     ]
    },
    {
     "name": "stderr",
     "output_type": "stream",
     "text": [
      " 41%|████▏     | 2974/7199 [26:53<27:52,  2.53it/s]"
     ]
    },
    {
     "name": "stdout",
     "output_type": "stream",
     "text": [
      "Error en el registro: 940287599154412651, URL: https://a0.muscache.com/pictures/prohost-api/Hosting-940287599154412651/original/c587ad66-a8f5-41e6-831b-e3704dbeca4a.jpeg\n"
     ]
    },
    {
     "name": "stderr",
     "output_type": "stream",
     "text": [
      " 42%|████▏     | 2993/7199 [27:04<40:40,  1.72it/s]  "
     ]
    },
    {
     "name": "stdout",
     "output_type": "stream",
     "text": [
      "Error en el registro: 945916288884011126, URL: https://a0.muscache.com/pictures/miso/Hosting-945916288884011126/original/2df8e4c9-eb81-47e8-8889-7b38e53abae9.jpeg\n"
     ]
    },
    {
     "name": "stderr",
     "output_type": "stream",
     "text": [
      " 42%|████▏     | 2995/7199 [27:05<35:05,  2.00it/s]"
     ]
    },
    {
     "name": "stdout",
     "output_type": "stream",
     "text": [
      "Error en el registro: 946041881162753201, URL: https://a0.muscache.com/pictures/miso/Hosting-946041881162753201/original/8302b8b8-162b-44f4-afcb-bc45d5c4ffc4.jpeg\n"
     ]
    },
    {
     "name": "stderr",
     "output_type": "stream",
     "text": [
      " 42%|████▏     | 3002/7199 [27:11<43:52,  1.59it/s]"
     ]
    },
    {
     "name": "stdout",
     "output_type": "stream",
     "text": [
      "Error en el registro: 947768183186382957, URL: https://a0.muscache.com/pictures/miso/Hosting-947768183186382957/original/06fd11ed-797c-4915-917b-3d401b8bd7bc.jpeg\n"
     ]
    },
    {
     "name": "stderr",
     "output_type": "stream",
     "text": [
      " 42%|████▏     | 3004/7199 [27:11<28:25,  2.46it/s]"
     ]
    },
    {
     "name": "stdout",
     "output_type": "stream",
     "text": [
      "Error en el registro: 947785851072519783, URL: https://a0.muscache.com/pictures/miso/Hosting-947785851072519783/original/a4c8faea-b069-4f30-809d-5f3ae7d2c30e.jpeg\n",
      "Error en el registro: 947814132068385867, URL: https://a0.muscache.com/pictures/miso/Hosting-947814132068385867/original/3bff85af-0f89-447a-a61c-43cf4fcd3619.jpeg\n"
     ]
    },
    {
     "name": "stderr",
     "output_type": "stream",
     "text": [
      " 42%|████▏     | 3007/7199 [27:13<35:03,  1.99it/s]"
     ]
    },
    {
     "name": "stdout",
     "output_type": "stream",
     "text": [
      "Error en el registro: 947846318188738138, URL: https://a0.muscache.com/pictures/miso/Hosting-947846318188738138/original/7cffaef3-6c98-4d8a-87d4-2e78e8ca524c.jpeg\n"
     ]
    },
    {
     "name": "stderr",
     "output_type": "stream",
     "text": [
      " 42%|████▏     | 3008/7199 [27:13<33:29,  2.09it/s]"
     ]
    },
    {
     "name": "stdout",
     "output_type": "stream",
     "text": [
      "Error en el registro: 947863403518702980, URL: https://a0.muscache.com/pictures/miso/Hosting-947863403518702980/original/5b95a086-f155-4b0c-a5a6-2fe65e86a3d2.jpeg\n"
     ]
    },
    {
     "name": "stderr",
     "output_type": "stream",
     "text": [
      " 42%|████▏     | 3009/7199 [27:14<28:19,  2.47it/s]"
     ]
    },
    {
     "name": "stdout",
     "output_type": "stream",
     "text": [
      "Error en el registro: 947884085061009785, URL: https://a0.muscache.com/pictures/miso/Hosting-947884085061009785/original/71b3cac6-42ff-4db8-804f-834c865634db.jpeg\n"
     ]
    },
    {
     "name": "stderr",
     "output_type": "stream",
     "text": [
      " 42%|████▏     | 3013/7199 [27:15<27:03,  2.58it/s]"
     ]
    },
    {
     "name": "stdout",
     "output_type": "stream",
     "text": [
      "Error en el registro: 949154671772958720, URL: https://a0.muscache.com/pictures/miso/Hosting-949154671772958720/original/2b7f0abc-ba7b-4a43-a7be-5a6243c24413.jpeg\n"
     ]
    },
    {
     "name": "stderr",
     "output_type": "stream",
     "text": [
      " 42%|████▏     | 3020/7199 [27:19<28:10,  2.47it/s]"
     ]
    },
    {
     "name": "stdout",
     "output_type": "stream",
     "text": [
      "Error en el registro: 950268256943159901, URL: https://a0.muscache.com/pictures/miso/Hosting-950268256943159901/original/e4f0fc64-8e95-404f-a288-5070043ed117.jpeg\n"
     ]
    },
    {
     "name": "stderr",
     "output_type": "stream",
     "text": [
      " 42%|████▏     | 3030/7199 [27:23<33:08,  2.10it/s]"
     ]
    },
    {
     "name": "stdout",
     "output_type": "stream",
     "text": [
      "Error en el registro: 952456025026558868, URL: https://a0.muscache.com/pictures/f14adfde-4e40-463e-8afd-fac762f7cea4.jpg\n"
     ]
    },
    {
     "name": "stderr",
     "output_type": "stream",
     "text": [
      " 42%|████▏     | 3037/7199 [27:26<22:57,  3.02it/s]"
     ]
    },
    {
     "name": "stdout",
     "output_type": "stream",
     "text": [
      "Error en el registro: 953750560515431624, URL: https://a0.muscache.com/pictures/miso/Hosting-953750560515431624/original/5a96c11d-5be2-4801-a52d-c08ced9692e2.jpeg\n"
     ]
    },
    {
     "name": "stderr",
     "output_type": "stream",
     "text": [
      " 42%|████▏     | 3052/7199 [27:32<24:52,  2.78it/s]"
     ]
    },
    {
     "name": "stdout",
     "output_type": "stream",
     "text": [
      "Error en el registro: 955827663275316488, URL: https://a0.muscache.com/pictures/prohost-api/Hosting-955827663275316488/original/c3b9b3f5-898a-4ed0-b242-c26da0903201.jpeg\n"
     ]
    },
    {
     "name": "stderr",
     "output_type": "stream",
     "text": [
      " 43%|████▎     | 3061/7199 [27:36<24:01,  2.87it/s]"
     ]
    },
    {
     "name": "stdout",
     "output_type": "stream",
     "text": [
      "Error en el registro: 958648577659799676, URL: https://a0.muscache.com/pictures/miso/Hosting-958648577659799676/original/9ad5cdd6-9295-4d90-81a6-98a88206be2b.jpeg\n"
     ]
    },
    {
     "name": "stderr",
     "output_type": "stream",
     "text": [
      " 43%|████▎     | 3063/7199 [27:37<29:24,  2.34it/s]"
     ]
    },
    {
     "name": "stdout",
     "output_type": "stream",
     "text": [
      "Error en el registro: 959888489456599762, URL: https://a0.muscache.com/pictures/prohost-api/Hosting-959888489456599762/original/c72ecb2b-4c2b-4653-aeef-8c28bdb8e5d3.jpeg\n"
     ]
    },
    {
     "name": "stderr",
     "output_type": "stream",
     "text": [
      " 43%|████▎     | 3067/7199 [27:39<25:23,  2.71it/s]"
     ]
    },
    {
     "name": "stdout",
     "output_type": "stream",
     "text": [
      "Error en el registro: 960441596149014714, URL: https://a0.muscache.com/pictures/miso/Hosting-960441596149014714/original/82e47454-ef57-48f4-8940-9b0c463c6772.jpeg\n"
     ]
    },
    {
     "name": "stderr",
     "output_type": "stream",
     "text": [
      " 43%|████▎     | 3101/7199 [28:00<30:48,  2.22it/s]  "
     ]
    },
    {
     "name": "stdout",
     "output_type": "stream",
     "text": [
      "Error en el registro: 968593353964170175, URL: https://a0.muscache.com/pictures/prohost-api/Hosting-968593353964170175/original/893ed19f-8ee2-41c6-a9fa-89883ef33054.jpeg\n"
     ]
    },
    {
     "name": "stderr",
     "output_type": "stream",
     "text": [
      " 44%|████▎     | 3139/7199 [28:16<23:53,  2.83it/s]"
     ]
    },
    {
     "name": "stdout",
     "output_type": "stream",
     "text": [
      "Error en el registro: 972308791314572742, URL: https://a0.muscache.com/pictures/miso/Hosting-958648577659799676/original/9ad5cdd6-9295-4d90-81a6-98a88206be2b.jpeg\n"
     ]
    },
    {
     "name": "stderr",
     "output_type": "stream",
     "text": [
      " 44%|████▎     | 3141/7199 [28:17<36:16,  1.86it/s]"
     ]
    },
    {
     "name": "stdout",
     "output_type": "stream",
     "text": [
      "Error en el registro: 972382373389698405, URL: https://a0.muscache.com/pictures/miso/Hosting-972382373389698405/original/e6c48367-1649-48e1-a5fa-5d8b540fe35a.jpeg\n"
     ]
    },
    {
     "name": "stderr",
     "output_type": "stream",
     "text": [
      " 44%|████▎     | 3145/7199 [28:18<21:32,  3.14it/s]"
     ]
    },
    {
     "name": "stdout",
     "output_type": "stream",
     "text": [
      "Error en el registro: 973150249750755722, URL: https://a0.muscache.com/pictures/hosting/Hosting-973150249750755722/original/dae14b46-39fc-4d79-b15c-3dbb48d6b11d.jpeg\n"
     ]
    },
    {
     "name": "stderr",
     "output_type": "stream",
     "text": [
      " 44%|████▍     | 3177/7199 [28:35<28:45,  2.33it/s]"
     ]
    },
    {
     "name": "stdout",
     "output_type": "stream",
     "text": [
      "Error en el registro: 981474662331880096, URL: https://a0.muscache.com/pictures/miso/Hosting-981474662331880096/original/fc0e625d-d629-4591-9ada-174d16a2de48.jpeg\n"
     ]
    },
    {
     "name": "stderr",
     "output_type": "stream",
     "text": [
      " 45%|████▍     | 3206/7199 [28:58<51:00,  1.30it/s]  "
     ]
    },
    {
     "name": "stdout",
     "output_type": "stream",
     "text": [
      "Error en el registro: 989119014716244187, URL: https://a0.muscache.com/pictures/miso/Hosting-989119014716244187/original/2dd60b81-2c0c-47d1-bdd6-184162af7014.png\n"
     ]
    },
    {
     "name": "stderr",
     "output_type": "stream",
     "text": [
      " 45%|████▍     | 3216/7199 [29:03<28:06,  2.36it/s]"
     ]
    },
    {
     "name": "stdout",
     "output_type": "stream",
     "text": [
      "Error en el registro: 992271751387641106, URL: https://a0.muscache.com/pictures/prohost-api/Hosting-992271751387641106/original/de2d3ae0-5fdc-4cfd-b914-5c5b47955d09.jpeg\n"
     ]
    },
    {
     "name": "stderr",
     "output_type": "stream",
     "text": [
      " 45%|████▍     | 3237/7199 [29:15<24:47,  2.66it/s]  "
     ]
    },
    {
     "name": "stdout",
     "output_type": "stream",
     "text": [
      "Error en el registro: 998650346567438464, URL: https://a0.muscache.com/pictures/hosting/Hosting-998650346567438464/original/20048ffe-5c61-4602-b37a-2d9fb09e1f0a.jpeg\n"
     ]
    },
    {
     "name": "stderr",
     "output_type": "stream",
     "text": [
      " 46%|████▌     | 3296/7199 [29:48<38:09,  1.70it/s]  "
     ]
    },
    {
     "name": "stdout",
     "output_type": "stream",
     "text": [
      "Error en el registro: 1018290267718030960, URL: https://a0.muscache.com/pictures/miso/Hosting-947111916947155717/original/0cecdba9-f417-4263-82c1-6b44b8bca764.jpeg\n"
     ]
    },
    {
     "name": "stderr",
     "output_type": "stream",
     "text": [
      " 46%|████▌     | 3319/7199 [30:08<51:43,  1.25it/s]  "
     ]
    },
    {
     "name": "stdout",
     "output_type": "stream",
     "text": [
      "Error en el registro: 1022632138884104441, URL: https://a0.muscache.com/pictures/miso/Hosting-1022632138884104441/original/106e8264-b80e-4ebc-b7d2-edd873622e64.jpeg\n"
     ]
    },
    {
     "name": "stderr",
     "output_type": "stream",
     "text": [
      " 46%|████▌     | 3326/7199 [30:11<25:23,  2.54it/s]"
     ]
    },
    {
     "name": "stdout",
     "output_type": "stream",
     "text": [
      "Error en el registro: 1023171573296711810, URL: https://a0.muscache.com/pictures/miso/Hosting-1023171573296711810/original/5e165f50-5d55-4066-a9e1-2869afad55d9.png\n"
     ]
    },
    {
     "name": "stderr",
     "output_type": "stream",
     "text": [
      " 46%|████▋     | 3332/7199 [30:16<31:51,  2.02it/s]"
     ]
    },
    {
     "name": "stdout",
     "output_type": "stream",
     "text": [
      "Error en el registro: 1023236994504093679, URL: https://a0.muscache.com/pictures/prohost-api/Hosting-1023236994504093679/original/8a4ca110-73e3-495c-9c3c-22e7d7ad1956.jpeg\n"
     ]
    },
    {
     "name": "stderr",
     "output_type": "stream",
     "text": [
      " 46%|████▋     | 3333/7199 [30:16<26:26,  2.44it/s]"
     ]
    },
    {
     "name": "stdout",
     "output_type": "stream",
     "text": [
      "Error en el registro: 1023250667892620550, URL: https://a0.muscache.com/pictures/miso/Hosting-1023250667892620550/original/98caa91b-37aa-49ba-8b68-2e5aecdb394a.png\n"
     ]
    },
    {
     "name": "stderr",
     "output_type": "stream",
     "text": [
      " 47%|████▋     | 3362/7199 [30:33<27:00,  2.37it/s]  "
     ]
    },
    {
     "name": "stdout",
     "output_type": "stream",
     "text": [
      "Error en el registro: 1024001223963546696, URL: https://a0.muscache.com/pictures/miso/Hosting-1024001223963546696/original/1d5139e3-0fdd-4f22-bc56-94c8bf765d3a.jpeg\n"
     ]
    },
    {
     "name": "stderr",
     "output_type": "stream",
     "text": [
      " 47%|████▋     | 3364/7199 [30:33<21:23,  2.99it/s]"
     ]
    },
    {
     "name": "stdout",
     "output_type": "stream",
     "text": [
      "Error en el registro: 1024012837777489958, URL: https://a0.muscache.com/pictures/miso/Hosting-1024012837777489958/original/ba9b4b51-10bd-4718-9549-ca7c1a22299f.jpeg\n"
     ]
    },
    {
     "name": "stderr",
     "output_type": "stream",
     "text": [
      " 47%|████▋     | 3367/7199 [30:35<24:08,  2.65it/s]"
     ]
    },
    {
     "name": "stdout",
     "output_type": "stream",
     "text": [
      "Error en el registro: 1024023972093973958, URL: https://a0.muscache.com/pictures/miso/Hosting-1024023972093973958/original/bf52704d-ae50-4f2f-b6f3-7041eb3bdff9.jpeg\n"
     ]
    },
    {
     "name": "stderr",
     "output_type": "stream",
     "text": [
      " 47%|████▋     | 3375/7199 [30:38<24:39,  2.59it/s]"
     ]
    },
    {
     "name": "stdout",
     "output_type": "stream",
     "text": [
      "Error en el registro: 1024213782261169207, URL: https://a0.muscache.com/pictures/hosting/Hosting-1024213782261169207/original/09277bad-5476-408a-a2b1-c682cac6272b.jpeg\n"
     ]
    },
    {
     "name": "stderr",
     "output_type": "stream",
     "text": [
      " 47%|████▋     | 3380/7199 [30:40<21:31,  2.96it/s]"
     ]
    },
    {
     "name": "stdout",
     "output_type": "stream",
     "text": [
      "Error en el registro: 1024263072659351531, URL: https://a0.muscache.com/pictures/miso/Hosting-1024263072659351531/original/c36e8f5d-d9ba-4651-a552-d67dfef1b468.jpeg\n"
     ]
    },
    {
     "name": "stderr",
     "output_type": "stream",
     "text": [
      " 47%|████▋     | 3381/7199 [30:40<19:14,  3.31it/s]"
     ]
    },
    {
     "name": "stdout",
     "output_type": "stream",
     "text": [
      "Error en el registro: 1024275211393339254, URL: https://a0.muscache.com/pictures/miso/Hosting-1024263072659351531/original/c36e8f5d-d9ba-4651-a552-d67dfef1b468.jpeg\n"
     ]
    },
    {
     "name": "stderr",
     "output_type": "stream",
     "text": [
      " 47%|████▋     | 3392/7199 [30:45<22:05,  2.87it/s]"
     ]
    },
    {
     "name": "stdout",
     "output_type": "stream",
     "text": [
      "Error en el registro: 1024642924142042035, URL: https://a0.muscache.com/pictures/miso/Hosting-1024642924142042035/original/8315a95d-62be-47bb-bbc5-9cc8e8ae21a8.jpeg\n"
     ]
    },
    {
     "name": "stderr",
     "output_type": "stream",
     "text": [
      " 47%|████▋     | 3408/7199 [30:56<42:49,  1.48it/s]"
     ]
    },
    {
     "name": "stdout",
     "output_type": "stream",
     "text": [
      "Error en el registro: 1024766639203763026, URL: https://a0.muscache.com/pictures/miso/Hosting-1024766639203763026/original/b34f6b04-fae8-4850-8886-d113d81d8c2d.jpeg\n"
     ]
    },
    {
     "name": "stderr",
     "output_type": "stream",
     "text": [
      " 47%|████▋     | 3417/7199 [31:00<19:39,  3.21it/s]"
     ]
    },
    {
     "name": "stdout",
     "output_type": "stream",
     "text": [
      "Error en el registro: 1024913449187984636, URL: https://a0.muscache.com/pictures/miso/Hosting-1024913449187984636/original/d7e4a424-4020-438c-b002-90e8260f31d4.jpeg\n"
     ]
    },
    {
     "name": "stderr",
     "output_type": "stream",
     "text": [
      " 48%|████▊     | 3431/7199 [31:09<37:35,  1.67it/s]  "
     ]
    },
    {
     "name": "stdout",
     "output_type": "stream",
     "text": [
      "Error en el registro: 1025387432542746150, URL: https://a0.muscache.com/pictures/miso/Hosting-1025387432542746150/original/eb58eafc-0060-4cec-9b88-802cdf15bd13.jpeg\n"
     ]
    },
    {
     "name": "stderr",
     "output_type": "stream",
     "text": [
      " 48%|████▊     | 3439/7199 [31:13<24:00,  2.61it/s]"
     ]
    },
    {
     "name": "stdout",
     "output_type": "stream",
     "text": [
      "Error en el registro: 1025423935350953497, URL: https://a0.muscache.com/pictures/miso/Hosting-1025423935350953497/original/431d7db3-12ba-4b51-b913-9588f91079a7.jpeg\n"
     ]
    },
    {
     "name": "stderr",
     "output_type": "stream",
     "text": [
      " 48%|████▊     | 3447/7199 [31:18<44:05,  1.42it/s]"
     ]
    },
    {
     "name": "stdout",
     "output_type": "stream",
     "text": [
      "Error en el registro: 1025469496917369707, URL: https://a0.muscache.com/pictures/miso/Hosting-1025469496917369707/original/739e77ca-b59d-46ef-bbdb-e94c9c862112.jpeg\n"
     ]
    },
    {
     "name": "stderr",
     "output_type": "stream",
     "text": [
      " 49%|████▊     | 3498/7199 [31:45<19:33,  3.15it/s]  "
     ]
    },
    {
     "name": "stdout",
     "output_type": "stream",
     "text": [
      "Error en el registro: 1029167143567713293, URL: https://a0.muscache.com/pictures/miso/Hosting-1029167143567713293/original/8d43b2c0-ec8a-4c1f-9816-36c57525b24c.jpeg\n",
      "Error en el registro: 1029205665203211474, URL: https://a0.muscache.com/pictures/miso/Hosting-1029205665203211474/original/0d0e4b16-57b7-4bad-a9af-930af25672cc.jpeg\n"
     ]
    },
    {
     "name": "stderr",
     "output_type": "stream",
     "text": [
      " 50%|████▉     | 3573/7199 [32:25<29:48,  2.03it/s]"
     ]
    },
    {
     "name": "stdout",
     "output_type": "stream",
     "text": [
      "Error en el registro: 1043585223983157783, URL: https://a0.muscache.com/pictures/miso/Hosting-1043585223983157783/original/7a07c496-de3b-42f0-869e-2dd753ef2a3c.jpeg\n"
     ]
    },
    {
     "name": "stderr",
     "output_type": "stream",
     "text": [
      " 50%|█████     | 3615/7199 [32:54<28:44,  2.08it/s]  "
     ]
    },
    {
     "name": "stdout",
     "output_type": "stream",
     "text": [
      "Error en el registro: 77691, URL: https://a0.muscache.com/pictures/18698089/0b22a030_original.jpg\n"
     ]
    },
    {
     "name": "stderr",
     "output_type": "stream",
     "text": [
      " 50%|█████     | 3623/7199 [32:57<24:00,  2.48it/s]"
     ]
    },
    {
     "name": "stdout",
     "output_type": "stream",
     "text": [
      "Error en el registro: 220676, URL: https://a0.muscache.com/pictures/2143912/1608e26a_original.jpg\n"
     ]
    },
    {
     "name": "stderr",
     "output_type": "stream",
     "text": [
      " 51%|█████     | 3650/7199 [33:10<36:00,  1.64it/s]"
     ]
    },
    {
     "name": "stdout",
     "output_type": "stream",
     "text": [
      "Error en el registro: 1130279, URL: https://a0.muscache.com/pictures/miso/Hosting-1130279/original/1ff92114-4883-42f1-90c2-a51fa75140ad.jpeg\n"
     ]
    },
    {
     "name": "stderr",
     "output_type": "stream",
     "text": [
      " 51%|█████     | 3658/7199 [33:13<22:46,  2.59it/s]"
     ]
    },
    {
     "name": "stdout",
     "output_type": "stream",
     "text": [
      "Error en el registro: 1445064, URL: https://a0.muscache.com/pictures/22175517/62b99022_original.jpg\n"
     ]
    },
    {
     "name": "stderr",
     "output_type": "stream",
     "text": [
      " 51%|█████     | 3683/7199 [33:20<13:44,  4.27it/s]"
     ]
    },
    {
     "name": "stdout",
     "output_type": "stream",
     "text": [
      "Error en el registro: 2381143, URL: https://a0.muscache.com/pictures/miso/Hosting-2381143/original/fe2a01b1-7652-476f-b552-032879da8f04.png\n"
     ]
    },
    {
     "name": "stderr",
     "output_type": "stream",
     "text": [
      " 52%|█████▏    | 3709/7199 [33:31<30:59,  1.88it/s]"
     ]
    },
    {
     "name": "stdout",
     "output_type": "stream",
     "text": [
      "Error en el registro: 4000384, URL: https://a0.muscache.com/pictures/c168962e-1a48-461d-a568-3ec4bf9a6c65.jpg\n"
     ]
    },
    {
     "name": "stderr",
     "output_type": "stream",
     "text": [
      " 52%|█████▏    | 3710/7199 [33:31<25:03,  2.32it/s]"
     ]
    },
    {
     "name": "stdout",
     "output_type": "stream",
     "text": [
      "Error en el registro: 4090224, URL: https://a0.muscache.com/pictures/miso/Hosting-4090224/original/ab9132a7-8b00-407f-a67a-9100b3c8707f.jpeg\n"
     ]
    },
    {
     "name": "stderr",
     "output_type": "stream",
     "text": [
      " 52%|█████▏    | 3724/7199 [33:35<12:25,  4.66it/s]"
     ]
    },
    {
     "name": "stdout",
     "output_type": "stream",
     "text": [
      "Error en el registro: 4461846, URL: https://a0.muscache.com/pictures/prohost-api/Hosting-4461846/original/fc197865-7e72-4359-963f-ca4c1ce97bb5.jpeg\n"
     ]
    },
    {
     "name": "stderr",
     "output_type": "stream",
     "text": [
      " 52%|█████▏    | 3735/7199 [33:39<20:49,  2.77it/s]"
     ]
    },
    {
     "name": "stdout",
     "output_type": "stream",
     "text": [
      "Error en el registro: 4623114, URL: https://a0.muscache.com/pictures/prohost-api/Hosting-4623114/original/7c8d41af-cbd1-4666-8705-937098a17bf2.jpeg\n"
     ]
    },
    {
     "name": "stderr",
     "output_type": "stream",
     "text": [
      " 52%|█████▏    | 3739/7199 [33:40<15:38,  3.69it/s]"
     ]
    },
    {
     "name": "stdout",
     "output_type": "stream",
     "text": [
      "Error en el registro: 4662379, URL: https://a0.muscache.com/pictures/90646201/a9cbf501_original.jpg\n",
      "Error en el registro: 4699828, URL: https://a0.muscache.com/pictures/72880628/d3e48f2c_original.jpg\n"
     ]
    },
    {
     "name": "stderr",
     "output_type": "stream",
     "text": [
      " 52%|█████▏    | 3765/7199 [33:48<14:49,  3.86it/s]"
     ]
    },
    {
     "name": "stdout",
     "output_type": "stream",
     "text": [
      "Error en el registro: 5768819, URL: https://a0.muscache.com/pictures/fc3371ed-197d-4484-bd24-5d2281c9f356.jpg\n"
     ]
    },
    {
     "name": "stderr",
     "output_type": "stream",
     "text": [
      " 53%|█████▎    | 3788/7199 [33:55<14:54,  3.81it/s]"
     ]
    },
    {
     "name": "stdout",
     "output_type": "stream",
     "text": [
      "Error en el registro: 6646604, URL: https://a0.muscache.com/pictures/miso/Hosting-6646604/original/0f04720b-b742-4aba-b252-2be9080145e9.jpeg\n"
     ]
    },
    {
     "name": "stderr",
     "output_type": "stream",
     "text": [
      " 53%|█████▎    | 3831/7199 [34:05<11:21,  4.94it/s]"
     ]
    },
    {
     "name": "stdout",
     "output_type": "stream",
     "text": [
      "Error en el registro: 7531700, URL: https://a0.muscache.com/pictures/prohost-api/Hosting-7531700/original/67306117-5e1a-46b6-b1a9-8694dc769b9c.jpeg\n"
     ]
    },
    {
     "name": "stderr",
     "output_type": "stream",
     "text": [
      " 53%|█████▎    | 3840/7199 [34:08<10:58,  5.10it/s]"
     ]
    },
    {
     "name": "stdout",
     "output_type": "stream",
     "text": [
      "Error en el registro: 7837202, URL: https://a0.muscache.com/pictures/prohost-api/Hosting-7837202/original/37ec70e7-1b6c-415e-8ecf-7f8087aaca6d.jpeg\n"
     ]
    },
    {
     "name": "stderr",
     "output_type": "stream",
     "text": [
      " 54%|█████▍    | 3873/7199 [34:18<14:17,  3.88it/s]"
     ]
    },
    {
     "name": "stdout",
     "output_type": "stream",
     "text": [
      "Error en el registro: 8923817, URL: https://a0.muscache.com/pictures/cb235ed0-66b6-4e23-8b32-9ef6bf35e9fb.jpg\n"
     ]
    },
    {
     "name": "stderr",
     "output_type": "stream",
     "text": [
      " 55%|█████▍    | 3943/7199 [34:40<15:29,  3.50it/s]"
     ]
    },
    {
     "name": "stdout",
     "output_type": "stream",
     "text": [
      "Error en el registro: 12949309, URL: https://a0.muscache.com/pictures/e3f457c4-5f1a-4151-a3c8-e53f161d57fb.jpg\n"
     ]
    },
    {
     "name": "stderr",
     "output_type": "stream",
     "text": [
      " 55%|█████▍    | 3947/7199 [34:42<13:49,  3.92it/s]"
     ]
    },
    {
     "name": "stdout",
     "output_type": "stream",
     "text": [
      "Error en el registro: 13063952, URL: https://a0.muscache.com/pictures/10f6f3b2-e035-4e51-b533-08531934f3b9.jpg\n"
     ]
    },
    {
     "name": "stderr",
     "output_type": "stream",
     "text": [
      " 55%|█████▌    | 3967/7199 [34:49<19:58,  2.70it/s]"
     ]
    },
    {
     "name": "stdout",
     "output_type": "stream",
     "text": [
      "Error en el registro: 13613229, URL: https://a0.muscache.com/pictures/7fef86ac-75ff-44a3-ae8a-60639f1548eb.jpg\n"
     ]
    },
    {
     "name": "stderr",
     "output_type": "stream",
     "text": [
      " 55%|█████▌    | 3970/7199 [34:49<14:12,  3.79it/s]"
     ]
    },
    {
     "name": "stdout",
     "output_type": "stream",
     "text": [
      "Error en el registro: 13650313, URL: https://a0.muscache.com/pictures/prohost-api/Hosting-13650313/original/1713739f-5d53-45db-aa2e-611c2098615d.jpeg\n"
     ]
    },
    {
     "name": "stderr",
     "output_type": "stream",
     "text": [
      " 55%|█████▌    | 3989/7199 [34:54<11:32,  4.64it/s]"
     ]
    },
    {
     "name": "stdout",
     "output_type": "stream",
     "text": [
      "Error en el registro: 14229841, URL: https://a0.muscache.com/pictures/prohost-api/Hosting-14229841/original/c611eaeb-4983-4a3c-9525-fcabb3b0fbf5.jpeg\n"
     ]
    },
    {
     "name": "stderr",
     "output_type": "stream",
     "text": [
      " 56%|█████▌    | 4015/7199 [35:03<13:37,  3.90it/s]"
     ]
    },
    {
     "name": "stdout",
     "output_type": "stream",
     "text": [
      "Error en el registro: 14976039, URL: https://a0.muscache.com/pictures/prohost-api/Hosting-14976039/original/30b560e4-51f7-4f35-9b4d-343aa5074bc2.jpeg\n"
     ]
    },
    {
     "name": "stderr",
     "output_type": "stream",
     "text": [
      " 56%|█████▌    | 4027/7199 [35:06<13:50,  3.82it/s]"
     ]
    },
    {
     "name": "stdout",
     "output_type": "stream",
     "text": [
      "Error en el registro: 15342021, URL: https://a0.muscache.com/pictures/f805da52-3971-4361-9881-f11775636c63.jpg\n"
     ]
    },
    {
     "name": "stderr",
     "output_type": "stream",
     "text": [
      " 56%|█████▌    | 4034/7199 [35:10<25:54,  2.04it/s]"
     ]
    },
    {
     "name": "stdout",
     "output_type": "stream",
     "text": [
      "Error en el registro: 15819226, URL: https://a0.muscache.com/pictures/0d0adcee-76b9-48bc-9dd7-aeca958a23a2.jpg\n"
     ]
    },
    {
     "name": "stderr",
     "output_type": "stream",
     "text": [
      " 56%|█████▌    | 4045/7199 [35:13<10:59,  4.78it/s]"
     ]
    },
    {
     "name": "stdout",
     "output_type": "stream",
     "text": [
      "Error en el registro: 16148182, URL: https://a0.muscache.com/pictures/22ff0a41-874e-4723-b465-22d234d672e5.jpg\n"
     ]
    },
    {
     "name": "stderr",
     "output_type": "stream",
     "text": [
      " 56%|█████▋    | 4064/7199 [35:19<25:00,  2.09it/s]"
     ]
    },
    {
     "name": "stdout",
     "output_type": "stream",
     "text": [
      "Error en el registro: 17023481, URL: https://a0.muscache.com/pictures/prohost-api/Hosting-17023481/original/c66d1dcf-8cae-4a0f-b34d-e8a9da3882ab.jpeg\n"
     ]
    },
    {
     "name": "stderr",
     "output_type": "stream",
     "text": [
      " 56%|█████▋    | 4065/7199 [35:19<21:13,  2.46it/s]"
     ]
    },
    {
     "name": "stdout",
     "output_type": "stream",
     "text": [
      "Error en el registro: 17042710, URL: https://a0.muscache.com/pictures/prohost-api/Hosting-17042710/original/0a2e4db0-4940-4a4b-b948-11bef8ec0ed5.jpeg\n"
     ]
    },
    {
     "name": "stderr",
     "output_type": "stream",
     "text": [
      " 57%|█████▋    | 4084/7199 [35:26<15:30,  3.35it/s]"
     ]
    },
    {
     "name": "stdout",
     "output_type": "stream",
     "text": [
      "Error en el registro: 17617918, URL: https://a0.muscache.com/pictures/prohost-api/Hosting-17617918/original/aa7f3f57-a69b-439a-941d-5367cf50ef7c.jpeg\n"
     ]
    },
    {
     "name": "stderr",
     "output_type": "stream",
     "text": [
      " 57%|█████▋    | 4094/7199 [35:29<12:08,  4.26it/s]"
     ]
    },
    {
     "name": "stdout",
     "output_type": "stream",
     "text": [
      "Error en el registro: 17942707, URL: https://a0.muscache.com/pictures/e604dcf8-6900-4b02-9087-91eb98c1691a.jpg\n"
     ]
    },
    {
     "name": "stderr",
     "output_type": "stream",
     "text": [
      " 57%|█████▋    | 4100/7199 [35:31<16:02,  3.22it/s]"
     ]
    },
    {
     "name": "stdout",
     "output_type": "stream",
     "text": [
      "Error en el registro: 18032982, URL: https://a0.muscache.com/pictures/prohost-api/Hosting-18032982/original/2c71e21b-33cd-4f6a-ae22-287cdeaedfc0.jpeg\n"
     ]
    },
    {
     "name": "stderr",
     "output_type": "stream",
     "text": [
      " 57%|█████▋    | 4103/7199 [35:32<14:59,  3.44it/s]"
     ]
    },
    {
     "name": "stdout",
     "output_type": "stream",
     "text": [
      "Error en el registro: 18170647, URL: https://a0.muscache.com/pictures/miso/Hosting-18170647/original/d7c346d7-a904-4e8c-8356-4de5eb79c60f.jpeg\n"
     ]
    },
    {
     "name": "stderr",
     "output_type": "stream",
     "text": [
      " 58%|█████▊    | 4152/7199 [35:50<11:28,  4.43it/s]"
     ]
    },
    {
     "name": "stdout",
     "output_type": "stream",
     "text": [
      "Error en el registro: 19969497, URL: https://a0.muscache.com/pictures/miso/Hosting-19969497/original/2a822aed-e88f-4676-b990-1a719a44c0b4.jpeg\n"
     ]
    },
    {
     "name": "stderr",
     "output_type": "stream",
     "text": [
      " 58%|█████▊    | 4203/7199 [36:09<12:21,  4.04it/s]"
     ]
    },
    {
     "name": "stdout",
     "output_type": "stream",
     "text": [
      "Error en el registro: 21596829, URL: https://a0.muscache.com/pictures/4ab44899-6a80-4b45-8671-d42196ed8350.jpg\n"
     ]
    },
    {
     "name": "stderr",
     "output_type": "stream",
     "text": [
      " 59%|█████▉    | 4252/7199 [36:29<25:35,  1.92it/s]"
     ]
    },
    {
     "name": "stdout",
     "output_type": "stream",
     "text": [
      "Error en el registro: 23289684, URL: https://a0.muscache.com/pictures/aeda0be5-b9b8-48b9-ab3d-dd9053e65734.jpg\n"
     ]
    },
    {
     "name": "stderr",
     "output_type": "stream",
     "text": [
      " 59%|█████▉    | 4274/7199 [36:37<17:44,  2.75it/s]"
     ]
    },
    {
     "name": "stdout",
     "output_type": "stream",
     "text": [
      "Error en el registro: 23841523, URL: https://a0.muscache.com/pictures/9ba55672-3899-4b0e-b3a2-c6c5be9c463c.jpg\n"
     ]
    },
    {
     "name": "stderr",
     "output_type": "stream",
     "text": [
      " 59%|█████▉    | 4277/7199 [36:38<12:58,  3.75it/s]"
     ]
    },
    {
     "name": "stdout",
     "output_type": "stream",
     "text": [
      "Error en el registro: 23912131, URL: https://a0.muscache.com/pictures/eb441f94-0f0b-4436-943d-f3f2bf5aa164.jpg\n"
     ]
    },
    {
     "name": "stderr",
     "output_type": "stream",
     "text": [
      " 60%|█████▉    | 4292/7199 [36:43<14:36,  3.32it/s]"
     ]
    },
    {
     "name": "stdout",
     "output_type": "stream",
     "text": [
      "Error en el registro: 24347267, URL: https://a0.muscache.com/pictures/03944a33-597d-4f7c-9e69-271a62f221a6.jpg\n"
     ]
    },
    {
     "name": "stderr",
     "output_type": "stream",
     "text": [
      " 60%|█████▉    | 4296/7199 [36:44<18:38,  2.60it/s]"
     ]
    },
    {
     "name": "stdout",
     "output_type": "stream",
     "text": [
      "Error en el registro: 24563107, URL: https://a0.muscache.com/pictures/43b67d11-54b2-4a2b-803e-ce693e25696e.jpg\n"
     ]
    },
    {
     "name": "stderr",
     "output_type": "stream",
     "text": [
      " 60%|█████▉    | 4309/7199 [36:47<09:06,  5.28it/s]"
     ]
    },
    {
     "name": "stdout",
     "output_type": "stream",
     "text": [
      "Error en el registro: 24944930, URL: https://a0.muscache.com/pictures/75319c2e-294f-48dd-a5e8-76c5a2164d89.jpg\n"
     ]
    },
    {
     "name": "stderr",
     "output_type": "stream",
     "text": [
      " 60%|██████    | 4336/7199 [36:58<12:39,  3.77it/s]"
     ]
    },
    {
     "name": "stdout",
     "output_type": "stream",
     "text": [
      "Error en el registro: 26160905, URL: https://a0.muscache.com/pictures/971baba7-a4a1-42c5-b690-b5bb8180cde2.jpg\n"
     ]
    },
    {
     "name": "stderr",
     "output_type": "stream",
     "text": [
      " 61%|██████    | 4374/7199 [37:09<11:21,  4.15it/s]"
     ]
    },
    {
     "name": "stdout",
     "output_type": "stream",
     "text": [
      "Error en el registro: 28360335, URL: https://a0.muscache.com/pictures/prohost-api/Hosting-28360335/original/c8d8cd53-ed9e-4831-ba48-a838f2ac2bcf.jpeg\n"
     ]
    },
    {
     "name": "stderr",
     "output_type": "stream",
     "text": [
      " 61%|██████▏   | 4410/7199 [37:21<16:30,  2.82it/s]"
     ]
    },
    {
     "name": "stdout",
     "output_type": "stream",
     "text": [
      "Error en el registro: 29682500, URL: https://a0.muscache.com/pictures/pro_photo_tool/Hosting-29682500-unapproved/original/9b8998d9-840b-46b1-a25e-4789ff346f20.JPEG\n"
     ]
    },
    {
     "name": "stderr",
     "output_type": "stream",
     "text": [
      " 61%|██████▏   | 4411/7199 [37:21<20:47,  2.23it/s]"
     ]
    },
    {
     "name": "stdout",
     "output_type": "stream",
     "text": [
      "Error en el registro: 29702825, URL: https://a0.muscache.com/pictures/prohost-api/Hosting-29702825/original/32a037b0-43f1-4954-946b-9d1364829d04.jpeg\n"
     ]
    },
    {
     "name": "stderr",
     "output_type": "stream",
     "text": [
      " 61%|██████▏   | 4426/7199 [37:27<15:20,  3.01it/s]"
     ]
    },
    {
     "name": "stdout",
     "output_type": "stream",
     "text": [
      "Error en el registro: 30180140, URL: https://a0.muscache.com/pictures/48c10d62-5750-4364-9e3a-54439983cb6b.jpg\n"
     ]
    },
    {
     "name": "stderr",
     "output_type": "stream",
     "text": [
      " 62%|██████▏   | 4428/7199 [37:28<12:05,  3.82it/s]"
     ]
    },
    {
     "name": "stdout",
     "output_type": "stream",
     "text": [
      "Error en el registro: 30268517, URL: https://a0.muscache.com/pictures/9a56c86d-d5f3-4737-a658-1fd9885e8d61.jpg\n"
     ]
    },
    {
     "name": "stderr",
     "output_type": "stream",
     "text": [
      " 62%|██████▏   | 4432/7199 [37:29<15:54,  2.90it/s]"
     ]
    },
    {
     "name": "stdout",
     "output_type": "stream",
     "text": [
      "Error en el registro: 30390378, URL: https://a0.muscache.com/pictures/prohost-api/Hosting-30390378/original/244ec1dc-2c48-4e5e-84cf-fb57110e4bc7.jpeg\n"
     ]
    },
    {
     "name": "stderr",
     "output_type": "stream",
     "text": [
      " 62%|██████▏   | 4433/7199 [37:30<14:11,  3.25it/s]"
     ]
    },
    {
     "name": "stdout",
     "output_type": "stream",
     "text": [
      "Error en el registro: 30397078, URL: https://a0.muscache.com/pictures/prohost-api/Hosting-30397078/original/337887d6-4c7c-4550-9f1f-5e4ee671b8f6.jpeg\n"
     ]
    },
    {
     "name": "stderr",
     "output_type": "stream",
     "text": [
      " 62%|██████▏   | 4437/7199 [37:30<09:45,  4.72it/s]"
     ]
    },
    {
     "name": "stdout",
     "output_type": "stream",
     "text": [
      "Error en el registro: 30516467, URL: https://a0.muscache.com/pictures/prohost-api/Hosting-30516467/original/57a80027-7bdb-4fac-a4dd-5656631425d0.jpeg\n"
     ]
    },
    {
     "name": "stderr",
     "output_type": "stream",
     "text": [
      " 62%|██████▏   | 4447/7199 [37:34<15:24,  2.98it/s]"
     ]
    },
    {
     "name": "stdout",
     "output_type": "stream",
     "text": [
      "Error en el registro: 31185088, URL: https://a0.muscache.com/pictures/2ce1fe90-fb8f-4136-afcd-6ecb91a3a624.jpg\n"
     ]
    },
    {
     "name": "stderr",
     "output_type": "stream",
     "text": [
      " 62%|██████▏   | 4464/7199 [37:41<11:56,  3.82it/s]"
     ]
    },
    {
     "name": "stdout",
     "output_type": "stream",
     "text": [
      "Error en el registro: 32330465, URL: https://a0.muscache.com/pictures/miso/Hosting-32330465/original/7e2aa39c-61d9-41d8-97aa-393ee35fade9.png\n",
      "Error en el registro: 32330630, URL: https://a0.muscache.com/pictures/b848723a-0ed9-4b49-8c84-9d7eb14ce088.jpg\n"
     ]
    },
    {
     "name": "stderr",
     "output_type": "stream",
     "text": [
      " 62%|██████▏   | 4483/7199 [37:46<10:56,  4.14it/s]"
     ]
    },
    {
     "name": "stdout",
     "output_type": "stream",
     "text": [
      "Error en el registro: 33196944, URL: https://a0.muscache.com/pictures/prohost-api/Hosting-33196944/original/bb6a5cd0-7ee6-4465-824d-cd4cb0c5d652.jpeg\n"
     ]
    },
    {
     "name": "stderr",
     "output_type": "stream",
     "text": [
      " 62%|██████▏   | 4493/7199 [37:48<10:08,  4.45it/s]"
     ]
    },
    {
     "name": "stdout",
     "output_type": "stream",
     "text": [
      "Error en el registro: 33439464, URL: https://a0.muscache.com/pictures/prohost-api/Hosting-33439464/original/97081848-d2c3-47e1-8647-ac8af1c3f6dc.jpeg\n"
     ]
    },
    {
     "name": "stderr",
     "output_type": "stream",
     "text": [
      " 62%|██████▏   | 4495/7199 [37:48<09:37,  4.68it/s]"
     ]
    },
    {
     "name": "stdout",
     "output_type": "stream",
     "text": [
      "Error en el registro: 33440102, URL: https://a0.muscache.com/pictures/prohost-api/Hosting-33440102/original/9c6d9fa6-c962-4f7c-b69f-898bdd560ea4.jpeg\n"
     ]
    },
    {
     "name": "stderr",
     "output_type": "stream",
     "text": [
      " 62%|██████▏   | 4497/7199 [37:49<08:49,  5.10it/s]"
     ]
    },
    {
     "name": "stdout",
     "output_type": "stream",
     "text": [
      "Error en el registro: 33530646, URL: https://a0.muscache.com/pictures/a8cdc116-e934-4b9f-b8f2-91b8d69343b9.jpg\n"
     ]
    },
    {
     "name": "stderr",
     "output_type": "stream",
     "text": [
      " 63%|██████▎   | 4508/7199 [37:52<11:43,  3.82it/s]"
     ]
    },
    {
     "name": "stdout",
     "output_type": "stream",
     "text": [
      "Error en el registro: 34133759, URL: https://a0.muscache.com/pictures/prohost-api/Hosting-34133759/original/1dc53195-b06f-4fed-a860-92e1718bdccb.jpeg\n"
     ]
    },
    {
     "name": "stderr",
     "output_type": "stream",
     "text": [
      " 63%|██████▎   | 4519/7199 [37:56<13:18,  3.35it/s]"
     ]
    },
    {
     "name": "stdout",
     "output_type": "stream",
     "text": [
      "Error en el registro: 34974052, URL: https://a0.muscache.com/pictures/prohost-api/Hosting-34974052/original/80db035e-1445-4ce8-8314-e9175130884b.jpeg\n"
     ]
    },
    {
     "name": "stderr",
     "output_type": "stream",
     "text": [
      " 63%|██████▎   | 4533/7199 [38:00<12:30,  3.55it/s]"
     ]
    },
    {
     "name": "stdout",
     "output_type": "stream",
     "text": [
      "Error en el registro: 35481543, URL: https://a0.muscache.com/pictures/prohost-api/Hosting-35481543/original/38658947-e448-49ca-b0b2-607429f1b5b0.jpeg\n"
     ]
    },
    {
     "name": "stderr",
     "output_type": "stream",
     "text": [
      " 64%|██████▎   | 4580/7199 [38:15<12:14,  3.57it/s]"
     ]
    },
    {
     "name": "stdout",
     "output_type": "stream",
     "text": [
      "Error en el registro: 37068313, URL: https://a0.muscache.com/pictures/prohost-api/Hosting-37068313/original/c51bac91-f35e-4e1e-bb88-07934499bfdd.jpeg\n"
     ]
    },
    {
     "name": "stderr",
     "output_type": "stream",
     "text": [
      " 64%|██████▎   | 4587/7199 [38:17<11:08,  3.91it/s]"
     ]
    },
    {
     "name": "stdout",
     "output_type": "stream",
     "text": [
      "Error en el registro: 37709158, URL: https://a0.muscache.com/pictures/prohost-api/Hosting-37709158/original/09489cb1-f4c7-436f-a7e8-018a7079c658.jpeg\n"
     ]
    },
    {
     "name": "stderr",
     "output_type": "stream",
     "text": [
      " 64%|██████▍   | 4605/7199 [38:24<16:06,  2.69it/s]"
     ]
    },
    {
     "name": "stdout",
     "output_type": "stream",
     "text": [
      "Error en el registro: 38178173, URL: https://a0.muscache.com/pictures/prohost-api/Hosting-38178173/original/e1b494b8-9fc3-466a-8789-9d3afa032807.jpeg\n"
     ]
    },
    {
     "name": "stderr",
     "output_type": "stream",
     "text": [
      " 64%|██████▍   | 4606/7199 [38:24<14:16,  3.03it/s]"
     ]
    },
    {
     "name": "stdout",
     "output_type": "stream",
     "text": [
      "Error en el registro: 38274887, URL: https://a0.muscache.com/pictures/prohost-api/Hosting-38274887/original/ee5fb630-9250-4f85-b0e7-794619ceedf6.jpeg\n"
     ]
    },
    {
     "name": "stderr",
     "output_type": "stream",
     "text": [
      " 64%|██████▍   | 4615/7199 [38:26<10:28,  4.11it/s]"
     ]
    },
    {
     "name": "stdout",
     "output_type": "stream",
     "text": [
      "Error en el registro: 38513768, URL: https://a0.muscache.com/pictures/prohost-api/Hosting-38513768/original/43b5f7ad-a3a1-4019-993f-c5ebe3168d59.jpeg\n"
     ]
    },
    {
     "name": "stderr",
     "output_type": "stream",
     "text": [
      " 64%|██████▍   | 4638/7199 [38:33<10:08,  4.21it/s]"
     ]
    },
    {
     "name": "stdout",
     "output_type": "stream",
     "text": [
      "Error en el registro: 39536784, URL: https://a0.muscache.com/pictures/miso/Hosting-39536784/original/d1c26658-a946-468a-9a39-c6a3dfb23691.jpeg\n"
     ]
    },
    {
     "name": "stderr",
     "output_type": "stream",
     "text": [
      " 65%|██████▍   | 4650/7199 [38:36<10:30,  4.05it/s]"
     ]
    },
    {
     "name": "stdout",
     "output_type": "stream",
     "text": [
      "Error en el registro: 39908091, URL: https://a0.muscache.com/pictures/prohost-api/Hosting-39908091/original/17a09417-8eab-48b1-a21b-904f1837e84f.jpeg\n"
     ]
    },
    {
     "name": "stderr",
     "output_type": "stream",
     "text": [
      " 65%|██████▍   | 4664/7199 [38:40<09:45,  4.33it/s]"
     ]
    },
    {
     "name": "stdout",
     "output_type": "stream",
     "text": [
      "Error en el registro: 40423797, URL: https://a0.muscache.com/pictures/prohost-api/Hosting-40423797/original/374a8e77-d840-480b-ba94-51b8d7337e0c.jpeg\n"
     ]
    },
    {
     "name": "stderr",
     "output_type": "stream",
     "text": [
      " 65%|██████▍   | 4676/7199 [38:43<10:33,  3.98it/s]"
     ]
    },
    {
     "name": "stdout",
     "output_type": "stream",
     "text": [
      "Error en el registro: 40617998, URL: https://a0.muscache.com/pictures/miso/Hosting-40617998/original/6c9424ed-eaca-433f-9099-a9c9782dea58.jpeg\n"
     ]
    },
    {
     "name": "stderr",
     "output_type": "stream",
     "text": [
      " 65%|██████▌   | 4692/7199 [38:50<10:36,  3.94it/s]"
     ]
    },
    {
     "name": "stdout",
     "output_type": "stream",
     "text": [
      "Error en el registro: 41102403, URL: https://a0.muscache.com/pictures/prohost-api/Hosting-41102403/original/da9a9606-9604-4c01-b3ea-c1a3670b78e5.jpeg\n"
     ]
    },
    {
     "name": "stderr",
     "output_type": "stream",
     "text": [
      " 65%|██████▌   | 4694/7199 [38:50<09:25,  4.43it/s]"
     ]
    },
    {
     "name": "stdout",
     "output_type": "stream",
     "text": [
      "Error en el registro: 41102476, URL: https://a0.muscache.com/pictures/prohost-api/Hosting-41102476/original/04617580-6650-48c9-8e4c-c00f54156a8c.jpeg\n"
     ]
    },
    {
     "name": "stderr",
     "output_type": "stream",
     "text": [
      " 65%|██████▌   | 4703/7199 [38:53<11:41,  3.56it/s]"
     ]
    },
    {
     "name": "stdout",
     "output_type": "stream",
     "text": [
      "Error en el registro: 41614184, URL: https://a0.muscache.com/pictures/2d4d9af2-32eb-4fdd-8ce7-f2b5bdc94853.jpg\n"
     ]
    },
    {
     "name": "stderr",
     "output_type": "stream",
     "text": [
      " 65%|██████▌   | 4706/7199 [38:54<12:57,  3.20it/s]"
     ]
    },
    {
     "name": "stdout",
     "output_type": "stream",
     "text": [
      "Error en el registro: 41765021, URL: https://a0.muscache.com/pictures/ee7985b8-9db3-4c5c-9143-b1ff052dd862.jpg\n"
     ]
    },
    {
     "name": "stderr",
     "output_type": "stream",
     "text": [
      " 65%|██████▌   | 4707/7199 [38:54<11:43,  3.54it/s]"
     ]
    },
    {
     "name": "stdout",
     "output_type": "stream",
     "text": [
      "Error en el registro: 41785374, URL: https://a0.muscache.com/pictures/prohost-api/Hosting-41785374/original/61a91ae7-d44c-4914-8abd-db076afedf4f.jpeg\n"
     ]
    },
    {
     "name": "stderr",
     "output_type": "stream",
     "text": [
      " 65%|██████▌   | 4708/7199 [38:55<12:20,  3.37it/s]"
     ]
    },
    {
     "name": "stdout",
     "output_type": "stream",
     "text": [
      "Error en el registro: 41785889, URL: https://a0.muscache.com/pictures/prohost-api/Hosting-41785889/original/8f975c1d-488b-432e-81ee-cdb79c1c02aa.jpeg\n"
     ]
    },
    {
     "name": "stderr",
     "output_type": "stream",
     "text": [
      " 65%|██████▌   | 4711/7199 [38:55<09:19,  4.45it/s]"
     ]
    },
    {
     "name": "stdout",
     "output_type": "stream",
     "text": [
      "Error en el registro: 41903226, URL: https://a0.muscache.com/pictures/prohost-api/Hosting-41903226/original/7a269ac9-2f1b-4602-8bdf-4ff24a9a6777.jpeg\n"
     ]
    },
    {
     "name": "stderr",
     "output_type": "stream",
     "text": [
      " 65%|██████▌   | 4712/7199 [38:55<09:02,  4.59it/s]"
     ]
    },
    {
     "name": "stdout",
     "output_type": "stream",
     "text": [
      "Error en el registro: 41925155, URL: https://a0.muscache.com/pictures/prohost-api/Hosting-41925155/original/2ea402f5-82d2-4893-99cf-0d6ceca7f403.jpeg\n"
     ]
    },
    {
     "name": "stderr",
     "output_type": "stream",
     "text": [
      " 65%|██████▌   | 4715/7199 [38:56<09:59,  4.14it/s]"
     ]
    },
    {
     "name": "stdout",
     "output_type": "stream",
     "text": [
      "Error en el registro: 41953347, URL: https://a0.muscache.com/pictures/prohost-api/Hosting-41953347/original/920668ea-3248-402a-a2f4-e85a90c92ca1.jpeg\n"
     ]
    },
    {
     "name": "stderr",
     "output_type": "stream",
     "text": [
      " 66%|██████▌   | 4716/7199 [38:56<11:13,  3.69it/s]"
     ]
    },
    {
     "name": "stdout",
     "output_type": "stream",
     "text": [
      "Error en el registro: 41953381, URL: https://a0.muscache.com/pictures/prohost-api/Hosting-41953381/original/1dfc0495-f723-4331-8a89-4ac4d88edd0c.jpeg\n"
     ]
    },
    {
     "name": "stderr",
     "output_type": "stream",
     "text": [
      " 66%|██████▌   | 4722/7199 [38:58<09:56,  4.15it/s]"
     ]
    },
    {
     "name": "stdout",
     "output_type": "stream",
     "text": [
      "Error en el registro: 42080174, URL: https://a0.muscache.com/pictures/prohost-api/Hosting-42080174/original/70a61753-d83a-4323-b5be-66365f32d0af.jpeg\n",
      "Error en el registro: 42080205, URL: https://a0.muscache.com/pictures/prohost-api/Hosting-42080205/original/180c0cef-eb46-4641-a6be-71872fc644ee.jpeg\n"
     ]
    },
    {
     "name": "stderr",
     "output_type": "stream",
     "text": [
      " 66%|██████▌   | 4723/7199 [38:58<09:39,  4.28it/s]"
     ]
    },
    {
     "name": "stdout",
     "output_type": "stream",
     "text": [
      "Error en el registro: 42195053, URL: https://a0.muscache.com/pictures/prohost-api/Hosting-42195053/original/66a57514-4d25-4268-815b-68465adc5717.jpeg\n"
     ]
    },
    {
     "name": "stderr",
     "output_type": "stream",
     "text": [
      " 66%|██████▌   | 4735/7199 [39:02<11:59,  3.42it/s]"
     ]
    },
    {
     "name": "stdout",
     "output_type": "stream",
     "text": [
      "Error en el registro: 42708089, URL: https://a0.muscache.com/pictures/prohost-api/Hosting-42708089/original/63e58680-832d-47de-b782-380659efda4c.jpeg\n",
      "Error en el registro: 42708127, URL: https://a0.muscache.com/pictures/prohost-api/Hosting-42708127/original/91eae4b5-4a53-444e-bbe9-db37ae477471.jpeg\n"
     ]
    },
    {
     "name": "stderr",
     "output_type": "stream",
     "text": [
      " 66%|██████▌   | 4737/7199 [39:03<10:25,  3.93it/s]"
     ]
    },
    {
     "name": "stdout",
     "output_type": "stream",
     "text": [
      "Error en el registro: 42708174, URL: https://a0.muscache.com/pictures/prohost-api/Hosting-42708174/original/250bd918-a4d8-46d0-8bc9-e9a46413ec41.jpeg\n"
     ]
    },
    {
     "name": "stderr",
     "output_type": "stream",
     "text": [
      " 66%|██████▌   | 4740/7199 [39:03<08:43,  4.69it/s]"
     ]
    },
    {
     "name": "stdout",
     "output_type": "stream",
     "text": [
      "Error en el registro: 42774598, URL: https://a0.muscache.com/pictures/miso/Hosting-42774598/original/73da70dc-380f-4d53-b7b3-755c0f255305.png\n"
     ]
    },
    {
     "name": "stderr",
     "output_type": "stream",
     "text": [
      " 66%|██████▌   | 4757/7199 [39:07<09:32,  4.26it/s]"
     ]
    },
    {
     "name": "stdout",
     "output_type": "stream",
     "text": [
      "Error en el registro: 43032465, URL: https://a0.muscache.com/pictures/prohost-api/Hosting-43032465/original/28381099-f671-4471-8727-9e8084e47d4f.jpeg\n"
     ]
    },
    {
     "name": "stderr",
     "output_type": "stream",
     "text": [
      " 66%|██████▌   | 4759/7199 [39:07<08:32,  4.76it/s]"
     ]
    },
    {
     "name": "stdout",
     "output_type": "stream",
     "text": [
      "Error en el registro: 43032495, URL: https://a0.muscache.com/pictures/prohost-api/Hosting-43032495/original/58abc83b-2b8c-4176-9d7c-5bf91b42c49f.jpeg\n"
     ]
    },
    {
     "name": "stderr",
     "output_type": "stream",
     "text": [
      " 66%|██████▌   | 4765/7199 [39:08<08:17,  4.89it/s]"
     ]
    },
    {
     "name": "stdout",
     "output_type": "stream",
     "text": [
      "Error en el registro: 43121210, URL: https://a0.muscache.com/pictures/prohost-api/Hosting-43121210/original/5f99a7da-d07c-43a4-8e67-92a31abe9695.jpeg\n"
     ]
    },
    {
     "name": "stderr",
     "output_type": "stream",
     "text": [
      " 66%|██████▋   | 4772/7199 [39:09<08:32,  4.74it/s]"
     ]
    },
    {
     "name": "stdout",
     "output_type": "stream",
     "text": [
      "Error en el registro: 43301136, URL: https://a0.muscache.com/pictures/prohost-api/Hosting-43301136/original/373cca92-f25a-4d44-a5cb-c2e3c253e2d3.jpeg\n"
     ]
    },
    {
     "name": "stderr",
     "output_type": "stream",
     "text": [
      " 66%|██████▋   | 4787/7199 [39:13<08:33,  4.70it/s]"
     ]
    },
    {
     "name": "stdout",
     "output_type": "stream",
     "text": [
      "Error en el registro: 43921666, URL: https://a0.muscache.com/pictures/prohost-api/Hosting-43921666/original/ff08f5f6-d1dd-435e-af2e-c7917dfcdc7d.jpeg\n"
     ]
    },
    {
     "name": "stderr",
     "output_type": "stream",
     "text": [
      " 67%|██████▋   | 4790/7199 [39:13<09:10,  4.37it/s]"
     ]
    },
    {
     "name": "stdout",
     "output_type": "stream",
     "text": [
      "Error en el registro: 44053258, URL: https://a0.muscache.com/pictures/prohost-api/Hosting-44053258/original/48655a82-a536-465e-925a-b901943762e2.jpeg\n"
     ]
    },
    {
     "name": "stderr",
     "output_type": "stream",
     "text": [
      " 67%|██████▋   | 4795/7199 [39:15<09:01,  4.44it/s]"
     ]
    },
    {
     "name": "stdout",
     "output_type": "stream",
     "text": [
      "Error en el registro: 44242670, URL: https://a0.muscache.com/pictures/prohost-api/Hosting-44242670/original/4b69e1a9-8664-4b90-a9f9-cd0a966df453.jpeg\n"
     ]
    },
    {
     "name": "stderr",
     "output_type": "stream",
     "text": [
      " 67%|██████▋   | 4803/7199 [39:17<10:03,  3.97it/s]"
     ]
    },
    {
     "name": "stdout",
     "output_type": "stream",
     "text": [
      "Error en el registro: 44776954, URL: https://a0.muscache.com/pictures/prohost-api/Hosting-44776954/original/e20fbcfe-fd7e-48a4-9237-71d69f4d207f.jpeg\n",
      "Error en el registro: 44776967, URL: https://a0.muscache.com/pictures/prohost-api/Hosting-44776967/original/22009d99-ee7d-44ee-b6a5-e3d47e1dbf8a.jpeg\n"
     ]
    },
    {
     "name": "stderr",
     "output_type": "stream",
     "text": [
      " 67%|██████▋   | 4808/7199 [39:18<07:36,  5.24it/s]"
     ]
    },
    {
     "name": "stdout",
     "output_type": "stream",
     "text": [
      "Error en el registro: 45031773, URL: https://a0.muscache.com/pictures/miso/Hosting-45031773/original/786af0d4-0eb3-4608-a4a3-895bc73c8fc7.jpeg\n",
      "Error en el registro: 45067711, URL: https://a0.muscache.com/pictures/miso/Hosting-45067711/original/54d23f39-6e1c-4118-8d0f-fcb82c101863.jpeg\n"
     ]
    },
    {
     "name": "stderr",
     "output_type": "stream",
     "text": [
      " 67%|██████▋   | 4810/7199 [39:19<10:28,  3.80it/s]"
     ]
    },
    {
     "name": "stdout",
     "output_type": "stream",
     "text": [
      "Error en el registro: 45095953, URL: https://a0.muscache.com/pictures/prohost-api/Hosting-45095953/original/e530a1ff-ca52-4a5e-a210-2536b4d4678a.jpeg\n"
     ]
    },
    {
     "name": "stderr",
     "output_type": "stream",
     "text": [
      " 67%|██████▋   | 4811/7199 [39:19<09:49,  4.05it/s]"
     ]
    },
    {
     "name": "stdout",
     "output_type": "stream",
     "text": [
      "Error en el registro: 45096003, URL: https://a0.muscache.com/pictures/prohost-api/Hosting-45096003/original/0c468432-5000-4423-97b2-5afda54e34f8.jpeg\n"
     ]
    },
    {
     "name": "stderr",
     "output_type": "stream",
     "text": [
      " 67%|██████▋   | 4812/7199 [39:19<09:26,  4.21it/s]"
     ]
    },
    {
     "name": "stdout",
     "output_type": "stream",
     "text": [
      "Error en el registro: 45096017, URL: https://a0.muscache.com/pictures/prohost-api/Hosting-45096017/original/552d794b-b07e-4a21-a7b4-4e513fc2e6b9.jpeg\n"
     ]
    },
    {
     "name": "stderr",
     "output_type": "stream",
     "text": [
      " 67%|██████▋   | 4813/7199 [39:20<11:59,  3.32it/s]"
     ]
    },
    {
     "name": "stdout",
     "output_type": "stream",
     "text": [
      "Error en el registro: 45112213, URL: https://a0.muscache.com/pictures/miso/Hosting-45112213/original/23220062-1037-4561-b0ff-fa9806e04863.jpeg\n"
     ]
    },
    {
     "name": "stderr",
     "output_type": "stream",
     "text": [
      " 67%|██████▋   | 4815/7199 [39:20<11:03,  3.59it/s]"
     ]
    },
    {
     "name": "stdout",
     "output_type": "stream",
     "text": [
      "Error en el registro: 45136082, URL: https://a0.muscache.com/pictures/miso/Hosting-45136082/original/9d67ada5-de07-480a-a9fa-ceb0bac7f088.jpeg\n"
     ]
    },
    {
     "name": "stderr",
     "output_type": "stream",
     "text": [
      " 67%|██████▋   | 4828/7199 [39:24<08:08,  4.85it/s]"
     ]
    },
    {
     "name": "stdout",
     "output_type": "stream",
     "text": [
      "Error en el registro: 45440353, URL: https://a0.muscache.com/pictures/246931ce-1d84-484a-bde7-4ee607f5d48e.jpg\n",
      "Error en el registro: 45443503, URL: https://a0.muscache.com/pictures/prohost-api/Hosting-45443503/original/72ca2b6e-9420-4c81-856d-f3c4ec4cb6f8.jpeg\n"
     ]
    },
    {
     "name": "stderr",
     "output_type": "stream",
     "text": [
      " 67%|██████▋   | 4833/7199 [39:26<10:16,  3.84it/s]"
     ]
    },
    {
     "name": "stdout",
     "output_type": "stream",
     "text": [
      "Error en el registro: 45494260, URL: https://a0.muscache.com/pictures/prohost-api/Hosting-45494260/original/245b92de-7b7d-4225-ae48-1b2321a8a501.jpeg\n",
      "Error en el registro: 45501019, URL: https://a0.muscache.com/pictures/miso/Hosting-45501019/original/de13720d-7458-4897-b812-10c014117d01.png\n"
     ]
    },
    {
     "name": "stderr",
     "output_type": "stream",
     "text": [
      " 67%|██████▋   | 4840/7199 [39:28<09:57,  3.95it/s]"
     ]
    },
    {
     "name": "stdout",
     "output_type": "stream",
     "text": [
      "Error en el registro: 45539765, URL: https://a0.muscache.com/pictures/prohost-api/Hosting-45539765/original/6ae8c686-fc70-4705-afc5-ef9177681289.jpeg\n"
     ]
    },
    {
     "name": "stderr",
     "output_type": "stream",
     "text": [
      " 67%|██████▋   | 4847/7199 [39:30<12:34,  3.12it/s]"
     ]
    },
    {
     "name": "stdout",
     "output_type": "stream",
     "text": [
      "Error en el registro: 45679998, URL: https://a0.muscache.com/pictures/prohost-api/Hosting-45679998/original/2189dde9-1660-43fd-9f83-6b3b5cd0eec3.jpeg\n"
     ]
    },
    {
     "name": "stderr",
     "output_type": "stream",
     "text": [
      " 67%|██████▋   | 4849/7199 [39:31<10:03,  3.89it/s]"
     ]
    },
    {
     "name": "stdout",
     "output_type": "stream",
     "text": [
      "Error en el registro: 45680010, URL: https://a0.muscache.com/pictures/prohost-api/Hosting-45680010/original/c72ecce3-1fb0-4918-b50f-06df412d1f31.jpeg\n",
      "Error en el registro: 45680018, URL: https://a0.muscache.com/pictures/prohost-api/Hosting-45680018/original/a60994d1-69e5-4aa8-adfb-e5a05ffeec5c.jpeg\n"
     ]
    },
    {
     "name": "stderr",
     "output_type": "stream",
     "text": [
      " 67%|██████▋   | 4851/7199 [39:31<08:17,  4.72it/s]"
     ]
    },
    {
     "name": "stdout",
     "output_type": "stream",
     "text": [
      "Error en el registro: 45680039, URL: https://a0.muscache.com/pictures/prohost-api/Hosting-45680039/original/ddeaafff-825d-41b2-ae9e-f6f620020533.jpeg\n",
      "Error en el registro: 45689038, URL: https://a0.muscache.com/pictures/prohost-api/Hosting-45689038/original/c43dfacc-5def-4e24-a109-ad5de07a2f87.jpeg\n"
     ]
    },
    {
     "name": "stderr",
     "output_type": "stream",
     "text": [
      " 67%|██████▋   | 4852/7199 [39:31<07:47,  5.02it/s]"
     ]
    },
    {
     "name": "stdout",
     "output_type": "stream",
     "text": [
      "Error en el registro: 45689053, URL: https://a0.muscache.com/pictures/prohost-api/Hosting-45689053/original/5e267cf5-62f5-48ce-9f0d-aa460713e441.jpeg\n"
     ]
    },
    {
     "name": "stderr",
     "output_type": "stream",
     "text": [
      " 67%|██████▋   | 4853/7199 [39:31<08:15,  4.74it/s]"
     ]
    },
    {
     "name": "stdout",
     "output_type": "stream",
     "text": [
      "Error en el registro: 45689060, URL: https://a0.muscache.com/pictures/prohost-api/Hosting-45689060/original/51ab7ef4-cd4b-4133-96a9-88a0f4f6b238.jpeg\n"
     ]
    },
    {
     "name": "stderr",
     "output_type": "stream",
     "text": [
      " 67%|██████▋   | 4855/7199 [39:32<08:22,  4.66it/s]"
     ]
    },
    {
     "name": "stdout",
     "output_type": "stream",
     "text": [
      "Error en el registro: 45689110, URL: https://a0.muscache.com/pictures/prohost-api/Hosting-45689110/original/cf17e677-1be1-4046-9336-3d2e0d465310.jpeg\n",
      "Error en el registro: 45689125, URL: https://a0.muscache.com/pictures/prohost-api/Hosting-45689125/original/bf18064a-e844-46f9-8c3d-641e4c86950d.jpeg\n"
     ]
    },
    {
     "name": "stderr",
     "output_type": "stream",
     "text": [
      " 68%|██████▊   | 4860/7199 [39:34<11:33,  3.37it/s]"
     ]
    },
    {
     "name": "stdout",
     "output_type": "stream",
     "text": [
      "Error en el registro: 45844741, URL: https://a0.muscache.com/pictures/miso/Hosting-45844741/original/2ebd7146-447a-43ad-a296-3a28eeb59c0e.jpeg\n"
     ]
    },
    {
     "name": "stderr",
     "output_type": "stream",
     "text": [
      " 68%|██████▊   | 4864/7199 [39:34<09:28,  4.10it/s]"
     ]
    },
    {
     "name": "stdout",
     "output_type": "stream",
     "text": [
      "Error en el registro: 45999950, URL: https://a0.muscache.com/pictures/prohost-api/Hosting-45999950/original/ea2aeb8d-fbb5-4e6a-9dd2-4e1dac7ef52f.jpeg\n"
     ]
    },
    {
     "name": "stderr",
     "output_type": "stream",
     "text": [
      " 68%|██████▊   | 4865/7199 [39:35<09:20,  4.16it/s]"
     ]
    },
    {
     "name": "stdout",
     "output_type": "stream",
     "text": [
      "Error en el registro: 46000223, URL: https://a0.muscache.com/pictures/prohost-api/Hosting-46000223/original/27fd39ae-6eab-4143-bd24-d81504173816.jpeg\n"
     ]
    },
    {
     "name": "stderr",
     "output_type": "stream",
     "text": [
      " 68%|██████▊   | 4867/7199 [39:35<08:08,  4.77it/s]"
     ]
    },
    {
     "name": "stdout",
     "output_type": "stream",
     "text": [
      "Error en el registro: 46051711, URL: https://a0.muscache.com/pictures/miso/Hosting-46051711/original/b072612e-50cd-49d1-9a8d-87ed25838c08.jpeg\n",
      "Error en el registro: 46074220, URL: https://a0.muscache.com/pictures/prohost-api/Hosting-46074220/original/8d519bd3-3811-48ab-81e8-eff68799db92.jpeg\n"
     ]
    },
    {
     "name": "stderr",
     "output_type": "stream",
     "text": [
      " 68%|██████▊   | 4868/7199 [39:35<08:00,  4.85it/s]"
     ]
    },
    {
     "name": "stdout",
     "output_type": "stream",
     "text": [
      "Error en el registro: 46074729, URL: https://a0.muscache.com/pictures/prohost-api/Hosting-46074729/original/3ef2e84a-aafe-4f1e-b346-99ecf6f1f5f2.jpeg\n"
     ]
    },
    {
     "name": "stderr",
     "output_type": "stream",
     "text": [
      " 68%|██████▊   | 4870/7199 [39:36<08:02,  4.82it/s]"
     ]
    },
    {
     "name": "stdout",
     "output_type": "stream",
     "text": [
      "Error en el registro: 46074742, URL: https://a0.muscache.com/pictures/prohost-api/Hosting-46074742/original/5748e678-10d5-401b-af05-df788934f705.jpeg\n"
     ]
    },
    {
     "name": "stderr",
     "output_type": "stream",
     "text": [
      " 68%|██████▊   | 4871/7199 [39:36<07:39,  5.07it/s]"
     ]
    },
    {
     "name": "stdout",
     "output_type": "stream",
     "text": [
      "Error en el registro: 46085675, URL: https://a0.muscache.com/pictures/prohost-api/Hosting-46085675/original/1d4604ad-47a4-4c9c-b844-40acd434fb3f.jpeg\n"
     ]
    },
    {
     "name": "stderr",
     "output_type": "stream",
     "text": [
      " 68%|██████▊   | 4876/7199 [39:39<13:40,  2.83it/s]"
     ]
    },
    {
     "name": "stdout",
     "output_type": "stream",
     "text": [
      "Error en el registro: 46326668, URL: https://a0.muscache.com/pictures/56a7aa37-27a0-4247-ae7e-221ee644f389.jpg\n",
      "Error en el registro: 46330627, URL: https://a0.muscache.com/pictures/miso/Hosting-46330627/original/a575814a-418e-4fd4-a783-b4eca2817921.jpeg\n"
     ]
    },
    {
     "name": "stderr",
     "output_type": "stream",
     "text": [
      " 68%|██████▊   | 4882/7199 [39:40<08:39,  4.46it/s]"
     ]
    },
    {
     "name": "stdout",
     "output_type": "stream",
     "text": [
      "Error en el registro: 46445272, URL: https://a0.muscache.com/pictures/prohost-api/Hosting-46445272/original/bdf6198d-01b9-4988-a99a-231d4e53782d.jpeg\n"
     ]
    },
    {
     "name": "stderr",
     "output_type": "stream",
     "text": [
      " 68%|██████▊   | 4889/7199 [39:42<09:29,  4.06it/s]"
     ]
    },
    {
     "name": "stdout",
     "output_type": "stream",
     "text": [
      "Error en el registro: 46576175, URL: https://a0.muscache.com/pictures/prohost-api/Hosting-46576175/original/653c8eb1-d0fd-4d68-8e88-5b4898d32d98.jpeg\n",
      "Error en el registro: 46576290, URL: https://a0.muscache.com/pictures/0826a430-939b-4a43-aa90-5e682f215465.jpg\n"
     ]
    },
    {
     "name": "stderr",
     "output_type": "stream",
     "text": [
      " 68%|██████▊   | 4892/7199 [39:43<08:27,  4.54it/s]"
     ]
    },
    {
     "name": "stdout",
     "output_type": "stream",
     "text": [
      "Error en el registro: 46602042, URL: https://a0.muscache.com/pictures/prohost-api/Hosting-46602042/original/8a77cfa9-d271-4e7d-a98f-03d1c8abbd8b.jpeg\n",
      "Error en el registro: 46696466, URL: https://a0.muscache.com/pictures/miso/Hosting-46696466/original/0ea7e189-c6df-4717-b1e4-2a5d32d01fa1.jpeg\n"
     ]
    },
    {
     "name": "stderr",
     "output_type": "stream",
     "text": [
      " 68%|██████▊   | 4893/7199 [39:43<08:23,  4.58it/s]"
     ]
    },
    {
     "name": "stdout",
     "output_type": "stream",
     "text": [
      "Error en el registro: 46697368, URL: https://a0.muscache.com/pictures/miso/Hosting-46697368/original/7c297348-caf3-4d1e-8d70-41b1ad9b86e7.jpeg\n"
     ]
    },
    {
     "name": "stderr",
     "output_type": "stream",
     "text": [
      " 68%|██████▊   | 4894/7199 [39:43<08:27,  4.54it/s]"
     ]
    },
    {
     "name": "stdout",
     "output_type": "stream",
     "text": [
      "Error en el registro: 46730228, URL: https://a0.muscache.com/pictures/prohost-api/Hosting-46730228/original/b49d9f80-2bbc-42ad-aef8-dcc9d4ad8c6d.jpeg\n"
     ]
    },
    {
     "name": "stderr",
     "output_type": "stream",
     "text": [
      " 68%|██████▊   | 4895/7199 [39:43<08:23,  4.57it/s]"
     ]
    },
    {
     "name": "stdout",
     "output_type": "stream",
     "text": [
      "Error en el registro: 46791068, URL: https://a0.muscache.com/pictures/prohost-api/Hosting-46791068/original/85efb204-1093-4e95-983c-00f405dd6f4c.jpeg\n"
     ]
    },
    {
     "name": "stderr",
     "output_type": "stream",
     "text": [
      " 68%|██████▊   | 4896/7199 [39:44<08:30,  4.51it/s]"
     ]
    },
    {
     "name": "stdout",
     "output_type": "stream",
     "text": [
      "Error en el registro: 46791156, URL: https://a0.muscache.com/pictures/28f70459-7ac9-43bf-b2ca-740d5cbc70db.jpg\n"
     ]
    },
    {
     "name": "stderr",
     "output_type": "stream",
     "text": [
      " 68%|██████▊   | 4907/7199 [39:47<10:03,  3.80it/s]"
     ]
    },
    {
     "name": "stdout",
     "output_type": "stream",
     "text": [
      "Error en el registro: 46983650, URL: https://a0.muscache.com/pictures/93d160f5-78fc-4044-ac33-fdda1feb841f.jpg\n"
     ]
    },
    {
     "name": "stderr",
     "output_type": "stream",
     "text": [
      " 68%|██████▊   | 4928/7199 [39:57<13:44,  2.75it/s]"
     ]
    },
    {
     "name": "stdout",
     "output_type": "stream",
     "text": [
      "Error en el registro: 47408663, URL: https://a0.muscache.com/pictures/2010306b-5a95-4545-a825-c38a878b46b3.jpg\n"
     ]
    },
    {
     "name": "stderr",
     "output_type": "stream",
     "text": [
      " 69%|██████▊   | 4938/7199 [40:05<12:24,  3.04it/s]  "
     ]
    },
    {
     "name": "stdout",
     "output_type": "stream",
     "text": [
      "Error en el registro: 47576607, URL: https://a0.muscache.com/pictures/prohost-api/Hosting-47576607/original/2a8842a4-c900-4cd9-97de-2617a41b028a.jpeg\n"
     ]
    },
    {
     "name": "stderr",
     "output_type": "stream",
     "text": [
      " 69%|██████▊   | 4942/7199 [40:06<09:49,  3.83it/s]"
     ]
    },
    {
     "name": "stdout",
     "output_type": "stream",
     "text": [
      "Error en el registro: 47873448, URL: https://a0.muscache.com/pictures/miso/Hosting-47873448/original/16fc99cc-292d-4383-b8a0-def7f17c1e64.jpeg\n"
     ]
    },
    {
     "name": "stderr",
     "output_type": "stream",
     "text": [
      " 69%|██████▉   | 4959/7199 [40:12<10:28,  3.56it/s]"
     ]
    },
    {
     "name": "stdout",
     "output_type": "stream",
     "text": [
      "Error en el registro: 48103622, URL: https://a0.muscache.com/pictures/prohost-api/Hosting-48103622/original/6ccbbd9d-4601-45ea-b07f-b16358373780.jpeg\n"
     ]
    },
    {
     "name": "stderr",
     "output_type": "stream",
     "text": [
      " 69%|██████▉   | 4961/7199 [40:12<08:52,  4.20it/s]"
     ]
    },
    {
     "name": "stdout",
     "output_type": "stream",
     "text": [
      "Error en el registro: 48103833, URL: https://a0.muscache.com/pictures/prohost-api/Hosting-48103833/original/313c9151-af54-4716-bffe-4d8a243bfd7d.jpeg\n",
      "Error en el registro: 48107926, URL: https://a0.muscache.com/pictures/prohost-api/Hosting-48107926/original/d9749ddd-ea24-451e-97c7-8eea156138f3.jpeg\n"
     ]
    },
    {
     "name": "stderr",
     "output_type": "stream",
     "text": [
      " 69%|██████▉   | 4963/7199 [40:12<07:41,  4.84it/s]"
     ]
    },
    {
     "name": "stdout",
     "output_type": "stream",
     "text": [
      "Error en el registro: 48107968, URL: https://a0.muscache.com/pictures/prohost-api/Hosting-48107968/original/956795d8-27ef-4f54-8cca-ebfea3a6a425.jpeg\n"
     ]
    },
    {
     "name": "stderr",
     "output_type": "stream",
     "text": [
      " 69%|██████▉   | 4969/7199 [40:14<08:25,  4.41it/s]"
     ]
    },
    {
     "name": "stdout",
     "output_type": "stream",
     "text": [
      "Error en el registro: 48231177, URL: https://a0.muscache.com/pictures/153d5cfa-95d5-4eb4-b45a-1809ff9f1c71.jpg\n"
     ]
    },
    {
     "name": "stderr",
     "output_type": "stream",
     "text": [
      " 69%|██████▉   | 4975/7199 [40:16<09:09,  4.04it/s]"
     ]
    },
    {
     "name": "stdout",
     "output_type": "stream",
     "text": [
      "Error en el registro: 48248044, URL: https://a0.muscache.com/pictures/a5239f12-41bd-4ff2-81bb-4100667e064c.jpg\n"
     ]
    },
    {
     "name": "stderr",
     "output_type": "stream",
     "text": [
      " 69%|██████▉   | 4984/7199 [40:18<09:55,  3.72it/s]"
     ]
    },
    {
     "name": "stdout",
     "output_type": "stream",
     "text": [
      "Error en el registro: 48454886, URL: https://a0.muscache.com/pictures/prohost-api/Hosting-48454886/original/17df10d9-f416-40a3-9d77-48eba91ff839.jpeg\n"
     ]
    },
    {
     "name": "stderr",
     "output_type": "stream",
     "text": [
      " 69%|██████▉   | 4988/7199 [40:20<11:39,  3.16it/s]"
     ]
    },
    {
     "name": "stdout",
     "output_type": "stream",
     "text": [
      "Error en el registro: 48597887, URL: https://a0.muscache.com/pictures/prohost-api/Hosting-48597887/original/0df41515-85cb-40ca-9102-2c905c77914d.jpeg\n"
     ]
    },
    {
     "name": "stderr",
     "output_type": "stream",
     "text": [
      " 69%|██████▉   | 4989/7199 [40:20<10:46,  3.42it/s]"
     ]
    },
    {
     "name": "stdout",
     "output_type": "stream",
     "text": [
      "Error en el registro: 48597894, URL: https://a0.muscache.com/pictures/prohost-api/Hosting-48597894/original/9f1c5a32-2af5-4f0b-a247-413ff0972236.jpeg\n"
     ]
    },
    {
     "name": "stderr",
     "output_type": "stream",
     "text": [
      " 69%|██████▉   | 4990/7199 [40:20<11:40,  3.15it/s]"
     ]
    },
    {
     "name": "stdout",
     "output_type": "stream",
     "text": [
      "Error en el registro: 48597943, URL: https://a0.muscache.com/pictures/prohost-api/Hosting-48597943/original/894b0ae3-272d-46c7-836d-c1ffa371739f.jpeg\n"
     ]
    },
    {
     "name": "stderr",
     "output_type": "stream",
     "text": [
      " 69%|██████▉   | 4991/7199 [40:21<11:25,  3.22it/s]"
     ]
    },
    {
     "name": "stdout",
     "output_type": "stream",
     "text": [
      "Error en el registro: 48597948, URL: https://a0.muscache.com/pictures/prohost-api/Hosting-48597948/original/1447b820-5387-49bf-b1ae-f5eba0cced49.jpeg\n"
     ]
    },
    {
     "name": "stderr",
     "output_type": "stream",
     "text": [
      " 69%|██████▉   | 4993/7199 [40:21<09:26,  3.89it/s]"
     ]
    },
    {
     "name": "stdout",
     "output_type": "stream",
     "text": [
      "Error en el registro: 48597957, URL: https://a0.muscache.com/pictures/prohost-api/Hosting-48597957/original/43aa468b-dd06-456f-9e76-6e83810753b0.jpeg\n"
     ]
    },
    {
     "name": "stderr",
     "output_type": "stream",
     "text": [
      " 69%|██████▉   | 4995/7199 [40:21<08:31,  4.31it/s]"
     ]
    },
    {
     "name": "stdout",
     "output_type": "stream",
     "text": [
      "Error en el registro: 48601985, URL: https://a0.muscache.com/pictures/prohost-api/Hosting-48601985/original/622c6996-32be-4f2c-a2a4-478f8a1c6a1b.jpeg\n"
     ]
    },
    {
     "name": "stderr",
     "output_type": "stream",
     "text": [
      " 70%|██████▉   | 5017/7199 [40:28<08:24,  4.32it/s]"
     ]
    },
    {
     "name": "stdout",
     "output_type": "stream",
     "text": [
      "Error en el registro: 48881055, URL: https://a0.muscache.com/pictures/prohost-api/Hosting-48881055/original/f34c9c5f-4f9e-45a8-a30e-d0e054c8a4fa.jpeg\n"
     ]
    },
    {
     "name": "stderr",
     "output_type": "stream",
     "text": [
      " 70%|██████▉   | 5022/7199 [40:30<12:42,  2.85it/s]"
     ]
    },
    {
     "name": "stdout",
     "output_type": "stream",
     "text": [
      "Error en el registro: 48926365, URL: https://a0.muscache.com/pictures/prohost-api/Hosting-48926365/original/a6b00f63-f34c-4149-a419-168c4987fa0a.jpeg\n",
      "Error en el registro: 48926392, URL: https://a0.muscache.com/pictures/prohost-api/Hosting-48926392/original/8654b984-8f04-45ab-ae71-591a3f5f5c2b.jpeg\n"
     ]
    },
    {
     "name": "stderr",
     "output_type": "stream",
     "text": [
      " 70%|██████▉   | 5024/7199 [40:30<09:49,  3.69it/s]"
     ]
    },
    {
     "name": "stdout",
     "output_type": "stream",
     "text": [
      "Error en el registro: 48926432, URL: https://a0.muscache.com/pictures/prohost-api/Hosting-48926432/original/a61e4238-cac8-4486-b0cb-4d5dbf1f79e1.jpeg\n"
     ]
    },
    {
     "name": "stderr",
     "output_type": "stream",
     "text": [
      " 70%|███████   | 5040/7199 [40:34<07:24,  4.85it/s]"
     ]
    },
    {
     "name": "stdout",
     "output_type": "stream",
     "text": [
      "Error en el registro: 49075129, URL: https://a0.muscache.com/pictures/74933c31-f5dc-4200-a2a0-a261e53f3038.jpg\n"
     ]
    },
    {
     "name": "stderr",
     "output_type": "stream",
     "text": [
      " 70%|███████   | 5047/7199 [40:42<1:05:46,  1.83s/it]"
     ]
    },
    {
     "name": "stdout",
     "output_type": "stream",
     "text": [
      "Error en el registro: 49188782, URL: https://a0.muscache.com/pictures/prohost-api/Hosting-49188782/original/99f5948f-8279-420c-bf20-2dec587a0545.jpeg\n"
     ]
    },
    {
     "name": "stderr",
     "output_type": "stream",
     "text": [
      " 70%|███████   | 5048/7199 [40:42<48:33,  1.35s/it]  "
     ]
    },
    {
     "name": "stdout",
     "output_type": "stream",
     "text": [
      "Error en el registro: 49188871, URL: https://a0.muscache.com/pictures/prohost-api/Hosting-49188871/original/72a83436-de2e-4952-a029-47af95fe4509.jpeg\n"
     ]
    },
    {
     "name": "stderr",
     "output_type": "stream",
     "text": [
      " 70%|███████   | 5049/7199 [40:43<36:17,  1.01s/it]"
     ]
    },
    {
     "name": "stdout",
     "output_type": "stream",
     "text": [
      "Error en el registro: 49188886, URL: https://a0.muscache.com/pictures/prohost-api/Hosting-49188886/original/e2be830b-675b-410d-9880-1a6c94df52bf.jpeg\n"
     ]
    },
    {
     "name": "stderr",
     "output_type": "stream",
     "text": [
      " 70%|███████   | 5050/7199 [40:43<27:44,  1.29it/s]"
     ]
    },
    {
     "name": "stdout",
     "output_type": "stream",
     "text": [
      "Error en el registro: 49188948, URL: https://a0.muscache.com/pictures/prohost-api/Hosting-49188948/original/9b76d76e-afdc-42ff-be88-58d40a4b170b.jpeg\n"
     ]
    },
    {
     "name": "stderr",
     "output_type": "stream",
     "text": [
      " 70%|███████   | 5053/7199 [40:43<13:28,  2.66it/s]"
     ]
    },
    {
     "name": "stdout",
     "output_type": "stream",
     "text": [
      "Error en el registro: 49201633, URL: https://a0.muscache.com/pictures/prohost-api/Hosting-49201633/original/1c4c3312-2fe4-449a-bef7-80739db2cd29.jpeg\n"
     ]
    },
    {
     "name": "stderr",
     "output_type": "stream",
     "text": [
      " 70%|███████   | 5056/7199 [40:44<08:22,  4.26it/s]"
     ]
    },
    {
     "name": "stdout",
     "output_type": "stream",
     "text": [
      "Error en el registro: 49341416, URL: https://a0.muscache.com/pictures/prohost-api/Hosting-49341416/original/daf693f1-9f0b-4cc3-8cff-9e743424db9a.jpeg\n"
     ]
    },
    {
     "name": "stderr",
     "output_type": "stream",
     "text": [
      " 70%|███████   | 5060/7199 [40:45<09:32,  3.74it/s]"
     ]
    },
    {
     "name": "stdout",
     "output_type": "stream",
     "text": [
      "Error en el registro: 49459007, URL: https://a0.muscache.com/pictures/prohost-api/Hosting-49459007/original/0558fbae-15ab-4c6b-b91d-266fa8918ce6.jpeg\n"
     ]
    },
    {
     "name": "stderr",
     "output_type": "stream",
     "text": [
      " 70%|███████   | 5072/7199 [40:48<07:50,  4.52it/s]"
     ]
    },
    {
     "name": "stdout",
     "output_type": "stream",
     "text": [
      "Error en el registro: 49610522, URL: https://a0.muscache.com/pictures/prohost-api/Hosting-49610522/original/1bf4855c-6543-48ae-bf14-e26f160dbf01.jpeg\n"
     ]
    },
    {
     "name": "stderr",
     "output_type": "stream",
     "text": [
      " 70%|███████   | 5073/7199 [40:48<08:00,  4.43it/s]"
     ]
    },
    {
     "name": "stdout",
     "output_type": "stream",
     "text": [
      "Error en el registro: 49610778, URL: https://a0.muscache.com/pictures/prohost-api/Hosting-49610778/original/d9163a9b-d195-4bd3-ab08-a40e8351411e.jpeg\n"
     ]
    },
    {
     "name": "stderr",
     "output_type": "stream",
     "text": [
      " 71%|███████   | 5082/7199 [40:51<08:25,  4.18it/s]"
     ]
    },
    {
     "name": "stdout",
     "output_type": "stream",
     "text": [
      "Error en el registro: 49752414, URL: https://a0.muscache.com/pictures/prohost-api/Hosting-49752414/original/f81334c9-8612-4c66-b08b-577430dc07c6.jpeg\n",
      "Error en el registro: 49800523, URL: https://a0.muscache.com/pictures/prohost-api/Hosting-49800523/original/63fe1365-f4ee-4295-8cf2-e16f225955eb.jpeg\n"
     ]
    },
    {
     "name": "stderr",
     "output_type": "stream",
     "text": [
      " 71%|███████   | 5087/7199 [40:52<09:14,  3.81it/s]"
     ]
    },
    {
     "name": "stdout",
     "output_type": "stream",
     "text": [
      "Error en el registro: 49916971, URL: https://a0.muscache.com/pictures/prohost-api/Hosting-49916971/original/f468740d-273a-4f68-ab34-abf7ae2125f1.jpeg\n",
      "Error en el registro: 49916983, URL: https://a0.muscache.com/pictures/prohost-api/Hosting-49916983/original/d990404d-9367-42d8-9fce-f5ee52ec0310.jpeg\n"
     ]
    },
    {
     "name": "stderr",
     "output_type": "stream",
     "text": [
      " 71%|███████   | 5089/7199 [40:52<08:24,  4.18it/s]"
     ]
    },
    {
     "name": "stdout",
     "output_type": "stream",
     "text": [
      "Error en el registro: 49918081, URL: https://a0.muscache.com/pictures/prohost-api/Hosting-49918081/original/d09c0701-338b-4fad-ab86-3843a6aa77e1.jpeg\n"
     ]
    },
    {
     "name": "stderr",
     "output_type": "stream",
     "text": [
      " 71%|███████   | 5097/7199 [40:54<08:04,  4.34it/s]"
     ]
    },
    {
     "name": "stdout",
     "output_type": "stream",
     "text": [
      "Error en el registro: 50017083, URL: https://a0.muscache.com/pictures/prohost-api/Hosting-50017083/original/0220a02b-87a1-4434-9134-67970feb377c.jpeg\n"
     ]
    },
    {
     "name": "stderr",
     "output_type": "stream",
     "text": [
      " 71%|███████   | 5099/7199 [40:55<07:38,  4.58it/s]"
     ]
    },
    {
     "name": "stdout",
     "output_type": "stream",
     "text": [
      "Error en el registro: 50017182, URL: https://a0.muscache.com/pictures/prohost-api/Hosting-50017182/original/945f194f-f893-4935-aa5c-08281a189922.jpeg\n"
     ]
    },
    {
     "name": "stderr",
     "output_type": "stream",
     "text": [
      " 71%|███████   | 5102/7199 [40:55<06:50,  5.11it/s]"
     ]
    },
    {
     "name": "stdout",
     "output_type": "stream",
     "text": [
      "Error en el registro: 50042062, URL: https://a0.muscache.com/pictures/prohost-api/Hosting-50042062/original/5695dab1-486a-49c6-869c-f122a569cb66.jpeg\n"
     ]
    },
    {
     "name": "stderr",
     "output_type": "stream",
     "text": [
      " 71%|███████   | 5105/7199 [40:56<08:49,  3.96it/s]"
     ]
    },
    {
     "name": "stdout",
     "output_type": "stream",
     "text": [
      "Error en el registro: 50079025, URL: https://a0.muscache.com/pictures/prohost-api/Hosting-50079025/original/09e0771a-9089-4b04-98f4-c694881868e0.jpeg\n"
     ]
    },
    {
     "name": "stderr",
     "output_type": "stream",
     "text": [
      " 71%|███████   | 5107/7199 [40:56<06:57,  5.01it/s]"
     ]
    },
    {
     "name": "stdout",
     "output_type": "stream",
     "text": [
      "Error en el registro: 50084542, URL: https://a0.muscache.com/pictures/prohost-api/Hosting-50084542/original/c5e7b728-d2db-4021-8367-c12770be703f.jpeg\n"
     ]
    },
    {
     "name": "stderr",
     "output_type": "stream",
     "text": [
      " 71%|███████   | 5114/7199 [40:59<09:59,  3.48it/s]"
     ]
    },
    {
     "name": "stdout",
     "output_type": "stream",
     "text": [
      "Error en el registro: 50206794, URL: https://a0.muscache.com/pictures/prohost-api/Hosting-50206794/original/cc4830dd-0e33-439b-938c-6f6dad9dec33.jpeg\n"
     ]
    },
    {
     "name": "stderr",
     "output_type": "stream",
     "text": [
      " 71%|███████   | 5123/7199 [41:01<07:02,  4.92it/s]"
     ]
    },
    {
     "name": "stdout",
     "output_type": "stream",
     "text": [
      "Error en el registro: 50386523, URL: https://a0.muscache.com/pictures/prohost-api/Hosting-50386523/original/9445af86-b60f-4298-8a3c-ad67d8e211de.jpeg\n"
     ]
    },
    {
     "name": "stderr",
     "output_type": "stream",
     "text": [
      " 71%|███████   | 5125/7199 [41:01<06:44,  5.13it/s]"
     ]
    },
    {
     "name": "stdout",
     "output_type": "stream",
     "text": [
      "Error en el registro: 50386543, URL: https://a0.muscache.com/pictures/prohost-api/Hosting-50386543/original/1cff2a6d-7883-48a9-ac73-c9919818e888.jpeg\n"
     ]
    },
    {
     "name": "stderr",
     "output_type": "stream",
     "text": [
      " 71%|███████▏  | 5132/7199 [41:03<07:08,  4.82it/s]"
     ]
    },
    {
     "name": "stdout",
     "output_type": "stream",
     "text": [
      "Error en el registro: 50562977, URL: https://a0.muscache.com/pictures/prohost-api/Hosting-50562977/original/af9f1ab1-ee6b-4773-ad8e-1d1a8a854f0b.jpeg\n"
     ]
    },
    {
     "name": "stderr",
     "output_type": "stream",
     "text": [
      " 71%|███████▏  | 5134/7199 [41:03<07:01,  4.90it/s]"
     ]
    },
    {
     "name": "stdout",
     "output_type": "stream",
     "text": [
      "Error en el registro: 50563099, URL: https://a0.muscache.com/pictures/prohost-api/Hosting-50563099/original/6a3bcfe3-357e-49f1-8e5e-61c95e5fe335.jpeg\n",
      "Error en el registro: 50563127, URL: https://a0.muscache.com/pictures/prohost-api/Hosting-50563127/original/07348b62-4fb4-4a0e-a588-ebb46bcf2195.jpeg\n"
     ]
    },
    {
     "name": "stderr",
     "output_type": "stream",
     "text": [
      " 71%|███████▏  | 5137/7199 [41:04<06:03,  5.67it/s]"
     ]
    },
    {
     "name": "stdout",
     "output_type": "stream",
     "text": [
      "Error en el registro: 50608389, URL: https://a0.muscache.com/pictures/prohost-api/Hosting-50608389/original/ccda248e-99a6-4960-9344-085550adf82c.jpeg\n",
      "Error en el registro: 50608396, URL: https://a0.muscache.com/pictures/prohost-api/Hosting-50608396/original/9d78b34a-cbb6-449a-b4d8-240dcb9d05b0.jpeg\n"
     ]
    },
    {
     "name": "stderr",
     "output_type": "stream",
     "text": [
      " 72%|███████▏  | 5167/7199 [41:13<10:45,  3.15it/s]"
     ]
    },
    {
     "name": "stdout",
     "output_type": "stream",
     "text": [
      "Error en el registro: 51274775, URL: https://a0.muscache.com/pictures/prohost-api/Hosting-51274775/original/599d0e88-2319-4fd1-a2c8-f57589e00ce8.jpeg\n"
     ]
    },
    {
     "name": "stderr",
     "output_type": "stream",
     "text": [
      " 72%|███████▏  | 5168/7199 [41:13<10:12,  3.32it/s]"
     ]
    },
    {
     "name": "stdout",
     "output_type": "stream",
     "text": [
      "Error en el registro: 51274818, URL: https://a0.muscache.com/pictures/prohost-api/Hosting-51274818/original/b362c342-f952-4104-ae93-178c82eec2b0.jpeg\n"
     ]
    },
    {
     "name": "stderr",
     "output_type": "stream",
     "text": [
      " 72%|███████▏  | 5171/7199 [41:14<07:36,  4.45it/s]"
     ]
    },
    {
     "name": "stdout",
     "output_type": "stream",
     "text": [
      "Error en el registro: 51300156, URL: https://a0.muscache.com/pictures/prohost-api/Hosting-51300156/original/5c19dc35-5cc9-46c2-a33c-0b468a5f204f.jpeg\n"
     ]
    },
    {
     "name": "stderr",
     "output_type": "stream",
     "text": [
      " 72%|███████▏  | 5181/7199 [41:16<07:51,  4.28it/s]"
     ]
    },
    {
     "name": "stdout",
     "output_type": "stream",
     "text": [
      "Error en el registro: 51402086, URL: https://a0.muscache.com/pictures/miso/Hosting-51402086/original/8a9e0597-ef2f-4450-b29b-a60871ca0aa3.jpeg\n"
     ]
    },
    {
     "name": "stderr",
     "output_type": "stream",
     "text": [
      " 72%|███████▏  | 5190/7199 [41:19<11:46,  2.84it/s]"
     ]
    },
    {
     "name": "stdout",
     "output_type": "stream",
     "text": [
      "Error en el registro: 51572681, URL: https://a0.muscache.com/pictures/prohost-api/Hosting-51572681/original/f07bf279-db7c-4160-8d84-88fe466096b9.jpeg\n"
     ]
    },
    {
     "name": "stderr",
     "output_type": "stream",
     "text": [
      " 72%|███████▏  | 5192/7199 [41:20<09:11,  3.64it/s]"
     ]
    },
    {
     "name": "stdout",
     "output_type": "stream",
     "text": [
      "Error en el registro: 51572775, URL: https://a0.muscache.com/pictures/prohost-api/Hosting-51572775/original/eeb5b893-08c2-4f88-8153-308efa95c258.jpeg\n",
      "Error en el registro: 51572785, URL: https://a0.muscache.com/pictures/prohost-api/Hosting-51572785/original/15ccce9c-36b1-47d4-bb41-7bd1445943d5.jpeg\n"
     ]
    },
    {
     "name": "stderr",
     "output_type": "stream",
     "text": [
      " 72%|███████▏  | 5194/7199 [41:20<07:40,  4.36it/s]"
     ]
    },
    {
     "name": "stdout",
     "output_type": "stream",
     "text": [
      "Error en el registro: 51572791, URL: https://a0.muscache.com/pictures/prohost-api/Hosting-51572791/original/69db5550-a4db-4ce5-96b6-f9350277a516.jpeg\n",
      "Error en el registro: 51573185, URL: https://a0.muscache.com/pictures/prohost-api/Hosting-51573185/original/1f184ccb-4077-4f7f-b74c-76a49a60860d.jpeg\n"
     ]
    },
    {
     "name": "stderr",
     "output_type": "stream",
     "text": [
      " 72%|███████▏  | 5197/7199 [41:20<06:36,  5.06it/s]"
     ]
    },
    {
     "name": "stdout",
     "output_type": "stream",
     "text": [
      "Error en el registro: 51626666, URL: https://a0.muscache.com/pictures/miso/Hosting-51626666/original/0a3d7139-082e-4c22-a21c-519cefbdd9f2.jpeg\n"
     ]
    },
    {
     "name": "stderr",
     "output_type": "stream",
     "text": [
      " 72%|███████▏  | 5199/7199 [41:21<06:31,  5.11it/s]"
     ]
    },
    {
     "name": "stdout",
     "output_type": "stream",
     "text": [
      "Error en el registro: 51639653, URL: https://a0.muscache.com/pictures/miso/Hosting-51639653/original/7b511a90-694e-44d5-a188-9566a3ceb375.jpeg\n"
     ]
    },
    {
     "name": "stderr",
     "output_type": "stream",
     "text": [
      " 72%|███████▏  | 5205/7199 [41:24<13:28,  2.47it/s]"
     ]
    },
    {
     "name": "stdout",
     "output_type": "stream",
     "text": [
      "Error en el registro: 51711675, URL: https://a0.muscache.com/pictures/miso/Hosting-51711675/original/2d3a66cc-81df-43ca-a855-275991c8fa05.jpeg\n",
      "Error en el registro: 51721946, URL: https://a0.muscache.com/pictures/prohost-api/Hosting-51721946/original/94235a1f-8224-4aca-abaa-ae80e5976ae1.jpeg\n"
     ]
    },
    {
     "name": "stderr",
     "output_type": "stream",
     "text": [
      " 72%|███████▏  | 5207/7199 [41:24<09:22,  3.54it/s]"
     ]
    },
    {
     "name": "stdout",
     "output_type": "stream",
     "text": [
      "Error en el registro: 51722040, URL: https://a0.muscache.com/pictures/prohost-api/Hosting-51722040/original/50fdf6b2-723f-4073-b395-41dc78e17cef.jpeg\n"
     ]
    },
    {
     "name": "stderr",
     "output_type": "stream",
     "text": [
      " 72%|███████▏  | 5214/7199 [41:26<06:36,  5.01it/s]"
     ]
    },
    {
     "name": "stdout",
     "output_type": "stream",
     "text": [
      "Error en el registro: 51810948, URL: https://a0.muscache.com/pictures/prohost-api/Hosting-51810948/original/75535867-2424-4b40-b65f-4f77111bd3c1.jpeg\n",
      "Error en el registro: 51812329, URL: https://a0.muscache.com/pictures/prohost-api/Hosting-51812329/original/483ba6af-a53f-489f-aab1-2a665512ec03.jpeg\n"
     ]
    },
    {
     "name": "stderr",
     "output_type": "stream",
     "text": [
      " 72%|███████▏  | 5219/7199 [41:27<05:18,  6.22it/s]"
     ]
    },
    {
     "name": "stdout",
     "output_type": "stream",
     "text": [
      "Error en el registro: 51838132, URL: https://a0.muscache.com/pictures/prohost-api/Hosting-51838132/original/ed885fd6-cf96-406a-8ec9-ba48e511ec91.jpeg\n"
     ]
    },
    {
     "name": "stderr",
     "output_type": "stream",
     "text": [
      " 73%|███████▎  | 5222/7199 [41:27<06:14,  5.28it/s]"
     ]
    },
    {
     "name": "stdout",
     "output_type": "stream",
     "text": [
      "Error en el registro: 51872976, URL: https://a0.muscache.com/pictures/prohost-api/Hosting-51872976/original/f4d017b0-bed3-4eca-a4b4-f5bb74938378.jpeg\n"
     ]
    },
    {
     "name": "stderr",
     "output_type": "stream",
     "text": [
      " 73%|███████▎  | 5225/7199 [41:29<13:00,  2.53it/s]"
     ]
    },
    {
     "name": "stdout",
     "output_type": "stream",
     "text": [
      "Error en el registro: 52046024, URL: https://a0.muscache.com/pictures/prohost-api/Hosting-52046024/original/bd9db217-1a37-473c-9d04-c22554b514fe.jpeg\n"
     ]
    },
    {
     "name": "stderr",
     "output_type": "stream",
     "text": [
      " 73%|███████▎  | 5234/7199 [41:33<16:59,  1.93it/s]"
     ]
    },
    {
     "name": "stdout",
     "output_type": "stream",
     "text": [
      "Error en el registro: 52124041, URL: https://a0.muscache.com/pictures/prohost-api/Hosting-52124041/original/6807a140-6ca6-463a-8329-94c9c0d44551.jpeg\n"
     ]
    },
    {
     "name": "stderr",
     "output_type": "stream",
     "text": [
      " 73%|███████▎  | 5238/7199 [41:34<09:53,  3.30it/s]"
     ]
    },
    {
     "name": "stdout",
     "output_type": "stream",
     "text": [
      "Error en el registro: 52249525, URL: https://a0.muscache.com/pictures/prohost-api/Hosting-52249525/original/3a448371-fca1-436c-9cc9-f81c833761c7.jpeg\n"
     ]
    },
    {
     "name": "stderr",
     "output_type": "stream",
     "text": [
      " 73%|███████▎  | 5240/7199 [41:35<10:02,  3.25it/s]"
     ]
    },
    {
     "name": "stdout",
     "output_type": "stream",
     "text": [
      "Error en el registro: 52312207, URL: https://a0.muscache.com/pictures/prohost-api/Hosting-52312207/original/d0d8cfa3-d106-4980-9715-3569462eb2ab.jpeg\n"
     ]
    },
    {
     "name": "stderr",
     "output_type": "stream",
     "text": [
      " 73%|███████▎  | 5241/7199 [41:35<10:38,  3.07it/s]"
     ]
    },
    {
     "name": "stdout",
     "output_type": "stream",
     "text": [
      "Error en el registro: 52358493, URL: https://a0.muscache.com/pictures/prohost-api/Hosting-52358493/original/7bce9df4-aacf-497e-af49-13106d0e6432.jpeg\n"
     ]
    },
    {
     "name": "stderr",
     "output_type": "stream",
     "text": [
      " 73%|███████▎  | 5242/7199 [41:36<10:02,  3.25it/s]"
     ]
    },
    {
     "name": "stdout",
     "output_type": "stream",
     "text": [
      "Error en el registro: 52358553, URL: https://a0.muscache.com/pictures/prohost-api/Hosting-52358553/original/f9592681-544c-419b-8dbf-305c284f5d18.jpeg\n"
     ]
    },
    {
     "name": "stderr",
     "output_type": "stream",
     "text": [
      " 73%|███████▎  | 5244/7199 [41:36<08:07,  4.01it/s]"
     ]
    },
    {
     "name": "stdout",
     "output_type": "stream",
     "text": [
      "Error en el registro: 52360274, URL: https://a0.muscache.com/pictures/prohost-api/Hosting-52360274/original/511853f7-19d1-462b-998b-e25771b2b21c.jpeg\n"
     ]
    },
    {
     "name": "stderr",
     "output_type": "stream",
     "text": [
      " 73%|███████▎  | 5247/7199 [41:37<08:25,  3.86it/s]"
     ]
    },
    {
     "name": "stdout",
     "output_type": "stream",
     "text": [
      "Error en el registro: 52376819, URL: https://a0.muscache.com/pictures/prohost-api/Hosting-52376819/original/880d41b6-c749-44d7-a169-87ccd55b50eb.jpeg\n"
     ]
    },
    {
     "name": "stderr",
     "output_type": "stream",
     "text": [
      " 73%|███████▎  | 5265/7199 [41:44<10:23,  3.10it/s]"
     ]
    },
    {
     "name": "stdout",
     "output_type": "stream",
     "text": [
      "Error en el registro: 52630071, URL: https://a0.muscache.com/pictures/prohost-api/Hosting-52630071/original/18d18a46-3286-4197-be11-60ac7b5baba4.jpeg\n"
     ]
    },
    {
     "name": "stderr",
     "output_type": "stream",
     "text": [
      " 73%|███████▎  | 5269/7199 [41:46<11:01,  2.92it/s]"
     ]
    },
    {
     "name": "stdout",
     "output_type": "stream",
     "text": [
      "Error en el registro: 52637370, URL: https://a0.muscache.com/pictures/miso/Hosting-52637370/original/c527cd51-bb86-46de-b9a8-580359028a55.jpeg\n"
     ]
    },
    {
     "name": "stderr",
     "output_type": "stream",
     "text": [
      " 73%|███████▎  | 5273/7199 [41:47<09:13,  3.48it/s]"
     ]
    },
    {
     "name": "stdout",
     "output_type": "stream",
     "text": [
      "Error en el registro: 52680602, URL: https://a0.muscache.com/pictures/prohost-api/Hosting-52680602/original/1d79caaf-8a57-48b2-8d3e-dabbd5b1d75d.jpeg\n"
     ]
    },
    {
     "name": "stderr",
     "output_type": "stream",
     "text": [
      " 73%|███████▎  | 5275/7199 [41:47<07:17,  4.39it/s]"
     ]
    },
    {
     "name": "stdout",
     "output_type": "stream",
     "text": [
      "Error en el registro: 52680751, URL: https://a0.muscache.com/pictures/prohost-api/Hosting-52680751/original/6348b0ed-c12a-4c0f-bdbe-fa44b8f9897d.jpeg\n"
     ]
    },
    {
     "name": "stderr",
     "output_type": "stream",
     "text": [
      " 73%|███████▎  | 5277/7199 [41:48<06:42,  4.77it/s]"
     ]
    },
    {
     "name": "stdout",
     "output_type": "stream",
     "text": [
      "Error en el registro: 52681618, URL: https://a0.muscache.com/pictures/prohost-api/Hosting-52681618/original/321ebf00-4c2c-4471-8a59-6c11e001d6a9.jpeg\n",
      "Error en el registro: 52682307, URL: https://a0.muscache.com/pictures/prohost-api/Hosting-52682307/original/da6a3fe1-6dd1-4e9e-9e3f-2a1a0ee88b12.jpeg\n"
     ]
    },
    {
     "name": "stderr",
     "output_type": "stream",
     "text": [
      " 73%|███████▎  | 5280/7199 [41:48<06:53,  4.65it/s]"
     ]
    },
    {
     "name": "stdout",
     "output_type": "stream",
     "text": [
      "Error en el registro: 52747167, URL: https://a0.muscache.com/pictures/prohost-api/Hosting-52747167/original/981d3c46-4544-4edf-80c3-01e17abb0942.jpeg\n"
     ]
    },
    {
     "name": "stderr",
     "output_type": "stream",
     "text": [
      " 73%|███████▎  | 5287/7199 [41:51<10:27,  3.05it/s]"
     ]
    },
    {
     "name": "stdout",
     "output_type": "stream",
     "text": [
      "Error en el registro: 52891675, URL: https://a0.muscache.com/pictures/prohost-api/Hosting-52891675/original/d3f6e9e8-421f-4589-b06e-f6be60c8fc10.jpeg\n"
     ]
    },
    {
     "name": "stderr",
     "output_type": "stream",
     "text": [
      " 73%|███████▎  | 5288/7199 [41:51<09:52,  3.22it/s]"
     ]
    },
    {
     "name": "stdout",
     "output_type": "stream",
     "text": [
      "Error en el registro: 52891687, URL: https://a0.muscache.com/pictures/prohost-api/Hosting-52891687/original/48fee597-262d-410c-b972-58665f70f713.jpeg\n"
     ]
    },
    {
     "name": "stderr",
     "output_type": "stream",
     "text": [
      " 74%|███████▎  | 5293/7199 [41:53<08:05,  3.93it/s]"
     ]
    },
    {
     "name": "stdout",
     "output_type": "stream",
     "text": [
      "Error en el registro: 52922842, URL: https://a0.muscache.com/pictures/prohost-api/Hosting-52922842/original/8d76fa38-ee2d-4b41-a9f1-16d45c88fb98.jpeg\n",
      "Error en el registro: 52928607, URL: https://a0.muscache.com/pictures/prohost-api/Hosting-52928607/original/8a9071c4-1c9e-4d78-8ebc-cee19cb71212.jpeg\n"
     ]
    },
    {
     "name": "stderr",
     "output_type": "stream",
     "text": [
      " 74%|███████▎  | 5296/7199 [41:53<06:33,  4.84it/s]"
     ]
    },
    {
     "name": "stdout",
     "output_type": "stream",
     "text": [
      "Error en el registro: 53026499, URL: https://a0.muscache.com/pictures/prohost-api/Hosting-53026499/original/fe966eed-eb34-46eb-925c-56eac2b6583d.jpeg\n"
     ]
    },
    {
     "name": "stderr",
     "output_type": "stream",
     "text": [
      " 74%|███████▎  | 5298/7199 [41:54<07:19,  4.32it/s]"
     ]
    },
    {
     "name": "stdout",
     "output_type": "stream",
     "text": [
      "Error en el registro: 53026691, URL: https://a0.muscache.com/pictures/prohost-api/Hosting-53026691/original/3a060fb9-690a-4753-b88d-dd813b359c65.jpeg\n",
      "Error en el registro: 53026920, URL: https://a0.muscache.com/pictures/prohost-api/Hosting-53026920/original/2da62353-bc6b-470e-8a9a-66e90a75acaf.jpeg\n"
     ]
    },
    {
     "name": "stderr",
     "output_type": "stream",
     "text": [
      " 74%|███████▎  | 5300/7199 [41:54<06:20,  4.99it/s]"
     ]
    },
    {
     "name": "stdout",
     "output_type": "stream",
     "text": [
      "Error en el registro: 53027109, URL: https://a0.muscache.com/pictures/prohost-api/Hosting-53027109/original/d5272567-0970-4654-9850-67dcf4ceb4e7.jpeg\n",
      "Error en el registro: 53027280, URL: https://a0.muscache.com/pictures/prohost-api/Hosting-53027280/original/978d5cf7-184a-4cc3-8825-c8ad4808f916.jpeg\n"
     ]
    },
    {
     "name": "stderr",
     "output_type": "stream",
     "text": [
      " 74%|███████▎  | 5302/7199 [41:54<05:57,  5.30it/s]"
     ]
    },
    {
     "name": "stdout",
     "output_type": "stream",
     "text": [
      "Error en el registro: 53027387, URL: https://a0.muscache.com/pictures/prohost-api/Hosting-53027387/original/175d1bfa-b960-4dc0-897c-da50c7e87af8.jpeg\n",
      "Error en el registro: 53030044, URL: https://a0.muscache.com/pictures/prohost-api/Hosting-53030044/original/bc548525-e3d7-4ec3-9d25-2a856b21d70c.jpeg\n"
     ]
    },
    {
     "name": "stderr",
     "output_type": "stream",
     "text": [
      " 74%|███████▎  | 5304/7199 [41:55<05:44,  5.50it/s]"
     ]
    },
    {
     "name": "stdout",
     "output_type": "stream",
     "text": [
      "Error en el registro: 53056956, URL: https://a0.muscache.com/pictures/prohost-api/Hosting-53056956/original/cac4b366-899a-4716-82ce-7d7f5f44a48e.jpeg\n"
     ]
    },
    {
     "name": "stderr",
     "output_type": "stream",
     "text": [
      " 74%|███████▎  | 5308/7199 [41:56<05:58,  5.27it/s]"
     ]
    },
    {
     "name": "stdout",
     "output_type": "stream",
     "text": [
      "Error en el registro: 53105012, URL: https://a0.muscache.com/pictures/prohost-api/Hosting-53105012/original/d00bed5c-ee7b-472d-a1e2-f799ce22f565.jpeg\n"
     ]
    },
    {
     "name": "stderr",
     "output_type": "stream",
     "text": [
      " 74%|███████▍  | 5318/7199 [41:59<07:28,  4.19it/s]"
     ]
    },
    {
     "name": "stdout",
     "output_type": "stream",
     "text": [
      "Error en el registro: 53179806, URL: https://a0.muscache.com/pictures/prohost-api/Hosting-53179806/original/29613086-755a-4778-9467-67d8cb915c89.jpeg\n"
     ]
    },
    {
     "name": "stderr",
     "output_type": "stream",
     "text": [
      " 74%|███████▍  | 5319/7199 [41:59<06:45,  4.64it/s]"
     ]
    },
    {
     "name": "stdout",
     "output_type": "stream",
     "text": [
      "Error en el registro: 53185790, URL: https://a0.muscache.com/pictures/9fb3b90f-d3e3-447f-96d6-a73d1cc6503b.jpg\n"
     ]
    },
    {
     "name": "stderr",
     "output_type": "stream",
     "text": [
      " 74%|███████▍  | 5331/7199 [42:02<10:00,  3.11it/s]"
     ]
    },
    {
     "name": "stdout",
     "output_type": "stream",
     "text": [
      "Error en el registro: 53307896, URL: https://a0.muscache.com/pictures/prohost-api/Hosting-53307896/original/bdfcb0d8-ae48-425d-84de-f68417c99b15.jpeg\n"
     ]
    },
    {
     "name": "stderr",
     "output_type": "stream",
     "text": [
      " 74%|███████▍  | 5333/7199 [42:03<08:02,  3.87it/s]"
     ]
    },
    {
     "name": "stdout",
     "output_type": "stream",
     "text": [
      "Error en el registro: 53307955, URL: https://a0.muscache.com/pictures/prohost-api/Hosting-53307955/original/3d10cd62-2f28-4aa2-81aa-f9d19696a03d.jpeg\n",
      "Error en el registro: 53321922, URL: https://a0.muscache.com/pictures/cc9e1538-7ac2-47c5-8322-32db49b813d4.jpg\n"
     ]
    },
    {
     "name": "stderr",
     "output_type": "stream",
     "text": [
      " 74%|███████▍  | 5338/7199 [42:04<06:35,  4.71it/s]"
     ]
    },
    {
     "name": "stdout",
     "output_type": "stream",
     "text": [
      "Error en el registro: 53378837, URL: https://a0.muscache.com/pictures/9b24444b-a3f2-4be7-a13c-07df8d94a5f4.jpg\n"
     ]
    },
    {
     "name": "stderr",
     "output_type": "stream",
     "text": [
      " 74%|███████▍  | 5340/7199 [42:05<10:24,  2.98it/s]"
     ]
    },
    {
     "name": "stdout",
     "output_type": "stream",
     "text": [
      "Error en el registro: 53428804, URL: https://a0.muscache.com/pictures/prohost-api/Hosting-53428804/original/be2eaed8-9b31-480d-98f8-101ab09463ab.jpeg\n"
     ]
    },
    {
     "name": "stderr",
     "output_type": "stream",
     "text": [
      " 74%|███████▍  | 5342/7199 [42:05<09:00,  3.44it/s]"
     ]
    },
    {
     "name": "stdout",
     "output_type": "stream",
     "text": [
      "Error en el registro: 53462366, URL: https://a0.muscache.com/pictures/prohost-api/Hosting-53462366/original/a68d8ef5-de1b-4d65-ab7e-d75ab3e67424.png\n"
     ]
    },
    {
     "name": "stderr",
     "output_type": "stream",
     "text": [
      " 74%|███████▍  | 5343/7199 [42:06<07:47,  3.97it/s]"
     ]
    },
    {
     "name": "stdout",
     "output_type": "stream",
     "text": [
      "Error en el registro: 53471426, URL: https://a0.muscache.com/pictures/prohost-api/Hosting-53471426/original/8750208e-5400-4932-884d-2eb7dfa8f9c6.jpeg\n"
     ]
    },
    {
     "name": "stderr",
     "output_type": "stream",
     "text": [
      " 74%|███████▍  | 5350/7199 [42:08<08:30,  3.62it/s]"
     ]
    },
    {
     "name": "stdout",
     "output_type": "stream",
     "text": [
      "Error en el registro: 53541620, URL: https://a0.muscache.com/pictures/prohost-api/Hosting-53541620/original/c6b2db9a-1876-4696-a6cf-c7834a870d8c.jpeg\n"
     ]
    },
    {
     "name": "stderr",
     "output_type": "stream",
     "text": [
      " 74%|███████▍  | 5358/7199 [42:10<06:51,  4.47it/s]"
     ]
    },
    {
     "name": "stdout",
     "output_type": "stream",
     "text": [
      "Error en el registro: 53631121, URL: https://a0.muscache.com/pictures/miso/Hosting-53631121/original/4fe32bfc-0048-442e-8823-3bf637738101.jpeg\n",
      "Error en el registro: 53631431, URL: https://a0.muscache.com/pictures/miso/Hosting-53631431/original/a72b033f-5b23-42fd-9e39-ead73c0642e4.jpeg\n"
     ]
    },
    {
     "name": "stderr",
     "output_type": "stream",
     "text": [
      " 74%|███████▍  | 5360/7199 [42:10<05:49,  5.27it/s]"
     ]
    },
    {
     "name": "stdout",
     "output_type": "stream",
     "text": [
      "Error en el registro: 53631585, URL: https://a0.muscache.com/pictures/miso/Hosting-53631585/original/2638283e-f499-4ae1-8d95-07951e1e693a.jpeg\n"
     ]
    },
    {
     "name": "stderr",
     "output_type": "stream",
     "text": [
      " 74%|███████▍  | 5362/7199 [42:11<09:07,  3.35it/s]"
     ]
    },
    {
     "name": "stdout",
     "output_type": "stream",
     "text": [
      "Error en el registro: 53699018, URL: https://a0.muscache.com/pictures/prohost-api/Hosting-53699018/original/076e7f99-177e-493c-ae50-a794a4982e11.jpeg\n"
     ]
    },
    {
     "name": "stderr",
     "output_type": "stream",
     "text": [
      " 75%|███████▍  | 5365/7199 [42:12<07:27,  4.10it/s]"
     ]
    },
    {
     "name": "stdout",
     "output_type": "stream",
     "text": [
      "Error en el registro: 53733454, URL: https://a0.muscache.com/pictures/prohost-api/Hosting-53733454/original/53c3e939-e6e9-4de7-914d-beeda824a1fb.jpeg\n",
      "Error en el registro: 53733834, URL: https://a0.muscache.com/pictures/prohost-api/Hosting-53733834/original/9d1d0196-1355-4f35-83b7-199ff53c0ad5.jpeg\n"
     ]
    },
    {
     "name": "stderr",
     "output_type": "stream",
     "text": [
      " 75%|███████▍  | 5377/7199 [42:14<05:14,  5.79it/s]"
     ]
    },
    {
     "name": "stdout",
     "output_type": "stream",
     "text": [
      "Error en el registro: 53873611, URL: https://a0.muscache.com/pictures/prohost-api/Hosting-53873611/original/998d36d4-f555-4788-9462-2192ace76dd0.jpeg\n"
     ]
    },
    {
     "name": "stderr",
     "output_type": "stream",
     "text": [
      " 75%|███████▍  | 5382/7199 [42:15<06:33,  4.62it/s]"
     ]
    },
    {
     "name": "stdout",
     "output_type": "stream",
     "text": [
      "Error en el registro: 53914758, URL: https://a0.muscache.com/pictures/prohost-api/Hosting-53914758/original/af469d69-e8a1-4057-965f-a4d116169619.jpeg\n",
      "Error en el registro: 53932819, URL: https://a0.muscache.com/pictures/prohost-api/Hosting-53932819/original/a7cca99b-89c4-4878-93a4-1f5c99a3d05e.jpeg\n"
     ]
    },
    {
     "name": "stderr",
     "output_type": "stream",
     "text": [
      " 75%|███████▍  | 5383/7199 [42:15<06:17,  4.82it/s]"
     ]
    },
    {
     "name": "stdout",
     "output_type": "stream",
     "text": [
      "Error en el registro: 53964554, URL: https://a0.muscache.com/pictures/prohost-api/Hosting-53964554/original/751cf211-2da2-4cc2-9716-1527e6da595f.jpeg\n"
     ]
    },
    {
     "name": "stderr",
     "output_type": "stream",
     "text": [
      " 75%|███████▍  | 5386/7199 [42:16<06:14,  4.85it/s]"
     ]
    },
    {
     "name": "stdout",
     "output_type": "stream",
     "text": [
      "Error en el registro: 53992722, URL: https://a0.muscache.com/pictures/miso/Hosting-53992722/original/91988b70-62b7-4c95-8c83-6c144d6a6d48.jpeg\n"
     ]
    },
    {
     "name": "stderr",
     "output_type": "stream",
     "text": [
      " 75%|███████▍  | 5388/7199 [42:16<05:03,  5.97it/s]"
     ]
    },
    {
     "name": "stdout",
     "output_type": "stream",
     "text": [
      "Error en el registro: 54047272, URL: https://a0.muscache.com/pictures/prohost-api/Hosting-54047272/original/f4eb3cfa-21c1-4a69-ab4e-4d2d4d592621.jpeg\n"
     ]
    },
    {
     "name": "stderr",
     "output_type": "stream",
     "text": [
      " 75%|███████▍  | 5391/7199 [42:17<07:07,  4.23it/s]"
     ]
    },
    {
     "name": "stdout",
     "output_type": "stream",
     "text": [
      "Error en el registro: 54159081, URL: https://a0.muscache.com/pictures/prohost-api/Hosting-54159081/original/921d1884-5d26-422d-b5ad-175589408d8d.jpeg\n",
      "Error en el registro: 54159310, URL: https://a0.muscache.com/pictures/prohost-api/Hosting-54159310/original/779d8c2e-401f-4316-9921-215e22c36edc.jpeg\n"
     ]
    },
    {
     "name": "stderr",
     "output_type": "stream",
     "text": [
      " 75%|███████▌  | 5406/7199 [42:20<05:52,  5.09it/s]"
     ]
    },
    {
     "name": "stdout",
     "output_type": "stream",
     "text": [
      "Error en el registro: 54384571, URL: https://a0.muscache.com/pictures/miso/Hosting-54384571/original/a14887f0-6ec8-4aeb-b095-cdbbf814df8c.jpeg\n"
     ]
    },
    {
     "name": "stderr",
     "output_type": "stream",
     "text": [
      " 75%|███████▌  | 5407/7199 [42:21<05:40,  5.27it/s]"
     ]
    },
    {
     "name": "stdout",
     "output_type": "stream",
     "text": [
      "Error en el registro: 54399424, URL: https://a0.muscache.com/pictures/prohost-api/Hosting-54399424/original/417a2fd3-e7c4-441a-af3a-644c12a813cb.jpeg\n"
     ]
    },
    {
     "name": "stderr",
     "output_type": "stream",
     "text": [
      " 75%|███████▌  | 5414/7199 [42:22<06:14,  4.77it/s]"
     ]
    },
    {
     "name": "stdout",
     "output_type": "stream",
     "text": [
      "Error en el registro: 542466980559114057, URL: https://a0.muscache.com/pictures/prohost-api/Hosting-542466980559114057/original/f63c7a91-1d1b-4785-80dc-73df231518d9.jpeg\n"
     ]
    },
    {
     "name": "stderr",
     "output_type": "stream",
     "text": [
      " 75%|███████▌  | 5416/7199 [42:22<05:23,  5.51it/s]"
     ]
    },
    {
     "name": "stdout",
     "output_type": "stream",
     "text": [
      "Error en el registro: 543436362799833668, URL: https://a0.muscache.com/pictures/prohost-api/Hosting-543436362799833668/original/73dc4fed-1ceb-4076-97a7-a38fa0b5b98f.jpeg\n",
      "Error en el registro: 544684082770820787, URL: https://a0.muscache.com/pictures/prohost-api/Hosting-544684082770820787/original/ade61381-22d6-49d3-b706-e142ba879680.jpeg\n"
     ]
    },
    {
     "name": "stderr",
     "output_type": "stream",
     "text": [
      " 75%|███████▌  | 5418/7199 [42:23<04:47,  6.20it/s]"
     ]
    },
    {
     "name": "stdout",
     "output_type": "stream",
     "text": [
      "Error en el registro: 544686606795535057, URL: https://a0.muscache.com/pictures/prohost-api/Hosting-544686606795535057/original/3a436f2a-4093-4dee-8b13-a6ed9ea64e1a.jpeg\n"
     ]
    },
    {
     "name": "stderr",
     "output_type": "stream",
     "text": [
      " 75%|███████▌  | 5423/7199 [42:24<07:32,  3.93it/s]"
     ]
    },
    {
     "name": "stdout",
     "output_type": "stream",
     "text": [
      "Error en el registro: 548393136882554658, URL: https://a0.muscache.com/pictures/miso/Hosting-548393136882554658/original/92f40793-ed9a-4a7e-906b-8c6a7f34664e.jpeg\n"
     ]
    },
    {
     "name": "stderr",
     "output_type": "stream",
     "text": [
      " 75%|███████▌  | 5425/7199 [42:25<06:46,  4.36it/s]"
     ]
    },
    {
     "name": "stdout",
     "output_type": "stream",
     "text": [
      "Error en el registro: 548409183091048221, URL: https://a0.muscache.com/pictures/miso/Hosting-548409183091048221/original/d01945ae-728a-4781-9a3d-37b94327d2ab.jpeg\n",
      "Error en el registro: 548424627632198069, URL: https://a0.muscache.com/pictures/miso/Hosting-548424627632198069/original/06686dc0-470f-4a33-a0c2-f61ca9e80c91.jpeg\n"
     ]
    },
    {
     "name": "stderr",
     "output_type": "stream",
     "text": [
      " 75%|███████▌  | 5427/7199 [42:25<05:53,  5.01it/s]"
     ]
    },
    {
     "name": "stdout",
     "output_type": "stream",
     "text": [
      "Error en el registro: 548433540428028477, URL: https://a0.muscache.com/pictures/miso/Hosting-548433540428028477/original/6a34ad68-7a45-47e4-9144-2da30363a5f5.jpeg\n",
      "Error en el registro: 549048342007595380, URL: https://a0.muscache.com/pictures/prohost-api/Hosting-549048342007595380/original/236ff7f9-c853-47ad-93ba-4fc9b2c4994b.jpeg\n"
     ]
    },
    {
     "name": "stderr",
     "output_type": "stream",
     "text": [
      " 75%|███████▌  | 5428/7199 [42:25<06:22,  4.63it/s]"
     ]
    },
    {
     "name": "stdout",
     "output_type": "stream",
     "text": [
      "Error en el registro: 549055903062655337, URL: https://a0.muscache.com/pictures/prohost-api/Hosting-549055903062655337/original/0f70b22e-4a22-4e2a-a7b7-e7d478866f40.jpeg\n"
     ]
    },
    {
     "name": "stderr",
     "output_type": "stream",
     "text": [
      " 75%|███████▌  | 5429/7199 [42:26<08:05,  3.64it/s]"
     ]
    },
    {
     "name": "stdout",
     "output_type": "stream",
     "text": [
      "Error en el registro: 549058407111290129, URL: https://a0.muscache.com/pictures/prohost-api/Hosting-549058407111290129/original/5179f9aa-f925-41b9-8397-4b35ae9c6ca3.jpeg\n"
     ]
    },
    {
     "name": "stderr",
     "output_type": "stream",
     "text": [
      " 75%|███████▌  | 5435/7199 [42:27<06:26,  4.57it/s]"
     ]
    },
    {
     "name": "stdout",
     "output_type": "stream",
     "text": [
      "Error en el registro: 553449835647049763, URL: https://a0.muscache.com/pictures/prohost-api/Hosting-553449835647049763/original/be8b6826-9ebe-4a1e-8414-3258e830ce73.jpeg\n",
      "Error en el registro: 553450125818531583, URL: https://a0.muscache.com/pictures/prohost-api/Hosting-553450125818531583/original/4b84b104-856c-4180-9344-1df6afc63ee6.jpeg\n"
     ]
    },
    {
     "name": "stderr",
     "output_type": "stream",
     "text": [
      " 76%|███████▌  | 5448/7199 [42:31<07:34,  3.85it/s]"
     ]
    },
    {
     "name": "stdout",
     "output_type": "stream",
     "text": [
      "Error en el registro: 557094168867486125, URL: https://a0.muscache.com/pictures/prohost-api/Hosting-557094168867486125/original/b3d82f92-608f-4da1-b06b-dc6949852f8f.jpeg\n"
     ]
    },
    {
     "name": "stderr",
     "output_type": "stream",
     "text": [
      " 76%|███████▌  | 5450/7199 [42:31<06:17,  4.63it/s]"
     ]
    },
    {
     "name": "stdout",
     "output_type": "stream",
     "text": [
      "Error en el registro: 557094454595424536, URL: https://a0.muscache.com/pictures/prohost-api/Hosting-557094454595424536/original/295861bf-5054-4abd-b752-ad6949ac387b.jpeg\n",
      "Error en el registro: 557861915611213552, URL: https://a0.muscache.com/pictures/prohost-api/Hosting-557861915611213552/original/49369359-68c9-42fd-8ee8-c69b2920c2d1.jpeg\n"
     ]
    },
    {
     "name": "stderr",
     "output_type": "stream",
     "text": [
      " 76%|███████▌  | 5451/7199 [42:31<05:47,  5.04it/s]"
     ]
    },
    {
     "name": "stdout",
     "output_type": "stream",
     "text": [
      "Error en el registro: 557862346669301479, URL: https://a0.muscache.com/pictures/prohost-api/Hosting-557862346669301479/original/b489cbb8-4ade-4edd-9b52-a5a6f5d27344.jpeg\n"
     ]
    },
    {
     "name": "stderr",
     "output_type": "stream",
     "text": [
      " 76%|███████▌  | 5457/7199 [42:32<05:07,  5.67it/s]"
     ]
    },
    {
     "name": "stdout",
     "output_type": "stream",
     "text": [
      "Error en el registro: 558737352827141257, URL: https://a0.muscache.com/pictures/miso/Hosting-558737352827141257/original/79baa66c-e138-4cf3-a179-e809ed53f868.jpeg\n"
     ]
    },
    {
     "name": "stderr",
     "output_type": "stream",
     "text": [
      " 76%|███████▌  | 5459/7199 [42:33<05:26,  5.33it/s]"
     ]
    },
    {
     "name": "stdout",
     "output_type": "stream",
     "text": [
      "Error en el registro: 562909674759088729, URL: https://a0.muscache.com/pictures/prohost-api/Hosting-562909674759088729/original/1bc9d504-3972-4b52-9ae7-5363a05b6d13.jpeg\n"
     ]
    },
    {
     "name": "stderr",
     "output_type": "stream",
     "text": [
      " 76%|███████▌  | 5464/7199 [42:35<08:34,  3.37it/s]"
     ]
    },
    {
     "name": "stdout",
     "output_type": "stream",
     "text": [
      "Error en el registro: 566450430168033283, URL: https://a0.muscache.com/pictures/57c74e3b-4199-48e7-be0e-fa8b25672c2a.jpg\n"
     ]
    },
    {
     "name": "stderr",
     "output_type": "stream",
     "text": [
      " 76%|███████▌  | 5466/7199 [42:35<08:34,  3.37it/s]"
     ]
    },
    {
     "name": "stdout",
     "output_type": "stream",
     "text": [
      "Error en el registro: 567263377944351900, URL: https://a0.muscache.com/pictures/prohost-api/Hosting-567263377944351900/original/84e7bbe3-615f-474b-a4e4-33a68b0346c1.jpeg\n",
      "Error en el registro: 568692279938660404, URL: https://a0.muscache.com/pictures/prohost-api/Hosting-568692279938660404/original/14e8826d-5df9-4084-ae4c-5e1db70706aa.jpeg\n"
     ]
    },
    {
     "name": "stderr",
     "output_type": "stream",
     "text": [
      " 76%|███████▌  | 5468/7199 [42:35<06:31,  4.42it/s]"
     ]
    },
    {
     "name": "stdout",
     "output_type": "stream",
     "text": [
      "Error en el registro: 568694788908431933, URL: https://a0.muscache.com/pictures/prohost-api/Hosting-568694788908431933/original/a82a3209-09fa-462a-ad8c-b9d984e82ac3.jpeg\n"
     ]
    },
    {
     "name": "stderr",
     "output_type": "stream",
     "text": [
      " 76%|███████▌  | 5469/7199 [42:36<06:17,  4.58it/s]"
     ]
    },
    {
     "name": "stdout",
     "output_type": "stream",
     "text": [
      "Error en el registro: 569407505309687319, URL: https://a0.muscache.com/pictures/prohost-api/Hosting-569407505309687319/original/233707bb-ef6a-4ea7-a44a-deace00a3418.jpeg\n"
     ]
    },
    {
     "name": "stderr",
     "output_type": "stream",
     "text": [
      " 76%|███████▌  | 5475/7199 [42:37<07:37,  3.77it/s]"
     ]
    },
    {
     "name": "stdout",
     "output_type": "stream",
     "text": [
      "Error en el registro: 573072034648033150, URL: https://a0.muscache.com/pictures/prohost-api/Hosting-573072034648033150/original/27e6a227-5af6-40ed-ba4d-f24fadf97f0f.jpeg\n"
     ]
    },
    {
     "name": "stderr",
     "output_type": "stream",
     "text": [
      " 76%|███████▌  | 5478/7199 [42:38<07:04,  4.05it/s]"
     ]
    },
    {
     "name": "stdout",
     "output_type": "stream",
     "text": [
      "Error en el registro: 574763198852585805, URL: https://a0.muscache.com/pictures/miso/Hosting-574763198852585805/original/af75010b-d8ec-4072-9353-9f06cfcc3921.jpeg\n"
     ]
    },
    {
     "name": "stderr",
     "output_type": "stream",
     "text": [
      " 76%|███████▋  | 5491/7199 [42:41<05:56,  4.79it/s]"
     ]
    },
    {
     "name": "stdout",
     "output_type": "stream",
     "text": [
      "Error en el registro: 578114881460921853, URL: https://a0.muscache.com/pictures/prohost-api/Hosting-578114881460921853/original/8bf3248c-bff6-452a-93a5-52490d002909.jpeg\n",
      "Error en el registro: 578117391619038483, URL: https://a0.muscache.com/pictures/prohost-api/Hosting-578117391619038483/original/e7cf9e88-f212-4cb5-b0b4-6773c8bd5c91.jpeg\n"
     ]
    },
    {
     "name": "stderr",
     "output_type": "stream",
     "text": [
      " 76%|███████▋  | 5494/7199 [42:42<06:13,  4.56it/s]"
     ]
    },
    {
     "name": "stdout",
     "output_type": "stream",
     "text": [
      "Error en el registro: 578829581723459472, URL: https://a0.muscache.com/pictures/prohost-api/Hosting-578829581723459472/original/155e748b-66a5-43f2-a469-174a1e38b3ea.jpeg\n"
     ]
    },
    {
     "name": "stderr",
     "output_type": "stream",
     "text": [
      " 76%|███████▋  | 5503/7199 [42:44<06:07,  4.61it/s]"
     ]
    },
    {
     "name": "stdout",
     "output_type": "stream",
     "text": [
      "Error en el registro: 579562467128239369, URL: https://a0.muscache.com/pictures/miso/Hosting-579562467128239369/original/63b6a232-7682-4846-91bf-93d1ea32843f.jpeg\n"
     ]
    },
    {
     "name": "stderr",
     "output_type": "stream",
     "text": [
      " 76%|███████▋  | 5505/7199 [42:45<05:42,  4.95it/s]"
     ]
    },
    {
     "name": "stdout",
     "output_type": "stream",
     "text": [
      "Error en el registro: 580336513335041407, URL: https://a0.muscache.com/pictures/prohost-api/Hosting-580336513335041407/original/7f3d580f-714a-42aa-825c-acd981deb23d.jpeg\n",
      "Error en el registro: 580339548657084895, URL: https://a0.muscache.com/pictures/prohost-api/Hosting-580339548657084895/original/ed78c4a6-4e31-4c8e-afcd-8b8182c50ff9.jpeg\n"
     ]
    },
    {
     "name": "stderr",
     "output_type": "stream",
     "text": [
      " 76%|███████▋  | 5506/7199 [42:45<05:46,  4.89it/s]"
     ]
    },
    {
     "name": "stdout",
     "output_type": "stream",
     "text": [
      "Error en el registro: 580340188480812217, URL: https://a0.muscache.com/pictures/prohost-api/Hosting-580340188480812217/original/1197adce-808f-47f0-bb65-6da038ac04d5.jpeg\n"
     ]
    },
    {
     "name": "stderr",
     "output_type": "stream",
     "text": [
      " 76%|███████▋  | 5507/7199 [42:45<06:01,  4.68it/s]"
     ]
    },
    {
     "name": "stdout",
     "output_type": "stream",
     "text": [
      "Error en el registro: 580342069798808551, URL: https://a0.muscache.com/pictures/prohost-api/Hosting-580342069798808551/original/0386eaae-0b67-4c96-b2cc-ebadd9e96fb8.jpeg\n"
     ]
    },
    {
     "name": "stderr",
     "output_type": "stream",
     "text": [
      " 77%|███████▋  | 5509/7199 [42:45<06:00,  4.69it/s]"
     ]
    },
    {
     "name": "stdout",
     "output_type": "stream",
     "text": [
      "Error en el registro: 580442259470637184, URL: https://a0.muscache.com/pictures/prohost-api/Hosting-580442259470637184/original/642c2f0a-d10e-402b-95b1-0de7bf419fa8.png\n",
      "Error en el registro: 580524519215857438, URL: https://a0.muscache.com/pictures/miso/Hosting-580524519215857438/original/6e6c5925-10dd-4ea2-9208-b36ab63af73d.jpeg\n"
     ]
    },
    {
     "name": "stderr",
     "output_type": "stream",
     "text": [
      " 77%|███████▋  | 5523/7199 [42:49<07:00,  3.99it/s]"
     ]
    },
    {
     "name": "stdout",
     "output_type": "stream",
     "text": [
      "Error en el registro: 584818002913089374, URL: https://a0.muscache.com/pictures/miso/Hosting-584818002913089374/original/72c64e24-afb7-4e9b-a83f-bf62039debe4.jpeg\n"
     ]
    },
    {
     "name": "stderr",
     "output_type": "stream",
     "text": [
      " 77%|███████▋  | 5526/7199 [42:50<07:44,  3.60it/s]"
     ]
    },
    {
     "name": "stdout",
     "output_type": "stream",
     "text": [
      "Error en el registro: 585228758807996843, URL: https://a0.muscache.com/pictures/prohost-api/Hosting-585228758807996843/original/09539fa6-9ab4-4732-bcd0-0c40e12d9d8a.jpeg\n"
     ]
    },
    {
     "name": "stderr",
     "output_type": "stream",
     "text": [
      " 77%|███████▋  | 5533/7199 [42:52<07:20,  3.78it/s]"
     ]
    },
    {
     "name": "stdout",
     "output_type": "stream",
     "text": [
      "Error en el registro: 592635565577244428, URL: https://a0.muscache.com/pictures/prohost-api/Hosting-592635565577244428/original/579ac205-ac53-4470-b279-5a9008a77a5b.jpeg\n"
     ]
    },
    {
     "name": "stderr",
     "output_type": "stream",
     "text": [
      " 77%|███████▋  | 5536/7199 [42:53<08:57,  3.09it/s]"
     ]
    },
    {
     "name": "stdout",
     "output_type": "stream",
     "text": [
      "Error en el registro: 594797282646385297, URL: https://a0.muscache.com/pictures/prohost-api/Hosting-594797282646385297/original/22cb397b-e85f-43b2-81e7-37a84578bf3e.jpeg\n"
     ]
    },
    {
     "name": "stderr",
     "output_type": "stream",
     "text": [
      " 77%|███████▋  | 5544/7199 [42:56<08:39,  3.18it/s]"
     ]
    },
    {
     "name": "stdout",
     "output_type": "stream",
     "text": [
      "Error en el registro: 598404279154016952, URL: https://a0.muscache.com/pictures/prohost-api/Hosting-598404279154016952/original/34b62598-91cc-40d5-80ee-6bc805c9f2b5.jpeg\n"
     ]
    },
    {
     "name": "stderr",
     "output_type": "stream",
     "text": [
      " 77%|███████▋  | 5553/7199 [42:59<07:30,  3.65it/s]"
     ]
    },
    {
     "name": "stdout",
     "output_type": "stream",
     "text": [
      "Error en el registro: 604223920210757772, URL: https://a0.muscache.com/pictures/prohost-api/Hosting-604223920210757772/original/b73033c1-cd42-4e00-b0ed-a09b5f498c14.jpeg\n"
     ]
    },
    {
     "name": "stderr",
     "output_type": "stream",
     "text": [
      " 77%|███████▋  | 5555/7199 [42:59<06:17,  4.35it/s]"
     ]
    },
    {
     "name": "stdout",
     "output_type": "stream",
     "text": [
      "Error en el registro: 604231971121077035, URL: https://a0.muscache.com/pictures/prohost-api/Hosting-604231971121077035/original/8a842a04-da7b-4a52-8559-4c90a446bd1c.jpeg\n",
      "Error en el registro: 604232269991905294, URL: https://a0.muscache.com/pictures/prohost-api/Hosting-604232269991905294/original/a22778dc-61b7-4e16-a3c8-9792503504ff.jpeg\n"
     ]
    },
    {
     "name": "stderr",
     "output_type": "stream",
     "text": [
      " 77%|███████▋  | 5558/7199 [43:00<05:13,  5.24it/s]"
     ]
    },
    {
     "name": "stdout",
     "output_type": "stream",
     "text": [
      "Error en el registro: 604234472085817955, URL: https://a0.muscache.com/pictures/prohost-api/Hosting-604234472085817955/original/761a51e0-aba1-4fc4-a11a-d457b5375822.jpeg\n"
     ]
    },
    {
     "name": "stderr",
     "output_type": "stream",
     "text": [
      " 77%|███████▋  | 5560/7199 [43:00<04:57,  5.51it/s]"
     ]
    },
    {
     "name": "stdout",
     "output_type": "stream",
     "text": [
      "Error en el registro: 604951714437257587, URL: https://a0.muscache.com/pictures/prohost-api/Hosting-604951714437257587/original/767f84ef-275a-4d26-a3d9-65ab3b258c27.jpeg\n"
     ]
    },
    {
     "name": "stderr",
     "output_type": "stream",
     "text": [
      " 77%|███████▋  | 5563/7199 [43:01<05:06,  5.34it/s]"
     ]
    },
    {
     "name": "stdout",
     "output_type": "stream",
     "text": [
      "Error en el registro: 608359192793639653, URL: https://a0.muscache.com/pictures/prohost-api/Hosting-608359192793639653/original/c3e76481-b618-4948-af0b-4b71727b1201.jpeg\n",
      "Error en el registro: 608359496810075683, URL: https://a0.muscache.com/pictures/prohost-api/Hosting-608359496810075683/original/eadf3fdf-0d24-4922-b7c3-3fa533b1a24a.jpeg\n"
     ]
    },
    {
     "name": "stderr",
     "output_type": "stream",
     "text": [
      " 77%|███████▋  | 5565/7199 [43:01<04:46,  5.71it/s]"
     ]
    },
    {
     "name": "stdout",
     "output_type": "stream",
     "text": [
      "Error en el registro: 608658771570500261, URL: https://a0.muscache.com/pictures/miso/Hosting-608658771570500261/original/4f9287ef-9726-49bd-afd7-1261614c2e23.jpeg\n"
     ]
    },
    {
     "name": "stderr",
     "output_type": "stream",
     "text": [
      " 77%|███████▋  | 5575/7199 [43:04<06:39,  4.07it/s]"
     ]
    },
    {
     "name": "stdout",
     "output_type": "stream",
     "text": [
      "Error en el registro: 612908141225302683, URL: https://a0.muscache.com/pictures/prohost-api/Hosting-612908141225302683/original/8e783dfe-af26-4041-aba6-343259802678.jpeg\n"
     ]
    },
    {
     "name": "stderr",
     "output_type": "stream",
     "text": [
      " 78%|███████▊  | 5594/7199 [43:11<07:53,  3.39it/s]"
     ]
    },
    {
     "name": "stdout",
     "output_type": "stream",
     "text": [
      "Error en el registro: 619253446291935967, URL: https://a0.muscache.com/pictures/prohost-api/Hosting-619253446291935967/original/6c8e77a8-3db8-4644-a736-8d137bf3d00a.jpeg\n"
     ]
    },
    {
     "name": "stderr",
     "output_type": "stream",
     "text": [
      " 78%|███████▊  | 5599/7199 [43:13<08:10,  3.26it/s]"
     ]
    },
    {
     "name": "stdout",
     "output_type": "stream",
     "text": [
      "Error en el registro: 620726386166322193, URL: https://a0.muscache.com/pictures/prohost-api/Hosting-620726386166322193/original/4ef78345-dfe4-4e20-bc50-f5f846db8dbe.jpeg\n"
     ]
    },
    {
     "name": "stderr",
     "output_type": "stream",
     "text": [
      " 78%|███████▊  | 5605/7199 [43:14<05:52,  4.52it/s]"
     ]
    },
    {
     "name": "stdout",
     "output_type": "stream",
     "text": [
      "Error en el registro: 622413306658128240, URL: https://a0.muscache.com/pictures/miso/Hosting-622413306658128240/original/0a864c78-21a8-412e-b679-c11b68b3eda6.jpeg\n"
     ]
    },
    {
     "name": "stderr",
     "output_type": "stream",
     "text": [
      " 78%|███████▊  | 5608/7199 [43:15<05:45,  4.60it/s]"
     ]
    },
    {
     "name": "stdout",
     "output_type": "stream",
     "text": [
      "Error en el registro: 623029409486034434, URL: https://a0.muscache.com/pictures/prohost-api/Hosting-623029409486034434/original/c291ac87-a95e-4baa-9831-8b80607ea8fa.jpeg\n"
     ]
    },
    {
     "name": "stderr",
     "output_type": "stream",
     "text": [
      " 78%|███████▊  | 5612/7199 [43:16<06:25,  4.12it/s]"
     ]
    },
    {
     "name": "stdout",
     "output_type": "stream",
     "text": [
      "Error en el registro: 623174295658849560, URL: https://a0.muscache.com/pictures/prohost-api/Hosting-623174295658849560/original/dc77fe0f-5d72-4075-887f-2ab98da928a7.jpeg\n",
      "Error en el registro: 623619726219332946, URL: https://a0.muscache.com/pictures/prohost-api/Hosting-623619726219332946/original/14609c8d-a85d-4929-b395-b1f673d19062.jpeg\n"
     ]
    },
    {
     "name": "stderr",
     "output_type": "stream",
     "text": [
      " 78%|███████▊  | 5626/7199 [43:25<06:05,  4.31it/s]"
     ]
    },
    {
     "name": "stdout",
     "output_type": "stream",
     "text": [
      "Error en el registro: 633058908634454665, URL: https://a0.muscache.com/pictures/prohost-api/Hosting-633058908634454665/original/d584f0b2-3d14-4263-b200-b4a159ee0bb4.jpeg\n"
     ]
    },
    {
     "name": "stderr",
     "output_type": "stream",
     "text": [
      " 78%|███████▊  | 5627/7199 [43:25<05:56,  4.41it/s]"
     ]
    },
    {
     "name": "stdout",
     "output_type": "stream",
     "text": [
      "Error en el registro: 633240905689427322, URL: https://a0.muscache.com/pictures/84794d3e-d997-480c-b9c7-4fe8ab39f676.jpg\n"
     ]
    },
    {
     "name": "stderr",
     "output_type": "stream",
     "text": [
      " 78%|███████▊  | 5633/7199 [43:26<05:56,  4.39it/s]"
     ]
    },
    {
     "name": "stdout",
     "output_type": "stream",
     "text": [
      "Error en el registro: 634543701606720546, URL: https://a0.muscache.com/pictures/prohost-api/Hosting-634543701606720546/original/6b2b925e-f7ec-400e-8ae5-f9d1696971af.jpeg\n"
     ]
    },
    {
     "name": "stderr",
     "output_type": "stream",
     "text": [
      " 78%|███████▊  | 5641/7199 [43:30<12:13,  2.12it/s]"
     ]
    },
    {
     "name": "stdout",
     "output_type": "stream",
     "text": [
      "Error en el registro: 636288932942854774, URL: https://a0.muscache.com/pictures/miso/Hosting-636288932942854774/original/53176ca0-ac54-4306-80b9-440cf02b21a1.jpeg\n"
     ]
    },
    {
     "name": "stderr",
     "output_type": "stream",
     "text": [
      " 78%|███████▊  | 5643/7199 [43:30<08:21,  3.10it/s]"
     ]
    },
    {
     "name": "stdout",
     "output_type": "stream",
     "text": [
      "Error en el registro: 638235027182813304, URL: https://a0.muscache.com/pictures/prohost-api/Hosting-638235027182813304/original/e8025544-cf54-4bd1-9f8a-ffb9e9869afe.jpeg\n"
     ]
    },
    {
     "name": "stderr",
     "output_type": "stream",
     "text": [
      " 78%|███████▊  | 5645/7199 [43:30<06:06,  4.24it/s]"
     ]
    },
    {
     "name": "stdout",
     "output_type": "stream",
     "text": [
      "Error en el registro: 638473569363708335, URL: https://a0.muscache.com/pictures/miso/Hosting-638473569363708335/original/e8cc0175-519b-459b-a140-b88976d6daeb.jpeg\n"
     ]
    },
    {
     "name": "stderr",
     "output_type": "stream",
     "text": [
      " 79%|███████▉  | 5673/7199 [43:36<04:41,  5.43it/s]"
     ]
    },
    {
     "name": "stdout",
     "output_type": "stream",
     "text": [
      "Error en el registro: 649227798792183262, URL: https://a0.muscache.com/pictures/miso/Hosting-649227798792183262/original/94a68d76-70d0-44aa-9e8b-fd241143d7f0.jpeg\n"
     ]
    },
    {
     "name": "stderr",
     "output_type": "stream",
     "text": [
      " 79%|███████▉  | 5675/7199 [43:37<05:39,  4.49it/s]"
     ]
    },
    {
     "name": "stdout",
     "output_type": "stream",
     "text": [
      "Error en el registro: 650670596271554040, URL: https://a0.muscache.com/pictures/b5f824b9-f2b3-4dae-9d35-5fec22d94a3a.jpg\n"
     ]
    },
    {
     "name": "stderr",
     "output_type": "stream",
     "text": [
      " 79%|███████▉  | 5682/7199 [43:39<07:13,  3.50it/s]"
     ]
    },
    {
     "name": "stdout",
     "output_type": "stream",
     "text": [
      "Error en el registro: 655514870814006563, URL: https://a0.muscache.com/pictures/prohost-api/Hosting-655514870814006563/original/724771b1-5a01-4fdd-909c-e7d727a7bd81.jpeg\n",
      "Error en el registro: 655515158683197472, URL: https://a0.muscache.com/pictures/prohost-api/Hosting-655515158683197472/original/4b649a39-4db9-4bb2-bff6-5a4bdc248087.jpeg\n"
     ]
    },
    {
     "name": "stderr",
     "output_type": "stream",
     "text": [
      " 79%|███████▉  | 5684/7199 [43:39<05:54,  4.27it/s]"
     ]
    },
    {
     "name": "stdout",
     "output_type": "stream",
     "text": [
      "Error en el registro: 655515533603303924, URL: https://a0.muscache.com/pictures/prohost-api/Hosting-655515533603303924/original/81017bdd-993a-47c5-9221-58cd085f4a6c.jpeg\n"
     ]
    },
    {
     "name": "stderr",
     "output_type": "stream",
     "text": [
      " 79%|███████▉  | 5688/7199 [43:40<05:09,  4.89it/s]"
     ]
    },
    {
     "name": "stdout",
     "output_type": "stream",
     "text": [
      "Error en el registro: 658616819945465934, URL: https://a0.muscache.com/pictures/prohost-api/Hosting-658616819945465934/original/23ab522e-1c82-401f-b979-95f7f667f284.jpeg\n"
     ]
    },
    {
     "name": "stderr",
     "output_type": "stream",
     "text": [
      " 79%|███████▉  | 5689/7199 [43:40<05:36,  4.49it/s]"
     ]
    },
    {
     "name": "stdout",
     "output_type": "stream",
     "text": [
      "Error en el registro: 658713146354442625, URL: https://a0.muscache.com/pictures/miso/Hosting-658713146354442625/original/43d951e7-f273-4e91-970d-d02965c399e3.jpeg\n"
     ]
    },
    {
     "name": "stderr",
     "output_type": "stream",
     "text": [
      " 79%|███████▉  | 5691/7199 [43:41<07:21,  3.41it/s]"
     ]
    },
    {
     "name": "stdout",
     "output_type": "stream",
     "text": [
      "Error en el registro: 658765857439531363, URL: https://a0.muscache.com/pictures/miso/Hosting-658765857439531363/original/616fe3ad-23bb-49cc-bf8b-66453e0dd7ff.jpeg\n"
     ]
    },
    {
     "name": "stderr",
     "output_type": "stream",
     "text": [
      " 79%|███████▉  | 5694/7199 [43:42<08:06,  3.09it/s]"
     ]
    },
    {
     "name": "stdout",
     "output_type": "stream",
     "text": [
      "Error en el registro: 659156386290642679, URL: https://a0.muscache.com/pictures/prohost-api/Hosting-659156386290642679/original/a5625cb5-579d-496f-9ccb-25b8f722b917.jpeg\n"
     ]
    },
    {
     "name": "stderr",
     "output_type": "stream",
     "text": [
      " 79%|███████▉  | 5695/7199 [43:43<09:00,  2.78it/s]"
     ]
    },
    {
     "name": "stdout",
     "output_type": "stream",
     "text": [
      "Error en el registro: 659511501225097577, URL: https://a0.muscache.com/pictures/miso/Hosting-659511501225097577/original/3bee1537-70e2-421a-9886-7da374880177.jpeg\n"
     ]
    },
    {
     "name": "stderr",
     "output_type": "stream",
     "text": [
      " 79%|███████▉  | 5709/7199 [43:47<06:13,  3.99it/s]"
     ]
    },
    {
     "name": "stdout",
     "output_type": "stream",
     "text": [
      "Error en el registro: 666383993088270320, URL: https://a0.muscache.com/pictures/prohost-api/Hosting-666383993088270320/original/143267b2-34a1-4129-91e7-cfbf5ffd99f2.jpeg\n"
     ]
    },
    {
     "name": "stderr",
     "output_type": "stream",
     "text": [
      " 79%|███████▉  | 5715/7199 [43:49<05:43,  4.32it/s]"
     ]
    },
    {
     "name": "stdout",
     "output_type": "stream",
     "text": [
      "Error en el registro: 668818916257742515, URL: https://a0.muscache.com/pictures/miso/Hosting-668818916257742515/original/d356e43b-10f2-4007-af4c-5984cddf69d2.png\n"
     ]
    },
    {
     "name": "stderr",
     "output_type": "stream",
     "text": [
      " 79%|███████▉  | 5720/7199 [43:50<04:56,  4.99it/s]"
     ]
    },
    {
     "name": "stdout",
     "output_type": "stream",
     "text": [
      "Error en el registro: 670105594005404482, URL: https://a0.muscache.com/pictures/prohost-api/Hosting-670105594005404482/original/c1ffef6e-0359-4048-bbe6-229ca2fb8cd4.jpeg\n"
     ]
    },
    {
     "name": "stderr",
     "output_type": "stream",
     "text": [
      " 80%|███████▉  | 5735/7199 [43:54<08:08,  2.99it/s]"
     ]
    },
    {
     "name": "stdout",
     "output_type": "stream",
     "text": [
      "Error en el registro: 674344475189896557, URL: https://a0.muscache.com/pictures/prohost-api/Hosting-674344475189896557/original/0f94223f-171b-4a36-a250-df3e83b79b73.jpeg\n"
     ]
    },
    {
     "name": "stderr",
     "output_type": "stream",
     "text": [
      " 80%|███████▉  | 5740/7199 [43:55<04:57,  4.90it/s]"
     ]
    },
    {
     "name": "stdout",
     "output_type": "stream",
     "text": [
      "Error en el registro: 676483872976026157, URL: https://a0.muscache.com/pictures/prohost-api/Hosting-676483872976026157/original/95466906-23db-48dc-9947-d752a219a166.jpeg\n"
     ]
    },
    {
     "name": "stderr",
     "output_type": "stream",
     "text": [
      " 80%|███████▉  | 5744/7199 [43:56<05:32,  4.38it/s]"
     ]
    },
    {
     "name": "stdout",
     "output_type": "stream",
     "text": [
      "Error en el registro: 676898605599494749, URL: https://a0.muscache.com/pictures/miso/Hosting-676898605599494749/original/b1d7b7be-c4e1-44a8-8c57-3d1d3060f4d1.jpeg\n"
     ]
    },
    {
     "name": "stderr",
     "output_type": "stream",
     "text": [
      " 80%|███████▉  | 5755/7199 [43:58<05:49,  4.14it/s]"
     ]
    },
    {
     "name": "stdout",
     "output_type": "stream",
     "text": [
      "Error en el registro: 683768558849092912, URL: https://a0.muscache.com/pictures/prohost-api/Hosting-683768558849092912/original/ecfe8989-8d18-4c1b-8c30-cb601c156236.jpeg\n"
     ]
    },
    {
     "name": "stderr",
     "output_type": "stream",
     "text": [
      " 80%|████████  | 5761/7199 [44:00<05:05,  4.71it/s]"
     ]
    },
    {
     "name": "stdout",
     "output_type": "stream",
     "text": [
      "Error en el registro: 684685835346260348, URL: https://a0.muscache.com/pictures/miso/Hosting-684685835346260348/original/78cbf802-27a4-4152-b2f6-82720971e554.jpeg\n"
     ]
    },
    {
     "name": "stderr",
     "output_type": "stream",
     "text": [
      " 80%|████████  | 5769/7199 [44:01<04:02,  5.90it/s]"
     ]
    },
    {
     "name": "stdout",
     "output_type": "stream",
     "text": [
      "Error en el registro: 686659102449877793, URL: https://a0.muscache.com/pictures/prohost-api/Hosting-686659102449877793/original/3480e3f2-af15-463e-a8ed-403fe2efbbf1.jpeg\n"
     ]
    },
    {
     "name": "stderr",
     "output_type": "stream",
     "text": [
      " 80%|████████  | 5776/7199 [44:02<03:43,  6.37it/s]"
     ]
    },
    {
     "name": "stdout",
     "output_type": "stream",
     "text": [
      "Error en el registro: 688910480628831655, URL: https://a0.muscache.com/pictures/prohost-api/Hosting-688910480628831655/original/7eb3e919-d4d4-4fea-85c6-299d855bb99c.jpeg\n"
     ]
    },
    {
     "name": "stderr",
     "output_type": "stream",
     "text": [
      " 80%|████████  | 5778/7199 [44:03<05:39,  4.19it/s]"
     ]
    },
    {
     "name": "stdout",
     "output_type": "stream",
     "text": [
      "Error en el registro: 689607534898158572, URL: https://a0.muscache.com/pictures/prohost-api/Hosting-689607534898158572/original/860e07b2-0022-4a83-a3cb-c651897ae6fd.jpeg\n"
     ]
    },
    {
     "name": "stderr",
     "output_type": "stream",
     "text": [
      " 80%|████████  | 5786/7199 [44:05<06:33,  3.59it/s]"
     ]
    },
    {
     "name": "stdout",
     "output_type": "stream",
     "text": [
      "Error en el registro: 690400586934454556, URL: https://a0.muscache.com/pictures/prohost-api/Hosting-690400586934454556/original/eca7926b-53b1-47b7-9e3e-d9f75a03f565.jpeg\n",
      "Error en el registro: 690400874919227004, URL: https://a0.muscache.com/pictures/prohost-api/Hosting-690400874919227004/original/3604456d-ecc0-429a-84f4-d200db16a3a2.jpeg\n"
     ]
    },
    {
     "name": "stderr",
     "output_type": "stream",
     "text": [
      " 81%|████████  | 5799/7199 [44:08<03:52,  6.02it/s]"
     ]
    },
    {
     "name": "stdout",
     "output_type": "stream",
     "text": [
      "Error en el registro: 695542274861997846, URL: https://a0.muscache.com/pictures/60f99764-d820-4727-9a0f-5a374cf33550.jpg\n"
     ]
    },
    {
     "name": "stderr",
     "output_type": "stream",
     "text": [
      " 81%|████████  | 5802/7199 [44:09<05:58,  3.89it/s]"
     ]
    },
    {
     "name": "stdout",
     "output_type": "stream",
     "text": [
      "Error en el registro: 695868903061431283, URL: https://a0.muscache.com/pictures/miso/Hosting-695868903061431283/original/82ee9450-7b8b-4446-953a-c4d6ba9a5a39.jpeg\n"
     ]
    },
    {
     "name": "stderr",
     "output_type": "stream",
     "text": [
      " 81%|████████  | 5815/7199 [44:13<05:48,  3.98it/s]"
     ]
    },
    {
     "name": "stdout",
     "output_type": "stream",
     "text": [
      "Error en el registro: 700542874333492403, URL: https://a0.muscache.com/pictures/prohost-api/Hosting-700542874333492403/original/462f7165-0c4f-4625-a4fb-70285cf183ce.jpeg\n"
     ]
    },
    {
     "name": "stderr",
     "output_type": "stream",
     "text": [
      " 81%|████████  | 5817/7199 [44:13<04:34,  5.04it/s]"
     ]
    },
    {
     "name": "stdout",
     "output_type": "stream",
     "text": [
      "Error en el registro: 701903542880060170, URL: https://a0.muscache.com/pictures/prohost-api/Hosting-701903542880060170/original/72a22598-6367-4d7a-adb4-e65276b03521.jpeg\n"
     ]
    },
    {
     "name": "stderr",
     "output_type": "stream",
     "text": [
      " 81%|████████  | 5818/7199 [44:13<04:42,  4.90it/s]"
     ]
    },
    {
     "name": "stdout",
     "output_type": "stream",
     "text": [
      "Error en el registro: 701903839431825131, URL: https://a0.muscache.com/pictures/prohost-api/Hosting-701903839431825131/original/c7900b9a-b922-4727-9ae4-97b7efadb52b.jpeg\n"
     ]
    },
    {
     "name": "stderr",
     "output_type": "stream",
     "text": [
      " 81%|████████  | 5819/7199 [44:14<05:23,  4.27it/s]"
     ]
    },
    {
     "name": "stdout",
     "output_type": "stream",
     "text": [
      "Error en el registro: 702072857749096679, URL: https://a0.muscache.com/pictures/miso/Hosting-702072857749096679/original/3abdc597-8b18-42d9-bba0-5279e2d0afb4.jpeg\n"
     ]
    },
    {
     "name": "stderr",
     "output_type": "stream",
     "text": [
      " 81%|████████  | 5823/7199 [44:15<05:24,  4.24it/s]"
     ]
    },
    {
     "name": "stdout",
     "output_type": "stream",
     "text": [
      "Error en el registro: 702196791016760152, URL: https://a0.muscache.com/pictures/prohost-api/Hosting-702196791016760152/original/d0974756-6243-4cc3-a3a6-c4fd2ae11096.jpeg\n"
     ]
    },
    {
     "name": "stderr",
     "output_type": "stream",
     "text": [
      " 81%|████████  | 5827/7199 [44:16<05:10,  4.43it/s]"
     ]
    },
    {
     "name": "stdout",
     "output_type": "stream",
     "text": [
      "Error en el registro: 704785038887176281, URL: https://a0.muscache.com/pictures/prohost-api/Hosting-704785038887176281/original/8944038f-882a-4838-8fb2-8eb90483b2f7.jpeg\n"
     ]
    },
    {
     "name": "stderr",
     "output_type": "stream",
     "text": [
      " 81%|████████  | 5834/7199 [44:19<07:52,  2.89it/s]"
     ]
    },
    {
     "name": "stdout",
     "output_type": "stream",
     "text": [
      "Error en el registro: 706391605702679581, URL: https://a0.muscache.com/pictures/miso/Hosting-706391605702679581/original/beb334ca-0ad1-485b-8624-d8520c609a93.jpeg\n"
     ]
    },
    {
     "name": "stderr",
     "output_type": "stream",
     "text": [
      " 81%|████████▏ | 5862/7199 [44:28<06:34,  3.39it/s]"
     ]
    },
    {
     "name": "stdout",
     "output_type": "stream",
     "text": [
      "Error en el registro: 713140450013616661, URL: https://a0.muscache.com/pictures/miso/Hosting-713140450013616661/original/28881ace-22f5-41c9-9fe8-066782997460.jpeg\n"
     ]
    },
    {
     "name": "stderr",
     "output_type": "stream",
     "text": [
      " 81%|████████▏ | 5866/7199 [44:29<06:53,  3.22it/s]"
     ]
    },
    {
     "name": "stdout",
     "output_type": "stream",
     "text": [
      "Error en el registro: 714656100145703498, URL: https://a0.muscache.com/pictures/prohost-api/Hosting-714656100145703498/original/06ce250c-d54d-400f-9758-181d559981c1.jpeg\n"
     ]
    },
    {
     "name": "stderr",
     "output_type": "stream",
     "text": [
      " 82%|████████▏ | 5869/7199 [44:30<07:11,  3.08it/s]"
     ]
    },
    {
     "name": "stdout",
     "output_type": "stream",
     "text": [
      "Error en el registro: 715658190467254169, URL: https://a0.muscache.com/pictures/prohost-api/Hosting-715658190467254169/original/499eb09f-69a0-454d-9c04-45201932224d.jpeg\n"
     ]
    },
    {
     "name": "stderr",
     "output_type": "stream",
     "text": [
      " 82%|████████▏ | 5879/7199 [44:37<10:36,  2.07it/s]"
     ]
    },
    {
     "name": "stdout",
     "output_type": "stream",
     "text": [
      "Error en el registro: 719467171987235663, URL: https://a0.muscache.com/pictures/miso/Hosting-719467171987235663/original/cbee6a61-c29c-4b42-a699-4d3f631a68e4.jpeg\n"
     ]
    },
    {
     "name": "stderr",
     "output_type": "stream",
     "text": [
      " 82%|████████▏ | 5883/7199 [44:38<08:43,  2.51it/s]"
     ]
    },
    {
     "name": "stdout",
     "output_type": "stream",
     "text": [
      "Error en el registro: 719990238559489665, URL: https://a0.muscache.com/pictures/prohost-api/Hosting-719990238559489665/original/f7f84f22-7cb1-4c16-bb2e-2f9512d4a457.jpeg\n"
     ]
    },
    {
     "name": "stderr",
     "output_type": "stream",
     "text": [
      " 82%|████████▏ | 5894/7199 [44:42<07:01,  3.10it/s]"
     ]
    },
    {
     "name": "stdout",
     "output_type": "stream",
     "text": [
      "Error en el registro: 726396583833243890, URL: https://a0.muscache.com/pictures/prohost-api/Hosting-726396583833243890/original/0a2f3fc3-ed29-4b75-8512-542f230e5e38.jpeg\n"
     ]
    },
    {
     "name": "stderr",
     "output_type": "stream",
     "text": [
      " 82%|████████▏ | 5896/7199 [44:43<05:23,  4.03it/s]"
     ]
    },
    {
     "name": "stdout",
     "output_type": "stream",
     "text": [
      "Error en el registro: 727368563191104397, URL: https://a0.muscache.com/pictures/prohost-api/Hosting-727368563191104397/original/190319a4-3aa3-4c7e-835e-8178968d8c05.jpeg\n"
     ]
    },
    {
     "name": "stderr",
     "output_type": "stream",
     "text": [
      " 82%|████████▏ | 5906/7199 [44:46<06:26,  3.35it/s]"
     ]
    },
    {
     "name": "stdout",
     "output_type": "stream",
     "text": [
      "Error en el registro: 731581616930727750, URL: https://a0.muscache.com/pictures/prohost-api/Hosting-731581616930727750/original/1a164d45-a9a7-41b0-a8e1-207901dc987a.jpeg\n"
     ]
    },
    {
     "name": "stderr",
     "output_type": "stream",
     "text": [
      " 82%|████████▏ | 5923/7199 [44:51<05:38,  3.77it/s]"
     ]
    },
    {
     "name": "stdout",
     "output_type": "stream",
     "text": [
      "Error en el registro: 740400290363696561, URL: https://a0.muscache.com/pictures/6679d540-9cda-484e-abbf-35d067470774.jpg\n"
     ]
    },
    {
     "name": "stderr",
     "output_type": "stream",
     "text": [
      " 82%|████████▏ | 5924/7199 [44:51<05:47,  3.67it/s]"
     ]
    },
    {
     "name": "stdout",
     "output_type": "stream",
     "text": [
      "Error en el registro: 741745368954817653, URL: https://a0.muscache.com/pictures/prohost-api/Hosting-741745368954817653/original/0114337a-c460-4155-8091-f2eae2a7de2a.jpeg\n"
     ]
    },
    {
     "name": "stderr",
     "output_type": "stream",
     "text": [
      " 82%|████████▏ | 5933/7199 [44:54<05:32,  3.81it/s]"
     ]
    },
    {
     "name": "stdout",
     "output_type": "stream",
     "text": [
      "Error en el registro: 748360987335266464, URL: https://a0.muscache.com/pictures/5e2e1372-1b44-4c16-8f1d-d516492cb076.jpg\n"
     ]
    },
    {
     "name": "stderr",
     "output_type": "stream",
     "text": [
      " 83%|████████▎ | 5940/7199 [44:57<06:13,  3.37it/s]"
     ]
    },
    {
     "name": "stdout",
     "output_type": "stream",
     "text": [
      "Error en el registro: 751255733039018358, URL: https://a0.muscache.com/pictures/prohost-api/Hosting-751255733039018358/original/da152004-1dcb-4b85-8dc6-650a3e722ab2.jpeg\n",
      "Error en el registro: 751256340541168925, URL: https://a0.muscache.com/pictures/prohost-api/Hosting-751256340541168925/original/6c5be02b-7131-43a8-93cb-54dd9f014882.jpeg\n"
     ]
    },
    {
     "name": "stderr",
     "output_type": "stream",
     "text": [
      " 83%|████████▎ | 5957/7199 [45:01<03:52,  5.34it/s]"
     ]
    },
    {
     "name": "stdout",
     "output_type": "stream",
     "text": [
      "Error en el registro: 754921465460632358, URL: https://a0.muscache.com/pictures/prohost-api/Hosting-754921465460632358/original/70bf2190-e417-4dd4-bb6e-67e50c6f6731.jpeg\n"
     ]
    },
    {
     "name": "stderr",
     "output_type": "stream",
     "text": [
      " 83%|████████▎ | 5959/7199 [45:01<04:40,  4.42it/s]"
     ]
    },
    {
     "name": "stdout",
     "output_type": "stream",
     "text": [
      "Error en el registro: 755533469713682355, URL: https://a0.muscache.com/pictures/miso/Hosting-755533469713682355/original/3b07598d-63c7-4649-bdf6-ad7b81f28ba8.png\n"
     ]
    },
    {
     "name": "stderr",
     "output_type": "stream",
     "text": [
      " 83%|████████▎ | 5960/7199 [45:02<05:45,  3.59it/s]"
     ]
    },
    {
     "name": "stdout",
     "output_type": "stream",
     "text": [
      "Error en el registro: 755549554190811005, URL: https://a0.muscache.com/pictures/prohost-api/Hosting-755549554190811005/original/b4e9be91-0d2f-4600-8b05-c8aab038524c.jpeg\n"
     ]
    },
    {
     "name": "stderr",
     "output_type": "stream",
     "text": [
      " 83%|████████▎ | 5961/7199 [45:02<05:25,  3.80it/s]"
     ]
    },
    {
     "name": "stdout",
     "output_type": "stream",
     "text": [
      "Error en el registro: 755550110633481973, URL: https://a0.muscache.com/pictures/prohost-api/Hosting-755550110633481973/original/56a84cb4-52f3-45f9-b369-510f7b97304d.jpeg\n"
     ]
    },
    {
     "name": "stderr",
     "output_type": "stream",
     "text": [
      " 83%|████████▎ | 5965/7199 [45:03<04:16,  4.82it/s]"
     ]
    },
    {
     "name": "stdout",
     "output_type": "stream",
     "text": [
      "Error en el registro: 757021735358934310, URL: https://a0.muscache.com/pictures/prohost-api/Hosting-757021735358934310/original/0e052465-e5d6-43e6-b365-aebd543bb1d6.jpeg\n"
     ]
    },
    {
     "name": "stderr",
     "output_type": "stream",
     "text": [
      " 83%|████████▎ | 5966/7199 [45:03<04:33,  4.51it/s]"
     ]
    },
    {
     "name": "stdout",
     "output_type": "stream",
     "text": [
      "Error en el registro: 757022023725678837, URL: https://a0.muscache.com/pictures/prohost-api/Hosting-757022023725678837/original/2dd6f3d9-d2f8-4675-89d1-04dfc65e7ee5.jpeg\n"
     ]
    },
    {
     "name": "stderr",
     "output_type": "stream",
     "text": [
      " 83%|████████▎ | 5973/7199 [45:05<04:45,  4.29it/s]"
     ]
    },
    {
     "name": "stdout",
     "output_type": "stream",
     "text": [
      "Error en el registro: 759892648386172163, URL: https://a0.muscache.com/pictures/prohost-api/Hosting-759892648386172163/original/00d7d2e1-4d70-45a0-b5b5-70aa5a97df41.jpeg\n",
      "Error en el registro: 759893468198280917, URL: https://a0.muscache.com/pictures/prohost-api/Hosting-759893468198280917/original/99beda76-af94-433a-a44e-fc64ec42a1e7.jpeg\n"
     ]
    },
    {
     "name": "stderr",
     "output_type": "stream",
     "text": [
      " 83%|████████▎ | 5975/7199 [45:05<04:15,  4.79it/s]"
     ]
    },
    {
     "name": "stdout",
     "output_type": "stream",
     "text": [
      "Error en el registro: 759894024434692037, URL: https://a0.muscache.com/pictures/prohost-api/Hosting-759894024434692037/original/e799d2ec-ac47-4c18-aac6-9f7365d68684.jpeg\n"
     ]
    },
    {
     "name": "stderr",
     "output_type": "stream",
     "text": [
      " 83%|████████▎ | 5978/7199 [45:06<04:36,  4.42it/s]"
     ]
    },
    {
     "name": "stdout",
     "output_type": "stream",
     "text": [
      "Error en el registro: 760402775627338023, URL: https://a0.muscache.com/pictures/miso/Hosting-760402775627338023/original/502b0062-d227-4c70-b9ed-73b47489b8d6.jpeg\n"
     ]
    },
    {
     "name": "stderr",
     "output_type": "stream",
     "text": [
      " 83%|████████▎ | 5980/7199 [45:06<04:15,  4.76it/s]"
     ]
    },
    {
     "name": "stdout",
     "output_type": "stream",
     "text": [
      "Error en el registro: 761353275730186662, URL: https://a0.muscache.com/pictures/prohost-api/Hosting-761353275730186662/original/9e415f37-14ad-4903-bea0-7b333bc54158.jpeg\n"
     ]
    },
    {
     "name": "stderr",
     "output_type": "stream",
     "text": [
      " 83%|████████▎ | 5981/7199 [45:07<04:28,  4.53it/s]"
     ]
    },
    {
     "name": "stdout",
     "output_type": "stream",
     "text": [
      "Error en el registro: 762164629747217079, URL: https://a0.muscache.com/pictures/prohost-api/Hosting-762164629747217079/original/bf8c5cf6-82fa-47ca-aa41-fba594e4a465.jpeg\n"
     ]
    },
    {
     "name": "stderr",
     "output_type": "stream",
     "text": [
      " 83%|████████▎ | 5985/7199 [45:08<04:52,  4.16it/s]"
     ]
    },
    {
     "name": "stdout",
     "output_type": "stream",
     "text": [
      "Error en el registro: 762779193061469131, URL: https://a0.muscache.com/pictures/prohost-api/Hosting-762779193061469131/original/b3aa3c1a-b4d7-48c2-b53a-85fc5246eea4.jpeg\n"
     ]
    },
    {
     "name": "stderr",
     "output_type": "stream",
     "text": [
      " 83%|████████▎ | 5988/7199 [45:08<04:02,  4.99it/s]"
     ]
    },
    {
     "name": "stdout",
     "output_type": "stream",
     "text": [
      "Error en el registro: 763110046866087334, URL: https://a0.muscache.com/pictures/miso/Hosting-763110046866087334/original/9217ce0f-6cf4-4c1a-bdc8-9996344b0bd8.jpeg\n"
     ]
    },
    {
     "name": "stderr",
     "output_type": "stream",
     "text": [
      " 83%|████████▎ | 5990/7199 [45:09<05:12,  3.87it/s]"
     ]
    },
    {
     "name": "stdout",
     "output_type": "stream",
     "text": [
      "Error en el registro: 765006355721890182, URL: https://a0.muscache.com/pictures/prohost-api/Hosting-765006355721890182/original/889b9b8d-3793-4303-ab6a-096318081547.jpeg\n"
     ]
    },
    {
     "name": "stderr",
     "output_type": "stream",
     "text": [
      " 83%|████████▎ | 5992/7199 [45:09<04:23,  4.58it/s]"
     ]
    },
    {
     "name": "stdout",
     "output_type": "stream",
     "text": [
      "Error en el registro: 765006895101554698, URL: https://a0.muscache.com/pictures/prohost-api/Hosting-765006895101554698/original/2f892b1f-4c4e-47fc-87ae-d5ea90b0d644.jpeg\n"
     ]
    },
    {
     "name": "stderr",
     "output_type": "stream",
     "text": [
      " 83%|████████▎ | 5998/7199 [45:12<05:49,  3.44it/s]"
     ]
    },
    {
     "name": "stdout",
     "output_type": "stream",
     "text": [
      "Error en el registro: 765841349139671626, URL: https://a0.muscache.com/pictures/prohost-api/Hosting-765841349139671626/original/8b60663a-fa99-40b9-bc36-fba58ddc9897.jpeg\n",
      "Error en el registro: 765841775181131141, URL: https://a0.muscache.com/pictures/prohost-api/Hosting-765841775181131141/original/61b43651-164b-4a56-932c-19be2a5c6672.jpeg\n"
     ]
    },
    {
     "name": "stderr",
     "output_type": "stream",
     "text": [
      " 83%|████████▎ | 5999/7199 [45:12<05:30,  3.63it/s]"
     ]
    },
    {
     "name": "stdout",
     "output_type": "stream",
     "text": [
      "Error en el registro: 765842269075124283, URL: https://a0.muscache.com/pictures/prohost-api/Hosting-765842269075124283/original/625f8935-88e7-4f22-b0c4-340d86354392.jpeg\n"
     ]
    },
    {
     "name": "stderr",
     "output_type": "stream",
     "text": [
      " 83%|████████▎ | 6001/7199 [45:13<05:32,  3.60it/s]"
     ]
    },
    {
     "name": "stdout",
     "output_type": "stream",
     "text": [
      "Error en el registro: 766443317316185027, URL: https://a0.muscache.com/pictures/prohost-api/Hosting-766443317316185027/original/b19f62cc-1722-4eca-8471-4e0de00d811b.jpeg\n",
      "Error en el registro: 767351808354008385, URL: https://a0.muscache.com/pictures/prohost-api/Hosting-767351808354008385/original/f10e3840-8f80-4971-966d-b0498c8edb38.jpeg\n"
     ]
    },
    {
     "name": "stderr",
     "output_type": "stream",
     "text": [
      " 83%|████████▎ | 6002/7199 [45:13<04:49,  4.13it/s]"
     ]
    },
    {
     "name": "stdout",
     "output_type": "stream",
     "text": [
      "Error en el registro: 767352123386196599, URL: https://a0.muscache.com/pictures/prohost-api/Hosting-767352123386196599/original/58d45c8b-b091-4b48-b9f7-beae0ffbf300.jpeg\n"
     ]
    },
    {
     "name": "stderr",
     "output_type": "stream",
     "text": [
      " 83%|████████▎ | 6011/7199 [45:15<04:32,  4.36it/s]"
     ]
    },
    {
     "name": "stdout",
     "output_type": "stream",
     "text": [
      "Error en el registro: 771690696993014228, URL: https://a0.muscache.com/pictures/prohost-api/Hosting-771690696993014228/original/d415bb47-034b-4fdd-b47b-0241c4d7fbcc.jpeg\n"
     ]
    },
    {
     "name": "stderr",
     "output_type": "stream",
     "text": [
      " 84%|████████▎ | 6023/7199 [45:18<04:13,  4.65it/s]"
     ]
    },
    {
     "name": "stdout",
     "output_type": "stream",
     "text": [
      "Error en el registro: 775261963711450110, URL: https://a0.muscache.com/pictures/prohost-api/Hosting-775261963711450110/original/9411b324-9455-4f85-8522-3d4722f49e8a.jpeg\n"
     ]
    },
    {
     "name": "stderr",
     "output_type": "stream",
     "text": [
      " 84%|████████▎ | 6029/7199 [45:21<06:53,  2.83it/s]"
     ]
    },
    {
     "name": "stdout",
     "output_type": "stream",
     "text": [
      "Error en el registro: 776610853880546976, URL: https://a0.muscache.com/pictures/prohost-api/Hosting-776610853880546976/original/d160751f-bf07-4189-9744-2549b6434e0f.jpeg\n"
     ]
    },
    {
     "name": "stderr",
     "output_type": "stream",
     "text": [
      " 84%|████████▍ | 6046/7199 [45:27<04:11,  4.58it/s]"
     ]
    },
    {
     "name": "stdout",
     "output_type": "stream",
     "text": [
      "Error en el registro: 781001738751122967, URL: https://a0.muscache.com/pictures/prohost-api/Hosting-781001738751122967/original/9762344a-bfb9-49d6-89bc-37581a6eb986.jpeg\n"
     ]
    },
    {
     "name": "stderr",
     "output_type": "stream",
     "text": [
      " 84%|████████▍ | 6052/7199 [45:29<04:24,  4.34it/s]"
     ]
    },
    {
     "name": "stdout",
     "output_type": "stream",
     "text": [
      "Error en el registro: 786807008620011176, URL: https://a0.muscache.com/pictures/prohost-api/Hosting-786807008620011176/original/111baacf-cf4f-480a-b934-b0dd982356df.jpeg\n",
      "Error en el registro: 787547697386254974, URL: https://a0.muscache.com/pictures/prohost-api/Hosting-787547697386254974/original/c2a3c7b3-2ebd-422b-a8b1-651935ef7714.jpeg\n"
     ]
    },
    {
     "name": "stderr",
     "output_type": "stream",
     "text": [
      " 84%|████████▍ | 6066/7199 [45:34<05:36,  3.37it/s]"
     ]
    },
    {
     "name": "stdout",
     "output_type": "stream",
     "text": [
      "Error en el registro: 796990908736037328, URL: https://a0.muscache.com/pictures/prohost-api/Hosting-796990908736037328/original/703a2531-bebf-44e2-92ea-bb4e4914c8a3.jpeg\n",
      "Error en el registro: 797634392623375373, URL: https://a0.muscache.com/pictures/prohost-api/Hosting-797634392623375373/original/f3795ac6-2cab-4776-9e1b-8bd62eb563b0.jpeg\n"
     ]
    },
    {
     "name": "stderr",
     "output_type": "stream",
     "text": [
      " 84%|████████▍ | 6067/7199 [45:34<05:23,  3.50it/s]"
     ]
    },
    {
     "name": "stdout",
     "output_type": "stream",
     "text": [
      "Error en el registro: 797634833378646656, URL: https://a0.muscache.com/pictures/prohost-api/Hosting-797634833378646656/original/8424416c-c551-48fd-ab2d-89d3307f9e8e.jpeg\n"
     ]
    },
    {
     "name": "stderr",
     "output_type": "stream",
     "text": [
      " 84%|████████▍ | 6068/7199 [45:35<05:16,  3.58it/s]"
     ]
    },
    {
     "name": "stdout",
     "output_type": "stream",
     "text": [
      "Error en el registro: 797635200084843258, URL: https://a0.muscache.com/pictures/prohost-api/Hosting-797635200084843258/original/5a215a5f-70d6-47e7-84d2-5631f2c1e11f.jpeg\n"
     ]
    },
    {
     "name": "stderr",
     "output_type": "stream",
     "text": [
      " 84%|████████▍ | 6073/7199 [45:38<11:25,  1.64it/s]"
     ]
    },
    {
     "name": "stdout",
     "output_type": "stream",
     "text": [
      "Error en el registro: 798524113485453463, URL: https://a0.muscache.com/pictures/miso/Hosting-798524113485453463/original/d3b5e0a2-bc8e-4d2a-b6d7-8b3e16cb716e.jpeg\n"
     ]
    },
    {
     "name": "stderr",
     "output_type": "stream",
     "text": [
      " 84%|████████▍ | 6075/7199 [45:38<07:53,  2.37it/s]"
     ]
    },
    {
     "name": "stdout",
     "output_type": "stream",
     "text": [
      "Error en el registro: 800678625525343383, URL: https://a0.muscache.com/pictures/miso/Hosting-800678625525343383/original/7c057ffb-a088-4168-9a98-2a2a1cb649d2.jpeg\n"
     ]
    },
    {
     "name": "stderr",
     "output_type": "stream",
     "text": [
      " 84%|████████▍ | 6077/7199 [45:39<05:39,  3.30it/s]"
     ]
    },
    {
     "name": "stdout",
     "output_type": "stream",
     "text": [
      "Error en el registro: 801228312332129657, URL: https://a0.muscache.com/pictures/prohost-api/Hosting-801228312332129657/original/7eb80afa-4e49-41bd-ac94-d40f5e58dd4c.jpeg\n"
     ]
    },
    {
     "name": "stderr",
     "output_type": "stream",
     "text": [
      " 85%|████████▍ | 6090/7199 [45:41<02:58,  6.21it/s]"
     ]
    },
    {
     "name": "stdout",
     "output_type": "stream",
     "text": [
      "Error en el registro: 802781307558619461, URL: https://a0.muscache.com/pictures/prohost-api/Hosting-802781307558619461/original/48e185c7-1d49-4119-bd27-d84aa825db6f.jpeg\n"
     ]
    },
    {
     "name": "stderr",
     "output_type": "stream",
     "text": [
      " 85%|████████▍ | 6117/7199 [45:52<04:58,  3.63it/s]"
     ]
    },
    {
     "name": "stdout",
     "output_type": "stream",
     "text": [
      "Error en el registro: 810755335955230893, URL: https://a0.muscache.com/pictures/prohost-api/Hosting-810755335955230893/original/9a8f92c7-9910-4faa-9de3-d982d41082cf.jpeg\n"
     ]
    },
    {
     "name": "stderr",
     "output_type": "stream",
     "text": [
      " 86%|████████▌ | 6156/7199 [46:04<03:20,  5.20it/s]"
     ]
    },
    {
     "name": "stdout",
     "output_type": "stream",
     "text": [
      "Error en el registro: 821501113985650809, URL: https://a0.muscache.com/pictures/prohost-api/Hosting-821501113985650809/original/8681efda-5f4c-4b0c-8f7c-e97bd9cee294.jpeg\n"
     ]
    },
    {
     "name": "stderr",
     "output_type": "stream",
     "text": [
      " 86%|████████▌ | 6169/7199 [46:08<04:27,  3.85it/s]"
     ]
    },
    {
     "name": "stdout",
     "output_type": "stream",
     "text": [
      "Error en el registro: 825847770808405248, URL: https://a0.muscache.com/pictures/prohost-api/Hosting-825847770808405248/original/92be7552-7d96-4790-8103-c26894761c7c.jpeg\n"
     ]
    },
    {
     "name": "stderr",
     "output_type": "stream",
     "text": [
      " 86%|████████▌ | 6173/7199 [46:10<05:25,  3.15it/s]"
     ]
    },
    {
     "name": "stdout",
     "output_type": "stream",
     "text": [
      "Error en el registro: 826562966046818110, URL: https://a0.muscache.com/pictures/prohost-api/Hosting-826562966046818110/original/a15df900-7671-4279-bed9-141dfa83a04c.jpeg\n"
     ]
    },
    {
     "name": "stderr",
     "output_type": "stream",
     "text": [
      " 86%|████████▌ | 6182/7199 [46:12<03:39,  4.63it/s]"
     ]
    },
    {
     "name": "stdout",
     "output_type": "stream",
     "text": [
      "Error en el registro: 828014040320230036, URL: https://a0.muscache.com/pictures/prohost-api/Hosting-828014040320230036/original/154db478-c931-40ad-863e-a2e0bb214580.jpeg\n"
     ]
    },
    {
     "name": "stderr",
     "output_type": "stream",
     "text": [
      " 86%|████████▌ | 6183/7199 [46:12<03:41,  4.59it/s]"
     ]
    },
    {
     "name": "stdout",
     "output_type": "stream",
     "text": [
      "Error en el registro: 828194448965037333, URL: https://a0.muscache.com/pictures/prohost-api/Hosting-828194448965037333/original/3075b2e5-4c56-4b5a-83f5-c15c8c9a9af3.jpeg\n"
     ]
    },
    {
     "name": "stderr",
     "output_type": "stream",
     "text": [
      " 86%|████████▌ | 6187/7199 [46:13<03:16,  5.15it/s]"
     ]
    },
    {
     "name": "stdout",
     "output_type": "stream",
     "text": [
      "Error en el registro: 828416110846192220, URL: https://a0.muscache.com/pictures/miso/Hosting-828416110846192220/original/ad3210cd-bad9-4be0-908f-88131e56a128.jpeg\n"
     ]
    },
    {
     "name": "stderr",
     "output_type": "stream",
     "text": [
      " 86%|████████▌ | 6199/7199 [46:17<04:44,  3.52it/s]"
     ]
    },
    {
     "name": "stdout",
     "output_type": "stream",
     "text": [
      "Error en el registro: 831735030713466807, URL: https://a0.muscache.com/pictures/prohost-api/Hosting-831735030713466807/original/2089092b-7f4d-48c4-b58d-85c364518d9d.jpeg\n"
     ]
    },
    {
     "name": "stderr",
     "output_type": "stream",
     "text": [
      " 86%|████████▌ | 6204/7199 [46:20<08:22,  1.98it/s]"
     ]
    },
    {
     "name": "stdout",
     "output_type": "stream",
     "text": [
      "Error en el registro: 831961056951139768, URL: https://a0.muscache.com/pictures/miso/Hosting-831961056951139768/original/b733330c-1d81-44bd-8abc-7625d0b593e0.jpeg\n"
     ]
    },
    {
     "name": "stderr",
     "output_type": "stream",
     "text": [
      " 86%|████████▋ | 6227/7199 [46:27<02:54,  5.57it/s]"
     ]
    },
    {
     "name": "stdout",
     "output_type": "stream",
     "text": [
      "Error en el registro: 836153649468461318, URL: https://a0.muscache.com/pictures/miso/Hosting-836153649468461318/original/8c7faf7e-5d0d-4397-9887-cb26e444e6b4.jpeg\n",
      "Error en el registro: 837439628788914345, URL: https://a0.muscache.com/pictures/prohost-api/Hosting-837439628788914345/original/98df5bc2-f2b9-4e45-8889-0840694e2a65.jpeg\n"
     ]
    },
    {
     "name": "stderr",
     "output_type": "stream",
     "text": [
      " 87%|████████▋ | 6228/7199 [46:27<03:12,  5.04it/s]"
     ]
    },
    {
     "name": "stdout",
     "output_type": "stream",
     "text": [
      "Error en el registro: 837439944560637250, URL: https://a0.muscache.com/pictures/prohost-api/Hosting-837439944560637250/original/a2ab5dd1-b06b-4bef-9450-059f7fb348dd.jpeg\n"
     ]
    },
    {
     "name": "stderr",
     "output_type": "stream",
     "text": [
      " 87%|████████▋ | 6229/7199 [46:27<04:33,  3.55it/s]"
     ]
    },
    {
     "name": "stdout",
     "output_type": "stream",
     "text": [
      "Error en el registro: 837538755134178518, URL: https://a0.muscache.com/pictures/prohost-api/Hosting-837538755134178518/original/f43f192b-ec84-4ba8-ac5a-e6e2ea086a22.jpeg\n"
     ]
    },
    {
     "name": "stderr",
     "output_type": "stream",
     "text": [
      " 87%|████████▋ | 6250/7199 [46:32<03:10,  4.98it/s]"
     ]
    },
    {
     "name": "stdout",
     "output_type": "stream",
     "text": [
      "Error en el registro: 841340391794964228, URL: https://a0.muscache.com/pictures/93e612ae-9c1e-4f14-9b1c-4fc1d10a29ac.jpg\n"
     ]
    },
    {
     "name": "stderr",
     "output_type": "stream",
     "text": [
      " 87%|████████▋ | 6262/7199 [46:35<03:21,  4.66it/s]"
     ]
    },
    {
     "name": "stdout",
     "output_type": "stream",
     "text": [
      "Error en el registro: 846872271807146973, URL: https://a0.muscache.com/pictures/prohost-api/Hosting-846872271807146973/original/37a65bbf-bcbf-4962-a9d9-77ec4d18f89b.jpeg\n"
     ]
    },
    {
     "name": "stderr",
     "output_type": "stream",
     "text": [
      " 87%|████████▋ | 6264/7199 [46:35<03:26,  4.54it/s]"
     ]
    },
    {
     "name": "stdout",
     "output_type": "stream",
     "text": [
      "Error en el registro: 846872983266331248, URL: https://a0.muscache.com/pictures/prohost-api/Hosting-846872983266331248/original/91cd35d5-7731-4c46-af04-b74b2402b6b9.jpeg\n"
     ]
    },
    {
     "name": "stderr",
     "output_type": "stream",
     "text": [
      " 87%|████████▋ | 6277/7199 [46:39<04:08,  3.71it/s]"
     ]
    },
    {
     "name": "stdout",
     "output_type": "stream",
     "text": [
      "Error en el registro: 852166516716286801, URL: https://a0.muscache.com/pictures/miso/Hosting-852166516716286801/original/ec756235-fbc3-43a6-b18f-0c82eb62dcb0.jpeg\n"
     ]
    },
    {
     "name": "stderr",
     "output_type": "stream",
     "text": [
      " 87%|████████▋ | 6289/7199 [46:42<03:47,  3.99it/s]"
     ]
    },
    {
     "name": "stdout",
     "output_type": "stream",
     "text": [
      "Error en el registro: 853391813264548119, URL: https://a0.muscache.com/pictures/prohost-api/Hosting-853391813264548119/original/f64e818d-e441-4018-a7bf-1e650c91770d.jpeg\n"
     ]
    },
    {
     "name": "stderr",
     "output_type": "stream",
     "text": [
      " 88%|████████▊ | 6305/7199 [46:46<04:23,  3.39it/s]"
     ]
    },
    {
     "name": "stdout",
     "output_type": "stream",
     "text": [
      "Error en el registro: 861331609777147421, URL: https://a0.muscache.com/pictures/prohost-api/Hosting-861331609777147421/original/8c2cf983-4dab-4ee6-9664-6f3b8c106aac.jpeg\n"
     ]
    },
    {
     "name": "stderr",
     "output_type": "stream",
     "text": [
      " 88%|████████▊ | 6311/7199 [46:48<04:41,  3.16it/s]"
     ]
    },
    {
     "name": "stdout",
     "output_type": "stream",
     "text": [
      "Error en el registro: 863764018590884065, URL: https://a0.muscache.com/pictures/miso/Hosting-863764018590884065/original/290081c3-1745-4140-b111-f250e4c95d7a.jpeg\n"
     ]
    },
    {
     "name": "stderr",
     "output_type": "stream",
     "text": [
      " 88%|████████▊ | 6313/7199 [46:49<03:41,  4.00it/s]"
     ]
    },
    {
     "name": "stdout",
     "output_type": "stream",
     "text": [
      "Error en el registro: 863764173555125254, URL: https://a0.muscache.com/pictures/miso/Hosting-863764173555125254/original/3948a636-ceb9-44a1-951d-d05e58a64dcd.jpeg\n",
      "Error en el registro: 863764278641845127, URL: https://a0.muscache.com/pictures/miso/Hosting-863764278641845127/original/67420547-505e-4f64-a3d0-d2196a948460.jpeg\n"
     ]
    },
    {
     "name": "stderr",
     "output_type": "stream",
     "text": [
      " 88%|████████▊ | 6322/7199 [46:50<02:32,  5.77it/s]"
     ]
    },
    {
     "name": "stdout",
     "output_type": "stream",
     "text": [
      "Error en el registro: 865491574396499608, URL: https://a0.muscache.com/pictures/miso/Hosting-865491574396499608/original/1c6e5ec0-13f3-4682-9b38-5d0c89cdc565.jpeg\n"
     ]
    },
    {
     "name": "stderr",
     "output_type": "stream",
     "text": [
      " 88%|████████▊ | 6342/7199 [46:56<03:15,  4.39it/s]"
     ]
    },
    {
     "name": "stdout",
     "output_type": "stream",
     "text": [
      "Error en el registro: 873108519560457453, URL: https://a0.muscache.com/pictures/miso/Hosting-873108519560457453/original/2ffd99f1-3884-4512-a6f6-3630050e06ba.jpeg\n"
     ]
    },
    {
     "name": "stderr",
     "output_type": "stream",
     "text": [
      " 88%|████████▊ | 6344/7199 [46:56<03:25,  4.15it/s]"
     ]
    },
    {
     "name": "stdout",
     "output_type": "stream",
     "text": [
      "Error en el registro: 873655282217473344, URL: https://a0.muscache.com/pictures/prohost-api/Hosting-873655282217473344/original/2ac2684b-614b-4870-8ce5-b89121a28a6e.jpeg\n"
     ]
    },
    {
     "name": "stderr",
     "output_type": "stream",
     "text": [
      " 88%|████████▊ | 6345/7199 [46:57<03:19,  4.28it/s]"
     ]
    },
    {
     "name": "stdout",
     "output_type": "stream",
     "text": [
      "Error en el registro: 873658297449445896, URL: https://a0.muscache.com/pictures/prohost-api/Hosting-873658297449445896/original/2bb66c10-888b-437d-b47d-fa78d2b04dc2.jpeg\n"
     ]
    },
    {
     "name": "stderr",
     "output_type": "stream",
     "text": [
      " 88%|████████▊ | 6366/7199 [47:03<03:25,  4.06it/s]"
     ]
    },
    {
     "name": "stdout",
     "output_type": "stream",
     "text": [
      "Error en el registro: 882571653898142753, URL: https://a0.muscache.com/pictures/miso/Hosting-882571653898142753/original/c47817bf-fdc3-4818-954b-0942f032faeb.jpeg\n"
     ]
    },
    {
     "name": "stderr",
     "output_type": "stream",
     "text": [
      " 89%|████████▊ | 6374/7199 [47:05<03:09,  4.35it/s]"
     ]
    },
    {
     "name": "stdout",
     "output_type": "stream",
     "text": [
      "Error en el registro: 883863319226431674, URL: https://a0.muscache.com/pictures/ba781070-0a6c-49f1-9a57-bed6e5ec04c1.jpg\n"
     ]
    },
    {
     "name": "stderr",
     "output_type": "stream",
     "text": [
      " 89%|████████▊ | 6381/7199 [47:07<03:29,  3.90it/s]"
     ]
    },
    {
     "name": "stdout",
     "output_type": "stream",
     "text": [
      "Error en el registro: 886762078865571429, URL: https://a0.muscache.com/pictures/prohost-api/Hosting-886762078865571429/original/1648a07a-d7d6-47e7-862b-72a2f0b88bad.jpeg\n"
     ]
    },
    {
     "name": "stderr",
     "output_type": "stream",
     "text": [
      " 89%|████████▊ | 6389/7199 [47:09<02:36,  5.16it/s]"
     ]
    },
    {
     "name": "stdout",
     "output_type": "stream",
     "text": [
      "Error en el registro: 889981292721825976, URL: https://a0.muscache.com/pictures/miso/Hosting-889981292721825976/original/ac1af51e-e157-4338-b221-74c5e68f40eb.jpeg\n"
     ]
    },
    {
     "name": "stderr",
     "output_type": "stream",
     "text": [
      " 89%|████████▉ | 6418/7199 [47:16<03:30,  3.71it/s]"
     ]
    },
    {
     "name": "stdout",
     "output_type": "stream",
     "text": [
      "Error en el registro: 899769339425439911, URL: https://a0.muscache.com/pictures/prohost-api/Hosting-899769339425439911/original/9f930af1-d3ab-4110-b350-614c42a5a572.jpeg\n"
     ]
    },
    {
     "name": "stderr",
     "output_type": "stream",
     "text": [
      " 89%|████████▉ | 6430/7199 [47:21<04:03,  3.16it/s]"
     ]
    },
    {
     "name": "stdout",
     "output_type": "stream",
     "text": [
      "Error en el registro: 904194014030747377, URL: https://a0.muscache.com/pictures/prohost-api/Hosting-904194014030747377/original/ef61d82e-f20a-446a-9938-d04c678ac447.jpeg\n"
     ]
    },
    {
     "name": "stderr",
     "output_type": "stream",
     "text": [
      " 89%|████████▉ | 6438/7199 [47:23<03:22,  3.77it/s]"
     ]
    },
    {
     "name": "stdout",
     "output_type": "stream",
     "text": [
      "Error en el registro: 907906545606121142, URL: https://a0.muscache.com/pictures/miso/Hosting-907906545606121142/original/404e1bcd-e262-4ed0-805d-4ad4724b4344.jpeg\n"
     ]
    },
    {
     "name": "stderr",
     "output_type": "stream",
     "text": [
      " 90%|████████▉ | 6451/7199 [47:29<09:30,  1.31it/s]"
     ]
    },
    {
     "name": "stdout",
     "output_type": "stream",
     "text": [
      "Error en el registro: 913916379699820077, URL: https://a0.muscache.com/pictures/miso/Hosting-913916379699820077/original/449a92eb-8199-4c01-a3ed-a70d7a8e0119.jpeg\n"
     ]
    },
    {
     "name": "stderr",
     "output_type": "stream",
     "text": [
      " 90%|████████▉ | 6453/7199 [47:30<06:22,  1.95it/s]"
     ]
    },
    {
     "name": "stdout",
     "output_type": "stream",
     "text": [
      "Error en el registro: 913916382033140518, URL: https://a0.muscache.com/pictures/miso/Hosting-913916382033140518/original/a56651c0-71fe-445c-b9ff-0771f0c38032.jpeg\n"
     ]
    },
    {
     "name": "stderr",
     "output_type": "stream",
     "text": [
      " 90%|████████▉ | 6458/7199 [47:31<03:20,  3.69it/s]"
     ]
    },
    {
     "name": "stdout",
     "output_type": "stream",
     "text": [
      "Error en el registro: 914937299546374137, URL: https://a0.muscache.com/pictures/prohost-api/Hosting-914937299546374137/original/e0b571a8-fce7-4b3f-920f-11f9c6a0eeb0.jpeg\n",
      "Error en el registro: 914937604671048989, URL: https://a0.muscache.com/pictures/prohost-api/Hosting-914937604671048989/original/4b19638e-7744-4eea-94ac-713b96b968e9.jpeg\n"
     ]
    },
    {
     "name": "stderr",
     "output_type": "stream",
     "text": [
      " 90%|████████▉ | 6478/7199 [47:36<02:31,  4.75it/s]"
     ]
    },
    {
     "name": "stdout",
     "output_type": "stream",
     "text": [
      "Error en el registro: 920192802910045769, URL: https://a0.muscache.com/pictures/miso/Hosting-920192802910045769/original/b9091ffb-4f71-4605-928f-414bd6d08c05.jpeg\n"
     ]
    },
    {
     "name": "stderr",
     "output_type": "stream",
     "text": [
      " 90%|█████████ | 6480/7199 [47:37<02:52,  4.16it/s]"
     ]
    },
    {
     "name": "stdout",
     "output_type": "stream",
     "text": [
      "Error en el registro: 920305249278095220, URL: https://a0.muscache.com/pictures/miso/Hosting-920305249278095220/original/82ec111c-d2ba-4580-882c-5685576cbcad.jpeg\n"
     ]
    },
    {
     "name": "stderr",
     "output_type": "stream",
     "text": [
      " 90%|█████████ | 6484/7199 [47:37<02:39,  4.49it/s]"
     ]
    },
    {
     "name": "stdout",
     "output_type": "stream",
     "text": [
      "Error en el registro: 920595366557120290, URL: https://a0.muscache.com/pictures/prohost-api/Hosting-920595366557120290/original/ccf0e4cf-4ea8-489e-a91e-c452548f599e.jpeg\n"
     ]
    },
    {
     "name": "stderr",
     "output_type": "stream",
     "text": [
      " 90%|█████████ | 6499/7199 [47:42<02:18,  5.05it/s]"
     ]
    },
    {
     "name": "stdout",
     "output_type": "stream",
     "text": [
      "Error en el registro: 926909705378933833, URL: https://a0.muscache.com/pictures/prohost-api/Hosting-926909705378933833/original/c16207c3-527e-4796-b06a-afe376a0b714.jpeg\n"
     ]
    },
    {
     "name": "stderr",
     "output_type": "stream",
     "text": [
      " 90%|█████████ | 6507/7199 [47:45<04:45,  2.42it/s]"
     ]
    },
    {
     "name": "stdout",
     "output_type": "stream",
     "text": [
      "Error en el registro: 929285770816969080, URL: https://a0.muscache.com/pictures/miso/Hosting-929285770816969080/original/4e7e66b1-d451-4bbe-aba0-e1604a605c4f.jpeg\n"
     ]
    },
    {
     "name": "stderr",
     "output_type": "stream",
     "text": [
      " 91%|█████████ | 6520/7199 [47:50<03:53,  2.91it/s]"
     ]
    },
    {
     "name": "stdout",
     "output_type": "stream",
     "text": [
      "Error en el registro: 929770452264597730, URL: https://a0.muscache.com/pictures/prohost-api/Hosting-929770452264597730/original/7ce83896-a27d-4db0-8384-368d509695cc.jpeg\n"
     ]
    },
    {
     "name": "stderr",
     "output_type": "stream",
     "text": [
      " 91%|█████████ | 6521/7199 [47:51<03:28,  3.25it/s]"
     ]
    },
    {
     "name": "stdout",
     "output_type": "stream",
     "text": [
      "Error en el registro: 929784691737307760, URL: https://a0.muscache.com/pictures/miso/Hosting-929784691737307760/original/4af27405-eda7-440b-9708-208461793aea.jpeg\n"
     ]
    },
    {
     "name": "stderr",
     "output_type": "stream",
     "text": [
      " 91%|█████████ | 6523/7199 [47:51<02:48,  4.00it/s]"
     ]
    },
    {
     "name": "stdout",
     "output_type": "stream",
     "text": [
      "Error en el registro: 929790777252631206, URL: https://a0.muscache.com/pictures/43cfe8ce-6c16-4db4-ad1e-02fd04b3eaa8.jpg\n"
     ]
    },
    {
     "name": "stderr",
     "output_type": "stream",
     "text": [
      " 91%|█████████ | 6525/7199 [47:51<02:54,  3.87it/s]"
     ]
    },
    {
     "name": "stdout",
     "output_type": "stream",
     "text": [
      "Error en el registro: 933238026788932430, URL: https://a0.muscache.com/pictures/prohost-api/Hosting-933238026788932430/original/e5389ab7-ba26-44ef-969a-2fe8a1892eb8.jpeg\n"
     ]
    },
    {
     "name": "stderr",
     "output_type": "stream",
     "text": [
      " 91%|█████████ | 6527/7199 [47:52<02:31,  4.43it/s]"
     ]
    },
    {
     "name": "stdout",
     "output_type": "stream",
     "text": [
      "Error en el registro: 933341527778815745, URL: https://a0.muscache.com/pictures/miso/Hosting-933341527778815745/original/540b9069-5430-43b8-8f33-d79c1dc2a6ac.jpeg\n"
     ]
    },
    {
     "name": "stderr",
     "output_type": "stream",
     "text": [
      " 91%|█████████ | 6546/7199 [47:58<02:46,  3.93it/s]"
     ]
    },
    {
     "name": "stdout",
     "output_type": "stream",
     "text": [
      "Error en el registro: 934549104804900845, URL: https://a0.muscache.com/pictures/prohost-api/Hosting-934549104804900845/original/1a3beb56-aebc-4f4b-bb81-c23fbf17d5bf.jpeg\n"
     ]
    },
    {
     "name": "stderr",
     "output_type": "stream",
     "text": [
      " 91%|█████████ | 6550/7199 [47:59<03:05,  3.50it/s]"
     ]
    },
    {
     "name": "stdout",
     "output_type": "stream",
     "text": [
      "Error en el registro: 934846903887237232, URL: https://a0.muscache.com/pictures/miso/Hosting-934846903887237232/original/56045c56-d57a-4abc-ad08-750db085be2e.jpeg\n"
     ]
    },
    {
     "name": "stderr",
     "output_type": "stream",
     "text": [
      " 91%|█████████▏| 6574/7199 [48:05<02:02,  5.12it/s]"
     ]
    },
    {
     "name": "stdout",
     "output_type": "stream",
     "text": [
      "Error en el registro: 940287599154412651, URL: https://a0.muscache.com/pictures/prohost-api/Hosting-940287599154412651/original/c587ad66-a8f5-41e6-831b-e3704dbeca4a.jpeg\n"
     ]
    },
    {
     "name": "stderr",
     "output_type": "stream",
     "text": [
      " 92%|█████████▏| 6593/7199 [48:13<03:36,  2.80it/s]"
     ]
    },
    {
     "name": "stdout",
     "output_type": "stream",
     "text": [
      "Error en el registro: 945916288884011126, URL: https://a0.muscache.com/pictures/miso/Hosting-945916288884011126/original/2df8e4c9-eb81-47e8-8889-7b38e53abae9.jpeg\n"
     ]
    },
    {
     "name": "stderr",
     "output_type": "stream",
     "text": [
      " 92%|█████████▏| 6594/7199 [48:13<03:21,  3.00it/s]"
     ]
    },
    {
     "name": "stdout",
     "output_type": "stream",
     "text": [
      "Error en el registro: 946041881162753201, URL: https://a0.muscache.com/pictures/miso/Hosting-946041881162753201/original/8302b8b8-162b-44f4-afcb-bc45d5c4ffc4.jpeg\n"
     ]
    },
    {
     "name": "stderr",
     "output_type": "stream",
     "text": [
      " 92%|█████████▏| 6601/7199 [48:17<05:09,  1.93it/s]"
     ]
    },
    {
     "name": "stdout",
     "output_type": "stream",
     "text": [
      "Error en el registro: 947768183186382957, URL: https://a0.muscache.com/pictures/miso/Hosting-947768183186382957/original/06fd11ed-797c-4915-917b-3d401b8bd7bc.jpeg\n"
     ]
    },
    {
     "name": "stderr",
     "output_type": "stream",
     "text": [
      " 92%|█████████▏| 6603/7199 [48:18<03:40,  2.70it/s]"
     ]
    },
    {
     "name": "stdout",
     "output_type": "stream",
     "text": [
      "Error en el registro: 947785851072519783, URL: https://a0.muscache.com/pictures/miso/Hosting-947785851072519783/original/a4c8faea-b069-4f30-809d-5f3ae7d2c30e.jpeg\n",
      "Error en el registro: 947814132068385867, URL: https://a0.muscache.com/pictures/miso/Hosting-947814132068385867/original/3bff85af-0f89-447a-a61c-43cf4fcd3619.jpeg\n"
     ]
    },
    {
     "name": "stderr",
     "output_type": "stream",
     "text": [
      " 92%|█████████▏| 6606/7199 [48:19<04:49,  2.05it/s]"
     ]
    },
    {
     "name": "stdout",
     "output_type": "stream",
     "text": [
      "Error en el registro: 947846318188738138, URL: https://a0.muscache.com/pictures/miso/Hosting-947846318188738138/original/7cffaef3-6c98-4d8a-87d4-2e78e8ca524c.jpeg\n"
     ]
    },
    {
     "name": "stderr",
     "output_type": "stream",
     "text": [
      " 92%|█████████▏| 6607/7199 [48:20<04:02,  2.44it/s]"
     ]
    },
    {
     "name": "stdout",
     "output_type": "stream",
     "text": [
      "Error en el registro: 947863403518702980, URL: https://a0.muscache.com/pictures/miso/Hosting-947863403518702980/original/5b95a086-f155-4b0c-a5a6-2fe65e86a3d2.jpeg\n"
     ]
    },
    {
     "name": "stderr",
     "output_type": "stream",
     "text": [
      " 92%|█████████▏| 6608/7199 [48:20<03:44,  2.64it/s]"
     ]
    },
    {
     "name": "stdout",
     "output_type": "stream",
     "text": [
      "Error en el registro: 947884085061009785, URL: https://a0.muscache.com/pictures/miso/Hosting-947884085061009785/original/71b3cac6-42ff-4db8-804f-834c865634db.jpeg\n"
     ]
    },
    {
     "name": "stderr",
     "output_type": "stream",
     "text": [
      " 92%|█████████▏| 6612/7199 [48:21<02:40,  3.66it/s]"
     ]
    },
    {
     "name": "stdout",
     "output_type": "stream",
     "text": [
      "Error en el registro: 949154671772958720, URL: https://a0.muscache.com/pictures/miso/Hosting-949154671772958720/original/2b7f0abc-ba7b-4a43-a7be-5a6243c24413.jpeg\n"
     ]
    },
    {
     "name": "stderr",
     "output_type": "stream",
     "text": [
      " 92%|█████████▏| 6619/7199 [48:23<02:11,  4.40it/s]"
     ]
    },
    {
     "name": "stdout",
     "output_type": "stream",
     "text": [
      "Error en el registro: 950268256943159901, URL: https://a0.muscache.com/pictures/miso/Hosting-950268256943159901/original/e4f0fc64-8e95-404f-a288-5070043ed117.jpeg\n"
     ]
    },
    {
     "name": "stderr",
     "output_type": "stream",
     "text": [
      " 92%|█████████▏| 6629/7199 [48:26<03:26,  2.76it/s]"
     ]
    },
    {
     "name": "stdout",
     "output_type": "stream",
     "text": [
      "Error en el registro: 952456025026558868, URL: https://a0.muscache.com/pictures/f14adfde-4e40-463e-8afd-fac762f7cea4.jpg\n"
     ]
    },
    {
     "name": "stderr",
     "output_type": "stream",
     "text": [
      " 92%|█████████▏| 6636/7199 [48:28<02:28,  3.79it/s]"
     ]
    },
    {
     "name": "stdout",
     "output_type": "stream",
     "text": [
      "Error en el registro: 953750560515431624, URL: https://a0.muscache.com/pictures/miso/Hosting-953750560515431624/original/5a96c11d-5be2-4801-a52d-c08ced9692e2.jpeg\n"
     ]
    },
    {
     "name": "stderr",
     "output_type": "stream",
     "text": [
      " 92%|█████████▏| 6651/7199 [48:32<02:01,  4.52it/s]"
     ]
    },
    {
     "name": "stdout",
     "output_type": "stream",
     "text": [
      "Error en el registro: 955827663275316488, URL: https://a0.muscache.com/pictures/prohost-api/Hosting-955827663275316488/original/c3b9b3f5-898a-4ed0-b242-c26da0903201.jpeg\n"
     ]
    },
    {
     "name": "stderr",
     "output_type": "stream",
     "text": [
      " 93%|█████████▎| 6660/7199 [48:34<02:37,  3.41it/s]"
     ]
    },
    {
     "name": "stdout",
     "output_type": "stream",
     "text": [
      "Error en el registro: 958648577659799676, URL: https://a0.muscache.com/pictures/miso/Hosting-958648577659799676/original/9ad5cdd6-9295-4d90-81a6-98a88206be2b.jpeg\n"
     ]
    },
    {
     "name": "stderr",
     "output_type": "stream",
     "text": [
      " 93%|█████████▎| 6662/7199 [48:35<03:01,  2.96it/s]"
     ]
    },
    {
     "name": "stdout",
     "output_type": "stream",
     "text": [
      "Error en el registro: 959888489456599762, URL: https://a0.muscache.com/pictures/prohost-api/Hosting-959888489456599762/original/c72ecb2b-4c2b-4653-aeef-8c28bdb8e5d3.jpeg\n"
     ]
    },
    {
     "name": "stderr",
     "output_type": "stream",
     "text": [
      " 93%|█████████▎| 6666/7199 [48:36<02:11,  4.05it/s]"
     ]
    },
    {
     "name": "stdout",
     "output_type": "stream",
     "text": [
      "Error en el registro: 960441596149014714, URL: https://a0.muscache.com/pictures/miso/Hosting-960441596149014714/original/82e47454-ef57-48f4-8940-9b0c463c6772.jpeg\n"
     ]
    },
    {
     "name": "stderr",
     "output_type": "stream",
     "text": [
      " 93%|█████████▎| 6701/7199 [48:45<01:54,  4.34it/s]"
     ]
    },
    {
     "name": "stdout",
     "output_type": "stream",
     "text": [
      "Error en el registro: 968593353964170175, URL: https://a0.muscache.com/pictures/prohost-api/Hosting-968593353964170175/original/893ed19f-8ee2-41c6-a9fa-89883ef33054.jpeg\n"
     ]
    },
    {
     "name": "stderr",
     "output_type": "stream",
     "text": [
      " 94%|█████████▎| 6738/7199 [48:51<01:53,  4.05it/s]"
     ]
    },
    {
     "name": "stdout",
     "output_type": "stream",
     "text": [
      "Error en el registro: 972308791314572742, URL: https://a0.muscache.com/pictures/miso/Hosting-958648577659799676/original/9ad5cdd6-9295-4d90-81a6-98a88206be2b.jpeg\n"
     ]
    },
    {
     "name": "stderr",
     "output_type": "stream",
     "text": [
      " 94%|█████████▎| 6740/7199 [48:52<03:08,  2.43it/s]"
     ]
    },
    {
     "name": "stdout",
     "output_type": "stream",
     "text": [
      "Error en el registro: 972382373389698405, URL: https://a0.muscache.com/pictures/miso/Hosting-972382373389698405/original/e6c48367-1649-48e1-a5fa-5d8b540fe35a.jpeg\n"
     ]
    },
    {
     "name": "stderr",
     "output_type": "stream",
     "text": [
      " 94%|█████████▎| 6744/7199 [48:53<02:06,  3.59it/s]"
     ]
    },
    {
     "name": "stdout",
     "output_type": "stream",
     "text": [
      "Error en el registro: 973150249750755722, URL: https://a0.muscache.com/pictures/hosting/Hosting-973150249750755722/original/dae14b46-39fc-4d79-b15c-3dbb48d6b11d.jpeg\n"
     ]
    },
    {
     "name": "stderr",
     "output_type": "stream",
     "text": [
      " 94%|█████████▍| 6776/7199 [49:02<01:46,  3.98it/s]"
     ]
    },
    {
     "name": "stdout",
     "output_type": "stream",
     "text": [
      "Error en el registro: 981474662331880096, URL: https://a0.muscache.com/pictures/miso/Hosting-981474662331880096/original/fc0e625d-d629-4591-9ada-174d16a2de48.jpeg\n"
     ]
    },
    {
     "name": "stderr",
     "output_type": "stream",
     "text": [
      " 95%|█████████▍| 6805/7199 [49:15<02:19,  2.83it/s]"
     ]
    },
    {
     "name": "stdout",
     "output_type": "stream",
     "text": [
      "Error en el registro: 989119014716244187, URL: https://a0.muscache.com/pictures/miso/Hosting-989119014716244187/original/2dd60b81-2c0c-47d1-bdd6-184162af7014.png\n"
     ]
    },
    {
     "name": "stderr",
     "output_type": "stream",
     "text": [
      " 95%|█████████▍| 6816/7199 [49:18<01:29,  4.26it/s]"
     ]
    },
    {
     "name": "stdout",
     "output_type": "stream",
     "text": [
      "Error en el registro: 992271751387641106, URL: https://a0.muscache.com/pictures/prohost-api/Hosting-992271751387641106/original/de2d3ae0-5fdc-4cfd-b914-5c5b47955d09.jpeg\n"
     ]
    },
    {
     "name": "stderr",
     "output_type": "stream",
     "text": [
      " 95%|█████████▍| 6837/7199 [49:24<01:20,  4.52it/s]"
     ]
    },
    {
     "name": "stdout",
     "output_type": "stream",
     "text": [
      "Error en el registro: 998650346567438464, URL: https://a0.muscache.com/pictures/hosting/Hosting-998650346567438464/original/20048ffe-5c61-4602-b37a-2d9fb09e1f0a.jpeg\n"
     ]
    },
    {
     "name": "stderr",
     "output_type": "stream",
     "text": [
      " 96%|█████████▌| 6896/7199 [49:44<01:44,  2.91it/s]"
     ]
    },
    {
     "name": "stdout",
     "output_type": "stream",
     "text": [
      "Error en el registro: 1018290267718030960, URL: https://a0.muscache.com/pictures/miso/Hosting-947111916947155717/original/0cecdba9-f417-4263-82c1-6b44b8bca764.jpeg\n"
     ]
    },
    {
     "name": "stderr",
     "output_type": "stream",
     "text": [
      " 96%|█████████▌| 6918/7199 [49:54<02:17,  2.05it/s]"
     ]
    },
    {
     "name": "stdout",
     "output_type": "stream",
     "text": [
      "Error en el registro: 1022632138884104441, URL: https://a0.muscache.com/pictures/miso/Hosting-1022632138884104441/original/106e8264-b80e-4ebc-b7d2-edd873622e64.jpeg\n"
     ]
    },
    {
     "name": "stderr",
     "output_type": "stream",
     "text": [
      " 96%|█████████▌| 6925/7199 [49:56<01:10,  3.90it/s]"
     ]
    },
    {
     "name": "stdout",
     "output_type": "stream",
     "text": [
      "Error en el registro: 1023171573296711810, URL: https://a0.muscache.com/pictures/miso/Hosting-1023171573296711810/original/5e165f50-5d55-4066-a9e1-2869afad55d9.png\n"
     ]
    },
    {
     "name": "stderr",
     "output_type": "stream",
     "text": [
      " 96%|█████████▋| 6931/7199 [49:59<01:30,  2.97it/s]"
     ]
    },
    {
     "name": "stdout",
     "output_type": "stream",
     "text": [
      "Error en el registro: 1023236994504093679, URL: https://a0.muscache.com/pictures/prohost-api/Hosting-1023236994504093679/original/8a4ca110-73e3-495c-9c3c-22e7d7ad1956.jpeg\n"
     ]
    },
    {
     "name": "stderr",
     "output_type": "stream",
     "text": [
      " 96%|█████████▋| 6932/7199 [49:59<01:39,  2.69it/s]"
     ]
    },
    {
     "name": "stdout",
     "output_type": "stream",
     "text": [
      "Error en el registro: 1023250667892620550, URL: https://a0.muscache.com/pictures/miso/Hosting-1023250667892620550/original/98caa91b-37aa-49ba-8b68-2e5aecdb394a.png\n"
     ]
    },
    {
     "name": "stderr",
     "output_type": "stream",
     "text": [
      " 97%|█████████▋| 6961/7199 [50:08<01:04,  3.69it/s]"
     ]
    },
    {
     "name": "stdout",
     "output_type": "stream",
     "text": [
      "Error en el registro: 1024001223963546696, URL: https://a0.muscache.com/pictures/miso/Hosting-1024001223963546696/original/1d5139e3-0fdd-4f22-bc56-94c8bf765d3a.jpeg\n"
     ]
    },
    {
     "name": "stderr",
     "output_type": "stream",
     "text": [
      " 97%|█████████▋| 6964/7199 [50:09<00:52,  4.49it/s]"
     ]
    },
    {
     "name": "stdout",
     "output_type": "stream",
     "text": [
      "Error en el registro: 1024012837777489958, URL: https://a0.muscache.com/pictures/miso/Hosting-1024012837777489958/original/ba9b4b51-10bd-4718-9549-ca7c1a22299f.jpeg\n"
     ]
    },
    {
     "name": "stderr",
     "output_type": "stream",
     "text": [
      " 97%|█████████▋| 6967/7199 [50:10<01:10,  3.28it/s]"
     ]
    },
    {
     "name": "stdout",
     "output_type": "stream",
     "text": [
      "Error en el registro: 1024023972093973958, URL: https://a0.muscache.com/pictures/miso/Hosting-1024023972093973958/original/bf52704d-ae50-4f2f-b6f3-7041eb3bdff9.jpeg\n"
     ]
    },
    {
     "name": "stderr",
     "output_type": "stream",
     "text": [
      " 97%|█████████▋| 6975/7199 [50:12<00:59,  3.78it/s]"
     ]
    },
    {
     "name": "stdout",
     "output_type": "stream",
     "text": [
      "Error en el registro: 1024213782261169207, URL: https://a0.muscache.com/pictures/hosting/Hosting-1024213782261169207/original/09277bad-5476-408a-a2b1-c682cac6272b.jpeg\n"
     ]
    },
    {
     "name": "stderr",
     "output_type": "stream",
     "text": [
      " 97%|█████████▋| 6980/7199 [50:13<00:41,  5.22it/s]"
     ]
    },
    {
     "name": "stdout",
     "output_type": "stream",
     "text": [
      "Error en el registro: 1024263072659351531, URL: https://a0.muscache.com/pictures/miso/Hosting-1024263072659351531/original/c36e8f5d-d9ba-4651-a552-d67dfef1b468.jpeg\n",
      "Error en el registro: 1024275211393339254, URL: https://a0.muscache.com/pictures/miso/Hosting-1024263072659351531/original/c36e8f5d-d9ba-4651-a552-d67dfef1b468.jpeg\n"
     ]
    },
    {
     "name": "stderr",
     "output_type": "stream",
     "text": [
      " 97%|█████████▋| 6991/7199 [50:16<00:44,  4.69it/s]"
     ]
    },
    {
     "name": "stdout",
     "output_type": "stream",
     "text": [
      "Error en el registro: 1024642924142042035, URL: https://a0.muscache.com/pictures/miso/Hosting-1024642924142042035/original/8315a95d-62be-47bb-bbc5-9cc8e8ae21a8.jpeg\n"
     ]
    },
    {
     "name": "stderr",
     "output_type": "stream",
     "text": [
      " 97%|█████████▋| 7008/7199 [50:24<00:57,  3.31it/s]"
     ]
    },
    {
     "name": "stdout",
     "output_type": "stream",
     "text": [
      "Error en el registro: 1024766639203763026, URL: https://a0.muscache.com/pictures/miso/Hosting-1024766639203763026/original/b34f6b04-fae8-4850-8886-d113d81d8c2d.jpeg\n"
     ]
    },
    {
     "name": "stderr",
     "output_type": "stream",
     "text": [
      " 97%|█████████▋| 7016/7199 [50:25<00:30,  5.94it/s]"
     ]
    },
    {
     "name": "stdout",
     "output_type": "stream",
     "text": [
      "Error en el registro: 1024913449187984636, URL: https://a0.muscache.com/pictures/miso/Hosting-1024913449187984636/original/d7e4a424-4020-438c-b002-90e8260f31d4.jpeg\n"
     ]
    },
    {
     "name": "stderr",
     "output_type": "stream",
     "text": [
      " 98%|█████████▊| 7030/7199 [50:29<00:59,  2.85it/s]"
     ]
    },
    {
     "name": "stdout",
     "output_type": "stream",
     "text": [
      "Error en el registro: 1025387432542746150, URL: https://a0.muscache.com/pictures/miso/Hosting-1025387432542746150/original/eb58eafc-0060-4cec-9b88-802cdf15bd13.jpeg\n"
     ]
    },
    {
     "name": "stderr",
     "output_type": "stream",
     "text": [
      " 98%|█████████▊| 7039/7199 [50:32<00:33,  4.78it/s]"
     ]
    },
    {
     "name": "stdout",
     "output_type": "stream",
     "text": [
      "Error en el registro: 1025423935350953497, URL: https://a0.muscache.com/pictures/miso/Hosting-1025423935350953497/original/431d7db3-12ba-4b51-b913-9588f91079a7.jpeg\n"
     ]
    },
    {
     "name": "stderr",
     "output_type": "stream",
     "text": [
      " 98%|█████████▊| 7046/7199 [50:34<01:11,  2.13it/s]"
     ]
    },
    {
     "name": "stdout",
     "output_type": "stream",
     "text": [
      "Error en el registro: 1025469496917369707, URL: https://a0.muscache.com/pictures/miso/Hosting-1025469496917369707/original/739e77ca-b59d-46ef-bbdb-e94c9c862112.jpeg\n"
     ]
    },
    {
     "name": "stderr",
     "output_type": "stream",
     "text": [
      " 99%|█████████▊| 7096/7199 [50:48<00:22,  4.57it/s]"
     ]
    },
    {
     "name": "stdout",
     "output_type": "stream",
     "text": [
      "Error en el registro: 1029167143567713293, URL: https://a0.muscache.com/pictures/miso/Hosting-1029167143567713293/original/8d43b2c0-ec8a-4c1f-9816-36c57525b24c.jpeg\n"
     ]
    },
    {
     "name": "stderr",
     "output_type": "stream",
     "text": [
      " 99%|█████████▊| 7098/7199 [50:48<00:21,  4.69it/s]"
     ]
    },
    {
     "name": "stdout",
     "output_type": "stream",
     "text": [
      "Error en el registro: 1029205665203211474, URL: https://a0.muscache.com/pictures/miso/Hosting-1029205665203211474/original/0d0e4b16-57b7-4bad-a9af-930af25672cc.jpeg\n"
     ]
    },
    {
     "name": "stderr",
     "output_type": "stream",
     "text": [
      "100%|█████████▉| 7172/7199 [51:13<00:09,  2.96it/s]"
     ]
    },
    {
     "name": "stdout",
     "output_type": "stream",
     "text": [
      "Error en el registro: 1043585223983157783, URL: https://a0.muscache.com/pictures/miso/Hosting-1043585223983157783/original/7a07c496-de3b-42f0-869e-2dd753ef2a3c.jpeg\n"
     ]
    },
    {
     "name": "stderr",
     "output_type": "stream",
     "text": [
      "100%|██████████| 7199/7199 [51:30<00:00,  2.33it/s]\n"
     ]
    },
    {
     "name": "stdout",
     "output_type": "stream",
     "text": [
      "                       id                                       listing_url  \\\n",
      "0                    3781                 https://www.airbnb.com/rooms/3781   \n",
      "1                    5506                 https://www.airbnb.com/rooms/5506   \n",
      "2                    6695                 https://www.airbnb.com/rooms/6695   \n",
      "3                    8789                 https://www.airbnb.com/rooms/8789   \n",
      "4                   10813                https://www.airbnb.com/rooms/10813   \n",
      "...                   ...                                               ...   \n",
      "7194  1046563598019556549  https://www.airbnb.com/rooms/1046563598019556549   \n",
      "7195  1046568292864752336  https://www.airbnb.com/rooms/1046568292864752336   \n",
      "7196  1047166785349446101  https://www.airbnb.com/rooms/1047166785349446101   \n",
      "7197  1047226383263246733  https://www.airbnb.com/rooms/1047226383263246733   \n",
      "7198  1048051750111422883  https://www.airbnb.com/rooms/1048051750111422883   \n",
      "\n",
      "           scrape_id last_scraped       source  \\\n",
      "0     20231218233145   2023-12-19  city scrape   \n",
      "1     20231218233145   2023-12-19  city scrape   \n",
      "2     20231218233145   2023-12-19  city scrape   \n",
      "3     20231218233145   2023-12-19  city scrape   \n",
      "4     20231218233145   2023-12-19  city scrape   \n",
      "...              ...          ...          ...   \n",
      "7194  20231218233145   2023-12-19  city scrape   \n",
      "7195  20231218233145   2023-12-19  city scrape   \n",
      "7196  20231218233145   2023-12-19  city scrape   \n",
      "7197  20231218233145   2023-12-19  city scrape   \n",
      "7198  20231218233145   2023-12-19  city scrape   \n",
      "\n",
      "                                            picture_url    host_id  \\\n",
      "0     https://a0.muscache.com/pictures/24670/b2de044...       4804   \n",
      "1     https://a0.muscache.com/pictures/miso/Hosting-...       8229   \n",
      "2     https://a0.muscache.com/pictures/38ac4797-e7a4...       8229   \n",
      "3     https://a0.muscache.com/pictures/miso/Hosting-...      26988   \n",
      "4     https://a0.muscache.com/pictures/20b5b9c9-e1f4...      38997   \n",
      "...                                                 ...        ...   \n",
      "7194  https://a0.muscache.com/pictures/prohost-api/H...  212359760   \n",
      "7195  https://a0.muscache.com/pictures/prohost-api/H...  212359760   \n",
      "7196  https://a0.muscache.com/pictures/miso/Hosting-...  233908696   \n",
      "7197  https://a0.muscache.com/pictures/prohost-api/H...  212359760   \n",
      "7198  https://a0.muscache.com/pictures/e53f88a5-f860...  108724738   \n",
      "\n",
      "                                         host_url    host_name  host_since  \\\n",
      "0          https://www.airbnb.com/users/show/4804        Frank  2008-12-03   \n",
      "1          https://www.airbnb.com/users/show/8229        Terry  2009-02-19   \n",
      "2          https://www.airbnb.com/users/show/8229        Terry  2009-02-19   \n",
      "3         https://www.airbnb.com/users/show/26988         Anne  2009-07-22   \n",
      "4         https://www.airbnb.com/users/show/38997     Michelle  2009-09-16   \n",
      "...                                           ...          ...         ...   \n",
      "7194  https://www.airbnb.com/users/show/212359760      Evonify  2018-08-29   \n",
      "7195  https://www.airbnb.com/users/show/212359760      Evonify  2018-08-29   \n",
      "7196  https://www.airbnb.com/users/show/233908696  Together We  2019-01-02   \n",
      "7197  https://www.airbnb.com/users/show/212359760      Evonify  2018-08-29   \n",
      "7198  https://www.airbnb.com/users/show/108724738        Diogo  2016-12-27   \n",
      "\n",
      "      ... review_scores_communication review_scores_location  \\\n",
      "0     ...                        4.96                   4.88   \n",
      "1     ...                        4.89                   4.55   \n",
      "2     ...                        4.95                   4.51   \n",
      "3     ...                        4.96                   4.96   \n",
      "4     ...                        5.00                   5.00   \n",
      "...   ...                         ...                    ...   \n",
      "7194  ...                        5.00                   5.00   \n",
      "7195  ...                         NaN                    NaN   \n",
      "7196  ...                         NaN                    NaN   \n",
      "7197  ...                         NaN                    NaN   \n",
      "7198  ...                         NaN                    NaN   \n",
      "\n",
      "     review_scores_value                                            license  \\\n",
      "0                   4.92                                                NaN   \n",
      "1                   4.75                                         STR-490093   \n",
      "2                   4.71                                         STR-491702   \n",
      "3                   4.56                                                NaN   \n",
      "4                   4.80                                                NaN   \n",
      "...                  ...                                                ...   \n",
      "7194                5.00  Exempt: This listing is a unit that has contra...   \n",
      "7195                 NaN  Exempt: This listing is a unit that has contra...   \n",
      "7196                 NaN                                         STR-531165   \n",
      "7197                 NaN  Exempt: This listing is a unit that has contra...   \n",
      "7198                 NaN                                         STR-546808   \n",
      "\n",
      "     instant_bookable calculated_host_listings_count  \\\n",
      "0                   f                              1   \n",
      "1                   f                             10   \n",
      "2                   f                             10   \n",
      "3                   f                              9   \n",
      "4                   f                             11   \n",
      "...               ...                            ...   \n",
      "7194                f                             77   \n",
      "7195                f                             77   \n",
      "7196                t                              2   \n",
      "7197                f                             77   \n",
      "7198                f                              6   \n",
      "\n",
      "     calculated_host_listings_count_entire_homes  \\\n",
      "0                                              1   \n",
      "1                                             10   \n",
      "2                                             10   \n",
      "3                                              9   \n",
      "4                                             11   \n",
      "...                                          ...   \n",
      "7194                                          77   \n",
      "7195                                          77   \n",
      "7196                                           2   \n",
      "7197                                          77   \n",
      "7198                                           6   \n",
      "\n",
      "     calculated_host_listings_count_private_rooms  \\\n",
      "0                                               0   \n",
      "1                                               0   \n",
      "2                                               0   \n",
      "3                                               0   \n",
      "4                                               0   \n",
      "...                                           ...   \n",
      "7194                                            0   \n",
      "7195                                            0   \n",
      "7196                                            0   \n",
      "7197                                            0   \n",
      "7198                                            0   \n",
      "\n",
      "     calculated_host_listings_count_shared_rooms  reviews_per_month  \n",
      "0                                              0               0.23  \n",
      "1                                              0               0.68  \n",
      "2                                              0               0.73  \n",
      "3                                              0               0.24  \n",
      "4                                              0               0.09  \n",
      "...                                          ...                ...  \n",
      "7194                                           0               1.00  \n",
      "7195                                           0                NaN  \n",
      "7196                                           0                NaN  \n",
      "7197                                           0                NaN  \n",
      "7198                                           0                NaN  \n",
      "\n",
      "[6217 rows x 72 columns]\n"
     ]
    },
    {
     "name": "stderr",
     "output_type": "stream",
     "text": [
      "  0%|          | 15/7199 [00:07<1:12:24,  1.65it/s]"
     ]
    },
    {
     "name": "stdout",
     "output_type": "stream",
     "text": [
      "Error en el registro: 77691, URL: https://a0.muscache.com/pictures/18698089/0b22a030_original.jpg\n"
     ]
    },
    {
     "name": "stderr",
     "output_type": "stream",
     "text": [
      "  0%|          | 23/7199 [00:11<1:05:25,  1.83it/s]"
     ]
    },
    {
     "name": "stdout",
     "output_type": "stream",
     "text": [
      "Error en el registro: 220676, URL: https://a0.muscache.com/pictures/2143912/1608e26a_original.jpg\n"
     ]
    },
    {
     "name": "stderr",
     "output_type": "stream",
     "text": [
      "  1%|          | 50/7199 [00:22<1:06:48,  1.78it/s]"
     ]
    },
    {
     "name": "stdout",
     "output_type": "stream",
     "text": [
      "Error en el registro: 1130279, URL: https://a0.muscache.com/pictures/miso/Hosting-1130279/original/1ff92114-4883-42f1-90c2-a51fa75140ad.jpeg\n"
     ]
    },
    {
     "name": "stderr",
     "output_type": "stream",
     "text": [
      "  1%|          | 58/7199 [00:25<40:15,  2.96it/s]  "
     ]
    },
    {
     "name": "stdout",
     "output_type": "stream",
     "text": [
      "Error en el registro: 1445064, URL: https://a0.muscache.com/pictures/22175517/62b99022_original.jpg\n"
     ]
    },
    {
     "name": "stderr",
     "output_type": "stream",
     "text": [
      "  1%|          | 83/7199 [00:33<29:22,  4.04it/s]"
     ]
    },
    {
     "name": "stdout",
     "output_type": "stream",
     "text": [
      "Error en el registro: 2381143, URL: https://a0.muscache.com/pictures/miso/Hosting-2381143/original/fe2a01b1-7652-476f-b552-032879da8f04.png\n"
     ]
    },
    {
     "name": "stderr",
     "output_type": "stream",
     "text": [
      "  2%|▏         | 109/7199 [00:43<1:02:37,  1.89it/s]"
     ]
    },
    {
     "name": "stdout",
     "output_type": "stream",
     "text": [
      "Error en el registro: 4000384, URL: https://a0.muscache.com/pictures/c168962e-1a48-461d-a568-3ec4bf9a6c65.jpg\n"
     ]
    },
    {
     "name": "stderr",
     "output_type": "stream",
     "text": [
      "  2%|▏         | 110/7199 [00:44<52:16,  2.26it/s]  "
     ]
    },
    {
     "name": "stdout",
     "output_type": "stream",
     "text": [
      "Error en el registro: 4090224, URL: https://a0.muscache.com/pictures/miso/Hosting-4090224/original/ab9132a7-8b00-407f-a67a-9100b3c8707f.jpeg\n"
     ]
    },
    {
     "name": "stderr",
     "output_type": "stream",
     "text": [
      "  2%|▏         | 124/7199 [00:47<26:49,  4.40it/s]"
     ]
    },
    {
     "name": "stdout",
     "output_type": "stream",
     "text": [
      "Error en el registro: 4461846, URL: https://a0.muscache.com/pictures/prohost-api/Hosting-4461846/original/fc197865-7e72-4359-963f-ca4c1ce97bb5.jpeg\n"
     ]
    },
    {
     "name": "stderr",
     "output_type": "stream",
     "text": [
      "  2%|▏         | 135/7199 [00:52<46:21,  2.54it/s]"
     ]
    },
    {
     "name": "stdout",
     "output_type": "stream",
     "text": [
      "Error en el registro: 4623114, URL: https://a0.muscache.com/pictures/prohost-api/Hosting-4623114/original/7c8d41af-cbd1-4666-8705-937098a17bf2.jpeg\n"
     ]
    },
    {
     "name": "stderr",
     "output_type": "stream",
     "text": [
      "  2%|▏         | 138/7199 [00:53<36:24,  3.23it/s]"
     ]
    },
    {
     "name": "stdout",
     "output_type": "stream",
     "text": [
      "Error en el registro: 4662379, URL: https://a0.muscache.com/pictures/90646201/a9cbf501_original.jpg\n"
     ]
    },
    {
     "name": "stderr",
     "output_type": "stream",
     "text": [
      "  2%|▏         | 139/7199 [00:53<33:59,  3.46it/s]"
     ]
    },
    {
     "name": "stdout",
     "output_type": "stream",
     "text": [
      "Error en el registro: 4699828, URL: https://a0.muscache.com/pictures/72880628/d3e48f2c_original.jpg\n"
     ]
    },
    {
     "name": "stderr",
     "output_type": "stream",
     "text": [
      "  2%|▏         | 165/7199 [01:01<26:17,  4.46it/s]"
     ]
    },
    {
     "name": "stdout",
     "output_type": "stream",
     "text": [
      "Error en el registro: 5768819, URL: https://a0.muscache.com/pictures/fc3371ed-197d-4484-bd24-5d2281c9f356.jpg\n"
     ]
    },
    {
     "name": "stderr",
     "output_type": "stream",
     "text": [
      "  3%|▎         | 188/7199 [01:08<31:11,  3.75it/s]"
     ]
    },
    {
     "name": "stdout",
     "output_type": "stream",
     "text": [
      "Error en el registro: 6646604, URL: https://a0.muscache.com/pictures/miso/Hosting-6646604/original/0f04720b-b742-4aba-b252-2be9080145e9.jpeg\n"
     ]
    },
    {
     "name": "stderr",
     "output_type": "stream",
     "text": [
      "  3%|▎         | 231/7199 [01:23<20:21,  5.71it/s]  "
     ]
    },
    {
     "name": "stdout",
     "output_type": "stream",
     "text": [
      "Error en el registro: 7531700, URL: https://a0.muscache.com/pictures/prohost-api/Hosting-7531700/original/67306117-5e1a-46b6-b1a9-8694dc769b9c.jpeg\n"
     ]
    },
    {
     "name": "stderr",
     "output_type": "stream",
     "text": [
      "  3%|▎         | 240/7199 [01:25<19:44,  5.88it/s]"
     ]
    },
    {
     "name": "stdout",
     "output_type": "stream",
     "text": [
      "Error en el registro: 7837202, URL: https://a0.muscache.com/pictures/prohost-api/Hosting-7837202/original/37ec70e7-1b6c-415e-8ecf-7f8087aaca6d.jpeg\n"
     ]
    },
    {
     "name": "stderr",
     "output_type": "stream",
     "text": [
      "  4%|▍         | 273/7199 [01:35<26:36,  4.34it/s]"
     ]
    },
    {
     "name": "stdout",
     "output_type": "stream",
     "text": [
      "Error en el registro: 8923817, URL: https://a0.muscache.com/pictures/cb235ed0-66b6-4e23-8b32-9ef6bf35e9fb.jpg\n"
     ]
    },
    {
     "name": "stderr",
     "output_type": "stream",
     "text": [
      "  5%|▍         | 343/7199 [01:57<31:04,  3.68it/s]  "
     ]
    },
    {
     "name": "stdout",
     "output_type": "stream",
     "text": [
      "Error en el registro: 12949309, URL: https://a0.muscache.com/pictures/e3f457c4-5f1a-4151-a3c8-e53f161d57fb.jpg\n"
     ]
    },
    {
     "name": "stderr",
     "output_type": "stream",
     "text": [
      "  5%|▍         | 347/7199 [01:58<33:29,  3.41it/s]"
     ]
    },
    {
     "name": "stdout",
     "output_type": "stream",
     "text": [
      "Error en el registro: 13063952, URL: https://a0.muscache.com/pictures/10f6f3b2-e035-4e51-b533-08531934f3b9.jpg\n"
     ]
    },
    {
     "name": "stderr",
     "output_type": "stream",
     "text": [
      "  5%|▌         | 367/7199 [02:05<44:43,  2.55it/s]"
     ]
    },
    {
     "name": "stdout",
     "output_type": "stream",
     "text": [
      "Error en el registro: 13613229, URL: https://a0.muscache.com/pictures/7fef86ac-75ff-44a3-ae8a-60639f1548eb.jpg\n"
     ]
    },
    {
     "name": "stderr",
     "output_type": "stream",
     "text": [
      "  5%|▌         | 370/7199 [02:06<30:17,  3.76it/s]"
     ]
    },
    {
     "name": "stdout",
     "output_type": "stream",
     "text": [
      "Error en el registro: 13650313, URL: https://a0.muscache.com/pictures/prohost-api/Hosting-13650313/original/1713739f-5d53-45db-aa2e-611c2098615d.jpeg\n"
     ]
    },
    {
     "name": "stderr",
     "output_type": "stream",
     "text": [
      "  5%|▌         | 389/7199 [02:10<21:39,  5.24it/s]"
     ]
    },
    {
     "name": "stdout",
     "output_type": "stream",
     "text": [
      "Error en el registro: 14229841, URL: https://a0.muscache.com/pictures/prohost-api/Hosting-14229841/original/c611eaeb-4983-4a3c-9525-fcabb3b0fbf5.jpeg\n"
     ]
    },
    {
     "name": "stderr",
     "output_type": "stream",
     "text": [
      "  6%|▌         | 415/7199 [02:19<26:04,  4.34it/s]"
     ]
    },
    {
     "name": "stdout",
     "output_type": "stream",
     "text": [
      "Error en el registro: 14976039, URL: https://a0.muscache.com/pictures/prohost-api/Hosting-14976039/original/30b560e4-51f7-4f35-9b4d-343aa5074bc2.jpeg\n"
     ]
    },
    {
     "name": "stderr",
     "output_type": "stream",
     "text": [
      "  6%|▌         | 427/7199 [02:22<28:34,  3.95it/s]"
     ]
    },
    {
     "name": "stdout",
     "output_type": "stream",
     "text": [
      "Error en el registro: 15342021, URL: https://a0.muscache.com/pictures/f805da52-3971-4361-9881-f11775636c63.jpg\n"
     ]
    },
    {
     "name": "stderr",
     "output_type": "stream",
     "text": [
      "  6%|▌         | 434/7199 [02:26<51:28,  2.19it/s]  "
     ]
    },
    {
     "name": "stdout",
     "output_type": "stream",
     "text": [
      "Error en el registro: 15819226, URL: https://a0.muscache.com/pictures/0d0adcee-76b9-48bc-9dd7-aeca958a23a2.jpg\n"
     ]
    },
    {
     "name": "stderr",
     "output_type": "stream",
     "text": [
      "  6%|▌         | 445/7199 [02:29<22:24,  5.02it/s]"
     ]
    },
    {
     "name": "stdout",
     "output_type": "stream",
     "text": [
      "Error en el registro: 16148182, URL: https://a0.muscache.com/pictures/22ff0a41-874e-4723-b465-22d234d672e5.jpg\n"
     ]
    },
    {
     "name": "stderr",
     "output_type": "stream",
     "text": [
      "  6%|▋         | 464/7199 [02:35<54:22,  2.06it/s]  "
     ]
    },
    {
     "name": "stdout",
     "output_type": "stream",
     "text": [
      "Error en el registro: 17023481, URL: https://a0.muscache.com/pictures/prohost-api/Hosting-17023481/original/c66d1dcf-8cae-4a0f-b34d-e8a9da3882ab.jpeg\n"
     ]
    },
    {
     "name": "stderr",
     "output_type": "stream",
     "text": [
      "  6%|▋         | 465/7199 [02:35<48:09,  2.33it/s]"
     ]
    },
    {
     "name": "stdout",
     "output_type": "stream",
     "text": [
      "Error en el registro: 17042710, URL: https://a0.muscache.com/pictures/prohost-api/Hosting-17042710/original/0a2e4db0-4940-4a4b-b948-11bef8ec0ed5.jpeg\n"
     ]
    },
    {
     "name": "stderr",
     "output_type": "stream",
     "text": [
      "  7%|▋         | 484/7199 [02:42<35:43,  3.13it/s]  "
     ]
    },
    {
     "name": "stdout",
     "output_type": "stream",
     "text": [
      "Error en el registro: 17617918, URL: https://a0.muscache.com/pictures/prohost-api/Hosting-17617918/original/aa7f3f57-a69b-439a-941d-5367cf50ef7c.jpeg\n"
     ]
    },
    {
     "name": "stderr",
     "output_type": "stream",
     "text": [
      "  7%|▋         | 494/7199 [02:45<27:50,  4.01it/s]"
     ]
    },
    {
     "name": "stdout",
     "output_type": "stream",
     "text": [
      "Error en el registro: 17942707, URL: https://a0.muscache.com/pictures/e604dcf8-6900-4b02-9087-91eb98c1691a.jpg\n"
     ]
    },
    {
     "name": "stderr",
     "output_type": "stream",
     "text": [
      "  7%|▋         | 500/7199 [02:47<33:56,  3.29it/s]"
     ]
    },
    {
     "name": "stdout",
     "output_type": "stream",
     "text": [
      "Error en el registro: 18032982, URL: https://a0.muscache.com/pictures/prohost-api/Hosting-18032982/original/2c71e21b-33cd-4f6a-ae22-287cdeaedfc0.jpeg\n"
     ]
    },
    {
     "name": "stderr",
     "output_type": "stream",
     "text": [
      "  7%|▋         | 503/7199 [02:48<31:08,  3.58it/s]"
     ]
    },
    {
     "name": "stdout",
     "output_type": "stream",
     "text": [
      "Error en el registro: 18170647, URL: https://a0.muscache.com/pictures/miso/Hosting-18170647/original/d7c346d7-a904-4e8c-8356-4de5eb79c60f.jpeg\n"
     ]
    },
    {
     "name": "stderr",
     "output_type": "stream",
     "text": [
      "  8%|▊         | 552/7199 [03:10<25:48,  4.29it/s]  "
     ]
    },
    {
     "name": "stdout",
     "output_type": "stream",
     "text": [
      "Error en el registro: 19969497, URL: https://a0.muscache.com/pictures/miso/Hosting-19969497/original/2a822aed-e88f-4676-b990-1a719a44c0b4.jpeg\n"
     ]
    },
    {
     "name": "stderr",
     "output_type": "stream",
     "text": [
      "  8%|▊         | 603/7199 [03:28<26:30,  4.15it/s]"
     ]
    },
    {
     "name": "stdout",
     "output_type": "stream",
     "text": [
      "Error en el registro: 21596829, URL: https://a0.muscache.com/pictures/4ab44899-6a80-4b45-8671-d42196ed8350.jpg\n"
     ]
    },
    {
     "name": "stderr",
     "output_type": "stream",
     "text": [
      "  9%|▉         | 653/7199 [03:48<31:08,  3.50it/s]  "
     ]
    },
    {
     "name": "stdout",
     "output_type": "stream",
     "text": [
      "Error en el registro: 23289684, URL: https://a0.muscache.com/pictures/aeda0be5-b9b8-48b9-ab3d-dd9053e65734.jpg\n"
     ]
    },
    {
     "name": "stderr",
     "output_type": "stream",
     "text": [
      "  9%|▉         | 675/7199 [03:54<31:28,  3.45it/s]"
     ]
    },
    {
     "name": "stdout",
     "output_type": "stream",
     "text": [
      "Error en el registro: 23841523, URL: https://a0.muscache.com/pictures/9ba55672-3899-4b0e-b3a2-c6c5be9c463c.jpg\n"
     ]
    },
    {
     "name": "stderr",
     "output_type": "stream",
     "text": [
      "  9%|▉         | 677/7199 [03:55<33:47,  3.22it/s]"
     ]
    },
    {
     "name": "stdout",
     "output_type": "stream",
     "text": [
      "Error en el registro: 23912131, URL: https://a0.muscache.com/pictures/eb441f94-0f0b-4436-943d-f3f2bf5aa164.jpg\n"
     ]
    },
    {
     "name": "stderr",
     "output_type": "stream",
     "text": [
      " 10%|▉         | 692/7199 [03:59<30:43,  3.53it/s]"
     ]
    },
    {
     "name": "stdout",
     "output_type": "stream",
     "text": [
      "Error en el registro: 24347267, URL: https://a0.muscache.com/pictures/03944a33-597d-4f7c-9e69-271a62f221a6.jpg\n"
     ]
    },
    {
     "name": "stderr",
     "output_type": "stream",
     "text": [
      " 10%|▉         | 696/7199 [04:01<41:19,  2.62it/s]"
     ]
    },
    {
     "name": "stdout",
     "output_type": "stream",
     "text": [
      "Error en el registro: 24563107, URL: https://a0.muscache.com/pictures/43b67d11-54b2-4a2b-803e-ce693e25696e.jpg\n"
     ]
    },
    {
     "name": "stderr",
     "output_type": "stream",
     "text": [
      " 10%|▉         | 709/7199 [04:04<23:28,  4.61it/s]"
     ]
    },
    {
     "name": "stdout",
     "output_type": "stream",
     "text": [
      "Error en el registro: 24944930, URL: https://a0.muscache.com/pictures/75319c2e-294f-48dd-a5e8-76c5a2164d89.jpg\n"
     ]
    },
    {
     "name": "stderr",
     "output_type": "stream",
     "text": [
      " 10%|█         | 737/7199 [04:14<24:07,  4.46it/s]  "
     ]
    },
    {
     "name": "stdout",
     "output_type": "stream",
     "text": [
      "Error en el registro: 26160905, URL: https://a0.muscache.com/pictures/971baba7-a4a1-42c5-b690-b5bb8180cde2.jpg\n"
     ]
    },
    {
     "name": "stderr",
     "output_type": "stream",
     "text": [
      " 11%|█         | 774/7199 [04:25<26:09,  4.09it/s]"
     ]
    },
    {
     "name": "stdout",
     "output_type": "stream",
     "text": [
      "Error en el registro: 28360335, URL: https://a0.muscache.com/pictures/prohost-api/Hosting-28360335/original/c8d8cd53-ed9e-4831-ba48-a838f2ac2bcf.jpeg\n"
     ]
    },
    {
     "name": "stderr",
     "output_type": "stream",
     "text": [
      " 11%|█▏        | 810/7199 [04:37<36:45,  2.90it/s]  "
     ]
    },
    {
     "name": "stdout",
     "output_type": "stream",
     "text": [
      "Error en el registro: 29682500, URL: https://a0.muscache.com/pictures/pro_photo_tool/Hosting-29682500-unapproved/original/9b8998d9-840b-46b1-a25e-4789ff346f20.JPEG\n"
     ]
    },
    {
     "name": "stderr",
     "output_type": "stream",
     "text": [
      " 11%|█▏        | 811/7199 [04:37<33:06,  3.22it/s]"
     ]
    },
    {
     "name": "stdout",
     "output_type": "stream",
     "text": [
      "Error en el registro: 29702825, URL: https://a0.muscache.com/pictures/prohost-api/Hosting-29702825/original/32a037b0-43f1-4954-946b-9d1364829d04.jpeg\n"
     ]
    },
    {
     "name": "stderr",
     "output_type": "stream",
     "text": [
      " 11%|█▏        | 826/7199 [04:43<35:01,  3.03it/s]"
     ]
    },
    {
     "name": "stdout",
     "output_type": "stream",
     "text": [
      "Error en el registro: 30180140, URL: https://a0.muscache.com/pictures/48c10d62-5750-4364-9e3a-54439983cb6b.jpg\n"
     ]
    },
    {
     "name": "stderr",
     "output_type": "stream",
     "text": [
      " 12%|█▏        | 828/7199 [04:43<30:24,  3.49it/s]"
     ]
    },
    {
     "name": "stdout",
     "output_type": "stream",
     "text": [
      "Error en el registro: 30268517, URL: https://a0.muscache.com/pictures/9a56c86d-d5f3-4737-a658-1fd9885e8d61.jpg\n"
     ]
    },
    {
     "name": "stderr",
     "output_type": "stream",
     "text": [
      " 12%|█▏        | 833/7199 [04:45<31:37,  3.36it/s]"
     ]
    },
    {
     "name": "stdout",
     "output_type": "stream",
     "text": [
      "Error en el registro: 30390378, URL: https://a0.muscache.com/pictures/prohost-api/Hosting-30390378/original/244ec1dc-2c48-4e5e-84cf-fb57110e4bc7.jpeg\n",
      "Error en el registro: 30397078, URL: https://a0.muscache.com/pictures/prohost-api/Hosting-30397078/original/337887d6-4c7c-4550-9f1f-5e4ee671b8f6.jpeg\n"
     ]
    },
    {
     "name": "stderr",
     "output_type": "stream",
     "text": [
      " 12%|█▏        | 836/7199 [04:46<21:56,  4.83it/s]"
     ]
    },
    {
     "name": "stdout",
     "output_type": "stream",
     "text": [
      "Error en el registro: 30516467, URL: https://a0.muscache.com/pictures/prohost-api/Hosting-30516467/original/57a80027-7bdb-4fac-a4dd-5656631425d0.jpeg\n"
     ]
    },
    {
     "name": "stderr",
     "output_type": "stream",
     "text": [
      " 12%|█▏        | 847/7199 [04:50<32:18,  3.28it/s]  "
     ]
    },
    {
     "name": "stdout",
     "output_type": "stream",
     "text": [
      "Error en el registro: 31185088, URL: https://a0.muscache.com/pictures/2ce1fe90-fb8f-4136-afcd-6ecb91a3a624.jpg\n"
     ]
    },
    {
     "name": "stderr",
     "output_type": "stream",
     "text": [
      " 12%|█▏        | 863/7199 [04:56<29:59,  3.52it/s]  "
     ]
    },
    {
     "name": "stdout",
     "output_type": "stream",
     "text": [
      "Error en el registro: 32330465, URL: https://a0.muscache.com/pictures/miso/Hosting-32330465/original/7e2aa39c-61d9-41d8-97aa-393ee35fade9.png\n"
     ]
    },
    {
     "name": "stderr",
     "output_type": "stream",
     "text": [
      " 12%|█▏        | 864/7199 [04:56<28:18,  3.73it/s]"
     ]
    },
    {
     "name": "stdout",
     "output_type": "stream",
     "text": [
      "Error en el registro: 32330630, URL: https://a0.muscache.com/pictures/b848723a-0ed9-4b49-8c84-9d7eb14ce088.jpg\n"
     ]
    },
    {
     "name": "stderr",
     "output_type": "stream",
     "text": [
      " 12%|█▏        | 883/7199 [05:01<26:19,  4.00it/s]"
     ]
    },
    {
     "name": "stdout",
     "output_type": "stream",
     "text": [
      "Error en el registro: 33196944, URL: https://a0.muscache.com/pictures/prohost-api/Hosting-33196944/original/bb6a5cd0-7ee6-4465-824d-cd4cb0c5d652.jpeg\n"
     ]
    },
    {
     "name": "stderr",
     "output_type": "stream",
     "text": [
      " 12%|█▏        | 894/7199 [05:03<22:00,  4.78it/s]"
     ]
    },
    {
     "name": "stdout",
     "output_type": "stream",
     "text": [
      "Error en el registro: 33439464, URL: https://a0.muscache.com/pictures/prohost-api/Hosting-33439464/original/97081848-d2c3-47e1-8647-ac8af1c3f6dc.jpeg\n",
      "Error en el registro: 33440102, URL: https://a0.muscache.com/pictures/prohost-api/Hosting-33440102/original/9c6d9fa6-c962-4f7c-b69f-898bdd560ea4.jpeg\n"
     ]
    },
    {
     "name": "stderr",
     "output_type": "stream",
     "text": [
      " 12%|█▏        | 897/7199 [05:04<19:25,  5.41it/s]"
     ]
    },
    {
     "name": "stdout",
     "output_type": "stream",
     "text": [
      "Error en el registro: 33530646, URL: https://a0.muscache.com/pictures/a8cdc116-e934-4b9f-b8f2-91b8d69343b9.jpg\n"
     ]
    },
    {
     "name": "stderr",
     "output_type": "stream",
     "text": [
      " 13%|█▎        | 908/7199 [05:08<28:25,  3.69it/s]"
     ]
    },
    {
     "name": "stdout",
     "output_type": "stream",
     "text": [
      "Error en el registro: 34133759, URL: https://a0.muscache.com/pictures/prohost-api/Hosting-34133759/original/1dc53195-b06f-4fed-a860-92e1718bdccb.jpeg\n"
     ]
    },
    {
     "name": "stderr",
     "output_type": "stream",
     "text": [
      " 13%|█▎        | 919/7199 [05:11<33:27,  3.13it/s]"
     ]
    },
    {
     "name": "stdout",
     "output_type": "stream",
     "text": [
      "Error en el registro: 34974052, URL: https://a0.muscache.com/pictures/prohost-api/Hosting-34974052/original/80db035e-1445-4ce8-8314-e9175130884b.jpeg\n"
     ]
    },
    {
     "name": "stderr",
     "output_type": "stream",
     "text": [
      " 13%|█▎        | 934/7199 [05:16<26:29,  3.94it/s]"
     ]
    },
    {
     "name": "stdout",
     "output_type": "stream",
     "text": [
      "Error en el registro: 35481543, URL: https://a0.muscache.com/pictures/prohost-api/Hosting-35481543/original/38658947-e448-49ca-b0b2-607429f1b5b0.jpeg\n"
     ]
    },
    {
     "name": "stderr",
     "output_type": "stream",
     "text": [
      " 14%|█▎        | 980/7199 [05:31<32:27,  3.19it/s]"
     ]
    },
    {
     "name": "stdout",
     "output_type": "stream",
     "text": [
      "Error en el registro: 37068313, URL: https://a0.muscache.com/pictures/prohost-api/Hosting-37068313/original/c51bac91-f35e-4e1e-bb88-07934499bfdd.jpeg\n"
     ]
    },
    {
     "name": "stderr",
     "output_type": "stream",
     "text": [
      " 14%|█▎        | 987/7199 [05:33<29:09,  3.55it/s]"
     ]
    },
    {
     "name": "stdout",
     "output_type": "stream",
     "text": [
      "Error en el registro: 37709158, URL: https://a0.muscache.com/pictures/prohost-api/Hosting-37709158/original/09489cb1-f4c7-436f-a7e8-018a7079c658.jpeg\n"
     ]
    },
    {
     "name": "stderr",
     "output_type": "stream",
     "text": [
      " 14%|█▍        | 1006/7199 [05:39<30:55,  3.34it/s]"
     ]
    },
    {
     "name": "stdout",
     "output_type": "stream",
     "text": [
      "Error en el registro: 38178173, URL: https://a0.muscache.com/pictures/prohost-api/Hosting-38178173/original/e1b494b8-9fc3-466a-8789-9d3afa032807.jpeg\n",
      "Error en el registro: 38274887, URL: https://a0.muscache.com/pictures/prohost-api/Hosting-38274887/original/ee5fb630-9250-4f85-b0e7-794619ceedf6.jpeg\n"
     ]
    },
    {
     "name": "stderr",
     "output_type": "stream",
     "text": [
      " 14%|█▍        | 1015/7199 [05:42<24:47,  4.16it/s]"
     ]
    },
    {
     "name": "stdout",
     "output_type": "stream",
     "text": [
      "Error en el registro: 38513768, URL: https://a0.muscache.com/pictures/prohost-api/Hosting-38513768/original/43b5f7ad-a3a1-4019-993f-c5ebe3168d59.jpeg\n"
     ]
    },
    {
     "name": "stderr",
     "output_type": "stream",
     "text": [
      " 14%|█▍        | 1038/7199 [05:48<29:18,  3.50it/s]"
     ]
    },
    {
     "name": "stdout",
     "output_type": "stream",
     "text": [
      "Error en el registro: 39536784, URL: https://a0.muscache.com/pictures/miso/Hosting-39536784/original/d1c26658-a946-468a-9a39-c6a3dfb23691.jpeg\n"
     ]
    },
    {
     "name": "stderr",
     "output_type": "stream",
     "text": [
      " 15%|█▍        | 1050/7199 [05:51<20:32,  4.99it/s]"
     ]
    },
    {
     "name": "stdout",
     "output_type": "stream",
     "text": [
      "Error en el registro: 39908091, URL: https://a0.muscache.com/pictures/prohost-api/Hosting-39908091/original/17a09417-8eab-48b1-a21b-904f1837e84f.jpeg\n"
     ]
    },
    {
     "name": "stderr",
     "output_type": "stream",
     "text": [
      " 15%|█▍        | 1065/7199 [05:55<21:03,  4.86it/s]"
     ]
    },
    {
     "name": "stdout",
     "output_type": "stream",
     "text": [
      "Error en el registro: 40423797, URL: https://a0.muscache.com/pictures/prohost-api/Hosting-40423797/original/374a8e77-d840-480b-ba94-51b8d7337e0c.jpeg\n"
     ]
    },
    {
     "name": "stderr",
     "output_type": "stream",
     "text": [
      " 15%|█▍        | 1076/7199 [05:58<23:19,  4.38it/s]"
     ]
    },
    {
     "name": "stdout",
     "output_type": "stream",
     "text": [
      "Error en el registro: 40617998, URL: https://a0.muscache.com/pictures/miso/Hosting-40617998/original/6c9424ed-eaca-433f-9099-a9c9782dea58.jpeg\n"
     ]
    },
    {
     "name": "stderr",
     "output_type": "stream",
     "text": [
      " 15%|█▌        | 1092/7199 [06:04<26:16,  3.87it/s]  "
     ]
    },
    {
     "name": "stdout",
     "output_type": "stream",
     "text": [
      "Error en el registro: 41102403, URL: https://a0.muscache.com/pictures/prohost-api/Hosting-41102403/original/da9a9606-9604-4c01-b3ea-c1a3670b78e5.jpeg\n"
     ]
    },
    {
     "name": "stderr",
     "output_type": "stream",
     "text": [
      " 15%|█▌        | 1093/7199 [06:04<26:14,  3.88it/s]"
     ]
    },
    {
     "name": "stdout",
     "output_type": "stream",
     "text": [
      "Error en el registro: 41102476, URL: https://a0.muscache.com/pictures/prohost-api/Hosting-41102476/original/04617580-6650-48c9-8e4c-c00f54156a8c.jpeg\n"
     ]
    },
    {
     "name": "stderr",
     "output_type": "stream",
     "text": [
      " 15%|█▌        | 1103/7199 [06:08<33:51,  3.00it/s]"
     ]
    },
    {
     "name": "stdout",
     "output_type": "stream",
     "text": [
      "Error en el registro: 41614184, URL: https://a0.muscache.com/pictures/2d4d9af2-32eb-4fdd-8ce7-f2b5bdc94853.jpg\n"
     ]
    },
    {
     "name": "stderr",
     "output_type": "stream",
     "text": [
      " 15%|█▌        | 1106/7199 [06:09<34:05,  2.98it/s]"
     ]
    },
    {
     "name": "stdout",
     "output_type": "stream",
     "text": [
      "Error en el registro: 41765021, URL: https://a0.muscache.com/pictures/ee7985b8-9db3-4c5c-9143-b1ff052dd862.jpg\n"
     ]
    },
    {
     "name": "stderr",
     "output_type": "stream",
     "text": [
      " 15%|█▌        | 1107/7199 [06:09<31:04,  3.27it/s]"
     ]
    },
    {
     "name": "stdout",
     "output_type": "stream",
     "text": [
      "Error en el registro: 41785374, URL: https://a0.muscache.com/pictures/prohost-api/Hosting-41785374/original/61a91ae7-d44c-4914-8abd-db076afedf4f.jpeg\n"
     ]
    },
    {
     "name": "stderr",
     "output_type": "stream",
     "text": [
      " 15%|█▌        | 1108/7199 [06:09<28:29,  3.56it/s]"
     ]
    },
    {
     "name": "stdout",
     "output_type": "stream",
     "text": [
      "Error en el registro: 41785889, URL: https://a0.muscache.com/pictures/prohost-api/Hosting-41785889/original/8f975c1d-488b-432e-81ee-cdb79c1c02aa.jpeg\n"
     ]
    },
    {
     "name": "stderr",
     "output_type": "stream",
     "text": [
      " 15%|█▌        | 1110/7199 [06:10<28:28,  3.56it/s]"
     ]
    },
    {
     "name": "stdout",
     "output_type": "stream",
     "text": [
      "Error en el registro: 41903226, URL: https://a0.muscache.com/pictures/prohost-api/Hosting-41903226/original/7a269ac9-2f1b-4602-8bdf-4ff24a9a6777.jpeg\n"
     ]
    },
    {
     "name": "stderr",
     "output_type": "stream",
     "text": [
      " 15%|█▌        | 1112/7199 [06:10<24:05,  4.21it/s]"
     ]
    },
    {
     "name": "stdout",
     "output_type": "stream",
     "text": [
      "Error en el registro: 41925155, URL: https://a0.muscache.com/pictures/prohost-api/Hosting-41925155/original/2ea402f5-82d2-4893-99cf-0d6ceca7f403.jpeg\n"
     ]
    },
    {
     "name": "stderr",
     "output_type": "stream",
     "text": [
      " 16%|█▌        | 1116/7199 [06:11<23:44,  4.27it/s]"
     ]
    },
    {
     "name": "stdout",
     "output_type": "stream",
     "text": [
      "Error en el registro: 41953347, URL: https://a0.muscache.com/pictures/prohost-api/Hosting-41953347/original/920668ea-3248-402a-a2f4-e85a90c92ca1.jpeg\n",
      "Error en el registro: 41953381, URL: https://a0.muscache.com/pictures/prohost-api/Hosting-41953381/original/1dfc0495-f723-4331-8a89-4ac4d88edd0c.jpeg\n"
     ]
    },
    {
     "name": "stderr",
     "output_type": "stream",
     "text": [
      " 16%|█▌        | 1122/7199 [06:13<25:51,  3.92it/s]"
     ]
    },
    {
     "name": "stdout",
     "output_type": "stream",
     "text": [
      "Error en el registro: 42080174, URL: https://a0.muscache.com/pictures/prohost-api/Hosting-42080174/original/70a61753-d83a-4323-b5be-66365f32d0af.jpeg\n",
      "Error en el registro: 42080205, URL: https://a0.muscache.com/pictures/prohost-api/Hosting-42080205/original/180c0cef-eb46-4641-a6be-71872fc644ee.jpeg\n"
     ]
    },
    {
     "name": "stderr",
     "output_type": "stream",
     "text": [
      " 16%|█▌        | 1123/7199 [06:13<23:18,  4.35it/s]"
     ]
    },
    {
     "name": "stdout",
     "output_type": "stream",
     "text": [
      "Error en el registro: 42195053, URL: https://a0.muscache.com/pictures/prohost-api/Hosting-42195053/original/66a57514-4d25-4268-815b-68465adc5717.jpeg\n"
     ]
    },
    {
     "name": "stderr",
     "output_type": "stream",
     "text": [
      " 16%|█▌        | 1135/7199 [06:16<27:39,  3.65it/s]"
     ]
    },
    {
     "name": "stdout",
     "output_type": "stream",
     "text": [
      "Error en el registro: 42708089, URL: https://a0.muscache.com/pictures/prohost-api/Hosting-42708089/original/63e58680-832d-47de-b782-380659efda4c.jpeg\n",
      "Error en el registro: 42708127, URL: https://a0.muscache.com/pictures/prohost-api/Hosting-42708127/original/91eae4b5-4a53-444e-bbe9-db37ae477471.jpeg\n"
     ]
    },
    {
     "name": "stderr",
     "output_type": "stream",
     "text": [
      " 16%|█▌        | 1137/7199 [06:17<26:02,  3.88it/s]"
     ]
    },
    {
     "name": "stdout",
     "output_type": "stream",
     "text": [
      "Error en el registro: 42708174, URL: https://a0.muscache.com/pictures/prohost-api/Hosting-42708174/original/250bd918-a4d8-46d0-8bc9-e9a46413ec41.jpeg\n"
     ]
    },
    {
     "name": "stderr",
     "output_type": "stream",
     "text": [
      " 16%|█▌        | 1140/7199 [06:18<28:26,  3.55it/s]"
     ]
    },
    {
     "name": "stdout",
     "output_type": "stream",
     "text": [
      "Error en el registro: 42774598, URL: https://a0.muscache.com/pictures/miso/Hosting-42774598/original/73da70dc-380f-4d53-b7b3-755c0f255305.png\n"
     ]
    },
    {
     "name": "stderr",
     "output_type": "stream",
     "text": [
      " 16%|█▌        | 1158/7199 [06:21<19:17,  5.22it/s]"
     ]
    },
    {
     "name": "stdout",
     "output_type": "stream",
     "text": [
      "Error en el registro: 43032465, URL: https://a0.muscache.com/pictures/prohost-api/Hosting-43032465/original/28381099-f671-4471-8727-9e8084e47d4f.jpeg\n",
      "Error en el registro: 43032495, URL: https://a0.muscache.com/pictures/prohost-api/Hosting-43032495/original/58abc83b-2b8c-4176-9d7c-5bf91b42c49f.jpeg\n"
     ]
    },
    {
     "name": "stderr",
     "output_type": "stream",
     "text": [
      " 16%|█▌        | 1165/7199 [06:22<20:04,  5.01it/s]"
     ]
    },
    {
     "name": "stdout",
     "output_type": "stream",
     "text": [
      "Error en el registro: 43121210, URL: https://a0.muscache.com/pictures/prohost-api/Hosting-43121210/original/5f99a7da-d07c-43a4-8e67-92a31abe9695.jpeg\n"
     ]
    },
    {
     "name": "stderr",
     "output_type": "stream",
     "text": [
      " 16%|█▋        | 1172/7199 [06:24<19:38,  5.11it/s]"
     ]
    },
    {
     "name": "stdout",
     "output_type": "stream",
     "text": [
      "Error en el registro: 43301136, URL: https://a0.muscache.com/pictures/prohost-api/Hosting-43301136/original/373cca92-f25a-4d44-a5cb-c2e3c253e2d3.jpeg\n"
     ]
    },
    {
     "name": "stderr",
     "output_type": "stream",
     "text": [
      " 16%|█▋        | 1187/7199 [06:27<22:39,  4.42it/s]"
     ]
    },
    {
     "name": "stdout",
     "output_type": "stream",
     "text": [
      "Error en el registro: 43921666, URL: https://a0.muscache.com/pictures/prohost-api/Hosting-43921666/original/ff08f5f6-d1dd-435e-af2e-c7917dfcdc7d.jpeg\n"
     ]
    },
    {
     "name": "stderr",
     "output_type": "stream",
     "text": [
      " 17%|█▋        | 1190/7199 [06:27<21:22,  4.69it/s]"
     ]
    },
    {
     "name": "stdout",
     "output_type": "stream",
     "text": [
      "Error en el registro: 44053258, URL: https://a0.muscache.com/pictures/prohost-api/Hosting-44053258/original/48655a82-a536-465e-925a-b901943762e2.jpeg\n"
     ]
    },
    {
     "name": "stderr",
     "output_type": "stream",
     "text": [
      " 17%|█▋        | 1195/7199 [06:28<18:25,  5.43it/s]"
     ]
    },
    {
     "name": "stdout",
     "output_type": "stream",
     "text": [
      "Error en el registro: 44242670, URL: https://a0.muscache.com/pictures/prohost-api/Hosting-44242670/original/4b69e1a9-8664-4b90-a9f9-cd0a966df453.jpeg\n"
     ]
    },
    {
     "name": "stderr",
     "output_type": "stream",
     "text": [
      " 17%|█▋        | 1203/7199 [06:31<24:40,  4.05it/s]"
     ]
    },
    {
     "name": "stdout",
     "output_type": "stream",
     "text": [
      "Error en el registro: 44776954, URL: https://a0.muscache.com/pictures/prohost-api/Hosting-44776954/original/e20fbcfe-fd7e-48a4-9237-71d69f4d207f.jpeg\n",
      "Error en el registro: 44776967, URL: https://a0.muscache.com/pictures/prohost-api/Hosting-44776967/original/22009d99-ee7d-44ee-b6a5-e3d47e1dbf8a.jpeg\n"
     ]
    },
    {
     "name": "stderr",
     "output_type": "stream",
     "text": [
      " 17%|█▋        | 1208/7199 [06:32<18:38,  5.35it/s]"
     ]
    },
    {
     "name": "stdout",
     "output_type": "stream",
     "text": [
      "Error en el registro: 45031773, URL: https://a0.muscache.com/pictures/miso/Hosting-45031773/original/786af0d4-0eb3-4608-a4a3-895bc73c8fc7.jpeg\n",
      "Error en el registro: 45067711, URL: https://a0.muscache.com/pictures/miso/Hosting-45067711/original/54d23f39-6e1c-4118-8d0f-fcb82c101863.jpeg\n"
     ]
    },
    {
     "name": "stderr",
     "output_type": "stream",
     "text": [
      " 17%|█▋        | 1210/7199 [06:32<22:56,  4.35it/s]"
     ]
    },
    {
     "name": "stdout",
     "output_type": "stream",
     "text": [
      "Error en el registro: 45095953, URL: https://a0.muscache.com/pictures/prohost-api/Hosting-45095953/original/e530a1ff-ca52-4a5e-a210-2536b4d4678a.jpeg\n"
     ]
    },
    {
     "name": "stderr",
     "output_type": "stream",
     "text": [
      " 17%|█▋        | 1211/7199 [06:33<22:46,  4.38it/s]"
     ]
    },
    {
     "name": "stdout",
     "output_type": "stream",
     "text": [
      "Error en el registro: 45096003, URL: https://a0.muscache.com/pictures/prohost-api/Hosting-45096003/original/0c468432-5000-4423-97b2-5afda54e34f8.jpeg\n"
     ]
    },
    {
     "name": "stderr",
     "output_type": "stream",
     "text": [
      " 17%|█▋        | 1212/7199 [06:33<22:43,  4.39it/s]"
     ]
    },
    {
     "name": "stdout",
     "output_type": "stream",
     "text": [
      "Error en el registro: 45096017, URL: https://a0.muscache.com/pictures/prohost-api/Hosting-45096017/original/552d794b-b07e-4a21-a7b4-4e513fc2e6b9.jpeg\n"
     ]
    },
    {
     "name": "stderr",
     "output_type": "stream",
     "text": [
      " 17%|█▋        | 1213/7199 [06:33<23:15,  4.29it/s]"
     ]
    },
    {
     "name": "stdout",
     "output_type": "stream",
     "text": [
      "Error en el registro: 45112213, URL: https://a0.muscache.com/pictures/miso/Hosting-45112213/original/23220062-1037-4561-b0ff-fa9806e04863.jpeg\n"
     ]
    },
    {
     "name": "stderr",
     "output_type": "stream",
     "text": [
      " 17%|█▋        | 1215/7199 [06:33<21:40,  4.60it/s]"
     ]
    },
    {
     "name": "stdout",
     "output_type": "stream",
     "text": [
      "Error en el registro: 45136082, URL: https://a0.muscache.com/pictures/miso/Hosting-45136082/original/9d67ada5-de07-480a-a9fa-ceb0bac7f088.jpeg\n"
     ]
    },
    {
     "name": "stderr",
     "output_type": "stream",
     "text": [
      " 17%|█▋        | 1227/7199 [06:37<22:20,  4.46it/s]"
     ]
    },
    {
     "name": "stdout",
     "output_type": "stream",
     "text": [
      "Error en el registro: 45440353, URL: https://a0.muscache.com/pictures/246931ce-1d84-484a-bde7-4ee607f5d48e.jpg\n"
     ]
    },
    {
     "name": "stderr",
     "output_type": "stream",
     "text": [
      " 17%|█▋        | 1228/7199 [06:37<21:55,  4.54it/s]"
     ]
    },
    {
     "name": "stdout",
     "output_type": "stream",
     "text": [
      "Error en el registro: 45443503, URL: https://a0.muscache.com/pictures/prohost-api/Hosting-45443503/original/72ca2b6e-9420-4c81-856d-f3c4ec4cb6f8.jpeg\n"
     ]
    },
    {
     "name": "stderr",
     "output_type": "stream",
     "text": [
      " 17%|█▋        | 1232/7199 [06:39<27:39,  3.60it/s]"
     ]
    },
    {
     "name": "stdout",
     "output_type": "stream",
     "text": [
      "Error en el registro: 45494260, URL: https://a0.muscache.com/pictures/prohost-api/Hosting-45494260/original/245b92de-7b7d-4225-ae48-1b2321a8a501.jpeg\n"
     ]
    },
    {
     "name": "stderr",
     "output_type": "stream",
     "text": [
      " 17%|█▋        | 1234/7199 [06:39<24:58,  3.98it/s]"
     ]
    },
    {
     "name": "stdout",
     "output_type": "stream",
     "text": [
      "Error en el registro: 45501019, URL: https://a0.muscache.com/pictures/miso/Hosting-45501019/original/de13720d-7458-4897-b812-10c014117d01.png\n"
     ]
    },
    {
     "name": "stderr",
     "output_type": "stream",
     "text": [
      " 17%|█▋        | 1239/7199 [06:41<29:51,  3.33it/s]"
     ]
    },
    {
     "name": "stdout",
     "output_type": "stream",
     "text": [
      "Error en el registro: 45539765, URL: https://a0.muscache.com/pictures/prohost-api/Hosting-45539765/original/6ae8c686-fc70-4705-afc5-ef9177681289.jpeg\n"
     ]
    },
    {
     "name": "stderr",
     "output_type": "stream",
     "text": [
      " 17%|█▋        | 1249/7199 [06:44<30:35,  3.24it/s]"
     ]
    },
    {
     "name": "stdout",
     "output_type": "stream",
     "text": [
      "Error en el registro: 45679998, URL: https://a0.muscache.com/pictures/prohost-api/Hosting-45679998/original/2189dde9-1660-43fd-9f83-6b3b5cd0eec3.jpeg\n",
      "Error en el registro: 45680010, URL: https://a0.muscache.com/pictures/prohost-api/Hosting-45680010/original/c72ecce3-1fb0-4918-b50f-06df412d1f31.jpeg\n"
     ]
    },
    {
     "name": "stderr",
     "output_type": "stream",
     "text": [
      " 17%|█▋        | 1251/7199 [06:45<26:04,  3.80it/s]"
     ]
    },
    {
     "name": "stdout",
     "output_type": "stream",
     "text": [
      "Error en el registro: 45680018, URL: https://a0.muscache.com/pictures/prohost-api/Hosting-45680018/original/a60994d1-69e5-4aa8-adfb-e5a05ffeec5c.jpeg\n",
      "Error en el registro: 45680039, URL: https://a0.muscache.com/pictures/prohost-api/Hosting-45680039/original/ddeaafff-825d-41b2-ae9e-f6f620020533.jpeg\n"
     ]
    },
    {
     "name": "stderr",
     "output_type": "stream",
     "text": [
      " 17%|█▋        | 1253/7199 [06:45<21:12,  4.67it/s]"
     ]
    },
    {
     "name": "stdout",
     "output_type": "stream",
     "text": [
      "Error en el registro: 45689038, URL: https://a0.muscache.com/pictures/prohost-api/Hosting-45689038/original/c43dfacc-5def-4e24-a109-ad5de07a2f87.jpeg\n",
      "Error en el registro: 45689053, URL: https://a0.muscache.com/pictures/prohost-api/Hosting-45689053/original/5e267cf5-62f5-48ce-9f0d-aa460713e441.jpeg\n"
     ]
    },
    {
     "name": "stderr",
     "output_type": "stream",
     "text": [
      " 17%|█▋        | 1254/7199 [06:45<21:04,  4.70it/s]"
     ]
    },
    {
     "name": "stdout",
     "output_type": "stream",
     "text": [
      "Error en el registro: 45689060, URL: https://a0.muscache.com/pictures/prohost-api/Hosting-45689060/original/51ab7ef4-cd4b-4133-96a9-88a0f4f6b238.jpeg\n"
     ]
    },
    {
     "name": "stderr",
     "output_type": "stream",
     "text": [
      " 17%|█▋        | 1256/7199 [06:45<20:17,  4.88it/s]"
     ]
    },
    {
     "name": "stdout",
     "output_type": "stream",
     "text": [
      "Error en el registro: 45689110, URL: https://a0.muscache.com/pictures/prohost-api/Hosting-45689110/original/cf17e677-1be1-4046-9336-3d2e0d465310.jpeg\n",
      "Error en el registro: 45689125, URL: https://a0.muscache.com/pictures/prohost-api/Hosting-45689125/original/bf18064a-e844-46f9-8c3d-641e4c86950d.jpeg\n"
     ]
    },
    {
     "name": "stderr",
     "output_type": "stream",
     "text": [
      " 18%|█▊        | 1261/7199 [06:47<32:22,  3.06it/s]"
     ]
    },
    {
     "name": "stdout",
     "output_type": "stream",
     "text": [
      "Error en el registro: 45844741, URL: https://a0.muscache.com/pictures/miso/Hosting-45844741/original/2ebd7146-447a-43ad-a296-3a28eeb59c0e.jpeg\n"
     ]
    },
    {
     "name": "stderr",
     "output_type": "stream",
     "text": [
      " 18%|█▊        | 1266/7199 [06:48<22:46,  4.34it/s]"
     ]
    },
    {
     "name": "stdout",
     "output_type": "stream",
     "text": [
      "Error en el registro: 45999950, URL: https://a0.muscache.com/pictures/prohost-api/Hosting-45999950/original/ea2aeb8d-fbb5-4e6a-9dd2-4e1dac7ef52f.jpeg\n",
      "Error en el registro: 46000223, URL: https://a0.muscache.com/pictures/prohost-api/Hosting-46000223/original/27fd39ae-6eab-4143-bd24-d81504173816.jpeg\n"
     ]
    },
    {
     "name": "stderr",
     "output_type": "stream",
     "text": [
      " 18%|█▊        | 1268/7199 [06:49<23:31,  4.20it/s]"
     ]
    },
    {
     "name": "stdout",
     "output_type": "stream",
     "text": [
      "Error en el registro: 46051711, URL: https://a0.muscache.com/pictures/miso/Hosting-46051711/original/b072612e-50cd-49d1-9a8d-87ed25838c08.jpeg\n",
      "Error en el registro: 46074220, URL: https://a0.muscache.com/pictures/prohost-api/Hosting-46074220/original/8d519bd3-3811-48ab-81e8-eff68799db92.jpeg\n"
     ]
    },
    {
     "name": "stderr",
     "output_type": "stream",
     "text": [
      " 18%|█▊        | 1270/7199 [06:49<20:06,  4.92it/s]"
     ]
    },
    {
     "name": "stdout",
     "output_type": "stream",
     "text": [
      "Error en el registro: 46074729, URL: https://a0.muscache.com/pictures/prohost-api/Hosting-46074729/original/3ef2e84a-aafe-4f1e-b346-99ecf6f1f5f2.jpeg\n",
      "Error en el registro: 46074742, URL: https://a0.muscache.com/pictures/prohost-api/Hosting-46074742/original/5748e678-10d5-401b-af05-df788934f705.jpeg\n"
     ]
    },
    {
     "name": "stderr",
     "output_type": "stream",
     "text": [
      " 18%|█▊        | 1272/7199 [06:50<18:06,  5.45it/s]"
     ]
    },
    {
     "name": "stdout",
     "output_type": "stream",
     "text": [
      "Error en el registro: 46085675, URL: https://a0.muscache.com/pictures/prohost-api/Hosting-46085675/original/1d4604ad-47a4-4c9c-b844-40acd434fb3f.jpeg\n"
     ]
    },
    {
     "name": "stderr",
     "output_type": "stream",
     "text": [
      " 18%|█▊        | 1277/7199 [06:52<33:32,  2.94it/s]"
     ]
    },
    {
     "name": "stdout",
     "output_type": "stream",
     "text": [
      "Error en el registro: 46326668, URL: https://a0.muscache.com/pictures/56a7aa37-27a0-4247-ae7e-221ee644f389.jpg\n",
      "Error en el registro: 46330627, URL: https://a0.muscache.com/pictures/miso/Hosting-46330627/original/a575814a-418e-4fd4-a783-b4eca2817921.jpeg\n"
     ]
    },
    {
     "name": "stderr",
     "output_type": "stream",
     "text": [
      " 18%|█▊        | 1283/7199 [06:53<22:08,  4.45it/s]"
     ]
    },
    {
     "name": "stdout",
     "output_type": "stream",
     "text": [
      "Error en el registro: 46445272, URL: https://a0.muscache.com/pictures/prohost-api/Hosting-46445272/original/bdf6198d-01b9-4988-a99a-231d4e53782d.jpeg\n"
     ]
    },
    {
     "name": "stderr",
     "output_type": "stream",
     "text": [
      " 18%|█▊        | 1289/7199 [06:55<27:02,  3.64it/s]"
     ]
    },
    {
     "name": "stdout",
     "output_type": "stream",
     "text": [
      "Error en el registro: 46576175, URL: https://a0.muscache.com/pictures/prohost-api/Hosting-46576175/original/653c8eb1-d0fd-4d68-8e88-5b4898d32d98.jpeg\n"
     ]
    },
    {
     "name": "stderr",
     "output_type": "stream",
     "text": [
      " 18%|█▊        | 1290/7199 [06:56<31:40,  3.11it/s]"
     ]
    },
    {
     "name": "stdout",
     "output_type": "stream",
     "text": [
      "Error en el registro: 46576290, URL: https://a0.muscache.com/pictures/0826a430-939b-4a43-aa90-5e682f215465.jpg\n"
     ]
    },
    {
     "name": "stderr",
     "output_type": "stream",
     "text": [
      " 18%|█▊        | 1292/7199 [06:56<32:23,  3.04it/s]"
     ]
    },
    {
     "name": "stdout",
     "output_type": "stream",
     "text": [
      "Error en el registro: 46602042, URL: https://a0.muscache.com/pictures/prohost-api/Hosting-46602042/original/8a77cfa9-d271-4e7d-a98f-03d1c8abbd8b.jpeg\n"
     ]
    },
    {
     "name": "stderr",
     "output_type": "stream",
     "text": [
      " 18%|█▊        | 1293/7199 [06:57<30:16,  3.25it/s]"
     ]
    },
    {
     "name": "stdout",
     "output_type": "stream",
     "text": [
      "Error en el registro: 46696466, URL: https://a0.muscache.com/pictures/miso/Hosting-46696466/original/0ea7e189-c6df-4717-b1e4-2a5d32d01fa1.jpeg\n"
     ]
    },
    {
     "name": "stderr",
     "output_type": "stream",
     "text": [
      " 18%|█▊        | 1295/7199 [06:57<25:01,  3.93it/s]"
     ]
    },
    {
     "name": "stdout",
     "output_type": "stream",
     "text": [
      "Error en el registro: 46697368, URL: https://a0.muscache.com/pictures/miso/Hosting-46697368/original/7c297348-caf3-4d1e-8d70-41b1ad9b86e7.jpeg\n",
      "Error en el registro: 46730228, URL: https://a0.muscache.com/pictures/prohost-api/Hosting-46730228/original/b49d9f80-2bbc-42ad-aef8-dcc9d4ad8c6d.jpeg\n"
     ]
    },
    {
     "name": "stderr",
     "output_type": "stream",
     "text": [
      " 18%|█▊        | 1296/7199 [06:57<29:24,  3.34it/s]"
     ]
    },
    {
     "name": "stdout",
     "output_type": "stream",
     "text": [
      "Error en el registro: 46791068, URL: https://a0.muscache.com/pictures/prohost-api/Hosting-46791068/original/85efb204-1093-4e95-983c-00f405dd6f4c.jpeg\n"
     ]
    },
    {
     "name": "stderr",
     "output_type": "stream",
     "text": [
      " 18%|█▊        | 1297/7199 [06:58<27:46,  3.54it/s]"
     ]
    },
    {
     "name": "stdout",
     "output_type": "stream",
     "text": [
      "Error en el registro: 46791156, URL: https://a0.muscache.com/pictures/28f70459-7ac9-43bf-b2ca-740d5cbc70db.jpg\n"
     ]
    },
    {
     "name": "stderr",
     "output_type": "stream",
     "text": [
      " 18%|█▊        | 1308/7199 [07:02<28:25,  3.45it/s]  "
     ]
    },
    {
     "name": "stdout",
     "output_type": "stream",
     "text": [
      "Error en el registro: 46983650, URL: https://a0.muscache.com/pictures/93d160f5-78fc-4044-ac33-fdda1feb841f.jpg\n"
     ]
    },
    {
     "name": "stderr",
     "output_type": "stream",
     "text": [
      " 18%|█▊        | 1329/7199 [07:11<40:47,  2.40it/s]  "
     ]
    },
    {
     "name": "stdout",
     "output_type": "stream",
     "text": [
      "Error en el registro: 47408663, URL: https://a0.muscache.com/pictures/2010306b-5a95-4545-a825-c38a878b46b3.jpg\n"
     ]
    },
    {
     "name": "stderr",
     "output_type": "stream",
     "text": [
      " 19%|█▊        | 1339/7199 [07:14<24:22,  4.01it/s]"
     ]
    },
    {
     "name": "stdout",
     "output_type": "stream",
     "text": [
      "Error en el registro: 47576607, URL: https://a0.muscache.com/pictures/prohost-api/Hosting-47576607/original/2a8842a4-c900-4cd9-97de-2617a41b028a.jpeg\n"
     ]
    },
    {
     "name": "stderr",
     "output_type": "stream",
     "text": [
      " 19%|█▊        | 1343/7199 [07:15<18:43,  5.21it/s]"
     ]
    },
    {
     "name": "stdout",
     "output_type": "stream",
     "text": [
      "Error en el registro: 47873448, URL: https://a0.muscache.com/pictures/miso/Hosting-47873448/original/16fc99cc-292d-4383-b8a0-def7f17c1e64.jpeg\n"
     ]
    },
    {
     "name": "stderr",
     "output_type": "stream",
     "text": [
      " 19%|█▉        | 1360/7199 [07:20<28:23,  3.43it/s]"
     ]
    },
    {
     "name": "stdout",
     "output_type": "stream",
     "text": [
      "Error en el registro: 48103622, URL: https://a0.muscache.com/pictures/prohost-api/Hosting-48103622/original/6ccbbd9d-4601-45ea-b07f-b16358373780.jpeg\n"
     ]
    },
    {
     "name": "stderr",
     "output_type": "stream",
     "text": [
      " 19%|█▉        | 1362/7199 [07:21<23:47,  4.09it/s]"
     ]
    },
    {
     "name": "stdout",
     "output_type": "stream",
     "text": [
      "Error en el registro: 48103833, URL: https://a0.muscache.com/pictures/prohost-api/Hosting-48103833/original/313c9151-af54-4716-bffe-4d8a243bfd7d.jpeg\n",
      "Error en el registro: 48107926, URL: https://a0.muscache.com/pictures/prohost-api/Hosting-48107926/original/d9749ddd-ea24-451e-97c7-8eea156138f3.jpeg\n"
     ]
    },
    {
     "name": "stderr",
     "output_type": "stream",
     "text": [
      " 19%|█▉        | 1364/7199 [07:21<20:23,  4.77it/s]"
     ]
    },
    {
     "name": "stdout",
     "output_type": "stream",
     "text": [
      "Error en el registro: 48107968, URL: https://a0.muscache.com/pictures/prohost-api/Hosting-48107968/original/956795d8-27ef-4f54-8cca-ebfea3a6a425.jpeg\n"
     ]
    },
    {
     "name": "stderr",
     "output_type": "stream",
     "text": [
      " 19%|█▉        | 1370/7199 [07:23<20:48,  4.67it/s]"
     ]
    },
    {
     "name": "stdout",
     "output_type": "stream",
     "text": [
      "Error en el registro: 48231177, URL: https://a0.muscache.com/pictures/153d5cfa-95d5-4eb4-b45a-1809ff9f1c71.jpg\n"
     ]
    },
    {
     "name": "stderr",
     "output_type": "stream",
     "text": [
      " 19%|█▉        | 1376/7199 [07:24<22:56,  4.23it/s]"
     ]
    },
    {
     "name": "stdout",
     "output_type": "stream",
     "text": [
      "Error en el registro: 48248044, URL: https://a0.muscache.com/pictures/a5239f12-41bd-4ff2-81bb-4100667e064c.jpg\n"
     ]
    },
    {
     "name": "stderr",
     "output_type": "stream",
     "text": [
      " 19%|█▉        | 1385/7199 [07:26<18:29,  5.24it/s]"
     ]
    },
    {
     "name": "stdout",
     "output_type": "stream",
     "text": [
      "Error en el registro: 48454886, URL: https://a0.muscache.com/pictures/prohost-api/Hosting-48454886/original/17df10d9-f416-40a3-9d77-48eba91ff839.jpeg\n"
     ]
    },
    {
     "name": "stderr",
     "output_type": "stream",
     "text": [
      " 19%|█▉        | 1390/7199 [07:28<28:12,  3.43it/s]"
     ]
    },
    {
     "name": "stdout",
     "output_type": "stream",
     "text": [
      "Error en el registro: 48597887, URL: https://a0.muscache.com/pictures/prohost-api/Hosting-48597887/original/0df41515-85cb-40ca-9102-2c905c77914d.jpeg\n",
      "Error en el registro: 48597894, URL: https://a0.muscache.com/pictures/prohost-api/Hosting-48597894/original/9f1c5a32-2af5-4f0b-a247-413ff0972236.jpeg\n"
     ]
    },
    {
     "name": "stderr",
     "output_type": "stream",
     "text": [
      " 19%|█▉        | 1391/7199 [07:28<26:07,  3.70it/s]"
     ]
    },
    {
     "name": "stdout",
     "output_type": "stream",
     "text": [
      "Error en el registro: 48597943, URL: https://a0.muscache.com/pictures/prohost-api/Hosting-48597943/original/894b0ae3-272d-46c7-836d-c1ffa371739f.jpeg\n"
     ]
    },
    {
     "name": "stderr",
     "output_type": "stream",
     "text": [
      " 19%|█▉        | 1393/7199 [07:28<22:44,  4.25it/s]"
     ]
    },
    {
     "name": "stdout",
     "output_type": "stream",
     "text": [
      "Error en el registro: 48597948, URL: https://a0.muscache.com/pictures/prohost-api/Hosting-48597948/original/1447b820-5387-49bf-b1ae-f5eba0cced49.jpeg\n",
      "Error en el registro: 48597957, URL: https://a0.muscache.com/pictures/prohost-api/Hosting-48597957/original/43aa468b-dd06-456f-9e76-6e83810753b0.jpeg\n"
     ]
    },
    {
     "name": "stderr",
     "output_type": "stream",
     "text": [
      " 19%|█▉        | 1396/7199 [07:29<21:16,  4.55it/s]"
     ]
    },
    {
     "name": "stdout",
     "output_type": "stream",
     "text": [
      "Error en el registro: 48601985, URL: https://a0.muscache.com/pictures/prohost-api/Hosting-48601985/original/622c6996-32be-4f2c-a2a4-478f8a1c6a1b.jpeg\n"
     ]
    },
    {
     "name": "stderr",
     "output_type": "stream",
     "text": [
      " 20%|█▉        | 1418/7199 [07:35<18:21,  5.25it/s]"
     ]
    },
    {
     "name": "stdout",
     "output_type": "stream",
     "text": [
      "Error en el registro: 48881055, URL: https://a0.muscache.com/pictures/prohost-api/Hosting-48881055/original/f34c9c5f-4f9e-45a8-a30e-d0e054c8a4fa.jpeg\n"
     ]
    },
    {
     "name": "stderr",
     "output_type": "stream",
     "text": [
      " 20%|█▉        | 1422/7199 [07:37<41:10,  2.34it/s]"
     ]
    },
    {
     "name": "stdout",
     "output_type": "stream",
     "text": [
      "Error en el registro: 48926365, URL: https://a0.muscache.com/pictures/prohost-api/Hosting-48926365/original/a6b00f63-f34c-4149-a419-168c4987fa0a.jpeg\n"
     ]
    },
    {
     "name": "stderr",
     "output_type": "stream",
     "text": [
      " 20%|█▉        | 1424/7199 [07:37<30:37,  3.14it/s]"
     ]
    },
    {
     "name": "stdout",
     "output_type": "stream",
     "text": [
      "Error en el registro: 48926392, URL: https://a0.muscache.com/pictures/prohost-api/Hosting-48926392/original/8654b984-8f04-45ab-ae71-591a3f5f5c2b.jpeg\n",
      "Error en el registro: 48926432, URL: https://a0.muscache.com/pictures/prohost-api/Hosting-48926432/original/a61e4238-cac8-4486-b0cb-4d5dbf1f79e1.jpeg\n"
     ]
    },
    {
     "name": "stderr",
     "output_type": "stream",
     "text": [
      " 20%|██        | 1441/7199 [07:41<17:55,  5.35it/s]"
     ]
    },
    {
     "name": "stdout",
     "output_type": "stream",
     "text": [
      "Error en el registro: 49075129, URL: https://a0.muscache.com/pictures/74933c31-f5dc-4200-a2a0-a261e53f3038.jpg\n"
     ]
    },
    {
     "name": "stderr",
     "output_type": "stream",
     "text": [
      " 20%|██        | 1449/7199 [07:43<21:39,  4.42it/s]"
     ]
    },
    {
     "name": "stdout",
     "output_type": "stream",
     "text": [
      "Error en el registro: 49188782, URL: https://a0.muscache.com/pictures/prohost-api/Hosting-49188782/original/99f5948f-8279-420c-bf20-2dec587a0545.jpeg\n",
      "Error en el registro: 49188871, URL: https://a0.muscache.com/pictures/prohost-api/Hosting-49188871/original/72a83436-de2e-4952-a029-47af95fe4509.jpeg\n"
     ]
    },
    {
     "name": "stderr",
     "output_type": "stream",
     "text": [
      " 20%|██        | 1450/7199 [07:44<43:43,  2.19it/s]"
     ]
    },
    {
     "name": "stdout",
     "output_type": "stream",
     "text": [
      "Error en el registro: 49188886, URL: https://a0.muscache.com/pictures/prohost-api/Hosting-49188886/original/e2be830b-675b-410d-9880-1a6c94df52bf.jpeg\n"
     ]
    },
    {
     "name": "stderr",
     "output_type": "stream",
     "text": [
      " 20%|██        | 1451/7199 [07:45<36:44,  2.61it/s]"
     ]
    },
    {
     "name": "stdout",
     "output_type": "stream",
     "text": [
      "Error en el registro: 49188948, URL: https://a0.muscache.com/pictures/prohost-api/Hosting-49188948/original/9b76d76e-afdc-42ff-be88-58d40a4b170b.jpeg\n"
     ]
    },
    {
     "name": "stderr",
     "output_type": "stream",
     "text": [
      " 20%|██        | 1454/7199 [07:45<23:02,  4.15it/s]"
     ]
    },
    {
     "name": "stdout",
     "output_type": "stream",
     "text": [
      "Error en el registro: 49201633, URL: https://a0.muscache.com/pictures/prohost-api/Hosting-49201633/original/1c4c3312-2fe4-449a-bef7-80739db2cd29.jpeg\n"
     ]
    },
    {
     "name": "stderr",
     "output_type": "stream",
     "text": [
      " 20%|██        | 1457/7199 [07:46<18:46,  5.10it/s]"
     ]
    },
    {
     "name": "stdout",
     "output_type": "stream",
     "text": [
      "Error en el registro: 49341416, URL: https://a0.muscache.com/pictures/prohost-api/Hosting-49341416/original/daf693f1-9f0b-4cc3-8cff-9e743424db9a.jpeg\n"
     ]
    },
    {
     "name": "stderr",
     "output_type": "stream",
     "text": [
      " 20%|██        | 1461/7199 [07:47<23:51,  4.01it/s]"
     ]
    },
    {
     "name": "stdout",
     "output_type": "stream",
     "text": [
      "Error en el registro: 49459007, URL: https://a0.muscache.com/pictures/prohost-api/Hosting-49459007/original/0558fbae-15ab-4c6b-b91d-266fa8918ce6.jpeg\n"
     ]
    },
    {
     "name": "stderr",
     "output_type": "stream",
     "text": [
      " 20%|██        | 1474/7199 [07:50<19:30,  4.89it/s]"
     ]
    },
    {
     "name": "stdout",
     "output_type": "stream",
     "text": [
      "Error en el registro: 49610522, URL: https://a0.muscache.com/pictures/prohost-api/Hosting-49610522/original/1bf4855c-6543-48ae-bf14-e26f160dbf01.jpeg\n",
      "Error en el registro: 49610778, URL: https://a0.muscache.com/pictures/prohost-api/Hosting-49610778/original/d9163a9b-d195-4bd3-ab08-a40e8351411e.jpeg\n"
     ]
    },
    {
     "name": "stderr",
     "output_type": "stream",
     "text": [
      " 21%|██        | 1483/7199 [07:52<22:33,  4.22it/s]"
     ]
    },
    {
     "name": "stdout",
     "output_type": "stream",
     "text": [
      "Error en el registro: 49752414, URL: https://a0.muscache.com/pictures/prohost-api/Hosting-49752414/original/f81334c9-8612-4c66-b08b-577430dc07c6.jpeg\n",
      "Error en el registro: 49800523, URL: https://a0.muscache.com/pictures/prohost-api/Hosting-49800523/original/63fe1365-f4ee-4295-8cf2-e16f225955eb.jpeg\n"
     ]
    },
    {
     "name": "stderr",
     "output_type": "stream",
     "text": [
      " 21%|██        | 1487/7199 [07:53<25:47,  3.69it/s]"
     ]
    },
    {
     "name": "stdout",
     "output_type": "stream",
     "text": [
      "Error en el registro: 49916971, URL: https://a0.muscache.com/pictures/prohost-api/Hosting-49916971/original/f468740d-273a-4f68-ab34-abf7ae2125f1.jpeg\n"
     ]
    },
    {
     "name": "stderr",
     "output_type": "stream",
     "text": [
      " 21%|██        | 1489/7199 [07:53<23:07,  4.12it/s]"
     ]
    },
    {
     "name": "stdout",
     "output_type": "stream",
     "text": [
      "Error en el registro: 49916983, URL: https://a0.muscache.com/pictures/prohost-api/Hosting-49916983/original/d990404d-9367-42d8-9fce-f5ee52ec0310.jpeg\n",
      "Error en el registro: 49918081, URL: https://a0.muscache.com/pictures/prohost-api/Hosting-49918081/original/d09c0701-338b-4fad-ab86-3843a6aa77e1.jpeg\n"
     ]
    },
    {
     "name": "stderr",
     "output_type": "stream",
     "text": [
      " 21%|██        | 1499/7199 [07:55<17:07,  5.55it/s]"
     ]
    },
    {
     "name": "stdout",
     "output_type": "stream",
     "text": [
      "Error en el registro: 50017083, URL: https://a0.muscache.com/pictures/prohost-api/Hosting-50017083/original/0220a02b-87a1-4434-9134-67970feb377c.jpeg\n",
      "Error en el registro: 50017182, URL: https://a0.muscache.com/pictures/prohost-api/Hosting-50017182/original/945f194f-f893-4935-aa5c-08281a189922.jpeg\n"
     ]
    },
    {
     "name": "stderr",
     "output_type": "stream",
     "text": [
      " 21%|██        | 1503/7199 [07:56<17:30,  5.42it/s]"
     ]
    },
    {
     "name": "stdout",
     "output_type": "stream",
     "text": [
      "Error en el registro: 50042062, URL: https://a0.muscache.com/pictures/prohost-api/Hosting-50042062/original/5695dab1-486a-49c6-869c-f122a569cb66.jpeg\n"
     ]
    },
    {
     "name": "stderr",
     "output_type": "stream",
     "text": [
      " 21%|██        | 1506/7199 [07:56<17:18,  5.48it/s]"
     ]
    },
    {
     "name": "stdout",
     "output_type": "stream",
     "text": [
      "Error en el registro: 50079025, URL: https://a0.muscache.com/pictures/prohost-api/Hosting-50079025/original/09e0771a-9089-4b04-98f4-c694881868e0.jpeg\n"
     ]
    },
    {
     "name": "stderr",
     "output_type": "stream",
     "text": [
      " 21%|██        | 1508/7199 [07:57<16:43,  5.67it/s]"
     ]
    },
    {
     "name": "stdout",
     "output_type": "stream",
     "text": [
      "Error en el registro: 50084542, URL: https://a0.muscache.com/pictures/prohost-api/Hosting-50084542/original/c5e7b728-d2db-4021-8367-c12770be703f.jpeg\n"
     ]
    },
    {
     "name": "stderr",
     "output_type": "stream",
     "text": [
      " 21%|██        | 1516/7199 [07:59<24:31,  3.86it/s]"
     ]
    },
    {
     "name": "stdout",
     "output_type": "stream",
     "text": [
      "Error en el registro: 50206794, URL: https://a0.muscache.com/pictures/prohost-api/Hosting-50206794/original/cc4830dd-0e33-439b-938c-6f6dad9dec33.jpeg\n"
     ]
    },
    {
     "name": "stderr",
     "output_type": "stream",
     "text": [
      " 21%|██        | 1524/7199 [08:01<18:19,  5.16it/s]"
     ]
    },
    {
     "name": "stdout",
     "output_type": "stream",
     "text": [
      "Error en el registro: 50386523, URL: https://a0.muscache.com/pictures/prohost-api/Hosting-50386523/original/9445af86-b60f-4298-8a3c-ad67d8e211de.jpeg\n"
     ]
    },
    {
     "name": "stderr",
     "output_type": "stream",
     "text": [
      " 21%|██        | 1526/7199 [08:01<19:38,  4.82it/s]"
     ]
    },
    {
     "name": "stdout",
     "output_type": "stream",
     "text": [
      "Error en el registro: 50386543, URL: https://a0.muscache.com/pictures/prohost-api/Hosting-50386543/original/1cff2a6d-7883-48a9-ac73-c9919818e888.jpeg\n"
     ]
    },
    {
     "name": "stderr",
     "output_type": "stream",
     "text": [
      " 21%|██▏       | 1533/7199 [08:03<19:55,  4.74it/s]"
     ]
    },
    {
     "name": "stdout",
     "output_type": "stream",
     "text": [
      "Error en el registro: 50562977, URL: https://a0.muscache.com/pictures/prohost-api/Hosting-50562977/original/af9f1ab1-ee6b-4773-ad8e-1d1a8a854f0b.jpeg\n"
     ]
    },
    {
     "name": "stderr",
     "output_type": "stream",
     "text": [
      " 21%|██▏       | 1535/7199 [08:03<18:52,  5.00it/s]"
     ]
    },
    {
     "name": "stdout",
     "output_type": "stream",
     "text": [
      "Error en el registro: 50563099, URL: https://a0.muscache.com/pictures/prohost-api/Hosting-50563099/original/6a3bcfe3-357e-49f1-8e5e-61c95e5fe335.jpeg\n",
      "Error en el registro: 50563127, URL: https://a0.muscache.com/pictures/prohost-api/Hosting-50563127/original/07348b62-4fb4-4a0e-a588-ebb46bcf2195.jpeg\n"
     ]
    },
    {
     "name": "stderr",
     "output_type": "stream",
     "text": [
      " 21%|██▏       | 1538/7199 [08:04<22:45,  4.14it/s]"
     ]
    },
    {
     "name": "stdout",
     "output_type": "stream",
     "text": [
      "Error en el registro: 50608389, URL: https://a0.muscache.com/pictures/prohost-api/Hosting-50608389/original/ccda248e-99a6-4960-9344-085550adf82c.jpeg\n",
      "Error en el registro: 50608396, URL: https://a0.muscache.com/pictures/prohost-api/Hosting-50608396/original/9d78b34a-cbb6-449a-b4d8-240dcb9d05b0.jpeg\n"
     ]
    },
    {
     "name": "stderr",
     "output_type": "stream",
     "text": [
      " 22%|██▏       | 1569/7199 [08:14<24:53,  3.77it/s]"
     ]
    },
    {
     "name": "stdout",
     "output_type": "stream",
     "text": [
      "Error en el registro: 51274775, URL: https://a0.muscache.com/pictures/prohost-api/Hosting-51274775/original/599d0e88-2319-4fd1-a2c8-f57589e00ce8.jpeg\n",
      "Error en el registro: 51274818, URL: https://a0.muscache.com/pictures/prohost-api/Hosting-51274818/original/b362c342-f952-4104-ae93-178c82eec2b0.jpeg\n"
     ]
    },
    {
     "name": "stderr",
     "output_type": "stream",
     "text": [
      " 22%|██▏       | 1572/7199 [08:14<19:26,  4.83it/s]"
     ]
    },
    {
     "name": "stdout",
     "output_type": "stream",
     "text": [
      "Error en el registro: 51300156, URL: https://a0.muscache.com/pictures/prohost-api/Hosting-51300156/original/5c19dc35-5cc9-46c2-a33c-0b468a5f204f.jpeg\n"
     ]
    },
    {
     "name": "stderr",
     "output_type": "stream",
     "text": [
      " 22%|██▏       | 1582/7199 [08:17<22:42,  4.12it/s]"
     ]
    },
    {
     "name": "stdout",
     "output_type": "stream",
     "text": [
      "Error en el registro: 51402086, URL: https://a0.muscache.com/pictures/miso/Hosting-51402086/original/8a9e0597-ef2f-4450-b29b-a60871ca0aa3.jpeg\n"
     ]
    },
    {
     "name": "stderr",
     "output_type": "stream",
     "text": [
      " 22%|██▏       | 1591/7199 [08:20<31:59,  2.92it/s]"
     ]
    },
    {
     "name": "stdout",
     "output_type": "stream",
     "text": [
      "Error en el registro: 51572681, URL: https://a0.muscache.com/pictures/prohost-api/Hosting-51572681/original/f07bf279-db7c-4160-8d84-88fe466096b9.jpeg\n"
     ]
    },
    {
     "name": "stderr",
     "output_type": "stream",
     "text": [
      " 22%|██▏       | 1593/7199 [08:20<25:29,  3.67it/s]"
     ]
    },
    {
     "name": "stdout",
     "output_type": "stream",
     "text": [
      "Error en el registro: 51572775, URL: https://a0.muscache.com/pictures/prohost-api/Hosting-51572775/original/eeb5b893-08c2-4f88-8153-308efa95c258.jpeg\n",
      "Error en el registro: 51572785, URL: https://a0.muscache.com/pictures/prohost-api/Hosting-51572785/original/15ccce9c-36b1-47d4-bb41-7bd1445943d5.jpeg\n"
     ]
    },
    {
     "name": "stderr",
     "output_type": "stream",
     "text": [
      " 22%|██▏       | 1594/7199 [08:21<24:20,  3.84it/s]"
     ]
    },
    {
     "name": "stdout",
     "output_type": "stream",
     "text": [
      "Error en el registro: 51572791, URL: https://a0.muscache.com/pictures/prohost-api/Hosting-51572791/original/69db5550-a4db-4ce5-96b6-f9350277a516.jpeg\n"
     ]
    },
    {
     "name": "stderr",
     "output_type": "stream",
     "text": [
      " 22%|██▏       | 1596/7199 [08:21<20:07,  4.64it/s]"
     ]
    },
    {
     "name": "stdout",
     "output_type": "stream",
     "text": [
      "Error en el registro: 51573185, URL: https://a0.muscache.com/pictures/prohost-api/Hosting-51573185/original/1f184ccb-4077-4f7f-b74c-76a49a60860d.jpeg\n"
     ]
    },
    {
     "name": "stderr",
     "output_type": "stream",
     "text": [
      " 22%|██▏       | 1599/7199 [08:21<17:17,  5.40it/s]"
     ]
    },
    {
     "name": "stdout",
     "output_type": "stream",
     "text": [
      "Error en el registro: 51626666, URL: https://a0.muscache.com/pictures/miso/Hosting-51626666/original/0a3d7139-082e-4c22-a21c-519cefbdd9f2.jpeg\n",
      "Error en el registro: 51639653, URL: https://a0.muscache.com/pictures/miso/Hosting-51639653/original/7b511a90-694e-44d5-a188-9566a3ceb375.jpeg\n"
     ]
    },
    {
     "name": "stderr",
     "output_type": "stream",
     "text": [
      " 22%|██▏       | 1605/7199 [08:24<43:26,  2.15it/s]"
     ]
    },
    {
     "name": "stdout",
     "output_type": "stream",
     "text": [
      "Error en el registro: 51711675, URL: https://a0.muscache.com/pictures/miso/Hosting-51711675/original/2d3a66cc-81df-43ca-a855-275991c8fa05.jpeg\n"
     ]
    },
    {
     "name": "stderr",
     "output_type": "stream",
     "text": [
      " 22%|██▏       | 1606/7199 [08:25<36:08,  2.58it/s]"
     ]
    },
    {
     "name": "stdout",
     "output_type": "stream",
     "text": [
      "Error en el registro: 51721946, URL: https://a0.muscache.com/pictures/prohost-api/Hosting-51721946/original/94235a1f-8224-4aca-abaa-ae80e5976ae1.jpeg\n"
     ]
    },
    {
     "name": "stderr",
     "output_type": "stream",
     "text": [
      " 22%|██▏       | 1608/7199 [08:25<25:58,  3.59it/s]"
     ]
    },
    {
     "name": "stdout",
     "output_type": "stream",
     "text": [
      "Error en el registro: 51722040, URL: https://a0.muscache.com/pictures/prohost-api/Hosting-51722040/original/50fdf6b2-723f-4073-b395-41dc78e17cef.jpeg\n"
     ]
    },
    {
     "name": "stderr",
     "output_type": "stream",
     "text": [
      " 22%|██▏       | 1614/7199 [08:26<18:53,  4.93it/s]"
     ]
    },
    {
     "name": "stdout",
     "output_type": "stream",
     "text": [
      "Error en el registro: 51810948, URL: https://a0.muscache.com/pictures/prohost-api/Hosting-51810948/original/75535867-2424-4b40-b65f-4f77111bd3c1.jpeg\n"
     ]
    },
    {
     "name": "stderr",
     "output_type": "stream",
     "text": [
      " 22%|██▏       | 1616/7199 [08:27<19:07,  4.87it/s]"
     ]
    },
    {
     "name": "stdout",
     "output_type": "stream",
     "text": [
      "Error en el registro: 51812329, URL: https://a0.muscache.com/pictures/prohost-api/Hosting-51812329/original/483ba6af-a53f-489f-aab1-2a665512ec03.jpeg\n"
     ]
    },
    {
     "name": "stderr",
     "output_type": "stream",
     "text": [
      " 23%|██▎       | 1620/7199 [08:27<16:23,  5.68it/s]"
     ]
    },
    {
     "name": "stdout",
     "output_type": "stream",
     "text": [
      "Error en el registro: 51838132, URL: https://a0.muscache.com/pictures/prohost-api/Hosting-51838132/original/ed885fd6-cf96-406a-8ec9-ba48e511ec91.jpeg\n"
     ]
    },
    {
     "name": "stderr",
     "output_type": "stream",
     "text": [
      " 23%|██▎       | 1623/7199 [08:28<18:41,  4.97it/s]"
     ]
    },
    {
     "name": "stdout",
     "output_type": "stream",
     "text": [
      "Error en el registro: 51872976, URL: https://a0.muscache.com/pictures/prohost-api/Hosting-51872976/original/f4d017b0-bed3-4eca-a4b4-f5bb74938378.jpeg\n"
     ]
    },
    {
     "name": "stderr",
     "output_type": "stream",
     "text": [
      " 23%|██▎       | 1626/7199 [08:30<42:12,  2.20it/s]"
     ]
    },
    {
     "name": "stdout",
     "output_type": "stream",
     "text": [
      "Error en el registro: 52046024, URL: https://a0.muscache.com/pictures/prohost-api/Hosting-52046024/original/bd9db217-1a37-473c-9d04-c22554b514fe.jpeg\n"
     ]
    },
    {
     "name": "stderr",
     "output_type": "stream",
     "text": [
      " 23%|██▎       | 1636/7199 [08:34<31:56,  2.90it/s]"
     ]
    },
    {
     "name": "stdout",
     "output_type": "stream",
     "text": [
      "Error en el registro: 52124041, URL: https://a0.muscache.com/pictures/prohost-api/Hosting-52124041/original/6807a140-6ca6-463a-8329-94c9c0d44551.jpeg\n"
     ]
    },
    {
     "name": "stderr",
     "output_type": "stream",
     "text": [
      " 23%|██▎       | 1639/7199 [08:35<24:33,  3.77it/s]"
     ]
    },
    {
     "name": "stdout",
     "output_type": "stream",
     "text": [
      "Error en el registro: 52249525, URL: https://a0.muscache.com/pictures/prohost-api/Hosting-52249525/original/3a448371-fca1-436c-9cc9-f81c833761c7.jpeg\n"
     ]
    },
    {
     "name": "stderr",
     "output_type": "stream",
     "text": [
      " 23%|██▎       | 1642/7199 [08:35<23:00,  4.02it/s]"
     ]
    },
    {
     "name": "stdout",
     "output_type": "stream",
     "text": [
      "Error en el registro: 52312207, URL: https://a0.muscache.com/pictures/prohost-api/Hosting-52312207/original/d0d8cfa3-d106-4980-9715-3569462eb2ab.jpeg\n",
      "Error en el registro: 52358493, URL: https://a0.muscache.com/pictures/prohost-api/Hosting-52358493/original/7bce9df4-aacf-497e-af49-13106d0e6432.jpeg\n"
     ]
    },
    {
     "name": "stderr",
     "output_type": "stream",
     "text": [
      " 23%|██▎       | 1643/7199 [08:36<23:00,  4.02it/s]"
     ]
    },
    {
     "name": "stdout",
     "output_type": "stream",
     "text": [
      "Error en el registro: 52358553, URL: https://a0.muscache.com/pictures/prohost-api/Hosting-52358553/original/f9592681-544c-419b-8dbf-305c284f5d18.jpeg\n"
     ]
    },
    {
     "name": "stderr",
     "output_type": "stream",
     "text": [
      " 23%|██▎       | 1645/7199 [08:36<20:43,  4.47it/s]"
     ]
    },
    {
     "name": "stdout",
     "output_type": "stream",
     "text": [
      "Error en el registro: 52360274, URL: https://a0.muscache.com/pictures/prohost-api/Hosting-52360274/original/511853f7-19d1-462b-998b-e25771b2b21c.jpeg\n"
     ]
    },
    {
     "name": "stderr",
     "output_type": "stream",
     "text": [
      " 23%|██▎       | 1648/7199 [08:37<22:57,  4.03it/s]"
     ]
    },
    {
     "name": "stdout",
     "output_type": "stream",
     "text": [
      "Error en el registro: 52376819, URL: https://a0.muscache.com/pictures/prohost-api/Hosting-52376819/original/880d41b6-c749-44d7-a169-87ccd55b50eb.jpeg\n"
     ]
    },
    {
     "name": "stderr",
     "output_type": "stream",
     "text": [
      " 23%|██▎       | 1666/7199 [08:44<28:14,  3.27it/s]"
     ]
    },
    {
     "name": "stdout",
     "output_type": "stream",
     "text": [
      "Error en el registro: 52630071, URL: https://a0.muscache.com/pictures/prohost-api/Hosting-52630071/original/18d18a46-3286-4197-be11-60ac7b5baba4.jpeg\n"
     ]
    },
    {
     "name": "stderr",
     "output_type": "stream",
     "text": [
      " 23%|██▎       | 1671/7199 [08:45<27:27,  3.36it/s]"
     ]
    },
    {
     "name": "stdout",
     "output_type": "stream",
     "text": [
      "Error en el registro: 52637370, URL: https://a0.muscache.com/pictures/miso/Hosting-52637370/original/c527cd51-bb86-46de-b9a8-580359028a55.jpeg\n"
     ]
    },
    {
     "name": "stderr",
     "output_type": "stream",
     "text": [
      " 23%|██▎       | 1674/7199 [08:46<23:09,  3.98it/s]"
     ]
    },
    {
     "name": "stdout",
     "output_type": "stream",
     "text": [
      "Error en el registro: 52680602, URL: https://a0.muscache.com/pictures/prohost-api/Hosting-52680602/original/1d79caaf-8a57-48b2-8d3e-dabbd5b1d75d.jpeg\n"
     ]
    },
    {
     "name": "stderr",
     "output_type": "stream",
     "text": [
      " 23%|██▎       | 1676/7199 [08:47<32:03,  2.87it/s]"
     ]
    },
    {
     "name": "stdout",
     "output_type": "stream",
     "text": [
      "Error en el registro: 52680751, URL: https://a0.muscache.com/pictures/prohost-api/Hosting-52680751/original/6348b0ed-c12a-4c0f-bdbe-fa44b8f9897d.jpeg\n"
     ]
    },
    {
     "name": "stderr",
     "output_type": "stream",
     "text": [
      " 23%|██▎       | 1677/7199 [08:47<29:52,  3.08it/s]"
     ]
    },
    {
     "name": "stdout",
     "output_type": "stream",
     "text": [
      "Error en el registro: 52681618, URL: https://a0.muscache.com/pictures/prohost-api/Hosting-52681618/original/321ebf00-4c2c-4471-8a59-6c11e001d6a9.jpeg\n"
     ]
    },
    {
     "name": "stderr",
     "output_type": "stream",
     "text": [
      " 23%|██▎       | 1679/7199 [08:48<24:43,  3.72it/s]"
     ]
    },
    {
     "name": "stdout",
     "output_type": "stream",
     "text": [
      "Error en el registro: 52682307, URL: https://a0.muscache.com/pictures/prohost-api/Hosting-52682307/original/da6a3fe1-6dd1-4e9e-9e3f-2a1a0ee88b12.jpeg\n"
     ]
    },
    {
     "name": "stderr",
     "output_type": "stream",
     "text": [
      " 23%|██▎       | 1681/7199 [08:48<22:07,  4.16it/s]"
     ]
    },
    {
     "name": "stdout",
     "output_type": "stream",
     "text": [
      "Error en el registro: 52747167, URL: https://a0.muscache.com/pictures/prohost-api/Hosting-52747167/original/981d3c46-4544-4edf-80c3-01e17abb0942.jpeg\n"
     ]
    },
    {
     "name": "stderr",
     "output_type": "stream",
     "text": [
      " 23%|██▎       | 1688/7199 [08:51<29:15,  3.14it/s]"
     ]
    },
    {
     "name": "stdout",
     "output_type": "stream",
     "text": [
      "Error en el registro: 52891675, URL: https://a0.muscache.com/pictures/prohost-api/Hosting-52891675/original/d3f6e9e8-421f-4589-b06e-f6be60c8fc10.jpeg\n"
     ]
    },
    {
     "name": "stderr",
     "output_type": "stream",
     "text": [
      " 23%|██▎       | 1690/7199 [08:51<23:47,  3.86it/s]"
     ]
    },
    {
     "name": "stdout",
     "output_type": "stream",
     "text": [
      "Error en el registro: 52891687, URL: https://a0.muscache.com/pictures/prohost-api/Hosting-52891687/original/48fee597-262d-410c-b972-58665f70f713.jpeg\n"
     ]
    },
    {
     "name": "stderr",
     "output_type": "stream",
     "text": [
      " 24%|██▎       | 1693/7199 [08:52<26:23,  3.48it/s]"
     ]
    },
    {
     "name": "stdout",
     "output_type": "stream",
     "text": [
      "Error en el registro: 52922842, URL: https://a0.muscache.com/pictures/prohost-api/Hosting-52922842/original/8d76fa38-ee2d-4b41-a9f1-16d45c88fb98.jpeg\n"
     ]
    },
    {
     "name": "stderr",
     "output_type": "stream",
     "text": [
      " 24%|██▎       | 1695/7199 [08:53<22:01,  4.16it/s]"
     ]
    },
    {
     "name": "stdout",
     "output_type": "stream",
     "text": [
      "Error en el registro: 52928607, URL: https://a0.muscache.com/pictures/prohost-api/Hosting-52928607/original/8a9071c4-1c9e-4d78-8ebc-cee19cb71212.jpeg\n"
     ]
    },
    {
     "name": "stderr",
     "output_type": "stream",
     "text": [
      " 24%|██▎       | 1698/7199 [08:53<20:34,  4.46it/s]"
     ]
    },
    {
     "name": "stdout",
     "output_type": "stream",
     "text": [
      "Error en el registro: 53026499, URL: https://a0.muscache.com/pictures/prohost-api/Hosting-53026499/original/fe966eed-eb34-46eb-925c-56eac2b6583d.jpeg\n",
      "Error en el registro: 53026691, URL: https://a0.muscache.com/pictures/prohost-api/Hosting-53026691/original/3a060fb9-690a-4753-b88d-dd813b359c65.jpeg\n"
     ]
    },
    {
     "name": "stderr",
     "output_type": "stream",
     "text": [
      " 24%|██▎       | 1700/7199 [08:54<18:23,  4.98it/s]"
     ]
    },
    {
     "name": "stdout",
     "output_type": "stream",
     "text": [
      "Error en el registro: 53026920, URL: https://a0.muscache.com/pictures/prohost-api/Hosting-53026920/original/2da62353-bc6b-470e-8a9a-66e90a75acaf.jpeg\n",
      "Error en el registro: 53027109, URL: https://a0.muscache.com/pictures/prohost-api/Hosting-53027109/original/d5272567-0970-4654-9850-67dcf4ceb4e7.jpeg\n"
     ]
    },
    {
     "name": "stderr",
     "output_type": "stream",
     "text": [
      " 24%|██▎       | 1702/7199 [08:54<18:33,  4.94it/s]"
     ]
    },
    {
     "name": "stdout",
     "output_type": "stream",
     "text": [
      "Error en el registro: 53027280, URL: https://a0.muscache.com/pictures/prohost-api/Hosting-53027280/original/978d5cf7-184a-4cc3-8825-c8ad4808f916.jpeg\n",
      "Error en el registro: 53027387, URL: https://a0.muscache.com/pictures/prohost-api/Hosting-53027387/original/175d1bfa-b960-4dc0-897c-da50c7e87af8.jpeg\n"
     ]
    },
    {
     "name": "stderr",
     "output_type": "stream",
     "text": [
      " 24%|██▎       | 1703/7199 [08:54<17:37,  5.20it/s]"
     ]
    },
    {
     "name": "stdout",
     "output_type": "stream",
     "text": [
      "Error en el registro: 53030044, URL: https://a0.muscache.com/pictures/prohost-api/Hosting-53030044/original/bc548525-e3d7-4ec3-9d25-2a856b21d70c.jpeg\n"
     ]
    },
    {
     "name": "stderr",
     "output_type": "stream",
     "text": [
      " 24%|██▎       | 1704/7199 [08:54<18:29,  4.95it/s]"
     ]
    },
    {
     "name": "stdout",
     "output_type": "stream",
     "text": [
      "Error en el registro: 53056956, URL: https://a0.muscache.com/pictures/prohost-api/Hosting-53056956/original/cac4b366-899a-4716-82ce-7d7f5f44a48e.jpeg\n"
     ]
    },
    {
     "name": "stderr",
     "output_type": "stream",
     "text": [
      " 24%|██▎       | 1709/7199 [08:55<18:01,  5.08it/s]"
     ]
    },
    {
     "name": "stdout",
     "output_type": "stream",
     "text": [
      "Error en el registro: 53105012, URL: https://a0.muscache.com/pictures/prohost-api/Hosting-53105012/original/d00bed5c-ee7b-472d-a1e2-f799ce22f565.jpeg\n"
     ]
    },
    {
     "name": "stderr",
     "output_type": "stream",
     "text": [
      " 24%|██▍       | 1719/7199 [08:59<19:27,  4.69it/s]"
     ]
    },
    {
     "name": "stdout",
     "output_type": "stream",
     "text": [
      "Error en el registro: 53179806, URL: https://a0.muscache.com/pictures/prohost-api/Hosting-53179806/original/29613086-755a-4778-9467-67d8cb915c89.jpeg\n"
     ]
    },
    {
     "name": "stderr",
     "output_type": "stream",
     "text": [
      " 24%|██▍       | 1720/7199 [08:59<18:09,  5.03it/s]"
     ]
    },
    {
     "name": "stdout",
     "output_type": "stream",
     "text": [
      "Error en el registro: 53185790, URL: https://a0.muscache.com/pictures/9fb3b90f-d3e3-447f-96d6-a73d1cc6503b.jpg\n"
     ]
    },
    {
     "name": "stderr",
     "output_type": "stream",
     "text": [
      " 24%|██▍       | 1732/7199 [09:02<30:09,  3.02it/s]"
     ]
    },
    {
     "name": "stdout",
     "output_type": "stream",
     "text": [
      "Error en el registro: 53307896, URL: https://a0.muscache.com/pictures/prohost-api/Hosting-53307896/original/bdfcb0d8-ae48-425d-84de-f68417c99b15.jpeg\n"
     ]
    },
    {
     "name": "stderr",
     "output_type": "stream",
     "text": [
      " 24%|██▍       | 1733/7199 [09:02<26:55,  3.38it/s]"
     ]
    },
    {
     "name": "stdout",
     "output_type": "stream",
     "text": [
      "Error en el registro: 53307955, URL: https://a0.muscache.com/pictures/prohost-api/Hosting-53307955/original/3d10cd62-2f28-4aa2-81aa-f9d19696a03d.jpeg\n"
     ]
    },
    {
     "name": "stderr",
     "output_type": "stream",
     "text": [
      " 24%|██▍       | 1734/7199 [09:03<26:10,  3.48it/s]"
     ]
    },
    {
     "name": "stdout",
     "output_type": "stream",
     "text": [
      "Error en el registro: 53321922, URL: https://a0.muscache.com/pictures/cc9e1538-7ac2-47c5-8322-32db49b813d4.jpg\n"
     ]
    },
    {
     "name": "stderr",
     "output_type": "stream",
     "text": [
      " 24%|██▍       | 1739/7199 [09:04<19:38,  4.63it/s]"
     ]
    },
    {
     "name": "stdout",
     "output_type": "stream",
     "text": [
      "Error en el registro: 53378837, URL: https://a0.muscache.com/pictures/9b24444b-a3f2-4be7-a13c-07df8d94a5f4.jpg\n"
     ]
    },
    {
     "name": "stderr",
     "output_type": "stream",
     "text": [
      " 24%|██▍       | 1741/7199 [09:05<32:37,  2.79it/s]"
     ]
    },
    {
     "name": "stdout",
     "output_type": "stream",
     "text": [
      "Error en el registro: 53428804, URL: https://a0.muscache.com/pictures/prohost-api/Hosting-53428804/original/be2eaed8-9b31-480d-98f8-101ab09463ab.jpeg\n"
     ]
    },
    {
     "name": "stderr",
     "output_type": "stream",
     "text": [
      " 24%|██▍       | 1743/7199 [09:05<23:21,  3.89it/s]"
     ]
    },
    {
     "name": "stdout",
     "output_type": "stream",
     "text": [
      "Error en el registro: 53462366, URL: https://a0.muscache.com/pictures/prohost-api/Hosting-53462366/original/a68d8ef5-de1b-4d65-ab7e-d75ab3e67424.png\n"
     ]
    },
    {
     "name": "stderr",
     "output_type": "stream",
     "text": [
      " 24%|██▍       | 1744/7199 [09:06<30:46,  2.95it/s]"
     ]
    },
    {
     "name": "stdout",
     "output_type": "stream",
     "text": [
      "Error en el registro: 53471426, URL: https://a0.muscache.com/pictures/prohost-api/Hosting-53471426/original/8750208e-5400-4932-884d-2eb7dfa8f9c6.jpeg\n"
     ]
    },
    {
     "name": "stderr",
     "output_type": "stream",
     "text": [
      " 24%|██▍       | 1751/7199 [09:08<27:52,  3.26it/s]"
     ]
    },
    {
     "name": "stdout",
     "output_type": "stream",
     "text": [
      "Error en el registro: 53541620, URL: https://a0.muscache.com/pictures/prohost-api/Hosting-53541620/original/c6b2db9a-1876-4696-a6cf-c7834a870d8c.jpeg\n"
     ]
    },
    {
     "name": "stderr",
     "output_type": "stream",
     "text": [
      " 24%|██▍       | 1759/7199 [09:10<18:18,  4.95it/s]"
     ]
    },
    {
     "name": "stdout",
     "output_type": "stream",
     "text": [
      "Error en el registro: 53631121, URL: https://a0.muscache.com/pictures/miso/Hosting-53631121/original/4fe32bfc-0048-442e-8823-3bf637738101.jpeg\n",
      "Error en el registro: 53631431, URL: https://a0.muscache.com/pictures/miso/Hosting-53631431/original/a72b033f-5b23-42fd-9e39-ead73c0642e4.jpeg\n"
     ]
    },
    {
     "name": "stderr",
     "output_type": "stream",
     "text": [
      " 24%|██▍       | 1761/7199 [09:10<14:57,  6.06it/s]"
     ]
    },
    {
     "name": "stdout",
     "output_type": "stream",
     "text": [
      "Error en el registro: 53631585, URL: https://a0.muscache.com/pictures/miso/Hosting-53631585/original/2638283e-f499-4ae1-8d95-07951e1e693a.jpeg\n"
     ]
    },
    {
     "name": "stderr",
     "output_type": "stream",
     "text": [
      " 24%|██▍       | 1763/7199 [09:11<20:04,  4.51it/s]"
     ]
    },
    {
     "name": "stdout",
     "output_type": "stream",
     "text": [
      "Error en el registro: 53699018, URL: https://a0.muscache.com/pictures/prohost-api/Hosting-53699018/original/076e7f99-177e-493c-ae50-a794a4982e11.jpeg\n"
     ]
    },
    {
     "name": "stderr",
     "output_type": "stream",
     "text": [
      " 25%|██▍       | 1765/7199 [09:11<19:37,  4.62it/s]"
     ]
    },
    {
     "name": "stdout",
     "output_type": "stream",
     "text": [
      "Error en el registro: 53733454, URL: https://a0.muscache.com/pictures/prohost-api/Hosting-53733454/original/53c3e939-e6e9-4de7-914d-beeda824a1fb.jpeg\n"
     ]
    },
    {
     "name": "stderr",
     "output_type": "stream",
     "text": [
      " 25%|██▍       | 1767/7199 [09:12<19:00,  4.76it/s]"
     ]
    },
    {
     "name": "stdout",
     "output_type": "stream",
     "text": [
      "Error en el registro: 53733834, URL: https://a0.muscache.com/pictures/prohost-api/Hosting-53733834/original/9d1d0196-1355-4f35-83b7-199ff53c0ad5.jpeg\n"
     ]
    },
    {
     "name": "stderr",
     "output_type": "stream",
     "text": [
      " 25%|██▍       | 1778/7199 [09:14<14:11,  6.37it/s]"
     ]
    },
    {
     "name": "stdout",
     "output_type": "stream",
     "text": [
      "Error en el registro: 53873611, URL: https://a0.muscache.com/pictures/prohost-api/Hosting-53873611/original/998d36d4-f555-4788-9462-2192ace76dd0.jpeg\n"
     ]
    },
    {
     "name": "stderr",
     "output_type": "stream",
     "text": [
      " 25%|██▍       | 1783/7199 [09:15<19:07,  4.72it/s]"
     ]
    },
    {
     "name": "stdout",
     "output_type": "stream",
     "text": [
      "Error en el registro: 53914758, URL: https://a0.muscache.com/pictures/prohost-api/Hosting-53914758/original/af469d69-e8a1-4057-965f-a4d116169619.jpeg\n",
      "Error en el registro: 53932819, URL: https://a0.muscache.com/pictures/prohost-api/Hosting-53932819/original/a7cca99b-89c4-4878-93a4-1f5c99a3d05e.jpeg\n"
     ]
    },
    {
     "name": "stderr",
     "output_type": "stream",
     "text": [
      " 25%|██▍       | 1784/7199 [09:15<24:57,  3.62it/s]"
     ]
    },
    {
     "name": "stdout",
     "output_type": "stream",
     "text": [
      "Error en el registro: 53964554, URL: https://a0.muscache.com/pictures/prohost-api/Hosting-53964554/original/751cf211-2da2-4cc2-9716-1527e6da595f.jpeg\n"
     ]
    },
    {
     "name": "stderr",
     "output_type": "stream",
     "text": [
      " 25%|██▍       | 1787/7199 [09:16<19:22,  4.65it/s]"
     ]
    },
    {
     "name": "stdout",
     "output_type": "stream",
     "text": [
      "Error en el registro: 53992722, URL: https://a0.muscache.com/pictures/miso/Hosting-53992722/original/91988b70-62b7-4c95-8c83-6c144d6a6d48.jpeg\n"
     ]
    },
    {
     "name": "stderr",
     "output_type": "stream",
     "text": [
      " 25%|██▍       | 1789/7199 [09:16<17:42,  5.09it/s]"
     ]
    },
    {
     "name": "stdout",
     "output_type": "stream",
     "text": [
      "Error en el registro: 54047272, URL: https://a0.muscache.com/pictures/prohost-api/Hosting-54047272/original/f4eb3cfa-21c1-4a69-ab4e-4d2d4d592621.jpeg\n"
     ]
    },
    {
     "name": "stderr",
     "output_type": "stream",
     "text": [
      " 25%|██▍       | 1791/7199 [09:17<25:15,  3.57it/s]"
     ]
    },
    {
     "name": "stdout",
     "output_type": "stream",
     "text": [
      "Error en el registro: 54159081, URL: https://a0.muscache.com/pictures/prohost-api/Hosting-54159081/original/921d1884-5d26-422d-b5ad-175589408d8d.jpeg\n"
     ]
    },
    {
     "name": "stderr",
     "output_type": "stream",
     "text": [
      " 25%|██▍       | 1793/7199 [09:17<20:47,  4.33it/s]"
     ]
    },
    {
     "name": "stdout",
     "output_type": "stream",
     "text": [
      "Error en el registro: 54159310, URL: https://a0.muscache.com/pictures/prohost-api/Hosting-54159310/original/779d8c2e-401f-4316-9921-215e22c36edc.jpeg\n"
     ]
    },
    {
     "name": "stderr",
     "output_type": "stream",
     "text": [
      " 25%|██▌       | 1807/7199 [09:20<17:38,  5.09it/s]"
     ]
    },
    {
     "name": "stdout",
     "output_type": "stream",
     "text": [
      "Error en el registro: 54384571, URL: https://a0.muscache.com/pictures/miso/Hosting-54384571/original/a14887f0-6ec8-4aeb-b095-cdbbf814df8c.jpeg\n"
     ]
    },
    {
     "name": "stderr",
     "output_type": "stream",
     "text": [
      " 25%|██▌       | 1808/7199 [09:20<16:55,  5.31it/s]"
     ]
    },
    {
     "name": "stdout",
     "output_type": "stream",
     "text": [
      "Error en el registro: 54399424, URL: https://a0.muscache.com/pictures/prohost-api/Hosting-54399424/original/417a2fd3-e7c4-441a-af3a-644c12a813cb.jpeg\n"
     ]
    },
    {
     "name": "stderr",
     "output_type": "stream",
     "text": [
      " 25%|██▌       | 1815/7199 [09:22<16:02,  5.60it/s]"
     ]
    },
    {
     "name": "stdout",
     "output_type": "stream",
     "text": [
      "Error en el registro: 542466980559114057, URL: https://a0.muscache.com/pictures/prohost-api/Hosting-542466980559114057/original/f63c7a91-1d1b-4785-80dc-73df231518d9.jpeg\n"
     ]
    },
    {
     "name": "stderr",
     "output_type": "stream",
     "text": [
      " 25%|██▌       | 1816/7199 [09:22<16:27,  5.45it/s]"
     ]
    },
    {
     "name": "stdout",
     "output_type": "stream",
     "text": [
      "Error en el registro: 543436362799833668, URL: https://a0.muscache.com/pictures/prohost-api/Hosting-543436362799833668/original/73dc4fed-1ceb-4076-97a7-a38fa0b5b98f.jpeg\n"
     ]
    },
    {
     "name": "stderr",
     "output_type": "stream",
     "text": [
      " 25%|██▌       | 1817/7199 [09:22<17:09,  5.23it/s]"
     ]
    },
    {
     "name": "stdout",
     "output_type": "stream",
     "text": [
      "Error en el registro: 544684082770820787, URL: https://a0.muscache.com/pictures/prohost-api/Hosting-544684082770820787/original/ade61381-22d6-49d3-b706-e142ba879680.jpeg\n"
     ]
    },
    {
     "name": "stderr",
     "output_type": "stream",
     "text": [
      " 25%|██▌       | 1819/7199 [09:23<16:29,  5.44it/s]"
     ]
    },
    {
     "name": "stdout",
     "output_type": "stream",
     "text": [
      "Error en el registro: 544686606795535057, URL: https://a0.muscache.com/pictures/prohost-api/Hosting-544686606795535057/original/3a436f2a-4093-4dee-8b13-a6ed9ea64e1a.jpeg\n"
     ]
    },
    {
     "name": "stderr",
     "output_type": "stream",
     "text": [
      " 25%|██▌       | 1824/7199 [09:24<22:14,  4.03it/s]"
     ]
    },
    {
     "name": "stdout",
     "output_type": "stream",
     "text": [
      "Error en el registro: 548393136882554658, URL: https://a0.muscache.com/pictures/miso/Hosting-548393136882554658/original/92f40793-ed9a-4a7e-906b-8c6a7f34664e.jpeg\n"
     ]
    },
    {
     "name": "stderr",
     "output_type": "stream",
     "text": [
      " 25%|██▌       | 1826/7199 [09:25<20:26,  4.38it/s]"
     ]
    },
    {
     "name": "stdout",
     "output_type": "stream",
     "text": [
      "Error en el registro: 548409183091048221, URL: https://a0.muscache.com/pictures/miso/Hosting-548409183091048221/original/d01945ae-728a-4781-9a3d-37b94327d2ab.jpeg\n",
      "Error en el registro: 548424627632198069, URL: https://a0.muscache.com/pictures/miso/Hosting-548424627632198069/original/06686dc0-470f-4a33-a0c2-f61ca9e80c91.jpeg\n"
     ]
    },
    {
     "name": "stderr",
     "output_type": "stream",
     "text": [
      " 25%|██▌       | 1828/7199 [09:25<18:24,  4.86it/s]"
     ]
    },
    {
     "name": "stdout",
     "output_type": "stream",
     "text": [
      "Error en el registro: 548433540428028477, URL: https://a0.muscache.com/pictures/miso/Hosting-548433540428028477/original/6a34ad68-7a45-47e4-9144-2da30363a5f5.jpeg\n",
      "Error en el registro: 549048342007595380, URL: https://a0.muscache.com/pictures/prohost-api/Hosting-549048342007595380/original/236ff7f9-c853-47ad-93ba-4fc9b2c4994b.jpeg\n"
     ]
    },
    {
     "name": "stderr",
     "output_type": "stream",
     "text": [
      " 25%|██▌       | 1829/7199 [09:25<19:46,  4.52it/s]"
     ]
    },
    {
     "name": "stdout",
     "output_type": "stream",
     "text": [
      "Error en el registro: 549055903062655337, URL: https://a0.muscache.com/pictures/prohost-api/Hosting-549055903062655337/original/0f70b22e-4a22-4e2a-a7b7-e7d478866f40.jpeg\n"
     ]
    },
    {
     "name": "stderr",
     "output_type": "stream",
     "text": [
      " 25%|██▌       | 1830/7199 [09:25<20:24,  4.38it/s]"
     ]
    },
    {
     "name": "stdout",
     "output_type": "stream",
     "text": [
      "Error en el registro: 549058407111290129, URL: https://a0.muscache.com/pictures/prohost-api/Hosting-549058407111290129/original/5179f9aa-f925-41b9-8397-4b35ae9c6ca3.jpeg\n"
     ]
    },
    {
     "name": "stderr",
     "output_type": "stream",
     "text": [
      " 25%|██▌       | 1835/7199 [09:26<17:32,  5.10it/s]"
     ]
    },
    {
     "name": "stdout",
     "output_type": "stream",
     "text": [
      "Error en el registro: 553449835647049763, URL: https://a0.muscache.com/pictures/prohost-api/Hosting-553449835647049763/original/be8b6826-9ebe-4a1e-8414-3258e830ce73.jpeg\n"
     ]
    },
    {
     "name": "stderr",
     "output_type": "stream",
     "text": [
      " 26%|██▌       | 1836/7199 [09:27<19:08,  4.67it/s]"
     ]
    },
    {
     "name": "stdout",
     "output_type": "stream",
     "text": [
      "Error en el registro: 553450125818531583, URL: https://a0.muscache.com/pictures/prohost-api/Hosting-553450125818531583/original/4b84b104-856c-4180-9344-1df6afc63ee6.jpeg\n"
     ]
    },
    {
     "name": "stderr",
     "output_type": "stream",
     "text": [
      " 26%|██▌       | 1849/7199 [09:31<23:16,  3.83it/s]"
     ]
    },
    {
     "name": "stdout",
     "output_type": "stream",
     "text": [
      "Error en el registro: 557094168867486125, URL: https://a0.muscache.com/pictures/prohost-api/Hosting-557094168867486125/original/b3d82f92-608f-4da1-b06b-dc6949852f8f.jpeg\n"
     ]
    },
    {
     "name": "stderr",
     "output_type": "stream",
     "text": [
      " 26%|██▌       | 1850/7199 [09:31<22:43,  3.92it/s]"
     ]
    },
    {
     "name": "stdout",
     "output_type": "stream",
     "text": [
      "Error en el registro: 557094454595424536, URL: https://a0.muscache.com/pictures/prohost-api/Hosting-557094454595424536/original/295861bf-5054-4abd-b752-ad6949ac387b.jpeg\n"
     ]
    },
    {
     "name": "stderr",
     "output_type": "stream",
     "text": [
      " 26%|██▌       | 1851/7199 [09:31<24:41,  3.61it/s]"
     ]
    },
    {
     "name": "stdout",
     "output_type": "stream",
     "text": [
      "Error en el registro: 557861915611213552, URL: https://a0.muscache.com/pictures/prohost-api/Hosting-557861915611213552/original/49369359-68c9-42fd-8ee8-c69b2920c2d1.jpeg\n"
     ]
    },
    {
     "name": "stderr",
     "output_type": "stream",
     "text": [
      " 26%|██▌       | 1852/7199 [09:31<22:42,  3.92it/s]"
     ]
    },
    {
     "name": "stdout",
     "output_type": "stream",
     "text": [
      "Error en el registro: 557862346669301479, URL: https://a0.muscache.com/pictures/prohost-api/Hosting-557862346669301479/original/b489cbb8-4ade-4edd-9b52-a5a6f5d27344.jpeg\n"
     ]
    },
    {
     "name": "stderr",
     "output_type": "stream",
     "text": [
      " 26%|██▌       | 1858/7199 [09:33<15:53,  5.60it/s]"
     ]
    },
    {
     "name": "stdout",
     "output_type": "stream",
     "text": [
      "Error en el registro: 558737352827141257, URL: https://a0.muscache.com/pictures/miso/Hosting-558737352827141257/original/79baa66c-e138-4cf3-a179-e809ed53f868.jpeg\n"
     ]
    },
    {
     "name": "stderr",
     "output_type": "stream",
     "text": [
      " 26%|██▌       | 1860/7199 [09:33<15:23,  5.78it/s]"
     ]
    },
    {
     "name": "stdout",
     "output_type": "stream",
     "text": [
      "Error en el registro: 562909674759088729, URL: https://a0.muscache.com/pictures/prohost-api/Hosting-562909674759088729/original/1bc9d504-3972-4b52-9ae7-5363a05b6d13.jpeg\n"
     ]
    },
    {
     "name": "stderr",
     "output_type": "stream",
     "text": [
      " 26%|██▌       | 1865/7199 [09:34<24:39,  3.60it/s]"
     ]
    },
    {
     "name": "stdout",
     "output_type": "stream",
     "text": [
      "Error en el registro: 566450430168033283, URL: https://a0.muscache.com/pictures/57c74e3b-4199-48e7-be0e-fa8b25672c2a.jpg\n"
     ]
    },
    {
     "name": "stderr",
     "output_type": "stream",
     "text": [
      " 26%|██▌       | 1867/7199 [09:35<19:58,  4.45it/s]"
     ]
    },
    {
     "name": "stdout",
     "output_type": "stream",
     "text": [
      "Error en el registro: 567263377944351900, URL: https://a0.muscache.com/pictures/prohost-api/Hosting-567263377944351900/original/84e7bbe3-615f-474b-a4e4-33a68b0346c1.jpeg\n",
      "Error en el registro: 568692279938660404, URL: https://a0.muscache.com/pictures/prohost-api/Hosting-568692279938660404/original/14e8826d-5df9-4084-ae4c-5e1db70706aa.jpeg\n"
     ]
    },
    {
     "name": "stderr",
     "output_type": "stream",
     "text": [
      " 26%|██▌       | 1869/7199 [09:35<17:17,  5.14it/s]"
     ]
    },
    {
     "name": "stdout",
     "output_type": "stream",
     "text": [
      "Error en el registro: 568694788908431933, URL: https://a0.muscache.com/pictures/prohost-api/Hosting-568694788908431933/original/a82a3209-09fa-462a-ad8c-b9d984e82ac3.jpeg\n"
     ]
    },
    {
     "name": "stderr",
     "output_type": "stream",
     "text": [
      " 26%|██▌       | 1870/7199 [09:35<16:35,  5.35it/s]"
     ]
    },
    {
     "name": "stdout",
     "output_type": "stream",
     "text": [
      "Error en el registro: 569407505309687319, URL: https://a0.muscache.com/pictures/prohost-api/Hosting-569407505309687319/original/233707bb-ef6a-4ea7-a44a-deace00a3418.jpeg\n"
     ]
    },
    {
     "name": "stderr",
     "output_type": "stream",
     "text": [
      " 26%|██▌       | 1876/7199 [09:37<21:25,  4.14it/s]"
     ]
    },
    {
     "name": "stdout",
     "output_type": "stream",
     "text": [
      "Error en el registro: 573072034648033150, URL: https://a0.muscache.com/pictures/prohost-api/Hosting-573072034648033150/original/27e6a227-5af6-40ed-ba4d-f24fadf97f0f.jpeg\n"
     ]
    },
    {
     "name": "stderr",
     "output_type": "stream",
     "text": [
      " 26%|██▌       | 1879/7199 [09:38<23:33,  3.76it/s]"
     ]
    },
    {
     "name": "stdout",
     "output_type": "stream",
     "text": [
      "Error en el registro: 574763198852585805, URL: https://a0.muscache.com/pictures/miso/Hosting-574763198852585805/original/af75010b-d8ec-4072-9353-9f06cfcc3921.jpeg\n"
     ]
    },
    {
     "name": "stderr",
     "output_type": "stream",
     "text": [
      " 26%|██▋       | 1891/7199 [09:41<18:12,  4.86it/s]"
     ]
    },
    {
     "name": "stdout",
     "output_type": "stream",
     "text": [
      "Error en el registro: 578114881460921853, URL: https://a0.muscache.com/pictures/prohost-api/Hosting-578114881460921853/original/8bf3248c-bff6-452a-93a5-52490d002909.jpeg\n"
     ]
    },
    {
     "name": "stderr",
     "output_type": "stream",
     "text": [
      " 26%|██▋       | 1892/7199 [09:42<18:46,  4.71it/s]"
     ]
    },
    {
     "name": "stdout",
     "output_type": "stream",
     "text": [
      "Error en el registro: 578117391619038483, URL: https://a0.muscache.com/pictures/prohost-api/Hosting-578117391619038483/original/e7cf9e88-f212-4cb5-b0b4-6773c8bd5c91.jpeg\n"
     ]
    },
    {
     "name": "stderr",
     "output_type": "stream",
     "text": [
      " 26%|██▋       | 1895/7199 [09:42<20:31,  4.31it/s]"
     ]
    },
    {
     "name": "stdout",
     "output_type": "stream",
     "text": [
      "Error en el registro: 578829581723459472, URL: https://a0.muscache.com/pictures/prohost-api/Hosting-578829581723459472/original/155e748b-66a5-43f2-a469-174a1e38b3ea.jpeg\n"
     ]
    },
    {
     "name": "stderr",
     "output_type": "stream",
     "text": [
      " 26%|██▋       | 1904/7199 [09:44<18:22,  4.80it/s]"
     ]
    },
    {
     "name": "stdout",
     "output_type": "stream",
     "text": [
      "Error en el registro: 579562467128239369, URL: https://a0.muscache.com/pictures/miso/Hosting-579562467128239369/original/63b6a232-7682-4846-91bf-93d1ea32843f.jpeg\n"
     ]
    },
    {
     "name": "stderr",
     "output_type": "stream",
     "text": [
      " 26%|██▋       | 1905/7199 [09:45<23:14,  3.80it/s]"
     ]
    },
    {
     "name": "stdout",
     "output_type": "stream",
     "text": [
      "Error en el registro: 580336513335041407, URL: https://a0.muscache.com/pictures/prohost-api/Hosting-580336513335041407/original/7f3d580f-714a-42aa-825c-acd981deb23d.jpeg\n"
     ]
    },
    {
     "name": "stderr",
     "output_type": "stream",
     "text": [
      " 26%|██▋       | 1906/7199 [09:46<48:31,  1.82it/s]"
     ]
    },
    {
     "name": "stdout",
     "output_type": "stream",
     "text": [
      "Error en el registro: 580339548657084895, URL: https://a0.muscache.com/pictures/prohost-api/Hosting-580339548657084895/original/ed78c4a6-4e31-4c8e-afcd-8b8182c50ff9.jpeg\n"
     ]
    },
    {
     "name": "stderr",
     "output_type": "stream",
     "text": [
      " 27%|██▋       | 1908/7199 [09:46<32:15,  2.73it/s]"
     ]
    },
    {
     "name": "stdout",
     "output_type": "stream",
     "text": [
      "Error en el registro: 580340188480812217, URL: https://a0.muscache.com/pictures/prohost-api/Hosting-580340188480812217/original/1197adce-808f-47f0-bb65-6da038ac04d5.jpeg\n",
      "Error en el registro: 580342069798808551, URL: https://a0.muscache.com/pictures/prohost-api/Hosting-580342069798808551/original/0386eaae-0b67-4c96-b2cc-ebadd9e96fb8.jpeg\n"
     ]
    },
    {
     "name": "stderr",
     "output_type": "stream",
     "text": [
      " 27%|██▋       | 1909/7199 [09:47<26:50,  3.28it/s]"
     ]
    },
    {
     "name": "stdout",
     "output_type": "stream",
     "text": [
      "Error en el registro: 580442259470637184, URL: https://a0.muscache.com/pictures/prohost-api/Hosting-580442259470637184/original/642c2f0a-d10e-402b-95b1-0de7bf419fa8.png\n"
     ]
    },
    {
     "name": "stderr",
     "output_type": "stream",
     "text": [
      " 27%|██▋       | 1911/7199 [09:47<23:44,  3.71it/s]"
     ]
    },
    {
     "name": "stdout",
     "output_type": "stream",
     "text": [
      "Error en el registro: 580524519215857438, URL: https://a0.muscache.com/pictures/miso/Hosting-580524519215857438/original/6e6c5925-10dd-4ea2-9208-b36ab63af73d.jpeg\n"
     ]
    },
    {
     "name": "stderr",
     "output_type": "stream",
     "text": [
      " 27%|██▋       | 1924/7199 [09:50<24:05,  3.65it/s]"
     ]
    },
    {
     "name": "stdout",
     "output_type": "stream",
     "text": [
      "Error en el registro: 584818002913089374, URL: https://a0.muscache.com/pictures/miso/Hosting-584818002913089374/original/72c64e24-afb7-4e9b-a83f-bf62039debe4.jpeg\n"
     ]
    },
    {
     "name": "stderr",
     "output_type": "stream",
     "text": [
      " 27%|██▋       | 1927/7199 [09:51<23:02,  3.81it/s]"
     ]
    },
    {
     "name": "stdout",
     "output_type": "stream",
     "text": [
      "Error en el registro: 585228758807996843, URL: https://a0.muscache.com/pictures/prohost-api/Hosting-585228758807996843/original/09539fa6-9ab4-4732-bcd0-0c40e12d9d8a.jpeg\n"
     ]
    },
    {
     "name": "stderr",
     "output_type": "stream",
     "text": [
      " 27%|██▋       | 1934/7199 [09:53<24:16,  3.61it/s]"
     ]
    },
    {
     "name": "stdout",
     "output_type": "stream",
     "text": [
      "Error en el registro: 592635565577244428, URL: https://a0.muscache.com/pictures/prohost-api/Hosting-592635565577244428/original/579ac205-ac53-4470-b279-5a9008a77a5b.jpeg\n"
     ]
    },
    {
     "name": "stderr",
     "output_type": "stream",
     "text": [
      " 27%|██▋       | 1937/7199 [09:54<26:40,  3.29it/s]"
     ]
    },
    {
     "name": "stdout",
     "output_type": "stream",
     "text": [
      "Error en el registro: 594797282646385297, URL: https://a0.muscache.com/pictures/prohost-api/Hosting-594797282646385297/original/22cb397b-e85f-43b2-81e7-37a84578bf3e.jpeg\n"
     ]
    },
    {
     "name": "stderr",
     "output_type": "stream",
     "text": [
      " 27%|██▋       | 1945/7199 [09:57<29:17,  2.99it/s]"
     ]
    },
    {
     "name": "stdout",
     "output_type": "stream",
     "text": [
      "Error en el registro: 598404279154016952, URL: https://a0.muscache.com/pictures/prohost-api/Hosting-598404279154016952/original/34b62598-91cc-40d5-80ee-6bc805c9f2b5.jpeg\n"
     ]
    },
    {
     "name": "stderr",
     "output_type": "stream",
     "text": [
      " 27%|██▋       | 1955/7199 [10:00<20:44,  4.21it/s]"
     ]
    },
    {
     "name": "stdout",
     "output_type": "stream",
     "text": [
      "Error en el registro: 604223920210757772, URL: https://a0.muscache.com/pictures/prohost-api/Hosting-604223920210757772/original/b73033c1-cd42-4e00-b0ed-a09b5f498c14.jpeg\n",
      "Error en el registro: 604231971121077035, URL: https://a0.muscache.com/pictures/prohost-api/Hosting-604231971121077035/original/8a842a04-da7b-4a52-8559-4c90a446bd1c.jpeg\n"
     ]
    },
    {
     "name": "stderr",
     "output_type": "stream",
     "text": [
      " 27%|██▋       | 1957/7199 [10:00<18:40,  4.68it/s]"
     ]
    },
    {
     "name": "stdout",
     "output_type": "stream",
     "text": [
      "Error en el registro: 604232269991905294, URL: https://a0.muscache.com/pictures/prohost-api/Hosting-604232269991905294/original/a22778dc-61b7-4e16-a3c8-9792503504ff.jpeg\n"
     ]
    },
    {
     "name": "stderr",
     "output_type": "stream",
     "text": [
      " 27%|██▋       | 1959/7199 [10:01<17:53,  4.88it/s]"
     ]
    },
    {
     "name": "stdout",
     "output_type": "stream",
     "text": [
      "Error en el registro: 604234472085817955, URL: https://a0.muscache.com/pictures/prohost-api/Hosting-604234472085817955/original/761a51e0-aba1-4fc4-a11a-d457b5375822.jpeg\n"
     ]
    },
    {
     "name": "stderr",
     "output_type": "stream",
     "text": [
      " 27%|██▋       | 1961/7199 [10:01<14:57,  5.84it/s]"
     ]
    },
    {
     "name": "stdout",
     "output_type": "stream",
     "text": [
      "Error en el registro: 604951714437257587, URL: https://a0.muscache.com/pictures/prohost-api/Hosting-604951714437257587/original/767f84ef-275a-4d26-a3d9-65ab3b258c27.jpeg\n"
     ]
    },
    {
     "name": "stderr",
     "output_type": "stream",
     "text": [
      " 27%|██▋       | 1963/7199 [10:01<19:15,  4.53it/s]"
     ]
    },
    {
     "name": "stdout",
     "output_type": "stream",
     "text": [
      "Error en el registro: 608359192793639653, URL: https://a0.muscache.com/pictures/prohost-api/Hosting-608359192793639653/original/c3e76481-b618-4948-af0b-4b71727b1201.jpeg\n"
     ]
    },
    {
     "name": "stderr",
     "output_type": "stream",
     "text": [
      " 27%|██▋       | 1964/7199 [10:02<19:00,  4.59it/s]"
     ]
    },
    {
     "name": "stdout",
     "output_type": "stream",
     "text": [
      "Error en el registro: 608359496810075683, URL: https://a0.muscache.com/pictures/prohost-api/Hosting-608359496810075683/original/eadf3fdf-0d24-4922-b7c3-3fa533b1a24a.jpeg\n"
     ]
    },
    {
     "name": "stderr",
     "output_type": "stream",
     "text": [
      " 27%|██▋       | 1966/7199 [10:02<17:52,  4.88it/s]"
     ]
    },
    {
     "name": "stdout",
     "output_type": "stream",
     "text": [
      "Error en el registro: 608658771570500261, URL: https://a0.muscache.com/pictures/miso/Hosting-608658771570500261/original/4f9287ef-9726-49bd-afd7-1261614c2e23.jpeg\n"
     ]
    },
    {
     "name": "stderr",
     "output_type": "stream",
     "text": [
      " 27%|██▋       | 1976/7199 [10:05<19:34,  4.45it/s]"
     ]
    },
    {
     "name": "stdout",
     "output_type": "stream",
     "text": [
      "Error en el registro: 612908141225302683, URL: https://a0.muscache.com/pictures/prohost-api/Hosting-612908141225302683/original/8e783dfe-af26-4041-aba6-343259802678.jpeg\n"
     ]
    },
    {
     "name": "stderr",
     "output_type": "stream",
     "text": [
      " 28%|██▊       | 1995/7199 [10:13<27:55,  3.11it/s]  "
     ]
    },
    {
     "name": "stdout",
     "output_type": "stream",
     "text": [
      "Error en el registro: 619253446291935967, URL: https://a0.muscache.com/pictures/prohost-api/Hosting-619253446291935967/original/6c8e77a8-3db8-4644-a736-8d137bf3d00a.jpeg\n"
     ]
    },
    {
     "name": "stderr",
     "output_type": "stream",
     "text": [
      " 28%|██▊       | 2000/7199 [10:14<31:12,  2.78it/s]"
     ]
    },
    {
     "name": "stdout",
     "output_type": "stream",
     "text": [
      "Error en el registro: 620726386166322193, URL: https://a0.muscache.com/pictures/prohost-api/Hosting-620726386166322193/original/4ef78345-dfe4-4e20-bc50-f5f846db8dbe.jpeg\n"
     ]
    },
    {
     "name": "stderr",
     "output_type": "stream",
     "text": [
      " 28%|██▊       | 2006/7199 [10:16<25:32,  3.39it/s]"
     ]
    },
    {
     "name": "stdout",
     "output_type": "stream",
     "text": [
      "Error en el registro: 622413306658128240, URL: https://a0.muscache.com/pictures/miso/Hosting-622413306658128240/original/0a864c78-21a8-412e-b679-c11b68b3eda6.jpeg\n"
     ]
    },
    {
     "name": "stderr",
     "output_type": "stream",
     "text": [
      " 28%|██▊       | 2009/7199 [10:17<20:58,  4.12it/s]"
     ]
    },
    {
     "name": "stdout",
     "output_type": "stream",
     "text": [
      "Error en el registro: 623029409486034434, URL: https://a0.muscache.com/pictures/prohost-api/Hosting-623029409486034434/original/c291ac87-a95e-4baa-9831-8b80607ea8fa.jpeg\n"
     ]
    },
    {
     "name": "stderr",
     "output_type": "stream",
     "text": [
      " 28%|██▊       | 2012/7199 [10:17<23:06,  3.74it/s]"
     ]
    },
    {
     "name": "stdout",
     "output_type": "stream",
     "text": [
      "Error en el registro: 623174295658849560, URL: https://a0.muscache.com/pictures/prohost-api/Hosting-623174295658849560/original/dc77fe0f-5d72-4075-887f-2ab98da928a7.jpeg\n"
     ]
    },
    {
     "name": "stderr",
     "output_type": "stream",
     "text": [
      " 28%|██▊       | 2013/7199 [10:18<22:19,  3.87it/s]"
     ]
    },
    {
     "name": "stdout",
     "output_type": "stream",
     "text": [
      "Error en el registro: 623619726219332946, URL: https://a0.muscache.com/pictures/prohost-api/Hosting-623619726219332946/original/14609c8d-a85d-4929-b395-b1f673d19062.jpeg\n"
     ]
    },
    {
     "name": "stderr",
     "output_type": "stream",
     "text": [
      " 28%|██▊       | 2028/7199 [10:21<16:57,  5.08it/s]"
     ]
    },
    {
     "name": "stdout",
     "output_type": "stream",
     "text": [
      "Error en el registro: 633058908634454665, URL: https://a0.muscache.com/pictures/prohost-api/Hosting-633058908634454665/original/d584f0b2-3d14-4263-b200-b4a159ee0bb4.jpeg\n",
      "Error en el registro: 633240905689427322, URL: https://a0.muscache.com/pictures/84794d3e-d997-480c-b9c7-4fe8ab39f676.jpg\n"
     ]
    },
    {
     "name": "stderr",
     "output_type": "stream",
     "text": [
      " 28%|██▊       | 2034/7199 [10:23<22:50,  3.77it/s]"
     ]
    },
    {
     "name": "stdout",
     "output_type": "stream",
     "text": [
      "Error en el registro: 634543701606720546, URL: https://a0.muscache.com/pictures/prohost-api/Hosting-634543701606720546/original/6b2b925e-f7ec-400e-8ae5-f9d1696971af.jpeg\n"
     ]
    },
    {
     "name": "stderr",
     "output_type": "stream",
     "text": [
      " 28%|██▊       | 2042/7199 [10:27<43:24,  1.98it/s]"
     ]
    },
    {
     "name": "stdout",
     "output_type": "stream",
     "text": [
      "Error en el registro: 636288932942854774, URL: https://a0.muscache.com/pictures/miso/Hosting-636288932942854774/original/53176ca0-ac54-4306-80b9-440cf02b21a1.jpeg\n"
     ]
    },
    {
     "name": "stderr",
     "output_type": "stream",
     "text": [
      " 28%|██▊       | 2044/7199 [10:27<28:57,  2.97it/s]"
     ]
    },
    {
     "name": "stdout",
     "output_type": "stream",
     "text": [
      "Error en el registro: 638235027182813304, URL: https://a0.muscache.com/pictures/prohost-api/Hosting-638235027182813304/original/e8025544-cf54-4bd1-9f8a-ffb9e9869afe.jpeg\n"
     ]
    },
    {
     "name": "stderr",
     "output_type": "stream",
     "text": [
      " 28%|██▊       | 2046/7199 [10:27<20:55,  4.11it/s]"
     ]
    },
    {
     "name": "stdout",
     "output_type": "stream",
     "text": [
      "Error en el registro: 638473569363708335, URL: https://a0.muscache.com/pictures/miso/Hosting-638473569363708335/original/e8cc0175-519b-459b-a140-b88976d6daeb.jpeg\n"
     ]
    },
    {
     "name": "stderr",
     "output_type": "stream",
     "text": [
      " 29%|██▉       | 2075/7199 [10:32<13:41,  6.24it/s]"
     ]
    },
    {
     "name": "stdout",
     "output_type": "stream",
     "text": [
      "Error en el registro: 649227798792183262, URL: https://a0.muscache.com/pictures/miso/Hosting-649227798792183262/original/94a68d76-70d0-44aa-9e8b-fd241143d7f0.jpeg\n"
     ]
    },
    {
     "name": "stderr",
     "output_type": "stream",
     "text": [
      " 29%|██▉       | 2077/7199 [10:33<13:57,  6.12it/s]"
     ]
    },
    {
     "name": "stdout",
     "output_type": "stream",
     "text": [
      "Error en el registro: 650670596271554040, URL: https://a0.muscache.com/pictures/b5f824b9-f2b3-4dae-9d35-5fec22d94a3a.jpg\n"
     ]
    },
    {
     "name": "stderr",
     "output_type": "stream",
     "text": [
      " 29%|██▉       | 2082/7199 [10:34<20:01,  4.26it/s]"
     ]
    },
    {
     "name": "stdout",
     "output_type": "stream",
     "text": [
      "Error en el registro: 655514870814006563, URL: https://a0.muscache.com/pictures/prohost-api/Hosting-655514870814006563/original/724771b1-5a01-4fdd-909c-e7d727a7bd81.jpeg\n"
     ]
    },
    {
     "name": "stderr",
     "output_type": "stream",
     "text": [
      " 29%|██▉       | 2083/7199 [10:34<19:28,  4.38it/s]"
     ]
    },
    {
     "name": "stdout",
     "output_type": "stream",
     "text": [
      "Error en el registro: 655515158683197472, URL: https://a0.muscache.com/pictures/prohost-api/Hosting-655515158683197472/original/4b649a39-4db9-4bb2-bff6-5a4bdc248087.jpeg\n"
     ]
    },
    {
     "name": "stderr",
     "output_type": "stream",
     "text": [
      " 29%|██▉       | 2085/7199 [10:35<17:10,  4.96it/s]"
     ]
    },
    {
     "name": "stdout",
     "output_type": "stream",
     "text": [
      "Error en el registro: 655515533603303924, URL: https://a0.muscache.com/pictures/prohost-api/Hosting-655515533603303924/original/81017bdd-993a-47c5-9221-58cd085f4a6c.jpeg\n"
     ]
    },
    {
     "name": "stderr",
     "output_type": "stream",
     "text": [
      " 29%|██▉       | 2089/7199 [10:35<16:13,  5.25it/s]"
     ]
    },
    {
     "name": "stdout",
     "output_type": "stream",
     "text": [
      "Error en el registro: 658616819945465934, URL: https://a0.muscache.com/pictures/prohost-api/Hosting-658616819945465934/original/23ab522e-1c82-401f-b979-95f7f667f284.jpeg\n"
     ]
    },
    {
     "name": "stderr",
     "output_type": "stream",
     "text": [
      " 29%|██▉       | 2090/7199 [10:36<16:34,  5.14it/s]"
     ]
    },
    {
     "name": "stdout",
     "output_type": "stream",
     "text": [
      "Error en el registro: 658713146354442625, URL: https://a0.muscache.com/pictures/miso/Hosting-658713146354442625/original/43d951e7-f273-4e91-970d-d02965c399e3.jpeg\n"
     ]
    },
    {
     "name": "stderr",
     "output_type": "stream",
     "text": [
      " 29%|██▉       | 2092/7199 [10:37<26:41,  3.19it/s]"
     ]
    },
    {
     "name": "stdout",
     "output_type": "stream",
     "text": [
      "Error en el registro: 658765857439531363, URL: https://a0.muscache.com/pictures/miso/Hosting-658765857439531363/original/616fe3ad-23bb-49cc-bf8b-66453e0dd7ff.jpeg\n"
     ]
    },
    {
     "name": "stderr",
     "output_type": "stream",
     "text": [
      " 29%|██▉       | 2095/7199 [10:37<22:01,  3.86it/s]"
     ]
    },
    {
     "name": "stdout",
     "output_type": "stream",
     "text": [
      "Error en el registro: 659156386290642679, URL: https://a0.muscache.com/pictures/prohost-api/Hosting-659156386290642679/original/a5625cb5-579d-496f-9ccb-25b8f722b917.jpeg\n"
     ]
    },
    {
     "name": "stderr",
     "output_type": "stream",
     "text": [
      " 29%|██▉       | 2096/7199 [10:37<19:25,  4.38it/s]"
     ]
    },
    {
     "name": "stdout",
     "output_type": "stream",
     "text": [
      "Error en el registro: 659511501225097577, URL: https://a0.muscache.com/pictures/miso/Hosting-659511501225097577/original/3bee1537-70e2-421a-9886-7da374880177.jpeg\n"
     ]
    },
    {
     "name": "stderr",
     "output_type": "stream",
     "text": [
      " 29%|██▉       | 2110/7199 [10:41<20:21,  4.17it/s]"
     ]
    },
    {
     "name": "stdout",
     "output_type": "stream",
     "text": [
      "Error en el registro: 666383993088270320, URL: https://a0.muscache.com/pictures/prohost-api/Hosting-666383993088270320/original/143267b2-34a1-4129-91e7-cfbf5ffd99f2.jpeg\n"
     ]
    },
    {
     "name": "stderr",
     "output_type": "stream",
     "text": [
      " 29%|██▉       | 2116/7199 [10:43<19:01,  4.45it/s]"
     ]
    },
    {
     "name": "stdout",
     "output_type": "stream",
     "text": [
      "Error en el registro: 668818916257742515, URL: https://a0.muscache.com/pictures/miso/Hosting-668818916257742515/original/d356e43b-10f2-4007-af4c-5984cddf69d2.png\n"
     ]
    },
    {
     "name": "stderr",
     "output_type": "stream",
     "text": [
      " 29%|██▉       | 2120/7199 [10:44<15:41,  5.39it/s]"
     ]
    },
    {
     "name": "stdout",
     "output_type": "stream",
     "text": [
      "Error en el registro: 670105594005404482, URL: https://a0.muscache.com/pictures/prohost-api/Hosting-670105594005404482/original/c1ffef6e-0359-4048-bbe6-229ca2fb8cd4.jpeg\n"
     ]
    },
    {
     "name": "stderr",
     "output_type": "stream",
     "text": [
      " 30%|██▉       | 2136/7199 [10:49<32:44,  2.58it/s]"
     ]
    },
    {
     "name": "stdout",
     "output_type": "stream",
     "text": [
      "Error en el registro: 674344475189896557, URL: https://a0.muscache.com/pictures/prohost-api/Hosting-674344475189896557/original/0f94223f-171b-4a36-a250-df3e83b79b73.jpeg\n"
     ]
    },
    {
     "name": "stderr",
     "output_type": "stream",
     "text": [
      " 30%|██▉       | 2141/7199 [10:50<19:15,  4.38it/s]"
     ]
    },
    {
     "name": "stdout",
     "output_type": "stream",
     "text": [
      "Error en el registro: 676483872976026157, URL: https://a0.muscache.com/pictures/prohost-api/Hosting-676483872976026157/original/95466906-23db-48dc-9947-d752a219a166.jpeg\n"
     ]
    },
    {
     "name": "stderr",
     "output_type": "stream",
     "text": [
      " 30%|██▉       | 2145/7199 [10:51<20:44,  4.06it/s]"
     ]
    },
    {
     "name": "stdout",
     "output_type": "stream",
     "text": [
      "Error en el registro: 676898605599494749, URL: https://a0.muscache.com/pictures/miso/Hosting-676898605599494749/original/b1d7b7be-c4e1-44a8-8c57-3d1d3060f4d1.jpeg\n"
     ]
    },
    {
     "name": "stderr",
     "output_type": "stream",
     "text": [
      " 30%|██▉       | 2156/7199 [10:53<16:57,  4.96it/s]"
     ]
    },
    {
     "name": "stdout",
     "output_type": "stream",
     "text": [
      "Error en el registro: 683768558849092912, URL: https://a0.muscache.com/pictures/prohost-api/Hosting-683768558849092912/original/ecfe8989-8d18-4c1b-8c30-cb601c156236.jpeg\n"
     ]
    },
    {
     "name": "stderr",
     "output_type": "stream",
     "text": [
      " 30%|███       | 2162/7199 [10:55<15:52,  5.29it/s]"
     ]
    },
    {
     "name": "stdout",
     "output_type": "stream",
     "text": [
      "Error en el registro: 684685835346260348, URL: https://a0.muscache.com/pictures/miso/Hosting-684685835346260348/original/78cbf802-27a4-4152-b2f6-82720971e554.jpeg\n"
     ]
    },
    {
     "name": "stderr",
     "output_type": "stream",
     "text": [
      " 30%|███       | 2170/7199 [10:56<14:00,  5.98it/s]"
     ]
    },
    {
     "name": "stdout",
     "output_type": "stream",
     "text": [
      "Error en el registro: 686659102449877793, URL: https://a0.muscache.com/pictures/prohost-api/Hosting-686659102449877793/original/3480e3f2-af15-463e-a8ed-403fe2efbbf1.jpeg\n"
     ]
    },
    {
     "name": "stderr",
     "output_type": "stream",
     "text": [
      " 30%|███       | 2177/7199 [10:57<19:43,  4.24it/s]"
     ]
    },
    {
     "name": "stdout",
     "output_type": "stream",
     "text": [
      "Error en el registro: 688910480628831655, URL: https://a0.muscache.com/pictures/prohost-api/Hosting-688910480628831655/original/7eb3e919-d4d4-4fea-85c6-299d855bb99c.jpeg\n"
     ]
    },
    {
     "name": "stderr",
     "output_type": "stream",
     "text": [
      " 30%|███       | 2179/7199 [10:58<22:39,  3.69it/s]"
     ]
    },
    {
     "name": "stdout",
     "output_type": "stream",
     "text": [
      "Error en el registro: 689607534898158572, URL: https://a0.muscache.com/pictures/prohost-api/Hosting-689607534898158572/original/860e07b2-0022-4a83-a3cb-c651897ae6fd.jpeg\n"
     ]
    },
    {
     "name": "stderr",
     "output_type": "stream",
     "text": [
      " 30%|███       | 2187/7199 [11:00<21:13,  3.94it/s]"
     ]
    },
    {
     "name": "stdout",
     "output_type": "stream",
     "text": [
      "Error en el registro: 690400586934454556, URL: https://a0.muscache.com/pictures/prohost-api/Hosting-690400586934454556/original/eca7926b-53b1-47b7-9e3e-d9f75a03f565.jpeg\n",
      "Error en el registro: 690400874919227004, URL: https://a0.muscache.com/pictures/prohost-api/Hosting-690400874919227004/original/3604456d-ecc0-429a-84f4-d200db16a3a2.jpeg\n"
     ]
    },
    {
     "name": "stderr",
     "output_type": "stream",
     "text": [
      " 31%|███       | 2200/7199 [11:03<12:40,  6.57it/s]"
     ]
    },
    {
     "name": "stdout",
     "output_type": "stream",
     "text": [
      "Error en el registro: 695542274861997846, URL: https://a0.muscache.com/pictures/60f99764-d820-4727-9a0f-5a374cf33550.jpg\n"
     ]
    },
    {
     "name": "stderr",
     "output_type": "stream",
     "text": [
      " 31%|███       | 2203/7199 [11:04<21:01,  3.96it/s]"
     ]
    },
    {
     "name": "stdout",
     "output_type": "stream",
     "text": [
      "Error en el registro: 695868903061431283, URL: https://a0.muscache.com/pictures/miso/Hosting-695868903061431283/original/82ee9450-7b8b-4446-953a-c4d6ba9a5a39.jpeg\n"
     ]
    },
    {
     "name": "stderr",
     "output_type": "stream",
     "text": [
      " 31%|███       | 2216/7199 [11:07<21:27,  3.87it/s]"
     ]
    },
    {
     "name": "stdout",
     "output_type": "stream",
     "text": [
      "Error en el registro: 700542874333492403, URL: https://a0.muscache.com/pictures/prohost-api/Hosting-700542874333492403/original/462f7165-0c4f-4625-a4fb-70285cf183ce.jpeg\n"
     ]
    },
    {
     "name": "stderr",
     "output_type": "stream",
     "text": [
      " 31%|███       | 2218/7199 [11:08<20:05,  4.13it/s]"
     ]
    },
    {
     "name": "stdout",
     "output_type": "stream",
     "text": [
      "Error en el registro: 701903542880060170, URL: https://a0.muscache.com/pictures/prohost-api/Hosting-701903542880060170/original/72a22598-6367-4d7a-adb4-e65276b03521.jpeg\n"
     ]
    },
    {
     "name": "stderr",
     "output_type": "stream",
     "text": [
      " 31%|███       | 2219/7199 [11:08<19:52,  4.17it/s]"
     ]
    },
    {
     "name": "stdout",
     "output_type": "stream",
     "text": [
      "Error en el registro: 701903839431825131, URL: https://a0.muscache.com/pictures/prohost-api/Hosting-701903839431825131/original/c7900b9a-b922-4727-9ae4-97b7efadb52b.jpeg\n"
     ]
    },
    {
     "name": "stderr",
     "output_type": "stream",
     "text": [
      " 31%|███       | 2220/7199 [11:08<20:50,  3.98it/s]"
     ]
    },
    {
     "name": "stdout",
     "output_type": "stream",
     "text": [
      "Error en el registro: 702072857749096679, URL: https://a0.muscache.com/pictures/miso/Hosting-702072857749096679/original/3abdc597-8b18-42d9-bba0-5279e2d0afb4.jpeg\n"
     ]
    },
    {
     "name": "stderr",
     "output_type": "stream",
     "text": [
      " 31%|███       | 2224/7199 [11:09<18:17,  4.53it/s]"
     ]
    },
    {
     "name": "stdout",
     "output_type": "stream",
     "text": [
      "Error en el registro: 702196791016760152, URL: https://a0.muscache.com/pictures/prohost-api/Hosting-702196791016760152/original/d0974756-6243-4cc3-a3a6-c4fd2ae11096.jpeg\n"
     ]
    },
    {
     "name": "stderr",
     "output_type": "stream",
     "text": [
      " 31%|███       | 2228/7199 [11:10<18:56,  4.38it/s]"
     ]
    },
    {
     "name": "stdout",
     "output_type": "stream",
     "text": [
      "Error en el registro: 704785038887176281, URL: https://a0.muscache.com/pictures/prohost-api/Hosting-704785038887176281/original/8944038f-882a-4838-8fb2-8eb90483b2f7.jpeg\n"
     ]
    },
    {
     "name": "stderr",
     "output_type": "stream",
     "text": [
      " 31%|███       | 2235/7199 [11:13<25:15,  3.28it/s]"
     ]
    },
    {
     "name": "stdout",
     "output_type": "stream",
     "text": [
      "Error en el registro: 706391605702679581, URL: https://a0.muscache.com/pictures/miso/Hosting-706391605702679581/original/beb334ca-0ad1-485b-8624-d8520c609a93.jpeg\n"
     ]
    },
    {
     "name": "stderr",
     "output_type": "stream",
     "text": [
      " 31%|███▏      | 2263/7199 [11:22<26:47,  3.07it/s]"
     ]
    },
    {
     "name": "stdout",
     "output_type": "stream",
     "text": [
      "Error en el registro: 713140450013616661, URL: https://a0.muscache.com/pictures/miso/Hosting-713140450013616661/original/28881ace-22f5-41c9-9fe8-066782997460.jpeg\n"
     ]
    },
    {
     "name": "stderr",
     "output_type": "stream",
     "text": [
      " 31%|███▏      | 2267/7199 [11:23<22:52,  3.59it/s]"
     ]
    },
    {
     "name": "stdout",
     "output_type": "stream",
     "text": [
      "Error en el registro: 714656100145703498, URL: https://a0.muscache.com/pictures/prohost-api/Hosting-714656100145703498/original/06ce250c-d54d-400f-9758-181d559981c1.jpeg\n"
     ]
    },
    {
     "name": "stderr",
     "output_type": "stream",
     "text": [
      " 32%|███▏      | 2271/7199 [11:24<21:46,  3.77it/s]"
     ]
    },
    {
     "name": "stdout",
     "output_type": "stream",
     "text": [
      "Error en el registro: 715658190467254169, URL: https://a0.muscache.com/pictures/prohost-api/Hosting-715658190467254169/original/499eb09f-69a0-454d-9c04-45201932224d.jpeg\n"
     ]
    },
    {
     "name": "stderr",
     "output_type": "stream",
     "text": [
      " 32%|███▏      | 2281/7199 [11:30<29:03,  2.82it/s]  "
     ]
    },
    {
     "name": "stdout",
     "output_type": "stream",
     "text": [
      "Error en el registro: 719467171987235663, URL: https://a0.muscache.com/pictures/miso/Hosting-719467171987235663/original/cbee6a61-c29c-4b42-a699-4d3f631a68e4.jpeg\n"
     ]
    },
    {
     "name": "stderr",
     "output_type": "stream",
     "text": [
      " 32%|███▏      | 2284/7199 [11:31<25:29,  3.21it/s]"
     ]
    },
    {
     "name": "stdout",
     "output_type": "stream",
     "text": [
      "Error en el registro: 719990238559489665, URL: https://a0.muscache.com/pictures/prohost-api/Hosting-719990238559489665/original/f7f84f22-7cb1-4c16-bb2e-2f9512d4a457.jpeg\n"
     ]
    },
    {
     "name": "stderr",
     "output_type": "stream",
     "text": [
      " 32%|███▏      | 2296/7199 [11:36<23:47,  3.43it/s]"
     ]
    },
    {
     "name": "stdout",
     "output_type": "stream",
     "text": [
      "Error en el registro: 726396583833243890, URL: https://a0.muscache.com/pictures/prohost-api/Hosting-726396583833243890/original/0a2f3fc3-ed29-4b75-8512-542f230e5e38.jpeg\n",
      "Error en el registro: 727368563191104397, URL: https://a0.muscache.com/pictures/prohost-api/Hosting-727368563191104397/original/190319a4-3aa3-4c7e-835e-8178968d8c05.jpeg\n"
     ]
    },
    {
     "name": "stderr",
     "output_type": "stream",
     "text": [
      " 32%|███▏      | 2307/7199 [11:39<26:51,  3.04it/s]"
     ]
    },
    {
     "name": "stdout",
     "output_type": "stream",
     "text": [
      "Error en el registro: 731581616930727750, URL: https://a0.muscache.com/pictures/prohost-api/Hosting-731581616930727750/original/1a164d45-a9a7-41b0-a8e1-207901dc987a.jpeg\n"
     ]
    },
    {
     "name": "stderr",
     "output_type": "stream",
     "text": [
      " 32%|███▏      | 2324/7199 [11:44<17:21,  4.68it/s]"
     ]
    },
    {
     "name": "stdout",
     "output_type": "stream",
     "text": [
      "Error en el registro: 740400290363696561, URL: https://a0.muscache.com/pictures/6679d540-9cda-484e-abbf-35d067470774.jpg\n"
     ]
    },
    {
     "name": "stderr",
     "output_type": "stream",
     "text": [
      " 32%|███▏      | 2325/7199 [11:44<19:20,  4.20it/s]"
     ]
    },
    {
     "name": "stdout",
     "output_type": "stream",
     "text": [
      "Error en el registro: 741745368954817653, URL: https://a0.muscache.com/pictures/prohost-api/Hosting-741745368954817653/original/0114337a-c460-4155-8091-f2eae2a7de2a.jpeg\n"
     ]
    },
    {
     "name": "stderr",
     "output_type": "stream",
     "text": [
      " 32%|███▏      | 2334/7199 [11:47<21:54,  3.70it/s]"
     ]
    },
    {
     "name": "stdout",
     "output_type": "stream",
     "text": [
      "Error en el registro: 748360987335266464, URL: https://a0.muscache.com/pictures/5e2e1372-1b44-4c16-8f1d-d516492cb076.jpg\n"
     ]
    },
    {
     "name": "stderr",
     "output_type": "stream",
     "text": [
      " 33%|███▎      | 2340/7199 [11:49<26:04,  3.11it/s]"
     ]
    },
    {
     "name": "stdout",
     "output_type": "stream",
     "text": [
      "Error en el registro: 751255733039018358, URL: https://a0.muscache.com/pictures/prohost-api/Hosting-751255733039018358/original/da152004-1dcb-4b85-8dc6-650a3e722ab2.jpeg\n"
     ]
    },
    {
     "name": "stderr",
     "output_type": "stream",
     "text": [
      " 33%|███▎      | 2342/7199 [11:49<19:52,  4.07it/s]"
     ]
    },
    {
     "name": "stdout",
     "output_type": "stream",
     "text": [
      "Error en el registro: 751256340541168925, URL: https://a0.muscache.com/pictures/prohost-api/Hosting-751256340541168925/original/6c5be02b-7131-43a8-93cb-54dd9f014882.jpeg\n"
     ]
    },
    {
     "name": "stderr",
     "output_type": "stream",
     "text": [
      " 33%|███▎      | 2358/7199 [11:53<15:26,  5.22it/s]"
     ]
    },
    {
     "name": "stdout",
     "output_type": "stream",
     "text": [
      "Error en el registro: 754921465460632358, URL: https://a0.muscache.com/pictures/prohost-api/Hosting-754921465460632358/original/70bf2190-e417-4dd4-bb6e-67e50c6f6731.jpeg\n"
     ]
    },
    {
     "name": "stderr",
     "output_type": "stream",
     "text": [
      " 33%|███▎      | 2360/7199 [11:53<18:30,  4.36it/s]"
     ]
    },
    {
     "name": "stdout",
     "output_type": "stream",
     "text": [
      "Error en el registro: 755533469713682355, URL: https://a0.muscache.com/pictures/miso/Hosting-755533469713682355/original/3b07598d-63c7-4649-bdf6-ad7b81f28ba8.png\n"
     ]
    },
    {
     "name": "stderr",
     "output_type": "stream",
     "text": [
      " 33%|███▎      | 2362/7199 [11:54<22:07,  3.64it/s]"
     ]
    },
    {
     "name": "stdout",
     "output_type": "stream",
     "text": [
      "Error en el registro: 755549554190811005, URL: https://a0.muscache.com/pictures/prohost-api/Hosting-755549554190811005/original/b4e9be91-0d2f-4600-8b05-c8aab038524c.jpeg\n",
      "Error en el registro: 755550110633481973, URL: https://a0.muscache.com/pictures/prohost-api/Hosting-755550110633481973/original/56a84cb4-52f3-45f9-b369-510f7b97304d.jpeg\n"
     ]
    },
    {
     "name": "stderr",
     "output_type": "stream",
     "text": [
      " 33%|███▎      | 2366/7199 [11:55<15:53,  5.07it/s]"
     ]
    },
    {
     "name": "stdout",
     "output_type": "stream",
     "text": [
      "Error en el registro: 757021735358934310, URL: https://a0.muscache.com/pictures/prohost-api/Hosting-757021735358934310/original/0e052465-e5d6-43e6-b365-aebd543bb1d6.jpeg\n"
     ]
    },
    {
     "name": "stderr",
     "output_type": "stream",
     "text": [
      " 33%|███▎      | 2367/7199 [11:55<16:23,  4.91it/s]"
     ]
    },
    {
     "name": "stdout",
     "output_type": "stream",
     "text": [
      "Error en el registro: 757022023725678837, URL: https://a0.muscache.com/pictures/prohost-api/Hosting-757022023725678837/original/2dd6f3d9-d2f8-4675-89d1-04dfc65e7ee5.jpeg\n"
     ]
    },
    {
     "name": "stderr",
     "output_type": "stream",
     "text": [
      " 33%|███▎      | 2374/7199 [11:57<19:27,  4.13it/s]"
     ]
    },
    {
     "name": "stdout",
     "output_type": "stream",
     "text": [
      "Error en el registro: 759892648386172163, URL: https://a0.muscache.com/pictures/prohost-api/Hosting-759892648386172163/original/00d7d2e1-4d70-45a0-b5b5-70aa5a97df41.jpeg\n",
      "Error en el registro: 759893468198280917, URL: https://a0.muscache.com/pictures/prohost-api/Hosting-759893468198280917/original/99beda76-af94-433a-a44e-fc64ec42a1e7.jpeg\n"
     ]
    },
    {
     "name": "stderr",
     "output_type": "stream",
     "text": [
      " 33%|███▎      | 2376/7199 [11:57<16:32,  4.86it/s]"
     ]
    },
    {
     "name": "stdout",
     "output_type": "stream",
     "text": [
      "Error en el registro: 759894024434692037, URL: https://a0.muscache.com/pictures/prohost-api/Hosting-759894024434692037/original/e799d2ec-ac47-4c18-aac6-9f7365d68684.jpeg\n"
     ]
    },
    {
     "name": "stderr",
     "output_type": "stream",
     "text": [
      " 33%|███▎      | 2379/7199 [11:58<15:47,  5.09it/s]"
     ]
    },
    {
     "name": "stdout",
     "output_type": "stream",
     "text": [
      "Error en el registro: 760402775627338023, URL: https://a0.muscache.com/pictures/miso/Hosting-760402775627338023/original/502b0062-d227-4c70-b9ed-73b47489b8d6.jpeg\n"
     ]
    },
    {
     "name": "stderr",
     "output_type": "stream",
     "text": [
      " 33%|███▎      | 2381/7199 [11:58<15:00,  5.35it/s]"
     ]
    },
    {
     "name": "stdout",
     "output_type": "stream",
     "text": [
      "Error en el registro: 761353275730186662, URL: https://a0.muscache.com/pictures/prohost-api/Hosting-761353275730186662/original/9e415f37-14ad-4903-bea0-7b333bc54158.jpeg\n"
     ]
    },
    {
     "name": "stderr",
     "output_type": "stream",
     "text": [
      " 33%|███▎      | 2382/7199 [11:59<14:54,  5.39it/s]"
     ]
    },
    {
     "name": "stdout",
     "output_type": "stream",
     "text": [
      "Error en el registro: 762164629747217079, URL: https://a0.muscache.com/pictures/prohost-api/Hosting-762164629747217079/original/bf8c5cf6-82fa-47ca-aa41-fba594e4a465.jpeg\n"
     ]
    },
    {
     "name": "stderr",
     "output_type": "stream",
     "text": [
      " 33%|███▎      | 2386/7199 [12:00<17:00,  4.72it/s]"
     ]
    },
    {
     "name": "stdout",
     "output_type": "stream",
     "text": [
      "Error en el registro: 762779193061469131, URL: https://a0.muscache.com/pictures/prohost-api/Hosting-762779193061469131/original/b3aa3c1a-b4d7-48c2-b53a-85fc5246eea4.jpeg\n"
     ]
    },
    {
     "name": "stderr",
     "output_type": "stream",
     "text": [
      " 33%|███▎      | 2389/7199 [12:00<14:27,  5.54it/s]"
     ]
    },
    {
     "name": "stdout",
     "output_type": "stream",
     "text": [
      "Error en el registro: 763110046866087334, URL: https://a0.muscache.com/pictures/miso/Hosting-763110046866087334/original/9217ce0f-6cf4-4c1a-bdc8-9996344b0bd8.jpeg\n"
     ]
    },
    {
     "name": "stderr",
     "output_type": "stream",
     "text": [
      " 33%|███▎      | 2392/7199 [12:01<18:19,  4.37it/s]"
     ]
    },
    {
     "name": "stdout",
     "output_type": "stream",
     "text": [
      "Error en el registro: 765006355721890182, URL: https://a0.muscache.com/pictures/prohost-api/Hosting-765006355721890182/original/889b9b8d-3793-4303-ab6a-096318081547.jpeg\n",
      "Error en el registro: 765006895101554698, URL: https://a0.muscache.com/pictures/prohost-api/Hosting-765006895101554698/original/2f892b1f-4c4e-47fc-87ae-d5ea90b0d644.jpeg\n"
     ]
    },
    {
     "name": "stderr",
     "output_type": "stream",
     "text": [
      " 33%|███▎      | 2398/7199 [12:03<26:02,  3.07it/s]"
     ]
    },
    {
     "name": "stdout",
     "output_type": "stream",
     "text": [
      "Error en el registro: 765841349139671626, URL: https://a0.muscache.com/pictures/prohost-api/Hosting-765841349139671626/original/8b60663a-fa99-40b9-bc36-fba58ddc9897.jpeg\n"
     ]
    },
    {
     "name": "stderr",
     "output_type": "stream",
     "text": [
      " 33%|███▎      | 2400/7199 [12:04<20:22,  3.93it/s]"
     ]
    },
    {
     "name": "stdout",
     "output_type": "stream",
     "text": [
      "Error en el registro: 765841775181131141, URL: https://a0.muscache.com/pictures/prohost-api/Hosting-765841775181131141/original/61b43651-164b-4a56-932c-19be2a5c6672.jpeg\n",
      "Error en el registro: 765842269075124283, URL: https://a0.muscache.com/pictures/prohost-api/Hosting-765842269075124283/original/625f8935-88e7-4f22-b0c4-340d86354392.jpeg\n"
     ]
    },
    {
     "name": "stderr",
     "output_type": "stream",
     "text": [
      " 33%|███▎      | 2402/7199 [12:04<17:59,  4.44it/s]"
     ]
    },
    {
     "name": "stdout",
     "output_type": "stream",
     "text": [
      "Error en el registro: 766443317316185027, URL: https://a0.muscache.com/pictures/prohost-api/Hosting-766443317316185027/original/b19f62cc-1722-4eca-8471-4e0de00d811b.jpeg\n",
      "Error en el registro: 767351808354008385, URL: https://a0.muscache.com/pictures/prohost-api/Hosting-767351808354008385/original/f10e3840-8f80-4971-966d-b0498c8edb38.jpeg\n"
     ]
    },
    {
     "name": "stderr",
     "output_type": "stream",
     "text": [
      " 33%|███▎      | 2403/7199 [12:04<16:55,  4.72it/s]"
     ]
    },
    {
     "name": "stdout",
     "output_type": "stream",
     "text": [
      "Error en el registro: 767352123386196599, URL: https://a0.muscache.com/pictures/prohost-api/Hosting-767352123386196599/original/58d45c8b-b091-4b48-b9f7-beae0ffbf300.jpeg\n"
     ]
    },
    {
     "name": "stderr",
     "output_type": "stream",
     "text": [
      " 34%|███▎      | 2412/7199 [12:07<18:16,  4.36it/s]"
     ]
    },
    {
     "name": "stdout",
     "output_type": "stream",
     "text": [
      "Error en el registro: 771690696993014228, URL: https://a0.muscache.com/pictures/prohost-api/Hosting-771690696993014228/original/d415bb47-034b-4fdd-b47b-0241c4d7fbcc.jpeg\n"
     ]
    },
    {
     "name": "stderr",
     "output_type": "stream",
     "text": [
      " 34%|███▎      | 2424/7199 [12:10<16:29,  4.82it/s]"
     ]
    },
    {
     "name": "stdout",
     "output_type": "stream",
     "text": [
      "Error en el registro: 775261963711450110, URL: https://a0.muscache.com/pictures/prohost-api/Hosting-775261963711450110/original/9411b324-9455-4f85-8522-3d4722f49e8a.jpeg\n"
     ]
    },
    {
     "name": "stderr",
     "output_type": "stream",
     "text": [
      " 34%|███▍      | 2430/7199 [12:13<27:38,  2.88it/s]"
     ]
    },
    {
     "name": "stdout",
     "output_type": "stream",
     "text": [
      "Error en el registro: 776610853880546976, URL: https://a0.muscache.com/pictures/prohost-api/Hosting-776610853880546976/original/d160751f-bf07-4189-9744-2549b6434e0f.jpeg\n"
     ]
    },
    {
     "name": "stderr",
     "output_type": "stream",
     "text": [
      " 34%|███▍      | 2447/7199 [12:18<15:36,  5.08it/s]"
     ]
    },
    {
     "name": "stdout",
     "output_type": "stream",
     "text": [
      "Error en el registro: 781001738751122967, URL: https://a0.muscache.com/pictures/prohost-api/Hosting-781001738751122967/original/9762344a-bfb9-49d6-89bc-37581a6eb986.jpeg\n"
     ]
    },
    {
     "name": "stderr",
     "output_type": "stream",
     "text": [
      " 34%|███▍      | 2453/7199 [12:20<21:31,  3.67it/s]"
     ]
    },
    {
     "name": "stdout",
     "output_type": "stream",
     "text": [
      "Error en el registro: 786807008620011176, URL: https://a0.muscache.com/pictures/prohost-api/Hosting-786807008620011176/original/111baacf-cf4f-480a-b934-b0dd982356df.jpeg\n",
      "Error en el registro: 787547697386254974, URL: https://a0.muscache.com/pictures/prohost-api/Hosting-787547697386254974/original/c2a3c7b3-2ebd-422b-a8b1-651935ef7714.jpeg\n"
     ]
    },
    {
     "name": "stderr",
     "output_type": "stream",
     "text": [
      " 34%|███▍      | 2466/7199 [12:26<28:33,  2.76it/s]"
     ]
    },
    {
     "name": "stdout",
     "output_type": "stream",
     "text": [
      "Error en el registro: 796990908736037328, URL: https://a0.muscache.com/pictures/prohost-api/Hosting-796990908736037328/original/703a2531-bebf-44e2-92ea-bb4e4914c8a3.jpeg\n"
     ]
    },
    {
     "name": "stderr",
     "output_type": "stream",
     "text": [
      " 34%|███▍      | 2468/7199 [12:26<21:56,  3.59it/s]"
     ]
    },
    {
     "name": "stdout",
     "output_type": "stream",
     "text": [
      "Error en el registro: 797634392623375373, URL: https://a0.muscache.com/pictures/prohost-api/Hosting-797634392623375373/original/f3795ac6-2cab-4776-9e1b-8bd62eb563b0.jpeg\n",
      "Error en el registro: 797634833378646656, URL: https://a0.muscache.com/pictures/prohost-api/Hosting-797634833378646656/original/8424416c-c551-48fd-ab2d-89d3307f9e8e.jpeg\n"
     ]
    },
    {
     "name": "stderr",
     "output_type": "stream",
     "text": [
      " 34%|███▍      | 2469/7199 [12:26<24:58,  3.16it/s]"
     ]
    },
    {
     "name": "stdout",
     "output_type": "stream",
     "text": [
      "Error en el registro: 797635200084843258, URL: https://a0.muscache.com/pictures/prohost-api/Hosting-797635200084843258/original/5a215a5f-70d6-47e7-84d2-5631f2c1e11f.jpeg\n"
     ]
    },
    {
     "name": "stderr",
     "output_type": "stream",
     "text": [
      " 34%|███▍      | 2474/7199 [12:29<47:33,  1.66it/s]  "
     ]
    },
    {
     "name": "stdout",
     "output_type": "stream",
     "text": [
      "Error en el registro: 798524113485453463, URL: https://a0.muscache.com/pictures/miso/Hosting-798524113485453463/original/d3b5e0a2-bc8e-4d2a-b6d7-8b3e16cb716e.jpeg\n"
     ]
    },
    {
     "name": "stderr",
     "output_type": "stream",
     "text": [
      " 34%|███▍      | 2476/7199 [12:30<36:13,  2.17it/s]"
     ]
    },
    {
     "name": "stdout",
     "output_type": "stream",
     "text": [
      "Error en el registro: 800678625525343383, URL: https://a0.muscache.com/pictures/miso/Hosting-800678625525343383/original/7c057ffb-a088-4168-9a98-2a2a1cb649d2.jpeg\n"
     ]
    },
    {
     "name": "stderr",
     "output_type": "stream",
     "text": [
      " 34%|███▍      | 2478/7199 [12:30<24:17,  3.24it/s]"
     ]
    },
    {
     "name": "stdout",
     "output_type": "stream",
     "text": [
      "Error en el registro: 801228312332129657, URL: https://a0.muscache.com/pictures/prohost-api/Hosting-801228312332129657/original/7eb80afa-4e49-41bd-ac94-d40f5e58dd4c.jpeg\n"
     ]
    },
    {
     "name": "stderr",
     "output_type": "stream",
     "text": [
      " 35%|███▍      | 2491/7199 [12:32<12:13,  6.42it/s]"
     ]
    },
    {
     "name": "stdout",
     "output_type": "stream",
     "text": [
      "Error en el registro: 802781307558619461, URL: https://a0.muscache.com/pictures/prohost-api/Hosting-802781307558619461/original/48e185c7-1d49-4119-bd27-d84aa825db6f.jpeg\n"
     ]
    },
    {
     "name": "stderr",
     "output_type": "stream",
     "text": [
      " 35%|███▍      | 2518/7199 [12:42<18:10,  4.29it/s]  "
     ]
    },
    {
     "name": "stdout",
     "output_type": "stream",
     "text": [
      "Error en el registro: 810755335955230893, URL: https://a0.muscache.com/pictures/prohost-api/Hosting-810755335955230893/original/9a8f92c7-9910-4faa-9de3-d982d41082cf.jpeg\n"
     ]
    },
    {
     "name": "stderr",
     "output_type": "stream",
     "text": [
      " 36%|███▌      | 2557/7199 [12:53<12:10,  6.36it/s]  "
     ]
    },
    {
     "name": "stdout",
     "output_type": "stream",
     "text": [
      "Error en el registro: 821501113985650809, URL: https://a0.muscache.com/pictures/prohost-api/Hosting-821501113985650809/original/8681efda-5f4c-4b0c-8f7c-e97bd9cee294.jpeg\n"
     ]
    },
    {
     "name": "stderr",
     "output_type": "stream",
     "text": [
      " 36%|███▌      | 2570/7199 [12:57<18:36,  4.15it/s]"
     ]
    },
    {
     "name": "stdout",
     "output_type": "stream",
     "text": [
      "Error en el registro: 825847770808405248, URL: https://a0.muscache.com/pictures/prohost-api/Hosting-825847770808405248/original/92be7552-7d96-4790-8103-c26894761c7c.jpeg\n"
     ]
    },
    {
     "name": "stderr",
     "output_type": "stream",
     "text": [
      " 36%|███▌      | 2574/7199 [12:58<24:09,  3.19it/s]"
     ]
    },
    {
     "name": "stdout",
     "output_type": "stream",
     "text": [
      "Error en el registro: 826562966046818110, URL: https://a0.muscache.com/pictures/prohost-api/Hosting-826562966046818110/original/a15df900-7671-4279-bed9-141dfa83a04c.jpeg\n"
     ]
    },
    {
     "name": "stderr",
     "output_type": "stream",
     "text": [
      " 36%|███▌      | 2583/7199 [13:00<15:20,  5.01it/s]"
     ]
    },
    {
     "name": "stdout",
     "output_type": "stream",
     "text": [
      "Error en el registro: 828014040320230036, URL: https://a0.muscache.com/pictures/prohost-api/Hosting-828014040320230036/original/154db478-c931-40ad-863e-a2e0bb214580.jpeg\n"
     ]
    },
    {
     "name": "stderr",
     "output_type": "stream",
     "text": [
      " 36%|███▌      | 2585/7199 [13:01<15:39,  4.91it/s]"
     ]
    },
    {
     "name": "stdout",
     "output_type": "stream",
     "text": [
      "Error en el registro: 828194448965037333, URL: https://a0.muscache.com/pictures/prohost-api/Hosting-828194448965037333/original/3075b2e5-4c56-4b5a-83f5-c15c8c9a9af3.jpeg\n"
     ]
    },
    {
     "name": "stderr",
     "output_type": "stream",
     "text": [
      " 36%|███▌      | 2588/7199 [13:01<14:32,  5.28it/s]"
     ]
    },
    {
     "name": "stdout",
     "output_type": "stream",
     "text": [
      "Error en el registro: 828416110846192220, URL: https://a0.muscache.com/pictures/miso/Hosting-828416110846192220/original/ad3210cd-bad9-4be0-908f-88131e56a128.jpeg\n"
     ]
    },
    {
     "name": "stderr",
     "output_type": "stream",
     "text": [
      " 36%|███▌      | 2600/7199 [13:05<21:50,  3.51it/s]"
     ]
    },
    {
     "name": "stdout",
     "output_type": "stream",
     "text": [
      "Error en el registro: 831735030713466807, URL: https://a0.muscache.com/pictures/prohost-api/Hosting-831735030713466807/original/2089092b-7f4d-48c4-b58d-85c364518d9d.jpeg\n"
     ]
    },
    {
     "name": "stderr",
     "output_type": "stream",
     "text": [
      " 36%|███▌      | 2605/7199 [13:08<37:10,  2.06it/s]"
     ]
    },
    {
     "name": "stdout",
     "output_type": "stream",
     "text": [
      "Error en el registro: 831961056951139768, URL: https://a0.muscache.com/pictures/miso/Hosting-831961056951139768/original/b733330c-1d81-44bd-8abc-7625d0b593e0.jpeg\n"
     ]
    },
    {
     "name": "stderr",
     "output_type": "stream",
     "text": [
      " 37%|███▋      | 2628/7199 [13:14<13:21,  5.70it/s]"
     ]
    },
    {
     "name": "stdout",
     "output_type": "stream",
     "text": [
      "Error en el registro: 836153649468461318, URL: https://a0.muscache.com/pictures/miso/Hosting-836153649468461318/original/8c7faf7e-5d0d-4397-9887-cb26e444e6b4.jpeg\n",
      "Error en el registro: 837439628788914345, URL: https://a0.muscache.com/pictures/prohost-api/Hosting-837439628788914345/original/98df5bc2-f2b9-4e45-8889-0840694e2a65.jpeg\n"
     ]
    },
    {
     "name": "stderr",
     "output_type": "stream",
     "text": [
      " 37%|███▋      | 2629/7199 [13:14<14:31,  5.24it/s]"
     ]
    },
    {
     "name": "stdout",
     "output_type": "stream",
     "text": [
      "Error en el registro: 837439944560637250, URL: https://a0.muscache.com/pictures/prohost-api/Hosting-837439944560637250/original/a2ab5dd1-b06b-4bef-9450-059f7fb348dd.jpeg\n"
     ]
    },
    {
     "name": "stderr",
     "output_type": "stream",
     "text": [
      " 37%|███▋      | 2630/7199 [13:14<18:04,  4.21it/s]"
     ]
    },
    {
     "name": "stdout",
     "output_type": "stream",
     "text": [
      "Error en el registro: 837538755134178518, URL: https://a0.muscache.com/pictures/prohost-api/Hosting-837538755134178518/original/f43f192b-ec84-4ba8-ac5a-e6e2ea086a22.jpeg\n"
     ]
    },
    {
     "name": "stderr",
     "output_type": "stream",
     "text": [
      " 37%|███▋      | 2651/7199 [13:19<13:02,  5.81it/s]"
     ]
    },
    {
     "name": "stdout",
     "output_type": "stream",
     "text": [
      "Error en el registro: 841340391794964228, URL: https://a0.muscache.com/pictures/93e612ae-9c1e-4f14-9b1c-4fc1d10a29ac.jpg\n"
     ]
    },
    {
     "name": "stderr",
     "output_type": "stream",
     "text": [
      " 37%|███▋      | 2663/7199 [13:21<14:21,  5.27it/s]"
     ]
    },
    {
     "name": "stdout",
     "output_type": "stream",
     "text": [
      "Error en el registro: 846872271807146973, URL: https://a0.muscache.com/pictures/prohost-api/Hosting-846872271807146973/original/37a65bbf-bcbf-4962-a9d9-77ec4d18f89b.jpeg\n"
     ]
    },
    {
     "name": "stderr",
     "output_type": "stream",
     "text": [
      " 37%|███▋      | 2664/7199 [13:21<15:46,  4.79it/s]"
     ]
    },
    {
     "name": "stdout",
     "output_type": "stream",
     "text": [
      "Error en el registro: 846872983266331248, URL: https://a0.muscache.com/pictures/prohost-api/Hosting-846872983266331248/original/91cd35d5-7731-4c46-af04-b74b2402b6b9.jpeg\n"
     ]
    },
    {
     "name": "stderr",
     "output_type": "stream",
     "text": [
      " 37%|███▋      | 2678/7199 [13:25<20:07,  3.75it/s]"
     ]
    },
    {
     "name": "stdout",
     "output_type": "stream",
     "text": [
      "Error en el registro: 852166516716286801, URL: https://a0.muscache.com/pictures/miso/Hosting-852166516716286801/original/ec756235-fbc3-43a6-b18f-0c82eb62dcb0.jpeg\n"
     ]
    },
    {
     "name": "stderr",
     "output_type": "stream",
     "text": [
      " 37%|███▋      | 2690/7199 [13:28<14:22,  5.22it/s]"
     ]
    },
    {
     "name": "stdout",
     "output_type": "stream",
     "text": [
      "Error en el registro: 853391813264548119, URL: https://a0.muscache.com/pictures/prohost-api/Hosting-853391813264548119/original/f64e818d-e441-4018-a7bf-1e650c91770d.jpeg\n"
     ]
    },
    {
     "name": "stderr",
     "output_type": "stream",
     "text": [
      " 38%|███▊      | 2706/7199 [13:32<22:34,  3.32it/s]"
     ]
    },
    {
     "name": "stdout",
     "output_type": "stream",
     "text": [
      "Error en el registro: 861331609777147421, URL: https://a0.muscache.com/pictures/prohost-api/Hosting-861331609777147421/original/8c2cf983-4dab-4ee6-9664-6f3b8c106aac.jpeg\n"
     ]
    },
    {
     "name": "stderr",
     "output_type": "stream",
     "text": [
      " 38%|███▊      | 2713/7199 [13:34<17:42,  4.22it/s]"
     ]
    },
    {
     "name": "stdout",
     "output_type": "stream",
     "text": [
      "Error en el registro: 863764018590884065, URL: https://a0.muscache.com/pictures/miso/Hosting-863764018590884065/original/290081c3-1745-4140-b111-f250e4c95d7a.jpeg\n",
      "Error en el registro: 863764173555125254, URL: https://a0.muscache.com/pictures/miso/Hosting-863764173555125254/original/3948a636-ceb9-44a1-951d-d05e58a64dcd.jpeg\n"
     ]
    },
    {
     "name": "stderr",
     "output_type": "stream",
     "text": [
      " 38%|███▊      | 2715/7199 [13:34<15:10,  4.93it/s]"
     ]
    },
    {
     "name": "stdout",
     "output_type": "stream",
     "text": [
      "Error en el registro: 863764278641845127, URL: https://a0.muscache.com/pictures/miso/Hosting-863764278641845127/original/67420547-505e-4f64-a3d0-d2196a948460.jpeg\n"
     ]
    },
    {
     "name": "stderr",
     "output_type": "stream",
     "text": [
      " 38%|███▊      | 2723/7199 [13:35<11:20,  6.58it/s]"
     ]
    },
    {
     "name": "stdout",
     "output_type": "stream",
     "text": [
      "Error en el registro: 865491574396499608, URL: https://a0.muscache.com/pictures/miso/Hosting-865491574396499608/original/1c6e5ec0-13f3-4682-9b38-5d0c89cdc565.jpeg\n"
     ]
    },
    {
     "name": "stderr",
     "output_type": "stream",
     "text": [
      " 38%|███▊      | 2743/7199 [13:41<14:15,  5.21it/s]"
     ]
    },
    {
     "name": "stdout",
     "output_type": "stream",
     "text": [
      "Error en el registro: 873108519560457453, URL: https://a0.muscache.com/pictures/miso/Hosting-873108519560457453/original/2ffd99f1-3884-4512-a6f6-3630050e06ba.jpeg\n"
     ]
    },
    {
     "name": "stderr",
     "output_type": "stream",
     "text": [
      " 38%|███▊      | 2746/7199 [13:41<15:14,  4.87it/s]"
     ]
    },
    {
     "name": "stdout",
     "output_type": "stream",
     "text": [
      "Error en el registro: 873655282217473344, URL: https://a0.muscache.com/pictures/prohost-api/Hosting-873655282217473344/original/2ac2684b-614b-4870-8ce5-b89121a28a6e.jpeg\n",
      "Error en el registro: 873658297449445896, URL: https://a0.muscache.com/pictures/prohost-api/Hosting-873658297449445896/original/2bb66c10-888b-437d-b47d-fa78d2b04dc2.jpeg\n"
     ]
    },
    {
     "name": "stderr",
     "output_type": "stream",
     "text": [
      " 38%|███▊      | 2767/7199 [13:53<16:26,  4.49it/s]  "
     ]
    },
    {
     "name": "stdout",
     "output_type": "stream",
     "text": [
      "Error en el registro: 882571653898142753, URL: https://a0.muscache.com/pictures/miso/Hosting-882571653898142753/original/c47817bf-fdc3-4818-954b-0942f032faeb.jpeg\n"
     ]
    },
    {
     "name": "stderr",
     "output_type": "stream",
     "text": [
      " 39%|███▊      | 2775/7199 [13:54<15:22,  4.80it/s]"
     ]
    },
    {
     "name": "stdout",
     "output_type": "stream",
     "text": [
      "Error en el registro: 883863319226431674, URL: https://a0.muscache.com/pictures/ba781070-0a6c-49f1-9a57-bed6e5ec04c1.jpg\n"
     ]
    },
    {
     "name": "stderr",
     "output_type": "stream",
     "text": [
      " 39%|███▊      | 2782/7199 [13:56<19:06,  3.85it/s]"
     ]
    },
    {
     "name": "stdout",
     "output_type": "stream",
     "text": [
      "Error en el registro: 886762078865571429, URL: https://a0.muscache.com/pictures/prohost-api/Hosting-886762078865571429/original/1648a07a-d7d6-47e7-862b-72a2f0b88bad.jpeg\n"
     ]
    },
    {
     "name": "stderr",
     "output_type": "stream",
     "text": [
      " 39%|███▉      | 2790/7199 [13:58<12:51,  5.71it/s]"
     ]
    },
    {
     "name": "stdout",
     "output_type": "stream",
     "text": [
      "Error en el registro: 889981292721825976, URL: https://a0.muscache.com/pictures/miso/Hosting-889981292721825976/original/ac1af51e-e157-4338-b221-74c5e68f40eb.jpeg\n"
     ]
    },
    {
     "name": "stderr",
     "output_type": "stream",
     "text": [
      " 39%|███▉      | 2819/7199 [14:04<15:52,  4.60it/s]"
     ]
    },
    {
     "name": "stdout",
     "output_type": "stream",
     "text": [
      "Error en el registro: 899769339425439911, URL: https://a0.muscache.com/pictures/prohost-api/Hosting-899769339425439911/original/9f930af1-d3ab-4110-b350-614c42a5a572.jpeg\n"
     ]
    },
    {
     "name": "stderr",
     "output_type": "stream",
     "text": [
      " 39%|███▉      | 2831/7199 [14:09<20:44,  3.51it/s]"
     ]
    },
    {
     "name": "stdout",
     "output_type": "stream",
     "text": [
      "Error en el registro: 904194014030747377, URL: https://a0.muscache.com/pictures/prohost-api/Hosting-904194014030747377/original/ef61d82e-f20a-446a-9938-d04c678ac447.jpeg\n"
     ]
    },
    {
     "name": "stderr",
     "output_type": "stream",
     "text": [
      " 39%|███▉      | 2839/7199 [14:11<17:45,  4.09it/s]"
     ]
    },
    {
     "name": "stdout",
     "output_type": "stream",
     "text": [
      "Error en el registro: 907906545606121142, URL: https://a0.muscache.com/pictures/miso/Hosting-907906545606121142/original/404e1bcd-e262-4ed0-805d-4ad4724b4344.jpeg\n"
     ]
    },
    {
     "name": "stderr",
     "output_type": "stream",
     "text": [
      " 40%|███▉      | 2852/7199 [14:17<50:16,  1.44it/s]  "
     ]
    },
    {
     "name": "stdout",
     "output_type": "stream",
     "text": [
      "Error en el registro: 913916379699820077, URL: https://a0.muscache.com/pictures/miso/Hosting-913916379699820077/original/449a92eb-8199-4c01-a3ed-a70d7a8e0119.jpeg\n"
     ]
    },
    {
     "name": "stderr",
     "output_type": "stream",
     "text": [
      " 40%|███▉      | 2854/7199 [14:17<32:01,  2.26it/s]"
     ]
    },
    {
     "name": "stdout",
     "output_type": "stream",
     "text": [
      "Error en el registro: 913916382033140518, URL: https://a0.muscache.com/pictures/miso/Hosting-913916382033140518/original/a56651c0-71fe-445c-b9ff-0771f0c38032.jpeg\n"
     ]
    },
    {
     "name": "stderr",
     "output_type": "stream",
     "text": [
      " 40%|███▉      | 2858/7199 [14:18<18:49,  3.84it/s]"
     ]
    },
    {
     "name": "stdout",
     "output_type": "stream",
     "text": [
      "Error en el registro: 914937299546374137, URL: https://a0.muscache.com/pictures/prohost-api/Hosting-914937299546374137/original/e0b571a8-fce7-4b3f-920f-11f9c6a0eeb0.jpeg\n"
     ]
    },
    {
     "name": "stderr",
     "output_type": "stream",
     "text": [
      " 40%|███▉      | 2860/7199 [14:18<14:54,  4.85it/s]"
     ]
    },
    {
     "name": "stdout",
     "output_type": "stream",
     "text": [
      "Error en el registro: 914937604671048989, URL: https://a0.muscache.com/pictures/prohost-api/Hosting-914937604671048989/original/4b19638e-7744-4eea-94ac-713b96b968e9.jpeg\n"
     ]
    },
    {
     "name": "stderr",
     "output_type": "stream",
     "text": [
      " 40%|████      | 2880/7199 [14:23<13:09,  5.47it/s]"
     ]
    },
    {
     "name": "stdout",
     "output_type": "stream",
     "text": [
      "Error en el registro: 920192802910045769, URL: https://a0.muscache.com/pictures/miso/Hosting-920192802910045769/original/b9091ffb-4f71-4605-928f-414bd6d08c05.jpeg\n"
     ]
    },
    {
     "name": "stderr",
     "output_type": "stream",
     "text": [
      " 40%|████      | 2881/7199 [14:23<13:15,  5.43it/s]"
     ]
    },
    {
     "name": "stdout",
     "output_type": "stream",
     "text": [
      "Error en el registro: 920305249278095220, URL: https://a0.muscache.com/pictures/miso/Hosting-920305249278095220/original/82ec111c-d2ba-4580-882c-5685576cbcad.jpeg\n"
     ]
    },
    {
     "name": "stderr",
     "output_type": "stream",
     "text": [
      " 40%|████      | 2886/7199 [14:24<12:04,  5.95it/s]"
     ]
    },
    {
     "name": "stdout",
     "output_type": "stream",
     "text": [
      "Error en el registro: 920595366557120290, URL: https://a0.muscache.com/pictures/prohost-api/Hosting-920595366557120290/original/ccf0e4cf-4ea8-489e-a91e-c452548f599e.jpeg\n"
     ]
    },
    {
     "name": "stderr",
     "output_type": "stream",
     "text": [
      " 40%|████      | 2900/7199 [14:28<16:00,  4.47it/s]"
     ]
    },
    {
     "name": "stdout",
     "output_type": "stream",
     "text": [
      "Error en el registro: 926909705378933833, URL: https://a0.muscache.com/pictures/prohost-api/Hosting-926909705378933833/original/c16207c3-527e-4796-b06a-afe376a0b714.jpeg\n"
     ]
    },
    {
     "name": "stderr",
     "output_type": "stream",
     "text": [
      " 40%|████      | 2908/7199 [14:31<29:33,  2.42it/s]"
     ]
    },
    {
     "name": "stdout",
     "output_type": "stream",
     "text": [
      "Error en el registro: 929285770816969080, URL: https://a0.muscache.com/pictures/miso/Hosting-929285770816969080/original/4e7e66b1-d451-4bbe-aba0-e1604a605c4f.jpeg\n"
     ]
    },
    {
     "name": "stderr",
     "output_type": "stream",
     "text": [
      " 41%|████      | 2921/7199 [14:35<17:58,  3.96it/s]"
     ]
    },
    {
     "name": "stdout",
     "output_type": "stream",
     "text": [
      "Error en el registro: 929770452264597730, URL: https://a0.muscache.com/pictures/prohost-api/Hosting-929770452264597730/original/7ce83896-a27d-4db0-8384-368d509695cc.jpeg\n"
     ]
    },
    {
     "name": "stderr",
     "output_type": "stream",
     "text": [
      " 41%|████      | 2923/7199 [14:36<14:26,  4.94it/s]"
     ]
    },
    {
     "name": "stdout",
     "output_type": "stream",
     "text": [
      "Error en el registro: 929784691737307760, URL: https://a0.muscache.com/pictures/miso/Hosting-929784691737307760/original/4af27405-eda7-440b-9708-208461793aea.jpeg\n"
     ]
    },
    {
     "name": "stderr",
     "output_type": "stream",
     "text": [
      " 41%|████      | 2924/7199 [14:36<13:59,  5.09it/s]"
     ]
    },
    {
     "name": "stdout",
     "output_type": "stream",
     "text": [
      "Error en el registro: 929790777252631206, URL: https://a0.muscache.com/pictures/43cfe8ce-6c16-4db4-ad1e-02fd04b3eaa8.jpg\n"
     ]
    },
    {
     "name": "stderr",
     "output_type": "stream",
     "text": [
      " 41%|████      | 2926/7199 [14:36<16:07,  4.42it/s]"
     ]
    },
    {
     "name": "stdout",
     "output_type": "stream",
     "text": [
      "Error en el registro: 933238026788932430, URL: https://a0.muscache.com/pictures/prohost-api/Hosting-933238026788932430/original/e5389ab7-ba26-44ef-969a-2fe8a1892eb8.jpeg\n"
     ]
    },
    {
     "name": "stderr",
     "output_type": "stream",
     "text": [
      " 41%|████      | 2928/7199 [14:37<20:10,  3.53it/s]"
     ]
    },
    {
     "name": "stdout",
     "output_type": "stream",
     "text": [
      "Error en el registro: 933341527778815745, URL: https://a0.muscache.com/pictures/miso/Hosting-933341527778815745/original/540b9069-5430-43b8-8f33-d79c1dc2a6ac.jpeg\n"
     ]
    },
    {
     "name": "stderr",
     "output_type": "stream",
     "text": [
      " 41%|████      | 2947/7199 [14:42<14:12,  4.99it/s]"
     ]
    },
    {
     "name": "stdout",
     "output_type": "stream",
     "text": [
      "Error en el registro: 934549104804900845, URL: https://a0.muscache.com/pictures/prohost-api/Hosting-934549104804900845/original/1a3beb56-aebc-4f4b-bb81-c23fbf17d5bf.jpeg\n"
     ]
    },
    {
     "name": "stderr",
     "output_type": "stream",
     "text": [
      " 41%|████      | 2952/7199 [14:43<13:57,  5.07it/s]"
     ]
    },
    {
     "name": "stdout",
     "output_type": "stream",
     "text": [
      "Error en el registro: 934846903887237232, URL: https://a0.muscache.com/pictures/miso/Hosting-934846903887237232/original/56045c56-d57a-4abc-ad08-750db085be2e.jpeg\n"
     ]
    },
    {
     "name": "stderr",
     "output_type": "stream",
     "text": [
      " 41%|████▏     | 2975/7199 [14:47<12:35,  5.59it/s]"
     ]
    },
    {
     "name": "stdout",
     "output_type": "stream",
     "text": [
      "Error en el registro: 940287599154412651, URL: https://a0.muscache.com/pictures/prohost-api/Hosting-940287599154412651/original/c587ad66-a8f5-41e6-831b-e3704dbeca4a.jpeg\n"
     ]
    },
    {
     "name": "stderr",
     "output_type": "stream",
     "text": [
      " 42%|████▏     | 2994/7199 [14:54<22:55,  3.06it/s]"
     ]
    },
    {
     "name": "stdout",
     "output_type": "stream",
     "text": [
      "Error en el registro: 945916288884011126, URL: https://a0.muscache.com/pictures/miso/Hosting-945916288884011126/original/2df8e4c9-eb81-47e8-8889-7b38e53abae9.jpeg\n"
     ]
    },
    {
     "name": "stderr",
     "output_type": "stream",
     "text": [
      " 42%|████▏     | 2995/7199 [14:54<19:17,  3.63it/s]"
     ]
    },
    {
     "name": "stdout",
     "output_type": "stream",
     "text": [
      "Error en el registro: 946041881162753201, URL: https://a0.muscache.com/pictures/miso/Hosting-946041881162753201/original/8302b8b8-162b-44f4-afcb-bc45d5c4ffc4.jpeg\n"
     ]
    },
    {
     "name": "stderr",
     "output_type": "stream",
     "text": [
      " 42%|████▏     | 3003/7199 [14:58<22:24,  3.12it/s]"
     ]
    },
    {
     "name": "stdout",
     "output_type": "stream",
     "text": [
      "Error en el registro: 947768183186382957, URL: https://a0.muscache.com/pictures/miso/Hosting-947768183186382957/original/06fd11ed-797c-4915-917b-3d401b8bd7bc.jpeg\n",
      "Error en el registro: 947785851072519783, URL: https://a0.muscache.com/pictures/miso/Hosting-947785851072519783/original/a4c8faea-b069-4f30-809d-5f3ae7d2c30e.jpeg\n"
     ]
    },
    {
     "name": "stderr",
     "output_type": "stream",
     "text": [
      " 42%|████▏     | 3004/7199 [14:58<19:25,  3.60it/s]"
     ]
    },
    {
     "name": "stdout",
     "output_type": "stream",
     "text": [
      "Error en el registro: 947814132068385867, URL: https://a0.muscache.com/pictures/miso/Hosting-947814132068385867/original/3bff85af-0f89-447a-a61c-43cf4fcd3619.jpeg\n"
     ]
    },
    {
     "name": "stderr",
     "output_type": "stream",
     "text": [
      " 42%|████▏     | 3008/7199 [15:00<26:40,  2.62it/s]"
     ]
    },
    {
     "name": "stdout",
     "output_type": "stream",
     "text": [
      "Error en el registro: 947846318188738138, URL: https://a0.muscache.com/pictures/miso/Hosting-947846318188738138/original/7cffaef3-6c98-4d8a-87d4-2e78e8ca524c.jpeg\n",
      "Error en el registro: 947863403518702980, URL: https://a0.muscache.com/pictures/miso/Hosting-947863403518702980/original/5b95a086-f155-4b0c-a5a6-2fe65e86a3d2.jpeg\n"
     ]
    },
    {
     "name": "stderr",
     "output_type": "stream",
     "text": [
      " 42%|████▏     | 3010/7199 [15:00<18:55,  3.69it/s]"
     ]
    },
    {
     "name": "stdout",
     "output_type": "stream",
     "text": [
      "Error en el registro: 947884085061009785, URL: https://a0.muscache.com/pictures/miso/Hosting-947884085061009785/original/71b3cac6-42ff-4db8-804f-834c865634db.jpeg\n"
     ]
    },
    {
     "name": "stderr",
     "output_type": "stream",
     "text": [
      " 42%|████▏     | 3013/7199 [15:01<16:48,  4.15it/s]"
     ]
    },
    {
     "name": "stdout",
     "output_type": "stream",
     "text": [
      "Error en el registro: 949154671772958720, URL: https://a0.muscache.com/pictures/miso/Hosting-949154671772958720/original/2b7f0abc-ba7b-4a43-a7be-5a6243c24413.jpeg\n"
     ]
    },
    {
     "name": "stderr",
     "output_type": "stream",
     "text": [
      " 42%|████▏     | 3021/7199 [15:03<13:28,  5.16it/s]"
     ]
    },
    {
     "name": "stdout",
     "output_type": "stream",
     "text": [
      "Error en el registro: 950268256943159901, URL: https://a0.muscache.com/pictures/miso/Hosting-950268256943159901/original/e4f0fc64-8e95-404f-a288-5070043ed117.jpeg\n"
     ]
    },
    {
     "name": "stderr",
     "output_type": "stream",
     "text": [
      " 42%|████▏     | 3030/7199 [15:05<21:14,  3.27it/s]"
     ]
    },
    {
     "name": "stdout",
     "output_type": "stream",
     "text": [
      "Error en el registro: 952456025026558868, URL: https://a0.muscache.com/pictures/f14adfde-4e40-463e-8afd-fac762f7cea4.jpg\n"
     ]
    },
    {
     "name": "stderr",
     "output_type": "stream",
     "text": [
      " 42%|████▏     | 3037/7199 [15:07<17:09,  4.04it/s]"
     ]
    },
    {
     "name": "stdout",
     "output_type": "stream",
     "text": [
      "Error en el registro: 953750560515431624, URL: https://a0.muscache.com/pictures/miso/Hosting-953750560515431624/original/5a96c11d-5be2-4801-a52d-c08ced9692e2.jpeg\n"
     ]
    },
    {
     "name": "stderr",
     "output_type": "stream",
     "text": [
      " 42%|████▏     | 3052/7199 [15:10<13:59,  4.94it/s]"
     ]
    },
    {
     "name": "stdout",
     "output_type": "stream",
     "text": [
      "Error en el registro: 955827663275316488, URL: https://a0.muscache.com/pictures/prohost-api/Hosting-955827663275316488/original/c3b9b3f5-898a-4ed0-b242-c26da0903201.jpeg\n"
     ]
    },
    {
     "name": "stderr",
     "output_type": "stream",
     "text": [
      " 43%|████▎     | 3061/7199 [15:12<17:26,  3.96it/s]"
     ]
    },
    {
     "name": "stdout",
     "output_type": "stream",
     "text": [
      "Error en el registro: 958648577659799676, URL: https://a0.muscache.com/pictures/miso/Hosting-958648577659799676/original/9ad5cdd6-9295-4d90-81a6-98a88206be2b.jpeg\n"
     ]
    },
    {
     "name": "stderr",
     "output_type": "stream",
     "text": [
      " 43%|████▎     | 3064/7199 [15:13<17:40,  3.90it/s]"
     ]
    },
    {
     "name": "stdout",
     "output_type": "stream",
     "text": [
      "Error en el registro: 959888489456599762, URL: https://a0.muscache.com/pictures/prohost-api/Hosting-959888489456599762/original/c72ecb2b-4c2b-4653-aeef-8c28bdb8e5d3.jpeg\n"
     ]
    },
    {
     "name": "stderr",
     "output_type": "stream",
     "text": [
      " 43%|████▎     | 3067/7199 [15:14<15:19,  4.50it/s]"
     ]
    },
    {
     "name": "stdout",
     "output_type": "stream",
     "text": [
      "Error en el registro: 960441596149014714, URL: https://a0.muscache.com/pictures/miso/Hosting-960441596149014714/original/82e47454-ef57-48f4-8940-9b0c463c6772.jpeg\n"
     ]
    },
    {
     "name": "stderr",
     "output_type": "stream",
     "text": [
      " 43%|████▎     | 3102/7199 [15:22<16:01,  4.26it/s]"
     ]
    },
    {
     "name": "stdout",
     "output_type": "stream",
     "text": [
      "Error en el registro: 968593353964170175, URL: https://a0.muscache.com/pictures/prohost-api/Hosting-968593353964170175/original/893ed19f-8ee2-41c6-a9fa-89883ef33054.jpeg\n"
     ]
    },
    {
     "name": "stderr",
     "output_type": "stream",
     "text": [
      " 44%|████▎     | 3139/7199 [15:28<14:03,  4.82it/s]"
     ]
    },
    {
     "name": "stdout",
     "output_type": "stream",
     "text": [
      "Error en el registro: 972308791314572742, URL: https://a0.muscache.com/pictures/miso/Hosting-958648577659799676/original/9ad5cdd6-9295-4d90-81a6-98a88206be2b.jpeg\n"
     ]
    },
    {
     "name": "stderr",
     "output_type": "stream",
     "text": [
      " 44%|████▎     | 3141/7199 [15:29<19:35,  3.45it/s]"
     ]
    },
    {
     "name": "stdout",
     "output_type": "stream",
     "text": [
      "Error en el registro: 972382373389698405, URL: https://a0.muscache.com/pictures/miso/Hosting-972382373389698405/original/e6c48367-1649-48e1-a5fa-5d8b540fe35a.jpeg\n"
     ]
    },
    {
     "name": "stderr",
     "output_type": "stream",
     "text": [
      " 44%|████▎     | 3145/7199 [15:30<14:55,  4.53it/s]"
     ]
    },
    {
     "name": "stdout",
     "output_type": "stream",
     "text": [
      "Error en el registro: 973150249750755722, URL: https://a0.muscache.com/pictures/hosting/Hosting-973150249750755722/original/dae14b46-39fc-4d79-b15c-3dbb48d6b11d.jpeg\n"
     ]
    },
    {
     "name": "stderr",
     "output_type": "stream",
     "text": [
      " 44%|████▍     | 3177/7199 [15:37<15:39,  4.28it/s]"
     ]
    },
    {
     "name": "stdout",
     "output_type": "stream",
     "text": [
      "Error en el registro: 981474662331880096, URL: https://a0.muscache.com/pictures/miso/Hosting-981474662331880096/original/fc0e625d-d629-4591-9ada-174d16a2de48.jpeg\n"
     ]
    },
    {
     "name": "stderr",
     "output_type": "stream",
     "text": [
      " 45%|████▍     | 3206/7199 [15:49<25:17,  2.63it/s]"
     ]
    },
    {
     "name": "stdout",
     "output_type": "stream",
     "text": [
      "Error en el registro: 989119014716244187, URL: https://a0.muscache.com/pictures/miso/Hosting-989119014716244187/original/2dd60b81-2c0c-47d1-bdd6-184162af7014.png\n"
     ]
    },
    {
     "name": "stderr",
     "output_type": "stream",
     "text": [
      " 45%|████▍     | 3217/7199 [15:52<14:21,  4.62it/s]"
     ]
    },
    {
     "name": "stdout",
     "output_type": "stream",
     "text": [
      "Error en el registro: 992271751387641106, URL: https://a0.muscache.com/pictures/prohost-api/Hosting-992271751387641106/original/de2d3ae0-5fdc-4cfd-b914-5c5b47955d09.jpeg\n"
     ]
    },
    {
     "name": "stderr",
     "output_type": "stream",
     "text": [
      " 45%|████▍     | 3238/7199 [15:58<14:17,  4.62it/s]"
     ]
    },
    {
     "name": "stdout",
     "output_type": "stream",
     "text": [
      "Error en el registro: 998650346567438464, URL: https://a0.muscache.com/pictures/hosting/Hosting-998650346567438464/original/20048ffe-5c61-4602-b37a-2d9fb09e1f0a.jpeg\n"
     ]
    },
    {
     "name": "stderr",
     "output_type": "stream",
     "text": [
      " 46%|████▌     | 3297/7199 [16:18<23:23,  2.78it/s]  "
     ]
    },
    {
     "name": "stdout",
     "output_type": "stream",
     "text": [
      "Error en el registro: 1018290267718030960, URL: https://a0.muscache.com/pictures/miso/Hosting-947111916947155717/original/0cecdba9-f417-4263-82c1-6b44b8bca764.jpeg\n"
     ]
    },
    {
     "name": "stderr",
     "output_type": "stream",
     "text": [
      " 46%|████▌     | 3319/7199 [16:27<30:47,  2.10it/s]"
     ]
    },
    {
     "name": "stdout",
     "output_type": "stream",
     "text": [
      "Error en el registro: 1022632138884104441, URL: https://a0.muscache.com/pictures/miso/Hosting-1022632138884104441/original/106e8264-b80e-4ebc-b7d2-edd873622e64.jpeg\n"
     ]
    },
    {
     "name": "stderr",
     "output_type": "stream",
     "text": [
      " 46%|████▌     | 3326/7199 [16:28<16:12,  3.98it/s]"
     ]
    },
    {
     "name": "stdout",
     "output_type": "stream",
     "text": [
      "Error en el registro: 1023171573296711810, URL: https://a0.muscache.com/pictures/miso/Hosting-1023171573296711810/original/5e165f50-5d55-4066-a9e1-2869afad55d9.png\n"
     ]
    },
    {
     "name": "stderr",
     "output_type": "stream",
     "text": [
      " 46%|████▋     | 3333/7199 [16:32<18:21,  3.51it/s]"
     ]
    },
    {
     "name": "stdout",
     "output_type": "stream",
     "text": [
      "Error en el registro: 1023236994504093679, URL: https://a0.muscache.com/pictures/prohost-api/Hosting-1023236994504093679/original/8a4ca110-73e3-495c-9c3c-22e7d7ad1956.jpeg\n",
      "Error en el registro: 1023250667892620550, URL: https://a0.muscache.com/pictures/miso/Hosting-1023250667892620550/original/98caa91b-37aa-49ba-8b68-2e5aecdb394a.png\n"
     ]
    },
    {
     "name": "stderr",
     "output_type": "stream",
     "text": [
      " 47%|████▋     | 3362/7199 [16:41<16:33,  3.86it/s]"
     ]
    },
    {
     "name": "stdout",
     "output_type": "stream",
     "text": [
      "Error en el registro: 1024001223963546696, URL: https://a0.muscache.com/pictures/miso/Hosting-1024001223963546696/original/1d5139e3-0fdd-4f22-bc56-94c8bf765d3a.jpeg\n"
     ]
    },
    {
     "name": "stderr",
     "output_type": "stream",
     "text": [
      " 47%|████▋     | 3365/7199 [16:41<13:07,  4.87it/s]"
     ]
    },
    {
     "name": "stdout",
     "output_type": "stream",
     "text": [
      "Error en el registro: 1024012837777489958, URL: https://a0.muscache.com/pictures/miso/Hosting-1024012837777489958/original/ba9b4b51-10bd-4718-9549-ca7c1a22299f.jpeg\n"
     ]
    },
    {
     "name": "stderr",
     "output_type": "stream",
     "text": [
      " 47%|████▋     | 3368/7199 [16:42<18:06,  3.52it/s]"
     ]
    },
    {
     "name": "stdout",
     "output_type": "stream",
     "text": [
      "Error en el registro: 1024023972093973958, URL: https://a0.muscache.com/pictures/miso/Hosting-1024023972093973958/original/bf52704d-ae50-4f2f-b6f3-7041eb3bdff9.jpeg\n"
     ]
    },
    {
     "name": "stderr",
     "output_type": "stream",
     "text": [
      " 47%|████▋     | 3376/7199 [16:44<13:44,  4.64it/s]"
     ]
    },
    {
     "name": "stdout",
     "output_type": "stream",
     "text": [
      "Error en el registro: 1024213782261169207, URL: https://a0.muscache.com/pictures/hosting/Hosting-1024213782261169207/original/09277bad-5476-408a-a2b1-c682cac6272b.jpeg\n"
     ]
    },
    {
     "name": "stderr",
     "output_type": "stream",
     "text": [
      " 47%|████▋     | 3380/7199 [16:45<14:52,  4.28it/s]"
     ]
    },
    {
     "name": "stdout",
     "output_type": "stream",
     "text": [
      "Error en el registro: 1024263072659351531, URL: https://a0.muscache.com/pictures/miso/Hosting-1024263072659351531/original/c36e8f5d-d9ba-4651-a552-d67dfef1b468.jpeg\n",
      "Error en el registro: 1024275211393339254, URL: https://a0.muscache.com/pictures/miso/Hosting-1024263072659351531/original/c36e8f5d-d9ba-4651-a552-d67dfef1b468.jpeg\n"
     ]
    },
    {
     "name": "stderr",
     "output_type": "stream",
     "text": [
      " 47%|████▋     | 3392/7199 [16:48<12:15,  5.17it/s]"
     ]
    },
    {
     "name": "stdout",
     "output_type": "stream",
     "text": [
      "Error en el registro: 1024642924142042035, URL: https://a0.muscache.com/pictures/miso/Hosting-1024642924142042035/original/8315a95d-62be-47bb-bbc5-9cc8e8ae21a8.jpeg\n"
     ]
    },
    {
     "name": "stderr",
     "output_type": "stream",
     "text": [
      " 47%|████▋     | 3409/7199 [16:54<16:37,  3.80it/s]"
     ]
    },
    {
     "name": "stdout",
     "output_type": "stream",
     "text": [
      "Error en el registro: 1024766639203763026, URL: https://a0.muscache.com/pictures/miso/Hosting-1024766639203763026/original/b34f6b04-fae8-4850-8886-d113d81d8c2d.jpeg\n"
     ]
    },
    {
     "name": "stderr",
     "output_type": "stream",
     "text": [
      " 47%|████▋     | 3417/7199 [16:56<11:19,  5.56it/s]"
     ]
    },
    {
     "name": "stdout",
     "output_type": "stream",
     "text": [
      "Error en el registro: 1024913449187984636, URL: https://a0.muscache.com/pictures/miso/Hosting-1024913449187984636/original/d7e4a424-4020-438c-b002-90e8260f31d4.jpeg\n"
     ]
    },
    {
     "name": "stderr",
     "output_type": "stream",
     "text": [
      " 48%|████▊     | 3431/7199 [17:00<24:30,  2.56it/s]"
     ]
    },
    {
     "name": "stdout",
     "output_type": "stream",
     "text": [
      "Error en el registro: 1025387432542746150, URL: https://a0.muscache.com/pictures/miso/Hosting-1025387432542746150/original/eb58eafc-0060-4cec-9b88-802cdf15bd13.jpeg\n"
     ]
    },
    {
     "name": "stderr",
     "output_type": "stream",
     "text": [
      " 48%|████▊     | 3439/7199 [17:02<13:52,  4.52it/s]"
     ]
    },
    {
     "name": "stdout",
     "output_type": "stream",
     "text": [
      "Error en el registro: 1025423935350953497, URL: https://a0.muscache.com/pictures/miso/Hosting-1025423935350953497/original/431d7db3-12ba-4b51-b913-9588f91079a7.jpeg\n"
     ]
    },
    {
     "name": "stderr",
     "output_type": "stream",
     "text": [
      " 48%|████▊     | 3448/7199 [17:05<22:38,  2.76it/s]"
     ]
    },
    {
     "name": "stdout",
     "output_type": "stream",
     "text": [
      "Error en el registro: 1025469496917369707, URL: https://a0.muscache.com/pictures/miso/Hosting-1025469496917369707/original/739e77ca-b59d-46ef-bbdb-e94c9c862112.jpeg\n"
     ]
    },
    {
     "name": "stderr",
     "output_type": "stream",
     "text": [
      " 49%|████▊     | 3497/7199 [17:18<13:43,  4.50it/s]"
     ]
    },
    {
     "name": "stdout",
     "output_type": "stream",
     "text": [
      "Error en el registro: 1029167143567713293, URL: https://a0.muscache.com/pictures/miso/Hosting-1029167143567713293/original/8d43b2c0-ec8a-4c1f-9816-36c57525b24c.jpeg\n"
     ]
    },
    {
     "name": "stderr",
     "output_type": "stream",
     "text": [
      " 49%|████▊     | 3499/7199 [17:18<12:58,  4.75it/s]"
     ]
    },
    {
     "name": "stdout",
     "output_type": "stream",
     "text": [
      "Error en el registro: 1029205665203211474, URL: https://a0.muscache.com/pictures/miso/Hosting-1029205665203211474/original/0d0e4b16-57b7-4bad-a9af-930af25672cc.jpeg\n"
     ]
    },
    {
     "name": "stderr",
     "output_type": "stream",
     "text": [
      " 50%|████▉     | 3573/7199 [17:41<18:01,  3.35it/s]"
     ]
    },
    {
     "name": "stdout",
     "output_type": "stream",
     "text": [
      "Error en el registro: 1043585223983157783, URL: https://a0.muscache.com/pictures/miso/Hosting-1043585223983157783/original/7a07c496-de3b-42f0-869e-2dd753ef2a3c.jpeg\n"
     ]
    },
    {
     "name": "stderr",
     "output_type": "stream",
     "text": [
      " 50%|█████     | 3615/7199 [18:02<27:16,  2.19it/s]"
     ]
    },
    {
     "name": "stdout",
     "output_type": "stream",
     "text": [
      "Error en el registro: 77691, URL: https://a0.muscache.com/pictures/18698089/0b22a030_original.jpg\n"
     ]
    },
    {
     "name": "stderr",
     "output_type": "stream",
     "text": [
      " 50%|█████     | 3623/7199 [18:05<26:14,  2.27it/s]"
     ]
    },
    {
     "name": "stdout",
     "output_type": "stream",
     "text": [
      "Error en el registro: 220676, URL: https://a0.muscache.com/pictures/2143912/1608e26a_original.jpg\n"
     ]
    },
    {
     "name": "stderr",
     "output_type": "stream",
     "text": [
      " 51%|█████     | 3650/7199 [18:17<30:47,  1.92it/s]"
     ]
    },
    {
     "name": "stdout",
     "output_type": "stream",
     "text": [
      "Error en el registro: 1130279, URL: https://a0.muscache.com/pictures/miso/Hosting-1130279/original/1ff92114-4883-42f1-90c2-a51fa75140ad.jpeg\n"
     ]
    },
    {
     "name": "stderr",
     "output_type": "stream",
     "text": [
      " 51%|█████     | 3658/7199 [18:20<20:12,  2.92it/s]"
     ]
    },
    {
     "name": "stdout",
     "output_type": "stream",
     "text": [
      "Error en el registro: 1445064, URL: https://a0.muscache.com/pictures/22175517/62b99022_original.jpg\n"
     ]
    },
    {
     "name": "stderr",
     "output_type": "stream",
     "text": [
      " 51%|█████     | 3683/7199 [18:27<12:41,  4.62it/s]"
     ]
    },
    {
     "name": "stdout",
     "output_type": "stream",
     "text": [
      "Error en el registro: 2381143, URL: https://a0.muscache.com/pictures/miso/Hosting-2381143/original/fe2a01b1-7652-476f-b552-032879da8f04.png\n"
     ]
    },
    {
     "name": "stderr",
     "output_type": "stream",
     "text": [
      " 52%|█████▏    | 3709/7199 [18:36<26:19,  2.21it/s]"
     ]
    },
    {
     "name": "stdout",
     "output_type": "stream",
     "text": [
      "Error en el registro: 4000384, URL: https://a0.muscache.com/pictures/c168962e-1a48-461d-a568-3ec4bf9a6c65.jpg\n"
     ]
    },
    {
     "name": "stderr",
     "output_type": "stream",
     "text": [
      " 52%|█████▏    | 3710/7199 [18:37<22:36,  2.57it/s]"
     ]
    },
    {
     "name": "stdout",
     "output_type": "stream",
     "text": [
      "Error en el registro: 4090224, URL: https://a0.muscache.com/pictures/miso/Hosting-4090224/original/ab9132a7-8b00-407f-a67a-9100b3c8707f.jpeg\n"
     ]
    },
    {
     "name": "stderr",
     "output_type": "stream",
     "text": [
      " 52%|█████▏    | 3724/7199 [18:40<11:00,  5.26it/s]"
     ]
    },
    {
     "name": "stdout",
     "output_type": "stream",
     "text": [
      "Error en el registro: 4461846, URL: https://a0.muscache.com/pictures/prohost-api/Hosting-4461846/original/fc197865-7e72-4359-963f-ca4c1ce97bb5.jpeg\n"
     ]
    },
    {
     "name": "stderr",
     "output_type": "stream",
     "text": [
      " 52%|█████▏    | 3735/7199 [18:44<22:22,  2.58it/s]"
     ]
    },
    {
     "name": "stdout",
     "output_type": "stream",
     "text": [
      "Error en el registro: 4623114, URL: https://a0.muscache.com/pictures/prohost-api/Hosting-4623114/original/7c8d41af-cbd1-4666-8705-937098a17bf2.jpeg\n"
     ]
    },
    {
     "name": "stderr",
     "output_type": "stream",
     "text": [
      " 52%|█████▏    | 3739/7199 [18:45<15:14,  3.78it/s]"
     ]
    },
    {
     "name": "stdout",
     "output_type": "stream",
     "text": [
      "Error en el registro: 4662379, URL: https://a0.muscache.com/pictures/90646201/a9cbf501_original.jpg\n",
      "Error en el registro: 4699828, URL: https://a0.muscache.com/pictures/72880628/d3e48f2c_original.jpg\n"
     ]
    },
    {
     "name": "stderr",
     "output_type": "stream",
     "text": [
      " 52%|█████▏    | 3765/7199 [18:53<12:09,  4.70it/s]"
     ]
    },
    {
     "name": "stdout",
     "output_type": "stream",
     "text": [
      "Error en el registro: 5768819, URL: https://a0.muscache.com/pictures/fc3371ed-197d-4484-bd24-5d2281c9f356.jpg\n"
     ]
    },
    {
     "name": "stderr",
     "output_type": "stream",
     "text": [
      " 53%|█████▎    | 3788/7199 [19:00<14:27,  3.93it/s]"
     ]
    },
    {
     "name": "stdout",
     "output_type": "stream",
     "text": [
      "Error en el registro: 6646604, URL: https://a0.muscache.com/pictures/miso/Hosting-6646604/original/0f04720b-b742-4aba-b252-2be9080145e9.jpeg\n"
     ]
    },
    {
     "name": "stderr",
     "output_type": "stream",
     "text": [
      " 53%|█████▎    | 3830/7199 [19:09<11:57,  4.70it/s]"
     ]
    },
    {
     "name": "stdout",
     "output_type": "stream",
     "text": [
      "Error en el registro: 7531700, URL: https://a0.muscache.com/pictures/prohost-api/Hosting-7531700/original/67306117-5e1a-46b6-b1a9-8694dc769b9c.jpeg\n"
     ]
    },
    {
     "name": "stderr",
     "output_type": "stream",
     "text": [
      " 53%|█████▎    | 3840/7199 [19:11<10:26,  5.36it/s]"
     ]
    },
    {
     "name": "stdout",
     "output_type": "stream",
     "text": [
      "Error en el registro: 7837202, URL: https://a0.muscache.com/pictures/prohost-api/Hosting-7837202/original/37ec70e7-1b6c-415e-8ecf-7f8087aaca6d.jpeg\n"
     ]
    },
    {
     "name": "stderr",
     "output_type": "stream",
     "text": [
      " 54%|█████▍    | 3873/7199 [19:21<12:23,  4.47it/s]"
     ]
    },
    {
     "name": "stdout",
     "output_type": "stream",
     "text": [
      "Error en el registro: 8923817, URL: https://a0.muscache.com/pictures/cb235ed0-66b6-4e23-8b32-9ef6bf35e9fb.jpg\n"
     ]
    },
    {
     "name": "stderr",
     "output_type": "stream",
     "text": [
      " 55%|█████▍    | 3943/7199 [19:42<15:03,  3.61it/s]"
     ]
    },
    {
     "name": "stdout",
     "output_type": "stream",
     "text": [
      "Error en el registro: 12949309, URL: https://a0.muscache.com/pictures/e3f457c4-5f1a-4151-a3c8-e53f161d57fb.jpg\n"
     ]
    },
    {
     "name": "stderr",
     "output_type": "stream",
     "text": [
      " 55%|█████▍    | 3947/7199 [19:43<12:31,  4.33it/s]"
     ]
    },
    {
     "name": "stdout",
     "output_type": "stream",
     "text": [
      "Error en el registro: 13063952, URL: https://a0.muscache.com/pictures/10f6f3b2-e035-4e51-b533-08531934f3b9.jpg\n"
     ]
    },
    {
     "name": "stderr",
     "output_type": "stream",
     "text": [
      " 55%|█████▌    | 3967/7199 [19:50<23:11,  2.32it/s]"
     ]
    },
    {
     "name": "stdout",
     "output_type": "stream",
     "text": [
      "Error en el registro: 13613229, URL: https://a0.muscache.com/pictures/7fef86ac-75ff-44a3-ae8a-60639f1548eb.jpg\n"
     ]
    },
    {
     "name": "stderr",
     "output_type": "stream",
     "text": [
      " 55%|█████▌    | 3970/7199 [19:51<14:56,  3.60it/s]"
     ]
    },
    {
     "name": "stdout",
     "output_type": "stream",
     "text": [
      "Error en el registro: 13650313, URL: https://a0.muscache.com/pictures/prohost-api/Hosting-13650313/original/1713739f-5d53-45db-aa2e-611c2098615d.jpeg\n"
     ]
    },
    {
     "name": "stderr",
     "output_type": "stream",
     "text": [
      " 55%|█████▌    | 3989/7199 [19:55<09:07,  5.87it/s]"
     ]
    },
    {
     "name": "stdout",
     "output_type": "stream",
     "text": [
      "Error en el registro: 14229841, URL: https://a0.muscache.com/pictures/prohost-api/Hosting-14229841/original/c611eaeb-4983-4a3c-9525-fcabb3b0fbf5.jpeg\n"
     ]
    },
    {
     "name": "stderr",
     "output_type": "stream",
     "text": [
      " 56%|█████▌    | 4015/7199 [20:03<12:21,  4.29it/s]"
     ]
    },
    {
     "name": "stdout",
     "output_type": "stream",
     "text": [
      "Error en el registro: 14976039, URL: https://a0.muscache.com/pictures/prohost-api/Hosting-14976039/original/30b560e4-51f7-4f35-9b4d-343aa5074bc2.jpeg\n"
     ]
    },
    {
     "name": "stderr",
     "output_type": "stream",
     "text": [
      " 56%|█████▌    | 4027/7199 [20:07<13:53,  3.80it/s]"
     ]
    },
    {
     "name": "stdout",
     "output_type": "stream",
     "text": [
      "Error en el registro: 15342021, URL: https://a0.muscache.com/pictures/f805da52-3971-4361-9881-f11775636c63.jpg\n"
     ]
    },
    {
     "name": "stderr",
     "output_type": "stream",
     "text": [
      " 56%|█████▌    | 4034/7199 [20:11<23:02,  2.29it/s]"
     ]
    },
    {
     "name": "stdout",
     "output_type": "stream",
     "text": [
      "Error en el registro: 15819226, URL: https://a0.muscache.com/pictures/0d0adcee-76b9-48bc-9dd7-aeca958a23a2.jpg\n"
     ]
    },
    {
     "name": "stderr",
     "output_type": "stream",
     "text": [
      " 56%|█████▌    | 4045/7199 [20:14<10:59,  4.79it/s]"
     ]
    },
    {
     "name": "stdout",
     "output_type": "stream",
     "text": [
      "Error en el registro: 16148182, URL: https://a0.muscache.com/pictures/22ff0a41-874e-4723-b465-22d234d672e5.jpg\n"
     ]
    },
    {
     "name": "stderr",
     "output_type": "stream",
     "text": [
      " 56%|█████▋    | 4064/7199 [20:20<25:38,  2.04it/s]"
     ]
    },
    {
     "name": "stdout",
     "output_type": "stream",
     "text": [
      "Error en el registro: 17023481, URL: https://a0.muscache.com/pictures/prohost-api/Hosting-17023481/original/c66d1dcf-8cae-4a0f-b34d-e8a9da3882ab.jpeg\n"
     ]
    },
    {
     "name": "stderr",
     "output_type": "stream",
     "text": [
      " 56%|█████▋    | 4065/7199 [20:20<24:42,  2.11it/s]"
     ]
    },
    {
     "name": "stdout",
     "output_type": "stream",
     "text": [
      "Error en el registro: 17042710, URL: https://a0.muscache.com/pictures/prohost-api/Hosting-17042710/original/0a2e4db0-4940-4a4b-b948-11bef8ec0ed5.jpeg\n"
     ]
    },
    {
     "name": "stderr",
     "output_type": "stream",
     "text": [
      " 57%|█████▋    | 4084/7199 [20:27<14:35,  3.56it/s]"
     ]
    },
    {
     "name": "stdout",
     "output_type": "stream",
     "text": [
      "Error en el registro: 17617918, URL: https://a0.muscache.com/pictures/prohost-api/Hosting-17617918/original/aa7f3f57-a69b-439a-941d-5367cf50ef7c.jpeg\n"
     ]
    },
    {
     "name": "stderr",
     "output_type": "stream",
     "text": [
      " 57%|█████▋    | 4094/7199 [20:35<1:09:54,  1.35s/it]"
     ]
    },
    {
     "name": "stdout",
     "output_type": "stream",
     "text": [
      "Error en el registro: 17942707, URL: https://a0.muscache.com/pictures/e604dcf8-6900-4b02-9087-91eb98c1691a.jpg\n"
     ]
    },
    {
     "name": "stderr",
     "output_type": "stream",
     "text": [
      " 57%|█████▋    | 4100/7199 [20:37<22:24,  2.30it/s]  "
     ]
    },
    {
     "name": "stdout",
     "output_type": "stream",
     "text": [
      "Error en el registro: 18032982, URL: https://a0.muscache.com/pictures/prohost-api/Hosting-18032982/original/2c71e21b-33cd-4f6a-ae22-287cdeaedfc0.jpeg\n"
     ]
    },
    {
     "name": "stderr",
     "output_type": "stream",
     "text": [
      " 57%|█████▋    | 4103/7199 [20:38<16:43,  3.08it/s]"
     ]
    },
    {
     "name": "stdout",
     "output_type": "stream",
     "text": [
      "Error en el registro: 18170647, URL: https://a0.muscache.com/pictures/miso/Hosting-18170647/original/d7c346d7-a904-4e8c-8356-4de5eb79c60f.jpeg\n"
     ]
    },
    {
     "name": "stderr",
     "output_type": "stream",
     "text": [
      " 58%|█████▊    | 4152/7199 [20:54<11:24,  4.45it/s]"
     ]
    },
    {
     "name": "stdout",
     "output_type": "stream",
     "text": [
      "Error en el registro: 19969497, URL: https://a0.muscache.com/pictures/miso/Hosting-19969497/original/2a822aed-e88f-4676-b990-1a719a44c0b4.jpeg\n"
     ]
    },
    {
     "name": "stderr",
     "output_type": "stream",
     "text": [
      " 58%|█████▊    | 4203/7199 [21:12<10:11,  4.90it/s]"
     ]
    },
    {
     "name": "stdout",
     "output_type": "stream",
     "text": [
      "Error en el registro: 21596829, URL: https://a0.muscache.com/pictures/4ab44899-6a80-4b45-8671-d42196ed8350.jpg\n"
     ]
    },
    {
     "name": "stderr",
     "output_type": "stream",
     "text": [
      " 59%|█████▉    | 4253/7199 [21:31<14:24,  3.41it/s]"
     ]
    },
    {
     "name": "stdout",
     "output_type": "stream",
     "text": [
      "Error en el registro: 23289684, URL: https://a0.muscache.com/pictures/aeda0be5-b9b8-48b9-ab3d-dd9053e65734.jpg\n"
     ]
    },
    {
     "name": "stderr",
     "output_type": "stream",
     "text": [
      " 59%|█████▉    | 4275/7199 [21:37<14:43,  3.31it/s]"
     ]
    },
    {
     "name": "stdout",
     "output_type": "stream",
     "text": [
      "Error en el registro: 23841523, URL: https://a0.muscache.com/pictures/9ba55672-3899-4b0e-b3a2-c6c5be9c463c.jpg\n"
     ]
    },
    {
     "name": "stderr",
     "output_type": "stream",
     "text": [
      " 59%|█████▉    | 4277/7199 [21:37<12:43,  3.83it/s]"
     ]
    },
    {
     "name": "stdout",
     "output_type": "stream",
     "text": [
      "Error en el registro: 23912131, URL: https://a0.muscache.com/pictures/eb441f94-0f0b-4436-943d-f3f2bf5aa164.jpg\n"
     ]
    },
    {
     "name": "stderr",
     "output_type": "stream",
     "text": [
      " 60%|█████▉    | 4292/7199 [21:42<17:36,  2.75it/s]"
     ]
    },
    {
     "name": "stdout",
     "output_type": "stream",
     "text": [
      "Error en el registro: 24347267, URL: https://a0.muscache.com/pictures/03944a33-597d-4f7c-9e69-271a62f221a6.jpg\n"
     ]
    },
    {
     "name": "stderr",
     "output_type": "stream",
     "text": [
      " 60%|█████▉    | 4296/7199 [21:44<19:51,  2.44it/s]"
     ]
    },
    {
     "name": "stdout",
     "output_type": "stream",
     "text": [
      "Error en el registro: 24563107, URL: https://a0.muscache.com/pictures/43b67d11-54b2-4a2b-803e-ce693e25696e.jpg\n"
     ]
    },
    {
     "name": "stderr",
     "output_type": "stream",
     "text": [
      " 60%|█████▉    | 4309/7199 [21:47<09:39,  4.99it/s]"
     ]
    },
    {
     "name": "stdout",
     "output_type": "stream",
     "text": [
      "Error en el registro: 24944930, URL: https://a0.muscache.com/pictures/75319c2e-294f-48dd-a5e8-76c5a2164d89.jpg\n"
     ]
    },
    {
     "name": "stderr",
     "output_type": "stream",
     "text": [
      " 60%|██████    | 4337/7199 [21:57<10:18,  4.62it/s]"
     ]
    },
    {
     "name": "stdout",
     "output_type": "stream",
     "text": [
      "Error en el registro: 26160905, URL: https://a0.muscache.com/pictures/971baba7-a4a1-42c5-b690-b5bb8180cde2.jpg\n"
     ]
    },
    {
     "name": "stderr",
     "output_type": "stream",
     "text": [
      " 61%|██████    | 4375/7199 [22:11<10:17,  4.57it/s]"
     ]
    },
    {
     "name": "stdout",
     "output_type": "stream",
     "text": [
      "Error en el registro: 28360335, URL: https://a0.muscache.com/pictures/prohost-api/Hosting-28360335/original/c8d8cd53-ed9e-4831-ba48-a838f2ac2bcf.jpeg\n"
     ]
    },
    {
     "name": "stderr",
     "output_type": "stream",
     "text": [
      " 61%|██████▏   | 4410/7199 [22:22<14:41,  3.16it/s]"
     ]
    },
    {
     "name": "stdout",
     "output_type": "stream",
     "text": [
      "Error en el registro: 29682500, URL: https://a0.muscache.com/pictures/pro_photo_tool/Hosting-29682500-unapproved/original/9b8998d9-840b-46b1-a25e-4789ff346f20.JPEG\n"
     ]
    },
    {
     "name": "stderr",
     "output_type": "stream",
     "text": [
      " 61%|██████▏   | 4411/7199 [22:23<13:33,  3.43it/s]"
     ]
    },
    {
     "name": "stdout",
     "output_type": "stream",
     "text": [
      "Error en el registro: 29702825, URL: https://a0.muscache.com/pictures/prohost-api/Hosting-29702825/original/32a037b0-43f1-4954-946b-9d1364829d04.jpeg\n"
     ]
    },
    {
     "name": "stderr",
     "output_type": "stream",
     "text": [
      " 61%|██████▏   | 4427/7199 [22:29<12:38,  3.66it/s]"
     ]
    },
    {
     "name": "stdout",
     "output_type": "stream",
     "text": [
      "Error en el registro: 30180140, URL: https://a0.muscache.com/pictures/48c10d62-5750-4364-9e3a-54439983cb6b.jpg\n"
     ]
    },
    {
     "name": "stderr",
     "output_type": "stream",
     "text": [
      " 62%|██████▏   | 4428/7199 [22:29<11:43,  3.94it/s]"
     ]
    },
    {
     "name": "stdout",
     "output_type": "stream",
     "text": [
      "Error en el registro: 30268517, URL: https://a0.muscache.com/pictures/9a56c86d-d5f3-4737-a658-1fd9885e8d61.jpg\n"
     ]
    },
    {
     "name": "stderr",
     "output_type": "stream",
     "text": [
      " 62%|██████▏   | 4432/7199 [22:31<24:31,  1.88it/s]"
     ]
    },
    {
     "name": "stdout",
     "output_type": "stream",
     "text": [
      "Error en el registro: 30390378, URL: https://a0.muscache.com/pictures/prohost-api/Hosting-30390378/original/244ec1dc-2c48-4e5e-84cf-fb57110e4bc7.jpeg\n"
     ]
    },
    {
     "name": "stderr",
     "output_type": "stream",
     "text": [
      " 62%|██████▏   | 4433/7199 [22:31<20:05,  2.30it/s]"
     ]
    },
    {
     "name": "stdout",
     "output_type": "stream",
     "text": [
      "Error en el registro: 30397078, URL: https://a0.muscache.com/pictures/prohost-api/Hosting-30397078/original/337887d6-4c7c-4550-9f1f-5e4ee671b8f6.jpeg\n"
     ]
    },
    {
     "name": "stderr",
     "output_type": "stream",
     "text": [
      " 62%|██████▏   | 4437/7199 [22:32<10:43,  4.29it/s]"
     ]
    },
    {
     "name": "stdout",
     "output_type": "stream",
     "text": [
      "Error en el registro: 30516467, URL: https://a0.muscache.com/pictures/prohost-api/Hosting-30516467/original/57a80027-7bdb-4fac-a4dd-5656631425d0.jpeg\n"
     ]
    },
    {
     "name": "stderr",
     "output_type": "stream",
     "text": [
      " 62%|██████▏   | 4447/7199 [22:36<15:22,  2.98it/s]"
     ]
    },
    {
     "name": "stdout",
     "output_type": "stream",
     "text": [
      "Error en el registro: 31185088, URL: https://a0.muscache.com/pictures/2ce1fe90-fb8f-4136-afcd-6ecb91a3a624.jpg\n"
     ]
    },
    {
     "name": "stderr",
     "output_type": "stream",
     "text": [
      " 62%|██████▏   | 4464/7199 [22:42<11:13,  4.06it/s]"
     ]
    },
    {
     "name": "stdout",
     "output_type": "stream",
     "text": [
      "Error en el registro: 32330465, URL: https://a0.muscache.com/pictures/miso/Hosting-32330465/original/7e2aa39c-61d9-41d8-97aa-393ee35fade9.png\n",
      "Error en el registro: 32330630, URL: https://a0.muscache.com/pictures/b848723a-0ed9-4b49-8c84-9d7eb14ce088.jpg\n"
     ]
    },
    {
     "name": "stderr",
     "output_type": "stream",
     "text": [
      " 62%|██████▏   | 4483/7199 [22:48<12:20,  3.67it/s]"
     ]
    },
    {
     "name": "stdout",
     "output_type": "stream",
     "text": [
      "Error en el registro: 33196944, URL: https://a0.muscache.com/pictures/prohost-api/Hosting-33196944/original/bb6a5cd0-7ee6-4465-824d-cd4cb0c5d652.jpeg\n"
     ]
    },
    {
     "name": "stderr",
     "output_type": "stream",
     "text": [
      " 62%|██████▏   | 4493/7199 [22:50<10:26,  4.32it/s]"
     ]
    },
    {
     "name": "stdout",
     "output_type": "stream",
     "text": [
      "Error en el registro: 33439464, URL: https://a0.muscache.com/pictures/prohost-api/Hosting-33439464/original/97081848-d2c3-47e1-8647-ac8af1c3f6dc.jpeg\n"
     ]
    },
    {
     "name": "stderr",
     "output_type": "stream",
     "text": [
      " 62%|██████▏   | 4494/7199 [22:51<13:14,  3.41it/s]"
     ]
    },
    {
     "name": "stdout",
     "output_type": "stream",
     "text": [
      "Error en el registro: 33440102, URL: https://a0.muscache.com/pictures/prohost-api/Hosting-33440102/original/9c6d9fa6-c962-4f7c-b69f-898bdd560ea4.jpeg\n"
     ]
    },
    {
     "name": "stderr",
     "output_type": "stream",
     "text": [
      " 62%|██████▏   | 4497/7199 [22:51<11:32,  3.90it/s]"
     ]
    },
    {
     "name": "stdout",
     "output_type": "stream",
     "text": [
      "Error en el registro: 33530646, URL: https://a0.muscache.com/pictures/a8cdc116-e934-4b9f-b8f2-91b8d69343b9.jpg\n"
     ]
    },
    {
     "name": "stderr",
     "output_type": "stream",
     "text": [
      " 63%|██████▎   | 4508/7199 [22:55<11:48,  3.80it/s]"
     ]
    },
    {
     "name": "stdout",
     "output_type": "stream",
     "text": [
      "Error en el registro: 34133759, URL: https://a0.muscache.com/pictures/prohost-api/Hosting-34133759/original/1dc53195-b06f-4fed-a860-92e1718bdccb.jpeg\n"
     ]
    },
    {
     "name": "stderr",
     "output_type": "stream",
     "text": [
      " 63%|██████▎   | 4519/7199 [22:58<12:48,  3.49it/s]"
     ]
    },
    {
     "name": "stdout",
     "output_type": "stream",
     "text": [
      "Error en el registro: 34974052, URL: https://a0.muscache.com/pictures/prohost-api/Hosting-34974052/original/80db035e-1445-4ce8-8314-e9175130884b.jpeg\n"
     ]
    },
    {
     "name": "stderr",
     "output_type": "stream",
     "text": [
      " 63%|██████▎   | 4534/7199 [23:03<11:05,  4.00it/s]"
     ]
    },
    {
     "name": "stdout",
     "output_type": "stream",
     "text": [
      "Error en el registro: 35481543, URL: https://a0.muscache.com/pictures/prohost-api/Hosting-35481543/original/38658947-e448-49ca-b0b2-607429f1b5b0.jpeg\n"
     ]
    },
    {
     "name": "stderr",
     "output_type": "stream",
     "text": [
      " 64%|██████▎   | 4580/7199 [23:17<13:02,  3.35it/s]"
     ]
    },
    {
     "name": "stdout",
     "output_type": "stream",
     "text": [
      "Error en el registro: 37068313, URL: https://a0.muscache.com/pictures/prohost-api/Hosting-37068313/original/c51bac91-f35e-4e1e-bb88-07934499bfdd.jpeg\n"
     ]
    },
    {
     "name": "stderr",
     "output_type": "stream",
     "text": [
      " 64%|██████▎   | 4587/7199 [23:19<11:12,  3.89it/s]"
     ]
    },
    {
     "name": "stdout",
     "output_type": "stream",
     "text": [
      "Error en el registro: 37709158, URL: https://a0.muscache.com/pictures/prohost-api/Hosting-37709158/original/09489cb1-f4c7-436f-a7e8-018a7079c658.jpeg\n"
     ]
    },
    {
     "name": "stderr",
     "output_type": "stream",
     "text": [
      " 64%|██████▍   | 4605/7199 [23:25<11:16,  3.83it/s]"
     ]
    },
    {
     "name": "stdout",
     "output_type": "stream",
     "text": [
      "Error en el registro: 38178173, URL: https://a0.muscache.com/pictures/prohost-api/Hosting-38178173/original/e1b494b8-9fc3-466a-8789-9d3afa032807.jpeg\n"
     ]
    },
    {
     "name": "stderr",
     "output_type": "stream",
     "text": [
      " 64%|██████▍   | 4606/7199 [23:25<10:48,  4.00it/s]"
     ]
    },
    {
     "name": "stdout",
     "output_type": "stream",
     "text": [
      "Error en el registro: 38274887, URL: https://a0.muscache.com/pictures/prohost-api/Hosting-38274887/original/ee5fb630-9250-4f85-b0e7-794619ceedf6.jpeg\n"
     ]
    },
    {
     "name": "stderr",
     "output_type": "stream",
     "text": [
      " 64%|██████▍   | 4615/7199 [23:27<09:52,  4.36it/s]"
     ]
    },
    {
     "name": "stdout",
     "output_type": "stream",
     "text": [
      "Error en el registro: 38513768, URL: https://a0.muscache.com/pictures/prohost-api/Hosting-38513768/original/43b5f7ad-a3a1-4019-993f-c5ebe3168d59.jpeg\n"
     ]
    },
    {
     "name": "stderr",
     "output_type": "stream",
     "text": [
      " 64%|██████▍   | 4638/7199 [23:34<10:29,  4.07it/s]"
     ]
    },
    {
     "name": "stdout",
     "output_type": "stream",
     "text": [
      "Error en el registro: 39536784, URL: https://a0.muscache.com/pictures/miso/Hosting-39536784/original/d1c26658-a946-468a-9a39-c6a3dfb23691.jpeg\n"
     ]
    },
    {
     "name": "stderr",
     "output_type": "stream",
     "text": [
      " 65%|██████▍   | 4650/7199 [23:37<08:28,  5.02it/s]"
     ]
    },
    {
     "name": "stdout",
     "output_type": "stream",
     "text": [
      "Error en el registro: 39908091, URL: https://a0.muscache.com/pictures/prohost-api/Hosting-39908091/original/17a09417-8eab-48b1-a21b-904f1837e84f.jpeg\n"
     ]
    },
    {
     "name": "stderr",
     "output_type": "stream",
     "text": [
      " 65%|██████▍   | 4665/7199 [23:41<08:45,  4.82it/s]"
     ]
    },
    {
     "name": "stdout",
     "output_type": "stream",
     "text": [
      "Error en el registro: 40423797, URL: https://a0.muscache.com/pictures/prohost-api/Hosting-40423797/original/374a8e77-d840-480b-ba94-51b8d7337e0c.jpeg\n"
     ]
    },
    {
     "name": "stderr",
     "output_type": "stream",
     "text": [
      " 65%|██████▍   | 4676/7199 [23:44<11:46,  3.57it/s]"
     ]
    },
    {
     "name": "stdout",
     "output_type": "stream",
     "text": [
      "Error en el registro: 40617998, URL: https://a0.muscache.com/pictures/miso/Hosting-40617998/original/6c9424ed-eaca-433f-9099-a9c9782dea58.jpeg\n"
     ]
    },
    {
     "name": "stderr",
     "output_type": "stream",
     "text": [
      " 65%|██████▌   | 4692/7199 [23:50<10:11,  4.10it/s]"
     ]
    },
    {
     "name": "stdout",
     "output_type": "stream",
     "text": [
      "Error en el registro: 41102403, URL: https://a0.muscache.com/pictures/prohost-api/Hosting-41102403/original/da9a9606-9604-4c01-b3ea-c1a3670b78e5.jpeg\n"
     ]
    },
    {
     "name": "stderr",
     "output_type": "stream",
     "text": [
      " 65%|██████▌   | 4693/7199 [23:50<09:56,  4.20it/s]"
     ]
    },
    {
     "name": "stdout",
     "output_type": "stream",
     "text": [
      "Error en el registro: 41102476, URL: https://a0.muscache.com/pictures/prohost-api/Hosting-41102476/original/04617580-6650-48c9-8e4c-c00f54156a8c.jpeg\n"
     ]
    },
    {
     "name": "stderr",
     "output_type": "stream",
     "text": [
      " 65%|██████▌   | 4703/7199 [23:53<12:02,  3.45it/s]"
     ]
    },
    {
     "name": "stdout",
     "output_type": "stream",
     "text": [
      "Error en el registro: 41614184, URL: https://a0.muscache.com/pictures/2d4d9af2-32eb-4fdd-8ce7-f2b5bdc94853.jpg\n"
     ]
    },
    {
     "name": "stderr",
     "output_type": "stream",
     "text": [
      " 65%|██████▌   | 4706/7199 [23:54<12:26,  3.34it/s]"
     ]
    },
    {
     "name": "stdout",
     "output_type": "stream",
     "text": [
      "Error en el registro: 41765021, URL: https://a0.muscache.com/pictures/ee7985b8-9db3-4c5c-9143-b1ff052dd862.jpg\n"
     ]
    },
    {
     "name": "stderr",
     "output_type": "stream",
     "text": [
      " 65%|██████▌   | 4707/7199 [23:54<11:22,  3.65it/s]"
     ]
    },
    {
     "name": "stdout",
     "output_type": "stream",
     "text": [
      "Error en el registro: 41785374, URL: https://a0.muscache.com/pictures/prohost-api/Hosting-41785374/original/61a91ae7-d44c-4914-8abd-db076afedf4f.jpeg\n"
     ]
    },
    {
     "name": "stderr",
     "output_type": "stream",
     "text": [
      " 65%|██████▌   | 4708/7199 [23:55<10:56,  3.80it/s]"
     ]
    },
    {
     "name": "stdout",
     "output_type": "stream",
     "text": [
      "Error en el registro: 41785889, URL: https://a0.muscache.com/pictures/prohost-api/Hosting-41785889/original/8f975c1d-488b-432e-81ee-cdb79c1c02aa.jpeg\n"
     ]
    },
    {
     "name": "stderr",
     "output_type": "stream",
     "text": [
      " 65%|██████▌   | 4710/7199 [23:55<09:35,  4.32it/s]"
     ]
    },
    {
     "name": "stdout",
     "output_type": "stream",
     "text": [
      "Error en el registro: 41903226, URL: https://a0.muscache.com/pictures/prohost-api/Hosting-41903226/original/7a269ac9-2f1b-4602-8bdf-4ff24a9a6777.jpeg\n"
     ]
    },
    {
     "name": "stderr",
     "output_type": "stream",
     "text": [
      " 65%|██████▌   | 4712/7199 [23:55<08:32,  4.85it/s]"
     ]
    },
    {
     "name": "stdout",
     "output_type": "stream",
     "text": [
      "Error en el registro: 41925155, URL: https://a0.muscache.com/pictures/prohost-api/Hosting-41925155/original/2ea402f5-82d2-4893-99cf-0d6ceca7f403.jpeg\n"
     ]
    },
    {
     "name": "stderr",
     "output_type": "stream",
     "text": [
      " 65%|██████▌   | 4715/7199 [23:56<08:41,  4.76it/s]"
     ]
    },
    {
     "name": "stdout",
     "output_type": "stream",
     "text": [
      "Error en el registro: 41953347, URL: https://a0.muscache.com/pictures/prohost-api/Hosting-41953347/original/920668ea-3248-402a-a2f4-e85a90c92ca1.jpeg\n"
     ]
    },
    {
     "name": "stderr",
     "output_type": "stream",
     "text": [
      " 66%|██████▌   | 4716/7199 [23:56<08:49,  4.69it/s]"
     ]
    },
    {
     "name": "stdout",
     "output_type": "stream",
     "text": [
      "Error en el registro: 41953381, URL: https://a0.muscache.com/pictures/prohost-api/Hosting-41953381/original/1dfc0495-f723-4331-8a89-4ac4d88edd0c.jpeg\n"
     ]
    },
    {
     "name": "stderr",
     "output_type": "stream",
     "text": [
      " 66%|██████▌   | 4722/7199 [23:58<09:12,  4.48it/s]"
     ]
    },
    {
     "name": "stdout",
     "output_type": "stream",
     "text": [
      "Error en el registro: 42080174, URL: https://a0.muscache.com/pictures/prohost-api/Hosting-42080174/original/70a61753-d83a-4323-b5be-66365f32d0af.jpeg\n",
      "Error en el registro: 42080205, URL: https://a0.muscache.com/pictures/prohost-api/Hosting-42080205/original/180c0cef-eb46-4641-a6be-71872fc644ee.jpeg\n"
     ]
    },
    {
     "name": "stderr",
     "output_type": "stream",
     "text": [
      " 66%|██████▌   | 4724/7199 [23:58<08:24,  4.91it/s]"
     ]
    },
    {
     "name": "stdout",
     "output_type": "stream",
     "text": [
      "Error en el registro: 42195053, URL: https://a0.muscache.com/pictures/prohost-api/Hosting-42195053/original/66a57514-4d25-4268-815b-68465adc5717.jpeg\n"
     ]
    },
    {
     "name": "stderr",
     "output_type": "stream",
     "text": [
      " 66%|██████▌   | 4734/7199 [24:01<12:54,  3.18it/s]"
     ]
    },
    {
     "name": "stdout",
     "output_type": "stream",
     "text": [
      "Error en el registro: 42708089, URL: https://a0.muscache.com/pictures/prohost-api/Hosting-42708089/original/63e58680-832d-47de-b782-380659efda4c.jpeg\n"
     ]
    },
    {
     "name": "stderr",
     "output_type": "stream",
     "text": [
      " 66%|██████▌   | 4736/7199 [24:02<10:15,  4.00it/s]"
     ]
    },
    {
     "name": "stdout",
     "output_type": "stream",
     "text": [
      "Error en el registro: 42708127, URL: https://a0.muscache.com/pictures/prohost-api/Hosting-42708127/original/91eae4b5-4a53-444e-bbe9-db37ae477471.jpeg\n",
      "Error en el registro: 42708174, URL: https://a0.muscache.com/pictures/prohost-api/Hosting-42708174/original/250bd918-a4d8-46d0-8bc9-e9a46413ec41.jpeg\n"
     ]
    },
    {
     "name": "stderr",
     "output_type": "stream",
     "text": [
      " 66%|██████▌   | 4740/7199 [24:02<08:14,  4.97it/s]"
     ]
    },
    {
     "name": "stdout",
     "output_type": "stream",
     "text": [
      "Error en el registro: 42774598, URL: https://a0.muscache.com/pictures/miso/Hosting-42774598/original/73da70dc-380f-4d53-b7b3-755c0f255305.png\n"
     ]
    },
    {
     "name": "stderr",
     "output_type": "stream",
     "text": [
      " 66%|██████▌   | 4757/7199 [24:05<08:32,  4.76it/s]"
     ]
    },
    {
     "name": "stdout",
     "output_type": "stream",
     "text": [
      "Error en el registro: 43032465, URL: https://a0.muscache.com/pictures/prohost-api/Hosting-43032465/original/28381099-f671-4471-8727-9e8084e47d4f.jpeg\n"
     ]
    },
    {
     "name": "stderr",
     "output_type": "stream",
     "text": [
      " 66%|██████▌   | 4759/7199 [24:06<07:53,  5.16it/s]"
     ]
    },
    {
     "name": "stdout",
     "output_type": "stream",
     "text": [
      "Error en el registro: 43032495, URL: https://a0.muscache.com/pictures/prohost-api/Hosting-43032495/original/58abc83b-2b8c-4176-9d7c-5bf91b42c49f.jpeg\n"
     ]
    },
    {
     "name": "stderr",
     "output_type": "stream",
     "text": [
      " 66%|██████▌   | 4765/7199 [24:07<07:48,  5.20it/s]"
     ]
    },
    {
     "name": "stdout",
     "output_type": "stream",
     "text": [
      "Error en el registro: 43121210, URL: https://a0.muscache.com/pictures/prohost-api/Hosting-43121210/original/5f99a7da-d07c-43a4-8e67-92a31abe9695.jpeg\n"
     ]
    },
    {
     "name": "stderr",
     "output_type": "stream",
     "text": [
      " 66%|██████▋   | 4771/7199 [24:08<09:18,  4.35it/s]"
     ]
    },
    {
     "name": "stdout",
     "output_type": "stream",
     "text": [
      "Error en el registro: 43301136, URL: https://a0.muscache.com/pictures/prohost-api/Hosting-43301136/original/373cca92-f25a-4d44-a5cb-c2e3c253e2d3.jpeg\n"
     ]
    },
    {
     "name": "stderr",
     "output_type": "stream",
     "text": [
      " 66%|██████▋   | 4787/7199 [24:11<08:19,  4.83it/s]"
     ]
    },
    {
     "name": "stdout",
     "output_type": "stream",
     "text": [
      "Error en el registro: 43921666, URL: https://a0.muscache.com/pictures/prohost-api/Hosting-43921666/original/ff08f5f6-d1dd-435e-af2e-c7917dfcdc7d.jpeg\n"
     ]
    },
    {
     "name": "stderr",
     "output_type": "stream",
     "text": [
      " 67%|██████▋   | 4790/7199 [24:12<08:47,  4.57it/s]"
     ]
    },
    {
     "name": "stdout",
     "output_type": "stream",
     "text": [
      "Error en el registro: 44053258, URL: https://a0.muscache.com/pictures/prohost-api/Hosting-44053258/original/48655a82-a536-465e-925a-b901943762e2.jpeg\n"
     ]
    },
    {
     "name": "stderr",
     "output_type": "stream",
     "text": [
      " 67%|██████▋   | 4795/7199 [24:13<07:22,  5.43it/s]"
     ]
    },
    {
     "name": "stdout",
     "output_type": "stream",
     "text": [
      "Error en el registro: 44242670, URL: https://a0.muscache.com/pictures/prohost-api/Hosting-44242670/original/4b69e1a9-8664-4b90-a9f9-cd0a966df453.jpeg\n"
     ]
    },
    {
     "name": "stderr",
     "output_type": "stream",
     "text": [
      " 67%|██████▋   | 4802/7199 [24:15<11:09,  3.58it/s]"
     ]
    },
    {
     "name": "stdout",
     "output_type": "stream",
     "text": [
      "Error en el registro: 44776954, URL: https://a0.muscache.com/pictures/prohost-api/Hosting-44776954/original/e20fbcfe-fd7e-48a4-9237-71d69f4d207f.jpeg\n"
     ]
    },
    {
     "name": "stderr",
     "output_type": "stream",
     "text": [
      " 67%|██████▋   | 4804/7199 [24:16<08:47,  4.54it/s]"
     ]
    },
    {
     "name": "stdout",
     "output_type": "stream",
     "text": [
      "Error en el registro: 44776967, URL: https://a0.muscache.com/pictures/prohost-api/Hosting-44776967/original/22009d99-ee7d-44ee-b6a5-e3d47e1dbf8a.jpeg\n"
     ]
    },
    {
     "name": "stderr",
     "output_type": "stream",
     "text": [
      " 67%|██████▋   | 4808/7199 [24:17<07:33,  5.27it/s]"
     ]
    },
    {
     "name": "stdout",
     "output_type": "stream",
     "text": [
      "Error en el registro: 45031773, URL: https://a0.muscache.com/pictures/miso/Hosting-45031773/original/786af0d4-0eb3-4608-a4a3-895bc73c8fc7.jpeg\n",
      "Error en el registro: 45067711, URL: https://a0.muscache.com/pictures/miso/Hosting-45067711/original/54d23f39-6e1c-4118-8d0f-fcb82c101863.jpeg\n"
     ]
    },
    {
     "name": "stderr",
     "output_type": "stream",
     "text": [
      " 67%|██████▋   | 4811/7199 [24:17<08:55,  4.46it/s]"
     ]
    },
    {
     "name": "stdout",
     "output_type": "stream",
     "text": [
      "Error en el registro: 45095953, URL: https://a0.muscache.com/pictures/prohost-api/Hosting-45095953/original/e530a1ff-ca52-4a5e-a210-2536b4d4678a.jpeg\n",
      "Error en el registro: 45096003, URL: https://a0.muscache.com/pictures/prohost-api/Hosting-45096003/original/0c468432-5000-4423-97b2-5afda54e34f8.jpeg\n"
     ]
    },
    {
     "name": "stderr",
     "output_type": "stream",
     "text": [
      " 67%|██████▋   | 4813/7199 [24:18<08:36,  4.62it/s]"
     ]
    },
    {
     "name": "stdout",
     "output_type": "stream",
     "text": [
      "Error en el registro: 45096017, URL: https://a0.muscache.com/pictures/prohost-api/Hosting-45096017/original/552d794b-b07e-4a21-a7b4-4e513fc2e6b9.jpeg\n",
      "Error en el registro: 45112213, URL: https://a0.muscache.com/pictures/miso/Hosting-45112213/original/23220062-1037-4561-b0ff-fa9806e04863.jpeg\n"
     ]
    },
    {
     "name": "stderr",
     "output_type": "stream",
     "text": [
      " 67%|██████▋   | 4815/7199 [24:18<08:23,  4.74it/s]"
     ]
    },
    {
     "name": "stdout",
     "output_type": "stream",
     "text": [
      "Error en el registro: 45136082, URL: https://a0.muscache.com/pictures/miso/Hosting-45136082/original/9d67ada5-de07-480a-a9fa-ceb0bac7f088.jpeg\n"
     ]
    },
    {
     "name": "stderr",
     "output_type": "stream",
     "text": [
      " 67%|██████▋   | 4827/7199 [24:22<08:04,  4.89it/s]"
     ]
    },
    {
     "name": "stdout",
     "output_type": "stream",
     "text": [
      "Error en el registro: 45440353, URL: https://a0.muscache.com/pictures/246931ce-1d84-484a-bde7-4ee607f5d48e.jpg\n"
     ]
    },
    {
     "name": "stderr",
     "output_type": "stream",
     "text": [
      " 67%|██████▋   | 4828/7199 [24:22<08:42,  4.54it/s]"
     ]
    },
    {
     "name": "stdout",
     "output_type": "stream",
     "text": [
      "Error en el registro: 45443503, URL: https://a0.muscache.com/pictures/prohost-api/Hosting-45443503/original/72ca2b6e-9420-4c81-856d-f3c4ec4cb6f8.jpeg\n"
     ]
    },
    {
     "name": "stderr",
     "output_type": "stream",
     "text": [
      " 67%|██████▋   | 4833/7199 [24:23<09:31,  4.14it/s]"
     ]
    },
    {
     "name": "stdout",
     "output_type": "stream",
     "text": [
      "Error en el registro: 45494260, URL: https://a0.muscache.com/pictures/prohost-api/Hosting-45494260/original/245b92de-7b7d-4225-ae48-1b2321a8a501.jpeg\n",
      "Error en el registro: 45501019, URL: https://a0.muscache.com/pictures/miso/Hosting-45501019/original/de13720d-7458-4897-b812-10c014117d01.png\n"
     ]
    },
    {
     "name": "stderr",
     "output_type": "stream",
     "text": [
      " 67%|██████▋   | 4840/7199 [24:30<16:50,  2.34it/s]  "
     ]
    },
    {
     "name": "stdout",
     "output_type": "stream",
     "text": [
      "Error en el registro: 45539765, URL: https://a0.muscache.com/pictures/prohost-api/Hosting-45539765/original/6ae8c686-fc70-4705-afc5-ef9177681289.jpeg\n"
     ]
    },
    {
     "name": "stderr",
     "output_type": "stream",
     "text": [
      " 67%|██████▋   | 4847/7199 [24:33<13:46,  2.85it/s]"
     ]
    },
    {
     "name": "stdout",
     "output_type": "stream",
     "text": [
      "Error en el registro: 45679998, URL: https://a0.muscache.com/pictures/prohost-api/Hosting-45679998/original/2189dde9-1660-43fd-9f83-6b3b5cd0eec3.jpeg\n"
     ]
    },
    {
     "name": "stderr",
     "output_type": "stream",
     "text": [
      " 67%|██████▋   | 4848/7199 [24:33<12:17,  3.19it/s]"
     ]
    },
    {
     "name": "stdout",
     "output_type": "stream",
     "text": [
      "Error en el registro: 45680010, URL: https://a0.muscache.com/pictures/prohost-api/Hosting-45680010/original/c72ecce3-1fb0-4918-b50f-06df412d1f31.jpeg\n"
     ]
    },
    {
     "name": "stderr",
     "output_type": "stream",
     "text": [
      " 67%|██████▋   | 4850/7199 [24:34<09:40,  4.05it/s]"
     ]
    },
    {
     "name": "stdout",
     "output_type": "stream",
     "text": [
      "Error en el registro: 45680018, URL: https://a0.muscache.com/pictures/prohost-api/Hosting-45680018/original/a60994d1-69e5-4aa8-adfb-e5a05ffeec5c.jpeg\n",
      "Error en el registro: 45680039, URL: https://a0.muscache.com/pictures/prohost-api/Hosting-45680039/original/ddeaafff-825d-41b2-ae9e-f6f620020533.jpeg\n"
     ]
    },
    {
     "name": "stderr",
     "output_type": "stream",
     "text": [
      " 67%|██████▋   | 4852/7199 [24:34<09:26,  4.15it/s]"
     ]
    },
    {
     "name": "stdout",
     "output_type": "stream",
     "text": [
      "Error en el registro: 45689038, URL: https://a0.muscache.com/pictures/prohost-api/Hosting-45689038/original/c43dfacc-5def-4e24-a109-ad5de07a2f87.jpeg\n",
      "Error en el registro: 45689053, URL: https://a0.muscache.com/pictures/prohost-api/Hosting-45689053/original/5e267cf5-62f5-48ce-9f0d-aa460713e441.jpeg\n"
     ]
    },
    {
     "name": "stderr",
     "output_type": "stream",
     "text": [
      " 67%|██████▋   | 4853/7199 [24:34<09:09,  4.27it/s]"
     ]
    },
    {
     "name": "stdout",
     "output_type": "stream",
     "text": [
      "Error en el registro: 45689060, URL: https://a0.muscache.com/pictures/prohost-api/Hosting-45689060/original/51ab7ef4-cd4b-4133-96a9-88a0f4f6b238.jpeg\n"
     ]
    },
    {
     "name": "stderr",
     "output_type": "stream",
     "text": [
      " 67%|██████▋   | 4855/7199 [24:35<08:05,  4.83it/s]"
     ]
    },
    {
     "name": "stdout",
     "output_type": "stream",
     "text": [
      "Error en el registro: 45689110, URL: https://a0.muscache.com/pictures/prohost-api/Hosting-45689110/original/cf17e677-1be1-4046-9336-3d2e0d465310.jpeg\n",
      "Error en el registro: 45689125, URL: https://a0.muscache.com/pictures/prohost-api/Hosting-45689125/original/bf18064a-e844-46f9-8c3d-641e4c86950d.jpeg\n"
     ]
    },
    {
     "name": "stderr",
     "output_type": "stream",
     "text": [
      " 68%|██████▊   | 4861/7199 [24:37<10:51,  3.59it/s]"
     ]
    },
    {
     "name": "stdout",
     "output_type": "stream",
     "text": [
      "Error en el registro: 45844741, URL: https://a0.muscache.com/pictures/miso/Hosting-45844741/original/2ebd7146-447a-43ad-a296-3a28eeb59c0e.jpeg\n"
     ]
    },
    {
     "name": "stderr",
     "output_type": "stream",
     "text": [
      " 68%|██████▊   | 4864/7199 [24:37<09:26,  4.12it/s]"
     ]
    },
    {
     "name": "stdout",
     "output_type": "stream",
     "text": [
      "Error en el registro: 45999950, URL: https://a0.muscache.com/pictures/prohost-api/Hosting-45999950/original/ea2aeb8d-fbb5-4e6a-9dd2-4e1dac7ef52f.jpeg\n"
     ]
    },
    {
     "name": "stderr",
     "output_type": "stream",
     "text": [
      " 68%|██████▊   | 4866/7199 [24:38<10:20,  3.76it/s]"
     ]
    },
    {
     "name": "stdout",
     "output_type": "stream",
     "text": [
      "Error en el registro: 46000223, URL: https://a0.muscache.com/pictures/prohost-api/Hosting-46000223/original/27fd39ae-6eab-4143-bd24-d81504173816.jpeg\n",
      "Error en el registro: 46051711, URL: https://a0.muscache.com/pictures/miso/Hosting-46051711/original/b072612e-50cd-49d1-9a8d-87ed25838c08.jpeg\n"
     ]
    },
    {
     "name": "stderr",
     "output_type": "stream",
     "text": [
      " 68%|██████▊   | 4867/7199 [24:38<09:28,  4.10it/s]"
     ]
    },
    {
     "name": "stdout",
     "output_type": "stream",
     "text": [
      "Error en el registro: 46074220, URL: https://a0.muscache.com/pictures/prohost-api/Hosting-46074220/original/8d519bd3-3811-48ab-81e8-eff68799db92.jpeg\n"
     ]
    },
    {
     "name": "stderr",
     "output_type": "stream",
     "text": [
      " 68%|██████▊   | 4868/7199 [24:39<11:43,  3.31it/s]"
     ]
    },
    {
     "name": "stdout",
     "output_type": "stream",
     "text": [
      "Error en el registro: 46074729, URL: https://a0.muscache.com/pictures/prohost-api/Hosting-46074729/original/3ef2e84a-aafe-4f1e-b346-99ecf6f1f5f2.jpeg\n"
     ]
    },
    {
     "name": "stderr",
     "output_type": "stream",
     "text": [
      " 68%|██████▊   | 4870/7199 [24:39<10:43,  3.62it/s]"
     ]
    },
    {
     "name": "stdout",
     "output_type": "stream",
     "text": [
      "Error en el registro: 46074742, URL: https://a0.muscache.com/pictures/prohost-api/Hosting-46074742/original/5748e678-10d5-401b-af05-df788934f705.jpeg\n"
     ]
    },
    {
     "name": "stderr",
     "output_type": "stream",
     "text": [
      " 68%|██████▊   | 4871/7199 [24:39<09:39,  4.02it/s]"
     ]
    },
    {
     "name": "stdout",
     "output_type": "stream",
     "text": [
      "Error en el registro: 46085675, URL: https://a0.muscache.com/pictures/prohost-api/Hosting-46085675/original/1d4604ad-47a4-4c9c-b844-40acd434fb3f.jpeg\n"
     ]
    },
    {
     "name": "stderr",
     "output_type": "stream",
     "text": [
      " 68%|██████▊   | 4875/7199 [24:41<14:53,  2.60it/s]"
     ]
    },
    {
     "name": "stdout",
     "output_type": "stream",
     "text": [
      "Error en el registro: 46326668, URL: https://a0.muscache.com/pictures/56a7aa37-27a0-4247-ae7e-221ee644f389.jpg\n"
     ]
    },
    {
     "name": "stderr",
     "output_type": "stream",
     "text": [
      " 68%|██████▊   | 4877/7199 [24:42<10:40,  3.62it/s]"
     ]
    },
    {
     "name": "stdout",
     "output_type": "stream",
     "text": [
      "Error en el registro: 46330627, URL: https://a0.muscache.com/pictures/miso/Hosting-46330627/original/a575814a-418e-4fd4-a783-b4eca2817921.jpeg\n"
     ]
    },
    {
     "name": "stderr",
     "output_type": "stream",
     "text": [
      " 68%|██████▊   | 4882/7199 [24:43<08:31,  4.53it/s]"
     ]
    },
    {
     "name": "stdout",
     "output_type": "stream",
     "text": [
      "Error en el registro: 46445272, URL: https://a0.muscache.com/pictures/prohost-api/Hosting-46445272/original/bdf6198d-01b9-4988-a99a-231d4e53782d.jpeg\n"
     ]
    },
    {
     "name": "stderr",
     "output_type": "stream",
     "text": [
      " 68%|██████▊   | 4889/7199 [24:45<09:33,  4.03it/s]"
     ]
    },
    {
     "name": "stdout",
     "output_type": "stream",
     "text": [
      "Error en el registro: 46576175, URL: https://a0.muscache.com/pictures/prohost-api/Hosting-46576175/original/653c8eb1-d0fd-4d68-8e88-5b4898d32d98.jpeg\n",
      "Error en el registro: 46576290, URL: https://a0.muscache.com/pictures/0826a430-939b-4a43-aa90-5e682f215465.jpg\n"
     ]
    },
    {
     "name": "stderr",
     "output_type": "stream",
     "text": [
      " 68%|██████▊   | 4892/7199 [24:46<07:57,  4.83it/s]"
     ]
    },
    {
     "name": "stdout",
     "output_type": "stream",
     "text": [
      "Error en el registro: 46602042, URL: https://a0.muscache.com/pictures/prohost-api/Hosting-46602042/original/8a77cfa9-d271-4e7d-a98f-03d1c8abbd8b.jpeg\n",
      "Error en el registro: 46696466, URL: https://a0.muscache.com/pictures/miso/Hosting-46696466/original/0ea7e189-c6df-4717-b1e4-2a5d32d01fa1.jpeg\n"
     ]
    },
    {
     "name": "stderr",
     "output_type": "stream",
     "text": [
      " 68%|██████▊   | 4893/7199 [24:46<07:47,  4.94it/s]"
     ]
    },
    {
     "name": "stdout",
     "output_type": "stream",
     "text": [
      "Error en el registro: 46697368, URL: https://a0.muscache.com/pictures/miso/Hosting-46697368/original/7c297348-caf3-4d1e-8d70-41b1ad9b86e7.jpeg\n"
     ]
    },
    {
     "name": "stderr",
     "output_type": "stream",
     "text": [
      " 68%|██████▊   | 4894/7199 [24:46<10:16,  3.74it/s]"
     ]
    },
    {
     "name": "stdout",
     "output_type": "stream",
     "text": [
      "Error en el registro: 46730228, URL: https://a0.muscache.com/pictures/prohost-api/Hosting-46730228/original/b49d9f80-2bbc-42ad-aef8-dcc9d4ad8c6d.jpeg\n"
     ]
    },
    {
     "name": "stderr",
     "output_type": "stream",
     "text": [
      " 68%|██████▊   | 4895/7199 [24:47<09:46,  3.93it/s]"
     ]
    },
    {
     "name": "stdout",
     "output_type": "stream",
     "text": [
      "Error en el registro: 46791068, URL: https://a0.muscache.com/pictures/prohost-api/Hosting-46791068/original/85efb204-1093-4e95-983c-00f405dd6f4c.jpeg\n"
     ]
    },
    {
     "name": "stderr",
     "output_type": "stream",
     "text": [
      " 68%|██████▊   | 4896/7199 [24:47<09:44,  3.94it/s]"
     ]
    },
    {
     "name": "stdout",
     "output_type": "stream",
     "text": [
      "Error en el registro: 46791156, URL: https://a0.muscache.com/pictures/28f70459-7ac9-43bf-b2ca-740d5cbc70db.jpg\n"
     ]
    },
    {
     "name": "stderr",
     "output_type": "stream",
     "text": [
      " 68%|██████▊   | 4907/7199 [24:51<10:42,  3.57it/s]"
     ]
    },
    {
     "name": "stdout",
     "output_type": "stream",
     "text": [
      "Error en el registro: 46983650, URL: https://a0.muscache.com/pictures/93d160f5-78fc-4044-ac33-fdda1feb841f.jpg\n"
     ]
    },
    {
     "name": "stderr",
     "output_type": "stream",
     "text": [
      " 68%|██████▊   | 4928/7199 [25:00<14:24,  2.63it/s]"
     ]
    },
    {
     "name": "stdout",
     "output_type": "stream",
     "text": [
      "Error en el registro: 47408663, URL: https://a0.muscache.com/pictures/2010306b-5a95-4545-a825-c38a878b46b3.jpg\n"
     ]
    },
    {
     "name": "stderr",
     "output_type": "stream",
     "text": [
      " 69%|██████▊   | 4938/7199 [25:03<08:56,  4.21it/s]"
     ]
    },
    {
     "name": "stdout",
     "output_type": "stream",
     "text": [
      "Error en el registro: 47576607, URL: https://a0.muscache.com/pictures/prohost-api/Hosting-47576607/original/2a8842a4-c900-4cd9-97de-2617a41b028a.jpeg\n"
     ]
    },
    {
     "name": "stderr",
     "output_type": "stream",
     "text": [
      " 69%|██████▊   | 4942/7199 [25:04<09:20,  4.03it/s]"
     ]
    },
    {
     "name": "stdout",
     "output_type": "stream",
     "text": [
      "Error en el registro: 47873448, URL: https://a0.muscache.com/pictures/miso/Hosting-47873448/original/16fc99cc-292d-4383-b8a0-def7f17c1e64.jpeg\n"
     ]
    },
    {
     "name": "stderr",
     "output_type": "stream",
     "text": [
      " 69%|██████▉   | 4959/7199 [25:09<09:09,  4.08it/s]"
     ]
    },
    {
     "name": "stdout",
     "output_type": "stream",
     "text": [
      "Error en el registro: 48103622, URL: https://a0.muscache.com/pictures/prohost-api/Hosting-48103622/original/6ccbbd9d-4601-45ea-b07f-b16358373780.jpeg\n"
     ]
    },
    {
     "name": "stderr",
     "output_type": "stream",
     "text": [
      " 69%|██████▉   | 4960/7199 [25:10<09:29,  3.93it/s]"
     ]
    },
    {
     "name": "stdout",
     "output_type": "stream",
     "text": [
      "Error en el registro: 48103833, URL: https://a0.muscache.com/pictures/prohost-api/Hosting-48103833/original/313c9151-af54-4716-bffe-4d8a243bfd7d.jpeg\n"
     ]
    },
    {
     "name": "stderr",
     "output_type": "stream",
     "text": [
      " 69%|██████▉   | 4961/7199 [25:10<09:04,  4.11it/s]"
     ]
    },
    {
     "name": "stdout",
     "output_type": "stream",
     "text": [
      "Error en el registro: 48107926, URL: https://a0.muscache.com/pictures/prohost-api/Hosting-48107926/original/d9749ddd-ea24-451e-97c7-8eea156138f3.jpeg\n"
     ]
    },
    {
     "name": "stderr",
     "output_type": "stream",
     "text": [
      " 69%|██████▉   | 4963/7199 [25:10<07:47,  4.78it/s]"
     ]
    },
    {
     "name": "stdout",
     "output_type": "stream",
     "text": [
      "Error en el registro: 48107968, URL: https://a0.muscache.com/pictures/prohost-api/Hosting-48107968/original/956795d8-27ef-4f54-8cca-ebfea3a6a425.jpeg\n"
     ]
    },
    {
     "name": "stderr",
     "output_type": "stream",
     "text": [
      " 69%|██████▉   | 4970/7199 [25:12<07:26,  4.99it/s]"
     ]
    },
    {
     "name": "stdout",
     "output_type": "stream",
     "text": [
      "Error en el registro: 48231177, URL: https://a0.muscache.com/pictures/153d5cfa-95d5-4eb4-b45a-1809ff9f1c71.jpg\n"
     ]
    },
    {
     "name": "stderr",
     "output_type": "stream",
     "text": [
      " 69%|██████▉   | 4975/7199 [25:13<09:31,  3.89it/s]"
     ]
    },
    {
     "name": "stdout",
     "output_type": "stream",
     "text": [
      "Error en el registro: 48248044, URL: https://a0.muscache.com/pictures/a5239f12-41bd-4ff2-81bb-4100667e064c.jpg\n"
     ]
    },
    {
     "name": "stderr",
     "output_type": "stream",
     "text": [
      " 69%|██████▉   | 4984/7199 [25:15<07:41,  4.80it/s]"
     ]
    },
    {
     "name": "stdout",
     "output_type": "stream",
     "text": [
      "Error en el registro: 48454886, URL: https://a0.muscache.com/pictures/prohost-api/Hosting-48454886/original/17df10d9-f416-40a3-9d77-48eba91ff839.jpeg\n"
     ]
    },
    {
     "name": "stderr",
     "output_type": "stream",
     "text": [
      " 69%|██████▉   | 4988/7199 [25:17<10:27,  3.52it/s]"
     ]
    },
    {
     "name": "stdout",
     "output_type": "stream",
     "text": [
      "Error en el registro: 48597887, URL: https://a0.muscache.com/pictures/prohost-api/Hosting-48597887/original/0df41515-85cb-40ca-9102-2c905c77914d.jpeg\n"
     ]
    },
    {
     "name": "stderr",
     "output_type": "stream",
     "text": [
      " 69%|██████▉   | 4989/7199 [25:17<09:52,  3.73it/s]"
     ]
    },
    {
     "name": "stdout",
     "output_type": "stream",
     "text": [
      "Error en el registro: 48597894, URL: https://a0.muscache.com/pictures/prohost-api/Hosting-48597894/original/9f1c5a32-2af5-4f0b-a247-413ff0972236.jpeg\n"
     ]
    },
    {
     "name": "stderr",
     "output_type": "stream",
     "text": [
      " 69%|██████▉   | 4991/7199 [25:17<08:38,  4.26it/s]"
     ]
    },
    {
     "name": "stdout",
     "output_type": "stream",
     "text": [
      "Error en el registro: 48597943, URL: https://a0.muscache.com/pictures/prohost-api/Hosting-48597943/original/894b0ae3-272d-46c7-836d-c1ffa371739f.jpeg\n",
      "Error en el registro: 48597948, URL: https://a0.muscache.com/pictures/prohost-api/Hosting-48597948/original/1447b820-5387-49bf-b1ae-f5eba0cced49.jpeg\n"
     ]
    },
    {
     "name": "stderr",
     "output_type": "stream",
     "text": [
      " 69%|██████▉   | 4992/7199 [25:18<11:13,  3.28it/s]"
     ]
    },
    {
     "name": "stdout",
     "output_type": "stream",
     "text": [
      "Error en el registro: 48597957, URL: https://a0.muscache.com/pictures/prohost-api/Hosting-48597957/original/43aa468b-dd06-456f-9e76-6e83810753b0.jpeg\n"
     ]
    },
    {
     "name": "stderr",
     "output_type": "stream",
     "text": [
      " 69%|██████▉   | 4995/7199 [25:18<08:49,  4.16it/s]"
     ]
    },
    {
     "name": "stdout",
     "output_type": "stream",
     "text": [
      "Error en el registro: 48601985, URL: https://a0.muscache.com/pictures/prohost-api/Hosting-48601985/original/622c6996-32be-4f2c-a2a4-478f8a1c6a1b.jpeg\n"
     ]
    },
    {
     "name": "stderr",
     "output_type": "stream",
     "text": [
      " 70%|██████▉   | 5017/7199 [25:24<07:01,  5.18it/s]"
     ]
    },
    {
     "name": "stdout",
     "output_type": "stream",
     "text": [
      "Error en el registro: 48881055, URL: https://a0.muscache.com/pictures/prohost-api/Hosting-48881055/original/f34c9c5f-4f9e-45a8-a30e-d0e054c8a4fa.jpeg\n"
     ]
    },
    {
     "name": "stderr",
     "output_type": "stream",
     "text": [
      " 70%|██████▉   | 5022/7199 [25:26<12:18,  2.95it/s]"
     ]
    },
    {
     "name": "stdout",
     "output_type": "stream",
     "text": [
      "Error en el registro: 48926365, URL: https://a0.muscache.com/pictures/prohost-api/Hosting-48926365/original/a6b00f63-f34c-4149-a419-168c4987fa0a.jpeg\n",
      "Error en el registro: 48926392, URL: https://a0.muscache.com/pictures/prohost-api/Hosting-48926392/original/8654b984-8f04-45ab-ae71-591a3f5f5c2b.jpeg\n"
     ]
    },
    {
     "name": "stderr",
     "output_type": "stream",
     "text": [
      " 70%|██████▉   | 5024/7199 [25:27<09:18,  3.89it/s]"
     ]
    },
    {
     "name": "stdout",
     "output_type": "stream",
     "text": [
      "Error en el registro: 48926432, URL: https://a0.muscache.com/pictures/prohost-api/Hosting-48926432/original/a61e4238-cac8-4486-b0cb-4d5dbf1f79e1.jpeg\n"
     ]
    },
    {
     "name": "stderr",
     "output_type": "stream",
     "text": [
      " 70%|██████▉   | 5039/7199 [25:30<08:11,  4.39it/s]"
     ]
    },
    {
     "name": "stdout",
     "output_type": "stream",
     "text": [
      "Error en el registro: 49075129, URL: https://a0.muscache.com/pictures/74933c31-f5dc-4200-a2a0-a261e53f3038.jpg\n"
     ]
    },
    {
     "name": "stderr",
     "output_type": "stream",
     "text": [
      " 70%|███████   | 5048/7199 [25:33<07:45,  4.62it/s]"
     ]
    },
    {
     "name": "stdout",
     "output_type": "stream",
     "text": [
      "Error en el registro: 49188782, URL: https://a0.muscache.com/pictures/prohost-api/Hosting-49188782/original/99f5948f-8279-420c-bf20-2dec587a0545.jpeg\n",
      "Error en el registro: 49188871, URL: https://a0.muscache.com/pictures/prohost-api/Hosting-49188871/original/72a83436-de2e-4952-a029-47af95fe4509.jpeg\n"
     ]
    },
    {
     "name": "stderr",
     "output_type": "stream",
     "text": [
      " 70%|███████   | 5049/7199 [25:33<07:44,  4.63it/s]"
     ]
    },
    {
     "name": "stdout",
     "output_type": "stream",
     "text": [
      "Error en el registro: 49188886, URL: https://a0.muscache.com/pictures/prohost-api/Hosting-49188886/original/e2be830b-675b-410d-9880-1a6c94df52bf.jpeg\n"
     ]
    },
    {
     "name": "stderr",
     "output_type": "stream",
     "text": [
      " 70%|███████   | 5050/7199 [25:33<07:44,  4.63it/s]"
     ]
    },
    {
     "name": "stdout",
     "output_type": "stream",
     "text": [
      "Error en el registro: 49188948, URL: https://a0.muscache.com/pictures/prohost-api/Hosting-49188948/original/9b76d76e-afdc-42ff-be88-58d40a4b170b.jpeg\n"
     ]
    },
    {
     "name": "stderr",
     "output_type": "stream",
     "text": [
      " 70%|███████   | 5053/7199 [25:34<06:39,  5.38it/s]"
     ]
    },
    {
     "name": "stdout",
     "output_type": "stream",
     "text": [
      "Error en el registro: 49201633, URL: https://a0.muscache.com/pictures/prohost-api/Hosting-49201633/original/1c4c3312-2fe4-449a-bef7-80739db2cd29.jpeg\n"
     ]
    },
    {
     "name": "stderr",
     "output_type": "stream",
     "text": [
      " 70%|███████   | 5056/7199 [25:34<06:20,  5.63it/s]"
     ]
    },
    {
     "name": "stdout",
     "output_type": "stream",
     "text": [
      "Error en el registro: 49341416, URL: https://a0.muscache.com/pictures/prohost-api/Hosting-49341416/original/daf693f1-9f0b-4cc3-8cff-9e743424db9a.jpeg\n"
     ]
    },
    {
     "name": "stderr",
     "output_type": "stream",
     "text": [
      " 70%|███████   | 5060/7199 [25:35<08:34,  4.16it/s]"
     ]
    },
    {
     "name": "stdout",
     "output_type": "stream",
     "text": [
      "Error en el registro: 49459007, URL: https://a0.muscache.com/pictures/prohost-api/Hosting-49459007/original/0558fbae-15ab-4c6b-b91d-266fa8918ce6.jpeg\n"
     ]
    },
    {
     "name": "stderr",
     "output_type": "stream",
     "text": [
      " 70%|███████   | 5073/7199 [25:38<06:44,  5.26it/s]"
     ]
    },
    {
     "name": "stdout",
     "output_type": "stream",
     "text": [
      "Error en el registro: 49610522, URL: https://a0.muscache.com/pictures/prohost-api/Hosting-49610522/original/1bf4855c-6543-48ae-bf14-e26f160dbf01.jpeg\n",
      "Error en el registro: 49610778, URL: https://a0.muscache.com/pictures/prohost-api/Hosting-49610778/original/d9163a9b-d195-4bd3-ab08-a40e8351411e.jpeg\n"
     ]
    },
    {
     "name": "stderr",
     "output_type": "stream",
     "text": [
      " 71%|███████   | 5081/7199 [25:40<09:00,  3.92it/s]"
     ]
    },
    {
     "name": "stdout",
     "output_type": "stream",
     "text": [
      "Error en el registro: 49752414, URL: https://a0.muscache.com/pictures/prohost-api/Hosting-49752414/original/f81334c9-8612-4c66-b08b-577430dc07c6.jpeg\n"
     ]
    },
    {
     "name": "stderr",
     "output_type": "stream",
     "text": [
      " 71%|███████   | 5082/7199 [25:41<10:15,  3.44it/s]"
     ]
    },
    {
     "name": "stdout",
     "output_type": "stream",
     "text": [
      "Error en el registro: 49800523, URL: https://a0.muscache.com/pictures/prohost-api/Hosting-49800523/original/63fe1365-f4ee-4295-8cf2-e16f225955eb.jpeg\n"
     ]
    },
    {
     "name": "stderr",
     "output_type": "stream",
     "text": [
      " 71%|███████   | 5087/7199 [25:42<08:49,  3.99it/s]"
     ]
    },
    {
     "name": "stdout",
     "output_type": "stream",
     "text": [
      "Error en el registro: 49916971, URL: https://a0.muscache.com/pictures/prohost-api/Hosting-49916971/original/f468740d-273a-4f68-ab34-abf7ae2125f1.jpeg\n",
      "Error en el registro: 49916983, URL: https://a0.muscache.com/pictures/prohost-api/Hosting-49916983/original/d990404d-9367-42d8-9fce-f5ee52ec0310.jpeg\n"
     ]
    },
    {
     "name": "stderr",
     "output_type": "stream",
     "text": [
      " 71%|███████   | 5089/7199 [25:42<07:07,  4.94it/s]"
     ]
    },
    {
     "name": "stdout",
     "output_type": "stream",
     "text": [
      "Error en el registro: 49918081, URL: https://a0.muscache.com/pictures/prohost-api/Hosting-49918081/original/d09c0701-338b-4fad-ab86-3843a6aa77e1.jpeg\n"
     ]
    },
    {
     "name": "stderr",
     "output_type": "stream",
     "text": [
      " 71%|███████   | 5098/7199 [25:44<06:13,  5.63it/s]"
     ]
    },
    {
     "name": "stdout",
     "output_type": "stream",
     "text": [
      "Error en el registro: 50017083, URL: https://a0.muscache.com/pictures/prohost-api/Hosting-50017083/original/0220a02b-87a1-4434-9134-67970feb377c.jpeg\n",
      "Error en el registro: 50017182, URL: https://a0.muscache.com/pictures/prohost-api/Hosting-50017182/original/945f194f-f893-4935-aa5c-08281a189922.jpeg\n"
     ]
    },
    {
     "name": "stderr",
     "output_type": "stream",
     "text": [
      " 71%|███████   | 5102/7199 [25:45<05:48,  6.02it/s]"
     ]
    },
    {
     "name": "stdout",
     "output_type": "stream",
     "text": [
      "Error en el registro: 50042062, URL: https://a0.muscache.com/pictures/prohost-api/Hosting-50042062/original/5695dab1-486a-49c6-869c-f122a569cb66.jpeg\n"
     ]
    },
    {
     "name": "stderr",
     "output_type": "stream",
     "text": [
      " 71%|███████   | 5105/7199 [25:45<06:07,  5.70it/s]"
     ]
    },
    {
     "name": "stdout",
     "output_type": "stream",
     "text": [
      "Error en el registro: 50079025, URL: https://a0.muscache.com/pictures/prohost-api/Hosting-50079025/original/09e0771a-9089-4b04-98f4-c694881868e0.jpeg\n"
     ]
    },
    {
     "name": "stderr",
     "output_type": "stream",
     "text": [
      " 71%|███████   | 5107/7199 [25:46<06:33,  5.31it/s]"
     ]
    },
    {
     "name": "stdout",
     "output_type": "stream",
     "text": [
      "Error en el registro: 50084542, URL: https://a0.muscache.com/pictures/prohost-api/Hosting-50084542/original/c5e7b728-d2db-4021-8367-c12770be703f.jpeg\n"
     ]
    },
    {
     "name": "stderr",
     "output_type": "stream",
     "text": [
      " 71%|███████   | 5115/7199 [25:48<08:33,  4.06it/s]"
     ]
    },
    {
     "name": "stdout",
     "output_type": "stream",
     "text": [
      "Error en el registro: 50206794, URL: https://a0.muscache.com/pictures/prohost-api/Hosting-50206794/original/cc4830dd-0e33-439b-938c-6f6dad9dec33.jpeg\n"
     ]
    },
    {
     "name": "stderr",
     "output_type": "stream",
     "text": [
      " 71%|███████   | 5124/7199 [25:49<06:00,  5.76it/s]"
     ]
    },
    {
     "name": "stdout",
     "output_type": "stream",
     "text": [
      "Error en el registro: 50386523, URL: https://a0.muscache.com/pictures/prohost-api/Hosting-50386523/original/9445af86-b60f-4298-8a3c-ad67d8e211de.jpeg\n",
      "Error en el registro: 50386543, URL: https://a0.muscache.com/pictures/prohost-api/Hosting-50386543/original/1cff2a6d-7883-48a9-ac73-c9919818e888.jpeg\n"
     ]
    },
    {
     "name": "stderr",
     "output_type": "stream",
     "text": [
      " 71%|███████▏  | 5132/7199 [25:51<10:17,  3.35it/s]"
     ]
    },
    {
     "name": "stdout",
     "output_type": "stream",
     "text": [
      "Error en el registro: 50562977, URL: https://a0.muscache.com/pictures/prohost-api/Hosting-50562977/original/af9f1ab1-ee6b-4773-ad8e-1d1a8a854f0b.jpeg\n"
     ]
    },
    {
     "name": "stderr",
     "output_type": "stream",
     "text": [
      " 71%|███████▏  | 5134/7199 [25:52<08:37,  3.99it/s]"
     ]
    },
    {
     "name": "stdout",
     "output_type": "stream",
     "text": [
      "Error en el registro: 50563099, URL: https://a0.muscache.com/pictures/prohost-api/Hosting-50563099/original/6a3bcfe3-357e-49f1-8e5e-61c95e5fe335.jpeg\n",
      "Error en el registro: 50563127, URL: https://a0.muscache.com/pictures/prohost-api/Hosting-50563127/original/07348b62-4fb4-4a0e-a588-ebb46bcf2195.jpeg\n"
     ]
    },
    {
     "name": "stderr",
     "output_type": "stream",
     "text": [
      " 71%|███████▏  | 5136/7199 [25:52<06:46,  5.08it/s]"
     ]
    },
    {
     "name": "stdout",
     "output_type": "stream",
     "text": [
      "Error en el registro: 50608389, URL: https://a0.muscache.com/pictures/prohost-api/Hosting-50608389/original/ccda248e-99a6-4960-9344-085550adf82c.jpeg\n"
     ]
    },
    {
     "name": "stderr",
     "output_type": "stream",
     "text": [
      " 71%|███████▏  | 5137/7199 [25:52<07:07,  4.83it/s]"
     ]
    },
    {
     "name": "stdout",
     "output_type": "stream",
     "text": [
      "Error en el registro: 50608396, URL: https://a0.muscache.com/pictures/prohost-api/Hosting-50608396/original/9d78b34a-cbb6-449a-b4d8-240dcb9d05b0.jpeg\n"
     ]
    },
    {
     "name": "stderr",
     "output_type": "stream",
     "text": [
      " 72%|███████▏  | 5167/7199 [26:01<09:32,  3.55it/s]"
     ]
    },
    {
     "name": "stdout",
     "output_type": "stream",
     "text": [
      "Error en el registro: 51274775, URL: https://a0.muscache.com/pictures/prohost-api/Hosting-51274775/original/599d0e88-2319-4fd1-a2c8-f57589e00ce8.jpeg\n"
     ]
    },
    {
     "name": "stderr",
     "output_type": "stream",
     "text": [
      " 72%|███████▏  | 5169/7199 [26:01<08:16,  4.09it/s]"
     ]
    },
    {
     "name": "stdout",
     "output_type": "stream",
     "text": [
      "Error en el registro: 51274818, URL: https://a0.muscache.com/pictures/prohost-api/Hosting-51274818/original/b362c342-f952-4104-ae93-178c82eec2b0.jpeg\n"
     ]
    },
    {
     "name": "stderr",
     "output_type": "stream",
     "text": [
      " 72%|███████▏  | 5171/7199 [26:02<07:35,  4.45it/s]"
     ]
    },
    {
     "name": "stdout",
     "output_type": "stream",
     "text": [
      "Error en el registro: 51300156, URL: https://a0.muscache.com/pictures/prohost-api/Hosting-51300156/original/5c19dc35-5cc9-46c2-a33c-0b468a5f204f.jpeg\n"
     ]
    },
    {
     "name": "stderr",
     "output_type": "stream",
     "text": [
      " 72%|███████▏  | 5181/7199 [26:04<07:40,  4.38it/s]"
     ]
    },
    {
     "name": "stdout",
     "output_type": "stream",
     "text": [
      "Error en el registro: 51402086, URL: https://a0.muscache.com/pictures/miso/Hosting-51402086/original/8a9e0597-ef2f-4450-b29b-a60871ca0aa3.jpeg\n"
     ]
    },
    {
     "name": "stderr",
     "output_type": "stream",
     "text": [
      " 72%|███████▏  | 5190/7199 [26:07<12:08,  2.76it/s]"
     ]
    },
    {
     "name": "stdout",
     "output_type": "stream",
     "text": [
      "Error en el registro: 51572681, URL: https://a0.muscache.com/pictures/prohost-api/Hosting-51572681/original/f07bf279-db7c-4160-8d84-88fe466096b9.jpeg\n"
     ]
    },
    {
     "name": "stderr",
     "output_type": "stream",
     "text": [
      " 72%|███████▏  | 5191/7199 [26:08<10:51,  3.08it/s]"
     ]
    },
    {
     "name": "stdout",
     "output_type": "stream",
     "text": [
      "Error en el registro: 51572775, URL: https://a0.muscache.com/pictures/prohost-api/Hosting-51572775/original/eeb5b893-08c2-4f88-8153-308efa95c258.jpeg\n"
     ]
    },
    {
     "name": "stderr",
     "output_type": "stream",
     "text": [
      " 72%|███████▏  | 5193/7199 [26:08<08:26,  3.96it/s]"
     ]
    },
    {
     "name": "stdout",
     "output_type": "stream",
     "text": [
      "Error en el registro: 51572785, URL: https://a0.muscache.com/pictures/prohost-api/Hosting-51572785/original/15ccce9c-36b1-47d4-bb41-7bd1445943d5.jpeg\n",
      "Error en el registro: 51572791, URL: https://a0.muscache.com/pictures/prohost-api/Hosting-51572791/original/69db5550-a4db-4ce5-96b6-f9350277a516.jpeg\n"
     ]
    },
    {
     "name": "stderr",
     "output_type": "stream",
     "text": [
      " 72%|███████▏  | 5195/7199 [26:08<07:10,  4.65it/s]"
     ]
    },
    {
     "name": "stdout",
     "output_type": "stream",
     "text": [
      "Error en el registro: 51573185, URL: https://a0.muscache.com/pictures/prohost-api/Hosting-51573185/original/1f184ccb-4077-4f7f-b74c-76a49a60860d.jpeg\n"
     ]
    },
    {
     "name": "stderr",
     "output_type": "stream",
     "text": [
      " 72%|███████▏  | 5197/7199 [26:09<05:58,  5.59it/s]"
     ]
    },
    {
     "name": "stdout",
     "output_type": "stream",
     "text": [
      "Error en el registro: 51626666, URL: https://a0.muscache.com/pictures/miso/Hosting-51626666/original/0a3d7139-082e-4c22-a21c-519cefbdd9f2.jpeg\n"
     ]
    },
    {
     "name": "stderr",
     "output_type": "stream",
     "text": [
      " 72%|███████▏  | 5199/7199 [26:09<06:01,  5.54it/s]"
     ]
    },
    {
     "name": "stdout",
     "output_type": "stream",
     "text": [
      "Error en el registro: 51639653, URL: https://a0.muscache.com/pictures/miso/Hosting-51639653/original/7b511a90-694e-44d5-a188-9566a3ceb375.jpeg\n"
     ]
    },
    {
     "name": "stderr",
     "output_type": "stream",
     "text": [
      " 72%|███████▏  | 5204/7199 [26:12<15:19,  2.17it/s]"
     ]
    },
    {
     "name": "stdout",
     "output_type": "stream",
     "text": [
      "Error en el registro: 51711675, URL: https://a0.muscache.com/pictures/miso/Hosting-51711675/original/2d3a66cc-81df-43ca-a855-275991c8fa05.jpeg\n"
     ]
    },
    {
     "name": "stderr",
     "output_type": "stream",
     "text": [
      " 72%|███████▏  | 5206/7199 [26:12<10:41,  3.10it/s]"
     ]
    },
    {
     "name": "stdout",
     "output_type": "stream",
     "text": [
      "Error en el registro: 51721946, URL: https://a0.muscache.com/pictures/prohost-api/Hosting-51721946/original/94235a1f-8224-4aca-abaa-ae80e5976ae1.jpeg\n",
      "Error en el registro: 51722040, URL: https://a0.muscache.com/pictures/prohost-api/Hosting-51722040/original/50fdf6b2-723f-4073-b395-41dc78e17cef.jpeg\n"
     ]
    },
    {
     "name": "stderr",
     "output_type": "stream",
     "text": [
      " 72%|███████▏  | 5213/7199 [26:14<06:43,  4.92it/s]"
     ]
    },
    {
     "name": "stdout",
     "output_type": "stream",
     "text": [
      "Error en el registro: 51810948, URL: https://a0.muscache.com/pictures/prohost-api/Hosting-51810948/original/75535867-2424-4b40-b65f-4f77111bd3c1.jpeg\n"
     ]
    },
    {
     "name": "stderr",
     "output_type": "stream",
     "text": [
      " 72%|███████▏  | 5215/7199 [26:14<06:18,  5.24it/s]"
     ]
    },
    {
     "name": "stdout",
     "output_type": "stream",
     "text": [
      "Error en el registro: 51812329, URL: https://a0.muscache.com/pictures/prohost-api/Hosting-51812329/original/483ba6af-a53f-489f-aab1-2a665512ec03.jpeg\n"
     ]
    },
    {
     "name": "stderr",
     "output_type": "stream",
     "text": [
      " 72%|███████▏  | 5219/7199 [26:15<05:00,  6.59it/s]"
     ]
    },
    {
     "name": "stdout",
     "output_type": "stream",
     "text": [
      "Error en el registro: 51838132, URL: https://a0.muscache.com/pictures/prohost-api/Hosting-51838132/original/ed885fd6-cf96-406a-8ec9-ba48e511ec91.jpeg\n"
     ]
    },
    {
     "name": "stderr",
     "output_type": "stream",
     "text": [
      " 73%|███████▎  | 5222/7199 [26:15<06:13,  5.29it/s]"
     ]
    },
    {
     "name": "stdout",
     "output_type": "stream",
     "text": [
      "Error en el registro: 51872976, URL: https://a0.muscache.com/pictures/prohost-api/Hosting-51872976/original/f4d017b0-bed3-4eca-a4b4-f5bb74938378.jpeg\n"
     ]
    },
    {
     "name": "stderr",
     "output_type": "stream",
     "text": [
      " 73%|███████▎  | 5225/7199 [26:17<13:03,  2.52it/s]"
     ]
    },
    {
     "name": "stdout",
     "output_type": "stream",
     "text": [
      "Error en el registro: 52046024, URL: https://a0.muscache.com/pictures/prohost-api/Hosting-52046024/original/bd9db217-1a37-473c-9d04-c22554b514fe.jpeg\n"
     ]
    },
    {
     "name": "stderr",
     "output_type": "stream",
     "text": [
      " 73%|███████▎  | 5235/7199 [26:21<14:05,  2.32it/s]"
     ]
    },
    {
     "name": "stdout",
     "output_type": "stream",
     "text": [
      "Error en el registro: 52124041, URL: https://a0.muscache.com/pictures/prohost-api/Hosting-52124041/original/6807a140-6ca6-463a-8329-94c9c0d44551.jpeg\n"
     ]
    },
    {
     "name": "stderr",
     "output_type": "stream",
     "text": [
      " 73%|███████▎  | 5238/7199 [26:22<10:02,  3.25it/s]"
     ]
    },
    {
     "name": "stdout",
     "output_type": "stream",
     "text": [
      "Error en el registro: 52249525, URL: https://a0.muscache.com/pictures/prohost-api/Hosting-52249525/original/3a448371-fca1-436c-9cc9-f81c833761c7.jpeg\n"
     ]
    },
    {
     "name": "stderr",
     "output_type": "stream",
     "text": [
      " 73%|███████▎  | 5240/7199 [26:22<09:37,  3.39it/s]"
     ]
    },
    {
     "name": "stdout",
     "output_type": "stream",
     "text": [
      "Error en el registro: 52312207, URL: https://a0.muscache.com/pictures/prohost-api/Hosting-52312207/original/d0d8cfa3-d106-4980-9715-3569462eb2ab.jpeg\n"
     ]
    },
    {
     "name": "stderr",
     "output_type": "stream",
     "text": [
      " 73%|███████▎  | 5242/7199 [26:23<08:47,  3.71it/s]"
     ]
    },
    {
     "name": "stdout",
     "output_type": "stream",
     "text": [
      "Error en el registro: 52358493, URL: https://a0.muscache.com/pictures/prohost-api/Hosting-52358493/original/7bce9df4-aacf-497e-af49-13106d0e6432.jpeg\n",
      "Error en el registro: 52358553, URL: https://a0.muscache.com/pictures/prohost-api/Hosting-52358553/original/f9592681-544c-419b-8dbf-305c284f5d18.jpeg\n"
     ]
    },
    {
     "name": "stderr",
     "output_type": "stream",
     "text": [
      " 73%|███████▎  | 5244/7199 [26:23<07:58,  4.09it/s]"
     ]
    },
    {
     "name": "stdout",
     "output_type": "stream",
     "text": [
      "Error en el registro: 52360274, URL: https://a0.muscache.com/pictures/prohost-api/Hosting-52360274/original/511853f7-19d1-462b-998b-e25771b2b21c.jpeg\n"
     ]
    },
    {
     "name": "stderr",
     "output_type": "stream",
     "text": [
      " 73%|███████▎  | 5247/7199 [26:24<08:04,  4.03it/s]"
     ]
    },
    {
     "name": "stdout",
     "output_type": "stream",
     "text": [
      "Error en el registro: 52376819, URL: https://a0.muscache.com/pictures/prohost-api/Hosting-52376819/original/880d41b6-c749-44d7-a169-87ccd55b50eb.jpeg\n"
     ]
    },
    {
     "name": "stderr",
     "output_type": "stream",
     "text": [
      " 73%|███████▎  | 5265/7199 [26:31<09:14,  3.49it/s]"
     ]
    },
    {
     "name": "stdout",
     "output_type": "stream",
     "text": [
      "Error en el registro: 52630071, URL: https://a0.muscache.com/pictures/prohost-api/Hosting-52630071/original/18d18a46-3286-4197-be11-60ac7b5baba4.jpeg\n"
     ]
    },
    {
     "name": "stderr",
     "output_type": "stream",
     "text": [
      " 73%|███████▎  | 5269/7199 [26:32<10:11,  3.16it/s]"
     ]
    },
    {
     "name": "stdout",
     "output_type": "stream",
     "text": [
      "Error en el registro: 52637370, URL: https://a0.muscache.com/pictures/miso/Hosting-52637370/original/c527cd51-bb86-46de-b9a8-580359028a55.jpeg\n"
     ]
    },
    {
     "name": "stderr",
     "output_type": "stream",
     "text": [
      " 73%|███████▎  | 5273/7199 [26:34<10:56,  2.93it/s]"
     ]
    },
    {
     "name": "stdout",
     "output_type": "stream",
     "text": [
      "Error en el registro: 52680602, URL: https://a0.muscache.com/pictures/prohost-api/Hosting-52680602/original/1d79caaf-8a57-48b2-8d3e-dabbd5b1d75d.jpeg\n"
     ]
    },
    {
     "name": "stderr",
     "output_type": "stream",
     "text": [
      " 73%|███████▎  | 5275/7199 [26:34<08:12,  3.90it/s]"
     ]
    },
    {
     "name": "stdout",
     "output_type": "stream",
     "text": [
      "Error en el registro: 52680751, URL: https://a0.muscache.com/pictures/prohost-api/Hosting-52680751/original/6348b0ed-c12a-4c0f-bdbe-fa44b8f9897d.jpeg\n"
     ]
    },
    {
     "name": "stderr",
     "output_type": "stream",
     "text": [
      " 73%|███████▎  | 5277/7199 [26:34<07:02,  4.55it/s]"
     ]
    },
    {
     "name": "stdout",
     "output_type": "stream",
     "text": [
      "Error en el registro: 52681618, URL: https://a0.muscache.com/pictures/prohost-api/Hosting-52681618/original/321ebf00-4c2c-4471-8a59-6c11e001d6a9.jpeg\n",
      "Error en el registro: 52682307, URL: https://a0.muscache.com/pictures/prohost-api/Hosting-52682307/original/da6a3fe1-6dd1-4e9e-9e3f-2a1a0ee88b12.jpeg\n"
     ]
    },
    {
     "name": "stderr",
     "output_type": "stream",
     "text": [
      " 73%|███████▎  | 5280/7199 [26:35<06:01,  5.31it/s]"
     ]
    },
    {
     "name": "stdout",
     "output_type": "stream",
     "text": [
      "Error en el registro: 52747167, URL: https://a0.muscache.com/pictures/prohost-api/Hosting-52747167/original/981d3c46-4544-4edf-80c3-01e17abb0942.jpeg\n"
     ]
    },
    {
     "name": "stderr",
     "output_type": "stream",
     "text": [
      " 73%|███████▎  | 5287/7199 [26:37<10:39,  2.99it/s]"
     ]
    },
    {
     "name": "stdout",
     "output_type": "stream",
     "text": [
      "Error en el registro: 52891675, URL: https://a0.muscache.com/pictures/prohost-api/Hosting-52891675/original/d3f6e9e8-421f-4589-b06e-f6be60c8fc10.jpeg\n"
     ]
    },
    {
     "name": "stderr",
     "output_type": "stream",
     "text": [
      " 73%|███████▎  | 5288/7199 [26:38<09:34,  3.33it/s]"
     ]
    },
    {
     "name": "stdout",
     "output_type": "stream",
     "text": [
      "Error en el registro: 52891687, URL: https://a0.muscache.com/pictures/prohost-api/Hosting-52891687/original/48fee597-262d-410c-b972-58665f70f713.jpeg\n"
     ]
    },
    {
     "name": "stderr",
     "output_type": "stream",
     "text": [
      " 74%|███████▎  | 5292/7199 [26:39<08:01,  3.96it/s]"
     ]
    },
    {
     "name": "stdout",
     "output_type": "stream",
     "text": [
      "Error en el registro: 52922842, URL: https://a0.muscache.com/pictures/prohost-api/Hosting-52922842/original/8d76fa38-ee2d-4b41-a9f1-16d45c88fb98.jpeg\n"
     ]
    },
    {
     "name": "stderr",
     "output_type": "stream",
     "text": [
      " 74%|███████▎  | 5294/7199 [26:39<07:34,  4.19it/s]"
     ]
    },
    {
     "name": "stdout",
     "output_type": "stream",
     "text": [
      "Error en el registro: 52928607, URL: https://a0.muscache.com/pictures/prohost-api/Hosting-52928607/original/8a9071c4-1c9e-4d78-8ebc-cee19cb71212.jpeg\n"
     ]
    },
    {
     "name": "stderr",
     "output_type": "stream",
     "text": [
      " 74%|███████▎  | 5297/7199 [26:40<06:54,  4.59it/s]"
     ]
    },
    {
     "name": "stdout",
     "output_type": "stream",
     "text": [
      "Error en el registro: 53026499, URL: https://a0.muscache.com/pictures/prohost-api/Hosting-53026499/original/fe966eed-eb34-46eb-925c-56eac2b6583d.jpeg\n",
      "Error en el registro: 53026691, URL: https://a0.muscache.com/pictures/prohost-api/Hosting-53026691/original/3a060fb9-690a-4753-b88d-dd813b359c65.jpeg\n"
     ]
    },
    {
     "name": "stderr",
     "output_type": "stream",
     "text": [
      " 74%|███████▎  | 5298/7199 [26:40<06:44,  4.70it/s]"
     ]
    },
    {
     "name": "stdout",
     "output_type": "stream",
     "text": [
      "Error en el registro: 53026920, URL: https://a0.muscache.com/pictures/prohost-api/Hosting-53026920/original/2da62353-bc6b-470e-8a9a-66e90a75acaf.jpeg\n"
     ]
    },
    {
     "name": "stderr",
     "output_type": "stream",
     "text": [
      " 74%|███████▎  | 5299/7199 [26:40<06:44,  4.70it/s]"
     ]
    },
    {
     "name": "stdout",
     "output_type": "stream",
     "text": [
      "Error en el registro: 53027109, URL: https://a0.muscache.com/pictures/prohost-api/Hosting-53027109/original/d5272567-0970-4654-9850-67dcf4ceb4e7.jpeg\n"
     ]
    },
    {
     "name": "stderr",
     "output_type": "stream",
     "text": [
      " 74%|███████▎  | 5300/7199 [26:40<06:41,  4.73it/s]"
     ]
    },
    {
     "name": "stdout",
     "output_type": "stream",
     "text": [
      "Error en el registro: 53027280, URL: https://a0.muscache.com/pictures/prohost-api/Hosting-53027280/original/978d5cf7-184a-4cc3-8825-c8ad4808f916.jpeg\n"
     ]
    },
    {
     "name": "stderr",
     "output_type": "stream",
     "text": [
      " 74%|███████▎  | 5302/7199 [26:41<06:23,  4.94it/s]"
     ]
    },
    {
     "name": "stdout",
     "output_type": "stream",
     "text": [
      "Error en el registro: 53027387, URL: https://a0.muscache.com/pictures/prohost-api/Hosting-53027387/original/175d1bfa-b960-4dc0-897c-da50c7e87af8.jpeg\n",
      "Error en el registro: 53030044, URL: https://a0.muscache.com/pictures/prohost-api/Hosting-53030044/original/bc548525-e3d7-4ec3-9d25-2a856b21d70c.jpeg\n"
     ]
    },
    {
     "name": "stderr",
     "output_type": "stream",
     "text": [
      " 74%|███████▎  | 5304/7199 [26:41<05:46,  5.47it/s]"
     ]
    },
    {
     "name": "stdout",
     "output_type": "stream",
     "text": [
      "Error en el registro: 53056956, URL: https://a0.muscache.com/pictures/prohost-api/Hosting-53056956/original/cac4b366-899a-4716-82ce-7d7f5f44a48e.jpeg\n"
     ]
    },
    {
     "name": "stderr",
     "output_type": "stream",
     "text": [
      " 74%|███████▎  | 5307/7199 [26:42<06:25,  4.91it/s]"
     ]
    },
    {
     "name": "stdout",
     "output_type": "stream",
     "text": [
      "Error en el registro: 53105012, URL: https://a0.muscache.com/pictures/prohost-api/Hosting-53105012/original/d00bed5c-ee7b-472d-a1e2-f799ce22f565.jpeg\n"
     ]
    },
    {
     "name": "stderr",
     "output_type": "stream",
     "text": [
      " 74%|███████▍  | 5318/7199 [26:45<06:20,  4.94it/s]"
     ]
    },
    {
     "name": "stdout",
     "output_type": "stream",
     "text": [
      "Error en el registro: 53179806, URL: https://a0.muscache.com/pictures/prohost-api/Hosting-53179806/original/29613086-755a-4778-9467-67d8cb915c89.jpeg\n"
     ]
    },
    {
     "name": "stderr",
     "output_type": "stream",
     "text": [
      " 74%|███████▍  | 5319/7199 [26:45<07:20,  4.26it/s]"
     ]
    },
    {
     "name": "stdout",
     "output_type": "stream",
     "text": [
      "Error en el registro: 53185790, URL: https://a0.muscache.com/pictures/9fb3b90f-d3e3-447f-96d6-a73d1cc6503b.jpg\n"
     ]
    },
    {
     "name": "stderr",
     "output_type": "stream",
     "text": [
      " 74%|███████▍  | 5331/7199 [26:48<09:43,  3.20it/s]"
     ]
    },
    {
     "name": "stdout",
     "output_type": "stream",
     "text": [
      "Error en el registro: 53307896, URL: https://a0.muscache.com/pictures/prohost-api/Hosting-53307896/original/bdfcb0d8-ae48-425d-84de-f68417c99b15.jpeg\n"
     ]
    },
    {
     "name": "stderr",
     "output_type": "stream",
     "text": [
      " 74%|███████▍  | 5333/7199 [26:49<08:11,  3.79it/s]"
     ]
    },
    {
     "name": "stdout",
     "output_type": "stream",
     "text": [
      "Error en el registro: 53307955, URL: https://a0.muscache.com/pictures/prohost-api/Hosting-53307955/original/3d10cd62-2f28-4aa2-81aa-f9d19696a03d.jpeg\n",
      "Error en el registro: 53321922, URL: https://a0.muscache.com/pictures/cc9e1538-7ac2-47c5-8322-32db49b813d4.jpg\n"
     ]
    },
    {
     "name": "stderr",
     "output_type": "stream",
     "text": [
      " 74%|███████▍  | 5338/7199 [26:50<07:11,  4.32it/s]"
     ]
    },
    {
     "name": "stdout",
     "output_type": "stream",
     "text": [
      "Error en el registro: 53378837, URL: https://a0.muscache.com/pictures/9b24444b-a3f2-4be7-a13c-07df8d94a5f4.jpg\n"
     ]
    },
    {
     "name": "stderr",
     "output_type": "stream",
     "text": [
      " 74%|███████▍  | 5340/7199 [26:51<10:48,  2.86it/s]"
     ]
    },
    {
     "name": "stdout",
     "output_type": "stream",
     "text": [
      "Error en el registro: 53428804, URL: https://a0.muscache.com/pictures/prohost-api/Hosting-53428804/original/be2eaed8-9b31-480d-98f8-101ab09463ab.jpeg\n"
     ]
    },
    {
     "name": "stderr",
     "output_type": "stream",
     "text": [
      " 74%|███████▍  | 5342/7199 [26:52<07:47,  3.97it/s]"
     ]
    },
    {
     "name": "stdout",
     "output_type": "stream",
     "text": [
      "Error en el registro: 53462366, URL: https://a0.muscache.com/pictures/prohost-api/Hosting-53462366/original/a68d8ef5-de1b-4d65-ab7e-d75ab3e67424.png\n"
     ]
    },
    {
     "name": "stderr",
     "output_type": "stream",
     "text": [
      " 74%|███████▍  | 5343/7199 [26:52<07:00,  4.42it/s]"
     ]
    },
    {
     "name": "stdout",
     "output_type": "stream",
     "text": [
      "Error en el registro: 53471426, URL: https://a0.muscache.com/pictures/prohost-api/Hosting-53471426/original/8750208e-5400-4932-884d-2eb7dfa8f9c6.jpeg\n"
     ]
    },
    {
     "name": "stderr",
     "output_type": "stream",
     "text": [
      " 74%|███████▍  | 5350/7199 [26:54<10:27,  2.95it/s]"
     ]
    },
    {
     "name": "stdout",
     "output_type": "stream",
     "text": [
      "Error en el registro: 53541620, URL: https://a0.muscache.com/pictures/prohost-api/Hosting-53541620/original/c6b2db9a-1876-4696-a6cf-c7834a870d8c.jpeg\n"
     ]
    },
    {
     "name": "stderr",
     "output_type": "stream",
     "text": [
      " 74%|███████▍  | 5358/7199 [26:56<06:19,  4.86it/s]"
     ]
    },
    {
     "name": "stdout",
     "output_type": "stream",
     "text": [
      "Error en el registro: 53631121, URL: https://a0.muscache.com/pictures/miso/Hosting-53631121/original/4fe32bfc-0048-442e-8823-3bf637738101.jpeg\n",
      "Error en el registro: 53631431, URL: https://a0.muscache.com/pictures/miso/Hosting-53631431/original/a72b033f-5b23-42fd-9e39-ead73c0642e4.jpeg\n"
     ]
    },
    {
     "name": "stderr",
     "output_type": "stream",
     "text": [
      " 74%|███████▍  | 5360/7199 [26:56<05:23,  5.68it/s]"
     ]
    },
    {
     "name": "stdout",
     "output_type": "stream",
     "text": [
      "Error en el registro: 53631585, URL: https://a0.muscache.com/pictures/miso/Hosting-53631585/original/2638283e-f499-4ae1-8d95-07951e1e693a.jpeg\n"
     ]
    },
    {
     "name": "stderr",
     "output_type": "stream",
     "text": [
      " 74%|███████▍  | 5362/7199 [26:57<06:19,  4.84it/s]"
     ]
    },
    {
     "name": "stdout",
     "output_type": "stream",
     "text": [
      "Error en el registro: 53699018, URL: https://a0.muscache.com/pictures/prohost-api/Hosting-53699018/original/076e7f99-177e-493c-ae50-a794a4982e11.jpeg\n"
     ]
    },
    {
     "name": "stderr",
     "output_type": "stream",
     "text": [
      " 75%|███████▍  | 5365/7199 [26:57<05:47,  5.27it/s]"
     ]
    },
    {
     "name": "stdout",
     "output_type": "stream",
     "text": [
      "Error en el registro: 53733454, URL: https://a0.muscache.com/pictures/prohost-api/Hosting-53733454/original/53c3e939-e6e9-4de7-914d-beeda824a1fb.jpeg\n",
      "Error en el registro: 53733834, URL: https://a0.muscache.com/pictures/prohost-api/Hosting-53733834/original/9d1d0196-1355-4f35-83b7-199ff53c0ad5.jpeg\n"
     ]
    },
    {
     "name": "stderr",
     "output_type": "stream",
     "text": [
      " 75%|███████▍  | 5377/7199 [27:00<06:52,  4.41it/s]"
     ]
    },
    {
     "name": "stdout",
     "output_type": "stream",
     "text": [
      "Error en el registro: 53873611, URL: https://a0.muscache.com/pictures/prohost-api/Hosting-53873611/original/998d36d4-f555-4788-9462-2192ace76dd0.jpeg\n"
     ]
    },
    {
     "name": "stderr",
     "output_type": "stream",
     "text": [
      " 75%|███████▍  | 5381/7199 [27:01<06:58,  4.35it/s]"
     ]
    },
    {
     "name": "stdout",
     "output_type": "stream",
     "text": [
      "Error en el registro: 53914758, URL: https://a0.muscache.com/pictures/prohost-api/Hosting-53914758/original/af469d69-e8a1-4057-965f-a4d116169619.jpeg\n"
     ]
    },
    {
     "name": "stderr",
     "output_type": "stream",
     "text": [
      " 75%|███████▍  | 5382/7199 [27:01<06:56,  4.37it/s]"
     ]
    },
    {
     "name": "stdout",
     "output_type": "stream",
     "text": [
      "Error en el registro: 53932819, URL: https://a0.muscache.com/pictures/prohost-api/Hosting-53932819/original/a7cca99b-89c4-4878-93a4-1f5c99a3d05e.jpeg\n"
     ]
    },
    {
     "name": "stderr",
     "output_type": "stream",
     "text": [
      " 75%|███████▍  | 5383/7199 [27:01<07:27,  4.06it/s]"
     ]
    },
    {
     "name": "stdout",
     "output_type": "stream",
     "text": [
      "Error en el registro: 53964554, URL: https://a0.muscache.com/pictures/prohost-api/Hosting-53964554/original/751cf211-2da2-4cc2-9716-1527e6da595f.jpeg\n"
     ]
    },
    {
     "name": "stderr",
     "output_type": "stream",
     "text": [
      " 75%|███████▍  | 5386/7199 [27:02<06:33,  4.61it/s]"
     ]
    },
    {
     "name": "stdout",
     "output_type": "stream",
     "text": [
      "Error en el registro: 53992722, URL: https://a0.muscache.com/pictures/miso/Hosting-53992722/original/91988b70-62b7-4c95-8c83-6c144d6a6d48.jpeg\n"
     ]
    },
    {
     "name": "stderr",
     "output_type": "stream",
     "text": [
      " 75%|███████▍  | 5388/7199 [27:02<05:15,  5.74it/s]"
     ]
    },
    {
     "name": "stdout",
     "output_type": "stream",
     "text": [
      "Error en el registro: 54047272, URL: https://a0.muscache.com/pictures/prohost-api/Hosting-54047272/original/f4eb3cfa-21c1-4a69-ab4e-4d2d4d592621.jpeg\n"
     ]
    },
    {
     "name": "stderr",
     "output_type": "stream",
     "text": [
      " 75%|███████▍  | 5391/7199 [27:03<07:01,  4.29it/s]"
     ]
    },
    {
     "name": "stdout",
     "output_type": "stream",
     "text": [
      "Error en el registro: 54159081, URL: https://a0.muscache.com/pictures/prohost-api/Hosting-54159081/original/921d1884-5d26-422d-b5ad-175589408d8d.jpeg\n",
      "Error en el registro: 54159310, URL: https://a0.muscache.com/pictures/prohost-api/Hosting-54159310/original/779d8c2e-401f-4316-9921-215e22c36edc.jpeg\n"
     ]
    },
    {
     "name": "stderr",
     "output_type": "stream",
     "text": [
      " 75%|███████▌  | 5406/7199 [27:06<05:25,  5.51it/s]"
     ]
    },
    {
     "name": "stdout",
     "output_type": "stream",
     "text": [
      "Error en el registro: 54384571, URL: https://a0.muscache.com/pictures/miso/Hosting-54384571/original/a14887f0-6ec8-4aeb-b095-cdbbf814df8c.jpeg\n"
     ]
    },
    {
     "name": "stderr",
     "output_type": "stream",
     "text": [
      " 75%|███████▌  | 5408/7199 [27:06<05:59,  4.98it/s]"
     ]
    },
    {
     "name": "stdout",
     "output_type": "stream",
     "text": [
      "Error en el registro: 54399424, URL: https://a0.muscache.com/pictures/prohost-api/Hosting-54399424/original/417a2fd3-e7c4-441a-af3a-644c12a813cb.jpeg\n"
     ]
    },
    {
     "name": "stderr",
     "output_type": "stream",
     "text": [
      " 75%|███████▌  | 5414/7199 [27:08<05:18,  5.61it/s]"
     ]
    },
    {
     "name": "stdout",
     "output_type": "stream",
     "text": [
      "Error en el registro: 542466980559114057, URL: https://a0.muscache.com/pictures/prohost-api/Hosting-542466980559114057/original/f63c7a91-1d1b-4785-80dc-73df231518d9.jpeg\n"
     ]
    },
    {
     "name": "stderr",
     "output_type": "stream",
     "text": [
      " 75%|███████▌  | 5416/7199 [27:08<05:04,  5.86it/s]"
     ]
    },
    {
     "name": "stdout",
     "output_type": "stream",
     "text": [
      "Error en el registro: 543436362799833668, URL: https://a0.muscache.com/pictures/prohost-api/Hosting-543436362799833668/original/73dc4fed-1ceb-4076-97a7-a38fa0b5b98f.jpeg\n",
      "Error en el registro: 544684082770820787, URL: https://a0.muscache.com/pictures/prohost-api/Hosting-544684082770820787/original/ade61381-22d6-49d3-b706-e142ba879680.jpeg\n"
     ]
    },
    {
     "name": "stderr",
     "output_type": "stream",
     "text": [
      " 75%|███████▌  | 5418/7199 [27:08<05:05,  5.83it/s]"
     ]
    },
    {
     "name": "stdout",
     "output_type": "stream",
     "text": [
      "Error en el registro: 544686606795535057, URL: https://a0.muscache.com/pictures/prohost-api/Hosting-544686606795535057/original/3a436f2a-4093-4dee-8b13-a6ed9ea64e1a.jpeg\n"
     ]
    },
    {
     "name": "stderr",
     "output_type": "stream",
     "text": [
      " 75%|███████▌  | 5424/7199 [27:10<07:03,  4.19it/s]"
     ]
    },
    {
     "name": "stdout",
     "output_type": "stream",
     "text": [
      "Error en el registro: 548393136882554658, URL: https://a0.muscache.com/pictures/miso/Hosting-548393136882554658/original/92f40793-ed9a-4a7e-906b-8c6a7f34664e.jpeg\n",
      "Error en el registro: 548409183091048221, URL: https://a0.muscache.com/pictures/miso/Hosting-548409183091048221/original/d01945ae-728a-4781-9a3d-37b94327d2ab.jpeg\n"
     ]
    },
    {
     "name": "stderr",
     "output_type": "stream",
     "text": [
      " 75%|███████▌  | 5426/7199 [27:10<06:12,  4.76it/s]"
     ]
    },
    {
     "name": "stdout",
     "output_type": "stream",
     "text": [
      "Error en el registro: 548424627632198069, URL: https://a0.muscache.com/pictures/miso/Hosting-548424627632198069/original/06686dc0-470f-4a33-a0c2-f61ca9e80c91.jpeg\n",
      "Error en el registro: 548433540428028477, URL: https://a0.muscache.com/pictures/miso/Hosting-548433540428028477/original/6a34ad68-7a45-47e4-9144-2da30363a5f5.jpeg\n"
     ]
    },
    {
     "name": "stderr",
     "output_type": "stream",
     "text": [
      " 75%|███████▌  | 5428/7199 [27:11<05:32,  5.33it/s]"
     ]
    },
    {
     "name": "stdout",
     "output_type": "stream",
     "text": [
      "Error en el registro: 549048342007595380, URL: https://a0.muscache.com/pictures/prohost-api/Hosting-549048342007595380/original/236ff7f9-c853-47ad-93ba-4fc9b2c4994b.jpeg\n",
      "Error en el registro: 549055903062655337, URL: https://a0.muscache.com/pictures/prohost-api/Hosting-549055903062655337/original/0f70b22e-4a22-4e2a-a7b7-e7d478866f40.jpeg\n"
     ]
    },
    {
     "name": "stderr",
     "output_type": "stream",
     "text": [
      " 75%|███████▌  | 5429/7199 [27:11<07:08,  4.13it/s]"
     ]
    },
    {
     "name": "stdout",
     "output_type": "stream",
     "text": [
      "Error en el registro: 549058407111290129, URL: https://a0.muscache.com/pictures/prohost-api/Hosting-549058407111290129/original/5179f9aa-f925-41b9-8397-4b35ae9c6ca3.jpeg\n"
     ]
    },
    {
     "name": "stderr",
     "output_type": "stream",
     "text": [
      " 75%|███████▌  | 5434/7199 [27:12<05:42,  5.15it/s]"
     ]
    },
    {
     "name": "stdout",
     "output_type": "stream",
     "text": [
      "Error en el registro: 553449835647049763, URL: https://a0.muscache.com/pictures/prohost-api/Hosting-553449835647049763/original/be8b6826-9ebe-4a1e-8414-3258e830ce73.jpeg\n"
     ]
    },
    {
     "name": "stderr",
     "output_type": "stream",
     "text": [
      " 75%|███████▌  | 5435/7199 [27:12<05:47,  5.07it/s]"
     ]
    },
    {
     "name": "stdout",
     "output_type": "stream",
     "text": [
      "Error en el registro: 553450125818531583, URL: https://a0.muscache.com/pictures/prohost-api/Hosting-553450125818531583/original/4b84b104-856c-4180-9344-1df6afc63ee6.jpeg\n"
     ]
    },
    {
     "name": "stderr",
     "output_type": "stream",
     "text": [
      " 76%|███████▌  | 5449/7199 [27:16<06:38,  4.39it/s]"
     ]
    },
    {
     "name": "stdout",
     "output_type": "stream",
     "text": [
      "Error en el registro: 557094168867486125, URL: https://a0.muscache.com/pictures/prohost-api/Hosting-557094168867486125/original/b3d82f92-608f-4da1-b06b-dc6949852f8f.jpeg\n",
      "Error en el registro: 557094454595424536, URL: https://a0.muscache.com/pictures/prohost-api/Hosting-557094454595424536/original/295861bf-5054-4abd-b752-ad6949ac387b.jpeg\n"
     ]
    },
    {
     "name": "stderr",
     "output_type": "stream",
     "text": [
      " 76%|███████▌  | 5451/7199 [27:16<05:56,  4.90it/s]"
     ]
    },
    {
     "name": "stdout",
     "output_type": "stream",
     "text": [
      "Error en el registro: 557861915611213552, URL: https://a0.muscache.com/pictures/prohost-api/Hosting-557861915611213552/original/49369359-68c9-42fd-8ee8-c69b2920c2d1.jpeg\n",
      "Error en el registro: 557862346669301479, URL: https://a0.muscache.com/pictures/prohost-api/Hosting-557862346669301479/original/b489cbb8-4ade-4edd-9b52-a5a6f5d27344.jpeg\n"
     ]
    },
    {
     "name": "stderr",
     "output_type": "stream",
     "text": [
      " 76%|███████▌  | 5457/7199 [27:18<04:51,  5.99it/s]"
     ]
    },
    {
     "name": "stdout",
     "output_type": "stream",
     "text": [
      "Error en el registro: 558737352827141257, URL: https://a0.muscache.com/pictures/miso/Hosting-558737352827141257/original/79baa66c-e138-4cf3-a179-e809ed53f868.jpeg\n"
     ]
    },
    {
     "name": "stderr",
     "output_type": "stream",
     "text": [
      " 76%|███████▌  | 5459/7199 [27:18<04:53,  5.92it/s]"
     ]
    },
    {
     "name": "stdout",
     "output_type": "stream",
     "text": [
      "Error en el registro: 562909674759088729, URL: https://a0.muscache.com/pictures/prohost-api/Hosting-562909674759088729/original/1bc9d504-3972-4b52-9ae7-5363a05b6d13.jpeg\n"
     ]
    },
    {
     "name": "stderr",
     "output_type": "stream",
     "text": [
      " 76%|███████▌  | 5464/7199 [27:19<08:08,  3.55it/s]"
     ]
    },
    {
     "name": "stdout",
     "output_type": "stream",
     "text": [
      "Error en el registro: 566450430168033283, URL: https://a0.muscache.com/pictures/57c74e3b-4199-48e7-be0e-fa8b25672c2a.jpg\n"
     ]
    },
    {
     "name": "stderr",
     "output_type": "stream",
     "text": [
      " 76%|███████▌  | 5466/7199 [27:20<07:07,  4.06it/s]"
     ]
    },
    {
     "name": "stdout",
     "output_type": "stream",
     "text": [
      "Error en el registro: 567263377944351900, URL: https://a0.muscache.com/pictures/prohost-api/Hosting-567263377944351900/original/84e7bbe3-615f-474b-a4e4-33a68b0346c1.jpeg\n",
      "Error en el registro: 568692279938660404, URL: https://a0.muscache.com/pictures/prohost-api/Hosting-568692279938660404/original/14e8826d-5df9-4084-ae4c-5e1db70706aa.jpeg\n"
     ]
    },
    {
     "name": "stderr",
     "output_type": "stream",
     "text": [
      " 76%|███████▌  | 5468/7199 [27:20<06:09,  4.68it/s]"
     ]
    },
    {
     "name": "stdout",
     "output_type": "stream",
     "text": [
      "Error en el registro: 568694788908431933, URL: https://a0.muscache.com/pictures/prohost-api/Hosting-568694788908431933/original/a82a3209-09fa-462a-ad8c-b9d984e82ac3.jpeg\n"
     ]
    },
    {
     "name": "stderr",
     "output_type": "stream",
     "text": [
      " 76%|███████▌  | 5469/7199 [27:20<05:42,  5.04it/s]"
     ]
    },
    {
     "name": "stdout",
     "output_type": "stream",
     "text": [
      "Error en el registro: 569407505309687319, URL: https://a0.muscache.com/pictures/prohost-api/Hosting-569407505309687319/original/233707bb-ef6a-4ea7-a44a-deace00a3418.jpeg\n"
     ]
    },
    {
     "name": "stderr",
     "output_type": "stream",
     "text": [
      " 76%|███████▌  | 5475/7199 [27:21<04:43,  6.08it/s]"
     ]
    },
    {
     "name": "stdout",
     "output_type": "stream",
     "text": [
      "Error en el registro: 573072034648033150, URL: https://a0.muscache.com/pictures/prohost-api/Hosting-573072034648033150/original/27e6a227-5af6-40ed-ba4d-f24fadf97f0f.jpeg\n"
     ]
    },
    {
     "name": "stderr",
     "output_type": "stream",
     "text": [
      " 76%|███████▌  | 5478/7199 [27:23<11:07,  2.58it/s]"
     ]
    },
    {
     "name": "stdout",
     "output_type": "stream",
     "text": [
      "Error en el registro: 574763198852585805, URL: https://a0.muscache.com/pictures/miso/Hosting-574763198852585805/original/af75010b-d8ec-4072-9353-9f06cfcc3921.jpeg\n"
     ]
    },
    {
     "name": "stderr",
     "output_type": "stream",
     "text": [
      " 76%|███████▋  | 5491/7199 [27:26<05:36,  5.08it/s]"
     ]
    },
    {
     "name": "stdout",
     "output_type": "stream",
     "text": [
      "Error en el registro: 578114881460921853, URL: https://a0.muscache.com/pictures/prohost-api/Hosting-578114881460921853/original/8bf3248c-bff6-452a-93a5-52490d002909.jpeg\n",
      "Error en el registro: 578117391619038483, URL: https://a0.muscache.com/pictures/prohost-api/Hosting-578117391619038483/original/e7cf9e88-f212-4cb5-b0b4-6773c8bd5c91.jpeg\n"
     ]
    },
    {
     "name": "stderr",
     "output_type": "stream",
     "text": [
      " 76%|███████▋  | 5494/7199 [27:27<06:27,  4.41it/s]"
     ]
    },
    {
     "name": "stdout",
     "output_type": "stream",
     "text": [
      "Error en el registro: 578829581723459472, URL: https://a0.muscache.com/pictures/prohost-api/Hosting-578829581723459472/original/155e748b-66a5-43f2-a469-174a1e38b3ea.jpeg\n"
     ]
    },
    {
     "name": "stderr",
     "output_type": "stream",
     "text": [
      " 76%|███████▋  | 5503/7199 [27:29<06:15,  4.52it/s]"
     ]
    },
    {
     "name": "stdout",
     "output_type": "stream",
     "text": [
      "Error en el registro: 579562467128239369, URL: https://a0.muscache.com/pictures/miso/Hosting-579562467128239369/original/63b6a232-7682-4846-91bf-93d1ea32843f.jpeg\n"
     ]
    },
    {
     "name": "stderr",
     "output_type": "stream",
     "text": [
      " 76%|███████▋  | 5504/7199 [27:29<06:15,  4.51it/s]"
     ]
    },
    {
     "name": "stdout",
     "output_type": "stream",
     "text": [
      "Error en el registro: 580336513335041407, URL: https://a0.muscache.com/pictures/prohost-api/Hosting-580336513335041407/original/7f3d580f-714a-42aa-825c-acd981deb23d.jpeg\n"
     ]
    },
    {
     "name": "stderr",
     "output_type": "stream",
     "text": [
      " 76%|███████▋  | 5506/7199 [27:29<05:48,  4.85it/s]"
     ]
    },
    {
     "name": "stdout",
     "output_type": "stream",
     "text": [
      "Error en el registro: 580339548657084895, URL: https://a0.muscache.com/pictures/prohost-api/Hosting-580339548657084895/original/ed78c4a6-4e31-4c8e-afcd-8b8182c50ff9.jpeg\n",
      "Error en el registro: 580340188480812217, URL: https://a0.muscache.com/pictures/prohost-api/Hosting-580340188480812217/original/1197adce-808f-47f0-bb65-6da038ac04d5.jpeg\n"
     ]
    },
    {
     "name": "stderr",
     "output_type": "stream",
     "text": [
      " 76%|███████▋  | 5507/7199 [27:30<05:33,  5.07it/s]"
     ]
    },
    {
     "name": "stdout",
     "output_type": "stream",
     "text": [
      "Error en el registro: 580342069798808551, URL: https://a0.muscache.com/pictures/prohost-api/Hosting-580342069798808551/original/0386eaae-0b67-4c96-b2cc-ebadd9e96fb8.jpeg\n"
     ]
    },
    {
     "name": "stderr",
     "output_type": "stream",
     "text": [
      " 77%|███████▋  | 5508/7199 [27:30<06:00,  4.69it/s]"
     ]
    },
    {
     "name": "stdout",
     "output_type": "stream",
     "text": [
      "Error en el registro: 580442259470637184, URL: https://a0.muscache.com/pictures/prohost-api/Hosting-580442259470637184/original/642c2f0a-d10e-402b-95b1-0de7bf419fa8.png\n"
     ]
    },
    {
     "name": "stderr",
     "output_type": "stream",
     "text": [
      " 77%|███████▋  | 5510/7199 [27:30<05:26,  5.17it/s]"
     ]
    },
    {
     "name": "stdout",
     "output_type": "stream",
     "text": [
      "Error en el registro: 580524519215857438, URL: https://a0.muscache.com/pictures/miso/Hosting-580524519215857438/original/6e6c5925-10dd-4ea2-9208-b36ab63af73d.jpeg\n"
     ]
    },
    {
     "name": "stderr",
     "output_type": "stream",
     "text": [
      " 77%|███████▋  | 5523/7199 [27:33<06:58,  4.01it/s]"
     ]
    },
    {
     "name": "stdout",
     "output_type": "stream",
     "text": [
      "Error en el registro: 584818002913089374, URL: https://a0.muscache.com/pictures/miso/Hosting-584818002913089374/original/72c64e24-afb7-4e9b-a83f-bf62039debe4.jpeg\n"
     ]
    },
    {
     "name": "stderr",
     "output_type": "stream",
     "text": [
      " 77%|███████▋  | 5526/7199 [27:34<07:16,  3.83it/s]"
     ]
    },
    {
     "name": "stdout",
     "output_type": "stream",
     "text": [
      "Error en el registro: 585228758807996843, URL: https://a0.muscache.com/pictures/prohost-api/Hosting-585228758807996843/original/09539fa6-9ab4-4732-bcd0-0c40e12d9d8a.jpeg\n"
     ]
    },
    {
     "name": "stderr",
     "output_type": "stream",
     "text": [
      " 77%|███████▋  | 5533/7199 [27:36<07:51,  3.53it/s]"
     ]
    },
    {
     "name": "stdout",
     "output_type": "stream",
     "text": [
      "Error en el registro: 592635565577244428, URL: https://a0.muscache.com/pictures/prohost-api/Hosting-592635565577244428/original/579ac205-ac53-4470-b279-5a9008a77a5b.jpeg\n"
     ]
    },
    {
     "name": "stderr",
     "output_type": "stream",
     "text": [
      " 77%|███████▋  | 5536/7199 [27:37<08:39,  3.20it/s]"
     ]
    },
    {
     "name": "stdout",
     "output_type": "stream",
     "text": [
      "Error en el registro: 594797282646385297, URL: https://a0.muscache.com/pictures/prohost-api/Hosting-594797282646385297/original/22cb397b-e85f-43b2-81e7-37a84578bf3e.jpeg\n"
     ]
    },
    {
     "name": "stderr",
     "output_type": "stream",
     "text": [
      " 77%|███████▋  | 5544/7199 [27:40<08:25,  3.27it/s]"
     ]
    },
    {
     "name": "stdout",
     "output_type": "stream",
     "text": [
      "Error en el registro: 598404279154016952, URL: https://a0.muscache.com/pictures/prohost-api/Hosting-598404279154016952/original/34b62598-91cc-40d5-80ee-6bc805c9f2b5.jpeg\n"
     ]
    },
    {
     "name": "stderr",
     "output_type": "stream",
     "text": [
      " 77%|███████▋  | 5553/7199 [27:43<09:33,  2.87it/s]"
     ]
    },
    {
     "name": "stdout",
     "output_type": "stream",
     "text": [
      "Error en el registro: 604223920210757772, URL: https://a0.muscache.com/pictures/prohost-api/Hosting-604223920210757772/original/b73033c1-cd42-4e00-b0ed-a09b5f498c14.jpeg\n"
     ]
    },
    {
     "name": "stderr",
     "output_type": "stream",
     "text": [
      " 77%|███████▋  | 5555/7199 [27:43<07:17,  3.76it/s]"
     ]
    },
    {
     "name": "stdout",
     "output_type": "stream",
     "text": [
      "Error en el registro: 604231971121077035, URL: https://a0.muscache.com/pictures/prohost-api/Hosting-604231971121077035/original/8a842a04-da7b-4a52-8559-4c90a446bd1c.jpeg\n",
      "Error en el registro: 604232269991905294, URL: https://a0.muscache.com/pictures/prohost-api/Hosting-604232269991905294/original/a22778dc-61b7-4e16-a3c8-9792503504ff.jpeg\n"
     ]
    },
    {
     "name": "stderr",
     "output_type": "stream",
     "text": [
      " 77%|███████▋  | 5558/7199 [27:44<05:46,  4.74it/s]"
     ]
    },
    {
     "name": "stdout",
     "output_type": "stream",
     "text": [
      "Error en el registro: 604234472085817955, URL: https://a0.muscache.com/pictures/prohost-api/Hosting-604234472085817955/original/761a51e0-aba1-4fc4-a11a-d457b5375822.jpeg\n"
     ]
    },
    {
     "name": "stderr",
     "output_type": "stream",
     "text": [
      " 77%|███████▋  | 5559/7199 [27:44<05:57,  4.59it/s]"
     ]
    },
    {
     "name": "stdout",
     "output_type": "stream",
     "text": [
      "Error en el registro: 604951714437257587, URL: https://a0.muscache.com/pictures/prohost-api/Hosting-604951714437257587/original/767f84ef-275a-4d26-a3d9-65ab3b258c27.jpeg\n"
     ]
    },
    {
     "name": "stderr",
     "output_type": "stream",
     "text": [
      " 77%|███████▋  | 5563/7199 [27:45<06:49,  4.00it/s]"
     ]
    },
    {
     "name": "stdout",
     "output_type": "stream",
     "text": [
      "Error en el registro: 608359192793639653, URL: https://a0.muscache.com/pictures/prohost-api/Hosting-608359192793639653/original/c3e76481-b618-4948-af0b-4b71727b1201.jpeg\n",
      "Error en el registro: 608359496810075683, URL: https://a0.muscache.com/pictures/prohost-api/Hosting-608359496810075683/original/eadf3fdf-0d24-4922-b7c3-3fa533b1a24a.jpeg\n"
     ]
    },
    {
     "name": "stderr",
     "output_type": "stream",
     "text": [
      " 77%|███████▋  | 5565/7199 [27:46<08:00,  3.40it/s]"
     ]
    },
    {
     "name": "stdout",
     "output_type": "stream",
     "text": [
      "Error en el registro: 608658771570500261, URL: https://a0.muscache.com/pictures/miso/Hosting-608658771570500261/original/4f9287ef-9726-49bd-afd7-1261614c2e23.jpeg\n"
     ]
    },
    {
     "name": "stderr",
     "output_type": "stream",
     "text": [
      " 77%|███████▋  | 5575/7199 [27:49<06:37,  4.08it/s]"
     ]
    },
    {
     "name": "stdout",
     "output_type": "stream",
     "text": [
      "Error en el registro: 612908141225302683, URL: https://a0.muscache.com/pictures/prohost-api/Hosting-612908141225302683/original/8e783dfe-af26-4041-aba6-343259802678.jpeg\n"
     ]
    },
    {
     "name": "stderr",
     "output_type": "stream",
     "text": [
      " 78%|███████▊  | 5594/7199 [27:56<07:54,  3.38it/s]"
     ]
    },
    {
     "name": "stdout",
     "output_type": "stream",
     "text": [
      "Error en el registro: 619253446291935967, URL: https://a0.muscache.com/pictures/prohost-api/Hosting-619253446291935967/original/6c8e77a8-3db8-4644-a736-8d137bf3d00a.jpeg\n"
     ]
    },
    {
     "name": "stderr",
     "output_type": "stream",
     "text": [
      " 78%|███████▊  | 5599/7199 [27:58<08:12,  3.25it/s]"
     ]
    },
    {
     "name": "stdout",
     "output_type": "stream",
     "text": [
      "Error en el registro: 620726386166322193, URL: https://a0.muscache.com/pictures/prohost-api/Hosting-620726386166322193/original/4ef78345-dfe4-4e20-bc50-f5f846db8dbe.jpeg\n"
     ]
    },
    {
     "name": "stderr",
     "output_type": "stream",
     "text": [
      " 78%|███████▊  | 5605/7199 [27:59<05:47,  4.58it/s]"
     ]
    },
    {
     "name": "stdout",
     "output_type": "stream",
     "text": [
      "Error en el registro: 622413306658128240, URL: https://a0.muscache.com/pictures/miso/Hosting-622413306658128240/original/0a864c78-21a8-412e-b679-c11b68b3eda6.jpeg\n"
     ]
    },
    {
     "name": "stderr",
     "output_type": "stream",
     "text": [
      " 78%|███████▊  | 5608/7199 [28:00<05:32,  4.78it/s]"
     ]
    },
    {
     "name": "stdout",
     "output_type": "stream",
     "text": [
      "Error en el registro: 623029409486034434, URL: https://a0.muscache.com/pictures/prohost-api/Hosting-623029409486034434/original/c291ac87-a95e-4baa-9831-8b80607ea8fa.jpeg\n"
     ]
    },
    {
     "name": "stderr",
     "output_type": "stream",
     "text": [
      " 78%|███████▊  | 5611/7199 [28:01<07:19,  3.61it/s]"
     ]
    },
    {
     "name": "stdout",
     "output_type": "stream",
     "text": [
      "Error en el registro: 623174295658849560, URL: https://a0.muscache.com/pictures/prohost-api/Hosting-623174295658849560/original/dc77fe0f-5d72-4075-887f-2ab98da928a7.jpeg\n"
     ]
    },
    {
     "name": "stderr",
     "output_type": "stream",
     "text": [
      " 78%|███████▊  | 5612/7199 [28:01<07:14,  3.65it/s]"
     ]
    },
    {
     "name": "stdout",
     "output_type": "stream",
     "text": [
      "Error en el registro: 623619726219332946, URL: https://a0.muscache.com/pictures/prohost-api/Hosting-623619726219332946/original/14609c8d-a85d-4929-b395-b1f673d19062.jpeg\n"
     ]
    },
    {
     "name": "stderr",
     "output_type": "stream",
     "text": [
      " 78%|███████▊  | 5626/7199 [28:04<05:08,  5.11it/s]"
     ]
    },
    {
     "name": "stdout",
     "output_type": "stream",
     "text": [
      "Error en el registro: 633058908634454665, URL: https://a0.muscache.com/pictures/prohost-api/Hosting-633058908634454665/original/d584f0b2-3d14-4263-b200-b4a159ee0bb4.jpeg\n"
     ]
    },
    {
     "name": "stderr",
     "output_type": "stream",
     "text": [
      " 78%|███████▊  | 5627/7199 [28:05<05:22,  4.88it/s]"
     ]
    },
    {
     "name": "stdout",
     "output_type": "stream",
     "text": [
      "Error en el registro: 633240905689427322, URL: https://a0.muscache.com/pictures/84794d3e-d997-480c-b9c7-4fe8ab39f676.jpg\n"
     ]
    },
    {
     "name": "stderr",
     "output_type": "stream",
     "text": [
      " 78%|███████▊  | 5632/7199 [28:06<05:52,  4.44it/s]"
     ]
    },
    {
     "name": "stdout",
     "output_type": "stream",
     "text": [
      "Error en el registro: 634543701606720546, URL: https://a0.muscache.com/pictures/prohost-api/Hosting-634543701606720546/original/6b2b925e-f7ec-400e-8ae5-f9d1696971af.jpeg\n"
     ]
    },
    {
     "name": "stderr",
     "output_type": "stream",
     "text": [
      " 78%|███████▊  | 5642/7199 [28:10<10:00,  2.59it/s]"
     ]
    },
    {
     "name": "stdout",
     "output_type": "stream",
     "text": [
      "Error en el registro: 636288932942854774, URL: https://a0.muscache.com/pictures/miso/Hosting-636288932942854774/original/53176ca0-ac54-4306-80b9-440cf02b21a1.jpeg\n",
      "Error en el registro: 638235027182813304, URL: https://a0.muscache.com/pictures/prohost-api/Hosting-638235027182813304/original/e8025544-cf54-4bd1-9f8a-ffb9e9869afe.jpeg\n"
     ]
    },
    {
     "name": "stderr",
     "output_type": "stream",
     "text": [
      " 78%|███████▊  | 5645/7199 [28:10<06:12,  4.17it/s]"
     ]
    },
    {
     "name": "stdout",
     "output_type": "stream",
     "text": [
      "Error en el registro: 638473569363708335, URL: https://a0.muscache.com/pictures/miso/Hosting-638473569363708335/original/e8cc0175-519b-459b-a140-b88976d6daeb.jpeg\n"
     ]
    },
    {
     "name": "stderr",
     "output_type": "stream",
     "text": [
      " 79%|███████▉  | 5674/7199 [28:16<04:31,  5.63it/s]"
     ]
    },
    {
     "name": "stdout",
     "output_type": "stream",
     "text": [
      "Error en el registro: 649227798792183262, URL: https://a0.muscache.com/pictures/miso/Hosting-649227798792183262/original/94a68d76-70d0-44aa-9e8b-fd241143d7f0.jpeg\n"
     ]
    },
    {
     "name": "stderr",
     "output_type": "stream",
     "text": [
      " 79%|███████▉  | 5676/7199 [28:16<04:27,  5.70it/s]"
     ]
    },
    {
     "name": "stdout",
     "output_type": "stream",
     "text": [
      "Error en el registro: 650670596271554040, URL: https://a0.muscache.com/pictures/b5f824b9-f2b3-4dae-9d35-5fec22d94a3a.jpg\n"
     ]
    },
    {
     "name": "stderr",
     "output_type": "stream",
     "text": [
      " 79%|███████▉  | 5681/7199 [28:17<05:46,  4.38it/s]"
     ]
    },
    {
     "name": "stdout",
     "output_type": "stream",
     "text": [
      "Error en el registro: 655514870814006563, URL: https://a0.muscache.com/pictures/prohost-api/Hosting-655514870814006563/original/724771b1-5a01-4fdd-909c-e7d727a7bd81.jpeg\n"
     ]
    },
    {
     "name": "stderr",
     "output_type": "stream",
     "text": [
      " 79%|███████▉  | 5682/7199 [28:17<05:38,  4.48it/s]"
     ]
    },
    {
     "name": "stdout",
     "output_type": "stream",
     "text": [
      "Error en el registro: 655515158683197472, URL: https://a0.muscache.com/pictures/prohost-api/Hosting-655515158683197472/original/4b649a39-4db9-4bb2-bff6-5a4bdc248087.jpeg\n"
     ]
    },
    {
     "name": "stderr",
     "output_type": "stream",
     "text": [
      " 79%|███████▉  | 5684/7199 [28:18<05:20,  4.72it/s]"
     ]
    },
    {
     "name": "stdout",
     "output_type": "stream",
     "text": [
      "Error en el registro: 655515533603303924, URL: https://a0.muscache.com/pictures/prohost-api/Hosting-655515533603303924/original/81017bdd-993a-47c5-9221-58cd085f4a6c.jpeg\n"
     ]
    },
    {
     "name": "stderr",
     "output_type": "stream",
     "text": [
      " 79%|███████▉  | 5689/7199 [28:19<04:13,  5.95it/s]"
     ]
    },
    {
     "name": "stdout",
     "output_type": "stream",
     "text": [
      "Error en el registro: 658616819945465934, URL: https://a0.muscache.com/pictures/prohost-api/Hosting-658616819945465934/original/23ab522e-1c82-401f-b979-95f7f667f284.jpeg\n",
      "Error en el registro: 658713146354442625, URL: https://a0.muscache.com/pictures/miso/Hosting-658713146354442625/original/43d951e7-f273-4e91-970d-d02965c399e3.jpeg\n"
     ]
    },
    {
     "name": "stderr",
     "output_type": "stream",
     "text": [
      " 79%|███████▉  | 5691/7199 [28:20<07:18,  3.44it/s]"
     ]
    },
    {
     "name": "stdout",
     "output_type": "stream",
     "text": [
      "Error en el registro: 658765857439531363, URL: https://a0.muscache.com/pictures/miso/Hosting-658765857439531363/original/616fe3ad-23bb-49cc-bf8b-66453e0dd7ff.jpeg\n"
     ]
    },
    {
     "name": "stderr",
     "output_type": "stream",
     "text": [
      " 79%|███████▉  | 5694/7199 [28:20<06:05,  4.11it/s]"
     ]
    },
    {
     "name": "stdout",
     "output_type": "stream",
     "text": [
      "Error en el registro: 659156386290642679, URL: https://a0.muscache.com/pictures/prohost-api/Hosting-659156386290642679/original/a5625cb5-579d-496f-9ccb-25b8f722b917.jpeg\n"
     ]
    },
    {
     "name": "stderr",
     "output_type": "stream",
     "text": [
      " 79%|███████▉  | 5695/7199 [28:20<05:25,  4.61it/s]"
     ]
    },
    {
     "name": "stdout",
     "output_type": "stream",
     "text": [
      "Error en el registro: 659511501225097577, URL: https://a0.muscache.com/pictures/miso/Hosting-659511501225097577/original/3bee1537-70e2-421a-9886-7da374880177.jpeg\n"
     ]
    },
    {
     "name": "stderr",
     "output_type": "stream",
     "text": [
      " 79%|███████▉  | 5709/7199 [28:24<05:28,  4.53it/s]"
     ]
    },
    {
     "name": "stdout",
     "output_type": "stream",
     "text": [
      "Error en el registro: 666383993088270320, URL: https://a0.muscache.com/pictures/prohost-api/Hosting-666383993088270320/original/143267b2-34a1-4129-91e7-cfbf5ffd99f2.jpeg\n"
     ]
    },
    {
     "name": "stderr",
     "output_type": "stream",
     "text": [
      " 79%|███████▉  | 5715/7199 [28:26<05:08,  4.80it/s]"
     ]
    },
    {
     "name": "stdout",
     "output_type": "stream",
     "text": [
      "Error en el registro: 668818916257742515, URL: https://a0.muscache.com/pictures/miso/Hosting-668818916257742515/original/d356e43b-10f2-4007-af4c-5984cddf69d2.png\n"
     ]
    },
    {
     "name": "stderr",
     "output_type": "stream",
     "text": [
      " 79%|███████▉  | 5720/7199 [28:27<04:01,  6.13it/s]"
     ]
    },
    {
     "name": "stdout",
     "output_type": "stream",
     "text": [
      "Error en el registro: 670105594005404482, URL: https://a0.muscache.com/pictures/prohost-api/Hosting-670105594005404482/original/c1ffef6e-0359-4048-bbe6-229ca2fb8cd4.jpeg\n"
     ]
    },
    {
     "name": "stderr",
     "output_type": "stream",
     "text": [
      " 80%|███████▉  | 5735/7199 [28:31<07:56,  3.07it/s]"
     ]
    },
    {
     "name": "stdout",
     "output_type": "stream",
     "text": [
      "Error en el registro: 674344475189896557, URL: https://a0.muscache.com/pictures/prohost-api/Hosting-674344475189896557/original/0f94223f-171b-4a36-a250-df3e83b79b73.jpeg\n"
     ]
    },
    {
     "name": "stderr",
     "output_type": "stream",
     "text": [
      " 80%|███████▉  | 5740/7199 [28:32<05:13,  4.65it/s]"
     ]
    },
    {
     "name": "stdout",
     "output_type": "stream",
     "text": [
      "Error en el registro: 676483872976026157, URL: https://a0.muscache.com/pictures/prohost-api/Hosting-676483872976026157/original/95466906-23db-48dc-9947-d752a219a166.jpeg\n"
     ]
    },
    {
     "name": "stderr",
     "output_type": "stream",
     "text": [
      " 80%|███████▉  | 5744/7199 [28:33<05:25,  4.47it/s]"
     ]
    },
    {
     "name": "stdout",
     "output_type": "stream",
     "text": [
      "Error en el registro: 676898605599494749, URL: https://a0.muscache.com/pictures/miso/Hosting-676898605599494749/original/b1d7b7be-c4e1-44a8-8c57-3d1d3060f4d1.jpeg\n"
     ]
    },
    {
     "name": "stderr",
     "output_type": "stream",
     "text": [
      " 80%|███████▉  | 5756/7199 [28:35<05:03,  4.76it/s]"
     ]
    },
    {
     "name": "stdout",
     "output_type": "stream",
     "text": [
      "Error en el registro: 683768558849092912, URL: https://a0.muscache.com/pictures/prohost-api/Hosting-683768558849092912/original/ecfe8989-8d18-4c1b-8c30-cb601c156236.jpeg\n"
     ]
    },
    {
     "name": "stderr",
     "output_type": "stream",
     "text": [
      " 80%|████████  | 5761/7199 [28:37<05:19,  4.50it/s]"
     ]
    },
    {
     "name": "stdout",
     "output_type": "stream",
     "text": [
      "Error en el registro: 684685835346260348, URL: https://a0.muscache.com/pictures/miso/Hosting-684685835346260348/original/78cbf802-27a4-4152-b2f6-82720971e554.jpeg\n"
     ]
    },
    {
     "name": "stderr",
     "output_type": "stream",
     "text": [
      " 80%|████████  | 5769/7199 [28:38<04:07,  5.78it/s]"
     ]
    },
    {
     "name": "stdout",
     "output_type": "stream",
     "text": [
      "Error en el registro: 686659102449877793, URL: https://a0.muscache.com/pictures/prohost-api/Hosting-686659102449877793/original/3480e3f2-af15-463e-a8ed-403fe2efbbf1.jpeg\n"
     ]
    },
    {
     "name": "stderr",
     "output_type": "stream",
     "text": [
      " 80%|████████  | 5776/7199 [28:39<04:21,  5.44it/s]"
     ]
    },
    {
     "name": "stdout",
     "output_type": "stream",
     "text": [
      "Error en el registro: 688910480628831655, URL: https://a0.muscache.com/pictures/prohost-api/Hosting-688910480628831655/original/7eb3e919-d4d4-4fea-85c6-299d855bb99c.jpeg\n"
     ]
    },
    {
     "name": "stderr",
     "output_type": "stream",
     "text": [
      " 80%|████████  | 5778/7199 [28:40<05:39,  4.19it/s]"
     ]
    },
    {
     "name": "stdout",
     "output_type": "stream",
     "text": [
      "Error en el registro: 689607534898158572, URL: https://a0.muscache.com/pictures/prohost-api/Hosting-689607534898158572/original/860e07b2-0022-4a83-a3cb-c651897ae6fd.jpeg\n"
     ]
    },
    {
     "name": "stderr",
     "output_type": "stream",
     "text": [
      " 80%|████████  | 5786/7199 [28:42<06:08,  3.84it/s]"
     ]
    },
    {
     "name": "stdout",
     "output_type": "stream",
     "text": [
      "Error en el registro: 690400586934454556, URL: https://a0.muscache.com/pictures/prohost-api/Hosting-690400586934454556/original/eca7926b-53b1-47b7-9e3e-d9f75a03f565.jpeg\n",
      "Error en el registro: 690400874919227004, URL: https://a0.muscache.com/pictures/prohost-api/Hosting-690400874919227004/original/3604456d-ecc0-429a-84f4-d200db16a3a2.jpeg\n"
     ]
    },
    {
     "name": "stderr",
     "output_type": "stream",
     "text": [
      " 81%|████████  | 5799/7199 [28:45<03:51,  6.04it/s]"
     ]
    },
    {
     "name": "stdout",
     "output_type": "stream",
     "text": [
      "Error en el registro: 695542274861997846, URL: https://a0.muscache.com/pictures/60f99764-d820-4727-9a0f-5a374cf33550.jpg\n"
     ]
    },
    {
     "name": "stderr",
     "output_type": "stream",
     "text": [
      " 81%|████████  | 5802/7199 [28:46<05:55,  3.93it/s]"
     ]
    },
    {
     "name": "stdout",
     "output_type": "stream",
     "text": [
      "Error en el registro: 695868903061431283, URL: https://a0.muscache.com/pictures/miso/Hosting-695868903061431283/original/82ee9450-7b8b-4446-953a-c4d6ba9a5a39.jpeg\n"
     ]
    },
    {
     "name": "stderr",
     "output_type": "stream",
     "text": [
      " 81%|████████  | 5815/7199 [28:49<05:27,  4.22it/s]"
     ]
    },
    {
     "name": "stdout",
     "output_type": "stream",
     "text": [
      "Error en el registro: 700542874333492403, URL: https://a0.muscache.com/pictures/prohost-api/Hosting-700542874333492403/original/462f7165-0c4f-4625-a4fb-70285cf183ce.jpeg\n"
     ]
    },
    {
     "name": "stderr",
     "output_type": "stream",
     "text": [
      " 81%|████████  | 5818/7199 [28:50<04:24,  5.21it/s]"
     ]
    },
    {
     "name": "stdout",
     "output_type": "stream",
     "text": [
      "Error en el registro: 701903542880060170, URL: https://a0.muscache.com/pictures/prohost-api/Hosting-701903542880060170/original/72a22598-6367-4d7a-adb4-e65276b03521.jpeg\n",
      "Error en el registro: 701903839431825131, URL: https://a0.muscache.com/pictures/prohost-api/Hosting-701903839431825131/original/c7900b9a-b922-4727-9ae4-97b7efadb52b.jpeg\n"
     ]
    },
    {
     "name": "stderr",
     "output_type": "stream",
     "text": [
      " 81%|████████  | 5819/7199 [28:50<04:42,  4.89it/s]"
     ]
    },
    {
     "name": "stdout",
     "output_type": "stream",
     "text": [
      "Error en el registro: 702072857749096679, URL: https://a0.muscache.com/pictures/miso/Hosting-702072857749096679/original/3abdc597-8b18-42d9-bba0-5279e2d0afb4.jpeg\n"
     ]
    },
    {
     "name": "stderr",
     "output_type": "stream",
     "text": [
      " 81%|████████  | 5823/7199 [28:51<04:47,  4.78it/s]"
     ]
    },
    {
     "name": "stdout",
     "output_type": "stream",
     "text": [
      "Error en el registro: 702196791016760152, URL: https://a0.muscache.com/pictures/prohost-api/Hosting-702196791016760152/original/d0974756-6243-4cc3-a3a6-c4fd2ae11096.jpeg\n"
     ]
    },
    {
     "name": "stderr",
     "output_type": "stream",
     "text": [
      " 81%|████████  | 5827/7199 [28:52<05:03,  4.52it/s]"
     ]
    },
    {
     "name": "stdout",
     "output_type": "stream",
     "text": [
      "Error en el registro: 704785038887176281, URL: https://a0.muscache.com/pictures/prohost-api/Hosting-704785038887176281/original/8944038f-882a-4838-8fb2-8eb90483b2f7.jpeg\n"
     ]
    },
    {
     "name": "stderr",
     "output_type": "stream",
     "text": [
      " 81%|████████  | 5834/7199 [28:54<06:39,  3.42it/s]"
     ]
    },
    {
     "name": "stdout",
     "output_type": "stream",
     "text": [
      "Error en el registro: 706391605702679581, URL: https://a0.muscache.com/pictures/miso/Hosting-706391605702679581/original/beb334ca-0ad1-485b-8624-d8520c609a93.jpeg\n"
     ]
    },
    {
     "name": "stderr",
     "output_type": "stream",
     "text": [
      " 81%|████████▏ | 5862/7199 [29:03<06:30,  3.43it/s]"
     ]
    },
    {
     "name": "stdout",
     "output_type": "stream",
     "text": [
      "Error en el registro: 713140450013616661, URL: https://a0.muscache.com/pictures/miso/Hosting-713140450013616661/original/28881ace-22f5-41c9-9fe8-066782997460.jpeg\n"
     ]
    },
    {
     "name": "stderr",
     "output_type": "stream",
     "text": [
      " 81%|████████▏ | 5866/7199 [29:05<05:50,  3.81it/s]"
     ]
    },
    {
     "name": "stdout",
     "output_type": "stream",
     "text": [
      "Error en el registro: 714656100145703498, URL: https://a0.muscache.com/pictures/prohost-api/Hosting-714656100145703498/original/06ce250c-d54d-400f-9758-181d559981c1.jpeg\n"
     ]
    },
    {
     "name": "stderr",
     "output_type": "stream",
     "text": [
      " 82%|████████▏ | 5870/7199 [29:06<05:11,  4.26it/s]"
     ]
    },
    {
     "name": "stdout",
     "output_type": "stream",
     "text": [
      "Error en el registro: 715658190467254169, URL: https://a0.muscache.com/pictures/prohost-api/Hosting-715658190467254169/original/499eb09f-69a0-454d-9c04-45201932224d.jpeg\n"
     ]
    },
    {
     "name": "stderr",
     "output_type": "stream",
     "text": [
      " 82%|████████▏ | 5880/7199 [29:11<07:30,  2.93it/s]"
     ]
    },
    {
     "name": "stdout",
     "output_type": "stream",
     "text": [
      "Error en el registro: 719467171987235663, URL: https://a0.muscache.com/pictures/miso/Hosting-719467171987235663/original/cbee6a61-c29c-4b42-a699-4d3f631a68e4.jpeg\n"
     ]
    },
    {
     "name": "stderr",
     "output_type": "stream",
     "text": [
      " 82%|████████▏ | 5883/7199 [29:12<07:47,  2.81it/s]"
     ]
    },
    {
     "name": "stdout",
     "output_type": "stream",
     "text": [
      "Error en el registro: 719990238559489665, URL: https://a0.muscache.com/pictures/prohost-api/Hosting-719990238559489665/original/f7f84f22-7cb1-4c16-bb2e-2f9512d4a457.jpeg\n"
     ]
    },
    {
     "name": "stderr",
     "output_type": "stream",
     "text": [
      " 82%|████████▏ | 5894/7199 [29:17<07:15,  3.00it/s]"
     ]
    },
    {
     "name": "stdout",
     "output_type": "stream",
     "text": [
      "Error en el registro: 726396583833243890, URL: https://a0.muscache.com/pictures/prohost-api/Hosting-726396583833243890/original/0a2f3fc3-ed29-4b75-8512-542f230e5e38.jpeg\n"
     ]
    },
    {
     "name": "stderr",
     "output_type": "stream",
     "text": [
      " 82%|████████▏ | 5895/7199 [29:17<06:27,  3.36it/s]"
     ]
    },
    {
     "name": "stdout",
     "output_type": "stream",
     "text": [
      "Error en el registro: 727368563191104397, URL: https://a0.muscache.com/pictures/prohost-api/Hosting-727368563191104397/original/190319a4-3aa3-4c7e-835e-8178968d8c05.jpeg\n"
     ]
    },
    {
     "name": "stderr",
     "output_type": "stream",
     "text": [
      " 82%|████████▏ | 5906/7199 [29:20<07:16,  2.96it/s]"
     ]
    },
    {
     "name": "stdout",
     "output_type": "stream",
     "text": [
      "Error en el registro: 731581616930727750, URL: https://a0.muscache.com/pictures/prohost-api/Hosting-731581616930727750/original/1a164d45-a9a7-41b0-a8e1-207901dc987a.jpeg\n"
     ]
    },
    {
     "name": "stderr",
     "output_type": "stream",
     "text": [
      " 82%|████████▏ | 5923/7199 [29:25<04:48,  4.42it/s]"
     ]
    },
    {
     "name": "stdout",
     "output_type": "stream",
     "text": [
      "Error en el registro: 740400290363696561, URL: https://a0.muscache.com/pictures/6679d540-9cda-484e-abbf-35d067470774.jpg\n"
     ]
    },
    {
     "name": "stderr",
     "output_type": "stream",
     "text": [
      " 82%|████████▏ | 5924/7199 [29:25<04:25,  4.80it/s]"
     ]
    },
    {
     "name": "stdout",
     "output_type": "stream",
     "text": [
      "Error en el registro: 741745368954817653, URL: https://a0.muscache.com/pictures/prohost-api/Hosting-741745368954817653/original/0114337a-c460-4155-8091-f2eae2a7de2a.jpeg\n"
     ]
    },
    {
     "name": "stderr",
     "output_type": "stream",
     "text": [
      " 82%|████████▏ | 5933/7199 [29:28<04:37,  4.56it/s]"
     ]
    },
    {
     "name": "stdout",
     "output_type": "stream",
     "text": [
      "Error en el registro: 748360987335266464, URL: https://a0.muscache.com/pictures/5e2e1372-1b44-4c16-8f1d-d516492cb076.jpg\n"
     ]
    },
    {
     "name": "stderr",
     "output_type": "stream",
     "text": [
      " 82%|████████▏ | 5939/7199 [29:30<07:03,  2.98it/s]"
     ]
    },
    {
     "name": "stdout",
     "output_type": "stream",
     "text": [
      "Error en el registro: 751255733039018358, URL: https://a0.muscache.com/pictures/prohost-api/Hosting-751255733039018358/original/da152004-1dcb-4b85-8dc6-650a3e722ab2.jpeg\n"
     ]
    },
    {
     "name": "stderr",
     "output_type": "stream",
     "text": [
      " 83%|████████▎ | 5941/7199 [29:30<05:34,  3.76it/s]"
     ]
    },
    {
     "name": "stdout",
     "output_type": "stream",
     "text": [
      "Error en el registro: 751256340541168925, URL: https://a0.muscache.com/pictures/prohost-api/Hosting-751256340541168925/original/6c5be02b-7131-43a8-93cb-54dd9f014882.jpeg\n"
     ]
    },
    {
     "name": "stderr",
     "output_type": "stream",
     "text": [
      " 83%|████████▎ | 5957/7199 [29:34<04:12,  4.92it/s]"
     ]
    },
    {
     "name": "stdout",
     "output_type": "stream",
     "text": [
      "Error en el registro: 754921465460632358, URL: https://a0.muscache.com/pictures/prohost-api/Hosting-754921465460632358/original/70bf2190-e417-4dd4-bb6e-67e50c6f6731.jpeg\n"
     ]
    },
    {
     "name": "stderr",
     "output_type": "stream",
     "text": [
      " 83%|████████▎ | 5959/7199 [29:34<04:44,  4.35it/s]"
     ]
    },
    {
     "name": "stdout",
     "output_type": "stream",
     "text": [
      "Error en el registro: 755533469713682355, URL: https://a0.muscache.com/pictures/miso/Hosting-755533469713682355/original/3b07598d-63c7-4649-bdf6-ad7b81f28ba8.png\n"
     ]
    },
    {
     "name": "stderr",
     "output_type": "stream",
     "text": [
      " 83%|████████▎ | 5960/7199 [29:35<04:38,  4.45it/s]"
     ]
    },
    {
     "name": "stdout",
     "output_type": "stream",
     "text": [
      "Error en el registro: 755549554190811005, URL: https://a0.muscache.com/pictures/prohost-api/Hosting-755549554190811005/original/b4e9be91-0d2f-4600-8b05-c8aab038524c.jpeg\n"
     ]
    },
    {
     "name": "stderr",
     "output_type": "stream",
     "text": [
      " 83%|████████▎ | 5961/7199 [29:35<04:34,  4.52it/s]"
     ]
    },
    {
     "name": "stdout",
     "output_type": "stream",
     "text": [
      "Error en el registro: 755550110633481973, URL: https://a0.muscache.com/pictures/prohost-api/Hosting-755550110633481973/original/56a84cb4-52f3-45f9-b369-510f7b97304d.jpeg\n"
     ]
    },
    {
     "name": "stderr",
     "output_type": "stream",
     "text": [
      " 83%|████████▎ | 5966/7199 [29:36<04:02,  5.09it/s]"
     ]
    },
    {
     "name": "stdout",
     "output_type": "stream",
     "text": [
      "Error en el registro: 757021735358934310, URL: https://a0.muscache.com/pictures/prohost-api/Hosting-757021735358934310/original/0e052465-e5d6-43e6-b365-aebd543bb1d6.jpeg\n",
      "Error en el registro: 757022023725678837, URL: https://a0.muscache.com/pictures/prohost-api/Hosting-757022023725678837/original/2dd6f3d9-d2f8-4675-89d1-04dfc65e7ee5.jpeg\n"
     ]
    },
    {
     "name": "stderr",
     "output_type": "stream",
     "text": [
      " 83%|████████▎ | 5973/7199 [29:38<04:48,  4.25it/s]"
     ]
    },
    {
     "name": "stdout",
     "output_type": "stream",
     "text": [
      "Error en el registro: 759892648386172163, URL: https://a0.muscache.com/pictures/prohost-api/Hosting-759892648386172163/original/00d7d2e1-4d70-45a0-b5b5-70aa5a97df41.jpeg\n",
      "Error en el registro: 759893468198280917, URL: https://a0.muscache.com/pictures/prohost-api/Hosting-759893468198280917/original/99beda76-af94-433a-a44e-fc64ec42a1e7.jpeg\n"
     ]
    },
    {
     "name": "stderr",
     "output_type": "stream",
     "text": [
      " 83%|████████▎ | 5975/7199 [29:38<04:10,  4.90it/s]"
     ]
    },
    {
     "name": "stdout",
     "output_type": "stream",
     "text": [
      "Error en el registro: 759894024434692037, URL: https://a0.muscache.com/pictures/prohost-api/Hosting-759894024434692037/original/e799d2ec-ac47-4c18-aac6-9f7365d68684.jpeg\n"
     ]
    },
    {
     "name": "stderr",
     "output_type": "stream",
     "text": [
      " 83%|████████▎ | 5978/7199 [29:39<03:57,  5.14it/s]"
     ]
    },
    {
     "name": "stdout",
     "output_type": "stream",
     "text": [
      "Error en el registro: 760402775627338023, URL: https://a0.muscache.com/pictures/miso/Hosting-760402775627338023/original/502b0062-d227-4c70-b9ed-73b47489b8d6.jpeg\n"
     ]
    },
    {
     "name": "stderr",
     "output_type": "stream",
     "text": [
      " 83%|████████▎ | 5980/7199 [29:39<04:23,  4.62it/s]"
     ]
    },
    {
     "name": "stdout",
     "output_type": "stream",
     "text": [
      "Error en el registro: 761353275730186662, URL: https://a0.muscache.com/pictures/prohost-api/Hosting-761353275730186662/original/9e415f37-14ad-4903-bea0-7b333bc54158.jpeg\n"
     ]
    },
    {
     "name": "stderr",
     "output_type": "stream",
     "text": [
      " 83%|████████▎ | 5981/7199 [29:40<04:09,  4.89it/s]"
     ]
    },
    {
     "name": "stdout",
     "output_type": "stream",
     "text": [
      "Error en el registro: 762164629747217079, URL: https://a0.muscache.com/pictures/prohost-api/Hosting-762164629747217079/original/bf8c5cf6-82fa-47ca-aa41-fba594e4a465.jpeg\n"
     ]
    },
    {
     "name": "stderr",
     "output_type": "stream",
     "text": [
      " 83%|████████▎ | 5985/7199 [29:41<04:34,  4.42it/s]"
     ]
    },
    {
     "name": "stdout",
     "output_type": "stream",
     "text": [
      "Error en el registro: 762779193061469131, URL: https://a0.muscache.com/pictures/prohost-api/Hosting-762779193061469131/original/b3aa3c1a-b4d7-48c2-b53a-85fc5246eea4.jpeg\n"
     ]
    },
    {
     "name": "stderr",
     "output_type": "stream",
     "text": [
      " 83%|████████▎ | 5988/7199 [29:41<03:44,  5.40it/s]"
     ]
    },
    {
     "name": "stdout",
     "output_type": "stream",
     "text": [
      "Error en el registro: 763110046866087334, URL: https://a0.muscache.com/pictures/miso/Hosting-763110046866087334/original/9217ce0f-6cf4-4c1a-bdc8-9996344b0bd8.jpeg\n"
     ]
    },
    {
     "name": "stderr",
     "output_type": "stream",
     "text": [
      " 83%|████████▎ | 5991/7199 [29:42<04:14,  4.75it/s]"
     ]
    },
    {
     "name": "stdout",
     "output_type": "stream",
     "text": [
      "Error en el registro: 765006355721890182, URL: https://a0.muscache.com/pictures/prohost-api/Hosting-765006355721890182/original/889b9b8d-3793-4303-ab6a-096318081547.jpeg\n",
      "Error en el registro: 765006895101554698, URL: https://a0.muscache.com/pictures/prohost-api/Hosting-765006895101554698/original/2f892b1f-4c4e-47fc-87ae-d5ea90b0d644.jpeg\n"
     ]
    },
    {
     "name": "stderr",
     "output_type": "stream",
     "text": [
      " 83%|████████▎ | 5997/7199 [29:44<06:46,  2.96it/s]"
     ]
    },
    {
     "name": "stdout",
     "output_type": "stream",
     "text": [
      "Error en el registro: 765841349139671626, URL: https://a0.muscache.com/pictures/prohost-api/Hosting-765841349139671626/original/8b60663a-fa99-40b9-bc36-fba58ddc9897.jpeg\n"
     ]
    },
    {
     "name": "stderr",
     "output_type": "stream",
     "text": [
      " 83%|████████▎ | 5998/7199 [29:45<06:00,  3.33it/s]"
     ]
    },
    {
     "name": "stdout",
     "output_type": "stream",
     "text": [
      "Error en el registro: 765841775181131141, URL: https://a0.muscache.com/pictures/prohost-api/Hosting-765841775181131141/original/61b43651-164b-4a56-932c-19be2a5c6672.jpeg\n"
     ]
    },
    {
     "name": "stderr",
     "output_type": "stream",
     "text": [
      " 83%|████████▎ | 6000/7199 [29:45<04:55,  4.06it/s]"
     ]
    },
    {
     "name": "stdout",
     "output_type": "stream",
     "text": [
      "Error en el registro: 765842269075124283, URL: https://a0.muscache.com/pictures/prohost-api/Hosting-765842269075124283/original/625f8935-88e7-4f22-b0c4-340d86354392.jpeg\n",
      "Error en el registro: 766443317316185027, URL: https://a0.muscache.com/pictures/prohost-api/Hosting-766443317316185027/original/b19f62cc-1722-4eca-8471-4e0de00d811b.jpeg\n"
     ]
    },
    {
     "name": "stderr",
     "output_type": "stream",
     "text": [
      " 83%|████████▎ | 6001/7199 [29:45<04:51,  4.12it/s]"
     ]
    },
    {
     "name": "stdout",
     "output_type": "stream",
     "text": [
      "Error en el registro: 767351808354008385, URL: https://a0.muscache.com/pictures/prohost-api/Hosting-767351808354008385/original/f10e3840-8f80-4971-966d-b0498c8edb38.jpeg\n"
     ]
    },
    {
     "name": "stderr",
     "output_type": "stream",
     "text": [
      " 83%|████████▎ | 6002/7199 [29:45<04:44,  4.21it/s]"
     ]
    },
    {
     "name": "stdout",
     "output_type": "stream",
     "text": [
      "Error en el registro: 767352123386196599, URL: https://a0.muscache.com/pictures/prohost-api/Hosting-767352123386196599/original/58d45c8b-b091-4b48-b9f7-beae0ffbf300.jpeg\n"
     ]
    },
    {
     "name": "stderr",
     "output_type": "stream",
     "text": [
      " 83%|████████▎ | 6011/7199 [29:48<04:50,  4.09it/s]"
     ]
    },
    {
     "name": "stdout",
     "output_type": "stream",
     "text": [
      "Error en el registro: 771690696993014228, URL: https://a0.muscache.com/pictures/prohost-api/Hosting-771690696993014228/original/d415bb47-034b-4fdd-b47b-0241c4d7fbcc.jpeg\n"
     ]
    },
    {
     "name": "stderr",
     "output_type": "stream",
     "text": [
      " 84%|████████▎ | 6023/7199 [29:51<04:26,  4.42it/s]"
     ]
    },
    {
     "name": "stdout",
     "output_type": "stream",
     "text": [
      "Error en el registro: 775261963711450110, URL: https://a0.muscache.com/pictures/prohost-api/Hosting-775261963711450110/original/9411b324-9455-4f85-8522-3d4722f49e8a.jpeg\n"
     ]
    },
    {
     "name": "stderr",
     "output_type": "stream",
     "text": [
      " 84%|████████▎ | 6029/7199 [29:53<06:48,  2.87it/s]"
     ]
    },
    {
     "name": "stdout",
     "output_type": "stream",
     "text": [
      "Error en el registro: 776610853880546976, URL: https://a0.muscache.com/pictures/prohost-api/Hosting-776610853880546976/original/d160751f-bf07-4189-9744-2549b6434e0f.jpeg\n"
     ]
    },
    {
     "name": "stderr",
     "output_type": "stream",
     "text": [
      " 84%|████████▍ | 6046/7199 [29:59<03:51,  4.98it/s]"
     ]
    },
    {
     "name": "stdout",
     "output_type": "stream",
     "text": [
      "Error en el registro: 781001738751122967, URL: https://a0.muscache.com/pictures/prohost-api/Hosting-781001738751122967/original/9762344a-bfb9-49d6-89bc-37581a6eb986.jpeg\n"
     ]
    },
    {
     "name": "stderr",
     "output_type": "stream",
     "text": [
      " 84%|████████▍ | 6051/7199 [30:00<04:39,  4.10it/s]"
     ]
    },
    {
     "name": "stdout",
     "output_type": "stream",
     "text": [
      "Error en el registro: 786807008620011176, URL: https://a0.muscache.com/pictures/prohost-api/Hosting-786807008620011176/original/111baacf-cf4f-480a-b934-b0dd982356df.jpeg\n"
     ]
    },
    {
     "name": "stderr",
     "output_type": "stream",
     "text": [
      " 84%|████████▍ | 6052/7199 [30:01<04:40,  4.10it/s]"
     ]
    },
    {
     "name": "stdout",
     "output_type": "stream",
     "text": [
      "Error en el registro: 787547697386254974, URL: https://a0.muscache.com/pictures/prohost-api/Hosting-787547697386254974/original/c2a3c7b3-2ebd-422b-a8b1-651935ef7714.jpeg\n"
     ]
    },
    {
     "name": "stderr",
     "output_type": "stream",
     "text": [
      " 84%|████████▍ | 6065/7199 [30:06<06:18,  3.00it/s]"
     ]
    },
    {
     "name": "stdout",
     "output_type": "stream",
     "text": [
      "Error en el registro: 796990908736037328, URL: https://a0.muscache.com/pictures/prohost-api/Hosting-796990908736037328/original/703a2531-bebf-44e2-92ea-bb4e4914c8a3.jpeg\n"
     ]
    },
    {
     "name": "stderr",
     "output_type": "stream",
     "text": [
      " 84%|████████▍ | 6066/7199 [30:06<05:36,  3.37it/s]"
     ]
    },
    {
     "name": "stdout",
     "output_type": "stream",
     "text": [
      "Error en el registro: 797634392623375373, URL: https://a0.muscache.com/pictures/prohost-api/Hosting-797634392623375373/original/f3795ac6-2cab-4776-9e1b-8bd62eb563b0.jpeg\n"
     ]
    },
    {
     "name": "stderr",
     "output_type": "stream",
     "text": [
      " 84%|████████▍ | 6067/7199 [30:06<05:14,  3.60it/s]"
     ]
    },
    {
     "name": "stdout",
     "output_type": "stream",
     "text": [
      "Error en el registro: 797634833378646656, URL: https://a0.muscache.com/pictures/prohost-api/Hosting-797634833378646656/original/8424416c-c551-48fd-ab2d-89d3307f9e8e.jpeg\n",
      "Error en el registro: 797635200084843258, URL: https://a0.muscache.com/pictures/prohost-api/Hosting-797635200084843258/original/5a215a5f-70d6-47e7-84d2-5631f2c1e11f.jpeg\n"
     ]
    },
    {
     "name": "stderr",
     "output_type": "stream",
     "text": [
      " 84%|████████▍ | 6073/7199 [30:09<10:36,  1.77it/s]"
     ]
    },
    {
     "name": "stdout",
     "output_type": "stream",
     "text": [
      "Error en el registro: 798524113485453463, URL: https://a0.muscache.com/pictures/miso/Hosting-798524113485453463/original/d3b5e0a2-bc8e-4d2a-b6d7-8b3e16cb716e.jpeg\n"
     ]
    },
    {
     "name": "stderr",
     "output_type": "stream",
     "text": [
      " 84%|████████▍ | 6075/7199 [30:10<08:41,  2.16it/s]"
     ]
    },
    {
     "name": "stdout",
     "output_type": "stream",
     "text": [
      "Error en el registro: 800678625525343383, URL: https://a0.muscache.com/pictures/miso/Hosting-800678625525343383/original/7c057ffb-a088-4168-9a98-2a2a1cb649d2.jpeg\n"
     ]
    },
    {
     "name": "stderr",
     "output_type": "stream",
     "text": [
      " 84%|████████▍ | 6077/7199 [30:10<05:47,  3.23it/s]"
     ]
    },
    {
     "name": "stdout",
     "output_type": "stream",
     "text": [
      "Error en el registro: 801228312332129657, URL: https://a0.muscache.com/pictures/prohost-api/Hosting-801228312332129657/original/7eb80afa-4e49-41bd-ac94-d40f5e58dd4c.jpeg\n"
     ]
    },
    {
     "name": "stderr",
     "output_type": "stream",
     "text": [
      " 85%|████████▍ | 6090/7199 [30:12<02:39,  6.96it/s]"
     ]
    },
    {
     "name": "stdout",
     "output_type": "stream",
     "text": [
      "Error en el registro: 802781307558619461, URL: https://a0.muscache.com/pictures/prohost-api/Hosting-802781307558619461/original/48e185c7-1d49-4119-bd27-d84aa825db6f.jpeg\n"
     ]
    },
    {
     "name": "stderr",
     "output_type": "stream",
     "text": [
      " 85%|████████▍ | 6117/7199 [30:27<04:23,  4.10it/s]"
     ]
    },
    {
     "name": "stdout",
     "output_type": "stream",
     "text": [
      "Error en el registro: 810755335955230893, URL: https://a0.muscache.com/pictures/prohost-api/Hosting-810755335955230893/original/9a8f92c7-9910-4faa-9de3-d982d41082cf.jpeg\n"
     ]
    },
    {
     "name": "stderr",
     "output_type": "stream",
     "text": [
      " 86%|████████▌ | 6156/7199 [30:38<02:52,  6.04it/s]"
     ]
    },
    {
     "name": "stdout",
     "output_type": "stream",
     "text": [
      "Error en el registro: 821501113985650809, URL: https://a0.muscache.com/pictures/prohost-api/Hosting-821501113985650809/original/8681efda-5f4c-4b0c-8f7c-e97bd9cee294.jpeg\n"
     ]
    },
    {
     "name": "stderr",
     "output_type": "stream",
     "text": [
      " 86%|████████▌ | 6169/7199 [30:42<04:24,  3.90it/s]"
     ]
    },
    {
     "name": "stdout",
     "output_type": "stream",
     "text": [
      "Error en el registro: 825847770808405248, URL: https://a0.muscache.com/pictures/prohost-api/Hosting-825847770808405248/original/92be7552-7d96-4790-8103-c26894761c7c.jpeg\n"
     ]
    },
    {
     "name": "stderr",
     "output_type": "stream",
     "text": [
      " 86%|████████▌ | 6173/7199 [30:44<05:26,  3.14it/s]"
     ]
    },
    {
     "name": "stdout",
     "output_type": "stream",
     "text": [
      "Error en el registro: 826562966046818110, URL: https://a0.muscache.com/pictures/prohost-api/Hosting-826562966046818110/original/a15df900-7671-4279-bed9-141dfa83a04c.jpeg\n"
     ]
    },
    {
     "name": "stderr",
     "output_type": "stream",
     "text": [
      " 86%|████████▌ | 6182/7199 [30:46<03:37,  4.67it/s]"
     ]
    },
    {
     "name": "stdout",
     "output_type": "stream",
     "text": [
      "Error en el registro: 828014040320230036, URL: https://a0.muscache.com/pictures/prohost-api/Hosting-828014040320230036/original/154db478-c931-40ad-863e-a2e0bb214580.jpeg\n"
     ]
    },
    {
     "name": "stderr",
     "output_type": "stream",
     "text": [
      " 86%|████████▌ | 6184/7199 [30:46<03:26,  4.92it/s]"
     ]
    },
    {
     "name": "stdout",
     "output_type": "stream",
     "text": [
      "Error en el registro: 828194448965037333, URL: https://a0.muscache.com/pictures/prohost-api/Hosting-828194448965037333/original/3075b2e5-4c56-4b5a-83f5-c15c8c9a9af3.jpeg\n"
     ]
    },
    {
     "name": "stderr",
     "output_type": "stream",
     "text": [
      " 86%|████████▌ | 6187/7199 [30:47<03:46,  4.47it/s]"
     ]
    },
    {
     "name": "stdout",
     "output_type": "stream",
     "text": [
      "Error en el registro: 828416110846192220, URL: https://a0.muscache.com/pictures/miso/Hosting-828416110846192220/original/ad3210cd-bad9-4be0-908f-88131e56a128.jpeg\n"
     ]
    },
    {
     "name": "stderr",
     "output_type": "stream",
     "text": [
      " 86%|████████▌ | 6199/7199 [30:50<04:39,  3.58it/s]"
     ]
    },
    {
     "name": "stdout",
     "output_type": "stream",
     "text": [
      "Error en el registro: 831735030713466807, URL: https://a0.muscache.com/pictures/prohost-api/Hosting-831735030713466807/original/2089092b-7f4d-48c4-b58d-85c364518d9d.jpeg\n"
     ]
    },
    {
     "name": "stderr",
     "output_type": "stream",
     "text": [
      " 86%|████████▌ | 6204/7199 [30:54<08:00,  2.07it/s]"
     ]
    },
    {
     "name": "stdout",
     "output_type": "stream",
     "text": [
      "Error en el registro: 831961056951139768, URL: https://a0.muscache.com/pictures/miso/Hosting-831961056951139768/original/b733330c-1d81-44bd-8abc-7625d0b593e0.jpeg\n"
     ]
    },
    {
     "name": "stderr",
     "output_type": "stream",
     "text": [
      " 86%|████████▋ | 6226/7199 [30:59<02:52,  5.64it/s]"
     ]
    },
    {
     "name": "stdout",
     "output_type": "stream",
     "text": [
      "Error en el registro: 836153649468461318, URL: https://a0.muscache.com/pictures/miso/Hosting-836153649468461318/original/8c7faf7e-5d0d-4397-9887-cb26e444e6b4.jpeg\n"
     ]
    },
    {
     "name": "stderr",
     "output_type": "stream",
     "text": [
      " 86%|████████▋ | 6227/7199 [30:59<03:00,  5.39it/s]"
     ]
    },
    {
     "name": "stdout",
     "output_type": "stream",
     "text": [
      "Error en el registro: 837439628788914345, URL: https://a0.muscache.com/pictures/prohost-api/Hosting-837439628788914345/original/98df5bc2-f2b9-4e45-8889-0840694e2a65.jpeg\n"
     ]
    },
    {
     "name": "stderr",
     "output_type": "stream",
     "text": [
      " 87%|████████▋ | 6229/7199 [31:00<03:28,  4.64it/s]"
     ]
    },
    {
     "name": "stdout",
     "output_type": "stream",
     "text": [
      "Error en el registro: 837439944560637250, URL: https://a0.muscache.com/pictures/prohost-api/Hosting-837439944560637250/original/a2ab5dd1-b06b-4bef-9450-059f7fb348dd.jpeg\n",
      "Error en el registro: 837538755134178518, URL: https://a0.muscache.com/pictures/prohost-api/Hosting-837538755134178518/original/f43f192b-ec84-4ba8-ac5a-e6e2ea086a22.jpeg\n"
     ]
    },
    {
     "name": "stderr",
     "output_type": "stream",
     "text": [
      " 87%|████████▋ | 6250/7199 [31:04<02:53,  5.48it/s]"
     ]
    },
    {
     "name": "stdout",
     "output_type": "stream",
     "text": [
      "Error en el registro: 841340391794964228, URL: https://a0.muscache.com/pictures/93e612ae-9c1e-4f14-9b1c-4fc1d10a29ac.jpg\n"
     ]
    },
    {
     "name": "stderr",
     "output_type": "stream",
     "text": [
      " 87%|████████▋ | 6263/7199 [31:07<03:04,  5.07it/s]"
     ]
    },
    {
     "name": "stdout",
     "output_type": "stream",
     "text": [
      "Error en el registro: 846872271807146973, URL: https://a0.muscache.com/pictures/prohost-api/Hosting-846872271807146973/original/37a65bbf-bcbf-4962-a9d9-77ec4d18f89b.jpeg\n",
      "Error en el registro: 846872983266331248, URL: https://a0.muscache.com/pictures/prohost-api/Hosting-846872983266331248/original/91cd35d5-7731-4c46-af04-b74b2402b6b9.jpeg\n"
     ]
    },
    {
     "name": "stderr",
     "output_type": "stream",
     "text": [
      " 87%|████████▋ | 6277/7199 [31:10<03:29,  4.40it/s]"
     ]
    },
    {
     "name": "stdout",
     "output_type": "stream",
     "text": [
      "Error en el registro: 852166516716286801, URL: https://a0.muscache.com/pictures/miso/Hosting-852166516716286801/original/ec756235-fbc3-43a6-b18f-0c82eb62dcb0.jpeg\n"
     ]
    },
    {
     "name": "stderr",
     "output_type": "stream",
     "text": [
      " 87%|████████▋ | 6289/7199 [31:18<25:56,  1.71s/it]"
     ]
    },
    {
     "name": "stdout",
     "output_type": "stream",
     "text": [
      "Error en el registro: 853391813264548119, URL: https://a0.muscache.com/pictures/prohost-api/Hosting-853391813264548119/original/f64e818d-e441-4018-a7bf-1e650c91770d.jpeg\n"
     ]
    },
    {
     "name": "stderr",
     "output_type": "stream",
     "text": [
      " 88%|████████▊ | 6305/7199 [31:22<05:17,  2.81it/s]"
     ]
    },
    {
     "name": "stdout",
     "output_type": "stream",
     "text": [
      "Error en el registro: 861331609777147421, URL: https://a0.muscache.com/pictures/prohost-api/Hosting-861331609777147421/original/8c2cf983-4dab-4ee6-9664-6f3b8c106aac.jpeg\n"
     ]
    },
    {
     "name": "stderr",
     "output_type": "stream",
     "text": [
      " 88%|████████▊ | 6311/7199 [31:24<03:59,  3.70it/s]"
     ]
    },
    {
     "name": "stdout",
     "output_type": "stream",
     "text": [
      "Error en el registro: 863764018590884065, URL: https://a0.muscache.com/pictures/miso/Hosting-863764018590884065/original/290081c3-1745-4140-b111-f250e4c95d7a.jpeg\n"
     ]
    },
    {
     "name": "stderr",
     "output_type": "stream",
     "text": [
      " 88%|████████▊ | 6313/7199 [31:24<03:32,  4.17it/s]"
     ]
    },
    {
     "name": "stdout",
     "output_type": "stream",
     "text": [
      "Error en el registro: 863764173555125254, URL: https://a0.muscache.com/pictures/miso/Hosting-863764173555125254/original/3948a636-ceb9-44a1-951d-d05e58a64dcd.jpeg\n",
      "Error en el registro: 863764278641845127, URL: https://a0.muscache.com/pictures/miso/Hosting-863764278641845127/original/67420547-505e-4f64-a3d0-d2196a948460.jpeg\n"
     ]
    },
    {
     "name": "stderr",
     "output_type": "stream",
     "text": [
      " 88%|████████▊ | 6322/7199 [31:26<02:29,  5.85it/s]"
     ]
    },
    {
     "name": "stdout",
     "output_type": "stream",
     "text": [
      "Error en el registro: 865491574396499608, URL: https://a0.muscache.com/pictures/miso/Hosting-865491574396499608/original/1c6e5ec0-13f3-4682-9b38-5d0c89cdc565.jpeg\n"
     ]
    },
    {
     "name": "stderr",
     "output_type": "stream",
     "text": [
      " 88%|████████▊ | 6342/7199 [31:31<02:52,  4.96it/s]"
     ]
    },
    {
     "name": "stdout",
     "output_type": "stream",
     "text": [
      "Error en el registro: 873108519560457453, URL: https://a0.muscache.com/pictures/miso/Hosting-873108519560457453/original/2ffd99f1-3884-4512-a6f6-3630050e06ba.jpeg\n"
     ]
    },
    {
     "name": "stderr",
     "output_type": "stream",
     "text": [
      " 88%|████████▊ | 6345/7199 [31:32<03:01,  4.70it/s]"
     ]
    },
    {
     "name": "stdout",
     "output_type": "stream",
     "text": [
      "Error en el registro: 873655282217473344, URL: https://a0.muscache.com/pictures/prohost-api/Hosting-873655282217473344/original/2ac2684b-614b-4870-8ce5-b89121a28a6e.jpeg\n",
      "Error en el registro: 873658297449445896, URL: https://a0.muscache.com/pictures/prohost-api/Hosting-873658297449445896/original/2bb66c10-888b-437d-b47d-fa78d2b04dc2.jpeg\n"
     ]
    },
    {
     "name": "stderr",
     "output_type": "stream",
     "text": [
      " 88%|████████▊ | 6366/7199 [31:38<03:17,  4.21it/s]"
     ]
    },
    {
     "name": "stdout",
     "output_type": "stream",
     "text": [
      "Error en el registro: 882571653898142753, URL: https://a0.muscache.com/pictures/miso/Hosting-882571653898142753/original/c47817bf-fdc3-4818-954b-0942f032faeb.jpeg\n"
     ]
    },
    {
     "name": "stderr",
     "output_type": "stream",
     "text": [
      " 89%|████████▊ | 6374/7199 [31:40<03:03,  4.50it/s]"
     ]
    },
    {
     "name": "stdout",
     "output_type": "stream",
     "text": [
      "Error en el registro: 883863319226431674, URL: https://a0.muscache.com/pictures/ba781070-0a6c-49f1-9a57-bed6e5ec04c1.jpg\n"
     ]
    },
    {
     "name": "stderr",
     "output_type": "stream",
     "text": [
      " 89%|████████▊ | 6381/7199 [31:41<03:21,  4.07it/s]"
     ]
    },
    {
     "name": "stdout",
     "output_type": "stream",
     "text": [
      "Error en el registro: 886762078865571429, URL: https://a0.muscache.com/pictures/prohost-api/Hosting-886762078865571429/original/1648a07a-d7d6-47e7-862b-72a2f0b88bad.jpeg\n"
     ]
    },
    {
     "name": "stderr",
     "output_type": "stream",
     "text": [
      " 89%|████████▊ | 6388/7199 [31:43<02:26,  5.54it/s]"
     ]
    },
    {
     "name": "stdout",
     "output_type": "stream",
     "text": [
      "Error en el registro: 889981292721825976, URL: https://a0.muscache.com/pictures/miso/Hosting-889981292721825976/original/ac1af51e-e157-4338-b221-74c5e68f40eb.jpeg\n"
     ]
    },
    {
     "name": "stderr",
     "output_type": "stream",
     "text": [
      " 89%|████████▉ | 6418/7199 [31:50<02:37,  4.97it/s]"
     ]
    },
    {
     "name": "stdout",
     "output_type": "stream",
     "text": [
      "Error en el registro: 899769339425439911, URL: https://a0.muscache.com/pictures/prohost-api/Hosting-899769339425439911/original/9f930af1-d3ab-4110-b350-614c42a5a572.jpeg\n"
     ]
    },
    {
     "name": "stderr",
     "output_type": "stream",
     "text": [
      " 89%|████████▉ | 6430/7199 [31:54<04:02,  3.17it/s]"
     ]
    },
    {
     "name": "stdout",
     "output_type": "stream",
     "text": [
      "Error en el registro: 904194014030747377, URL: https://a0.muscache.com/pictures/prohost-api/Hosting-904194014030747377/original/ef61d82e-f20a-446a-9938-d04c678ac447.jpeg\n"
     ]
    },
    {
     "name": "stderr",
     "output_type": "stream",
     "text": [
      " 89%|████████▉ | 6438/7199 [31:56<04:03,  3.12it/s]"
     ]
    },
    {
     "name": "stdout",
     "output_type": "stream",
     "text": [
      "Error en el registro: 907906545606121142, URL: https://a0.muscache.com/pictures/miso/Hosting-907906545606121142/original/404e1bcd-e262-4ed0-805d-4ad4724b4344.jpeg\n"
     ]
    },
    {
     "name": "stderr",
     "output_type": "stream",
     "text": [
      " 90%|████████▉ | 6451/7199 [32:02<09:06,  1.37it/s]"
     ]
    },
    {
     "name": "stdout",
     "output_type": "stream",
     "text": [
      "Error en el registro: 913916379699820077, URL: https://a0.muscache.com/pictures/miso/Hosting-913916379699820077/original/449a92eb-8199-4c01-a3ed-a70d7a8e0119.jpeg\n"
     ]
    },
    {
     "name": "stderr",
     "output_type": "stream",
     "text": [
      " 90%|████████▉ | 6453/7199 [32:03<06:01,  2.06it/s]"
     ]
    },
    {
     "name": "stdout",
     "output_type": "stream",
     "text": [
      "Error en el registro: 913916382033140518, URL: https://a0.muscache.com/pictures/miso/Hosting-913916382033140518/original/a56651c0-71fe-445c-b9ff-0771f0c38032.jpeg\n"
     ]
    },
    {
     "name": "stderr",
     "output_type": "stream",
     "text": [
      " 90%|████████▉ | 6457/7199 [32:04<03:28,  3.55it/s]"
     ]
    },
    {
     "name": "stdout",
     "output_type": "stream",
     "text": [
      "Error en el registro: 914937299546374137, URL: https://a0.muscache.com/pictures/prohost-api/Hosting-914937299546374137/original/e0b571a8-fce7-4b3f-920f-11f9c6a0eeb0.jpeg\n"
     ]
    },
    {
     "name": "stderr",
     "output_type": "stream",
     "text": [
      " 90%|████████▉ | 6459/7199 [32:04<02:39,  4.65it/s]"
     ]
    },
    {
     "name": "stdout",
     "output_type": "stream",
     "text": [
      "Error en el registro: 914937604671048989, URL: https://a0.muscache.com/pictures/prohost-api/Hosting-914937604671048989/original/4b19638e-7744-4eea-94ac-713b96b968e9.jpeg\n"
     ]
    },
    {
     "name": "stderr",
     "output_type": "stream",
     "text": [
      " 90%|████████▉ | 6479/7199 [32:09<02:16,  5.28it/s]"
     ]
    },
    {
     "name": "stdout",
     "output_type": "stream",
     "text": [
      "Error en el registro: 920192802910045769, URL: https://a0.muscache.com/pictures/miso/Hosting-920192802910045769/original/b9091ffb-4f71-4605-928f-414bd6d08c05.jpeg\n"
     ]
    },
    {
     "name": "stderr",
     "output_type": "stream",
     "text": [
      " 90%|█████████ | 6480/7199 [32:09<02:21,  5.07it/s]"
     ]
    },
    {
     "name": "stdout",
     "output_type": "stream",
     "text": [
      "Error en el registro: 920305249278095220, URL: https://a0.muscache.com/pictures/miso/Hosting-920305249278095220/original/82ec111c-d2ba-4580-882c-5685576cbcad.jpeg\n"
     ]
    },
    {
     "name": "stderr",
     "output_type": "stream",
     "text": [
      " 90%|█████████ | 6485/7199 [32:10<02:04,  5.75it/s]"
     ]
    },
    {
     "name": "stdout",
     "output_type": "stream",
     "text": [
      "Error en el registro: 920595366557120290, URL: https://a0.muscache.com/pictures/prohost-api/Hosting-920595366557120290/original/ccf0e4cf-4ea8-489e-a91e-c452548f599e.jpeg\n"
     ]
    },
    {
     "name": "stderr",
     "output_type": "stream",
     "text": [
      " 90%|█████████ | 6499/7199 [32:14<02:11,  5.31it/s]"
     ]
    },
    {
     "name": "stdout",
     "output_type": "stream",
     "text": [
      "Error en el registro: 926909705378933833, URL: https://a0.muscache.com/pictures/prohost-api/Hosting-926909705378933833/original/c16207c3-527e-4796-b06a-afe376a0b714.jpeg\n"
     ]
    },
    {
     "name": "stderr",
     "output_type": "stream",
     "text": [
      " 90%|█████████ | 6507/7199 [32:16<04:36,  2.50it/s]"
     ]
    },
    {
     "name": "stdout",
     "output_type": "stream",
     "text": [
      "Error en el registro: 929285770816969080, URL: https://a0.muscache.com/pictures/miso/Hosting-929285770816969080/original/4e7e66b1-d451-4bbe-aba0-e1604a605c4f.jpeg\n"
     ]
    },
    {
     "name": "stderr",
     "output_type": "stream",
     "text": [
      " 91%|█████████ | 6520/7199 [32:21<02:57,  3.84it/s]"
     ]
    },
    {
     "name": "stdout",
     "output_type": "stream",
     "text": [
      "Error en el registro: 929770452264597730, URL: https://a0.muscache.com/pictures/prohost-api/Hosting-929770452264597730/original/7ce83896-a27d-4db0-8384-368d509695cc.jpeg\n"
     ]
    },
    {
     "name": "stderr",
     "output_type": "stream",
     "text": [
      " 91%|█████████ | 6522/7199 [32:22<02:24,  4.69it/s]"
     ]
    },
    {
     "name": "stdout",
     "output_type": "stream",
     "text": [
      "Error en el registro: 929784691737307760, URL: https://a0.muscache.com/pictures/miso/Hosting-929784691737307760/original/4af27405-eda7-440b-9708-208461793aea.jpeg\n"
     ]
    },
    {
     "name": "stderr",
     "output_type": "stream",
     "text": [
      " 91%|█████████ | 6523/7199 [32:22<02:10,  5.16it/s]"
     ]
    },
    {
     "name": "stdout",
     "output_type": "stream",
     "text": [
      "Error en el registro: 929790777252631206, URL: https://a0.muscache.com/pictures/43cfe8ce-6c16-4db4-ad1e-02fd04b3eaa8.jpg\n"
     ]
    },
    {
     "name": "stderr",
     "output_type": "stream",
     "text": [
      " 91%|█████████ | 6526/7199 [32:22<02:18,  4.88it/s]"
     ]
    },
    {
     "name": "stdout",
     "output_type": "stream",
     "text": [
      "Error en el registro: 933238026788932430, URL: https://a0.muscache.com/pictures/prohost-api/Hosting-933238026788932430/original/e5389ab7-ba26-44ef-969a-2fe8a1892eb8.jpeg\n",
      "Error en el registro: 933341527778815745, URL: https://a0.muscache.com/pictures/miso/Hosting-933341527778815745/original/540b9069-5430-43b8-8f33-d79c1dc2a6ac.jpeg\n"
     ]
    },
    {
     "name": "stderr",
     "output_type": "stream",
     "text": [
      " 91%|█████████ | 6546/7199 [32:27<02:18,  4.71it/s]"
     ]
    },
    {
     "name": "stdout",
     "output_type": "stream",
     "text": [
      "Error en el registro: 934549104804900845, URL: https://a0.muscache.com/pictures/prohost-api/Hosting-934549104804900845/original/1a3beb56-aebc-4f4b-bb81-c23fbf17d5bf.jpeg\n"
     ]
    },
    {
     "name": "stderr",
     "output_type": "stream",
     "text": [
      " 91%|█████████ | 6551/7199 [32:28<02:07,  5.07it/s]"
     ]
    },
    {
     "name": "stdout",
     "output_type": "stream",
     "text": [
      "Error en el registro: 934846903887237232, URL: https://a0.muscache.com/pictures/miso/Hosting-934846903887237232/original/56045c56-d57a-4abc-ad08-750db085be2e.jpeg\n"
     ]
    },
    {
     "name": "stderr",
     "output_type": "stream",
     "text": [
      " 91%|█████████▏| 6574/7199 [32:33<01:44,  6.01it/s]"
     ]
    },
    {
     "name": "stdout",
     "output_type": "stream",
     "text": [
      "Error en el registro: 940287599154412651, URL: https://a0.muscache.com/pictures/prohost-api/Hosting-940287599154412651/original/c587ad66-a8f5-41e6-831b-e3704dbeca4a.jpeg\n"
     ]
    },
    {
     "name": "stderr",
     "output_type": "stream",
     "text": [
      " 92%|█████████▏| 6593/7199 [32:40<03:06,  3.25it/s]"
     ]
    },
    {
     "name": "stdout",
     "output_type": "stream",
     "text": [
      "Error en el registro: 945916288884011126, URL: https://a0.muscache.com/pictures/miso/Hosting-945916288884011126/original/2df8e4c9-eb81-47e8-8889-7b38e53abae9.jpeg\n"
     ]
    },
    {
     "name": "stderr",
     "output_type": "stream",
     "text": [
      " 92%|█████████▏| 6595/7199 [32:41<02:28,  4.06it/s]"
     ]
    },
    {
     "name": "stdout",
     "output_type": "stream",
     "text": [
      "Error en el registro: 946041881162753201, URL: https://a0.muscache.com/pictures/miso/Hosting-946041881162753201/original/8302b8b8-162b-44f4-afcb-bc45d5c4ffc4.jpeg\n"
     ]
    },
    {
     "name": "stderr",
     "output_type": "stream",
     "text": [
      " 92%|█████████▏| 6601/7199 [32:44<03:43,  2.67it/s]"
     ]
    },
    {
     "name": "stdout",
     "output_type": "stream",
     "text": [
      "Error en el registro: 947768183186382957, URL: https://a0.muscache.com/pictures/miso/Hosting-947768183186382957/original/06fd11ed-797c-4915-917b-3d401b8bd7bc.jpeg\n"
     ]
    },
    {
     "name": "stderr",
     "output_type": "stream",
     "text": [
      " 92%|█████████▏| 6603/7199 [32:44<02:45,  3.61it/s]"
     ]
    },
    {
     "name": "stdout",
     "output_type": "stream",
     "text": [
      "Error en el registro: 947785851072519783, URL: https://a0.muscache.com/pictures/miso/Hosting-947785851072519783/original/a4c8faea-b069-4f30-809d-5f3ae7d2c30e.jpeg\n",
      "Error en el registro: 947814132068385867, URL: https://a0.muscache.com/pictures/miso/Hosting-947814132068385867/original/3bff85af-0f89-447a-a61c-43cf4fcd3619.jpeg\n"
     ]
    },
    {
     "name": "stderr",
     "output_type": "stream",
     "text": [
      " 92%|█████████▏| 6607/7199 [32:46<03:28,  2.84it/s]"
     ]
    },
    {
     "name": "stdout",
     "output_type": "stream",
     "text": [
      "Error en el registro: 947846318188738138, URL: https://a0.muscache.com/pictures/miso/Hosting-947846318188738138/original/7cffaef3-6c98-4d8a-87d4-2e78e8ca524c.jpeg\n",
      "Error en el registro: 947863403518702980, URL: https://a0.muscache.com/pictures/miso/Hosting-947863403518702980/original/5b95a086-f155-4b0c-a5a6-2fe65e86a3d2.jpeg\n"
     ]
    },
    {
     "name": "stderr",
     "output_type": "stream",
     "text": [
      " 92%|█████████▏| 6609/7199 [32:46<02:33,  3.85it/s]"
     ]
    },
    {
     "name": "stdout",
     "output_type": "stream",
     "text": [
      "Error en el registro: 947884085061009785, URL: https://a0.muscache.com/pictures/miso/Hosting-947884085061009785/original/71b3cac6-42ff-4db8-804f-834c865634db.jpeg\n"
     ]
    },
    {
     "name": "stderr",
     "output_type": "stream",
     "text": [
      " 92%|█████████▏| 6612/7199 [32:47<02:22,  4.13it/s]"
     ]
    },
    {
     "name": "stdout",
     "output_type": "stream",
     "text": [
      "Error en el registro: 949154671772958720, URL: https://a0.muscache.com/pictures/miso/Hosting-949154671772958720/original/2b7f0abc-ba7b-4a43-a7be-5a6243c24413.jpeg\n"
     ]
    },
    {
     "name": "stderr",
     "output_type": "stream",
     "text": [
      " 92%|█████████▏| 6620/7199 [32:49<01:52,  5.14it/s]"
     ]
    },
    {
     "name": "stdout",
     "output_type": "stream",
     "text": [
      "Error en el registro: 950268256943159901, URL: https://a0.muscache.com/pictures/miso/Hosting-950268256943159901/original/e4f0fc64-8e95-404f-a288-5070043ed117.jpeg\n"
     ]
    },
    {
     "name": "stderr",
     "output_type": "stream",
     "text": [
      " 92%|█████████▏| 6629/7199 [32:51<02:38,  3.59it/s]"
     ]
    },
    {
     "name": "stdout",
     "output_type": "stream",
     "text": [
      "Error en el registro: 952456025026558868, URL: https://a0.muscache.com/pictures/f14adfde-4e40-463e-8afd-fac762f7cea4.jpg\n"
     ]
    },
    {
     "name": "stderr",
     "output_type": "stream",
     "text": [
      " 92%|█████████▏| 6637/7199 [32:53<02:05,  4.48it/s]"
     ]
    },
    {
     "name": "stdout",
     "output_type": "stream",
     "text": [
      "Error en el registro: 953750560515431624, URL: https://a0.muscache.com/pictures/miso/Hosting-953750560515431624/original/5a96c11d-5be2-4801-a52d-c08ced9692e2.jpeg\n"
     ]
    },
    {
     "name": "stderr",
     "output_type": "stream",
     "text": [
      " 92%|█████████▏| 6651/7199 [32:56<01:49,  5.00it/s]"
     ]
    },
    {
     "name": "stdout",
     "output_type": "stream",
     "text": [
      "Error en el registro: 955827663275316488, URL: https://a0.muscache.com/pictures/prohost-api/Hosting-955827663275316488/original/c3b9b3f5-898a-4ed0-b242-c26da0903201.jpeg\n"
     ]
    },
    {
     "name": "stderr",
     "output_type": "stream",
     "text": [
      " 93%|█████████▎| 6660/7199 [32:58<02:12,  4.06it/s]"
     ]
    },
    {
     "name": "stdout",
     "output_type": "stream",
     "text": [
      "Error en el registro: 958648577659799676, URL: https://a0.muscache.com/pictures/miso/Hosting-958648577659799676/original/9ad5cdd6-9295-4d90-81a6-98a88206be2b.jpeg\n"
     ]
    },
    {
     "name": "stderr",
     "output_type": "stream",
     "text": [
      " 93%|█████████▎| 6662/7199 [32:59<02:39,  3.36it/s]"
     ]
    },
    {
     "name": "stdout",
     "output_type": "stream",
     "text": [
      "Error en el registro: 959888489456599762, URL: https://a0.muscache.com/pictures/prohost-api/Hosting-959888489456599762/original/c72ecb2b-4c2b-4653-aeef-8c28bdb8e5d3.jpeg\n"
     ]
    },
    {
     "name": "stderr",
     "output_type": "stream",
     "text": [
      " 93%|█████████▎| 6666/7199 [33:00<02:05,  4.24it/s]"
     ]
    },
    {
     "name": "stdout",
     "output_type": "stream",
     "text": [
      "Error en el registro: 960441596149014714, URL: https://a0.muscache.com/pictures/miso/Hosting-960441596149014714/original/82e47454-ef57-48f4-8940-9b0c463c6772.jpeg\n"
     ]
    },
    {
     "name": "stderr",
     "output_type": "stream",
     "text": [
      " 93%|█████████▎| 6701/7199 [33:08<02:01,  4.10it/s]"
     ]
    },
    {
     "name": "stdout",
     "output_type": "stream",
     "text": [
      "Error en el registro: 968593353964170175, URL: https://a0.muscache.com/pictures/prohost-api/Hosting-968593353964170175/original/893ed19f-8ee2-41c6-a9fa-89883ef33054.jpeg\n"
     ]
    },
    {
     "name": "stderr",
     "output_type": "stream",
     "text": [
      " 94%|█████████▎| 6738/7199 [33:14<01:38,  4.66it/s]"
     ]
    },
    {
     "name": "stdout",
     "output_type": "stream",
     "text": [
      "Error en el registro: 972308791314572742, URL: https://a0.muscache.com/pictures/miso/Hosting-958648577659799676/original/9ad5cdd6-9295-4d90-81a6-98a88206be2b.jpeg\n"
     ]
    },
    {
     "name": "stderr",
     "output_type": "stream",
     "text": [
      " 94%|█████████▎| 6740/7199 [33:15<02:23,  3.19it/s]"
     ]
    },
    {
     "name": "stdout",
     "output_type": "stream",
     "text": [
      "Error en el registro: 972382373389698405, URL: https://a0.muscache.com/pictures/miso/Hosting-972382373389698405/original/e6c48367-1649-48e1-a5fa-5d8b540fe35a.jpeg\n"
     ]
    },
    {
     "name": "stderr",
     "output_type": "stream",
     "text": [
      " 94%|█████████▎| 6744/7199 [33:16<01:55,  3.94it/s]"
     ]
    },
    {
     "name": "stdout",
     "output_type": "stream",
     "text": [
      "Error en el registro: 973150249750755722, URL: https://a0.muscache.com/pictures/hosting/Hosting-973150249750755722/original/dae14b46-39fc-4d79-b15c-3dbb48d6b11d.jpeg\n"
     ]
    },
    {
     "name": "stderr",
     "output_type": "stream",
     "text": [
      " 94%|█████████▍| 6776/7199 [33:24<02:03,  3.43it/s]"
     ]
    },
    {
     "name": "stdout",
     "output_type": "stream",
     "text": [
      "Error en el registro: 981474662331880096, URL: https://a0.muscache.com/pictures/miso/Hosting-981474662331880096/original/fc0e625d-d629-4591-9ada-174d16a2de48.jpeg\n"
     ]
    },
    {
     "name": "stderr",
     "output_type": "stream",
     "text": [
      " 95%|█████████▍| 6805/7199 [33:36<02:17,  2.87it/s]"
     ]
    },
    {
     "name": "stdout",
     "output_type": "stream",
     "text": [
      "Error en el registro: 989119014716244187, URL: https://a0.muscache.com/pictures/miso/Hosting-989119014716244187/original/2dd60b81-2c0c-47d1-bdd6-184162af7014.png\n"
     ]
    },
    {
     "name": "stderr",
     "output_type": "stream",
     "text": [
      " 95%|█████████▍| 6816/7199 [33:38<01:19,  4.82it/s]"
     ]
    },
    {
     "name": "stdout",
     "output_type": "stream",
     "text": [
      "Error en el registro: 992271751387641106, URL: https://a0.muscache.com/pictures/prohost-api/Hosting-992271751387641106/original/de2d3ae0-5fdc-4cfd-b914-5c5b47955d09.jpeg\n"
     ]
    },
    {
     "name": "stderr",
     "output_type": "stream",
     "text": [
      " 95%|█████████▍| 6837/7199 [33:45<01:23,  4.31it/s]"
     ]
    },
    {
     "name": "stdout",
     "output_type": "stream",
     "text": [
      "Error en el registro: 998650346567438464, URL: https://a0.muscache.com/pictures/hosting/Hosting-998650346567438464/original/20048ffe-5c61-4602-b37a-2d9fb09e1f0a.jpeg\n"
     ]
    },
    {
     "name": "stderr",
     "output_type": "stream",
     "text": [
      " 96%|█████████▌| 6896/7199 [34:03<01:37,  3.10it/s]"
     ]
    },
    {
     "name": "stdout",
     "output_type": "stream",
     "text": [
      "Error en el registro: 1018290267718030960, URL: https://a0.muscache.com/pictures/miso/Hosting-947111916947155717/original/0cecdba9-f417-4263-82c1-6b44b8bca764.jpeg\n"
     ]
    },
    {
     "name": "stderr",
     "output_type": "stream",
     "text": [
      " 96%|█████████▌| 6918/7199 [34:13<02:31,  1.85it/s]"
     ]
    },
    {
     "name": "stdout",
     "output_type": "stream",
     "text": [
      "Error en el registro: 1022632138884104441, URL: https://a0.muscache.com/pictures/miso/Hosting-1022632138884104441/original/106e8264-b80e-4ebc-b7d2-edd873622e64.jpeg\n"
     ]
    },
    {
     "name": "stderr",
     "output_type": "stream",
     "text": [
      " 96%|█████████▌| 6925/7199 [34:15<01:12,  3.76it/s]"
     ]
    },
    {
     "name": "stdout",
     "output_type": "stream",
     "text": [
      "Error en el registro: 1023171573296711810, URL: https://a0.muscache.com/pictures/miso/Hosting-1023171573296711810/original/5e165f50-5d55-4066-a9e1-2869afad55d9.png\n"
     ]
    },
    {
     "name": "stderr",
     "output_type": "stream",
     "text": [
      " 96%|█████████▋| 6932/7199 [34:18<01:18,  3.39it/s]"
     ]
    },
    {
     "name": "stdout",
     "output_type": "stream",
     "text": [
      "Error en el registro: 1023236994504093679, URL: https://a0.muscache.com/pictures/prohost-api/Hosting-1023236994504093679/original/8a4ca110-73e3-495c-9c3c-22e7d7ad1956.jpeg\n",
      "Error en el registro: 1023250667892620550, URL: https://a0.muscache.com/pictures/miso/Hosting-1023250667892620550/original/98caa91b-37aa-49ba-8b68-2e5aecdb394a.png\n"
     ]
    },
    {
     "name": "stderr",
     "output_type": "stream",
     "text": [
      " 97%|█████████▋| 6961/7199 [34:27<01:07,  3.54it/s]"
     ]
    },
    {
     "name": "stdout",
     "output_type": "stream",
     "text": [
      "Error en el registro: 1024001223963546696, URL: https://a0.muscache.com/pictures/miso/Hosting-1024001223963546696/original/1d5139e3-0fdd-4f22-bc56-94c8bf765d3a.jpeg\n"
     ]
    },
    {
     "name": "stderr",
     "output_type": "stream",
     "text": [
      " 97%|█████████▋| 6964/7199 [34:28<00:48,  4.86it/s]"
     ]
    },
    {
     "name": "stdout",
     "output_type": "stream",
     "text": [
      "Error en el registro: 1024012837777489958, URL: https://a0.muscache.com/pictures/miso/Hosting-1024012837777489958/original/ba9b4b51-10bd-4718-9549-ca7c1a22299f.jpeg\n"
     ]
    },
    {
     "name": "stderr",
     "output_type": "stream",
     "text": [
      " 97%|█████████▋| 6967/7199 [34:29<01:02,  3.74it/s]"
     ]
    },
    {
     "name": "stdout",
     "output_type": "stream",
     "text": [
      "Error en el registro: 1024023972093973958, URL: https://a0.muscache.com/pictures/miso/Hosting-1024023972093973958/original/bf52704d-ae50-4f2f-b6f3-7041eb3bdff9.jpeg\n"
     ]
    },
    {
     "name": "stderr",
     "output_type": "stream",
     "text": [
      " 97%|█████████▋| 6975/7199 [34:30<00:44,  5.02it/s]"
     ]
    },
    {
     "name": "stdout",
     "output_type": "stream",
     "text": [
      "Error en el registro: 1024213782261169207, URL: https://a0.muscache.com/pictures/hosting/Hosting-1024213782261169207/original/09277bad-5476-408a-a2b1-c682cac6272b.jpeg\n"
     ]
    },
    {
     "name": "stderr",
     "output_type": "stream",
     "text": [
      " 97%|█████████▋| 6979/7199 [34:31<00:37,  5.88it/s]"
     ]
    },
    {
     "name": "stdout",
     "output_type": "stream",
     "text": [
      "Error en el registro: 1024263072659351531, URL: https://a0.muscache.com/pictures/miso/Hosting-1024263072659351531/original/c36e8f5d-d9ba-4651-a552-d67dfef1b468.jpeg\n"
     ]
    },
    {
     "name": "stderr",
     "output_type": "stream",
     "text": [
      " 97%|█████████▋| 6980/7199 [34:32<01:19,  2.75it/s]"
     ]
    },
    {
     "name": "stdout",
     "output_type": "stream",
     "text": [
      "Error en el registro: 1024275211393339254, URL: https://a0.muscache.com/pictures/miso/Hosting-1024263072659351531/original/c36e8f5d-d9ba-4651-a552-d67dfef1b468.jpeg\n"
     ]
    },
    {
     "name": "stderr",
     "output_type": "stream",
     "text": [
      " 97%|█████████▋| 6991/7199 [34:34<00:39,  5.31it/s]"
     ]
    },
    {
     "name": "stdout",
     "output_type": "stream",
     "text": [
      "Error en el registro: 1024642924142042035, URL: https://a0.muscache.com/pictures/miso/Hosting-1024642924142042035/original/8315a95d-62be-47bb-bbc5-9cc8e8ae21a8.jpeg\n"
     ]
    },
    {
     "name": "stderr",
     "output_type": "stream",
     "text": [
      " 97%|█████████▋| 7008/7199 [34:40<00:49,  3.85it/s]"
     ]
    },
    {
     "name": "stdout",
     "output_type": "stream",
     "text": [
      "Error en el registro: 1024766639203763026, URL: https://a0.muscache.com/pictures/miso/Hosting-1024766639203763026/original/b34f6b04-fae8-4850-8886-d113d81d8c2d.jpeg\n"
     ]
    },
    {
     "name": "stderr",
     "output_type": "stream",
     "text": [
      " 97%|█████████▋| 7016/7199 [34:42<00:28,  6.51it/s]"
     ]
    },
    {
     "name": "stdout",
     "output_type": "stream",
     "text": [
      "Error en el registro: 1024913449187984636, URL: https://a0.muscache.com/pictures/miso/Hosting-1024913449187984636/original/d7e4a424-4020-438c-b002-90e8260f31d4.jpeg\n"
     ]
    },
    {
     "name": "stderr",
     "output_type": "stream",
     "text": [
      " 98%|█████████▊| 7030/7199 [34:46<01:01,  2.74it/s]"
     ]
    },
    {
     "name": "stdout",
     "output_type": "stream",
     "text": [
      "Error en el registro: 1025387432542746150, URL: https://a0.muscache.com/pictures/miso/Hosting-1025387432542746150/original/eb58eafc-0060-4cec-9b88-802cdf15bd13.jpeg\n"
     ]
    },
    {
     "name": "stderr",
     "output_type": "stream",
     "text": [
      " 98%|█████████▊| 7039/7199 [34:48<00:41,  3.89it/s]"
     ]
    },
    {
     "name": "stdout",
     "output_type": "stream",
     "text": [
      "Error en el registro: 1025423935350953497, URL: https://a0.muscache.com/pictures/miso/Hosting-1025423935350953497/original/431d7db3-12ba-4b51-b913-9588f91079a7.jpeg\n"
     ]
    },
    {
     "name": "stderr",
     "output_type": "stream",
     "text": [
      " 98%|█████████▊| 7047/7199 [34:51<00:54,  2.78it/s]"
     ]
    },
    {
     "name": "stdout",
     "output_type": "stream",
     "text": [
      "Error en el registro: 1025469496917369707, URL: https://a0.muscache.com/pictures/miso/Hosting-1025469496917369707/original/739e77ca-b59d-46ef-bbdb-e94c9c862112.jpeg\n"
     ]
    },
    {
     "name": "stderr",
     "output_type": "stream",
     "text": [
      " 99%|█████████▊| 7096/7199 [35:03<00:21,  4.86it/s]"
     ]
    },
    {
     "name": "stdout",
     "output_type": "stream",
     "text": [
      "Error en el registro: 1029167143567713293, URL: https://a0.muscache.com/pictures/miso/Hosting-1029167143567713293/original/8d43b2c0-ec8a-4c1f-9816-36c57525b24c.jpeg\n"
     ]
    },
    {
     "name": "stderr",
     "output_type": "stream",
     "text": [
      " 99%|█████████▊| 7098/7199 [35:04<00:20,  4.97it/s]"
     ]
    },
    {
     "name": "stdout",
     "output_type": "stream",
     "text": [
      "Error en el registro: 1029205665203211474, URL: https://a0.muscache.com/pictures/miso/Hosting-1029205665203211474/original/0d0e4b16-57b7-4bad-a9af-930af25672cc.jpeg\n"
     ]
    },
    {
     "name": "stderr",
     "output_type": "stream",
     "text": [
      "100%|█████████▉| 7172/7199 [35:26<00:09,  2.85it/s]"
     ]
    },
    {
     "name": "stdout",
     "output_type": "stream",
     "text": [
      "Error en el registro: 1043585223983157783, URL: https://a0.muscache.com/pictures/miso/Hosting-1043585223983157783/original/7a07c496-de3b-42f0-869e-2dd753ef2a3c.jpeg\n"
     ]
    },
    {
     "name": "stderr",
     "output_type": "stream",
     "text": [
      "100%|██████████| 7199/7199 [35:40<00:00,  3.36it/s]\n"
     ]
    },
    {
     "name": "stdout",
     "output_type": "stream",
     "text": [
      "                       id                                       listing_url  \\\n",
      "0                    3781                 https://www.airbnb.com/rooms/3781   \n",
      "1                    5506                 https://www.airbnb.com/rooms/5506   \n",
      "2                    6695                 https://www.airbnb.com/rooms/6695   \n",
      "3                    8789                 https://www.airbnb.com/rooms/8789   \n",
      "4                   10813                https://www.airbnb.com/rooms/10813   \n",
      "...                   ...                                               ...   \n",
      "7194  1046563598019556549  https://www.airbnb.com/rooms/1046563598019556549   \n",
      "7195  1046568292864752336  https://www.airbnb.com/rooms/1046568292864752336   \n",
      "7196  1047166785349446101  https://www.airbnb.com/rooms/1047166785349446101   \n",
      "7197  1047226383263246733  https://www.airbnb.com/rooms/1047226383263246733   \n",
      "7198  1048051750111422883  https://www.airbnb.com/rooms/1048051750111422883   \n",
      "\n",
      "           scrape_id last_scraped       source  \\\n",
      "0     20231218233145   2023-12-19  city scrape   \n",
      "1     20231218233145   2023-12-19  city scrape   \n",
      "2     20231218233145   2023-12-19  city scrape   \n",
      "3     20231218233145   2023-12-19  city scrape   \n",
      "4     20231218233145   2023-12-19  city scrape   \n",
      "...              ...          ...          ...   \n",
      "7194  20231218233145   2023-12-19  city scrape   \n",
      "7195  20231218233145   2023-12-19  city scrape   \n",
      "7196  20231218233145   2023-12-19  city scrape   \n",
      "7197  20231218233145   2023-12-19  city scrape   \n",
      "7198  20231218233145   2023-12-19  city scrape   \n",
      "\n",
      "                                            picture_url    host_id  \\\n",
      "0     https://a0.muscache.com/pictures/24670/b2de044...       4804   \n",
      "1     https://a0.muscache.com/pictures/miso/Hosting-...       8229   \n",
      "2     https://a0.muscache.com/pictures/38ac4797-e7a4...       8229   \n",
      "3     https://a0.muscache.com/pictures/miso/Hosting-...      26988   \n",
      "4     https://a0.muscache.com/pictures/20b5b9c9-e1f4...      38997   \n",
      "...                                                 ...        ...   \n",
      "7194  https://a0.muscache.com/pictures/prohost-api/H...  212359760   \n",
      "7195  https://a0.muscache.com/pictures/prohost-api/H...  212359760   \n",
      "7196  https://a0.muscache.com/pictures/miso/Hosting-...  233908696   \n",
      "7197  https://a0.muscache.com/pictures/prohost-api/H...  212359760   \n",
      "7198  https://a0.muscache.com/pictures/e53f88a5-f860...  108724738   \n",
      "\n",
      "                                         host_url    host_name  host_since  \\\n",
      "0          https://www.airbnb.com/users/show/4804        Frank  2008-12-03   \n",
      "1          https://www.airbnb.com/users/show/8229        Terry  2009-02-19   \n",
      "2          https://www.airbnb.com/users/show/8229        Terry  2009-02-19   \n",
      "3         https://www.airbnb.com/users/show/26988         Anne  2009-07-22   \n",
      "4         https://www.airbnb.com/users/show/38997     Michelle  2009-09-16   \n",
      "...                                           ...          ...         ...   \n",
      "7194  https://www.airbnb.com/users/show/212359760      Evonify  2018-08-29   \n",
      "7195  https://www.airbnb.com/users/show/212359760      Evonify  2018-08-29   \n",
      "7196  https://www.airbnb.com/users/show/233908696  Together We  2019-01-02   \n",
      "7197  https://www.airbnb.com/users/show/212359760      Evonify  2018-08-29   \n",
      "7198  https://www.airbnb.com/users/show/108724738        Diogo  2016-12-27   \n",
      "\n",
      "      ... review_scores_communication review_scores_location  \\\n",
      "0     ...                        4.96                   4.88   \n",
      "1     ...                        4.89                   4.55   \n",
      "2     ...                        4.95                   4.51   \n",
      "3     ...                        4.96                   4.96   \n",
      "4     ...                        5.00                   5.00   \n",
      "...   ...                         ...                    ...   \n",
      "7194  ...                        5.00                   5.00   \n",
      "7195  ...                         NaN                    NaN   \n",
      "7196  ...                         NaN                    NaN   \n",
      "7197  ...                         NaN                    NaN   \n",
      "7198  ...                         NaN                    NaN   \n",
      "\n",
      "     review_scores_value                                            license  \\\n",
      "0                   4.92                                                NaN   \n",
      "1                   4.75                                         STR-490093   \n",
      "2                   4.71                                         STR-491702   \n",
      "3                   4.56                                                NaN   \n",
      "4                   4.80                                                NaN   \n",
      "...                  ...                                                ...   \n",
      "7194                5.00  Exempt: This listing is a unit that has contra...   \n",
      "7195                 NaN  Exempt: This listing is a unit that has contra...   \n",
      "7196                 NaN                                         STR-531165   \n",
      "7197                 NaN  Exempt: This listing is a unit that has contra...   \n",
      "7198                 NaN                                         STR-546808   \n",
      "\n",
      "     instant_bookable calculated_host_listings_count  \\\n",
      "0                   f                              1   \n",
      "1                   f                             10   \n",
      "2                   f                             10   \n",
      "3                   f                              9   \n",
      "4                   f                             11   \n",
      "...               ...                            ...   \n",
      "7194                f                             77   \n",
      "7195                f                             77   \n",
      "7196                t                              2   \n",
      "7197                f                             77   \n",
      "7198                f                              6   \n",
      "\n",
      "     calculated_host_listings_count_entire_homes  \\\n",
      "0                                              1   \n",
      "1                                             10   \n",
      "2                                             10   \n",
      "3                                              9   \n",
      "4                                             11   \n",
      "...                                          ...   \n",
      "7194                                          77   \n",
      "7195                                          77   \n",
      "7196                                           2   \n",
      "7197                                          77   \n",
      "7198                                           6   \n",
      "\n",
      "     calculated_host_listings_count_private_rooms  \\\n",
      "0                                               0   \n",
      "1                                               0   \n",
      "2                                               0   \n",
      "3                                               0   \n",
      "4                                               0   \n",
      "...                                           ...   \n",
      "7194                                            0   \n",
      "7195                                            0   \n",
      "7196                                            0   \n",
      "7197                                            0   \n",
      "7198                                            0   \n",
      "\n",
      "     calculated_host_listings_count_shared_rooms  reviews_per_month  \n",
      "0                                              0               0.23  \n",
      "1                                              0               0.68  \n",
      "2                                              0               0.73  \n",
      "3                                              0               0.24  \n",
      "4                                              0               0.09  \n",
      "...                                          ...                ...  \n",
      "7194                                           0               1.00  \n",
      "7195                                           0                NaN  \n",
      "7196                                           0                NaN  \n",
      "7197                                           0                NaN  \n",
      "7198                                           0                NaN  \n",
      "\n",
      "[6217 rows x 72 columns]\n"
     ]
    }
   ],
   "source": [
    "\n",
    "import os\n",
    "import cv2\n",
    "import numpy as np\n",
    "import imageio.v3 as io\n",
    "import pandas as pd\n",
    "from tqdm import tqdm\n",
    "\n",
    "def download_images(data: pd.DataFrame,\n",
    "                    canvas: tuple = (224, 224),\n",
    "                    nb_channels: int = 3,\n",
    "                    save_path: str = 'imagenes') -> pd.DataFrame:\n",
    "    \"\"\"Download images from a DataFrame's 'picture_url' column, convert them to a specific\n",
    "    canvas size, save them to disk with 'id' as filename, and return the rows that were successfully downloaded.\n",
    "\n",
    "    Args:\n",
    "        data: DataFrame containing columns 'id' and 'picture_url'.\n",
    "        canvas: Desired image width and height (default 224x224).\n",
    "        nb_channels: Number of channels in the images (1 for B/W, 3 for RGB).\n",
    "        save_path: Folder where the images will be saved (default 'imagenes').\n",
    "\n",
    "    Return:\n",
    "        A DataFrame containing the rows from 'data' where the images were successfully downloaded.\n",
    "    \"\"\"\n",
    "    # Crear el directorio 'imagenes' si no existe\n",
    "    if not os.path.exists(save_path):\n",
    "        os.makedirs(save_path)\n",
    "\n",
    "    # Lista para almacenar las filas descargadas\n",
    "    downloaded_rows = []\n",
    "\n",
    "    for _, row in tqdm(data.iterrows(), total=len(data)):\n",
    "        # Verificar si hay valores en 'id' y 'picture_url'\n",
    "        if pd.isnull(row['id']) or pd.isnull(row['picture_url']):\n",
    "            continue  # Si falta alguno de los dos valores, saltamos este registro\n",
    "\n",
    "        url = row['picture_url']\n",
    "        img_id = row['id']\n",
    "\n",
    "        try:\n",
    "            # Descargar la imagen\n",
    "            img = io.imread(url)\n",
    "            img = cv2.resize(img, (canvas[0], canvas[1]))\n",
    "\n",
    "            # Guardar la imagen en la carpeta 'imagenes'\n",
    "            img_filename = f\"{img_id}.jpg\"  # Usar el valor de 'id' como nombre del archivo\n",
    "            img_save_path = os.path.join(save_path, img_filename)\n",
    "            cv2.imwrite(img_save_path, img)\n",
    "\n",
    "            # Si la imagen se descarga correctamente, agregar la fila al nuevo DataFrame\n",
    "            downloaded_rows.append(row)\n",
    "\n",
    "        except (IOError, ValueError) as e:  # Si no se puede descargar la imagen\n",
    "            print(f\"Error en el registro: {img_id}, URL: {url}\")\n",
    "            continue  # Pasar a la siguiente fila\n",
    "\n",
    "    # Crear un DataFrame con las filas que se descargaron correctamente\n",
    "    data_descargada = pd.DataFrame(downloaded_rows)\n",
    "\n",
    "    return data_descargada\n",
    "###################################################################\n",
    "# Llamar a la función para descargar las imágenes y crear el nuevo DataFrame\n",
    "data_descargada = download_images(data)\n",
    "\n",
    "# Guardar el DataFrame usando pickle\n",
    "data_descargada.to_pickle('data_descargada.pkl')\n",
    "\n",
    "# Imprimir el DataFrame descargado\n",
    "print(data_descargada)\n",
    "\n",
    "\n",
    "# Llamar a la función para descargar las imágenes y crear el nuevo DataFrame\n",
    "data_descargada = download_images(data)\n",
    "\n",
    "\n",
    "# Guardar el DataFrame usando pickle\n",
    "data_descargada.to_pickle('data_descargada.pkl')\n",
    "print(data_descargada)\n",
    "\n"
   ]
  },
  {
   "cell_type": "code",
   "execution_count": null,
   "metadata": {},
   "outputs": [],
   "source": [
    "\n",
    "data_loaded = pd.read_pickle('data_descargada.pkl')\n",
    "# Mostrar el DataFrame con las filas donde las imágenes fueron descargadas correctamente\n"
   ]
  }
 ],
 "metadata": {
  "colab": {
   "provenance": [],
   "toc_visible": true
  },
  "kernelspec": {
   "display_name": "Python 3",
   "language": "python",
   "name": "python3"
  },
  "language_info": {
   "codemirror_mode": {
    "name": "ipython",
    "version": 3
   },
   "file_extension": ".py",
   "mimetype": "text/x-python",
   "name": "python",
   "nbconvert_exporter": "python",
   "pygments_lexer": "ipython3",
   "version": "3.12.6"
  }
 },
 "nbformat": 4,
 "nbformat_minor": 4
}
